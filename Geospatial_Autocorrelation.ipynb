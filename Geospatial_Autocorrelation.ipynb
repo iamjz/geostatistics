{
 "cells": [
  {
   "cell_type": "markdown",
   "metadata": {},
   "source": [
    "# Global Measures of Spatial Autocorrelation\n",
    "\n",
    "a) examination of spatial distributions\n",
    "\n",
    "b) clustered vs random patterns\n",
    "\n",
    "c) test for global autocorrelation\n",
    "\n",
    "d) diagnostics for spatial autocorrelation"
   ]
  },
  {
   "cell_type": "markdown",
   "metadata": {},
   "source": [
    "## Spatially Autocorrelated Events\n",
    "\n",
    "We'll be examining the spatial processes that may involve dependencies among the analysis areas. Such dependencies are often termed spatial autocorrelation. Tests for global autocorrelation typically involve evaluating whether or not a process is random distributed over a region. While many individual geographic features may be examined in this respect, global test produce a single measure for a study area that can be used to help reason about the extent to which spatial autocorrelation may or may not be a factor. "
   ]
  },
  {
   "cell_type": "code",
   "execution_count": 1,
   "metadata": {},
   "outputs": [
    {
     "name": "stderr",
     "output_type": "stream",
     "text": [
      "Warning message:\n",
      "\"package 'rgdal' was built under R version 3.4.2\"Warning message:\n",
      "\"package 'sp' was built under R version 3.4.2\"Warning message:\n",
      "\"package 'spdep' was built under R version 3.4.2\"Warning message:\n",
      "\"package 'classInt' was built under R version 3.4.2\""
     ]
    }
   ],
   "source": [
    "# Load relevant R packages\n",
    "inLibraries = list('repr','rgdal','spdep','classInt')\n",
    "for (rpack in inLibraries) {\n",
    "  if (is.element(rpack,installed.packages()[,1])){           \n",
    "      #Load the library into R\n",
    "      suppressMessages(library(rpack,character.only = TRUE))      \n",
    "    }\n",
    "    else {\n",
    "        print(paste(\"Warning:  \",rpack,\" is not an installed package\"))\n",
    "    }\n",
    "}\n",
    "#resize plot area\n",
    "options(repr.plot.width=6, repr.plot.height=6)"
   ]
  },
  {
   "cell_type": "code",
   "execution_count": 2,
   "metadata": {},
   "outputs": [
    {
     "name": "stdout",
     "output_type": "stream",
     "text": [
      "OGR data source with driver: ESRI Shapefile \n",
      "Source: \"datasets/washington\", layer: \"WAfn\"\n",
      "with 900 features\n",
      "It has 6 fields\n"
     ]
    }
   ],
   "source": [
    "#Read in the featureclass\n",
    "inFeatures <- readOGR(\"datasets/washington\",\"WAfn\")"
   ]
  },
  {
   "cell_type": "code",
   "execution_count": 3,
   "metadata": {},
   "outputs": [
    {
     "data": {
      "text/html": [
       "<table>\n",
       "<thead><tr><th></th><th scope=col>Id</th><th scope=col>ConfigA</th><th scope=col>ConfigB</th><th scope=col>ConfigC</th><th scope=col>ConfigD</th><th scope=col>ConfigE</th></tr></thead>\n",
       "<tbody>\n",
       "\t<tr><th scope=row>0</th><td>0 </td><td>75</td><td>70</td><td>28</td><td>43</td><td>92</td></tr>\n",
       "\t<tr><th scope=row>1</th><td>0 </td><td>54</td><td>59</td><td>26</td><td>40</td><td>21</td></tr>\n",
       "\t<tr><th scope=row>2</th><td>0 </td><td>85</td><td>17</td><td>99</td><td>66</td><td>24</td></tr>\n",
       "\t<tr><th scope=row>3</th><td>0 </td><td>76</td><td>70</td><td>94</td><td>96</td><td>37</td></tr>\n",
       "\t<tr><th scope=row>4</th><td>0 </td><td>32</td><td>99</td><td>93</td><td>38</td><td>97</td></tr>\n",
       "\t<tr><th scope=row>5</th><td>0 </td><td>96</td><td> 8</td><td> 2</td><td>93</td><td>27</td></tr>\n",
       "</tbody>\n",
       "</table>\n"
      ],
      "text/latex": [
       "\\begin{tabular}{r|llllll}\n",
       "  & Id & ConfigA & ConfigB & ConfigC & ConfigD & ConfigE\\\\\n",
       "\\hline\n",
       "\t0 & 0  & 75 & 70 & 28 & 43 & 92\\\\\n",
       "\t1 & 0  & 54 & 59 & 26 & 40 & 21\\\\\n",
       "\t2 & 0  & 85 & 17 & 99 & 66 & 24\\\\\n",
       "\t3 & 0  & 76 & 70 & 94 & 96 & 37\\\\\n",
       "\t4 & 0  & 32 & 99 & 93 & 38 & 97\\\\\n",
       "\t5 & 0  & 96 &  8 &  2 & 93 & 27\\\\\n",
       "\\end{tabular}\n"
      ],
      "text/markdown": [
       "\n",
       "| <!--/--> | Id | ConfigA | ConfigB | ConfigC | ConfigD | ConfigE | \n",
       "|---|---|---|---|---|---|\n",
       "| 0 | 0  | 75 | 70 | 28 | 43 | 92 | \n",
       "| 1 | 0  | 54 | 59 | 26 | 40 | 21 | \n",
       "| 2 | 0  | 85 | 17 | 99 | 66 | 24 | \n",
       "| 3 | 0  | 76 | 70 | 94 | 96 | 37 | \n",
       "| 4 | 0  | 32 | 99 | 93 | 38 | 97 | \n",
       "| 5 | 0  | 96 |  8 |  2 | 93 | 27 | \n",
       "\n",
       "\n"
      ],
      "text/plain": [
       "  Id ConfigA ConfigB ConfigC ConfigD ConfigE\n",
       "0 0  75      70      28      43      92     \n",
       "1 0  54      59      26      40      21     \n",
       "2 0  85      17      99      66      24     \n",
       "3 0  76      70      94      96      37     \n",
       "4 0  32      99      93      38      97     \n",
       "5 0  96       8       2      93      27     "
      ]
     },
     "metadata": {},
     "output_type": "display_data"
    }
   ],
   "source": [
    "peek <- head(inFeatures@data)\n",
    "peek"
   ]
  },
  {
   "cell_type": "markdown",
   "metadata": {},
   "source": [
    "### Visualize the polygon geography\n",
    "\n",
    "As you can see, this is simply a regularly spaced set of square polygons."
   ]
  },
  {
   "cell_type": "code",
   "execution_count": 4,
   "metadata": {},
   "outputs": [
    {
     "data": {
      "image/png": "[encoded data removed]",
      "text/plain": [
       "Plot with title \"Polygon Data\""
      ]
     },
     "metadata": {},
     "output_type": "display_data"
    }
   ],
   "source": [
    "#plot the polygon data\n",
    "plot(inFeatures, col = 'lightblue', lwd = 0.2, \n",
    "                 main = \"Polygon Data\", cex.main = 0.8)"
   ]
  },
  {
   "cell_type": "markdown",
   "metadata": {},
   "source": [
    "## Feature Attribute to Analyze\n",
    "\n",
    "In most assessments of spatial autocorrelation, some attribute of each feature is compared relative to that of it's neighbors. Therefore, let's select an attribute to analyze. Here, five different distributions of the same attribute (it's a made up attibute"
   ]
  },
  {
   "cell_type": "code",
   "execution_count": 5,
   "metadata": {},
   "outputs": [
    {
     "data": {
      "text/html": [
       "<table>\n",
       "<thead><tr><th></th><th scope=col>Id</th><th scope=col>ConfigA</th><th scope=col>ConfigB</th><th scope=col>ConfigC</th><th scope=col>ConfigD</th><th scope=col>ConfigE</th></tr></thead>\n",
       "<tbody>\n",
       "\t<tr><th scope=row>0</th><td>0 </td><td>75</td><td>70</td><td>28</td><td>43</td><td>92</td></tr>\n",
       "\t<tr><th scope=row>1</th><td>0 </td><td>54</td><td>59</td><td>26</td><td>40</td><td>21</td></tr>\n",
       "\t<tr><th scope=row>2</th><td>0 </td><td>85</td><td>17</td><td>99</td><td>66</td><td>24</td></tr>\n",
       "\t<tr><th scope=row>3</th><td>0 </td><td>76</td><td>70</td><td>94</td><td>96</td><td>37</td></tr>\n",
       "\t<tr><th scope=row>4</th><td>0 </td><td>32</td><td>99</td><td>93</td><td>38</td><td>97</td></tr>\n",
       "\t<tr><th scope=row>5</th><td>0 </td><td>96</td><td> 8</td><td> 2</td><td>93</td><td>27</td></tr>\n",
       "</tbody>\n",
       "</table>\n"
      ],
      "text/latex": [
       "\\begin{tabular}{r|llllll}\n",
       "  & Id & ConfigA & ConfigB & ConfigC & ConfigD & ConfigE\\\\\n",
       "\\hline\n",
       "\t0 & 0  & 75 & 70 & 28 & 43 & 92\\\\\n",
       "\t1 & 0  & 54 & 59 & 26 & 40 & 21\\\\\n",
       "\t2 & 0  & 85 & 17 & 99 & 66 & 24\\\\\n",
       "\t3 & 0  & 76 & 70 & 94 & 96 & 37\\\\\n",
       "\t4 & 0  & 32 & 99 & 93 & 38 & 97\\\\\n",
       "\t5 & 0  & 96 &  8 &  2 & 93 & 27\\\\\n",
       "\\end{tabular}\n"
      ],
      "text/markdown": [
       "\n",
       "| <!--/--> | Id | ConfigA | ConfigB | ConfigC | ConfigD | ConfigE | \n",
       "|---|---|---|---|---|---|\n",
       "| 0 | 0  | 75 | 70 | 28 | 43 | 92 | \n",
       "| 1 | 0  | 54 | 59 | 26 | 40 | 21 | \n",
       "| 2 | 0  | 85 | 17 | 99 | 66 | 24 | \n",
       "| 3 | 0  | 76 | 70 | 94 | 96 | 37 | \n",
       "| 4 | 0  | 32 | 99 | 93 | 38 | 97 | \n",
       "| 5 | 0  | 96 |  8 |  2 | 93 | 27 | \n",
       "\n",
       "\n"
      ],
      "text/plain": [
       "  Id ConfigA ConfigB ConfigC ConfigD ConfigE\n",
       "0 0  75      70      28      43      92     \n",
       "1 0  54      59      26      40      21     \n",
       "2 0  85      17      99      66      24     \n",
       "3 0  76      70      94      96      37     \n",
       "4 0  32      99      93      38      97     \n",
       "5 0  96       8       2      93      27     "
      ]
     },
     "metadata": {},
     "output_type": "display_data"
    }
   ],
   "source": [
    "peek"
   ]
  },
  {
   "cell_type": "code",
   "execution_count": 6,
   "metadata": {
    "collapsed": true
   },
   "outputs": [],
   "source": [
    "#retrieve variables\n",
    "inVa <- inFeatures$ConfigA\n",
    "inVb <- inFeatures$ConfigB\n",
    "inVc <- inFeatures$ConfigC\n",
    "inVd <- inFeatures$ConfigD\n",
    "inVe <- inFeatures$ConfigE"
   ]
  },
  {
   "cell_type": "markdown",
   "metadata": {},
   "source": [
    "## Map the Different Configurations\n",
    "\n",
    "In the 5 configurations outlined below, the data have been classified to highlight intentional clusters of high/low values in some instances."
   ]
  },
  {
   "cell_type": "markdown",
   "metadata": {},
   "source": [
    "## Configuration A"
   ]
  },
  {
   "cell_type": "code",
   "execution_count": 7,
   "metadata": {},
   "outputs": [
    {
     "data": {
      "image/png": "[encoded data removed]",
      "text/plain": [
       "Plot with title \"Config. A\""
      ]
     },
     "metadata": {},
     "output_type": "display_data"
    }
   ],
   "source": [
    "#classify variable\n",
    "numcat <- 5\n",
    "\n",
    "z <- classIntervals(inVa, n = numcat, style = \"fixed\",\n",
    "                        fixedBreaks = c(0, 1.1, 40, 70, 99.5, 100))\n",
    "\n",
    "pal <- c(\"white\", \"lightgray\", \"gray\", \"darkgray\", \"black\")\n",
    "\n",
    "cols <- findColours(z, pal)\n",
    "\n",
    "#plot variable    \n",
    "plot(inFeatures, col = cols, lwd = 0.2, \n",
    "         main = \"Config. A\", cex.main = 0.8)\n",
    "\n",
    "brks <- round(z$brks,3)\n",
    "\n",
    "leg.text <- paste(brks[-numcat], brks[-1], sep=\" - \")\n",
    "\n",
    "legend(\"bottomleft\", fill = attr(cols,\"palette\"), legend = leg.text,\n",
    "                   bty = \"n\", title = \"Value\", cex = 0.7)"
   ]
  },
  {
   "cell_type": "markdown",
   "metadata": {},
   "source": [
    "## Configuration B"
   ]
  },
  {
   "cell_type": "code",
   "execution_count": 8,
   "metadata": {},
   "outputs": [
    {
     "data": {
      "image/png": "[encoded data removed]",
      "text/plain": [
       "Plot with title \"Config. B\""
      ]
     },
     "metadata": {},
     "output_type": "display_data"
    }
   ],
   "source": [
    "#classify variable\n",
    "numcat <- 5\n",
    "\n",
    "z <- classIntervals(inVb, n = numcat, style = \"fixed\",\n",
    "                        fixedBreaks = c(0,1.1,40,70,99.5,100))\n",
    "\n",
    "pal <- c(\"white\",\"lightgray\",\"gray\",\"darkgray\",\"black\")\n",
    "\n",
    "cols <- findColours(z, pal)\n",
    "\n",
    "#plot variable\n",
    "plot(inFeatures, col = cols, lwd = 0.2, main = \"Config. B\", cex.main = 0.8)\n",
    "\n",
    "brks <- round(z$brks,3)\n",
    "\n",
    "leg.text <- paste(brks[-numcat], brks[-1], sep=\" - \")\n",
    "\n",
    "legend(\"bottomleft\", fill = attr(cols,\"palette\"),\n",
    "           legend = leg.text, bty = \"n\", title = \"Value\", cex = 0.7)"
   ]
  },
  {
   "cell_type": "markdown",
   "metadata": {},
   "source": [
    "## Configuration C"
   ]
  },
  {
   "cell_type": "code",
   "execution_count": 9,
   "metadata": {},
   "outputs": [
    {
     "data": {
      "image/png": "[encoded data removed]",
      "text/plain": [
       "Plot with title \"Config. C\""
      ]
     },
     "metadata": {},
     "output_type": "display_data"
    }
   ],
   "source": [
    "#classify variable\n",
    "numcat <- 5\n",
    "\n",
    "z <- classIntervals(inVc, n = numcat, style = \"fixed\",\n",
    "                        fixedBreaks = c(0,1.1,40,70,99.5,100))\n",
    "    \n",
    "pal <- c(\"white\",\"lightgray\",\"gray\",\"darkgray\",\"black\")\n",
    "\n",
    "cols <- findColours(z, pal)\n",
    "\n",
    "#plot variable\n",
    "plot(inFeatures, col = cols, lwd = 0.2, main = \"Config. C\", cex.main = 0.8)\n",
    "\n",
    "brks <- round(z$brks,3)\n",
    "\n",
    "leg.text <- paste(brks[-numcat], brks[-1], sep=\" - \")\n",
    "\n",
    "legend(\"bottomleft\",fill=attr(cols,\"palette\"),\n",
    "           legend=leg.text,bty=\"n\",title=\"Value\",cex=.7)"
   ]
  },
  {
   "cell_type": "markdown",
   "metadata": {},
   "source": [
    "## Configuration D"
   ]
  },
  {
   "cell_type": "code",
   "execution_count": 10,
   "metadata": {},
   "outputs": [
    {
     "data": {
      "image/png": "[encoded data removed]",
      "text/plain": [
       "Plot with title \"Config. D\""
      ]
     },
     "metadata": {},
     "output_type": "display_data"
    }
   ],
   "source": [
    "#classify variable\n",
    "numcat <- 5\n",
    "\n",
    "z <- classIntervals(inVd,n=numcat, style=\"fixed\",\n",
    "                        fixedBreaks=c(0,1.1,30,50,80,100))\n",
    "\n",
    "pal <- c(\"white\",\"lightgray\",\"gray\",\"darkgray\",\"black\")\n",
    "\n",
    "cols <- findColours(z, pal)\n",
    "\n",
    "#plot variable\n",
    "plot(inFeatures,col=cols, lwd=.2,main=\"Config. D\",cex.main=.8)\n",
    "\n",
    "brks <- round(z$brks,3)\n",
    "\n",
    "leg.text <- paste(brks[-numcat], brks[-1], sep=\" - \")\n",
    "\n",
    "legend(\"bottomleft\",fill=attr(cols,\"palette\"),\n",
    "       legend=leg.text,bty=\"n\",title=\"Value\",cex=.7)"
   ]
  },
  {
   "cell_type": "markdown",
   "metadata": {},
   "source": [
    "## Configuration E"
   ]
  },
  {
   "cell_type": "code",
   "execution_count": 11,
   "metadata": {},
   "outputs": [
    {
     "data": {
      "image/png": "[encoded data removed]",
      "text/plain": [
       "Plot with title \"Config. E\""
      ]
     },
     "metadata": {},
     "output_type": "display_data"
    }
   ],
   "source": [
    "#classify variable\n",
    "numcat <- 5\n",
    "\n",
    "z <- classIntervals(inVe,n=numcat, style=\"fixed\",\n",
    "                        fixedBreaks=c(0,1.1,40,70,99.5,100))\n",
    "\n",
    "pal <- c(\"white\",\"lightgray\",\"gray\",\"darkgray\",\"black\")\n",
    "\n",
    "cols <- findColours(z, pal)\n",
    "\n",
    "#plot variable    \n",
    "plot(inFeatures,col=cols, lwd=.2, main=\"Config. E\",cex.main=.8)\n",
    "\n",
    "brks <- round(z$brks,3)\n",
    "\n",
    "leg.text <- paste(brks[-numcat], brks[-1], sep=\" - \")\n",
    "\n",
    "legend(\"bottomleft\",fill = attr(cols,\"palette\"),\n",
    "               legend=leg.text,bty=\"n\",title=\"Value\",cex=.7)"
   ]
  },
  {
   "cell_type": "markdown",
   "metadata": {},
   "source": [
    "## Test for Global Spatial Autocorrelation\n",
    "\n",
    "While some of the configurations outlined above do contain some clear instances of spatial autocorrelation given how the data values were classified, others are less clear. To test whether or not the distribution of values in this region are significantly different from what would be observed if they were randomly distributed, a global test for autocorrelation can be applied. In other words, given the relationships among all features in the region, a single summary metric can be produced to test the null hypothesis that the variable of interest is randomly distributed among the set of features being analyzed. "
   ]
  },
  {
   "cell_type": "markdown",
   "metadata": {},
   "source": [
    "### Moran's I\n",
    "\n",
    "Several global test statistics will be covered in the practices, but here, let's examine what is known as the global Moran test. If the p-value of the test indicates the test is significant, the null hypothesis can be rejected.  The value of Moran's I ranges [-1,1] with 0.0 indicating no spatial autocorrelation. A value greater than 0.0 would indicate presence of positive spatial autocorrelation. The moran.test() function (spdep library) can be applied to compute the global Moran's I statistic. The moran.test() function can be populated with a variety of arguments... \n",
    "\n",
    "moran.test(x, listw, randomisation=TRUE, zero.policy=NULL,alternative=\"greater\", rank = FALSE, na.action=na.fail, spChk=NULL, adjust.n=TRUE)\n",
    "\n",
    "The first argument 'x' is the name of the analysis variable which we computed earlier. The second argument is the list of neighborhood weights.  Let's generate those next.\n",
    "\n",
    "Check the spdep documentation for the interpretation of other inputs."
   ]
  },
  {
   "cell_type": "markdown",
   "metadata": {},
   "source": [
    "### Defining Neighborhoods\n",
    "\n",
    "The first step is to define neighborhoods for each feature (square areas in this case). Remember, one way to accomplish this for polygon data is to use the poly2nb() function (spdep library). In this case, let's consider the Queens's criterion for adjacency."
   ]
  },
  {
   "cell_type": "code",
   "execution_count": 12,
   "metadata": {
    "collapsed": true
   },
   "outputs": [],
   "source": [
    "#Identify the neighbors of each feature\n",
    "inFeatures.nb <- poly2nb(inFeatures, queen = TRUE)"
   ]
  },
  {
   "cell_type": "code",
   "execution_count": 13,
   "metadata": {},
   "outputs": [
    {
     "data": {
      "text/html": [
       "<ol>\n",
       "\t<li><ol class=list-inline>\n",
       "\t<li>2</li>\n",
       "\t<li>31</li>\n",
       "\t<li>32</li>\n",
       "</ol>\n",
       "</li>\n",
       "\t<li><ol class=list-inline>\n",
       "\t<li>1</li>\n",
       "\t<li>3</li>\n",
       "\t<li>31</li>\n",
       "\t<li>32</li>\n",
       "\t<li>33</li>\n",
       "</ol>\n",
       "</li>\n",
       "\t<li><ol class=list-inline>\n",
       "\t<li>2</li>\n",
       "\t<li>4</li>\n",
       "\t<li>32</li>\n",
       "\t<li>33</li>\n",
       "\t<li>34</li>\n",
       "</ol>\n",
       "</li>\n",
       "\t<li><ol class=list-inline>\n",
       "\t<li>3</li>\n",
       "\t<li>5</li>\n",
       "\t<li>33</li>\n",
       "\t<li>34</li>\n",
       "\t<li>35</li>\n",
       "</ol>\n",
       "</li>\n",
       "\t<li><ol class=list-inline>\n",
       "\t<li>4</li>\n",
       "\t<li>6</li>\n",
       "\t<li>34</li>\n",
       "\t<li>35</li>\n",
       "\t<li>36</li>\n",
       "</ol>\n",
       "</li>\n",
       "\t<li><ol class=list-inline>\n",
       "\t<li>5</li>\n",
       "\t<li>7</li>\n",
       "\t<li>35</li>\n",
       "\t<li>36</li>\n",
       "\t<li>37</li>\n",
       "</ol>\n",
       "</li>\n",
       "\t<li><ol class=list-inline>\n",
       "\t<li>6</li>\n",
       "\t<li>8</li>\n",
       "\t<li>36</li>\n",
       "\t<li>37</li>\n",
       "\t<li>38</li>\n",
       "</ol>\n",
       "</li>\n",
       "\t<li><ol class=list-inline>\n",
       "\t<li>7</li>\n",
       "\t<li>9</li>\n",
       "\t<li>37</li>\n",
       "\t<li>38</li>\n",
       "\t<li>39</li>\n",
       "</ol>\n",
       "</li>\n",
       "\t<li><ol class=list-inline>\n",
       "\t<li>8</li>\n",
       "\t<li>10</li>\n",
       "\t<li>38</li>\n",
       "\t<li>39</li>\n",
       "\t<li>40</li>\n",
       "</ol>\n",
       "</li>\n",
       "\t<li><ol class=list-inline>\n",
       "\t<li>9</li>\n",
       "\t<li>11</li>\n",
       "\t<li>39</li>\n",
       "\t<li>40</li>\n",
       "\t<li>41</li>\n",
       "</ol>\n",
       "</li>\n",
       "</ol>\n"
      ],
      "text/latex": [
       "\\begin{enumerate}\n",
       "\\item \\begin{enumerate*}\n",
       "\\item 2\n",
       "\\item 31\n",
       "\\item 32\n",
       "\\end{enumerate*}\n",
       "\n",
       "\\item \\begin{enumerate*}\n",
       "\\item 1\n",
       "\\item 3\n",
       "\\item 31\n",
       "\\item 32\n",
       "\\item 33\n",
       "\\end{enumerate*}\n",
       "\n",
       "\\item \\begin{enumerate*}\n",
       "\\item 2\n",
       "\\item 4\n",
       "\\item 32\n",
       "\\item 33\n",
       "\\item 34\n",
       "\\end{enumerate*}\n",
       "\n",
       "\\item \\begin{enumerate*}\n",
       "\\item 3\n",
       "\\item 5\n",
       "\\item 33\n",
       "\\item 34\n",
       "\\item 35\n",
       "\\end{enumerate*}\n",
       "\n",
       "\\item \\begin{enumerate*}\n",
       "\\item 4\n",
       "\\item 6\n",
       "\\item 34\n",
       "\\item 35\n",
       "\\item 36\n",
       "\\end{enumerate*}\n",
       "\n",
       "\\item \\begin{enumerate*}\n",
       "\\item 5\n",
       "\\item 7\n",
       "\\item 35\n",
       "\\item 36\n",
       "\\item 37\n",
       "\\end{enumerate*}\n",
       "\n",
       "\\item \\begin{enumerate*}\n",
       "\\item 6\n",
       "\\item 8\n",
       "\\item 36\n",
       "\\item 37\n",
       "\\item 38\n",
       "\\end{enumerate*}\n",
       "\n",
       "\\item \\begin{enumerate*}\n",
       "\\item 7\n",
       "\\item 9\n",
       "\\item 37\n",
       "\\item 38\n",
       "\\item 39\n",
       "\\end{enumerate*}\n",
       "\n",
       "\\item \\begin{enumerate*}\n",
       "\\item 8\n",
       "\\item 10\n",
       "\\item 38\n",
       "\\item 39\n",
       "\\item 40\n",
       "\\end{enumerate*}\n",
       "\n",
       "\\item \\begin{enumerate*}\n",
       "\\item 9\n",
       "\\item 11\n",
       "\\item 39\n",
       "\\item 40\n",
       "\\item 41\n",
       "\\end{enumerate*}\n",
       "\n",
       "\\end{enumerate}\n"
      ],
      "text/markdown": [
       "1. 1. 2\n",
       "2. 31\n",
       "3. 32\n",
       "\n",
       "\n",
       "\n",
       "2. 1. 1\n",
       "2. 3\n",
       "3. 31\n",
       "4. 32\n",
       "5. 33\n",
       "\n",
       "\n",
       "\n",
       "3. 1. 2\n",
       "2. 4\n",
       "3. 32\n",
       "4. 33\n",
       "5. 34\n",
       "\n",
       "\n",
       "\n",
       "4. 1. 3\n",
       "2. 5\n",
       "3. 33\n",
       "4. 34\n",
       "5. 35\n",
       "\n",
       "\n",
       "\n",
       "5. 1. 4\n",
       "2. 6\n",
       "3. 34\n",
       "4. 35\n",
       "5. 36\n",
       "\n",
       "\n",
       "\n",
       "6. 1. 5\n",
       "2. 7\n",
       "3. 35\n",
       "4. 36\n",
       "5. 37\n",
       "\n",
       "\n",
       "\n",
       "7. 1. 6\n",
       "2. 8\n",
       "3. 36\n",
       "4. 37\n",
       "5. 38\n",
       "\n",
       "\n",
       "\n",
       "8. 1. 7\n",
       "2. 9\n",
       "3. 37\n",
       "4. 38\n",
       "5. 39\n",
       "\n",
       "\n",
       "\n",
       "9. 1. 8\n",
       "2. 10\n",
       "3. 38\n",
       "4. 39\n",
       "5. 40\n",
       "\n",
       "\n",
       "\n",
       "10. 1. 9\n",
       "2. 11\n",
       "3. 39\n",
       "4. 40\n",
       "5. 41\n",
       "\n",
       "\n",
       "\n",
       "\n",
       "\n"
      ],
      "text/plain": [
       "[[1]]\n",
       "[1]  2 31 32\n",
       "\n",
       "[[2]]\n",
       "[1]  1  3 31 32 33\n",
       "\n",
       "[[3]]\n",
       "[1]  2  4 32 33 34\n",
       "\n",
       "[[4]]\n",
       "[1]  3  5 33 34 35\n",
       "\n",
       "[[5]]\n",
       "[1]  4  6 34 35 36\n",
       "\n",
       "[[6]]\n",
       "[1]  5  7 35 36 37\n",
       "\n",
       "[[7]]\n",
       "[1]  6  8 36 37 38\n",
       "\n",
       "[[8]]\n",
       "[1]  7  9 37 38 39\n",
       "\n",
       "[[9]]\n",
       "[1]  8 10 38 39 40\n",
       "\n",
       "[[10]]\n",
       "[1]  9 11 39 40 41\n"
      ]
     },
     "metadata": {},
     "output_type": "display_data"
    }
   ],
   "source": [
    "inFeatures.nb[1:10]"
   ]
  },
  {
   "cell_type": "code",
   "execution_count": 14,
   "metadata": {
    "collapsed": true
   },
   "outputs": [],
   "source": [
    "#Retrieve neighborhood list\n",
    "inFeatures.listb <- nb2listw(inFeatures.nb,style=\"B\")\n",
    "inFeatures.listw <- nb2listw(inFeatures.nb,style=\"W\")"
   ]
  },
  {
   "cell_type": "code",
   "execution_count": 15,
   "metadata": {},
   "outputs": [
    {
     "data": {
      "text/html": [
       "<ol class=list-inline>\n",
       "\t<li>'style'</li>\n",
       "\t<li>'neighbours'</li>\n",
       "\t<li>'weights'</li>\n",
       "</ol>\n"
      ],
      "text/latex": [
       "\\begin{enumerate*}\n",
       "\\item 'style'\n",
       "\\item 'neighbours'\n",
       "\\item 'weights'\n",
       "\\end{enumerate*}\n"
      ],
      "text/markdown": [
       "1. 'style'\n",
       "2. 'neighbours'\n",
       "3. 'weights'\n",
       "\n",
       "\n"
      ],
      "text/plain": [
       "[1] \"style\"      \"neighbours\" \"weights\"   "
      ]
     },
     "metadata": {},
     "output_type": "display_data"
    }
   ],
   "source": [
    "names(inFeatures.listb)"
   ]
  },
  {
   "cell_type": "code",
   "execution_count": 16,
   "metadata": {},
   "outputs": [
    {
     "data": {
      "text/html": [
       "<ol>\n",
       "\t<li><ol class=list-inline>\n",
       "\t<li>1</li>\n",
       "\t<li>1</li>\n",
       "\t<li>1</li>\n",
       "</ol>\n",
       "</li>\n",
       "\t<li><ol class=list-inline>\n",
       "\t<li>1</li>\n",
       "\t<li>1</li>\n",
       "\t<li>1</li>\n",
       "\t<li>1</li>\n",
       "\t<li>1</li>\n",
       "</ol>\n",
       "</li>\n",
       "\t<li><ol class=list-inline>\n",
       "\t<li>1</li>\n",
       "\t<li>1</li>\n",
       "\t<li>1</li>\n",
       "\t<li>1</li>\n",
       "\t<li>1</li>\n",
       "</ol>\n",
       "</li>\n",
       "\t<li><ol class=list-inline>\n",
       "\t<li>1</li>\n",
       "\t<li>1</li>\n",
       "\t<li>1</li>\n",
       "\t<li>1</li>\n",
       "\t<li>1</li>\n",
       "</ol>\n",
       "</li>\n",
       "\t<li><ol class=list-inline>\n",
       "\t<li>1</li>\n",
       "\t<li>1</li>\n",
       "\t<li>1</li>\n",
       "\t<li>1</li>\n",
       "\t<li>1</li>\n",
       "</ol>\n",
       "</li>\n",
       "\t<li><ol class=list-inline>\n",
       "\t<li>1</li>\n",
       "\t<li>1</li>\n",
       "\t<li>1</li>\n",
       "\t<li>1</li>\n",
       "\t<li>1</li>\n",
       "</ol>\n",
       "</li>\n",
       "\t<li><ol class=list-inline>\n",
       "\t<li>1</li>\n",
       "\t<li>1</li>\n",
       "\t<li>1</li>\n",
       "\t<li>1</li>\n",
       "\t<li>1</li>\n",
       "</ol>\n",
       "</li>\n",
       "\t<li><ol class=list-inline>\n",
       "\t<li>1</li>\n",
       "\t<li>1</li>\n",
       "\t<li>1</li>\n",
       "\t<li>1</li>\n",
       "\t<li>1</li>\n",
       "</ol>\n",
       "</li>\n",
       "\t<li><ol class=list-inline>\n",
       "\t<li>1</li>\n",
       "\t<li>1</li>\n",
       "\t<li>1</li>\n",
       "\t<li>1</li>\n",
       "\t<li>1</li>\n",
       "</ol>\n",
       "</li>\n",
       "\t<li><ol class=list-inline>\n",
       "\t<li>1</li>\n",
       "\t<li>1</li>\n",
       "\t<li>1</li>\n",
       "\t<li>1</li>\n",
       "\t<li>1</li>\n",
       "</ol>\n",
       "</li>\n",
       "</ol>\n"
      ],
      "text/latex": [
       "\\begin{enumerate}\n",
       "\\item \\begin{enumerate*}\n",
       "\\item 1\n",
       "\\item 1\n",
       "\\item 1\n",
       "\\end{enumerate*}\n",
       "\n",
       "\\item \\begin{enumerate*}\n",
       "\\item 1\n",
       "\\item 1\n",
       "\\item 1\n",
       "\\item 1\n",
       "\\item 1\n",
       "\\end{enumerate*}\n",
       "\n",
       "\\item \\begin{enumerate*}\n",
       "\\item 1\n",
       "\\item 1\n",
       "\\item 1\n",
       "\\item 1\n",
       "\\item 1\n",
       "\\end{enumerate*}\n",
       "\n",
       "\\item \\begin{enumerate*}\n",
       "\\item 1\n",
       "\\item 1\n",
       "\\item 1\n",
       "\\item 1\n",
       "\\item 1\n",
       "\\end{enumerate*}\n",
       "\n",
       "\\item \\begin{enumerate*}\n",
       "\\item 1\n",
       "\\item 1\n",
       "\\item 1\n",
       "\\item 1\n",
       "\\item 1\n",
       "\\end{enumerate*}\n",
       "\n",
       "\\item \\begin{enumerate*}\n",
       "\\item 1\n",
       "\\item 1\n",
       "\\item 1\n",
       "\\item 1\n",
       "\\item 1\n",
       "\\end{enumerate*}\n",
       "\n",
       "\\item \\begin{enumerate*}\n",
       "\\item 1\n",
       "\\item 1\n",
       "\\item 1\n",
       "\\item 1\n",
       "\\item 1\n",
       "\\end{enumerate*}\n",
       "\n",
       "\\item \\begin{enumerate*}\n",
       "\\item 1\n",
       "\\item 1\n",
       "\\item 1\n",
       "\\item 1\n",
       "\\item 1\n",
       "\\end{enumerate*}\n",
       "\n",
       "\\item \\begin{enumerate*}\n",
       "\\item 1\n",
       "\\item 1\n",
       "\\item 1\n",
       "\\item 1\n",
       "\\item 1\n",
       "\\end{enumerate*}\n",
       "\n",
       "\\item \\begin{enumerate*}\n",
       "\\item 1\n",
       "\\item 1\n",
       "\\item 1\n",
       "\\item 1\n",
       "\\item 1\n",
       "\\end{enumerate*}\n",
       "\n",
       "\\end{enumerate}\n"
      ],
      "text/markdown": [
       "1. 1. 1\n",
       "2. 1\n",
       "3. 1\n",
       "\n",
       "\n",
       "\n",
       "2. 1. 1\n",
       "2. 1\n",
       "3. 1\n",
       "4. 1\n",
       "5. 1\n",
       "\n",
       "\n",
       "\n",
       "3. 1. 1\n",
       "2. 1\n",
       "3. 1\n",
       "4. 1\n",
       "5. 1\n",
       "\n",
       "\n",
       "\n",
       "4. 1. 1\n",
       "2. 1\n",
       "3. 1\n",
       "4. 1\n",
       "5. 1\n",
       "\n",
       "\n",
       "\n",
       "5. 1. 1\n",
       "2. 1\n",
       "3. 1\n",
       "4. 1\n",
       "5. 1\n",
       "\n",
       "\n",
       "\n",
       "6. 1. 1\n",
       "2. 1\n",
       "3. 1\n",
       "4. 1\n",
       "5. 1\n",
       "\n",
       "\n",
       "\n",
       "7. 1. 1\n",
       "2. 1\n",
       "3. 1\n",
       "4. 1\n",
       "5. 1\n",
       "\n",
       "\n",
       "\n",
       "8. 1. 1\n",
       "2. 1\n",
       "3. 1\n",
       "4. 1\n",
       "5. 1\n",
       "\n",
       "\n",
       "\n",
       "9. 1. 1\n",
       "2. 1\n",
       "3. 1\n",
       "4. 1\n",
       "5. 1\n",
       "\n",
       "\n",
       "\n",
       "10. 1. 1\n",
       "2. 1\n",
       "3. 1\n",
       "4. 1\n",
       "5. 1\n",
       "\n",
       "\n",
       "\n",
       "\n",
       "\n"
      ],
      "text/plain": [
       "[[1]]\n",
       "[1] 1 1 1\n",
       "\n",
       "[[2]]\n",
       "[1] 1 1 1 1 1\n",
       "\n",
       "[[3]]\n",
       "[1] 1 1 1 1 1\n",
       "\n",
       "[[4]]\n",
       "[1] 1 1 1 1 1\n",
       "\n",
       "[[5]]\n",
       "[1] 1 1 1 1 1\n",
       "\n",
       "[[6]]\n",
       "[1] 1 1 1 1 1\n",
       "\n",
       "[[7]]\n",
       "[1] 1 1 1 1 1\n",
       "\n",
       "[[8]]\n",
       "[1] 1 1 1 1 1\n",
       "\n",
       "[[9]]\n",
       "[1] 1 1 1 1 1\n",
       "\n",
       "[[10]]\n",
       "[1] 1 1 1 1 1\n"
      ]
     },
     "metadata": {},
     "output_type": "display_data"
    }
   ],
   "source": [
    "inFeatures.listb$weights[1:10]"
   ]
  },
  {
   "cell_type": "code",
   "execution_count": 17,
   "metadata": {},
   "outputs": [
    {
     "data": {
      "text/html": [
       "<ol>\n",
       "\t<li><ol class=list-inline>\n",
       "\t<li>0.333333333333333</li>\n",
       "\t<li>0.333333333333333</li>\n",
       "\t<li>0.333333333333333</li>\n",
       "</ol>\n",
       "</li>\n",
       "\t<li><ol class=list-inline>\n",
       "\t<li>0.2</li>\n",
       "\t<li>0.2</li>\n",
       "\t<li>0.2</li>\n",
       "\t<li>0.2</li>\n",
       "\t<li>0.2</li>\n",
       "</ol>\n",
       "</li>\n",
       "\t<li><ol class=list-inline>\n",
       "\t<li>0.2</li>\n",
       "\t<li>0.2</li>\n",
       "\t<li>0.2</li>\n",
       "\t<li>0.2</li>\n",
       "\t<li>0.2</li>\n",
       "</ol>\n",
       "</li>\n",
       "\t<li><ol class=list-inline>\n",
       "\t<li>0.2</li>\n",
       "\t<li>0.2</li>\n",
       "\t<li>0.2</li>\n",
       "\t<li>0.2</li>\n",
       "\t<li>0.2</li>\n",
       "</ol>\n",
       "</li>\n",
       "\t<li><ol class=list-inline>\n",
       "\t<li>0.2</li>\n",
       "\t<li>0.2</li>\n",
       "\t<li>0.2</li>\n",
       "\t<li>0.2</li>\n",
       "\t<li>0.2</li>\n",
       "</ol>\n",
       "</li>\n",
       "\t<li><ol class=list-inline>\n",
       "\t<li>0.2</li>\n",
       "\t<li>0.2</li>\n",
       "\t<li>0.2</li>\n",
       "\t<li>0.2</li>\n",
       "\t<li>0.2</li>\n",
       "</ol>\n",
       "</li>\n",
       "\t<li><ol class=list-inline>\n",
       "\t<li>0.2</li>\n",
       "\t<li>0.2</li>\n",
       "\t<li>0.2</li>\n",
       "\t<li>0.2</li>\n",
       "\t<li>0.2</li>\n",
       "</ol>\n",
       "</li>\n",
       "\t<li><ol class=list-inline>\n",
       "\t<li>0.2</li>\n",
       "\t<li>0.2</li>\n",
       "\t<li>0.2</li>\n",
       "\t<li>0.2</li>\n",
       "\t<li>0.2</li>\n",
       "</ol>\n",
       "</li>\n",
       "\t<li><ol class=list-inline>\n",
       "\t<li>0.2</li>\n",
       "\t<li>0.2</li>\n",
       "\t<li>0.2</li>\n",
       "\t<li>0.2</li>\n",
       "\t<li>0.2</li>\n",
       "</ol>\n",
       "</li>\n",
       "\t<li><ol class=list-inline>\n",
       "\t<li>0.2</li>\n",
       "\t<li>0.2</li>\n",
       "\t<li>0.2</li>\n",
       "\t<li>0.2</li>\n",
       "\t<li>0.2</li>\n",
       "</ol>\n",
       "</li>\n",
       "</ol>\n"
      ],
      "text/latex": [
       "\\begin{enumerate}\n",
       "\\item \\begin{enumerate*}\n",
       "\\item 0.333333333333333\n",
       "\\item 0.333333333333333\n",
       "\\item 0.333333333333333\n",
       "\\end{enumerate*}\n",
       "\n",
       "\\item \\begin{enumerate*}\n",
       "\\item 0.2\n",
       "\\item 0.2\n",
       "\\item 0.2\n",
       "\\item 0.2\n",
       "\\item 0.2\n",
       "\\end{enumerate*}\n",
       "\n",
       "\\item \\begin{enumerate*}\n",
       "\\item 0.2\n",
       "\\item 0.2\n",
       "\\item 0.2\n",
       "\\item 0.2\n",
       "\\item 0.2\n",
       "\\end{enumerate*}\n",
       "\n",
       "\\item \\begin{enumerate*}\n",
       "\\item 0.2\n",
       "\\item 0.2\n",
       "\\item 0.2\n",
       "\\item 0.2\n",
       "\\item 0.2\n",
       "\\end{enumerate*}\n",
       "\n",
       "\\item \\begin{enumerate*}\n",
       "\\item 0.2\n",
       "\\item 0.2\n",
       "\\item 0.2\n",
       "\\item 0.2\n",
       "\\item 0.2\n",
       "\\end{enumerate*}\n",
       "\n",
       "\\item \\begin{enumerate*}\n",
       "\\item 0.2\n",
       "\\item 0.2\n",
       "\\item 0.2\n",
       "\\item 0.2\n",
       "\\item 0.2\n",
       "\\end{enumerate*}\n",
       "\n",
       "\\item \\begin{enumerate*}\n",
       "\\item 0.2\n",
       "\\item 0.2\n",
       "\\item 0.2\n",
       "\\item 0.2\n",
       "\\item 0.2\n",
       "\\end{enumerate*}\n",
       "\n",
       "\\item \\begin{enumerate*}\n",
       "\\item 0.2\n",
       "\\item 0.2\n",
       "\\item 0.2\n",
       "\\item 0.2\n",
       "\\item 0.2\n",
       "\\end{enumerate*}\n",
       "\n",
       "\\item \\begin{enumerate*}\n",
       "\\item 0.2\n",
       "\\item 0.2\n",
       "\\item 0.2\n",
       "\\item 0.2\n",
       "\\item 0.2\n",
       "\\end{enumerate*}\n",
       "\n",
       "\\item \\begin{enumerate*}\n",
       "\\item 0.2\n",
       "\\item 0.2\n",
       "\\item 0.2\n",
       "\\item 0.2\n",
       "\\item 0.2\n",
       "\\end{enumerate*}\n",
       "\n",
       "\\end{enumerate}\n"
      ],
      "text/markdown": [
       "1. 1. 0.333333333333333\n",
       "2. 0.333333333333333\n",
       "3. 0.333333333333333\n",
       "\n",
       "\n",
       "\n",
       "2. 1. 0.2\n",
       "2. 0.2\n",
       "3. 0.2\n",
       "4. 0.2\n",
       "5. 0.2\n",
       "\n",
       "\n",
       "\n",
       "3. 1. 0.2\n",
       "2. 0.2\n",
       "3. 0.2\n",
       "4. 0.2\n",
       "5. 0.2\n",
       "\n",
       "\n",
       "\n",
       "4. 1. 0.2\n",
       "2. 0.2\n",
       "3. 0.2\n",
       "4. 0.2\n",
       "5. 0.2\n",
       "\n",
       "\n",
       "\n",
       "5. 1. 0.2\n",
       "2. 0.2\n",
       "3. 0.2\n",
       "4. 0.2\n",
       "5. 0.2\n",
       "\n",
       "\n",
       "\n",
       "6. 1. 0.2\n",
       "2. 0.2\n",
       "3. 0.2\n",
       "4. 0.2\n",
       "5. 0.2\n",
       "\n",
       "\n",
       "\n",
       "7. 1. 0.2\n",
       "2. 0.2\n",
       "3. 0.2\n",
       "4. 0.2\n",
       "5. 0.2\n",
       "\n",
       "\n",
       "\n",
       "8. 1. 0.2\n",
       "2. 0.2\n",
       "3. 0.2\n",
       "4. 0.2\n",
       "5. 0.2\n",
       "\n",
       "\n",
       "\n",
       "9. 1. 0.2\n",
       "2. 0.2\n",
       "3. 0.2\n",
       "4. 0.2\n",
       "5. 0.2\n",
       "\n",
       "\n",
       "\n",
       "10. 1. 0.2\n",
       "2. 0.2\n",
       "3. 0.2\n",
       "4. 0.2\n",
       "5. 0.2\n",
       "\n",
       "\n",
       "\n",
       "\n",
       "\n"
      ],
      "text/plain": [
       "[[1]]\n",
       "[1] 0.3333333 0.3333333 0.3333333\n",
       "\n",
       "[[2]]\n",
       "[1] 0.2 0.2 0.2 0.2 0.2\n",
       "\n",
       "[[3]]\n",
       "[1] 0.2 0.2 0.2 0.2 0.2\n",
       "\n",
       "[[4]]\n",
       "[1] 0.2 0.2 0.2 0.2 0.2\n",
       "\n",
       "[[5]]\n",
       "[1] 0.2 0.2 0.2 0.2 0.2\n",
       "\n",
       "[[6]]\n",
       "[1] 0.2 0.2 0.2 0.2 0.2\n",
       "\n",
       "[[7]]\n",
       "[1] 0.2 0.2 0.2 0.2 0.2\n",
       "\n",
       "[[8]]\n",
       "[1] 0.2 0.2 0.2 0.2 0.2\n",
       "\n",
       "[[9]]\n",
       "[1] 0.2 0.2 0.2 0.2 0.2\n",
       "\n",
       "[[10]]\n",
       "[1] 0.2 0.2 0.2 0.2 0.2\n"
      ]
     },
     "metadata": {},
     "output_type": "display_data"
    }
   ],
   "source": [
    "inFeatures.listw$weights[1:10]"
   ]
  },
  {
   "cell_type": "code",
   "execution_count": 18,
   "metadata": {},
   "outputs": [
    {
     "data": {
      "text/html": [
       "<ol>\n",
       "\t<li><ol class=list-inline>\n",
       "\t<li>2</li>\n",
       "\t<li>31</li>\n",
       "\t<li>32</li>\n",
       "</ol>\n",
       "</li>\n",
       "\t<li><ol class=list-inline>\n",
       "\t<li>1</li>\n",
       "\t<li>3</li>\n",
       "\t<li>31</li>\n",
       "\t<li>32</li>\n",
       "\t<li>33</li>\n",
       "</ol>\n",
       "</li>\n",
       "\t<li><ol class=list-inline>\n",
       "\t<li>2</li>\n",
       "\t<li>4</li>\n",
       "\t<li>32</li>\n",
       "\t<li>33</li>\n",
       "\t<li>34</li>\n",
       "</ol>\n",
       "</li>\n",
       "\t<li><ol class=list-inline>\n",
       "\t<li>3</li>\n",
       "\t<li>5</li>\n",
       "\t<li>33</li>\n",
       "\t<li>34</li>\n",
       "\t<li>35</li>\n",
       "</ol>\n",
       "</li>\n",
       "\t<li><ol class=list-inline>\n",
       "\t<li>4</li>\n",
       "\t<li>6</li>\n",
       "\t<li>34</li>\n",
       "\t<li>35</li>\n",
       "\t<li>36</li>\n",
       "</ol>\n",
       "</li>\n",
       "\t<li><ol class=list-inline>\n",
       "\t<li>5</li>\n",
       "\t<li>7</li>\n",
       "\t<li>35</li>\n",
       "\t<li>36</li>\n",
       "\t<li>37</li>\n",
       "</ol>\n",
       "</li>\n",
       "\t<li><ol class=list-inline>\n",
       "\t<li>6</li>\n",
       "\t<li>8</li>\n",
       "\t<li>36</li>\n",
       "\t<li>37</li>\n",
       "\t<li>38</li>\n",
       "</ol>\n",
       "</li>\n",
       "\t<li><ol class=list-inline>\n",
       "\t<li>7</li>\n",
       "\t<li>9</li>\n",
       "\t<li>37</li>\n",
       "\t<li>38</li>\n",
       "\t<li>39</li>\n",
       "</ol>\n",
       "</li>\n",
       "\t<li><ol class=list-inline>\n",
       "\t<li>8</li>\n",
       "\t<li>10</li>\n",
       "\t<li>38</li>\n",
       "\t<li>39</li>\n",
       "\t<li>40</li>\n",
       "</ol>\n",
       "</li>\n",
       "\t<li><ol class=list-inline>\n",
       "\t<li>9</li>\n",
       "\t<li>11</li>\n",
       "\t<li>39</li>\n",
       "\t<li>40</li>\n",
       "\t<li>41</li>\n",
       "</ol>\n",
       "</li>\n",
       "</ol>\n"
      ],
      "text/latex": [
       "\\begin{enumerate}\n",
       "\\item \\begin{enumerate*}\n",
       "\\item 2\n",
       "\\item 31\n",
       "\\item 32\n",
       "\\end{enumerate*}\n",
       "\n",
       "\\item \\begin{enumerate*}\n",
       "\\item 1\n",
       "\\item 3\n",
       "\\item 31\n",
       "\\item 32\n",
       "\\item 33\n",
       "\\end{enumerate*}\n",
       "\n",
       "\\item \\begin{enumerate*}\n",
       "\\item 2\n",
       "\\item 4\n",
       "\\item 32\n",
       "\\item 33\n",
       "\\item 34\n",
       "\\end{enumerate*}\n",
       "\n",
       "\\item \\begin{enumerate*}\n",
       "\\item 3\n",
       "\\item 5\n",
       "\\item 33\n",
       "\\item 34\n",
       "\\item 35\n",
       "\\end{enumerate*}\n",
       "\n",
       "\\item \\begin{enumerate*}\n",
       "\\item 4\n",
       "\\item 6\n",
       "\\item 34\n",
       "\\item 35\n",
       "\\item 36\n",
       "\\end{enumerate*}\n",
       "\n",
       "\\item \\begin{enumerate*}\n",
       "\\item 5\n",
       "\\item 7\n",
       "\\item 35\n",
       "\\item 36\n",
       "\\item 37\n",
       "\\end{enumerate*}\n",
       "\n",
       "\\item \\begin{enumerate*}\n",
       "\\item 6\n",
       "\\item 8\n",
       "\\item 36\n",
       "\\item 37\n",
       "\\item 38\n",
       "\\end{enumerate*}\n",
       "\n",
       "\\item \\begin{enumerate*}\n",
       "\\item 7\n",
       "\\item 9\n",
       "\\item 37\n",
       "\\item 38\n",
       "\\item 39\n",
       "\\end{enumerate*}\n",
       "\n",
       "\\item \\begin{enumerate*}\n",
       "\\item 8\n",
       "\\item 10\n",
       "\\item 38\n",
       "\\item 39\n",
       "\\item 40\n",
       "\\end{enumerate*}\n",
       "\n",
       "\\item \\begin{enumerate*}\n",
       "\\item 9\n",
       "\\item 11\n",
       "\\item 39\n",
       "\\item 40\n",
       "\\item 41\n",
       "\\end{enumerate*}\n",
       "\n",
       "\\end{enumerate}\n"
      ],
      "text/markdown": [
       "1. 1. 2\n",
       "2. 31\n",
       "3. 32\n",
       "\n",
       "\n",
       "\n",
       "2. 1. 1\n",
       "2. 3\n",
       "3. 31\n",
       "4. 32\n",
       "5. 33\n",
       "\n",
       "\n",
       "\n",
       "3. 1. 2\n",
       "2. 4\n",
       "3. 32\n",
       "4. 33\n",
       "5. 34\n",
       "\n",
       "\n",
       "\n",
       "4. 1. 3\n",
       "2. 5\n",
       "3. 33\n",
       "4. 34\n",
       "5. 35\n",
       "\n",
       "\n",
       "\n",
       "5. 1. 4\n",
       "2. 6\n",
       "3. 34\n",
       "4. 35\n",
       "5. 36\n",
       "\n",
       "\n",
       "\n",
       "6. 1. 5\n",
       "2. 7\n",
       "3. 35\n",
       "4. 36\n",
       "5. 37\n",
       "\n",
       "\n",
       "\n",
       "7. 1. 6\n",
       "2. 8\n",
       "3. 36\n",
       "4. 37\n",
       "5. 38\n",
       "\n",
       "\n",
       "\n",
       "8. 1. 7\n",
       "2. 9\n",
       "3. 37\n",
       "4. 38\n",
       "5. 39\n",
       "\n",
       "\n",
       "\n",
       "9. 1. 8\n",
       "2. 10\n",
       "3. 38\n",
       "4. 39\n",
       "5. 40\n",
       "\n",
       "\n",
       "\n",
       "10. 1. 9\n",
       "2. 11\n",
       "3. 39\n",
       "4. 40\n",
       "5. 41\n",
       "\n",
       "\n",
       "\n",
       "\n",
       "\n"
      ],
      "text/plain": [
       "[[1]]\n",
       "[1]  2 31 32\n",
       "\n",
       "[[2]]\n",
       "[1]  1  3 31 32 33\n",
       "\n",
       "[[3]]\n",
       "[1]  2  4 32 33 34\n",
       "\n",
       "[[4]]\n",
       "[1]  3  5 33 34 35\n",
       "\n",
       "[[5]]\n",
       "[1]  4  6 34 35 36\n",
       "\n",
       "[[6]]\n",
       "[1]  5  7 35 36 37\n",
       "\n",
       "[[7]]\n",
       "[1]  6  8 36 37 38\n",
       "\n",
       "[[8]]\n",
       "[1]  7  9 37 38 39\n",
       "\n",
       "[[9]]\n",
       "[1]  8 10 38 39 40\n",
       "\n",
       "[[10]]\n",
       "[1]  9 11 39 40 41\n"
      ]
     },
     "metadata": {},
     "output_type": "display_data"
    }
   ],
   "source": [
    "inFeatures.listb$neighbours[1:10]"
   ]
  },
  {
   "cell_type": "code",
   "execution_count": 19,
   "metadata": {},
   "outputs": [
    {
     "data": {
      "text/html": [
       "<ol class=list-inline>\n",
       "\t<li>'B'</li>\n",
       "\t<li>'NA'</li>\n",
       "\t<li>'NA'</li>\n",
       "\t<li>'NA'</li>\n",
       "\t<li>'NA'</li>\n",
       "\t<li>'NA'</li>\n",
       "\t<li>'NA'</li>\n",
       "\t<li>'NA'</li>\n",
       "\t<li>'NA'</li>\n",
       "\t<li>'NA'</li>\n",
       "</ol>\n"
      ],
      "text/latex": [
       "\\begin{enumerate*}\n",
       "\\item 'B'\n",
       "\\item 'NA'\n",
       "\\item 'NA'\n",
       "\\item 'NA'\n",
       "\\item 'NA'\n",
       "\\item 'NA'\n",
       "\\item 'NA'\n",
       "\\item 'NA'\n",
       "\\item 'NA'\n",
       "\\item 'NA'\n",
       "\\end{enumerate*}\n"
      ],
      "text/markdown": [
       "1. 'B'\n",
       "2. 'NA'\n",
       "3. 'NA'\n",
       "4. 'NA'\n",
       "5. 'NA'\n",
       "6. 'NA'\n",
       "7. 'NA'\n",
       "8. 'NA'\n",
       "9. 'NA'\n",
       "10. 'NA'\n",
       "\n",
       "\n"
      ],
      "text/plain": [
       " [1] \"B\" NA  NA  NA  NA  NA  NA  NA  NA  NA "
      ]
     },
     "metadata": {},
     "output_type": "display_data"
    }
   ],
   "source": [
    "inFeatures.listb$style[1:10]"
   ]
  },
  {
   "cell_type": "markdown",
   "metadata": {},
   "source": [
    "### Moran Scatterplot\n",
    "\n",
    "The Moran scatterplot is an useful diagnostic tool for spatial autocorrelation. Along the x-axis, the values of the analysis variable are plotted. Along the y-axis, the mean values associated with the neighborhoods of each observation are plotted.  \n",
    "\n",
    "The Moran scatterplot can be divided into quadrants based on the means of the variable. So, let me introduce you to: quadrant 1 (upper right), quadrant 2 (upper left), quadrant 3 (lower left), and quadrant 4 (lower right). Generally speaking, values in quadrants 1 and 3 indicate positive spatial autocorrelation, while values in 2 and 4 indicate negative autocorrelation.\n",
    "\n",
    "The moran.plot() function (spdep library) can be applied to compute a Moran scatterplot."
   ]
  },
  {
   "cell_type": "markdown",
   "metadata": {},
   "source": [
    "#### Moran Test - Configuration A\n",
    "\n",
    "In config. A, several artificial clusters were clearly present. Moran's I produces a p-value of 0.03 which suggests that the null hypothesis can be safely rejected at the 90 and 95 confidence levels. So, in this case the statistic correctly picked up on the spatial autocorrelation."
   ]
  },
  {
   "cell_type": "code",
   "execution_count": 20,
   "metadata": {},
   "outputs": [
    {
     "data": {
      "text/plain": [
       "\n",
       "\tMoran I test under randomisation\n",
       "\n",
       "data:  inVa  \n",
       "weights: inFeatures.listb  \n",
       "\n",
       "Moran I statistic standard deviate = 2.1632, p-value = 0.03053\n",
       "alternative hypothesis: two.sided\n",
       "sample estimates:\n",
       "Moran I statistic       Expectation          Variance \n",
       "     0.0357282418     -0.0011123471      0.0002900492 \n"
      ]
     },
     "metadata": {},
     "output_type": "display_data"
    }
   ],
   "source": [
    "#Compute Moran's test\n",
    "Mtest <- moran.test(inVa, inFeatures.listb,randomisation='TRUE',alternative='two.sided')\n",
    "Mtest"
   ]
  },
  {
   "cell_type": "markdown",
   "metadata": {},
   "source": [
    "#### Moran Scatterplot - Configuration A\n",
    "\n",
    "The Moran scatterplot for config. A indicates observations in all quadrants. Those in quads 1 and 3 indicate observations that may have positive spatial autocorrelation. It should be noted that the plot doesn't indicate significance of the spatial autocorrelation for each observation though. By default, the moran.plot() function (spdep library) labels points that have a high level of influence."
   ]
  },
  {
   "cell_type": "code",
   "execution_count": 21,
   "metadata": {},
   "outputs": [
    {
     "data": {
      "image/png": "[encoded data removed]",
      "text/plain": [
       "Plot with title \"Moran Scatterplot - Configuration A\""
      ]
     },
     "metadata": {},
     "output_type": "display_data"
    }
   ],
   "source": [
    "#Produce Moran scatterplot\n",
    "moran.plot(inVa, inFeatures.listb,\n",
    "               labels = as.character(inFeatures$FID), pch = 20,\n",
    "               xlab = \"Analysis Variable\", ylab = \"Spatially Lagged Analysis Variable\",\n",
    "               main = \"Moran Scatterplot - Configuration A\", cex.main = 0.8)"
   ]
  },
  {
   "cell_type": "markdown",
   "metadata": {},
   "source": [
    "To see which areas had high influence in the scatterplot, select them and map them out! Below, they are just selected based upon what I could see in the scatterplot. Note that in this example, there are some random values that are considered influential. Also, there are values in each cluster that fall within quadrant 1 (positive spatial autocorrelation). There is also a value in the lower right cluster that falls in quadrant 2 (negative spatial autocorrelation) that is due to it being an area with a very low value next to an area with a very high value."
   ]
  },
  {
   "cell_type": "code",
   "execution_count": 22,
   "metadata": {
    "collapsed": true
   },
   "outputs": [],
   "source": [
    "#select quad influential values\n",
    "q1vals <- c(84,801,322,578,293,131)\n",
    "q1selareas <- inFeatures[row.names(inFeatures) %in% q1vals,]\n",
    "\n",
    "q3vals <- c(541,399)\n",
    "q3selareas <- inFeatures[row.names(inFeatures) %in% q3vals,]\n",
    "\n",
    "q2vals <- c(264,129,845,98)\n",
    "q2selareas <- inFeatures[row.names(inFeatures) %in% q2vals,]\n",
    "\n",
    "q4vals <- c(720,254,675)\n",
    "q4selareas <- inFeatures[row.names(inFeatures) %in% q4vals,]"
   ]
  },
  {
   "cell_type": "code",
   "execution_count": 23,
   "metadata": {},
   "outputs": [
    {
     "data": {
      "text/html": [
       "<table>\n",
       "<thead><tr><th></th><th scope=col>Id</th><th scope=col>ConfigA</th><th scope=col>ConfigB</th><th scope=col>ConfigC</th><th scope=col>ConfigD</th><th scope=col>ConfigE</th></tr></thead>\n",
       "<tbody>\n",
       "\t<tr><th scope=row>84</th><td>0  </td><td> 70</td><td>22 </td><td> 4 </td><td>93 </td><td> 19</td></tr>\n",
       "\t<tr><th scope=row>131</th><td>0  </td><td> 96</td><td>63 </td><td>49 </td><td>69 </td><td>  1</td></tr>\n",
       "\t<tr><th scope=row>293</th><td>0  </td><td>100</td><td> 4 </td><td>86 </td><td>72 </td><td>100</td></tr>\n",
       "\t<tr><th scope=row>322</th><td>0  </td><td> 81</td><td>17 </td><td>91 </td><td>86 </td><td> 27</td></tr>\n",
       "\t<tr><th scope=row>578</th><td>0  </td><td>100</td><td>58 </td><td>51 </td><td>48 </td><td> 60</td></tr>\n",
       "\t<tr><th scope=row>801</th><td>0  </td><td> 76</td><td>38 </td><td>84 </td><td>50 </td><td> 50</td></tr>\n",
       "</tbody>\n",
       "</table>\n"
      ],
      "text/latex": [
       "\\begin{tabular}{r|llllll}\n",
       "  & Id & ConfigA & ConfigB & ConfigC & ConfigD & ConfigE\\\\\n",
       "\\hline\n",
       "\t84 & 0   &  70 & 22  &  4  & 93  &  19\\\\\n",
       "\t131 & 0   &  96 & 63  & 49  & 69  &   1\\\\\n",
       "\t293 & 0   & 100 &  4  & 86  & 72  & 100\\\\\n",
       "\t322 & 0   &  81 & 17  & 91  & 86  &  27\\\\\n",
       "\t578 & 0   & 100 & 58  & 51  & 48  &  60\\\\\n",
       "\t801 & 0   &  76 & 38  & 84  & 50  &  50\\\\\n",
       "\\end{tabular}\n"
      ],
      "text/markdown": [
       "\n",
       "| <!--/--> | Id | ConfigA | ConfigB | ConfigC | ConfigD | ConfigE | \n",
       "|---|---|---|---|---|---|\n",
       "| 84 | 0   |  70 | 22  |  4  | 93  |  19 | \n",
       "| 131 | 0   |  96 | 63  | 49  | 69  |   1 | \n",
       "| 293 | 0   | 100 |  4  | 86  | 72  | 100 | \n",
       "| 322 | 0   |  81 | 17  | 91  | 86  |  27 | \n",
       "| 578 | 0   | 100 | 58  | 51  | 48  |  60 | \n",
       "| 801 | 0   |  76 | 38  | 84  | 50  |  50 | \n",
       "\n",
       "\n"
      ],
      "text/plain": [
       "    Id ConfigA ConfigB ConfigC ConfigD ConfigE\n",
       "84  0   70     22       4      93       19    \n",
       "131 0   96     63      49      69        1    \n",
       "293 0  100      4      86      72      100    \n",
       "322 0   81     17      91      86       27    \n",
       "578 0  100     58      51      48       60    \n",
       "801 0   76     38      84      50       50    "
      ]
     },
     "metadata": {},
     "output_type": "display_data"
    }
   ],
   "source": [
    "q1selareas@data"
   ]
  },
  {
   "cell_type": "code",
   "execution_count": 24,
   "metadata": {},
   "outputs": [
    {
     "data": {
      "text/html": [
       "<table>\n",
       "<thead><tr><th></th><th scope=col>Id</th><th scope=col>ConfigA</th><th scope=col>ConfigB</th><th scope=col>ConfigC</th><th scope=col>ConfigD</th><th scope=col>ConfigE</th></tr></thead>\n",
       "<tbody>\n",
       "\t<tr><th scope=row>399</th><td>0 </td><td>42</td><td>3 </td><td>35</td><td>88</td><td>67</td></tr>\n",
       "\t<tr><th scope=row>541</th><td>0 </td><td>41</td><td>5 </td><td>62</td><td>16</td><td>16</td></tr>\n",
       "</tbody>\n",
       "</table>\n"
      ],
      "text/latex": [
       "\\begin{tabular}{r|llllll}\n",
       "  & Id & ConfigA & ConfigB & ConfigC & ConfigD & ConfigE\\\\\n",
       "\\hline\n",
       "\t399 & 0  & 42 & 3  & 35 & 88 & 67\\\\\n",
       "\t541 & 0  & 41 & 5  & 62 & 16 & 16\\\\\n",
       "\\end{tabular}\n"
      ],
      "text/markdown": [
       "\n",
       "| <!--/--> | Id | ConfigA | ConfigB | ConfigC | ConfigD | ConfigE | \n",
       "|---|---|\n",
       "| 399 | 0  | 42 | 3  | 35 | 88 | 67 | \n",
       "| 541 | 0  | 41 | 5  | 62 | 16 | 16 | \n",
       "\n",
       "\n"
      ],
      "text/plain": [
       "    Id ConfigA ConfigB ConfigC ConfigD ConfigE\n",
       "399 0  42      3       35      88      67     \n",
       "541 0  41      5       62      16      16     "
      ]
     },
     "metadata": {},
     "output_type": "display_data"
    }
   ],
   "source": [
    "q3selareas@data"
   ]
  },
  {
   "cell_type": "code",
   "execution_count": 25,
   "metadata": {},
   "outputs": [
    {
     "data": {
      "text/html": [
       "<table>\n",
       "<thead><tr><th></th><th scope=col>Id</th><th scope=col>ConfigA</th><th scope=col>ConfigB</th><th scope=col>ConfigC</th><th scope=col>ConfigD</th><th scope=col>ConfigE</th></tr></thead>\n",
       "<tbody>\n",
       "\t<tr><th scope=row>98</th><td>0  </td><td>40 </td><td>71 </td><td>87 </td><td>69 </td><td> 26</td></tr>\n",
       "\t<tr><th scope=row>129</th><td>0  </td><td>11 </td><td>96 </td><td> 4 </td><td>64 </td><td> 34</td></tr>\n",
       "\t<tr><th scope=row>264</th><td>0  </td><td> 4 </td><td>90 </td><td>20 </td><td>95 </td><td>100</td></tr>\n",
       "\t<tr><th scope=row>845</th><td>0  </td><td>23 </td><td>15 </td><td>26 </td><td>47 </td><td> 87</td></tr>\n",
       "</tbody>\n",
       "</table>\n"
      ],
      "text/latex": [
       "\\begin{tabular}{r|llllll}\n",
       "  & Id & ConfigA & ConfigB & ConfigC & ConfigD & ConfigE\\\\\n",
       "\\hline\n",
       "\t98 & 0   & 40  & 71  & 87  & 69  &  26\\\\\n",
       "\t129 & 0   & 11  & 96  &  4  & 64  &  34\\\\\n",
       "\t264 & 0   &  4  & 90  & 20  & 95  & 100\\\\\n",
       "\t845 & 0   & 23  & 15  & 26  & 47  &  87\\\\\n",
       "\\end{tabular}\n"
      ],
      "text/markdown": [
       "\n",
       "| <!--/--> | Id | ConfigA | ConfigB | ConfigC | ConfigD | ConfigE | \n",
       "|---|---|---|---|\n",
       "| 98 | 0   | 40  | 71  | 87  | 69  |  26 | \n",
       "| 129 | 0   | 11  | 96  |  4  | 64  |  34 | \n",
       "| 264 | 0   |  4  | 90  | 20  | 95  | 100 | \n",
       "| 845 | 0   | 23  | 15  | 26  | 47  |  87 | \n",
       "\n",
       "\n"
      ],
      "text/plain": [
       "    Id ConfigA ConfigB ConfigC ConfigD ConfigE\n",
       "98  0  40      71      87      69       26    \n",
       "129 0  11      96       4      64       34    \n",
       "264 0   4      90      20      95      100    \n",
       "845 0  23      15      26      47       87    "
      ]
     },
     "metadata": {},
     "output_type": "display_data"
    }
   ],
   "source": [
    "q2selareas@data"
   ]
  },
  {
   "cell_type": "code",
   "execution_count": 26,
   "metadata": {},
   "outputs": [
    {
     "data": {
      "text/html": [
       "<table>\n",
       "<thead><tr><th></th><th scope=col>Id</th><th scope=col>ConfigA</th><th scope=col>ConfigB</th><th scope=col>ConfigC</th><th scope=col>ConfigD</th><th scope=col>ConfigE</th></tr></thead>\n",
       "<tbody>\n",
       "\t<tr><th scope=row>254</th><td>0 </td><td>68</td><td>39</td><td>72</td><td>25</td><td>62</td></tr>\n",
       "\t<tr><th scope=row>675</th><td>0 </td><td>88</td><td>72</td><td> 5</td><td>89</td><td>83</td></tr>\n",
       "\t<tr><th scope=row>720</th><td>0 </td><td>58</td><td>21</td><td>42</td><td>62</td><td>55</td></tr>\n",
       "</tbody>\n",
       "</table>\n"
      ],
      "text/latex": [
       "\\begin{tabular}{r|llllll}\n",
       "  & Id & ConfigA & ConfigB & ConfigC & ConfigD & ConfigE\\\\\n",
       "\\hline\n",
       "\t254 & 0  & 68 & 39 & 72 & 25 & 62\\\\\n",
       "\t675 & 0  & 88 & 72 &  5 & 89 & 83\\\\\n",
       "\t720 & 0  & 58 & 21 & 42 & 62 & 55\\\\\n",
       "\\end{tabular}\n"
      ],
      "text/markdown": [
       "\n",
       "| <!--/--> | Id | ConfigA | ConfigB | ConfigC | ConfigD | ConfigE | \n",
       "|---|---|---|\n",
       "| 254 | 0  | 68 | 39 | 72 | 25 | 62 | \n",
       "| 675 | 0  | 88 | 72 |  5 | 89 | 83 | \n",
       "| 720 | 0  | 58 | 21 | 42 | 62 | 55 | \n",
       "\n",
       "\n"
      ],
      "text/plain": [
       "    Id ConfigA ConfigB ConfigC ConfigD ConfigE\n",
       "254 0  68      39      72      25      62     \n",
       "675 0  88      72       5      89      83     \n",
       "720 0  58      21      42      62      55     "
      ]
     },
     "metadata": {},
     "output_type": "display_data"
    }
   ],
   "source": [
    "q4selareas@data"
   ]
  },
  {
   "cell_type": "code",
   "execution_count": 27,
   "metadata": {},
   "outputs": [
    {
     "data": {
      "image/png": "[encoded data removed]",
      "text/plain": [
       "Plot with title \"Config. A\""
      ]
     },
     "metadata": {},
     "output_type": "display_data"
    }
   ],
   "source": [
    "#classify variable\n",
    "numcat <- 5\n",
    "z <- classIntervals(inVa, n = numcat, style = \"fixed\", fixedBreaks = c(0, 1.1, 40, 70, 99.5, 100))\n",
    "pal <- c(\"white\", \"lightgray\", \"gray\", \"darkgray\", \"black\")\n",
    "cols <- findColours(z, pal)\n",
    "\n",
    "#plot variable\n",
    "plot(inFeatures, col = cols, lwd = 0.2, main = \"Config. A\", cex.main = 0.8)\n",
    "brks <- round(z$brks,3)\n",
    "leg.text <- paste(brks[-numcat], brks[-1], sep=\" - \")\n",
    "legend(\"bottomleft\", fill = attr(cols,\"palette\"), legend = leg.text, bty = \"n\", title = \"Value\", cex = 0.7)\n",
    "\n",
    "#plot outliers by quad\n",
    "plot(q1selareas, col = \"yellow\", add = TRUE)\n",
    "plot(q3selareas, col = \"red4\", add = TRUE)\n",
    "plot(q2selareas, col = \"lightblue\", add = TRUE)\n",
    "plot(q4selareas, col = \"green\", add = TRUE)"
   ]
  },
  {
   "cell_type": "markdown",
   "metadata": {},
   "source": [
    "#### Moran Test - Configuration B\n",
    "\n",
    "In config. B, one artificial cluster was clearly present. Moran's I produces a p-value of 0.4 which suggests that the null hypothesis cannot be safely rejected. So, in this case the statistic did not detect the presence of significant autocorrelation. This was likely due to the single cluster not having enough of an influence given it only represents a small portion of the sites in the analysis area."
   ]
  },
  {
   "cell_type": "code",
   "execution_count": 28,
   "metadata": {},
   "outputs": [
    {
     "data": {
      "text/plain": [
       "\n",
       "\tMoran I test under randomisation\n",
       "\n",
       "data:  inVb  \n",
       "weights: inFeatures.listb  \n",
       "\n",
       "Moran I statistic standard deviate = 0.84158, p-value = 0.4\n",
       "alternative hypothesis: two.sided\n",
       "sample estimates:\n",
       "Moran I statistic       Expectation          Variance \n",
       "     0.0132214227     -0.0011123471      0.0002900848 \n"
      ]
     },
     "metadata": {},
     "output_type": "display_data"
    },
    {
     "data": {
      "image/png": "[encoded data removed]",
      "text/plain": [
       "Plot with title \"Moran Scatterplot - Configuration B\""
      ]
     },
     "metadata": {},
     "output_type": "display_data"
    }
   ],
   "source": [
    "#Compute Moran's test\n",
    "Mtest <- moran.test(inVb, inFeatures.listb, randomisation = 'TRUE', alternative = 'two.sided')\n",
    "Mtest\n",
    "\n",
    "#Produce Moran scatterplot\n",
    "moran.plot(inVb, inFeatures.listb, labels = as.character(inFeatures$FID), pch = 20,\n",
    "           xlab = \"Analysis Variable\", ylab=\"Spatially Lagged Analysis Variable\",\n",
    "           main = \"Moran Scatterplot - Configuration B\", cex.main = 0.8)"
   ]
  },
  {
   "cell_type": "markdown",
   "metadata": {},
   "source": [
    "#### Moran Test - Configuration C\n",
    "\n",
    "In config. C, all areas were assigned random values. Moran's I produces a p-value of 0.5775 which suggests that the null hypothesis cannot be rejected under any reasonable confidence level. Thus, the statistic correctly pickup on the presence of random values."
   ]
  },
  {
   "cell_type": "code",
   "execution_count": 29,
   "metadata": {},
   "outputs": [
    {
     "data": {
      "text/plain": [
       "\n",
       "\tMoran I test under randomisation\n",
       "\n",
       "data:  inVc  \n",
       "weights: inFeatures.listb  \n",
       "\n",
       "Moran I statistic standard deviate = -0.55711, p-value = 0.5775\n",
       "alternative hypothesis: two.sided\n",
       "sample estimates:\n",
       "Moran I statistic       Expectation          Variance \n",
       "     -0.010600522      -0.001112347       0.000290060 \n"
      ]
     },
     "metadata": {},
     "output_type": "display_data"
    },
    {
     "data": {
      "image/png": "[encoded data removed]",
      "text/plain": [
       "Plot with title \"Moran Scatterplot - Configuration C\""
      ]
     },
     "metadata": {},
     "output_type": "display_data"
    }
   ],
   "source": [
    "#Compute Moran's test\n",
    "Mtest <- moran.test(inVc, inFeatures.listb, randomisation='TRUE',alternative='two.sided')\n",
    "Mtest\n",
    "\n",
    "#Produce Moran scatterplot\n",
    "moran.plot(inVc, inFeatures.listb, labels = as.character(inFeatures$FID), pch = 20,\n",
    "           xlab = \"Analysis Variable\", ylab = \"Spatially Lagged Analysis Variable\",\n",
    "           main = \"Moran Scatterplot - Configuration C\", cex.main = 0.8)"
   ]
  },
  {
   "cell_type": "markdown",
   "metadata": {},
   "source": [
    "#### Moran Test - Configuration D\n",
    "\n",
    "In config. D, there were several clusters of low values. Moran's I produces a p-value of 2.45e-7 which suggests that the null hypothesis can be safely rejected. So, the statistic sucessfully picked up on the presence of spatial autocorrelation.\n"
   ]
  },
  {
   "cell_type": "code",
   "execution_count": 30,
   "metadata": {},
   "outputs": [
    {
     "data": {
      "text/plain": [
       "\n",
       "\tMoran I test under randomisation\n",
       "\n",
       "data:  inVd  \n",
       "weights: inFeatures.listb  \n",
       "\n",
       "Moran I statistic standard deviate = 5.1615, p-value = 2.45e-07\n",
       "alternative hypothesis: two.sided\n",
       "sample estimates:\n",
       "Moran I statistic       Expectation          Variance \n",
       "     0.0867942573     -0.0011123471      0.0002900669 \n"
      ]
     },
     "metadata": {},
     "output_type": "display_data"
    },
    {
     "data": {
      "image/png": "[encoded data removed]",
      "text/plain": [
       "Plot with title \"Moran Scatterplot - Configuration D\""
      ]
     },
     "metadata": {},
     "output_type": "display_data"
    }
   ],
   "source": [
    "#Compute Moran's test\n",
    "Mtest <- moran.test(inVd, inFeatures.listb, randomisation = 'TRUE', alternative = 'two.sided')\n",
    "Mtest\n",
    "\n",
    "#Produce Moran scatterplot\n",
    "moran.plot(inVd, inFeatures.listb, labels = as.character(inFeatures$FID), pch = 20,\n",
    "           xlab = \"Analysis Variable\", ylab = \"Spatially Lagged Analysis Variable\",\n",
    "           main = \"Moran Scatterplot - Configuration D\", cex.main = 0.8)"
   ]
  },
  {
   "cell_type": "markdown",
   "metadata": {},
   "source": [
    "#### Moran Test - Configuration E\n",
    "\n",
    "In config. E, there were areas of clustering of high values and areas with clustering of low values. Moran's I produces a p-value of 2.2e-16 which is clearly significant and indicates that the null hypothesis can be safely rejected. So, in this case the test statistic picked up on the presence of spatial autocorrelation."
   ]
  },
  {
   "cell_type": "code",
   "execution_count": 31,
   "metadata": {},
   "outputs": [
    {
     "data": {
      "text/plain": [
       "\n",
       "\tMoran I test under randomisation\n",
       "\n",
       "data:  inVe  \n",
       "weights: inFeatures.listb  \n",
       "\n",
       "Moran I statistic standard deviate = 13.079, p-value < 2.2e-16\n",
       "alternative hypothesis: two.sided\n",
       "sample estimates:\n",
       "Moran I statistic       Expectation          Variance \n",
       "     0.2216423044     -0.0011123471      0.0002900833 \n"
      ]
     },
     "metadata": {},
     "output_type": "display_data"
    },
    {
     "data": {
      "image/png": "[encoded data removed]",
      "text/plain": [
       "Plot with title \"Moran Scatterplot - Configuration E\""
      ]
     },
     "metadata": {},
     "output_type": "display_data"
    }
   ],
   "source": [
    "#Compute Moran's test\n",
    "Mtest <- moran.test(inVe, inFeatures.listb, randomisation = 'TRUE', alternative = 'two.sided')\n",
    "Mtest\n",
    "\n",
    "#Produce Moran scatterplot\n",
    "moran.plot(inVe, inFeatures.listb, labels = as.character(inFeatures$FID), pch = 20,\n",
    "           xlab = \"Analysis Variable\", ylab = \"Spatially Lagged Analysis Variable\", \n",
    "           main = \"Moran Scatterplot - Configuration E\", cex.main = 0.8)"
   ]
  }
 ],
 "metadata": {
  "kernelspec": {
   "display_name": "R",
   "language": "R",
   "name": "ir"
  },
  "language_info": {
   "codemirror_mode": "r",
   "file_extension": ".r",
   "mimetype": "text/x-r-source",
   "name": "R",
   "pygments_lexer": "r",
   "version": "3.4.1"
  }
 },
 "nbformat": 4,
 "nbformat_minor": 2
}
