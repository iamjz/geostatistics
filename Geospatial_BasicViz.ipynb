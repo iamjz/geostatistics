{
 "cells": [
  {
   "cell_type": "code",
   "execution_count": 9,
   "metadata": {},
   "outputs": [],
   "source": [
    "# Load relevant R packages\n",
    "inLibraries = list('repr','rgdal','rgeos')\n",
    "for (rpack in inLibraries) {\n",
    "  if (is.element(rpack,installed.packages()[,1])){\n",
    "      #Load the library into R\n",
    "      suppressMessages(library(rpack,character.only = TRUE))\n",
    "    }\n",
    "    else {\n",
    "        print(paste(\"Warning:  \",rpack,\" is not an installed package\"))\n",
    "    }\n",
    "}\n",
    "#resize plot area\n",
    "options(repr.plot.width=6, repr.plot.height=6)"
   ]
  },
  {
   "cell_type": "code",
   "execution_count": 10,
   "metadata": {},
   "outputs": [
    {
     "name": "stdout",
     "output_type": "stream",
     "text": [
      "OGR data source with driver: ESRI Shapefile \n",
      "Source: \"datasets/world\", layer: \"WorldAdmin\"\n",
      "with 3161 features\n",
      "It has 14 fields\n",
      "Integer64 fields read as strings:  OBJECTID Land_Rank \n"
     ]
    }
   ],
   "source": [
    "worldFeatures <- readOGR(\"datasets/world\", \"WorldAdmin\")"
   ]
  },
  {
   "cell_type": "code",
   "execution_count": 11,
   "metadata": {},
   "outputs": [
    {
     "data": {
      "text/plain": [
       "Object of class SpatialPolygonsDataFrame\n",
       "Coordinates:\n",
       "         min       max\n",
       "x -180.00000 180.00000\n",
       "y  -55.71535  83.66092\n",
       "Is projected: FALSE \n",
       "proj4string :\n",
       "[+proj=longlat +datum=WGS84 +no_defs +ellps=WGS84 +towgs84=0,0,0]\n",
       "Data attributes:\n",
       "    OBJECTID          NAME     \n",
       " 1      :   1   Central :  10  \n",
       " 1001   :   1   Western :   9  \n",
       " 1005   :   1   Northern:   7  \n",
       " 1008   :   1   Eastern :   6  \n",
       " 1011   :   1   Southern:   5  \n",
       " 1013   :   1   (Other) :3121  \n",
       " (Other):3155   NA's    :   3  \n",
       "                                      COUNTRY        ISO_CODE        ISO_CC    \n",
       " Slovenia                                 : 210   CABC   :   3   SI     : 210  \n",
       " Russian Federation                       :  99   CANT   :   3   RU     :  99  \n",
       " The Former Yugoslav Republic of Macedonia:  84   CANU   :   3   MK     :  84  \n",
       " Turkey                                   :  83   CAQC   :   3   TR     :  83  \n",
       " Philippines                              :  79   CLMA   :   3   PH     :  79  \n",
       " (Other)                                  :2603   (Other):3122   (Other):2603  \n",
       " NA's                                     :   3   NA's   :  24   NA's   :   3  \n",
       "    ISO_SUB            ADMINTYPE   \n",
       " 12     :  30   Province    :1011  \n",
       " 11     :  29   Region      : 365  \n",
       " 14     :  29   Municipality: 318  \n",
       " 13     :  27   State       : 309  \n",
       " 05     :  25   Department  : 219  \n",
       " (Other):2968   (Other)     : 936  \n",
       " NA's   :  53   NA's        :   3  \n",
       "                                     COUNTRYAFF           CONTINENT  \n",
       " Slovenia                                 : 210   Asia         :978  \n",
       " Russian Federation                       :  99   Europe       :903  \n",
       " The Former Yugoslav Republic of Macedonia:  84   Africa       :672  \n",
       " Turkey                                   :  83   North America:290  \n",
       " Philippines                              :  79   South America:248  \n",
       " (Other)                                  :2603   Oceania      : 54  \n",
       " NA's                                     :   3   (Other)      : 16  \n",
       "         Land_Type    Land_Rank   Shape_Leng          Shape_Area      \n",
       " Large island :  25   3: 201    Min.   :   0.0004   Min.   :  0.0000  \n",
       " Medium island: 201   4:  25    1st Qu.:   2.8107   1st Qu.:  0.1833  \n",
       " Primary land :2935   5:2935    Median :   5.7405   Median :  0.6885  \n",
       "                                Mean   :  13.0554   Mean   :  4.8479  \n",
       "                                3rd Qu.:  12.6933   3rd Qu.:  2.7965  \n",
       "                                Max.   :1806.5909   Max.   :651.5152  \n",
       "                                                                      \n",
       "    sqmiles \n",
       " Min.   :0  \n",
       " 1st Qu.:0  \n",
       " Median :0  \n",
       " Mean   :0  \n",
       " 3rd Qu.:0  \n",
       " Max.   :0  \n",
       " NA's   :6  "
      ]
     },
     "metadata": {},
     "output_type": "display_data"
    }
   ],
   "source": [
    "summary(worldFeatures)"
   ]
  },
  {
   "cell_type": "code",
   "execution_count": 12,
   "metadata": {},
   "outputs": [
    {
     "data": {
      "text/html": [
       "<table>\n",
       "<thead><tr><th></th><th scope=col>0</th><th scope=col>1</th><th scope=col>2</th><th scope=col>3</th><th scope=col>4</th><th scope=col>5</th></tr></thead>\n",
       "<tbody>\n",
       "\t<tr><th scope=row>OBJECTID</th><td>1                                           </td><td>2                                           </td><td>3                                           </td><td>5                                           </td><td>6                                           </td><td>9                                           </td></tr>\n",
       "\t<tr><th scope=row>NAME</th><td>A'ana                                       </td><td>Acre                                        </td><td>Aiga-i-le-Tai                               </td><td>AisÃ©n del General Carlos IbÃ¡Ã±ez del Campo</td><td>AisÃ©n del General Carlos IbÃ¡Ã±ez del Campo</td><td>Alagoas                                     </td></tr>\n",
       "\t<tr><th scope=row>COUNTRY</th><td>Samoa                                       </td><td>Brazil                                      </td><td>Samoa                                       </td><td>Chile                                       </td><td>Chile                                       </td><td>Brazil                                      </td></tr>\n",
       "\t<tr><th scope=row>ISO_CODE</th><td>WSAA                                        </td><td>BRAC                                        </td><td>WSAL                                        </td><td>CLAI                                        </td><td>CLAI                                        </td><td>BRAL                                        </td></tr>\n",
       "\t<tr><th scope=row>ISO_CC</th><td>WS                                          </td><td>BR                                          </td><td>WS                                          </td><td>CL                                          </td><td>CL                                          </td><td>BR                                          </td></tr>\n",
       "\t<tr><th scope=row>ISO_SUB</th><td>AA                                          </td><td>AC                                          </td><td>AL                                          </td><td>AI                                          </td><td>AI                                          </td><td>AL                                          </td></tr>\n",
       "\t<tr><th scope=row>ADMINTYPE</th><td>District                                    </td><td>State                                       </td><td>District                                    </td><td>Region                                      </td><td>Region                                      </td><td>State                                       </td></tr>\n",
       "\t<tr><th scope=row>COUNTRYAFF</th><td>Samoa                                       </td><td>Brazil                                      </td><td>Samoa                                       </td><td>Chile                                       </td><td>Chile                                       </td><td>Brazil                                      </td></tr>\n",
       "\t<tr><th scope=row>CONTINENT</th><td>Oceania                                     </td><td>South America                               </td><td>Oceania                                     </td><td>South America                               </td><td>South America                               </td><td>South America                               </td></tr>\n",
       "\t<tr><th scope=row>Land_Type</th><td>Medium island                               </td><td>Primary land                                </td><td>Medium island                               </td><td>Medium island                               </td><td>Primary land                                </td><td>Primary land                                </td></tr>\n",
       "\t<tr><th scope=row>Land_Rank</th><td>3                                           </td><td>5                                           </td><td>3                                           </td><td>3                                           </td><td>5                                           </td><td>5                                           </td></tr>\n",
       "\t<tr><th scope=row>Shape_Leng</th><td> 0.6443423                                  </td><td>24.1846105                                  </td><td> 0.1627449                                  </td><td>46.4116234                                  </td><td>79.7367975                                  </td><td>11.0712997                                  </td></tr>\n",
       "\t<tr><th scope=row>Shape_Area</th><td> 0.014811936                                </td><td>12.727371761                                </td><td> 0.001620462                                </td><td> 1.218351221                                </td><td> 9.845452977                                </td><td> 2.276025907                                </td></tr>\n",
       "\t<tr><th scope=row>sqmiles</th><td>0                                           </td><td>0                                           </td><td>0                                           </td><td>0                                           </td><td>0                                           </td><td>0                                           </td></tr>\n",
       "</tbody>\n",
       "</table>\n"
      ],
      "text/latex": [
       "\\begin{tabular}{r|llllll}\n",
       "  & 0 & 1 & 2 & 3 & 4 & 5\\\\\n",
       "\\hline\n",
       "\tOBJECTID & 1                                            & 2                                            & 3                                            & 5                                            & 6                                            & 9                                           \\\\\n",
       "\tNAME & A'ana                                        & Acre                                         & Aiga-i-le-Tai                                & AisÃ©n del General Carlos IbÃ¡Ã±ez del Campo & AisÃ©n del General Carlos IbÃ¡Ã±ez del Campo & Alagoas                                     \\\\\n",
       "\tCOUNTRY & Samoa                                        & Brazil                                       & Samoa                                        & Chile                                        & Chile                                        & Brazil                                      \\\\\n",
       "\tISO\\_CODE & WSAA                                         & BRAC                                         & WSAL                                         & CLAI                                         & CLAI                                         & BRAL                                        \\\\\n",
       "\tISO\\_CC & WS                                           & BR                                           & WS                                           & CL                                           & CL                                           & BR                                          \\\\\n",
       "\tISO\\_SUB & AA                                           & AC                                           & AL                                           & AI                                           & AI                                           & AL                                          \\\\\n",
       "\tADMINTYPE & District                                     & State                                        & District                                     & Region                                       & Region                                       & State                                       \\\\\n",
       "\tCOUNTRYAFF & Samoa                                        & Brazil                                       & Samoa                                        & Chile                                        & Chile                                        & Brazil                                      \\\\\n",
       "\tCONTINENT & Oceania                                      & South America                                & Oceania                                      & South America                                & South America                                & South America                               \\\\\n",
       "\tLand\\_Type & Medium island                                & Primary land                                 & Medium island                                & Medium island                                & Primary land                                 & Primary land                                \\\\\n",
       "\tLand\\_Rank & 3                                            & 5                                            & 3                                            & 3                                            & 5                                            & 5                                           \\\\\n",
       "\tShape\\_Leng &  0.6443423                                   & 24.1846105                                   &  0.1627449                                   & 46.4116234                                   & 79.7367975                                   & 11.0712997                                  \\\\\n",
       "\tShape\\_Area &  0.014811936                                 & 12.727371761                                 &  0.001620462                                 &  1.218351221                                 &  9.845452977                                 &  2.276025907                                \\\\\n",
       "\tsqmiles & 0                                            & 0                                            & 0                                            & 0                                            & 0                                            & 0                                           \\\\\n",
       "\\end{tabular}\n"
      ],
      "text/markdown": [
       "\n",
       "| <!--/--> | 0 | 1 | 2 | 3 | 4 | 5 | \n",
       "|---|---|---|---|---|---|---|---|---|---|---|---|---|---|\n",
       "| OBJECTID | 1                                            | 2                                            | 3                                            | 5                                            | 6                                            | 9                                            | \n",
       "| NAME | A'ana                                        | Acre                                         | Aiga-i-le-Tai                                | AisÃ©n del General Carlos IbÃ¡Ã±ez del Campo | AisÃ©n del General Carlos IbÃ¡Ã±ez del Campo | Alagoas                                      | \n",
       "| COUNTRY | Samoa                                        | Brazil                                       | Samoa                                        | Chile                                        | Chile                                        | Brazil                                       | \n",
       "| ISO_CODE | WSAA                                         | BRAC                                         | WSAL                                         | CLAI                                         | CLAI                                         | BRAL                                         | \n",
       "| ISO_CC | WS                                           | BR                                           | WS                                           | CL                                           | CL                                           | BR                                           | \n",
       "| ISO_SUB | AA                                           | AC                                           | AL                                           | AI                                           | AI                                           | AL                                           | \n",
       "| ADMINTYPE | District                                     | State                                        | District                                     | Region                                       | Region                                       | State                                        | \n",
       "| COUNTRYAFF | Samoa                                        | Brazil                                       | Samoa                                        | Chile                                        | Chile                                        | Brazil                                       | \n",
       "| CONTINENT | Oceania                                      | South America                                | Oceania                                      | South America                                | South America                                | South America                                | \n",
       "| Land_Type | Medium island                                | Primary land                                 | Medium island                                | Medium island                                | Primary land                                 | Primary land                                 | \n",
       "| Land_Rank | 3                                            | 5                                            | 3                                            | 3                                            | 5                                            | 5                                            | \n",
       "| Shape_Leng |  0.6443423                                   | 24.1846105                                   |  0.1627449                                   | 46.4116234                                   | 79.7367975                                   | 11.0712997                                   | \n",
       "| Shape_Area |  0.014811936                                 | 12.727371761                                 |  0.001620462                                 |  1.218351221                                 |  9.845452977                                 |  2.276025907                                 | \n",
       "| sqmiles | 0                                            | 0                                            | 0                                            | 0                                            | 0                                            | 0                                            | \n",
       "\n",
       "\n"
      ],
      "text/plain": [
       "           0             1             2            \n",
       "OBJECTID   1             2             3            \n",
       "NAME       A'ana         Acre          Aiga-i-le-Tai\n",
       "COUNTRY    Samoa         Brazil        Samoa        \n",
       "ISO_CODE   WSAA          BRAC          WSAL         \n",
       "ISO_CC     WS            BR            WS           \n",
       "ISO_SUB    AA            AC            AL           \n",
       "ADMINTYPE  District      State         District     \n",
       "COUNTRYAFF Samoa         Brazil        Samoa        \n",
       "CONTINENT  Oceania       South America Oceania      \n",
       "Land_Type  Medium island Primary land  Medium island\n",
       "Land_Rank  3             5             3            \n",
       "Shape_Leng  0.6443423    24.1846105     0.1627449   \n",
       "Shape_Area  0.014811936  12.727371761   0.001620462 \n",
       "sqmiles    0             0             0            \n",
       "           3                                           \n",
       "OBJECTID   5                                           \n",
       "NAME       AisÃ©n del General Carlos IbÃ¡Ã±ez del Campo\n",
       "COUNTRY    Chile                                       \n",
       "ISO_CODE   CLAI                                        \n",
       "ISO_CC     CL                                          \n",
       "ISO_SUB    AI                                          \n",
       "ADMINTYPE  Region                                      \n",
       "COUNTRYAFF Chile                                       \n",
       "CONTINENT  South America                               \n",
       "Land_Type  Medium island                               \n",
       "Land_Rank  3                                           \n",
       "Shape_Leng 46.4116234                                  \n",
       "Shape_Area  1.218351221                                \n",
       "sqmiles    0                                           \n",
       "           4                                            5            \n",
       "OBJECTID   6                                            9            \n",
       "NAME       AisÃ©n del General Carlos IbÃ¡Ã±ez del Campo Alagoas      \n",
       "COUNTRY    Chile                                        Brazil       \n",
       "ISO_CODE   CLAI                                         BRAL         \n",
       "ISO_CC     CL                                           BR           \n",
       "ISO_SUB    AI                                           AL           \n",
       "ADMINTYPE  Region                                       State        \n",
       "COUNTRYAFF Chile                                        Brazil       \n",
       "CONTINENT  South America                                South America\n",
       "Land_Type  Primary land                                 Primary land \n",
       "Land_Rank  5                                            5            \n",
       "Shape_Leng 79.7367975                                   11.0712997   \n",
       "Shape_Area  9.845452977                                  2.276025907 \n",
       "sqmiles    0                                            0            "
      ]
     },
     "metadata": {},
     "output_type": "display_data"
    }
   ],
   "source": [
    "t(head(worldFeatures@data))"
   ]
  },
  {
   "cell_type": "code",
   "execution_count": 13,
   "metadata": {
    "collapsed": true
   },
   "outputs": [],
   "source": [
    "worldFeatures2 <- worldFeatures[!is.na(worldFeatures@data$COUNTRY), ]"
   ]
  },
  {
   "cell_type": "code",
   "execution_count": 14,
   "metadata": {},
   "outputs": [
    {
     "data": {
      "text/html": [
       "<table>\n",
       "<thead><tr><th></th><th scope=col>OBJECTID</th><th scope=col>NAME</th><th scope=col>COUNTRY</th><th scope=col>ISO_CODE</th><th scope=col>ISO_CC</th><th scope=col>ISO_SUB</th><th scope=col>ADMINTYPE</th><th scope=col>COUNTRYAFF</th><th scope=col>CONTINENT</th><th scope=col>Land_Type</th><th scope=col>Land_Rank</th><th scope=col>Shape_Leng</th><th scope=col>Shape_Area</th><th scope=col>sqmiles</th></tr></thead>\n",
       "<tbody>\n",
       "\t<tr><th scope=row>1</th><td>2               </td><td>Acre            </td><td>Brazil          </td><td>BRAC            </td><td>BR              </td><td>AC              </td><td>State           </td><td>Brazil          </td><td>South America   </td><td>Primary land    </td><td>5               </td><td>24.184611       </td><td>12.7273718      </td><td>0               </td></tr>\n",
       "\t<tr><th scope=row>5</th><td>9               </td><td>Alagoas         </td><td>Brazil          </td><td>BRAL            </td><td>BR              </td><td>AL              </td><td>State           </td><td>Brazil          </td><td>South America   </td><td>Primary land    </td><td>5               </td><td>11.071300       </td><td> 2.2760259      </td><td>0               </td></tr>\n",
       "\t<tr><th scope=row>19</th><td>38              </td><td>Bahia           </td><td>Brazil          </td><td>BRBA            </td><td>BR              </td><td>BA              </td><td>State           </td><td>Brazil          </td><td>South America   </td><td>Primary land    </td><td>5               </td><td>59.891605       </td><td>46.5651819      </td><td>0               </td></tr>\n",
       "\t<tr><th scope=row>44</th><td>81              </td><td>Distrito Federal</td><td>Brazil          </td><td>BRDF            </td><td>BR              </td><td>DF              </td><td>Federal District</td><td>Brazil          </td><td>South America   </td><td>Primary land    </td><td>5               </td><td> 3.363973       </td><td> 0.4871103      </td><td>0               </td></tr>\n",
       "\t<tr><th scope=row>49</th><td>92              </td><td>EspÃ­rito Santo </td><td>Brazil          </td><td>BRES            </td><td>BR              </td><td>ES              </td><td>State           </td><td>Brazil          </td><td>South America   </td><td>Primary land    </td><td>5               </td><td>17.274689       </td><td> 3.9763674      </td><td>0               </td></tr>\n",
       "\t<tr><th scope=row>60</th><td>111             </td><td>GoiÃ¡s          </td><td>Brazil          </td><td>BRGO            </td><td>BR              </td><td>GO              </td><td>State           </td><td>Brazil          </td><td>South America   </td><td>Primary land    </td><td>5               </td><td>39.730125       </td><td>29.1040338      </td><td>0               </td></tr>\n",
       "</tbody>\n",
       "</table>\n"
      ],
      "text/latex": [
       "\\begin{tabular}{r|llllllllllllll}\n",
       "  & OBJECTID & NAME & COUNTRY & ISO\\_CODE & ISO\\_CC & ISO\\_SUB & ADMINTYPE & COUNTRYAFF & CONTINENT & Land\\_Type & Land\\_Rank & Shape\\_Leng & Shape\\_Area & sqmiles\\\\\n",
       "\\hline\n",
       "\t1 & 2                & Acre             & Brazil           & BRAC             & BR               & AC               & State            & Brazil           & South America    & Primary land     & 5                & 24.184611        & 12.7273718       & 0               \\\\\n",
       "\t5 & 9                & Alagoas          & Brazil           & BRAL             & BR               & AL               & State            & Brazil           & South America    & Primary land     & 5                & 11.071300        &  2.2760259       & 0               \\\\\n",
       "\t19 & 38               & Bahia            & Brazil           & BRBA             & BR               & BA               & State            & Brazil           & South America    & Primary land     & 5                & 59.891605        & 46.5651819       & 0               \\\\\n",
       "\t44 & 81               & Distrito Federal & Brazil           & BRDF             & BR               & DF               & Federal District & Brazil           & South America    & Primary land     & 5                &  3.363973        &  0.4871103       & 0               \\\\\n",
       "\t49 & 92               & EspÃ­rito Santo  & Brazil           & BRES             & BR               & ES               & State            & Brazil           & South America    & Primary land     & 5                & 17.274689        &  3.9763674       & 0               \\\\\n",
       "\t60 & 111              & GoiÃ¡s           & Brazil           & BRGO             & BR               & GO               & State            & Brazil           & South America    & Primary land     & 5                & 39.730125        & 29.1040338       & 0               \\\\\n",
       "\\end{tabular}\n"
      ],
      "text/markdown": [
       "\n",
       "| <!--/--> | OBJECTID | NAME | COUNTRY | ISO_CODE | ISO_CC | ISO_SUB | ADMINTYPE | COUNTRYAFF | CONTINENT | Land_Type | Land_Rank | Shape_Leng | Shape_Area | sqmiles | \n",
       "|---|---|---|---|---|---|\n",
       "| 1 | 2                | Acre             | Brazil           | BRAC             | BR               | AC               | State            | Brazil           | South America    | Primary land     | 5                | 24.184611        | 12.7273718       | 0                | \n",
       "| 5 | 9                | Alagoas          | Brazil           | BRAL             | BR               | AL               | State            | Brazil           | South America    | Primary land     | 5                | 11.071300        |  2.2760259       | 0                | \n",
       "| 19 | 38               | Bahia            | Brazil           | BRBA             | BR               | BA               | State            | Brazil           | South America    | Primary land     | 5                | 59.891605        | 46.5651819       | 0                | \n",
       "| 44 | 81               | Distrito Federal | Brazil           | BRDF             | BR               | DF               | Federal District | Brazil           | South America    | Primary land     | 5                |  3.363973        |  0.4871103       | 0                | \n",
       "| 49 | 92               | EspÃ­rito Santo  | Brazil           | BRES             | BR               | ES               | State            | Brazil           | South America    | Primary land     | 5                | 17.274689        |  3.9763674       | 0                | \n",
       "| 60 | 111              | GoiÃ¡s           | Brazil           | BRGO             | BR               | GO               | State            | Brazil           | South America    | Primary land     | 5                | 39.730125        | 29.1040338       | 0                | \n",
       "\n",
       "\n"
      ],
      "text/plain": [
       "   OBJECTID NAME             COUNTRY ISO_CODE ISO_CC ISO_SUB ADMINTYPE       \n",
       "1  2        Acre             Brazil  BRAC     BR     AC      State           \n",
       "5  9        Alagoas          Brazil  BRAL     BR     AL      State           \n",
       "19 38       Bahia            Brazil  BRBA     BR     BA      State           \n",
       "44 81       Distrito Federal Brazil  BRDF     BR     DF      Federal District\n",
       "49 92       EspÃ­rito Santo  Brazil  BRES     BR     ES      State           \n",
       "60 111      GoiÃ¡s           Brazil  BRGO     BR     GO      State           \n",
       "   COUNTRYAFF CONTINENT     Land_Type    Land_Rank Shape_Leng Shape_Area\n",
       "1  Brazil     South America Primary land 5         24.184611  12.7273718\n",
       "5  Brazil     South America Primary land 5         11.071300   2.2760259\n",
       "19 Brazil     South America Primary land 5         59.891605  46.5651819\n",
       "44 Brazil     South America Primary land 5          3.363973   0.4871103\n",
       "49 Brazil     South America Primary land 5         17.274689   3.9763674\n",
       "60 Brazil     South America Primary land 5         39.730125  29.1040338\n",
       "   sqmiles\n",
       "1  0      \n",
       "5  0      \n",
       "19 0      \n",
       "44 0      \n",
       "49 0      \n",
       "60 0      "
      ]
     },
     "metadata": {},
     "output_type": "display_data"
    }
   ],
   "source": [
    "brazil <- worldFeatures2[(worldFeatures2@data$COUNTRY == \"Brazil\") , ]\n",
    "\n",
    "head(brazil@data)"
   ]
  },
  {
   "cell_type": "code",
   "execution_count": 15,
   "metadata": {},
   "outputs": [
    {
     "data": {
      "image/png": "[encoded data removed]",
      "text/plain": [
       "Plot with title \"Brazil\""
      ]
     },
     "metadata": {},
     "output_type": "display_data"
    }
   ],
   "source": [
    "# plot the areas on the screen\n",
    "\n",
    "centroids <- gCentroid(brazil, byid = TRUE)\n",
    "centroidLons <- coordinates(centroids)[, 1]\n",
    "centroidLats <- coordinates(centroids)[, 2]\n",
    "\n",
    "plot(brazil, col = \"lightgreen\", main = \"Brazil\",)\n",
    "\n",
    "# label the features with their respective administrative name and add an appropriate title to the map.\n",
    "\n",
    "text(centroidLons, centroidLats, labels = brazil$NAME)"
   ]
  },
  {
   "cell_type": "code",
   "execution_count": 16,
   "metadata": {
    "scrolled": false
   },
   "outputs": [
    {
     "data": {
      "image/png": "[encoded data removed]",
      "text/plain": [
       "Plot with title \"Minas Gerais\""
      ]
     },
     "metadata": {},
     "output_type": "display_data"
    },
    {
     "data": {
      "image/png": "[encoded data removed]",
      "text/plain": [
       "Plot with title \"Bahia\""
      ]
     },
     "metadata": {},
     "output_type": "display_data"
    },
    {
     "data": {
      "image/png": "[encoded data removed]",
      "text/plain": [
       "Plot with title \"Amazonas\""
      ]
     },
     "metadata": {},
     "output_type": "display_data"
    }
   ],
   "source": [
    "\n",
    "selectedStates <- c(\"Minas Gerais\", \"Bahia\", \"Amazonas\")\n",
    "colors <- c(\"lightblue\", \"yellow\", \"lightgreen\")\n",
    "\n",
    "mat <- matrix(c(selectedStates, colors), nrow = length(selectedStates))\n",
    "\n",
    "for(r in 1:nrow(mat)) {\n",
    "    \n",
    "    state <- mat[r, 1]\n",
    "    col <- mat[r, 2]\n",
    "    \n",
    "    featureSubset <- brazil[!is.na(brazil@data$NAME), ]\n",
    "    stateFeatures <- featureSubset[(featureSubset@data$NAME == state) , ]\n",
    "    plot(stateFeatures, col = col, main = state,)\n",
    "    \n",
    "}"
   ]
  }
 ],
 "metadata": {
  "kernelspec": {
   "display_name": "R",
   "language": "R",
   "name": "ir"
  },
  "language_info": {
   "codemirror_mode": "r",
   "file_extension": ".r",
   "mimetype": "text/x-r-source",
   "name": "R",
   "pygments_lexer": "r",
   "version": "3.4.1"
  }
 },
 "nbformat": 4,
 "nbformat_minor": 2
}
