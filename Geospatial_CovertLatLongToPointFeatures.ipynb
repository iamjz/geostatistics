{
 "cells": [
  {
   "cell_type": "markdown",
   "metadata": {},
   "source": [
    "# Converting Long/Lat coordinates to point features"
   ]
  },
  {
   "cell_type": "code",
   "execution_count": 1,
   "metadata": {},
   "outputs": [
    {
     "name": "stderr",
     "output_type": "stream",
     "text": [
      "Warning message:\n",
      "\"package 'sp' was built under R version 3.4.2\""
     ]
    }
   ],
   "source": [
    "# Load relevant R packages\n",
    "inLibraries = list('repr','jsonlite','sp')\n",
    "for (rpack in inLibraries) {\n",
    "  if (is.element(rpack,installed.packages()[,1])){           \n",
    "      #Load the library into R\n",
    "      suppressMessages(library(rpack,character.only = TRUE))\n",
    "    }\n",
    "    else {\n",
    "        print(paste(\"Warning:  \",rpack,\" is not an installed package\"))\n",
    "    }\n",
    "}\n",
    "#resize plot area\n",
    "options(repr.plot.width=6, repr.plot.height=6)"
   ]
  },
  {
   "cell_type": "markdown",
   "metadata": {},
   "source": [
    "## Example 1 (JSON)"
   ]
  },
  {
   "cell_type": "code",
   "execution_count": 2,
   "metadata": {},
   "outputs": [
    {
     "data": {
      "text/html": [
       "<ol class=list-inline>\n",
       "\t<li>'CreatedDate'</li>\n",
       "\t<li>'Documentation'</li>\n",
       "\t<li>'NumberOfEntries'</li>\n",
       "\t<li>'URLSource'</li>\n",
       "\t<li>'VAFacilityData'</li>\n",
       "</ol>\n"
      ],
      "text/latex": [
       "\\begin{enumerate*}\n",
       "\\item 'CreatedDate'\n",
       "\\item 'Documentation'\n",
       "\\item 'NumberOfEntries'\n",
       "\\item 'URLSource'\n",
       "\\item 'VAFacilityData'\n",
       "\\end{enumerate*}\n"
      ],
      "text/markdown": [
       "1. 'CreatedDate'\n",
       "2. 'Documentation'\n",
       "3. 'NumberOfEntries'\n",
       "4. 'URLSource'\n",
       "5. 'VAFacilityData'\n",
       "\n",
       "\n"
      ],
      "text/plain": [
       "[1] \"CreatedDate\"     \"Documentation\"   \"NumberOfEntries\" \"URLSource\"      \n",
       "[5] \"VAFacilityData\" "
      ]
     },
     "metadata": {},
     "output_type": "display_data"
    }
   ],
   "source": [
    "#get file path\n",
    "filelocation <- file.path('datasets/VAFacilityLocation.json')\n",
    "\n",
    "#read json file\n",
    "facilities <- fromJSON(filelocation)\n",
    "\n",
    "#view file structure\n",
    "names(facilities)"
   ]
  },
  {
   "cell_type": "code",
   "execution_count": 3,
   "metadata": {},
   "outputs": [
    {
     "data": {
      "text/html": [
       "'2017-04-11'"
      ],
      "text/latex": [
       "'2017-04-11'"
      ],
      "text/markdown": [
       "'2017-04-11'"
      ],
      "text/plain": [
       "[1] \"2017-04-11\""
      ]
     },
     "metadata": {},
     "output_type": "display_data"
    }
   ],
   "source": [
    "facilities$CreatedDate"
   ]
  },
  {
   "cell_type": "code",
   "execution_count": 4,
   "metadata": {},
   "outputs": [
    {
     "data": {
      "text/html": [
       "'https://www.va.gov/webservices/fandl/documentation/fandl.cfm'"
      ],
      "text/latex": [
       "'https://www.va.gov/webservices/fandl/documentation/fandl.cfm'"
      ],
      "text/markdown": [
       "'https://www.va.gov/webservices/fandl/documentation/fandl.cfm'"
      ],
      "text/plain": [
       "[1] \"https://www.va.gov/webservices/fandl/documentation/fandl.cfm\""
      ]
     },
     "metadata": {},
     "output_type": "display_data"
    }
   ],
   "source": [
    "facilities$Documentation"
   ]
  },
  {
   "cell_type": "code",
   "execution_count": 5,
   "metadata": {},
   "outputs": [
    {
     "data": {
      "text/html": [
       "1905"
      ],
      "text/latex": [
       "1905"
      ],
      "text/markdown": [
       "1905"
      ],
      "text/plain": [
       "[1] 1905"
      ]
     },
     "metadata": {},
     "output_type": "display_data"
    }
   ],
   "source": [
    "facilities$NumberOfEntries"
   ]
  },
  {
   "cell_type": "code",
   "execution_count": 6,
   "metadata": {},
   "outputs": [
    {
     "data": {
      "text/html": [
       "'https://www.va.gov/webservices/fandl/facilities.cfc?method=Facility_byRegionIDandType_detail_query&amp;fac_fld=reg_id&amp;fac_val=19&amp;license=xxxx&amp;ReturnFormat=json'"
      ],
      "text/latex": [
       "'https://www.va.gov/webservices/fandl/facilities.cfc?method=Facility\\_byRegionIDandType\\_detail\\_query\\&fac\\_fld=reg\\_id\\&fac\\_val=19\\&license=xxxx\\&ReturnFormat=json'"
      ],
      "text/markdown": [
       "'https://www.va.gov/webservices/fandl/facilities.cfc?method=Facility_byRegionIDandType_detail_query&amp;fac_fld=reg_id&amp;fac_val=19&amp;license=xxxx&amp;ReturnFormat=json'"
      ],
      "text/plain": [
       "[1] \"https://www.va.gov/webservices/fandl/facilities.cfc?method=Facility_byRegionIDandType_detail_query&fac_fld=reg_id&fac_val=19&license=xxxx&ReturnFormat=json\""
      ]
     },
     "metadata": {},
     "output_type": "display_data"
    }
   ],
   "source": [
    "facilities$URLSource"
   ]
  },
  {
   "cell_type": "code",
   "execution_count": 7,
   "metadata": {},
   "outputs": [
    {
     "data": {
      "text/html": [
       "<table>\n",
       "<thead><tr><th></th><th scope=col>1</th><th scope=col>2</th><th scope=col>3</th></tr></thead>\n",
       "<tbody>\n",
       "\t<tr><th scope=row>address</th><td>150 South Huntington Avenue                                </td><td>950 Campbell Avenue                                        </td><td>200 Springs Rd.                                            </td></tr>\n",
       "\t<tr><th scope=row>city</th><td>Jamaica Plain                                              </td><td>West Haven                                                 </td><td>Bedford                                                    </td></tr>\n",
       "\t<tr><th scope=row>division</th><td>Veterans Health Administration                             </td><td>Veterans Health Administration                             </td><td>Veterans Health Administration                             </td></tr>\n",
       "\t<tr><th scope=row>facility_id</th><td>523                                                        </td><td>689                                                        </td><td>518                                                        </td></tr>\n",
       "\t<tr><th scope=row>fax</th><td>NA                                                         </td><td>NA                                                         </td><td>781-687-2101                                               </td></tr>\n",
       "\t<tr><th scope=row>latitude</th><td>42.326988                                                  </td><td>41.283665                                                  </td><td>42.502902                                                  </td></tr>\n",
       "\t<tr><th scope=row>longitude</th><td>-71.110632                                                 </td><td>-72.960451                                                 </td><td>-71.272671                                                 </td></tr>\n",
       "\t<tr><th scope=row>name</th><td>VA Boston Healthcare System                                </td><td>VA Connecticut Healthcare System                           </td><td>Edith Nourse Rogers Memorial Veterans Hospital (Bedford VA)</td></tr>\n",
       "\t<tr><th scope=row>phone</th><td>617-232-9500                                               </td><td>203-932-5711                                               </td><td>781-687-2000                                               </td></tr>\n",
       "\t<tr><th scope=row>postal_code</th><td>02130                                                      </td><td>06516                                                      </td><td>01730                                                      </td></tr>\n",
       "\t<tr><th scope=row>region</th><td>VISN 1: VA New England Healthcare System                   </td><td>VISN 1: VA New England Healthcare System                   </td><td>VISN 1: VA New England Healthcare System                   </td></tr>\n",
       "\t<tr><th scope=row>state</th><td>MA                                                         </td><td>CT                                                         </td><td>MA                                                         </td></tr>\n",
       "\t<tr><th scope=row>type</th><td>VA Health Care System                                      </td><td>VA Health Care System                                      </td><td>VA Medical Center                                          </td></tr>\n",
       "\t<tr><th scope=row>url</th><td>http://www.boston.va.gov                                   </td><td>NA                                                         </td><td>http://www.bedford.va.gov/                                 </td></tr>\n",
       "</tbody>\n",
       "</table>\n"
      ],
      "text/latex": [
       "\\begin{tabular}{r|lll}\n",
       "  & 1 & 2 & 3\\\\\n",
       "\\hline\n",
       "\taddress & 150 South Huntington Avenue                                 & 950 Campbell Avenue                                         & 200 Springs Rd.                                            \\\\\n",
       "\tcity & Jamaica Plain                                               & West Haven                                                  & Bedford                                                    \\\\\n",
       "\tdivision & Veterans Health Administration                              & Veterans Health Administration                              & Veterans Health Administration                             \\\\\n",
       "\tfacility\\_id & 523                                                         & 689                                                         & 518                                                        \\\\\n",
       "\tfax & NA                                                          & NA                                                          & 781-687-2101                                               \\\\\n",
       "\tlatitude & 42.326988                                                   & 41.283665                                                   & 42.502902                                                  \\\\\n",
       "\tlongitude & -71.110632                                                  & -72.960451                                                  & -71.272671                                                 \\\\\n",
       "\tname & VA Boston Healthcare System                                 & VA Connecticut Healthcare System                            & Edith Nourse Rogers Memorial Veterans Hospital (Bedford VA)\\\\\n",
       "\tphone & 617-232-9500                                                & 203-932-5711                                                & 781-687-2000                                               \\\\\n",
       "\tpostal\\_code & 02130                                                       & 06516                                                       & 01730                                                      \\\\\n",
       "\tregion & VISN 1: VA New England Healthcare System                    & VISN 1: VA New England Healthcare System                    & VISN 1: VA New England Healthcare System                   \\\\\n",
       "\tstate & MA                                                          & CT                                                          & MA                                                         \\\\\n",
       "\ttype & VA Health Care System                                       & VA Health Care System                                       & VA Medical Center                                          \\\\\n",
       "\turl & http://www.boston.va.gov                                    & NA                                                          & http://www.bedford.va.gov/                                 \\\\\n",
       "\\end{tabular}\n"
      ],
      "text/markdown": [
       "\n",
       "| <!--/--> | 1 | 2 | 3 | \n",
       "|---|---|---|---|---|---|---|---|---|---|---|---|---|---|\n",
       "| address | 150 South Huntington Avenue                                 | 950 Campbell Avenue                                         | 200 Springs Rd.                                             | \n",
       "| city | Jamaica Plain                                               | West Haven                                                  | Bedford                                                     | \n",
       "| division | Veterans Health Administration                              | Veterans Health Administration                              | Veterans Health Administration                              | \n",
       "| facility_id | 523                                                         | 689                                                         | 518                                                         | \n",
       "| fax | NA                                                          | NA                                                          | 781-687-2101                                                | \n",
       "| latitude | 42.326988                                                   | 41.283665                                                   | 42.502902                                                   | \n",
       "| longitude | -71.110632                                                  | -72.960451                                                  | -71.272671                                                  | \n",
       "| name | VA Boston Healthcare System                                 | VA Connecticut Healthcare System                            | Edith Nourse Rogers Memorial Veterans Hospital (Bedford VA) | \n",
       "| phone | 617-232-9500                                                | 203-932-5711                                                | 781-687-2000                                                | \n",
       "| postal_code | 02130                                                       | 06516                                                       | 01730                                                       | \n",
       "| region | VISN 1: VA New England Healthcare System                    | VISN 1: VA New England Healthcare System                    | VISN 1: VA New England Healthcare System                    | \n",
       "| state | MA                                                          | CT                                                          | MA                                                          | \n",
       "| type | VA Health Care System                                       | VA Health Care System                                       | VA Medical Center                                           | \n",
       "| url | http://www.boston.va.gov                                    | NA                                                          | http://www.bedford.va.gov/                                  | \n",
       "\n",
       "\n"
      ],
      "text/plain": [
       "            1                                       \n",
       "address     150 South Huntington Avenue             \n",
       "city        Jamaica Plain                           \n",
       "division    Veterans Health Administration          \n",
       "facility_id 523                                     \n",
       "fax         NA                                      \n",
       "latitude    42.326988                               \n",
       "longitude   -71.110632                              \n",
       "name        VA Boston Healthcare System             \n",
       "phone       617-232-9500                            \n",
       "postal_code 02130                                   \n",
       "region      VISN 1: VA New England Healthcare System\n",
       "state       MA                                      \n",
       "type        VA Health Care System                   \n",
       "url         http://www.boston.va.gov                \n",
       "            2                                       \n",
       "address     950 Campbell Avenue                     \n",
       "city        West Haven                              \n",
       "division    Veterans Health Administration          \n",
       "facility_id 689                                     \n",
       "fax         NA                                      \n",
       "latitude    41.283665                               \n",
       "longitude   -72.960451                              \n",
       "name        VA Connecticut Healthcare System        \n",
       "phone       203-932-5711                            \n",
       "postal_code 06516                                   \n",
       "region      VISN 1: VA New England Healthcare System\n",
       "state       CT                                      \n",
       "type        VA Health Care System                   \n",
       "url         NA                                      \n",
       "            3                                                          \n",
       "address     200 Springs Rd.                                            \n",
       "city        Bedford                                                    \n",
       "division    Veterans Health Administration                             \n",
       "facility_id 518                                                        \n",
       "fax         781-687-2101                                               \n",
       "latitude    42.502902                                                  \n",
       "longitude   -71.272671                                                 \n",
       "name        Edith Nourse Rogers Memorial Veterans Hospital (Bedford VA)\n",
       "phone       781-687-2000                                               \n",
       "postal_code 01730                                                      \n",
       "region      VISN 1: VA New England Healthcare System                   \n",
       "state       MA                                                         \n",
       "type        VA Medical Center                                          \n",
       "url         http://www.bedford.va.gov/                                 "
      ]
     },
     "metadata": {},
     "output_type": "display_data"
    }
   ],
   "source": [
    "t(head(facilities$VAFacilityData, 3))"
   ]
  },
  {
   "cell_type": "code",
   "execution_count": 8,
   "metadata": {},
   "outputs": [
    {
     "data": {
      "text/html": [
       "<ol class=list-inline>\n",
       "\t<li>'CreatedDate'</li>\n",
       "\t<li>'Documentation'</li>\n",
       "\t<li>'NumberOfEntries'</li>\n",
       "\t<li>'URLSource'</li>\n",
       "\t<li>'VAFacilityData'</li>\n",
       "</ol>\n"
      ],
      "text/latex": [
       "\\begin{enumerate*}\n",
       "\\item 'CreatedDate'\n",
       "\\item 'Documentation'\n",
       "\\item 'NumberOfEntries'\n",
       "\\item 'URLSource'\n",
       "\\item 'VAFacilityData'\n",
       "\\end{enumerate*}\n"
      ],
      "text/markdown": [
       "1. 'CreatedDate'\n",
       "2. 'Documentation'\n",
       "3. 'NumberOfEntries'\n",
       "4. 'URLSource'\n",
       "5. 'VAFacilityData'\n",
       "\n",
       "\n"
      ],
      "text/plain": [
       "[1] \"CreatedDate\"     \"Documentation\"   \"NumberOfEntries\" \"URLSource\"      \n",
       "[5] \"VAFacilityData\" "
      ]
     },
     "metadata": {},
     "output_type": "display_data"
    }
   ],
   "source": [
    "#get file structure\n",
    "names(facilities)"
   ]
  },
  {
   "cell_type": "code",
   "execution_count": 9,
   "metadata": {},
   "outputs": [
    {
     "data": {
      "text/html": [
       "<ol class=list-inline>\n",
       "\t<li>'address'</li>\n",
       "\t<li>'city'</li>\n",
       "\t<li>'division'</li>\n",
       "\t<li>'facility_id'</li>\n",
       "\t<li>'fax'</li>\n",
       "\t<li>'latitude'</li>\n",
       "\t<li>'longitude'</li>\n",
       "\t<li>'name'</li>\n",
       "\t<li>'phone'</li>\n",
       "\t<li>'postal_code'</li>\n",
       "\t<li>'region'</li>\n",
       "\t<li>'state'</li>\n",
       "\t<li>'type'</li>\n",
       "\t<li>'url'</li>\n",
       "</ol>\n"
      ],
      "text/latex": [
       "\\begin{enumerate*}\n",
       "\\item 'address'\n",
       "\\item 'city'\n",
       "\\item 'division'\n",
       "\\item 'facility\\_id'\n",
       "\\item 'fax'\n",
       "\\item 'latitude'\n",
       "\\item 'longitude'\n",
       "\\item 'name'\n",
       "\\item 'phone'\n",
       "\\item 'postal\\_code'\n",
       "\\item 'region'\n",
       "\\item 'state'\n",
       "\\item 'type'\n",
       "\\item 'url'\n",
       "\\end{enumerate*}\n"
      ],
      "text/markdown": [
       "1. 'address'\n",
       "2. 'city'\n",
       "3. 'division'\n",
       "4. 'facility_id'\n",
       "5. 'fax'\n",
       "6. 'latitude'\n",
       "7. 'longitude'\n",
       "8. 'name'\n",
       "9. 'phone'\n",
       "10. 'postal_code'\n",
       "11. 'region'\n",
       "12. 'state'\n",
       "13. 'type'\n",
       "14. 'url'\n",
       "\n",
       "\n"
      ],
      "text/plain": [
       " [1] \"address\"     \"city\"        \"division\"    \"facility_id\" \"fax\"        \n",
       " [6] \"latitude\"    \"longitude\"   \"name\"        \"phone\"       \"postal_code\"\n",
       "[11] \"region\"      \"state\"       \"type\"        \"url\"        "
      ]
     },
     "metadata": {},
     "output_type": "display_data"
    }
   ],
   "source": [
    "names(facilities$VAFacilityData)"
   ]
  },
  {
   "cell_type": "code",
   "execution_count": 10,
   "metadata": {},
   "outputs": [
    {
     "data": {
      "text/html": [
       "1905"
      ],
      "text/latex": [
       "1905"
      ],
      "text/markdown": [
       "1905"
      ],
      "text/plain": [
       "[1] 1905"
      ]
     },
     "metadata": {},
     "output_type": "display_data"
    }
   ],
   "source": [
    "#number of records\n",
    "numrecs <- length(facilities$VAFacilityData[, 1])\n",
    "\n",
    "numrecs"
   ]
  },
  {
   "cell_type": "code",
   "execution_count": 11,
   "metadata": {
    "collapsed": true
   },
   "outputs": [],
   "source": [
    "#extract the lat, long, and city info for each non-null record\n",
    "cntit <- 1.0\n",
    "lats <- c()\n",
    "longs <- c()\n",
    "cities <- c()\n",
    "\n",
    "while(cntit <= numrecs) {\n",
    "    \n",
    "    lat <- facilities$VAFacilityData[cntit,\"latitude\"]\n",
    "    long <- facilities$VAFacilityData[cntit,\"longitude\"]\n",
    "    city <- facilities$VAFacilityData[cntit,\"city\"]\n",
    "    \n",
    "    if (!is.null(lat) \n",
    "            & !is.na(lat) \n",
    "            & !is.null(long) \n",
    "            & !is.na(long)){\n",
    "        \n",
    "        lats <- c(lats,lat)\n",
    "        longs <- c(longs,long)\n",
    "        cities <- c(cities,city)\n",
    "    }\n",
    "\n",
    "    cntit <- cntit + 1  \n",
    "}"
   ]
  },
  {
   "cell_type": "code",
   "execution_count": 12,
   "metadata": {},
   "outputs": [
    {
     "data": {
      "text/html": [
       "<ol class=list-inline>\n",
       "\t<li>'42.326988'</li>\n",
       "\t<li>'41.283665'</li>\n",
       "\t<li>'42.502902'</li>\n",
       "\t<li>'43.0123'</li>\n",
       "\t<li>'41.833799'</li>\n",
       "</ol>\n"
      ],
      "text/latex": [
       "\\begin{enumerate*}\n",
       "\\item '42.326988'\n",
       "\\item '41.283665'\n",
       "\\item '42.502902'\n",
       "\\item '43.0123'\n",
       "\\item '41.833799'\n",
       "\\end{enumerate*}\n"
      ],
      "text/markdown": [
       "1. '42.326988'\n",
       "2. '41.283665'\n",
       "3. '42.502902'\n",
       "4. '43.0123'\n",
       "5. '41.833799'\n",
       "\n",
       "\n"
      ],
      "text/plain": [
       "[1] \"42.326988\" \"41.283665\" \"42.502902\" \"43.0123\"   \"41.833799\""
      ]
     },
     "metadata": {},
     "output_type": "display_data"
    }
   ],
   "source": [
    "lats[1:5]"
   ]
  },
  {
   "cell_type": "code",
   "execution_count": 13,
   "metadata": {},
   "outputs": [
    {
     "data": {
      "text/html": [
       "<ol class=list-inline>\n",
       "\t<li>'-71.110632'</li>\n",
       "\t<li>'-72.960451'</li>\n",
       "\t<li>'-71.272671'</li>\n",
       "\t<li>'-71.4408'</li>\n",
       "\t<li>'-71.434755'</li>\n",
       "</ol>\n"
      ],
      "text/latex": [
       "\\begin{enumerate*}\n",
       "\\item '-71.110632'\n",
       "\\item '-72.960451'\n",
       "\\item '-71.272671'\n",
       "\\item '-71.4408'\n",
       "\\item '-71.434755'\n",
       "\\end{enumerate*}\n"
      ],
      "text/markdown": [
       "1. '-71.110632'\n",
       "2. '-72.960451'\n",
       "3. '-71.272671'\n",
       "4. '-71.4408'\n",
       "5. '-71.434755'\n",
       "\n",
       "\n"
      ],
      "text/plain": [
       "[1] \"-71.110632\" \"-72.960451\" \"-71.272671\" \"-71.4408\"   \"-71.434755\""
      ]
     },
     "metadata": {},
     "output_type": "display_data"
    }
   ],
   "source": [
    "longs[1:5]"
   ]
  },
  {
   "cell_type": "code",
   "execution_count": 14,
   "metadata": {},
   "outputs": [
    {
     "data": {
      "text/html": [
       "<ol class=list-inline>\n",
       "\t<li>'Jamaica Plain'</li>\n",
       "\t<li>'West Haven'</li>\n",
       "\t<li>'Bedford'</li>\n",
       "\t<li>'Manchester'</li>\n",
       "\t<li>'Providence'</li>\n",
       "</ol>\n"
      ],
      "text/latex": [
       "\\begin{enumerate*}\n",
       "\\item 'Jamaica Plain'\n",
       "\\item 'West Haven'\n",
       "\\item 'Bedford'\n",
       "\\item 'Manchester'\n",
       "\\item 'Providence'\n",
       "\\end{enumerate*}\n"
      ],
      "text/markdown": [
       "1. 'Jamaica Plain'\n",
       "2. 'West Haven'\n",
       "3. 'Bedford'\n",
       "4. 'Manchester'\n",
       "5. 'Providence'\n",
       "\n",
       "\n"
      ],
      "text/plain": [
       "[1] \"Jamaica Plain\" \"West Haven\"    \"Bedford\"       \"Manchester\"   \n",
       "[5] \"Providence\"   "
      ]
     },
     "metadata": {},
     "output_type": "display_data"
    }
   ],
   "source": [
    "cities[1:5]"
   ]
  },
  {
   "cell_type": "markdown",
   "metadata": {},
   "source": [
    "### Convert Lat/Long to Spatial Data Frame\n",
    "\n",
    "Transform the xy coordinates into a spatial point dataframe. This can be done using the SpatialPointsDataFrame() function (sp library). This function requires the coordinates of points, any data that may be related to the points (if any), the proj4string CRS info, as well as a defined bounding box. Here, the projection info and bbox are not specified, but could easily have been. I'm guessing this data is likely in the WGS84 CRS. So, if you'd like to, think back to an earlier module and try to populate the proj4string argument in the SpatialPointsDataFrame() function. You could also experiment with the bounding box argument in order to focus more clearly on a particular region of the world.\n",
    "\n",
    "After this conversion is complete, the point data can be plotted as has been done before."
   ]
  },
  {
   "cell_type": "code",
   "execution_count": 15,
   "metadata": {},
   "outputs": [
    {
     "data": {
      "text/html": [
       "<table>\n",
       "<tbody>\n",
       "\t<tr><td>-71.11063</td><td>42.32699 </td></tr>\n",
       "\t<tr><td>-72.96045</td><td>41.28366 </td></tr>\n",
       "\t<tr><td>-71.27267</td><td>42.50290 </td></tr>\n",
       "\t<tr><td>-71.44080</td><td>43.01230 </td></tr>\n",
       "\t<tr><td>-71.43475</td><td>41.83380 </td></tr>\n",
       "\t<tr><td>-71.05471</td><td>42.06511 </td></tr>\n",
       "</tbody>\n",
       "</table>\n"
      ],
      "text/latex": [
       "\\begin{tabular}{ll}\n",
       "\t -71.11063 & 42.32699 \\\\\n",
       "\t -72.96045 & 41.28366 \\\\\n",
       "\t -71.27267 & 42.50290 \\\\\n",
       "\t -71.44080 & 43.01230 \\\\\n",
       "\t -71.43475 & 41.83380 \\\\\n",
       "\t -71.05471 & 42.06511 \\\\\n",
       "\\end{tabular}\n"
      ],
      "text/markdown": [
       "\n",
       "| -71.11063 | 42.32699  | \n",
       "| -72.96045 | 41.28366  | \n",
       "| -71.27267 | 42.50290  | \n",
       "| -71.44080 | 43.01230  | \n",
       "| -71.43475 | 41.83380  | \n",
       "| -71.05471 | 42.06511  | \n",
       "\n",
       "\n"
      ],
      "text/plain": [
       "     [,1]      [,2]    \n",
       "[1,] -71.11063 42.32699\n",
       "[2,] -72.96045 41.28366\n",
       "[3,] -71.27267 42.50290\n",
       "[4,] -71.44080 43.01230\n",
       "[5,] -71.43475 41.83380\n",
       "[6,] -71.05471 42.06511"
      ]
     },
     "metadata": {},
     "output_type": "display_data"
    }
   ],
   "source": [
    "# generate coordinate pairs for points\n",
    "ptcoords <- cbind(as.numeric(longs), as.numeric(lats))\n",
    "\n",
    "head(ptcoords)"
   ]
  },
  {
   "cell_type": "code",
   "execution_count": 16,
   "metadata": {},
   "outputs": [
    {
     "data": {
      "text/html": [
       "<table>\n",
       "<thead><tr><th scope=col>cities</th></tr></thead>\n",
       "<tbody>\n",
       "\t<tr><td>Jamaica Plain</td></tr>\n",
       "\t<tr><td>West Haven   </td></tr>\n",
       "\t<tr><td>Bedford      </td></tr>\n",
       "\t<tr><td>Manchester   </td></tr>\n",
       "\t<tr><td>Providence   </td></tr>\n",
       "\t<tr><td>Brockton     </td></tr>\n",
       "</tbody>\n",
       "</table>\n"
      ],
      "text/latex": [
       "\\begin{tabular}{r|l}\n",
       " cities\\\\\n",
       "\\hline\n",
       "\t Jamaica Plain\\\\\n",
       "\t West Haven   \\\\\n",
       "\t Bedford      \\\\\n",
       "\t Manchester   \\\\\n",
       "\t Providence   \\\\\n",
       "\t Brockton     \\\\\n",
       "\\end{tabular}\n"
      ],
      "text/markdown": [
       "\n",
       "cities | \n",
       "|---|---|---|---|---|---|\n",
       "| Jamaica Plain | \n",
       "| West Haven    | \n",
       "| Bedford       | \n",
       "| Manchester    | \n",
       "| Providence    | \n",
       "| Brockton      | \n",
       "\n",
       "\n"
      ],
      "text/plain": [
       "  cities       \n",
       "1 Jamaica Plain\n",
       "2 West Haven   \n",
       "3 Bedford      \n",
       "4 Manchester   \n",
       "5 Providence   \n",
       "6 Brockton     "
      ]
     },
     "metadata": {},
     "output_type": "display_data"
    }
   ],
   "source": [
    "#convert ancillary data to dataframe\n",
    "city.df <- as.data.frame(cities)\n",
    "\n",
    "head(city.df)"
   ]
  },
  {
   "cell_type": "code",
   "execution_count": 17,
   "metadata": {},
   "outputs": [
    {
     "data": {
      "text/plain": [
       "            coordinates        cities\n",
       "1 (-71.11063, 42.32699) Jamaica Plain\n",
       "2 (-72.96045, 41.28366)    West Haven\n",
       "3  (-71.27267, 42.5029)       Bedford\n",
       "4   (-71.4408, 43.0123)    Manchester\n",
       "5  (-71.43476, 41.8338)    Providence\n",
       "6 (-71.05471, 42.06511)      Brockton"
      ]
     },
     "metadata": {},
     "output_type": "display_data"
    }
   ],
   "source": [
    "#create spatialpoints\n",
    "spts <- SpatialPointsDataFrame(ptcoords, data = city.df)\n",
    "\n",
    "head(spts)"
   ]
  },
  {
   "cell_type": "code",
   "execution_count": 18,
   "metadata": {},
   "outputs": [
    {
     "data": {
      "text/html": [
       "'S4'"
      ],
      "text/latex": [
       "'S4'"
      ],
      "text/markdown": [
       "'S4'"
      ],
      "text/plain": [
       "[1] \"S4\""
      ]
     },
     "metadata": {},
     "output_type": "display_data"
    }
   ],
   "source": [
    "typeof(spts)"
   ]
  },
  {
   "cell_type": "code",
   "execution_count": 19,
   "metadata": {},
   "outputs": [
    {
     "data": {
      "image/png": "[encoded data removed]",
      "text/plain": [
       "Plot with title \"VA Facilities\""
      ]
     },
     "metadata": {},
     "output_type": "display_data"
    }
   ],
   "source": [
    "#plot the points\n",
    "plot(spts, col = 'blue', pch = 20, cex = 0.2, lwd = 0.2, main = \"VA Facilities\", cex.main = 0.8)"
   ]
  },
  {
   "cell_type": "markdown",
   "metadata": {},
   "source": [
    "## Example 2 (CSV)"
   ]
  },
  {
   "cell_type": "code",
   "execution_count": 20,
   "metadata": {
    "collapsed": true
   },
   "outputs": [],
   "source": [
    "filelocation <- file.path('datasets/Reportable_Rail_Equipment_Accidents.csv')\n",
    "\n",
    "raildata <- read.csv(filelocation, header = TRUE, sep = \",\")"
   ]
  },
  {
   "cell_type": "code",
   "execution_count": 21,
   "metadata": {},
   "outputs": [
    {
     "data": {
      "text/html": [
       "<table>\n",
       "<thead><tr><th></th><th scope=col>1</th><th scope=col>2</th><th scope=col>3</th></tr></thead>\n",
       "<tbody>\n",
       "\t<tr><th scope=row>AccidentType</th><td>Derailments                     </td><td>Other events                    </td><td>Derailments                     </td></tr>\n",
       "\t<tr><th scope=row>inckey</th><td>2013:10:ARR:20130095            </td><td>2015:07:ARR:2015126             </td><td>2016:05:ARR:2016106             </td></tr>\n",
       "\t<tr><th scope=row>Fatalities</th><td>0                               </td><td>0                               </td><td>0                               </td></tr>\n",
       "\t<tr><th scope=row>Injuries</th><td>0                               </td><td>0                               </td><td>0                               </td></tr>\n",
       "\t<tr><th scope=row>TrackDamage</th><td>15000                           </td><td>  687                           </td><td>    0                           </td></tr>\n",
       "\t<tr><th scope=row>EquipmentDamage</th><td>  2000                          </td><td>187943                          </td><td> 12610                          </td></tr>\n",
       "\t<tr><th scope=row>HazmatCars</th><td>0                               </td><td>0                               </td><td>0                               </td></tr>\n",
       "\t<tr><th scope=row>HazmatCarsDerailed</th><td>0                               </td><td>0                               </td><td>0                               </td></tr>\n",
       "\t<tr><th scope=row>HazmatCarsReleasing</th><td>0                               </td><td>0                               </td><td>0                               </td></tr>\n",
       "\t<tr><th scope=row>County</th><td>MATANUSKA SUSITNA               </td><td>ANCHORAGE                       </td><td>ANCHORAGE                       </td></tr>\n",
       "\t<tr><th scope=row>DisplayDate</th><td>10/10/2013 0:00                 </td><td>7/3/2015 0:00                   </td><td>5/25/2016 0:00                  </td></tr>\n",
       "\t<tr><th scope=row>DisplayTime</th><td>3:00                            </td><td>7:55                            </td><td>15:00                           </td></tr>\n",
       "\t<tr><th scope=row>calendar</th><td>2013                            </td><td>2015                            </td><td>2016                            </td></tr>\n",
       "\t<tr><th scope=row>Fiscal</th><td>2014                            </td><td>2015                            </td><td>2016                            </td></tr>\n",
       "\t<tr><th scope=row>AccidentCause</th><td>M101,                           </td><td>H017,                           </td><td>H303,                           </td></tr>\n",
       "\t<tr><th scope=row>RailroadCodes</th><td>ARR,                            </td><td>ARR,                            </td><td>ARR,                            </td></tr>\n",
       "\t<tr><th scope=row>RAILEQUIPMENT_TYPE</th><td> 1                              </td><td> 8                              </td><td>NA                              </td></tr>\n",
       "\t<tr><th scope=row>CauseGroup</th><td>M1,                             </td><td>H0,                             </td><td>H3,                             </td></tr>\n",
       "\t<tr><th scope=row>CauseDiscipline</th><td>M,                              </td><td>H,                              </td><td>H,                              </td></tr>\n",
       "\t<tr><th scope=row>TYPE_OF_TRACK</th><td>MAIN                            </td><td>YARD                            </td><td>YARD                            </td></tr>\n",
       "\t<tr><th scope=row>StateName</th><td>Alaska                          </td><td>Alaska                          </td><td>Alaska                          </td></tr>\n",
       "\t<tr><th scope=row>latitude</th><td>62.60026                        </td><td>61.22276                        </td><td>61.22276                        </td></tr>\n",
       "\t<tr><th scope=row>longitude</th><td>-150.0273                       </td><td>-149.8882                       </td><td>-149.8882                       </td></tr>\n",
       "\t<tr><th scope=row>GeoLocation</th><td>Alaska\n",
       "(62.60026, -150.027313) </td><td>Alaska\n",
       "(61.222756, -149.888214)</td><td>Alaska\n",
       "(61.222756, -149.888214)</td></tr>\n",
       "</tbody>\n",
       "</table>\n"
      ],
      "text/latex": [
       "\\begin{tabular}{r|lll}\n",
       "  & 1 & 2 & 3\\\\\n",
       "\\hline\n",
       "\tAccidentType & Derailments                      & Other events                     & Derailments                     \\\\\n",
       "\tinckey & 2013:10:ARR:20130095             & 2015:07:ARR:2015126              & 2016:05:ARR:2016106             \\\\\n",
       "\tFatalities & 0                                & 0                                & 0                               \\\\\n",
       "\tInjuries & 0                                & 0                                & 0                               \\\\\n",
       "\tTrackDamage & 15000                            &   687                            &     0                           \\\\\n",
       "\tEquipmentDamage &   2000                           & 187943                           &  12610                          \\\\\n",
       "\tHazmatCars & 0                                & 0                                & 0                               \\\\\n",
       "\tHazmatCarsDerailed & 0                                & 0                                & 0                               \\\\\n",
       "\tHazmatCarsReleasing & 0                                & 0                                & 0                               \\\\\n",
       "\tCounty & MATANUSKA SUSITNA                & ANCHORAGE                        & ANCHORAGE                       \\\\\n",
       "\tDisplayDate & 10/10/2013 0:00                  & 7/3/2015 0:00                    & 5/25/2016 0:00                  \\\\\n",
       "\tDisplayTime & 3:00                             & 7:55                             & 15:00                           \\\\\n",
       "\tcalendar & 2013                             & 2015                             & 2016                            \\\\\n",
       "\tFiscal & 2014                             & 2015                             & 2016                            \\\\\n",
       "\tAccidentCause & M101,                            & H017,                            & H303,                           \\\\\n",
       "\tRailroadCodes & ARR,                             & ARR,                             & ARR,                            \\\\\n",
       "\tRAILEQUIPMENT\\_TYPE &  1                               &  8                               & NA                              \\\\\n",
       "\tCauseGroup & M1,                              & H0,                              & H3,                             \\\\\n",
       "\tCauseDiscipline & M,                               & H,                               & H,                              \\\\\n",
       "\tTYPE\\_OF\\_TRACK & MAIN                             & YARD                             & YARD                            \\\\\n",
       "\tStateName & Alaska                           & Alaska                           & Alaska                          \\\\\n",
       "\tlatitude & 62.60026                         & 61.22276                         & 61.22276                        \\\\\n",
       "\tlongitude & -150.0273                        & -149.8882                        & -149.8882                       \\\\\n",
       "\tGeoLocation & Alaska\n",
       "(62.60026, -150.027313)  & Alaska\n",
       "(61.222756, -149.888214) & Alaska\n",
       "(61.222756, -149.888214)\\\\\n",
       "\\end{tabular}\n"
      ],
      "text/markdown": [
       "\n",
       "| <!--/--> | 1 | 2 | 3 | \n",
       "|---|---|---|---|---|---|---|---|---|---|---|---|---|---|---|---|---|---|---|---|---|---|---|---|\n",
       "| AccidentType | Derailments                      | Other events                     | Derailments                      | \n",
       "| inckey | 2013:10:ARR:20130095             | 2015:07:ARR:2015126              | 2016:05:ARR:2016106              | \n",
       "| Fatalities | 0                                | 0                                | 0                                | \n",
       "| Injuries | 0                                | 0                                | 0                                | \n",
       "| TrackDamage | 15000                            |   687                            |     0                            | \n",
       "| EquipmentDamage |   2000                           | 187943                           |  12610                           | \n",
       "| HazmatCars | 0                                | 0                                | 0                                | \n",
       "| HazmatCarsDerailed | 0                                | 0                                | 0                                | \n",
       "| HazmatCarsReleasing | 0                                | 0                                | 0                                | \n",
       "| County | MATANUSKA SUSITNA                | ANCHORAGE                        | ANCHORAGE                        | \n",
       "| DisplayDate | 10/10/2013 0:00                  | 7/3/2015 0:00                    | 5/25/2016 0:00                   | \n",
       "| DisplayTime | 3:00                             | 7:55                             | 15:00                            | \n",
       "| calendar | 2013                             | 2015                             | 2016                             | \n",
       "| Fiscal | 2014                             | 2015                             | 2016                             | \n",
       "| AccidentCause | M101,                            | H017,                            | H303,                            | \n",
       "| RailroadCodes | ARR,                             | ARR,                             | ARR,                             | \n",
       "| RAILEQUIPMENT_TYPE |  1                               |  8                               | NA                               | \n",
       "| CauseGroup | M1,                              | H0,                              | H3,                              | \n",
       "| CauseDiscipline | M,                               | H,                               | H,                               | \n",
       "| TYPE_OF_TRACK | MAIN                             | YARD                             | YARD                             | \n",
       "| StateName | Alaska                           | Alaska                           | Alaska                           | \n",
       "| latitude | 62.60026                         | 61.22276                         | 61.22276                         | \n",
       "| longitude | -150.0273                        | -149.8882                        | -149.8882                        | \n",
       "| GeoLocation | Alaska\n",
       "(62.60026, -150.027313)  | Alaska\n",
       "(61.222756, -149.888214) | Alaska\n",
       "(61.222756, -149.888214) | \n",
       "\n",
       "\n"
      ],
      "text/plain": [
       "                    1                              \n",
       "AccidentType        Derailments                    \n",
       "inckey              2013:10:ARR:20130095           \n",
       "Fatalities          0                              \n",
       "Injuries            0                              \n",
       "TrackDamage         15000                          \n",
       "EquipmentDamage       2000                         \n",
       "HazmatCars          0                              \n",
       "HazmatCarsDerailed  0                              \n",
       "HazmatCarsReleasing 0                              \n",
       "County              MATANUSKA SUSITNA              \n",
       "DisplayDate         10/10/2013 0:00                \n",
       "DisplayTime         3:00                           \n",
       "calendar            2013                           \n",
       "Fiscal              2014                           \n",
       "AccidentCause       M101,                          \n",
       "RailroadCodes       ARR,                           \n",
       "RAILEQUIPMENT_TYPE   1                             \n",
       "CauseGroup          M1,                            \n",
       "CauseDiscipline     M,                             \n",
       "TYPE_OF_TRACK       MAIN                           \n",
       "StateName           Alaska                         \n",
       "latitude            62.60026                       \n",
       "longitude           -150.0273                      \n",
       "GeoLocation         Alaska\\n(62.60026, -150.027313)\n",
       "                    2                               \n",
       "AccidentType        Other events                    \n",
       "inckey              2015:07:ARR:2015126             \n",
       "Fatalities          0                               \n",
       "Injuries            0                               \n",
       "TrackDamage           687                           \n",
       "EquipmentDamage     187943                          \n",
       "HazmatCars          0                               \n",
       "HazmatCarsDerailed  0                               \n",
       "HazmatCarsReleasing 0                               \n",
       "County              ANCHORAGE                       \n",
       "DisplayDate         7/3/2015 0:00                   \n",
       "DisplayTime         7:55                            \n",
       "calendar            2015                            \n",
       "Fiscal              2015                            \n",
       "AccidentCause       H017,                           \n",
       "RailroadCodes       ARR,                            \n",
       "RAILEQUIPMENT_TYPE   8                              \n",
       "CauseGroup          H0,                             \n",
       "CauseDiscipline     H,                              \n",
       "TYPE_OF_TRACK       YARD                            \n",
       "StateName           Alaska                          \n",
       "latitude            61.22276                        \n",
       "longitude           -149.8882                       \n",
       "GeoLocation         Alaska\\n(61.222756, -149.888214)\n",
       "                    3                               \n",
       "AccidentType        Derailments                     \n",
       "inckey              2016:05:ARR:2016106             \n",
       "Fatalities          0                               \n",
       "Injuries            0                               \n",
       "TrackDamage             0                           \n",
       "EquipmentDamage      12610                          \n",
       "HazmatCars          0                               \n",
       "HazmatCarsDerailed  0                               \n",
       "HazmatCarsReleasing 0                               \n",
       "County              ANCHORAGE                       \n",
       "DisplayDate         5/25/2016 0:00                  \n",
       "DisplayTime         15:00                           \n",
       "calendar            2016                            \n",
       "Fiscal              2016                            \n",
       "AccidentCause       H303,                           \n",
       "RailroadCodes       ARR,                            \n",
       "RAILEQUIPMENT_TYPE  NA                              \n",
       "CauseGroup          H3,                             \n",
       "CauseDiscipline     H,                              \n",
       "TYPE_OF_TRACK       YARD                            \n",
       "StateName           Alaska                          \n",
       "latitude            61.22276                        \n",
       "longitude           -149.8882                       \n",
       "GeoLocation         Alaska\\n(61.222756, -149.888214)"
      ]
     },
     "metadata": {},
     "output_type": "display_data"
    }
   ],
   "source": [
    "t(head(raildata, 3))"
   ]
  },
  {
   "cell_type": "code",
   "execution_count": 22,
   "metadata": {
    "collapsed": true
   },
   "outputs": [],
   "source": [
    "#get rail accident lat/long data\n",
    "lats <- raildata$latitude\n",
    "longs <- raildata$longitude\n",
    "\n",
    "#get other attributes\n",
    "cause <- raildata$AccidentCause\n",
    "railline <- raildata$RailroadCodes\n",
    "\n",
    "#create dataframe\n",
    "adddf <- data.frame(cause,railline)"
   ]
  },
  {
   "cell_type": "code",
   "execution_count": 23,
   "metadata": {},
   "outputs": [
    {
     "data": {
      "text/html": [
       "<table>\n",
       "<thead><tr><th scope=col>cause</th><th scope=col>railline</th></tr></thead>\n",
       "<tbody>\n",
       "\t<tr><td>M101,</td><td>ARR, </td></tr>\n",
       "\t<tr><td>H017,</td><td>ARR, </td></tr>\n",
       "\t<tr><td>H303,</td><td>ARR, </td></tr>\n",
       "\t<tr><td>T319,</td><td>ARR, </td></tr>\n",
       "\t<tr><td>H309,</td><td>ARR, </td></tr>\n",
       "\t<tr><td>M599,</td><td>ARR, </td></tr>\n",
       "</tbody>\n",
       "</table>\n"
      ],
      "text/latex": [
       "\\begin{tabular}{r|ll}\n",
       " cause & railline\\\\\n",
       "\\hline\n",
       "\t M101, & ARR, \\\\\n",
       "\t H017, & ARR, \\\\\n",
       "\t H303, & ARR, \\\\\n",
       "\t T319, & ARR, \\\\\n",
       "\t H309, & ARR, \\\\\n",
       "\t M599, & ARR, \\\\\n",
       "\\end{tabular}\n"
      ],
      "text/markdown": [
       "\n",
       "cause | railline | \n",
       "|---|---|---|---|---|---|\n",
       "| M101, | ARR,  | \n",
       "| H017, | ARR,  | \n",
       "| H303, | ARR,  | \n",
       "| T319, | ARR,  | \n",
       "| H309, | ARR,  | \n",
       "| M599, | ARR,  | \n",
       "\n",
       "\n"
      ],
      "text/plain": [
       "  cause railline\n",
       "1 M101, ARR,    \n",
       "2 H017, ARR,    \n",
       "3 H303, ARR,    \n",
       "4 T319, ARR,    \n",
       "5 H309, ARR,    \n",
       "6 M599, ARR,    "
      ]
     },
     "metadata": {},
     "output_type": "display_data"
    }
   ],
   "source": [
    "head(adddf)"
   ]
  },
  {
   "cell_type": "code",
   "execution_count": 24,
   "metadata": {},
   "outputs": [
    {
     "data": {
      "text/html": [
       "<table>\n",
       "<tbody>\n",
       "\t<tr><td>-150.0273</td><td>62.60026 </td></tr>\n",
       "\t<tr><td>-149.8882</td><td>61.22276 </td></tr>\n",
       "\t<tr><td>-149.8882</td><td>61.22276 </td></tr>\n",
       "\t<tr><td>-149.8481</td><td>61.22724 </td></tr>\n",
       "\t<tr><td>-149.5239</td><td>61.13564 </td></tr>\n",
       "\t<tr><td>-149.4454</td><td>61.16808 </td></tr>\n",
       "</tbody>\n",
       "</table>\n"
      ],
      "text/latex": [
       "\\begin{tabular}{ll}\n",
       "\t -150.0273 & 62.60026 \\\\\n",
       "\t -149.8882 & 61.22276 \\\\\n",
       "\t -149.8882 & 61.22276 \\\\\n",
       "\t -149.8481 & 61.22724 \\\\\n",
       "\t -149.5239 & 61.13564 \\\\\n",
       "\t -149.4454 & 61.16808 \\\\\n",
       "\\end{tabular}\n"
      ],
      "text/markdown": [
       "\n",
       "| -150.0273 | 62.60026  | \n",
       "| -149.8882 | 61.22276  | \n",
       "| -149.8882 | 61.22276  | \n",
       "| -149.8481 | 61.22724  | \n",
       "| -149.5239 | 61.13564  | \n",
       "| -149.4454 | 61.16808  | \n",
       "\n",
       "\n"
      ],
      "text/plain": [
       "     [,1]      [,2]    \n",
       "[1,] -150.0273 62.60026\n",
       "[2,] -149.8882 61.22276\n",
       "[3,] -149.8882 61.22276\n",
       "[4,] -149.8481 61.22724\n",
       "[5,] -149.5239 61.13564\n",
       "[6,] -149.4454 61.16808"
      ]
     },
     "metadata": {},
     "output_type": "display_data"
    }
   ],
   "source": [
    "# combine x and y coordinates\n",
    "ptcoords <- cbind(as.numeric(longs),as.numeric(lats))\n",
    "\n",
    "head(ptcoords)"
   ]
  },
  {
   "cell_type": "code",
   "execution_count": 25,
   "metadata": {},
   "outputs": [
    {
     "data": {
      "text/plain": [
       "            coordinates cause railline\n",
       "1 (-150.0273, 62.60026) M101,     ARR,\n",
       "2 (-149.8882, 61.22276) H017,     ARR,\n",
       "3 (-149.8882, 61.22276) H303,     ARR,\n",
       "4 (-149.8481, 61.22724) T319,     ARR,\n",
       "5 (-149.5239, 61.13564) H309,     ARR,\n",
       "6 (-149.4454, 61.16808) M599,     ARR,"
      ]
     },
     "metadata": {},
     "output_type": "display_data"
    }
   ],
   "source": [
    "#create spatialpoints\n",
    "spts <- SpatialPointsDataFrame(ptcoords,data = adddf)\n",
    "\n",
    "head(spts)"
   ]
  },
  {
   "cell_type": "code",
   "execution_count": 26,
   "metadata": {},
   "outputs": [
    {
     "data": {
      "image/png": "[encoded data removed]",
      "text/plain": [
       "Plot with title \"Rail Accidents\""
      ]
     },
     "metadata": {},
     "output_type": "display_data"
    }
   ],
   "source": [
    "#plot the points\n",
    "plot(spts, col = 'blue', pch = 20, cex = 0.2, lwd = 0.2,\n",
    "                 main = \"Rail Accidents\", cex.main = 0.8)"
   ]
  }
 ],
 "metadata": {
  "kernelspec": {
   "display_name": "R",
   "language": "R",
   "name": "ir"
  },
  "language_info": {
   "codemirror_mode": "r",
   "file_extension": ".r",
   "mimetype": "text/x-r-source",
   "name": "R",
   "pygments_lexer": "r",
   "version": "3.4.1"
  }
 },
 "nbformat": 4,
 "nbformat_minor": 2
}
