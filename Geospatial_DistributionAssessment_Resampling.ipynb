{
 "cells": [
  {
   "cell_type": "markdown",
   "metadata": {},
   "source": [
    "# Statistical Distribution Assessment (Bootstrap & Jackknife)\n",
    "\n",
    "The Central Limit Theorem, which is at the heart of interval estimation problem, postulates that the estimates of the mean from a sample tend to become Normally distributed as the sample size (n) increases. This generally holds for any population distribution if n is greater than or equal to 30.  The theorem can even hold in the case of smaller samples, if the original population has a Normal-like distribution.\n",
    "\n",
    "Now suppose the data is drawn from a population with a completely unknown distribution and the sample size is less than 30. In this case, the Central Limit Theorem does not hold. Therefore, t and z disrtributions/scores cannot be used to find intervals for point estimates. We can still use the sample mean x as a point estimate of µ. But how can one find a confidence interval for µ around x? One answer is to use the bootstrap! "
   ]
  },
  {
   "cell_type": "code",
   "execution_count": 3,
   "metadata": {},
   "outputs": [],
   "source": [
    "# Load relevant R packages\n",
    "inLibraries = list('repr','rgdal','sp','rgeos','bootstrap','classInt','RColorBrewer','MASS')\n",
    "for (rpack in inLibraries) {\n",
    "  if (is.element(rpack,installed.packages()[,1])){           \n",
    "      #Load the library into R\n",
    "      suppressMessages(library(rpack,character.only = TRUE))\n",
    "    }\n",
    "    else {\n",
    "        print(paste(\"Warning:  \",rpack,\" is not an installed package\"))\n",
    "    }\n",
    "}\n",
    "#resize plot area\n",
    "options(repr.plot.width=6, repr.plot.height=6)"
   ]
  },
  {
   "cell_type": "markdown",
   "metadata": {},
   "source": [
    "## Read Observed Measurements\n",
    "\n",
    "We will use observations of minimum temperature at 19 weather stations over the state of Missouri. The station point locations can be found at (weatherdata/WeatherMO.shp) and state boundaries that can be used for spatial context can be found at (weatherdata/states_polygon.shp). The minimum temperature attribute in the station dataset is named 'lowTemp' and was derived from a single day's weather information obtained from: https://www.wunderground.com/. "
   ]
  },
  {
   "cell_type": "code",
   "execution_count": 5,
   "metadata": {},
   "outputs": [
    {
     "name": "stdout",
     "output_type": "stream",
     "text": [
      "OGR data source with driver: ESRI Shapefile \n",
      "Source: \"datasets/weatherdata\", layer: \"WeatherMO\"\n",
      "with 19 features\n",
      "It has 19 fields\n",
      "Integer64 fields read as strings:  day month year period highTemp lowTemp avewindSpe avewindDeg avehumidit RASTERVALU elevation \n"
     ]
    }
   ],
   "source": [
    "# Read in shp files\n",
    "inFeature.pts <- readOGR(\"datasets/weatherdata\",\"WeatherMO\")"
   ]
  },
  {
   "cell_type": "code",
   "execution_count": 6,
   "metadata": {},
   "outputs": [
    {
     "name": "stdout",
     "output_type": "stream",
     "text": [
      "OGR data source with driver: ESRI Shapefile \n",
      "Source: \"datasets/weatherdata\", layer: \"states_polygon\"\n",
      "with 9 features\n",
      "It has 9 fields\n"
     ]
    }
   ],
   "source": [
    "inFeature.polys <- readOGR(\"datasets/weatherdata\",\"states_polygon\")"
   ]
  },
  {
   "cell_type": "code",
   "execution_count": 7,
   "metadata": {},
   "outputs": [
    {
     "data": {
      "text/html": [
       "<table>\n",
       "<thead><tr><th></th><th scope=col>1</th><th scope=col>2</th><th scope=col>3</th></tr></thead>\n",
       "<tbody>\n",
       "\t<tr><th scope=row>state</th><td>MO                      </td><td>MO                      </td><td>MO                      </td></tr>\n",
       "\t<tr><th scope=row>city</th><td>Kirksville              </td><td>Chillicothe             </td><td>Saint Joseph            </td></tr>\n",
       "\t<tr><th scope=row>day</th><td>13                      </td><td>13                      </td><td>13                      </td></tr>\n",
       "\t<tr><th scope=row>month</th><td>7                       </td><td>7                       </td><td>7                       </td></tr>\n",
       "\t<tr><th scope=row>year</th><td>2017                    </td><td>2017                    </td><td>2017                    </td></tr>\n",
       "\t<tr><th scope=row>period</th><td>1                       </td><td>1                       </td><td>1                       </td></tr>\n",
       "\t<tr><th scope=row>highTemp</th><td>87                      </td><td>85                      </td><td>83                      </td></tr>\n",
       "\t<tr><th scope=row>lowTemp</th><td>63                      </td><td>67                      </td><td>67                      </td></tr>\n",
       "\t<tr><th scope=row>conditions</th><td>Partly Cloudy           </td><td>Thunderstorm            </td><td>Chance of a Thunderstorm</td></tr>\n",
       "\t<tr><th scope=row>qpf_allday</th><td>0.00                    </td><td>0.02                    </td><td>0.39                    </td></tr>\n",
       "\t<tr><th scope=row>snow_allda</th><td>0                       </td><td>0                       </td><td>0                       </td></tr>\n",
       "\t<tr><th scope=row>avewindSpe</th><td>0                       </td><td>0                       </td><td>0                       </td></tr>\n",
       "\t<tr><th scope=row>avewindDir</th><td>West                    </td><td>SE                      </td><td>SSW                     </td></tr>\n",
       "\t<tr><th scope=row>avewindDeg</th><td>268                     </td><td>135                     </td><td>202                     </td></tr>\n",
       "\t<tr><th scope=row>avehumidit</th><td>86                      </td><td>89                      </td><td>92                      </td></tr>\n",
       "\t<tr><th scope=row>Longi</th><td>-92.58                  </td><td>-93.55                  </td><td>-94.84                  </td></tr>\n",
       "\t<tr><th scope=row>Lati</th><td>40.19                   </td><td>39.80                   </td><td>39.77                   </td></tr>\n",
       "\t<tr><th scope=row>RASTERVALU</th><td>255                     </td><td>247                     </td><td>255                     </td></tr>\n",
       "\t<tr><th scope=row>elevation</th><td>255                     </td><td>247                     </td><td>255                     </td></tr>\n",
       "</tbody>\n",
       "</table>\n"
      ],
      "text/latex": [
       "\\begin{tabular}{r|lll}\n",
       "  & 1 & 2 & 3\\\\\n",
       "\\hline\n",
       "\tstate & MO                       & MO                       & MO                      \\\\\n",
       "\tcity & Kirksville               & Chillicothe              & Saint Joseph            \\\\\n",
       "\tday & 13                       & 13                       & 13                      \\\\\n",
       "\tmonth & 7                        & 7                        & 7                       \\\\\n",
       "\tyear & 2017                     & 2017                     & 2017                    \\\\\n",
       "\tperiod & 1                        & 1                        & 1                       \\\\\n",
       "\thighTemp & 87                       & 85                       & 83                      \\\\\n",
       "\tlowTemp & 63                       & 67                       & 67                      \\\\\n",
       "\tconditions & Partly Cloudy            & Thunderstorm             & Chance of a Thunderstorm\\\\\n",
       "\tqpf\\_allday & 0.00                     & 0.02                     & 0.39                    \\\\\n",
       "\tsnow\\_allda & 0                        & 0                        & 0                       \\\\\n",
       "\tavewindSpe & 0                        & 0                        & 0                       \\\\\n",
       "\tavewindDir & West                     & SE                       & SSW                     \\\\\n",
       "\tavewindDeg & 268                      & 135                      & 202                     \\\\\n",
       "\tavehumidit & 86                       & 89                       & 92                      \\\\\n",
       "\tLongi & -92.58                   & -93.55                   & -94.84                  \\\\\n",
       "\tLati & 40.19                    & 39.80                    & 39.77                   \\\\\n",
       "\tRASTERVALU & 255                      & 247                      & 255                     \\\\\n",
       "\televation & 255                      & 247                      & 255                     \\\\\n",
       "\\end{tabular}\n"
      ],
      "text/markdown": [
       "\n",
       "| <!--/--> | 1 | 2 | 3 | \n",
       "|---|---|---|---|---|---|---|---|---|---|---|---|---|---|---|---|---|---|---|\n",
       "| state | MO                       | MO                       | MO                       | \n",
       "| city | Kirksville               | Chillicothe              | Saint Joseph             | \n",
       "| day | 13                       | 13                       | 13                       | \n",
       "| month | 7                        | 7                        | 7                        | \n",
       "| year | 2017                     | 2017                     | 2017                     | \n",
       "| period | 1                        | 1                        | 1                        | \n",
       "| highTemp | 87                       | 85                       | 83                       | \n",
       "| lowTemp | 63                       | 67                       | 67                       | \n",
       "| conditions | Partly Cloudy            | Thunderstorm             | Chance of a Thunderstorm | \n",
       "| qpf_allday | 0.00                     | 0.02                     | 0.39                     | \n",
       "| snow_allda | 0                        | 0                        | 0                        | \n",
       "| avewindSpe | 0                        | 0                        | 0                        | \n",
       "| avewindDir | West                     | SE                       | SSW                      | \n",
       "| avewindDeg | 268                      | 135                      | 202                      | \n",
       "| avehumidit | 86                       | 89                       | 92                       | \n",
       "| Longi | -92.58                   | -93.55                   | -94.84                   | \n",
       "| Lati | 40.19                    | 39.80                    | 39.77                    | \n",
       "| RASTERVALU | 255                      | 247                      | 255                      | \n",
       "| elevation | 255                      | 247                      | 255                      | \n",
       "\n",
       "\n"
      ],
      "text/plain": [
       "           1             2            3                       \n",
       "state      MO            MO           MO                      \n",
       "city       Kirksville    Chillicothe  Saint Joseph            \n",
       "day        13            13           13                      \n",
       "month      7             7            7                       \n",
       "year       2017          2017         2017                    \n",
       "period     1             1            1                       \n",
       "highTemp   87            85           83                      \n",
       "lowTemp    63            67           67                      \n",
       "conditions Partly Cloudy Thunderstorm Chance of a Thunderstorm\n",
       "qpf_allday 0.00          0.02         0.39                    \n",
       "snow_allda 0             0            0                       \n",
       "avewindSpe 0             0            0                       \n",
       "avewindDir West          SE           SSW                     \n",
       "avewindDeg 268           135          202                     \n",
       "avehumidit 86            89           92                      \n",
       "Longi      -92.58        -93.55       -94.84                  \n",
       "Lati       40.19         39.80        39.77                   \n",
       "RASTERVALU 255           247          255                     \n",
       "elevation  255           247          255                     "
      ]
     },
     "metadata": {},
     "output_type": "display_data"
    }
   ],
   "source": [
    "peek1 <- head(inFeature.pts@data, 3)\n",
    "\n",
    "t(peek1)"
   ]
  },
  {
   "cell_type": "code",
   "execution_count": 8,
   "metadata": {},
   "outputs": [
    {
     "data": {
      "text/html": [
       "<table>\n",
       "<thead><tr><th></th><th scope=col>0</th><th scope=col>1</th><th scope=col>2</th></tr></thead>\n",
       "<tbody>\n",
       "\t<tr><th scope=row>STATEFP</th><td>20          </td><td>29          </td><td>40          </td></tr>\n",
       "\t<tr><th scope=row>STATENS</th><td>00481813    </td><td>01779791    </td><td>01102857    </td></tr>\n",
       "\t<tr><th scope=row>AFFGEOID</th><td>0400000US20 </td><td>0400000US29 </td><td>0400000US40 </td></tr>\n",
       "\t<tr><th scope=row>GEOID</th><td>20          </td><td>29          </td><td>40          </td></tr>\n",
       "\t<tr><th scope=row>STUSPS</th><td>KS          </td><td>MO          </td><td>OK          </td></tr>\n",
       "\t<tr><th scope=row>NAME</th><td>Kansas      </td><td>Missouri    </td><td>Oklahoma    </td></tr>\n",
       "\t<tr><th scope=row>LSAD</th><td>00          </td><td>00          </td><td>00          </td></tr>\n",
       "\t<tr><th scope=row>ALAND</th><td>211753253104</td><td>178052653610</td><td>177663722167</td></tr>\n",
       "\t<tr><th scope=row>AWATER</th><td>1346235678  </td><td>2487575477  </td><td>3373836066  </td></tr>\n",
       "</tbody>\n",
       "</table>\n"
      ],
      "text/latex": [
       "\\begin{tabular}{r|lll}\n",
       "  & 0 & 1 & 2\\\\\n",
       "\\hline\n",
       "\tSTATEFP & 20           & 29           & 40          \\\\\n",
       "\tSTATENS & 00481813     & 01779791     & 01102857    \\\\\n",
       "\tAFFGEOID & 0400000US20  & 0400000US29  & 0400000US40 \\\\\n",
       "\tGEOID & 20           & 29           & 40          \\\\\n",
       "\tSTUSPS & KS           & MO           & OK          \\\\\n",
       "\tNAME & Kansas       & Missouri     & Oklahoma    \\\\\n",
       "\tLSAD & 00           & 00           & 00          \\\\\n",
       "\tALAND & 211753253104 & 178052653610 & 177663722167\\\\\n",
       "\tAWATER & 1346235678   & 2487575477   & 3373836066  \\\\\n",
       "\\end{tabular}\n"
      ],
      "text/markdown": [
       "\n",
       "| <!--/--> | 0 | 1 | 2 | \n",
       "|---|---|---|---|---|---|---|---|---|\n",
       "| STATEFP | 20           | 29           | 40           | \n",
       "| STATENS | 00481813     | 01779791     | 01102857     | \n",
       "| AFFGEOID | 0400000US20  | 0400000US29  | 0400000US40  | \n",
       "| GEOID | 20           | 29           | 40           | \n",
       "| STUSPS | KS           | MO           | OK           | \n",
       "| NAME | Kansas       | Missouri     | Oklahoma     | \n",
       "| LSAD | 00           | 00           | 00           | \n",
       "| ALAND | 211753253104 | 178052653610 | 177663722167 | \n",
       "| AWATER | 1346235678   | 2487575477   | 3373836066   | \n",
       "\n",
       "\n"
      ],
      "text/plain": [
       "         0            1            2           \n",
       "STATEFP  20           29           40          \n",
       "STATENS  00481813     01779791     01102857    \n",
       "AFFGEOID 0400000US20  0400000US29  0400000US40 \n",
       "GEOID    20           29           40          \n",
       "STUSPS   KS           MO           OK          \n",
       "NAME     Kansas       Missouri     Oklahoma    \n",
       "LSAD     00           00           00          \n",
       "ALAND    211753253104 178052653610 177663722167\n",
       "AWATER   1346235678   2487575477   3373836066  "
      ]
     },
     "metadata": {},
     "output_type": "display_data"
    }
   ],
   "source": [
    "peek2 <- head(inFeature.polys@data, 3)\n",
    "\n",
    "t(peek2)"
   ]
  },
  {
   "cell_type": "code",
   "execution_count": 9,
   "metadata": {
    "collapsed": true
   },
   "outputs": [],
   "source": [
    "# Define analysis variable\n",
    "inVa <- as.numeric (inFeature.pts$lowTemp)"
   ]
  },
  {
   "cell_type": "code",
   "execution_count": 10,
   "metadata": {},
   "outputs": [
    {
     "data": {
      "text/html": [
       "<ol class=list-inline>\n",
       "\t<li>1</li>\n",
       "\t<li>2</li>\n",
       "\t<li>2</li>\n",
       "\t<li>5</li>\n",
       "\t<li>4</li>\n",
       "</ol>\n"
      ],
      "text/latex": [
       "\\begin{enumerate*}\n",
       "\\item 1\n",
       "\\item 2\n",
       "\\item 2\n",
       "\\item 5\n",
       "\\item 4\n",
       "\\end{enumerate*}\n"
      ],
      "text/markdown": [
       "1. 1\n",
       "2. 2\n",
       "3. 2\n",
       "4. 5\n",
       "5. 4\n",
       "\n",
       "\n"
      ],
      "text/plain": [
       "[1] 1 2 2 5 4"
      ]
     },
     "metadata": {},
     "output_type": "display_data"
    }
   ],
   "source": [
    "inVa[1:5]"
   ]
  },
  {
   "cell_type": "markdown",
   "metadata": {},
   "source": [
    "## Explore the Feature Attributes"
   ]
  },
  {
   "cell_type": "code",
   "execution_count": 11,
   "metadata": {},
   "outputs": [
    {
     "data": {
      "text/plain": [
       "Object of class SpatialPointsDataFrame\n",
       "Coordinates:\n",
       "                min       max\n",
       "coords.x1  342407.8  804839.4\n",
       "coords.x2 4071401.4 4448930.1\n",
       "Is projected: TRUE \n",
       "proj4string :\n",
       "[+proj=utm +zone=15 +datum=NAD83 +units=m +no_defs +ellps=GRS80\n",
       "+towgs84=0,0,0]\n",
       "Number of points: 19\n",
       "Data attributes:\n",
       " state                  city    day     month    year    period    highTemp\n",
       " MO:19   Cape Girardeau   : 1   13:19   7:19   2017:19   1:19   89     :3  \n",
       "         Chesterfield     : 1                                   93     :3  \n",
       "         Chillicothe      : 1                                   91     :2  \n",
       "         Columbia         : 1                                   92     :2  \n",
       "         Farmington       : 1                                   97     :2  \n",
       "         Fort Leonard Wood: 1                                   83     :1  \n",
       "         (Other)          :13                                   (Other):6  \n",
       " lowTemp                    conditions   qpf_allday       snow_allda\n",
       " 63:1    Chance of a Thunderstorm:8    Min.   :0.0000   Min.   :0   \n",
       " 67:2    Partly Cloudy           :3    1st Qu.:0.0300   1st Qu.:0   \n",
       " 70:5    Thunderstorm            :8    Median :0.1500   Median :0   \n",
       " 71:3                                  Mean   :0.3921   Mean   :0   \n",
       " 72:2                                  3rd Qu.:0.4200   3rd Qu.:0   \n",
       " 73:3                                  Max.   :2.2200   Max.   :0   \n",
       " 74:3                                                               \n",
       "   avewindSpe   avewindDir   avewindDeg   avehumidit     Longi       \n",
       " 0      :5    SSW    :4    0      :8    86     :4    Min.   :-94.84  \n",
       " 1      :4    West   :3    135    :1    89     :4    1st Qu.:-93.42  \n",
       " 2      :2    WSW    :3    169    :1    82     :2    Median :-92.29  \n",
       " 5      :2    South  :2    189    :1    88     :2    Mean   :-92.25  \n",
       " 9      :2    WNW    :2    199    :1    92     :2    3rd Qu.:-90.56  \n",
       " 3      :1    East   :1    202    :1    74     :1    Max.   :-89.56  \n",
       " (Other):3    (Other):4    (Other):6    (Other):4                    \n",
       "      Lati         RASTERVALU   elevation\n",
       " Min.   :36.76   255    :9    255    :9  \n",
       " 1st Qu.:37.77   123    :1    123    :1  \n",
       " Median :38.63   128    :1    128    :1  \n",
       " Mean   :38.42   148    :1    148    :1  \n",
       " 3rd Qu.:38.87   160    :1    160    :1  \n",
       " Max.   :40.19   166    :1    166    :1  \n",
       "                 (Other):5    (Other):5  "
      ]
     },
     "metadata": {},
     "output_type": "display_data"
    }
   ],
   "source": [
    "# Summarize attributes of weather data\n",
    "summary (inFeature.pts)"
   ]
  },
  {
   "cell_type": "code",
   "execution_count": 12,
   "metadata": {},
   "outputs": [
    {
     "data": {
      "text/plain": [
       "Object of class SpatialPolygonsDataFrame\n",
       "Coordinates:\n",
       "         min      max\n",
       "x -104.05351 -81.6469\n",
       "y   33.00411  43.5012\n",
       "Is projected: FALSE \n",
       "proj4string :\n",
       "[+proj=longlat +datum=NAD83 +no_defs +ellps=GRS80 +towgs84=0,0,0]\n",
       "Data attributes:\n",
       "    STATEFP      STATENS         AFFGEOID     GEOID       STUSPS        NAME  \n",
       " 05     :1   00068085:1   0400000US05:1   05     :1   AR     :1   Arkansas:1  \n",
       " 17     :1   00481813:1   0400000US17:1   17     :1   IA     :1   Illinois:1  \n",
       " 19     :1   01102857:1   0400000US19:1   19     :1   IL     :1   Iowa    :1  \n",
       " 20     :1   01325873:1   0400000US20:1   20     :1   KS     :1   Kansas  :1  \n",
       " 21     :1   01779784:1   0400000US21:1   21     :1   KY     :1   Kentucky:1  \n",
       " 29     :1   01779785:1   0400000US29:1   29     :1   MO     :1   Missouri:1  \n",
       " (Other):3   (Other) :3   (Other)    :3   (Other):3   (Other):3   (Other) :3  \n",
       " LSAD       ALAND               AWATER         \n",
       " 00:9   Min.   :1.023e+11   Min.   :1.078e+09  \n",
       "        1st Qu.:1.348e+11   1st Qu.:1.356e+09  \n",
       "        Median :1.447e+11   Median :2.389e+09  \n",
       "        Mean   :1.554e+11   Mean   :2.617e+09  \n",
       "        3rd Qu.:1.781e+11   3rd Qu.:2.960e+09  \n",
       "        Max.   :2.118e+11   Max.   :6.207e+09  \n",
       "                                               "
      ]
     },
     "metadata": {},
     "output_type": "display_data"
    }
   ],
   "source": [
    "# Summarize attributes of the state polygon\n",
    "summary (inFeature.polys)"
   ]
  },
  {
   "cell_type": "markdown",
   "metadata": {},
   "source": [
    "### Align CRS\n",
    "\n",
    "As could be seen from features summary, our point and polygon features have different coordinate systems so one should be transform to the other. To do so, the spTransform () function (sp library) can be used."
   ]
  },
  {
   "cell_type": "code",
   "execution_count": 13,
   "metadata": {
    "collapsed": true
   },
   "outputs": [],
   "source": [
    "# Transform to utm\n",
    "inFeature.polys <- spTransform(inFeature.polys, \n",
    "                               CRS(\"+proj=utm +zone=15 +datum=NAD83 +units=m +no_defs +ellps=GRS80 +towgs84=0,0,0\"))"
   ]
  },
  {
   "cell_type": "code",
   "execution_count": 14,
   "metadata": {},
   "outputs": [
    {
     "data": {
      "text/plain": [
       "Object of class SpatialPolygonsDataFrame\n",
       "Coordinates:\n",
       "        min     max\n",
       "x -430361.5 1517175\n",
       "y 3652561.8 4822687\n",
       "Is projected: TRUE \n",
       "proj4string :\n",
       "[+proj=utm +zone=15 +datum=NAD83 +units=m +no_defs +ellps=GRS80\n",
       "+towgs84=0,0,0]\n",
       "Data attributes:\n",
       "    STATEFP      STATENS         AFFGEOID     GEOID       STUSPS        NAME  \n",
       " 05     :1   00068085:1   0400000US05:1   05     :1   AR     :1   Arkansas:1  \n",
       " 17     :1   00481813:1   0400000US17:1   17     :1   IA     :1   Illinois:1  \n",
       " 19     :1   01102857:1   0400000US19:1   19     :1   IL     :1   Iowa    :1  \n",
       " 20     :1   01325873:1   0400000US20:1   20     :1   KS     :1   Kansas  :1  \n",
       " 21     :1   01779784:1   0400000US21:1   21     :1   KY     :1   Kentucky:1  \n",
       " 29     :1   01779785:1   0400000US29:1   29     :1   MO     :1   Missouri:1  \n",
       " (Other):3   (Other) :3   (Other)    :3   (Other):3   (Other):3   (Other) :3  \n",
       " LSAD       ALAND               AWATER         \n",
       " 00:9   Min.   :1.023e+11   Min.   :1.078e+09  \n",
       "        1st Qu.:1.348e+11   1st Qu.:1.356e+09  \n",
       "        Median :1.447e+11   Median :2.389e+09  \n",
       "        Mean   :1.554e+11   Mean   :2.617e+09  \n",
       "        3rd Qu.:1.781e+11   3rd Qu.:2.960e+09  \n",
       "        Max.   :2.118e+11   Max.   :6.207e+09  \n",
       "                                               "
      ]
     },
     "metadata": {},
     "output_type": "display_data"
    }
   ],
   "source": [
    "summary(inFeature.polys)"
   ]
  },
  {
   "cell_type": "markdown",
   "metadata": {},
   "source": [
    "## Visualize Features"
   ]
  },
  {
   "cell_type": "code",
   "execution_count": 15,
   "metadata": {},
   "outputs": [
    {
     "data": {
      "image/png": "[encoded data removed]",
      "text/plain": [
       "Plot with title \"Weather Stations\""
      ]
     },
     "metadata": {},
     "output_type": "display_data"
    }
   ],
   "source": [
    "#Configure classification parameters\n",
    "numcat <- 6\n",
    "cate <- classIntervals(inVa, numcat, style = \"kmeans\")\n",
    "\n",
    "#assign colors to categories\n",
    "pal <- brewer.pal(numcat, \"Reds\")\n",
    "cols <- findColours(cate, pal)\n",
    "\n",
    "# Map input data\n",
    "plot(inFeature.polys[inFeature.polys$NAME == \"Missouri\", ], \n",
    "             col = \"white\",\n",
    "             main = \"Weather Stations\",\n",
    "             cex.main = 0.8)\n",
    "\n",
    "\n",
    "plot(inFeature.pts, \n",
    "             col = cols, \n",
    "             pch = 20,\n",
    "             add = TRUE)\n",
    "\n",
    "#map classification scheme\n",
    "decimalPlaces <- 3\n",
    "\n",
    "brks.dec <- round(cate$brks,decimalPlaces)\n",
    "\n",
    "leg.text <- paste(brks.dec[-numcat], brks.dec[-1], sep=\" - \")\n",
    "\n",
    "legend(\"topright\", fill = attr(cols,\"palette\"), \n",
    "               legend = leg.text, \n",
    "               bty = \"n\", \n",
    "               title = \"Min. Temp\",             \n",
    "               cex = 0.7)"
   ]
  },
  {
   "cell_type": "markdown",
   "metadata": {},
   "source": [
    "## Descriptive statistics\n",
    "\n",
    "Let's say we have sampled to estimate mean and variance of minimum temperature in Missouri. First, examine the sample estimate for the statistics of interest (mean and variance). This task can be accomplished using the mean() and var() functions."
   ]
  },
  {
   "cell_type": "code",
   "execution_count": 16,
   "metadata": {},
   "outputs": [
    {
     "data": {
      "text/html": [
       "4.26315789473684"
      ],
      "text/latex": [
       "4.26315789473684"
      ],
      "text/markdown": [
       "4.26315789473684"
      ],
      "text/plain": [
       "[1] 4.263158"
      ]
     },
     "metadata": {},
     "output_type": "display_data"
    },
    {
     "data": {
      "text/html": [
       "3.42690058479532"
      ],
      "text/latex": [
       "3.42690058479532"
      ],
      "text/markdown": [
       "3.42690058479532"
      ],
      "text/plain": [
       "[1] 3.426901"
      ]
     },
     "metadata": {},
     "output_type": "display_data"
    }
   ],
   "source": [
    "# find mean and variance of sample\n",
    "mean (inVa)\n",
    "\n",
    "var (inVa)"
   ]
  },
  {
   "cell_type": "markdown",
   "metadata": {},
   "source": [
    "### Sample Distribution\n",
    "\n",
    "The next step is to look at the sample distribution. Though resampling methods do not require any assumptions regarding the shape/distribution of data, the histogram and normality can be examined.  In practice, the sample data may be small and not normally distributed. In such instances, estimate intervals cannot be validly computed based on the Central Limit Theorem . As can be seen, the histogram and qq-plot don't reflect a normal distribution."
   ]
  },
  {
   "cell_type": "code",
   "execution_count": 17,
   "metadata": {},
   "outputs": [
    {
     "data": {
      "image/png": "[encoded data removed]",
      "text/plain": [
       "Plot with title \"Histogram of inVa\""
      ]
     },
     "metadata": {},
     "output_type": "display_data"
    },
    {
     "data": {
      "image/png": "[encoded data removed]",
      "text/plain": [
       "Plot with title \"Normal Q-Q Plot\""
      ]
     },
     "metadata": {},
     "output_type": "display_data"
    }
   ],
   "source": [
    "# Draw the histogram and normal distribution line\n",
    "hist(inVa, freq = FALSE, breaks=12)\n",
    "\n",
    "curve(dnorm(x, mean = mean(inVa), sd = sd(inVa)), \n",
    "                                          add = T)\n",
    "\n",
    "# Draw the qq plot\n",
    "qqnorm(inVa)\n",
    "\n",
    "# fit the line\n",
    "qqline(inVa)"
   ]
  },
  {
   "cell_type": "markdown",
   "metadata": {},
   "source": [
    "### Shapiro Test\n",
    "\n",
    "The shapiro test rejects the null hypothesis (data is normal) at 5% significance level (p-value = 0.02 < 0.05) which implies that the data does not have a normal distribution. It is worth noting that according to central limit theorem (for large samples, >= 30) the mean distribution of samples has a normal distribution though the original sample might not be normal. But the sample has only 19 observations and as such, the assumptions required for  the Central Limit Theorem are invalid. Therefore, the only way to construct estimate intervals is via resampling! "
   ]
  },
  {
   "cell_type": "code",
   "execution_count": 18,
   "metadata": {},
   "outputs": [
    {
     "data": {
      "text/plain": [
       "\n",
       "\tShapiro-Wilk normality test\n",
       "\n",
       "data:  inVa\n",
       "W = 0.93163, p-value = 0.1855\n"
      ]
     },
     "metadata": {},
     "output_type": "display_data"
    }
   ],
   "source": [
    "# conduct sahpiro test\n",
    "shapiro.test (inVa)"
   ]
  },
  {
   "cell_type": "markdown",
   "metadata": {},
   "source": [
    "### Bootstrapping (estimation of mean)\n",
    "\n",
    "Bootstrapping is one way to perform computations on the data itself to estimate the variation of statistics that are themselves computed from the same data. That is, the data is \"pulling itself up by its own bootstrap.\" The bootstrap() function (bootstrap library) can be used to accomplish this. The bootstrap() function requires the input variable, number of samples, and the functional form of the variable. The bootstrap result shows the mean estimate of _____ and standard deviation of ____ for 1000 samples. For confidence level of 95% (significance level of 5%), the mean estimation is between _____ and _____ and for 90% confidence level (significance level of 10%), the mean estimation range narrows to _____ and _____.  "
   ]
  },
  {
   "cell_type": "code",
   "execution_count": 19,
   "metadata": {
    "collapsed": true
   },
   "outputs": [],
   "source": [
    "# Bootstrap (1000 times)\n",
    "n.s <- 1000\n",
    "\n",
    "# statistic to be estimated\n",
    "f.mean <- function(x){mean(x)}\n",
    "\n",
    "# conduct bootstrap to find sample mean distribution\n",
    "bs.mean <- bootstrap(inVa, n.s, f.mean)"
   ]
  },
  {
   "cell_type": "code",
   "execution_count": 20,
   "metadata": {},
   "outputs": [
    {
     "data": {
      "text/html": [
       "<ol class=list-inline>\n",
       "\t<li>'thetastar'</li>\n",
       "\t<li>'func.thetastar'</li>\n",
       "\t<li>'jack.boot.val'</li>\n",
       "\t<li>'jack.boot.se'</li>\n",
       "\t<li>'call'</li>\n",
       "</ol>\n"
      ],
      "text/latex": [
       "\\begin{enumerate*}\n",
       "\\item 'thetastar'\n",
       "\\item 'func.thetastar'\n",
       "\\item 'jack.boot.val'\n",
       "\\item 'jack.boot.se'\n",
       "\\item 'call'\n",
       "\\end{enumerate*}\n"
      ],
      "text/markdown": [
       "1. 'thetastar'\n",
       "2. 'func.thetastar'\n",
       "3. 'jack.boot.val'\n",
       "4. 'jack.boot.se'\n",
       "5. 'call'\n",
       "\n",
       "\n"
      ],
      "text/plain": [
       "[1] \"thetastar\"      \"func.thetastar\" \"jack.boot.val\"  \"jack.boot.se\"  \n",
       "[5] \"call\"          "
      ]
     },
     "metadata": {},
     "output_type": "display_data"
    }
   ],
   "source": [
    "names(bs.mean)"
   ]
  },
  {
   "cell_type": "code",
   "execution_count": 21,
   "metadata": {},
   "outputs": [
    {
     "name": "stdout",
     "output_type": "stream",
     "text": [
      "[1] \"bootstrap estimate of mean = 4.26552631578947\"\n",
      "[1] \"standard deviation of bootstrap estimate of mean = 0.40087504006942\"\n"
     ]
    }
   ],
   "source": [
    "# print out mean and standard deviation of sample mean distribution\n",
    "print(paste(\"bootstrap estimate of mean =\", mean(bs.mean$thetastar)))\n",
    "print(paste(\"standard deviation of bootstrap estimate of mean =\", sd(bs.mean$thetastar)))"
   ]
  },
  {
   "cell_type": "code",
   "execution_count": 22,
   "metadata": {
    "collapsed": true
   },
   "outputs": [],
   "source": [
    "# Find confidence intervals for the mean estimation\n",
    "conf.int <- boott(inVa,f.mean)"
   ]
  },
  {
   "cell_type": "code",
   "execution_count": 23,
   "metadata": {},
   "outputs": [
    {
     "data": {
      "text/html": [
       "<ol class=list-inline>\n",
       "\t<li>'confpoints'</li>\n",
       "\t<li>'theta'</li>\n",
       "\t<li>'g'</li>\n",
       "\t<li>'call'</li>\n",
       "</ol>\n"
      ],
      "text/latex": [
       "\\begin{enumerate*}\n",
       "\\item 'confpoints'\n",
       "\\item 'theta'\n",
       "\\item 'g'\n",
       "\\item 'call'\n",
       "\\end{enumerate*}\n"
      ],
      "text/markdown": [
       "1. 'confpoints'\n",
       "2. 'theta'\n",
       "3. 'g'\n",
       "4. 'call'\n",
       "\n",
       "\n"
      ],
      "text/plain": [
       "[1] \"confpoints\" \"theta\"      \"g\"          \"call\"      "
      ]
     },
     "metadata": {},
     "output_type": "display_data"
    }
   ],
   "source": [
    "names(conf.int)"
   ]
  },
  {
   "cell_type": "code",
   "execution_count": 24,
   "metadata": {},
   "outputs": [
    {
     "name": "stdout",
     "output_type": "stream",
     "text": [
      "[1] \"------------------------------------------------------------\"\n",
      "[1] \"bootstrap confidence intervals for sample mean estimate\"\n",
      "       0.001     0.01    0.025    0.05      0.1      0.5      0.9     0.95\n",
      "[1,] 3.25989 3.374378 3.502046 3.57961 3.675341 4.190158 4.626712 4.737847\n",
      "        0.975     0.99    0.999\n",
      "[1,] 4.843531 4.887922 4.907596\n"
     ]
    }
   ],
   "source": [
    "print(\"------------------------------------------------------------\")\n",
    "print(\"bootstrap confidence intervals for sample mean estimate\")\n",
    "print(conf.int$confpoints)"
   ]
  },
  {
   "cell_type": "markdown",
   "metadata": {},
   "source": [
    "### Bootstrapping (estimation of variance)\n",
    "\n",
    "The bootstrap result shows the variance estimate of ____ for samples 1000 . For confidence level of 95% (significance level of 5%), the variance estimation is between ____ and _____ and for 90% confidence level (significance level of 10%), the variance estimation ranges from _____ to _______. "
   ]
  },
  {
   "cell_type": "code",
   "execution_count": 25,
   "metadata": {},
   "outputs": [
    {
     "name": "stdout",
     "output_type": "stream",
     "text": [
      "[1] \"bootstrap estimate of variance = 3.2549649122807\"\n",
      "[1] \"standard deviation of bootstrap estimate of variance = 0.751545814905672\"\n",
      "[1] \"------------------------------------------------------------------------\"\n",
      "[1] \"bootstrap confidence intervals for sample variance estimate\"\n",
      "        0.001     0.01    0.025     0.05      0.1      0.5      0.9     0.95\n",
      "[1,] 1.872313 2.163225 2.308177 2.515828 2.846945 3.624386 4.774639 5.255177\n",
      "        0.975     0.99   0.999\n",
      "[1,] 5.804667 6.645926 7.34271\n"
     ]
    }
   ],
   "source": [
    "# Bootstrap (1000 times)\n",
    "n.s <- 1000\n",
    "\n",
    "# statistic to be estimated\n",
    "f.var <- function(x){var(x)}\n",
    "\n",
    "# conduct bootstrap to find sample variance distribution\n",
    "bs.var <- bootstrap(inVa, n.s, f.var)\n",
    "\n",
    "# print out mean and standard deviation of sample variance distribution\n",
    "print (paste(\"bootstrap estimate of variance =\", mean(bs.var$thetastar)))\n",
    "print (paste(\"standard deviation of bootstrap estimate of variance =\",sd(bs.var$thetastar)))\n",
    "\n",
    "\n",
    "# Find confidence intervals for the variance estimation\n",
    "conf.int <- boott(inVa,f.var)\n",
    "print (\"------------------------------------------------------------------------\")\n",
    "print (\"bootstrap confidence intervals for sample variance estimate\")\n",
    "print (conf.int$confpoints)"
   ]
  },
  {
   "cell_type": "markdown",
   "metadata": {},
   "source": [
    "## Jackknife Estimation\n",
    "\n",
    "The Jackknife method is a simplier form of a bootstrap.  The jackknife or \"leave one out\" is an iterative process in which first the parameter of interest is estimated from the whole sample then each element is in turn dropped from the sample and the parameter is estimated from smaller sample. The jackknife result shows the mean estimate of _____ and standard deviation of ____ for 1000 samples. \n",
    "\n",
    "Again, each time this procedure is repeated, different samples are taken and the results will change."
   ]
  },
  {
   "cell_type": "code",
   "execution_count": 26,
   "metadata": {
    "collapsed": true
   },
   "outputs": [],
   "source": [
    "#JackKnifing\n",
    "jk.mean <- jackknife(inVa, f.mean)\n",
    "jk.var <- jackknife(inVa, f.var)"
   ]
  },
  {
   "cell_type": "code",
   "execution_count": 27,
   "metadata": {},
   "outputs": [
    {
     "data": {
      "text/html": [
       "<ol class=list-inline>\n",
       "\t<li>'jack.se'</li>\n",
       "\t<li>'jack.bias'</li>\n",
       "\t<li>'jack.values'</li>\n",
       "\t<li>'call'</li>\n",
       "</ol>\n"
      ],
      "text/latex": [
       "\\begin{enumerate*}\n",
       "\\item 'jack.se'\n",
       "\\item 'jack.bias'\n",
       "\\item 'jack.values'\n",
       "\\item 'call'\n",
       "\\end{enumerate*}\n"
      ],
      "text/markdown": [
       "1. 'jack.se'\n",
       "2. 'jack.bias'\n",
       "3. 'jack.values'\n",
       "4. 'call'\n",
       "\n",
       "\n"
      ],
      "text/plain": [
       "[1] \"jack.se\"     \"jack.bias\"   \"jack.values\" \"call\"       "
      ]
     },
     "metadata": {},
     "output_type": "display_data"
    }
   ],
   "source": [
    "names(jk.mean)"
   ]
  },
  {
   "cell_type": "code",
   "execution_count": 28,
   "metadata": {},
   "outputs": [
    {
     "name": "stdout",
     "output_type": "stream",
     "text": [
      "[1] \"jacknife estimate of mean = 4.26315789473684\"\n",
      "[1] \"jacknife estimate of variance = 3.42690058479532\"\n",
      "[1] \"standard error of jacknife estimate of mean = 0.424691874979306\"\n",
      "[1] \"standard error of jacknife estimate of variance = 0.798430877414786\"\n"
     ]
    }
   ],
   "source": [
    "print (paste(\"jacknife estimate of mean =\", mean(jk.mean$jack.values)))\n",
    "print (paste(\"jacknife estimate of variance =\", mean(jk.var$jack.values)))\n",
    "print (paste(\"standard error of jacknife estimate of mean =\", jk.mean$jack.se))\n",
    "print (paste(\"standard error of jacknife estimate of variance =\",jk.var$jack.se))"
   ]
  }
 ],
 "metadata": {
  "kernelspec": {
   "display_name": "R",
   "language": "R",
   "name": "ir"
  },
  "language_info": {
   "codemirror_mode": "r",
   "file_extension": ".r",
   "mimetype": "text/x-r-source",
   "name": "R",
   "pygments_lexer": "r",
   "version": "3.4.1"
  }
 },
 "nbformat": 4,
 "nbformat_minor": 2
}
