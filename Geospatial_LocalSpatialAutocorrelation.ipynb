{
 "cells": [
  {
   "cell_type": "markdown",
   "metadata": {},
   "source": [
    "# Local Measures of Spatial Autocorrelation"
   ]
  },
  {
   "cell_type": "code",
   "execution_count": 6,
   "metadata": {},
   "outputs": [],
   "source": [
    "# Load relevant R packages\n",
    "inLibraries = list('rgdal','spdep','classInt','rgeos','repr')\n",
    "for (rpack in inLibraries) {\n",
    "  if (is.element(rpack,installed.packages()[,1])){           \n",
    "      #Load the library into R\n",
    "      suppressMessages(library(rpack,character.only = TRUE))    }\n",
    "    else {\n",
    "        print(paste(\"Warning:  \",rpack,\" is not an installed package\"))\n",
    "    }\n",
    "}\n",
    "#resize plot area\n",
    "options(repr.plot.width=6, repr.plot.height=6)"
   ]
  },
  {
   "cell_type": "markdown",
   "metadata": {},
   "source": [
    "## Crime Analysis\n",
    "\n",
    "This time, let's look at some crime data. There are a wide variety of sources of crime data that are publically available and easy to access. For instance, I did a websearch for crime data and found the city of Chicago posts current crimes in a .csv file format (Chicago Crime data https://catalog.data.gov/dataset/crimes-one-year-prior-to-present-e171f). There are actually a large amount of crimes in this dataset, so I took a subset (those reported for Oct. 2016). In order to associate a topology with the crime data, I found some US Census Blockgroups for the state of Illinois (https://www.census.gov/geo/maps-data/data/cbf/cbf_blkgrp.html). Next, I created a point featureclass from the .csv file since it contained latitude/longitude fields and associated both the crime and blockgroup features with the same coordinate reference system. Finally, I joined the two datasets such that each blockgroup now has a field containing the number of burglaries in Oct. 2016 (Burglaries) and a field containing the total number of crimes in Oct. 2016 (AllCrime). "
   ]
  },
  {
   "cell_type": "code",
   "execution_count": 7,
   "metadata": {},
   "outputs": [
    {
     "name": "stdout",
     "output_type": "stream",
     "text": [
      "OGR data source with driver: ESRI Shapefile \n",
      "Source: \"datasets/chicago\", layer: \"ChicagoBurglaryOct2016\"\n",
      "with 9689 features\n",
      "It has 13 fields\n",
      "Integer64 fields read as strings:  TARGET_FID Burglaries AllCrime \n",
      "OGR data source with driver: ESRI Shapefile \n",
      "Source: \"datasets/chicago\", layer: \"ChicagoBoundary\"\n",
      "with 77 features\n",
      "It has 9 fields\n"
     ]
    }
   ],
   "source": [
    "blockGroup <- readOGR(\"datasets/chicago\",\n",
    "                      \"ChicagoBurglaryOct2016\")\n",
    "\n",
    "chiPoly <- readOGR(\"datasets/chicago\",\n",
    "                      \"ChicagoBoundary\")"
   ]
  },
  {
   "cell_type": "code",
   "execution_count": 8,
   "metadata": {},
   "outputs": [
    {
     "data": {
      "text/html": [
       "<table>\n",
       "<thead><tr><th></th><th scope=col>0</th><th scope=col>1</th><th scope=col>2</th></tr></thead>\n",
       "<tbody>\n",
       "\t<tr><th scope=row>TARGET_FID</th><td>0                    </td><td>1                    </td><td>2                    </td></tr>\n",
       "\t<tr><th scope=row>STATEFP</th><td>17                   </td><td>17                   </td><td>17                   </td></tr>\n",
       "\t<tr><th scope=row>COUNTYFP</th><td>031                  </td><td>019                  </td><td>031                  </td></tr>\n",
       "\t<tr><th scope=row>TRACTCE</th><td>010100               </td><td>005300               </td><td>811301               </td></tr>\n",
       "\t<tr><th scope=row>BLKGRPCE</th><td>3                    </td><td>1                    </td><td>4                    </td></tr>\n",
       "\t<tr><th scope=row>AFFGEOID</th><td>1500000US170310101003</td><td>1500000US170190053001</td><td>1500000US170318113014</td></tr>\n",
       "\t<tr><th scope=row>GEOID</th><td>170310101003         </td><td>170190053001         </td><td>170318113014         </td></tr>\n",
       "\t<tr><th scope=row>NAME</th><td>3                    </td><td>1                    </td><td>4                    </td></tr>\n",
       "\t<tr><th scope=row>LSAD</th><td>BG                   </td><td>BG                   </td><td>BG                   </td></tr>\n",
       "\t<tr><th scope=row>ALAND</th><td> 133973              </td><td>3095432              </td><td>1626156              </td></tr>\n",
       "\t<tr><th scope=row>AWATER</th><td>    0                </td><td>24931                </td><td>    0                </td></tr>\n",
       "\t<tr><th scope=row>Burglaries</th><td>0                    </td><td>0                    </td><td>0                    </td></tr>\n",
       "\t<tr><th scope=row>AllCrime</th><td>10                   </td><td>0                    </td><td>0                    </td></tr>\n",
       "</tbody>\n",
       "</table>\n"
      ],
      "text/latex": [
       "\\begin{tabular}{r|lll}\n",
       "  & 0 & 1 & 2\\\\\n",
       "\\hline\n",
       "\tTARGET\\_FID & 0                     & 1                     & 2                    \\\\\n",
       "\tSTATEFP & 17                    & 17                    & 17                   \\\\\n",
       "\tCOUNTYFP & 031                   & 019                   & 031                  \\\\\n",
       "\tTRACTCE & 010100                & 005300                & 811301               \\\\\n",
       "\tBLKGRPCE & 3                     & 1                     & 4                    \\\\\n",
       "\tAFFGEOID & 1500000US170310101003 & 1500000US170190053001 & 1500000US170318113014\\\\\n",
       "\tGEOID & 170310101003          & 170190053001          & 170318113014         \\\\\n",
       "\tNAME & 3                     & 1                     & 4                    \\\\\n",
       "\tLSAD & BG                    & BG                    & BG                   \\\\\n",
       "\tALAND &  133973               & 3095432               & 1626156              \\\\\n",
       "\tAWATER &     0                 & 24931                 &     0                \\\\\n",
       "\tBurglaries & 0                     & 0                     & 0                    \\\\\n",
       "\tAllCrime & 10                    & 0                     & 0                    \\\\\n",
       "\\end{tabular}\n"
      ],
      "text/markdown": [
       "\n",
       "| <!--/--> | 0 | 1 | 2 | \n",
       "|---|---|---|---|---|---|---|---|---|---|---|---|---|\n",
       "| TARGET_FID | 0                     | 1                     | 2                     | \n",
       "| STATEFP | 17                    | 17                    | 17                    | \n",
       "| COUNTYFP | 031                   | 019                   | 031                   | \n",
       "| TRACTCE | 010100                | 005300                | 811301                | \n",
       "| BLKGRPCE | 3                     | 1                     | 4                     | \n",
       "| AFFGEOID | 1500000US170310101003 | 1500000US170190053001 | 1500000US170318113014 | \n",
       "| GEOID | 170310101003          | 170190053001          | 170318113014          | \n",
       "| NAME | 3                     | 1                     | 4                     | \n",
       "| LSAD | BG                    | BG                    | BG                    | \n",
       "| ALAND |  133973               | 3095432               | 1626156               | \n",
       "| AWATER |     0                 | 24931                 |     0                 | \n",
       "| Burglaries | 0                     | 0                     | 0                     | \n",
       "| AllCrime | 10                    | 0                     | 0                     | \n",
       "\n",
       "\n"
      ],
      "text/plain": [
       "           0                     1                     2                    \n",
       "TARGET_FID 0                     1                     2                    \n",
       "STATEFP    17                    17                    17                   \n",
       "COUNTYFP   031                   019                   031                  \n",
       "TRACTCE    010100                005300                811301               \n",
       "BLKGRPCE   3                     1                     4                    \n",
       "AFFGEOID   1500000US170310101003 1500000US170190053001 1500000US170318113014\n",
       "GEOID      170310101003          170190053001          170318113014         \n",
       "NAME       3                     1                     4                    \n",
       "LSAD       BG                    BG                    BG                   \n",
       "ALAND       133973               3095432               1626156              \n",
       "AWATER         0                 24931                     0                \n",
       "Burglaries 0                     0                     0                    \n",
       "AllCrime   10                    0                     0                    "
      ]
     },
     "metadata": {},
     "output_type": "display_data"
    }
   ],
   "source": [
    "peekBG <- head(blockGroup@data, 3)\n",
    "\n",
    "t(peekBG)"
   ]
  },
  {
   "cell_type": "code",
   "execution_count": 9,
   "metadata": {},
   "outputs": [
    {
     "data": {
      "text/html": [
       "<table>\n",
       "<thead><tr><th></th><th scope=col>0</th><th scope=col>1</th><th scope=col>2</th><th scope=col>3</th><th scope=col>4</th><th scope=col>5</th></tr></thead>\n",
       "<tbody>\n",
       "\t<tr><th scope=row>perimeter</th><td>0              </td><td>0              </td><td>0              </td><td>0              </td><td>0              </td><td>0              </td></tr>\n",
       "\t<tr><th scope=row>community</th><td>DOUGLAS        </td><td>OAKLAND        </td><td>FULLER PARK    </td><td>GRAND BOULEVARD</td><td>KENWOOD        </td><td>LINCOLN SQUARE </td></tr>\n",
       "\t<tr><th scope=row>shape_len</th><td>31027.05       </td><td>19565.51       </td><td>25339.09       </td><td>28196.84       </td><td>23325.17       </td><td>36624.60       </td></tr>\n",
       "\t<tr><th scope=row>shape_area</th><td>46004621       </td><td>16913961       </td><td>19916705       </td><td>48492503       </td><td>29071742       </td><td>71352328       </td></tr>\n",
       "\t<tr><th scope=row>area</th><td>0              </td><td>0              </td><td>0              </td><td>0              </td><td>0              </td><td>0              </td></tr>\n",
       "\t<tr><th scope=row>comarea</th><td>0              </td><td>0              </td><td>0              </td><td>0              </td><td>0              </td><td>0              </td></tr>\n",
       "\t<tr><th scope=row>area_numbe</th><td>35             </td><td>36             </td><td>37             </td><td>38             </td><td>39             </td><td>4              </td></tr>\n",
       "\t<tr><th scope=row>area_num_1</th><td>35             </td><td>36             </td><td>37             </td><td>38             </td><td>39             </td><td>4              </td></tr>\n",
       "\t<tr><th scope=row>comarea_id</th><td>0              </td><td>0              </td><td>0              </td><td>0              </td><td>0              </td><td>0              </td></tr>\n",
       "</tbody>\n",
       "</table>\n"
      ],
      "text/latex": [
       "\\begin{tabular}{r|llllll}\n",
       "  & 0 & 1 & 2 & 3 & 4 & 5\\\\\n",
       "\\hline\n",
       "\tperimeter & 0               & 0               & 0               & 0               & 0               & 0              \\\\\n",
       "\tcommunity & DOUGLAS         & OAKLAND         & FULLER PARK     & GRAND BOULEVARD & KENWOOD         & LINCOLN SQUARE \\\\\n",
       "\tshape\\_len & 31027.05        & 19565.51        & 25339.09        & 28196.84        & 23325.17        & 36624.60       \\\\\n",
       "\tshape\\_area & 46004621        & 16913961        & 19916705        & 48492503        & 29071742        & 71352328       \\\\\n",
       "\tarea & 0               & 0               & 0               & 0               & 0               & 0              \\\\\n",
       "\tcomarea & 0               & 0               & 0               & 0               & 0               & 0              \\\\\n",
       "\tarea\\_numbe & 35              & 36              & 37              & 38              & 39              & 4              \\\\\n",
       "\tarea\\_num\\_1 & 35              & 36              & 37              & 38              & 39              & 4              \\\\\n",
       "\tcomarea\\_id & 0               & 0               & 0               & 0               & 0               & 0              \\\\\n",
       "\\end{tabular}\n"
      ],
      "text/markdown": [
       "\n",
       "| <!--/--> | 0 | 1 | 2 | 3 | 4 | 5 | \n",
       "|---|---|---|---|---|---|---|---|---|\n",
       "| perimeter | 0               | 0               | 0               | 0               | 0               | 0               | \n",
       "| community | DOUGLAS         | OAKLAND         | FULLER PARK     | GRAND BOULEVARD | KENWOOD         | LINCOLN SQUARE  | \n",
       "| shape_len | 31027.05        | 19565.51        | 25339.09        | 28196.84        | 23325.17        | 36624.60        | \n",
       "| shape_area | 46004621        | 16913961        | 19916705        | 48492503        | 29071742        | 71352328        | \n",
       "| area | 0               | 0               | 0               | 0               | 0               | 0               | \n",
       "| comarea | 0               | 0               | 0               | 0               | 0               | 0               | \n",
       "| area_numbe | 35              | 36              | 37              | 38              | 39              | 4               | \n",
       "| area_num_1 | 35              | 36              | 37              | 38              | 39              | 4               | \n",
       "| comarea_id | 0               | 0               | 0               | 0               | 0               | 0               | \n",
       "\n",
       "\n"
      ],
      "text/plain": [
       "           0        1        2           3               4       \n",
       "perimeter  0        0        0           0               0       \n",
       "community  DOUGLAS  OAKLAND  FULLER PARK GRAND BOULEVARD KENWOOD \n",
       "shape_len  31027.05 19565.51 25339.09    28196.84        23325.17\n",
       "shape_area 46004621 16913961 19916705    48492503        29071742\n",
       "area       0        0        0           0               0       \n",
       "comarea    0        0        0           0               0       \n",
       "area_numbe 35       36       37          38              39      \n",
       "area_num_1 35       36       37          38              39      \n",
       "comarea_id 0        0        0           0               0       \n",
       "           5             \n",
       "perimeter  0             \n",
       "community  LINCOLN SQUARE\n",
       "shape_len  36624.60      \n",
       "shape_area 71352328      \n",
       "area       0             \n",
       "comarea    0             \n",
       "area_numbe 4             \n",
       "area_num_1 4             \n",
       "comarea_id 0             "
      ]
     },
     "metadata": {},
     "output_type": "display_data"
    }
   ],
   "source": [
    "peekPoly <- head(chiPoly@data)\n",
    "\n",
    "t(peekPoly)"
   ]
  },
  {
   "cell_type": "code",
   "execution_count": 10,
   "metadata": {},
   "outputs": [
    {
     "data": {
      "image/png": "[encoded data removed]",
      "text/plain": [
       "Plot with title \"Chicago Boundries\""
      ]
     },
     "metadata": {},
     "output_type": "display_data"
    }
   ],
   "source": [
    "plot(chiPoly, col = \"lightblue\", lwd = 0.2, main = \"Chicago Boundries\")"
   ]
  },
  {
   "cell_type": "code",
   "execution_count": 11,
   "metadata": {},
   "outputs": [
    {
     "data": {
      "image/png": "[encoded data removed]",
      "text/plain": [
       "Plot with title \"Crimes in IL\""
      ]
     },
     "metadata": {},
     "output_type": "display_data"
    }
   ],
   "source": [
    "plot(blockGroup, col = \"pink\", lwd = 0.2, main = \"Crimes in IL\")"
   ]
  },
  {
   "cell_type": "markdown",
   "metadata": {},
   "source": [
    "Given that the blockgroup data is for the entire state of Illinois and the crime is only for the Chicago area, you should refine the set of polygons that will be retained for analysis."
   ]
  },
  {
   "cell_type": "code",
   "execution_count": 12,
   "metadata": {
    "collapsed": true
   },
   "outputs": [],
   "source": [
    "selFeat <- overGeomGeom(chiPoly, blockGroup, \n",
    "                            returnList =  TRUE, \n",
    "                            fn = NULL)"
   ]
  },
  {
   "cell_type": "code",
   "execution_count": 13,
   "metadata": {},
   "outputs": [
    {
     "data": {
      "text/html": [
       "'list'"
      ],
      "text/latex": [
       "'list'"
      ],
      "text/markdown": [
       "'list'"
      ],
      "text/plain": [
       "[1] \"list\""
      ]
     },
     "metadata": {},
     "output_type": "display_data"
    }
   ],
   "source": [
    "typeof(selFeat)"
   ]
  },
  {
   "cell_type": "code",
   "execution_count": 14,
   "metadata": {
    "collapsed": true
   },
   "outputs": [],
   "source": [
    "intSet <- unlist(selFeat)"
   ]
  },
  {
   "cell_type": "code",
   "execution_count": 15,
   "metadata": {},
   "outputs": [
    {
     "name": "stdout",
     "output_type": "stream",
     "text": [
      "[1] \"There are  3553  intersecting features\"\n"
     ]
    }
   ],
   "source": [
    "print(paste(\"There are \", length(intSet),\" intersecting features\"))"
   ]
  },
  {
   "cell_type": "code",
   "execution_count": 16,
   "metadata": {
    "collapsed": true
   },
   "outputs": [],
   "source": [
    "intFeat <- blockGroup[intSet, ]"
   ]
  },
  {
   "cell_type": "code",
   "execution_count": 17,
   "metadata": {},
   "outputs": [
    {
     "data": {
      "image/png": "[encoded data removed]",
      "text/plain": [
       "plot without title"
      ]
     },
     "metadata": {},
     "output_type": "display_data"
    }
   ],
   "source": [
    "plot(blockGroup, col = \"white\", lwd = 0.2)\n",
    "plot(intFeat, add = TRUE, col = \"green\")"
   ]
  },
  {
   "cell_type": "code",
   "execution_count": 18,
   "metadata": {},
   "outputs": [
    {
     "data": {
      "image/png": "[encoded data removed]",
      "text/plain": [
       "Plot with title \"Chicago Crimes Map\""
      ]
     },
     "metadata": {},
     "output_type": "display_data"
    }
   ],
   "source": [
    "plot(intFeat, col = \"pink\", lwd = 0.2, main = \"Chicago Crimes Map\")"
   ]
  },
  {
   "cell_type": "markdown",
   "metadata": {},
   "source": [
    "Generate a spdep neighborhood object for the selected blockgroups."
   ]
  },
  {
   "cell_type": "code",
   "execution_count": 19,
   "metadata": {},
   "outputs": [
    {
     "data": {
      "text/plain": [
       "Neighbour list object:\n",
       "Number of regions: 3553 \n",
       "Number of nonzero links: 46088 \n",
       "Percentage nonzero weights: 0.3650879 \n",
       "Average number of links: 12.97157 "
      ]
     },
     "metadata": {},
     "output_type": "display_data"
    }
   ],
   "source": [
    "chi.nb <- poly2nb(intFeat, queen = TRUE)\n",
    "\n",
    "chi.nb"
   ]
  },
  {
   "cell_type": "code",
   "execution_count": 20,
   "metadata": {},
   "outputs": [
    {
     "data": {
      "text/html": [
       "<ol>\n",
       "\t<li><ol class=list-inline>\n",
       "\t<li>6</li>\n",
       "\t<li>7</li>\n",
       "\t<li>31</li>\n",
       "\t<li>32</li>\n",
       "\t<li>33</li>\n",
       "\t<li>42</li>\n",
       "\t<li>93</li>\n",
       "</ol>\n",
       "</li>\n",
       "\t<li><ol class=list-inline>\n",
       "\t<li>9</li>\n",
       "\t<li>13</li>\n",
       "\t<li>20</li>\n",
       "\t<li>29</li>\n",
       "\t<li>55</li>\n",
       "\t<li>76</li>\n",
       "\t<li>80</li>\n",
       "\t<li>100</li>\n",
       "\t<li>1680</li>\n",
       "\t<li>1688</li>\n",
       "\t<li>1692</li>\n",
       "\t<li>1699</li>\n",
       "\t<li>2599</li>\n",
       "</ol>\n",
       "</li>\n",
       "\t<li><ol class=list-inline>\n",
       "\t<li>4</li>\n",
       "\t<li>8</li>\n",
       "\t<li>9</li>\n",
       "\t<li>10</li>\n",
       "\t<li>17</li>\n",
       "\t<li>20</li>\n",
       "\t<li>21</li>\n",
       "\t<li>22</li>\n",
       "\t<li>25</li>\n",
       "\t<li>28</li>\n",
       "\t<li>41</li>\n",
       "\t<li>72</li>\n",
       "\t<li>76</li>\n",
       "\t<li>97</li>\n",
       "\t<li>1671</li>\n",
       "\t<li>1692</li>\n",
       "</ol>\n",
       "</li>\n",
       "\t<li><ol class=list-inline>\n",
       "\t<li>3</li>\n",
       "\t<li>11</li>\n",
       "\t<li>22</li>\n",
       "\t<li>28</li>\n",
       "\t<li>30</li>\n",
       "\t<li>36</li>\n",
       "\t<li>41</li>\n",
       "\t<li>46</li>\n",
       "\t<li>97</li>\n",
       "\t<li>103</li>\n",
       "</ol>\n",
       "</li>\n",
       "\t<li><ol class=list-inline>\n",
       "\t<li>12</li>\n",
       "\t<li>15</li>\n",
       "\t<li>19</li>\n",
       "\t<li>20</li>\n",
       "\t<li>23</li>\n",
       "\t<li>1653</li>\n",
       "\t<li>1664</li>\n",
       "\t<li>1667</li>\n",
       "\t<li>1672</li>\n",
       "\t<li>1683</li>\n",
       "\t<li>1685</li>\n",
       "\t<li>1689</li>\n",
       "\t<li>1692</li>\n",
       "\t<li>1694</li>\n",
       "\t<li>1700</li>\n",
       "\t<li>2613</li>\n",
       "\t<li>2619</li>\n",
       "</ol>\n",
       "</li>\n",
       "\t<li><ol class=list-inline>\n",
       "\t<li>1</li>\n",
       "\t<li>7</li>\n",
       "\t<li>11</li>\n",
       "\t<li>16</li>\n",
       "\t<li>22</li>\n",
       "\t<li>30</li>\n",
       "\t<li>31</li>\n",
       "\t<li>32</li>\n",
       "\t<li>33</li>\n",
       "\t<li>36</li>\n",
       "\t<li>39</li>\n",
       "\t<li>41</li>\n",
       "\t<li>42</li>\n",
       "\t<li>46</li>\n",
       "\t<li>47</li>\n",
       "\t<li>82</li>\n",
       "\t<li>93</li>\n",
       "\t<li>103</li>\n",
       "\t<li>104</li>\n",
       "</ol>\n",
       "</li>\n",
       "</ol>\n"
      ],
      "text/latex": [
       "\\begin{enumerate}\n",
       "\\item \\begin{enumerate*}\n",
       "\\item 6\n",
       "\\item 7\n",
       "\\item 31\n",
       "\\item 32\n",
       "\\item 33\n",
       "\\item 42\n",
       "\\item 93\n",
       "\\end{enumerate*}\n",
       "\n",
       "\\item \\begin{enumerate*}\n",
       "\\item 9\n",
       "\\item 13\n",
       "\\item 20\n",
       "\\item 29\n",
       "\\item 55\n",
       "\\item 76\n",
       "\\item 80\n",
       "\\item 100\n",
       "\\item 1680\n",
       "\\item 1688\n",
       "\\item 1692\n",
       "\\item 1699\n",
       "\\item 2599\n",
       "\\end{enumerate*}\n",
       "\n",
       "\\item \\begin{enumerate*}\n",
       "\\item 4\n",
       "\\item 8\n",
       "\\item 9\n",
       "\\item 10\n",
       "\\item 17\n",
       "\\item 20\n",
       "\\item 21\n",
       "\\item 22\n",
       "\\item 25\n",
       "\\item 28\n",
       "\\item 41\n",
       "\\item 72\n",
       "\\item 76\n",
       "\\item 97\n",
       "\\item 1671\n",
       "\\item 1692\n",
       "\\end{enumerate*}\n",
       "\n",
       "\\item \\begin{enumerate*}\n",
       "\\item 3\n",
       "\\item 11\n",
       "\\item 22\n",
       "\\item 28\n",
       "\\item 30\n",
       "\\item 36\n",
       "\\item 41\n",
       "\\item 46\n",
       "\\item 97\n",
       "\\item 103\n",
       "\\end{enumerate*}\n",
       "\n",
       "\\item \\begin{enumerate*}\n",
       "\\item 12\n",
       "\\item 15\n",
       "\\item 19\n",
       "\\item 20\n",
       "\\item 23\n",
       "\\item 1653\n",
       "\\item 1664\n",
       "\\item 1667\n",
       "\\item 1672\n",
       "\\item 1683\n",
       "\\item 1685\n",
       "\\item 1689\n",
       "\\item 1692\n",
       "\\item 1694\n",
       "\\item 1700\n",
       "\\item 2613\n",
       "\\item 2619\n",
       "\\end{enumerate*}\n",
       "\n",
       "\\item \\begin{enumerate*}\n",
       "\\item 1\n",
       "\\item 7\n",
       "\\item 11\n",
       "\\item 16\n",
       "\\item 22\n",
       "\\item 30\n",
       "\\item 31\n",
       "\\item 32\n",
       "\\item 33\n",
       "\\item 36\n",
       "\\item 39\n",
       "\\item 41\n",
       "\\item 42\n",
       "\\item 46\n",
       "\\item 47\n",
       "\\item 82\n",
       "\\item 93\n",
       "\\item 103\n",
       "\\item 104\n",
       "\\end{enumerate*}\n",
       "\n",
       "\\end{enumerate}\n"
      ],
      "text/markdown": [
       "1. 1. 6\n",
       "2. 7\n",
       "3. 31\n",
       "4. 32\n",
       "5. 33\n",
       "6. 42\n",
       "7. 93\n",
       "\n",
       "\n",
       "\n",
       "2. 1. 9\n",
       "2. 13\n",
       "3. 20\n",
       "4. 29\n",
       "5. 55\n",
       "6. 76\n",
       "7. 80\n",
       "8. 100\n",
       "9. 1680\n",
       "10. 1688\n",
       "11. 1692\n",
       "12. 1699\n",
       "13. 2599\n",
       "\n",
       "\n",
       "\n",
       "3. 1. 4\n",
       "2. 8\n",
       "3. 9\n",
       "4. 10\n",
       "5. 17\n",
       "6. 20\n",
       "7. 21\n",
       "8. 22\n",
       "9. 25\n",
       "10. 28\n",
       "11. 41\n",
       "12. 72\n",
       "13. 76\n",
       "14. 97\n",
       "15. 1671\n",
       "16. 1692\n",
       "\n",
       "\n",
       "\n",
       "4. 1. 3\n",
       "2. 11\n",
       "3. 22\n",
       "4. 28\n",
       "5. 30\n",
       "6. 36\n",
       "7. 41\n",
       "8. 46\n",
       "9. 97\n",
       "10. 103\n",
       "\n",
       "\n",
       "\n",
       "5. 1. 12\n",
       "2. 15\n",
       "3. 19\n",
       "4. 20\n",
       "5. 23\n",
       "6. 1653\n",
       "7. 1664\n",
       "8. 1667\n",
       "9. 1672\n",
       "10. 1683\n",
       "11. 1685\n",
       "12. 1689\n",
       "13. 1692\n",
       "14. 1694\n",
       "15. 1700\n",
       "16. 2613\n",
       "17. 2619\n",
       "\n",
       "\n",
       "\n",
       "6. 1. 1\n",
       "2. 7\n",
       "3. 11\n",
       "4. 16\n",
       "5. 22\n",
       "6. 30\n",
       "7. 31\n",
       "8. 32\n",
       "9. 33\n",
       "10. 36\n",
       "11. 39\n",
       "12. 41\n",
       "13. 42\n",
       "14. 46\n",
       "15. 47\n",
       "16. 82\n",
       "17. 93\n",
       "18. 103\n",
       "19. 104\n",
       "\n",
       "\n",
       "\n",
       "\n",
       "\n"
      ],
      "text/plain": [
       "[[1]]\n",
       "[1]  6  7 31 32 33 42 93\n",
       "\n",
       "[[2]]\n",
       " [1]    9   13   20   29   55   76   80  100 1680 1688 1692 1699 2599\n",
       "\n",
       "[[3]]\n",
       " [1]    4    8    9   10   17   20   21   22   25   28   41   72   76   97 1671\n",
       "[16] 1692\n",
       "\n",
       "[[4]]\n",
       " [1]   3  11  22  28  30  36  41  46  97 103\n",
       "\n",
       "[[5]]\n",
       " [1]   12   15   19   20   23 1653 1664 1667 1672 1683 1685 1689 1692 1694 1700\n",
       "[16] 2613 2619\n",
       "\n",
       "[[6]]\n",
       " [1]   1   7  11  16  22  30  31  32  33  36  39  41  42  46  47  82  93 103 104\n"
      ]
     },
     "metadata": {},
     "output_type": "display_data"
    }
   ],
   "source": [
    "head(chi.nb)"
   ]
  },
  {
   "cell_type": "markdown",
   "metadata": {},
   "source": [
    "Should a feature have no neighbors, problems may arise in the computation of measures that are premised on the assumption that a valid neighborhood exists for a feature. \n",
    "\n",
    "Given this: \n",
    "\n",
    "a) check the neighborhoods for features and only retain those features that have a valid neighborhood, \n",
    "\n",
    "b) generate the neighborhoods for the areas that have valid neighborhoods again applying the Queen's criterion, and \n",
    "\n",
    "c) transform the neighborhoods into neighborhood lists."
   ]
  },
  {
   "cell_type": "code",
   "execution_count": 21,
   "metadata": {},
   "outputs": [
    {
     "data": {
      "text/html": [
       "3553"
      ],
      "text/latex": [
       "3553"
      ],
      "text/markdown": [
       "3553"
      ],
      "text/plain": [
       "[1] 3553"
      ]
     },
     "metadata": {},
     "output_type": "display_data"
    }
   ],
   "source": [
    "length(chi.nb)"
   ]
  },
  {
   "cell_type": "code",
   "execution_count": 22,
   "metadata": {
    "collapsed": true
   },
   "outputs": [],
   "source": [
    "chi.subset <- intFeat[card(chi.nb) >= 1, ]"
   ]
  },
  {
   "cell_type": "code",
   "execution_count": 23,
   "metadata": {},
   "outputs": [
    {
     "data": {
      "text/html": [
       "3553"
      ],
      "text/latex": [
       "3553"
      ],
      "text/markdown": [
       "3553"
      ],
      "text/plain": [
       "[1] 3553"
      ]
     },
     "metadata": {},
     "output_type": "display_data"
    }
   ],
   "source": [
    "length(chi.nb)"
   ]
  },
  {
   "cell_type": "code",
   "execution_count": 24,
   "metadata": {},
   "outputs": [
    {
     "data": {
      "text/plain": [
       "Neighbour list object:\n",
       "Number of regions: 3553 \n",
       "Number of nonzero links: 46088 \n",
       "Percentage nonzero weights: 0.3650879 \n",
       "Average number of links: 12.97157 "
      ]
     },
     "metadata": {},
     "output_type": "display_data"
    }
   ],
   "source": [
    "chi.subset.nb <- poly2nb(chi.subset, queen = TRUE)\n",
    "\n",
    "chi.subset.nb"
   ]
  },
  {
   "cell_type": "code",
   "execution_count": 25,
   "metadata": {
    "collapsed": true
   },
   "outputs": [],
   "source": [
    "chi.subset.listb <- nb2listw(chi.subset.nb, style = \"B\")\n",
    "chi.subset.listw <- nb2listw(chi.subset.nb, style = \"W\")"
   ]
  },
  {
   "cell_type": "code",
   "execution_count": 26,
   "metadata": {},
   "outputs": [
    {
     "data": {
      "text/html": [
       "<ol class=list-inline>\n",
       "\t<li>'style'</li>\n",
       "\t<li>'neighbours'</li>\n",
       "\t<li>'weights'</li>\n",
       "</ol>\n"
      ],
      "text/latex": [
       "\\begin{enumerate*}\n",
       "\\item 'style'\n",
       "\\item 'neighbours'\n",
       "\\item 'weights'\n",
       "\\end{enumerate*}\n"
      ],
      "text/markdown": [
       "1. 'style'\n",
       "2. 'neighbours'\n",
       "3. 'weights'\n",
       "\n",
       "\n"
      ],
      "text/plain": [
       "[1] \"style\"      \"neighbours\" \"weights\"   "
      ]
     },
     "metadata": {},
     "output_type": "display_data"
    }
   ],
   "source": [
    "names(chi.subset.listb)"
   ]
  },
  {
   "cell_type": "code",
   "execution_count": 27,
   "metadata": {},
   "outputs": [
    {
     "data": {
      "text/html": [
       "<ol>\n",
       "\t<li><ol class=list-inline>\n",
       "\t<li>1</li>\n",
       "\t<li>1</li>\n",
       "\t<li>1</li>\n",
       "\t<li>1</li>\n",
       "\t<li>1</li>\n",
       "\t<li>1</li>\n",
       "\t<li>1</li>\n",
       "</ol>\n",
       "</li>\n",
       "\t<li><ol class=list-inline>\n",
       "\t<li>1</li>\n",
       "\t<li>1</li>\n",
       "\t<li>1</li>\n",
       "\t<li>1</li>\n",
       "\t<li>1</li>\n",
       "\t<li>1</li>\n",
       "\t<li>1</li>\n",
       "\t<li>1</li>\n",
       "\t<li>1</li>\n",
       "\t<li>1</li>\n",
       "\t<li>1</li>\n",
       "\t<li>1</li>\n",
       "\t<li>1</li>\n",
       "</ol>\n",
       "</li>\n",
       "\t<li><ol class=list-inline>\n",
       "\t<li>1</li>\n",
       "\t<li>1</li>\n",
       "\t<li>1</li>\n",
       "\t<li>1</li>\n",
       "\t<li>1</li>\n",
       "\t<li>1</li>\n",
       "\t<li>1</li>\n",
       "\t<li>1</li>\n",
       "\t<li>1</li>\n",
       "\t<li>1</li>\n",
       "\t<li>1</li>\n",
       "\t<li>1</li>\n",
       "\t<li>1</li>\n",
       "\t<li>1</li>\n",
       "\t<li>1</li>\n",
       "\t<li>1</li>\n",
       "</ol>\n",
       "</li>\n",
       "\t<li><ol class=list-inline>\n",
       "\t<li>1</li>\n",
       "\t<li>1</li>\n",
       "\t<li>1</li>\n",
       "\t<li>1</li>\n",
       "\t<li>1</li>\n",
       "\t<li>1</li>\n",
       "\t<li>1</li>\n",
       "\t<li>1</li>\n",
       "\t<li>1</li>\n",
       "\t<li>1</li>\n",
       "</ol>\n",
       "</li>\n",
       "\t<li><ol class=list-inline>\n",
       "\t<li>1</li>\n",
       "\t<li>1</li>\n",
       "\t<li>1</li>\n",
       "\t<li>1</li>\n",
       "\t<li>1</li>\n",
       "\t<li>1</li>\n",
       "\t<li>1</li>\n",
       "\t<li>1</li>\n",
       "\t<li>1</li>\n",
       "\t<li>1</li>\n",
       "\t<li>1</li>\n",
       "\t<li>1</li>\n",
       "\t<li>1</li>\n",
       "\t<li>1</li>\n",
       "\t<li>1</li>\n",
       "\t<li>1</li>\n",
       "\t<li>1</li>\n",
       "</ol>\n",
       "</li>\n",
       "\t<li><ol class=list-inline>\n",
       "\t<li>1</li>\n",
       "\t<li>1</li>\n",
       "\t<li>1</li>\n",
       "\t<li>1</li>\n",
       "\t<li>1</li>\n",
       "\t<li>1</li>\n",
       "\t<li>1</li>\n",
       "\t<li>1</li>\n",
       "\t<li>1</li>\n",
       "\t<li>1</li>\n",
       "\t<li>1</li>\n",
       "\t<li>1</li>\n",
       "\t<li>1</li>\n",
       "\t<li>1</li>\n",
       "\t<li>1</li>\n",
       "\t<li>1</li>\n",
       "\t<li>1</li>\n",
       "\t<li>1</li>\n",
       "\t<li>1</li>\n",
       "</ol>\n",
       "</li>\n",
       "</ol>\n"
      ],
      "text/latex": [
       "\\begin{enumerate}\n",
       "\\item \\begin{enumerate*}\n",
       "\\item 1\n",
       "\\item 1\n",
       "\\item 1\n",
       "\\item 1\n",
       "\\item 1\n",
       "\\item 1\n",
       "\\item 1\n",
       "\\end{enumerate*}\n",
       "\n",
       "\\item \\begin{enumerate*}\n",
       "\\item 1\n",
       "\\item 1\n",
       "\\item 1\n",
       "\\item 1\n",
       "\\item 1\n",
       "\\item 1\n",
       "\\item 1\n",
       "\\item 1\n",
       "\\item 1\n",
       "\\item 1\n",
       "\\item 1\n",
       "\\item 1\n",
       "\\item 1\n",
       "\\end{enumerate*}\n",
       "\n",
       "\\item \\begin{enumerate*}\n",
       "\\item 1\n",
       "\\item 1\n",
       "\\item 1\n",
       "\\item 1\n",
       "\\item 1\n",
       "\\item 1\n",
       "\\item 1\n",
       "\\item 1\n",
       "\\item 1\n",
       "\\item 1\n",
       "\\item 1\n",
       "\\item 1\n",
       "\\item 1\n",
       "\\item 1\n",
       "\\item 1\n",
       "\\item 1\n",
       "\\end{enumerate*}\n",
       "\n",
       "\\item \\begin{enumerate*}\n",
       "\\item 1\n",
       "\\item 1\n",
       "\\item 1\n",
       "\\item 1\n",
       "\\item 1\n",
       "\\item 1\n",
       "\\item 1\n",
       "\\item 1\n",
       "\\item 1\n",
       "\\item 1\n",
       "\\end{enumerate*}\n",
       "\n",
       "\\item \\begin{enumerate*}\n",
       "\\item 1\n",
       "\\item 1\n",
       "\\item 1\n",
       "\\item 1\n",
       "\\item 1\n",
       "\\item 1\n",
       "\\item 1\n",
       "\\item 1\n",
       "\\item 1\n",
       "\\item 1\n",
       "\\item 1\n",
       "\\item 1\n",
       "\\item 1\n",
       "\\item 1\n",
       "\\item 1\n",
       "\\item 1\n",
       "\\item 1\n",
       "\\end{enumerate*}\n",
       "\n",
       "\\item \\begin{enumerate*}\n",
       "\\item 1\n",
       "\\item 1\n",
       "\\item 1\n",
       "\\item 1\n",
       "\\item 1\n",
       "\\item 1\n",
       "\\item 1\n",
       "\\item 1\n",
       "\\item 1\n",
       "\\item 1\n",
       "\\item 1\n",
       "\\item 1\n",
       "\\item 1\n",
       "\\item 1\n",
       "\\item 1\n",
       "\\item 1\n",
       "\\item 1\n",
       "\\item 1\n",
       "\\item 1\n",
       "\\end{enumerate*}\n",
       "\n",
       "\\end{enumerate}\n"
      ],
      "text/markdown": [
       "1. 1. 1\n",
       "2. 1\n",
       "3. 1\n",
       "4. 1\n",
       "5. 1\n",
       "6. 1\n",
       "7. 1\n",
       "\n",
       "\n",
       "\n",
       "2. 1. 1\n",
       "2. 1\n",
       "3. 1\n",
       "4. 1\n",
       "5. 1\n",
       "6. 1\n",
       "7. 1\n",
       "8. 1\n",
       "9. 1\n",
       "10. 1\n",
       "11. 1\n",
       "12. 1\n",
       "13. 1\n",
       "\n",
       "\n",
       "\n",
       "3. 1. 1\n",
       "2. 1\n",
       "3. 1\n",
       "4. 1\n",
       "5. 1\n",
       "6. 1\n",
       "7. 1\n",
       "8. 1\n",
       "9. 1\n",
       "10. 1\n",
       "11. 1\n",
       "12. 1\n",
       "13. 1\n",
       "14. 1\n",
       "15. 1\n",
       "16. 1\n",
       "\n",
       "\n",
       "\n",
       "4. 1. 1\n",
       "2. 1\n",
       "3. 1\n",
       "4. 1\n",
       "5. 1\n",
       "6. 1\n",
       "7. 1\n",
       "8. 1\n",
       "9. 1\n",
       "10. 1\n",
       "\n",
       "\n",
       "\n",
       "5. 1. 1\n",
       "2. 1\n",
       "3. 1\n",
       "4. 1\n",
       "5. 1\n",
       "6. 1\n",
       "7. 1\n",
       "8. 1\n",
       "9. 1\n",
       "10. 1\n",
       "11. 1\n",
       "12. 1\n",
       "13. 1\n",
       "14. 1\n",
       "15. 1\n",
       "16. 1\n",
       "17. 1\n",
       "\n",
       "\n",
       "\n",
       "6. 1. 1\n",
       "2. 1\n",
       "3. 1\n",
       "4. 1\n",
       "5. 1\n",
       "6. 1\n",
       "7. 1\n",
       "8. 1\n",
       "9. 1\n",
       "10. 1\n",
       "11. 1\n",
       "12. 1\n",
       "13. 1\n",
       "14. 1\n",
       "15. 1\n",
       "16. 1\n",
       "17. 1\n",
       "18. 1\n",
       "19. 1\n",
       "\n",
       "\n",
       "\n",
       "\n",
       "\n"
      ],
      "text/plain": [
       "[[1]]\n",
       "[1] 1 1 1 1 1 1 1\n",
       "\n",
       "[[2]]\n",
       " [1] 1 1 1 1 1 1 1 1 1 1 1 1 1\n",
       "\n",
       "[[3]]\n",
       " [1] 1 1 1 1 1 1 1 1 1 1 1 1 1 1 1 1\n",
       "\n",
       "[[4]]\n",
       " [1] 1 1 1 1 1 1 1 1 1 1\n",
       "\n",
       "[[5]]\n",
       " [1] 1 1 1 1 1 1 1 1 1 1 1 1 1 1 1 1 1\n",
       "\n",
       "[[6]]\n",
       " [1] 1 1 1 1 1 1 1 1 1 1 1 1 1 1 1 1 1 1 1\n"
      ]
     },
     "metadata": {},
     "output_type": "display_data"
    }
   ],
   "source": [
    "head(chi.subset.listb$weights)"
   ]
  },
  {
   "cell_type": "code",
   "execution_count": 28,
   "metadata": {},
   "outputs": [
    {
     "data": {
      "text/html": [
       "<ol>\n",
       "\t<li><ol class=list-inline>\n",
       "\t<li>0.142857142857143</li>\n",
       "\t<li>0.142857142857143</li>\n",
       "\t<li>0.142857142857143</li>\n",
       "\t<li>0.142857142857143</li>\n",
       "\t<li>0.142857142857143</li>\n",
       "\t<li>0.142857142857143</li>\n",
       "\t<li>0.142857142857143</li>\n",
       "</ol>\n",
       "</li>\n",
       "\t<li><ol class=list-inline>\n",
       "\t<li>0.0769230769230769</li>\n",
       "\t<li>0.0769230769230769</li>\n",
       "\t<li>0.0769230769230769</li>\n",
       "\t<li>0.0769230769230769</li>\n",
       "\t<li>0.0769230769230769</li>\n",
       "\t<li>0.0769230769230769</li>\n",
       "\t<li>0.0769230769230769</li>\n",
       "\t<li>0.0769230769230769</li>\n",
       "\t<li>0.0769230769230769</li>\n",
       "\t<li>0.0769230769230769</li>\n",
       "\t<li>0.0769230769230769</li>\n",
       "\t<li>0.0769230769230769</li>\n",
       "\t<li>0.0769230769230769</li>\n",
       "</ol>\n",
       "</li>\n",
       "\t<li><ol class=list-inline>\n",
       "\t<li>0.0625</li>\n",
       "\t<li>0.0625</li>\n",
       "\t<li>0.0625</li>\n",
       "\t<li>0.0625</li>\n",
       "\t<li>0.0625</li>\n",
       "\t<li>0.0625</li>\n",
       "\t<li>0.0625</li>\n",
       "\t<li>0.0625</li>\n",
       "\t<li>0.0625</li>\n",
       "\t<li>0.0625</li>\n",
       "\t<li>0.0625</li>\n",
       "\t<li>0.0625</li>\n",
       "\t<li>0.0625</li>\n",
       "\t<li>0.0625</li>\n",
       "\t<li>0.0625</li>\n",
       "\t<li>0.0625</li>\n",
       "</ol>\n",
       "</li>\n",
       "\t<li><ol class=list-inline>\n",
       "\t<li>0.1</li>\n",
       "\t<li>0.1</li>\n",
       "\t<li>0.1</li>\n",
       "\t<li>0.1</li>\n",
       "\t<li>0.1</li>\n",
       "\t<li>0.1</li>\n",
       "\t<li>0.1</li>\n",
       "\t<li>0.1</li>\n",
       "\t<li>0.1</li>\n",
       "\t<li>0.1</li>\n",
       "</ol>\n",
       "</li>\n",
       "\t<li><ol class=list-inline>\n",
       "\t<li>0.0588235294117647</li>\n",
       "\t<li>0.0588235294117647</li>\n",
       "\t<li>0.0588235294117647</li>\n",
       "\t<li>0.0588235294117647</li>\n",
       "\t<li>0.0588235294117647</li>\n",
       "\t<li>0.0588235294117647</li>\n",
       "\t<li>0.0588235294117647</li>\n",
       "\t<li>0.0588235294117647</li>\n",
       "\t<li>0.0588235294117647</li>\n",
       "\t<li>0.0588235294117647</li>\n",
       "\t<li>0.0588235294117647</li>\n",
       "\t<li>0.0588235294117647</li>\n",
       "\t<li>0.0588235294117647</li>\n",
       "\t<li>0.0588235294117647</li>\n",
       "\t<li>0.0588235294117647</li>\n",
       "\t<li>0.0588235294117647</li>\n",
       "\t<li>0.0588235294117647</li>\n",
       "</ol>\n",
       "</li>\n",
       "\t<li><ol class=list-inline>\n",
       "\t<li>0.0526315789473684</li>\n",
       "\t<li>0.0526315789473684</li>\n",
       "\t<li>0.0526315789473684</li>\n",
       "\t<li>0.0526315789473684</li>\n",
       "\t<li>0.0526315789473684</li>\n",
       "\t<li>0.0526315789473684</li>\n",
       "\t<li>0.0526315789473684</li>\n",
       "\t<li>0.0526315789473684</li>\n",
       "\t<li>0.0526315789473684</li>\n",
       "\t<li>0.0526315789473684</li>\n",
       "\t<li>0.0526315789473684</li>\n",
       "\t<li>0.0526315789473684</li>\n",
       "\t<li>0.0526315789473684</li>\n",
       "\t<li>0.0526315789473684</li>\n",
       "\t<li>0.0526315789473684</li>\n",
       "\t<li>0.0526315789473684</li>\n",
       "\t<li>0.0526315789473684</li>\n",
       "\t<li>0.0526315789473684</li>\n",
       "\t<li>0.0526315789473684</li>\n",
       "</ol>\n",
       "</li>\n",
       "</ol>\n"
      ],
      "text/latex": [
       "\\begin{enumerate}\n",
       "\\item \\begin{enumerate*}\n",
       "\\item 0.142857142857143\n",
       "\\item 0.142857142857143\n",
       "\\item 0.142857142857143\n",
       "\\item 0.142857142857143\n",
       "\\item 0.142857142857143\n",
       "\\item 0.142857142857143\n",
       "\\item 0.142857142857143\n",
       "\\end{enumerate*}\n",
       "\n",
       "\\item \\begin{enumerate*}\n",
       "\\item 0.0769230769230769\n",
       "\\item 0.0769230769230769\n",
       "\\item 0.0769230769230769\n",
       "\\item 0.0769230769230769\n",
       "\\item 0.0769230769230769\n",
       "\\item 0.0769230769230769\n",
       "\\item 0.0769230769230769\n",
       "\\item 0.0769230769230769\n",
       "\\item 0.0769230769230769\n",
       "\\item 0.0769230769230769\n",
       "\\item 0.0769230769230769\n",
       "\\item 0.0769230769230769\n",
       "\\item 0.0769230769230769\n",
       "\\end{enumerate*}\n",
       "\n",
       "\\item \\begin{enumerate*}\n",
       "\\item 0.0625\n",
       "\\item 0.0625\n",
       "\\item 0.0625\n",
       "\\item 0.0625\n",
       "\\item 0.0625\n",
       "\\item 0.0625\n",
       "\\item 0.0625\n",
       "\\item 0.0625\n",
       "\\item 0.0625\n",
       "\\item 0.0625\n",
       "\\item 0.0625\n",
       "\\item 0.0625\n",
       "\\item 0.0625\n",
       "\\item 0.0625\n",
       "\\item 0.0625\n",
       "\\item 0.0625\n",
       "\\end{enumerate*}\n",
       "\n",
       "\\item \\begin{enumerate*}\n",
       "\\item 0.1\n",
       "\\item 0.1\n",
       "\\item 0.1\n",
       "\\item 0.1\n",
       "\\item 0.1\n",
       "\\item 0.1\n",
       "\\item 0.1\n",
       "\\item 0.1\n",
       "\\item 0.1\n",
       "\\item 0.1\n",
       "\\end{enumerate*}\n",
       "\n",
       "\\item \\begin{enumerate*}\n",
       "\\item 0.0588235294117647\n",
       "\\item 0.0588235294117647\n",
       "\\item 0.0588235294117647\n",
       "\\item 0.0588235294117647\n",
       "\\item 0.0588235294117647\n",
       "\\item 0.0588235294117647\n",
       "\\item 0.0588235294117647\n",
       "\\item 0.0588235294117647\n",
       "\\item 0.0588235294117647\n",
       "\\item 0.0588235294117647\n",
       "\\item 0.0588235294117647\n",
       "\\item 0.0588235294117647\n",
       "\\item 0.0588235294117647\n",
       "\\item 0.0588235294117647\n",
       "\\item 0.0588235294117647\n",
       "\\item 0.0588235294117647\n",
       "\\item 0.0588235294117647\n",
       "\\end{enumerate*}\n",
       "\n",
       "\\item \\begin{enumerate*}\n",
       "\\item 0.0526315789473684\n",
       "\\item 0.0526315789473684\n",
       "\\item 0.0526315789473684\n",
       "\\item 0.0526315789473684\n",
       "\\item 0.0526315789473684\n",
       "\\item 0.0526315789473684\n",
       "\\item 0.0526315789473684\n",
       "\\item 0.0526315789473684\n",
       "\\item 0.0526315789473684\n",
       "\\item 0.0526315789473684\n",
       "\\item 0.0526315789473684\n",
       "\\item 0.0526315789473684\n",
       "\\item 0.0526315789473684\n",
       "\\item 0.0526315789473684\n",
       "\\item 0.0526315789473684\n",
       "\\item 0.0526315789473684\n",
       "\\item 0.0526315789473684\n",
       "\\item 0.0526315789473684\n",
       "\\item 0.0526315789473684\n",
       "\\end{enumerate*}\n",
       "\n",
       "\\end{enumerate}\n"
      ],
      "text/markdown": [
       "1. 1. 0.142857142857143\n",
       "2. 0.142857142857143\n",
       "3. 0.142857142857143\n",
       "4. 0.142857142857143\n",
       "5. 0.142857142857143\n",
       "6. 0.142857142857143\n",
       "7. 0.142857142857143\n",
       "\n",
       "\n",
       "\n",
       "2. 1. 0.0769230769230769\n",
       "2. 0.0769230769230769\n",
       "3. 0.0769230769230769\n",
       "4. 0.0769230769230769\n",
       "5. 0.0769230769230769\n",
       "6. 0.0769230769230769\n",
       "7. 0.0769230769230769\n",
       "8. 0.0769230769230769\n",
       "9. 0.0769230769230769\n",
       "10. 0.0769230769230769\n",
       "11. 0.0769230769230769\n",
       "12. 0.0769230769230769\n",
       "13. 0.0769230769230769\n",
       "\n",
       "\n",
       "\n",
       "3. 1. 0.0625\n",
       "2. 0.0625\n",
       "3. 0.0625\n",
       "4. 0.0625\n",
       "5. 0.0625\n",
       "6. 0.0625\n",
       "7. 0.0625\n",
       "8. 0.0625\n",
       "9. 0.0625\n",
       "10. 0.0625\n",
       "11. 0.0625\n",
       "12. 0.0625\n",
       "13. 0.0625\n",
       "14. 0.0625\n",
       "15. 0.0625\n",
       "16. 0.0625\n",
       "\n",
       "\n",
       "\n",
       "4. 1. 0.1\n",
       "2. 0.1\n",
       "3. 0.1\n",
       "4. 0.1\n",
       "5. 0.1\n",
       "6. 0.1\n",
       "7. 0.1\n",
       "8. 0.1\n",
       "9. 0.1\n",
       "10. 0.1\n",
       "\n",
       "\n",
       "\n",
       "5. 1. 0.0588235294117647\n",
       "2. 0.0588235294117647\n",
       "3. 0.0588235294117647\n",
       "4. 0.0588235294117647\n",
       "5. 0.0588235294117647\n",
       "6. 0.0588235294117647\n",
       "7. 0.0588235294117647\n",
       "8. 0.0588235294117647\n",
       "9. 0.0588235294117647\n",
       "10. 0.0588235294117647\n",
       "11. 0.0588235294117647\n",
       "12. 0.0588235294117647\n",
       "13. 0.0588235294117647\n",
       "14. 0.0588235294117647\n",
       "15. 0.0588235294117647\n",
       "16. 0.0588235294117647\n",
       "17. 0.0588235294117647\n",
       "\n",
       "\n",
       "\n",
       "6. 1. 0.0526315789473684\n",
       "2. 0.0526315789473684\n",
       "3. 0.0526315789473684\n",
       "4. 0.0526315789473684\n",
       "5. 0.0526315789473684\n",
       "6. 0.0526315789473684\n",
       "7. 0.0526315789473684\n",
       "8. 0.0526315789473684\n",
       "9. 0.0526315789473684\n",
       "10. 0.0526315789473684\n",
       "11. 0.0526315789473684\n",
       "12. 0.0526315789473684\n",
       "13. 0.0526315789473684\n",
       "14. 0.0526315789473684\n",
       "15. 0.0526315789473684\n",
       "16. 0.0526315789473684\n",
       "17. 0.0526315789473684\n",
       "18. 0.0526315789473684\n",
       "19. 0.0526315789473684\n",
       "\n",
       "\n",
       "\n",
       "\n",
       "\n"
      ],
      "text/plain": [
       "[[1]]\n",
       "[1] 0.1428571 0.1428571 0.1428571 0.1428571 0.1428571 0.1428571 0.1428571\n",
       "\n",
       "[[2]]\n",
       " [1] 0.07692308 0.07692308 0.07692308 0.07692308 0.07692308 0.07692308\n",
       " [7] 0.07692308 0.07692308 0.07692308 0.07692308 0.07692308 0.07692308\n",
       "[13] 0.07692308\n",
       "\n",
       "[[3]]\n",
       " [1] 0.0625 0.0625 0.0625 0.0625 0.0625 0.0625 0.0625 0.0625 0.0625 0.0625\n",
       "[11] 0.0625 0.0625 0.0625 0.0625 0.0625 0.0625\n",
       "\n",
       "[[4]]\n",
       " [1] 0.1 0.1 0.1 0.1 0.1 0.1 0.1 0.1 0.1 0.1\n",
       "\n",
       "[[5]]\n",
       " [1] 0.05882353 0.05882353 0.05882353 0.05882353 0.05882353 0.05882353\n",
       " [7] 0.05882353 0.05882353 0.05882353 0.05882353 0.05882353 0.05882353\n",
       "[13] 0.05882353 0.05882353 0.05882353 0.05882353 0.05882353\n",
       "\n",
       "[[6]]\n",
       " [1] 0.05263158 0.05263158 0.05263158 0.05263158 0.05263158 0.05263158\n",
       " [7] 0.05263158 0.05263158 0.05263158 0.05263158 0.05263158 0.05263158\n",
       "[13] 0.05263158 0.05263158 0.05263158 0.05263158 0.05263158 0.05263158\n",
       "[19] 0.05263158\n"
      ]
     },
     "metadata": {},
     "output_type": "display_data"
    }
   ],
   "source": [
    "head(chi.subset.listw$weights)"
   ]
  },
  {
   "cell_type": "markdown",
   "metadata": {},
   "source": [
    "Examine burglary 'Burglaries' relative to the total crime 'AllCrime' in each blockgroup. J"
   ]
  },
  {
   "cell_type": "code",
   "execution_count": 29,
   "metadata": {},
   "outputs": [
    {
     "data": {
      "text/html": [
       "<table>\n",
       "<thead><tr><th></th><th scope=col>TARGET_FID</th><th scope=col>STATEFP</th><th scope=col>COUNTYFP</th><th scope=col>TRACTCE</th><th scope=col>BLKGRPCE</th><th scope=col>AFFGEOID</th><th scope=col>GEOID</th><th scope=col>NAME</th><th scope=col>LSAD</th><th scope=col>ALAND</th><th scope=col>AWATER</th><th scope=col>Burglaries</th><th scope=col>AllCrime</th></tr></thead>\n",
       "<tbody>\n",
       "\t<tr><th scope=row>358</th><td>358                  </td><td>17                   </td><td>031                  </td><td>836500               </td><td>1                    </td><td>1500000US170318365001</td><td>170318365001         </td><td>1                    </td><td>BG                   </td><td> 117472              </td><td>  5187               </td><td>0                    </td><td>7                    </td></tr>\n",
       "\t<tr><th scope=row>616</th><td>616                  </td><td>17                   </td><td>031                  </td><td>351500               </td><td>2                    </td><td>1500000US170313515002</td><td>170313515002         </td><td>2                    </td><td>BG                   </td><td>  79096              </td><td>     0               </td><td>0                    </td><td>8                    </td></tr>\n",
       "\t<tr><th scope=row>798</th><td>798                  </td><td>17                   </td><td>031                  </td><td>839500               </td><td>1                    </td><td>1500000US170318395001</td><td>170318395001         </td><td>1                    </td><td>BG                   </td><td> 262139              </td><td>     0               </td><td>0                    </td><td>18                   </td></tr>\n",
       "\t<tr><th scope=row>865</th><td>865                  </td><td>17                   </td><td>031                  </td><td>351100               </td><td>1                    </td><td>1500000US170313511001</td><td>170313511001         </td><td>1                    </td><td>BG                   </td><td>  80349              </td><td>     0               </td><td>0                    </td><td>0                    </td></tr>\n",
       "\t<tr><th scope=row>1169</th><td>1169                 </td><td>17                   </td><td>031                  </td><td>350400               </td><td>1                    </td><td>1500000US170313504001</td><td>170313504001         </td><td>1                    </td><td>BG                   </td><td> 201453              </td><td>     0               </td><td>0                    </td><td>21                   </td></tr>\n",
       "\t<tr><th scope=row>1642</th><td>1642                 </td><td>17                   </td><td>031                  </td><td>360200               </td><td>1                    </td><td>1500000US170313602001</td><td>170313602001         </td><td>1                    </td><td>BG                   </td><td> 232044              </td><td>     0               </td><td>0                    </td><td>19                   </td></tr>\n",
       "\t<tr><th scope=row>1643</th><td>1643                 </td><td>17                   </td><td>031                  </td><td>351000               </td><td>1                    </td><td>1500000US170313510001</td><td>170313510001         </td><td>1                    </td><td>BG                   </td><td> 396703              </td><td>665632               </td><td>0                    </td><td>7                    </td></tr>\n",
       "\t<tr><th scope=row>1908</th><td>1908                 </td><td>17                   </td><td>031                  </td><td>839600               </td><td>2                    </td><td>1500000US170318396002</td><td>170318396002         </td><td>2                    </td><td>BG                   </td><td> 230641              </td><td>     0               </td><td>0                    </td><td>27                   </td></tr>\n",
       "\t<tr><th scope=row>1948</th><td>1948                 </td><td>17                   </td><td>031                  </td><td>351400               </td><td>1                    </td><td>1500000US170313514001</td><td>170313514001         </td><td>1                    </td><td>BG                   </td><td> 323957              </td><td>     0               </td><td>0                    </td><td>10                   </td></tr>\n",
       "\t<tr><th scope=row>2103</th><td>2103                 </td><td>17                   </td><td>031                  </td><td>350100               </td><td>1                    </td><td>1500000US170313501001</td><td>170313501001         </td><td>1                    </td><td>BG                   </td><td> 291445              </td><td>518735               </td><td>0                    </td><td>4                    </td></tr>\n",
       "\t<tr><th scope=row>2104</th><td>2104                 </td><td>17                   </td><td>031                  </td><td>351100               </td><td>3                    </td><td>1500000US170313511003</td><td>170313511003         </td><td>3                    </td><td>BG                   </td><td> 110757              </td><td>     0               </td><td>0                    </td><td>21                   </td></tr>\n",
       "\t<tr><th scope=row>2434</th><td>2434                 </td><td>17                   </td><td>031                  </td><td>340400               </td><td>1                    </td><td>1500000US170313404001</td><td>170313404001         </td><td>1                    </td><td>BG                   </td><td> 290316              </td><td>     0               </td><td>1                    </td><td>14                   </td></tr>\n",
       "\t<tr><th scope=row>2599</th><td>2599                 </td><td>17                   </td><td>031                  </td><td>340600               </td><td>1                    </td><td>1500000US170313406001</td><td>170313406001         </td><td>1                    </td><td>BG                   </td><td> 474809              </td><td>     0               </td><td>0                    </td><td>24                   </td></tr>\n",
       "\t<tr><th scope=row>2741</th><td>2741                 </td><td>17                   </td><td>031                  </td><td>380500               </td><td>1                    </td><td>1500000US170313805001</td><td>170313805001         </td><td>1                    </td><td>BG                   </td><td> 191451              </td><td>     0               </td><td>1                    </td><td>9                    </td></tr>\n",
       "\t<tr><th scope=row>2855</th><td>2855                 </td><td>17                   </td><td>031                  </td><td>841000               </td><td>1                    </td><td>1500000US170318410001</td><td>170318410001         </td><td>1                    </td><td>BG                   </td><td>1056049              </td><td>296569               </td><td>0                    </td><td>29                   </td></tr>\n",
       "</tbody>\n",
       "</table>\n"
      ],
      "text/latex": [
       "\\begin{tabular}{r|lllllllllllll}\n",
       "  & TARGET\\_FID & STATEFP & COUNTYFP & TRACTCE & BLKGRPCE & AFFGEOID & GEOID & NAME & LSAD & ALAND & AWATER & Burglaries & AllCrime\\\\\n",
       "\\hline\n",
       "\t358 & 358                   & 17                    & 031                   & 836500                & 1                     & 1500000US170318365001 & 170318365001          & 1                     & BG                    &  117472               &   5187                & 0                     & 7                    \\\\\n",
       "\t616 & 616                   & 17                    & 031                   & 351500                & 2                     & 1500000US170313515002 & 170313515002          & 2                     & BG                    &   79096               &      0                & 0                     & 8                    \\\\\n",
       "\t798 & 798                   & 17                    & 031                   & 839500                & 1                     & 1500000US170318395001 & 170318395001          & 1                     & BG                    &  262139               &      0                & 0                     & 18                   \\\\\n",
       "\t865 & 865                   & 17                    & 031                   & 351100                & 1                     & 1500000US170313511001 & 170313511001          & 1                     & BG                    &   80349               &      0                & 0                     & 0                    \\\\\n",
       "\t1169 & 1169                  & 17                    & 031                   & 350400                & 1                     & 1500000US170313504001 & 170313504001          & 1                     & BG                    &  201453               &      0                & 0                     & 21                   \\\\\n",
       "\t1642 & 1642                  & 17                    & 031                   & 360200                & 1                     & 1500000US170313602001 & 170313602001          & 1                     & BG                    &  232044               &      0                & 0                     & 19                   \\\\\n",
       "\t1643 & 1643                  & 17                    & 031                   & 351000                & 1                     & 1500000US170313510001 & 170313510001          & 1                     & BG                    &  396703               & 665632                & 0                     & 7                    \\\\\n",
       "\t1908 & 1908                  & 17                    & 031                   & 839600                & 2                     & 1500000US170318396002 & 170318396002          & 2                     & BG                    &  230641               &      0                & 0                     & 27                   \\\\\n",
       "\t1948 & 1948                  & 17                    & 031                   & 351400                & 1                     & 1500000US170313514001 & 170313514001          & 1                     & BG                    &  323957               &      0                & 0                     & 10                   \\\\\n",
       "\t2103 & 2103                  & 17                    & 031                   & 350100                & 1                     & 1500000US170313501001 & 170313501001          & 1                     & BG                    &  291445               & 518735                & 0                     & 4                    \\\\\n",
       "\t2104 & 2104                  & 17                    & 031                   & 351100                & 3                     & 1500000US170313511003 & 170313511003          & 3                     & BG                    &  110757               &      0                & 0                     & 21                   \\\\\n",
       "\t2434 & 2434                  & 17                    & 031                   & 340400                & 1                     & 1500000US170313404001 & 170313404001          & 1                     & BG                    &  290316               &      0                & 1                     & 14                   \\\\\n",
       "\t2599 & 2599                  & 17                    & 031                   & 340600                & 1                     & 1500000US170313406001 & 170313406001          & 1                     & BG                    &  474809               &      0                & 0                     & 24                   \\\\\n",
       "\t2741 & 2741                  & 17                    & 031                   & 380500                & 1                     & 1500000US170313805001 & 170313805001          & 1                     & BG                    &  191451               &      0                & 1                     & 9                    \\\\\n",
       "\t2855 & 2855                  & 17                    & 031                   & 841000                & 1                     & 1500000US170318410001 & 170318410001          & 1                     & BG                    & 1056049               & 296569                & 0                     & 29                   \\\\\n",
       "\\end{tabular}\n"
      ],
      "text/markdown": [
       "\n",
       "| <!--/--> | TARGET_FID | STATEFP | COUNTYFP | TRACTCE | BLKGRPCE | AFFGEOID | GEOID | NAME | LSAD | ALAND | AWATER | Burglaries | AllCrime | \n",
       "|---|---|---|---|---|---|---|---|---|---|---|---|---|---|---|\n",
       "| 358 | 358                   | 17                    | 031                   | 836500                | 1                     | 1500000US170318365001 | 170318365001          | 1                     | BG                    |  117472               |   5187                | 0                     | 7                     | \n",
       "| 616 | 616                   | 17                    | 031                   | 351500                | 2                     | 1500000US170313515002 | 170313515002          | 2                     | BG                    |   79096               |      0                | 0                     | 8                     | \n",
       "| 798 | 798                   | 17                    | 031                   | 839500                | 1                     | 1500000US170318395001 | 170318395001          | 1                     | BG                    |  262139               |      0                | 0                     | 18                    | \n",
       "| 865 | 865                   | 17                    | 031                   | 351100                | 1                     | 1500000US170313511001 | 170313511001          | 1                     | BG                    |   80349               |      0                | 0                     | 0                     | \n",
       "| 1169 | 1169                  | 17                    | 031                   | 350400                | 1                     | 1500000US170313504001 | 170313504001          | 1                     | BG                    |  201453               |      0                | 0                     | 21                    | \n",
       "| 1642 | 1642                  | 17                    | 031                   | 360200                | 1                     | 1500000US170313602001 | 170313602001          | 1                     | BG                    |  232044               |      0                | 0                     | 19                    | \n",
       "| 1643 | 1643                  | 17                    | 031                   | 351000                | 1                     | 1500000US170313510001 | 170313510001          | 1                     | BG                    |  396703               | 665632                | 0                     | 7                     | \n",
       "| 1908 | 1908                  | 17                    | 031                   | 839600                | 2                     | 1500000US170318396002 | 170318396002          | 2                     | BG                    |  230641               |      0                | 0                     | 27                    | \n",
       "| 1948 | 1948                  | 17                    | 031                   | 351400                | 1                     | 1500000US170313514001 | 170313514001          | 1                     | BG                    |  323957               |      0                | 0                     | 10                    | \n",
       "| 2103 | 2103                  | 17                    | 031                   | 350100                | 1                     | 1500000US170313501001 | 170313501001          | 1                     | BG                    |  291445               | 518735                | 0                     | 4                     | \n",
       "| 2104 | 2104                  | 17                    | 031                   | 351100                | 3                     | 1500000US170313511003 | 170313511003          | 3                     | BG                    |  110757               |      0                | 0                     | 21                    | \n",
       "| 2434 | 2434                  | 17                    | 031                   | 340400                | 1                     | 1500000US170313404001 | 170313404001          | 1                     | BG                    |  290316               |      0                | 1                     | 14                    | \n",
       "| 2599 | 2599                  | 17                    | 031                   | 340600                | 1                     | 1500000US170313406001 | 170313406001          | 1                     | BG                    |  474809               |      0                | 0                     | 24                    | \n",
       "| 2741 | 2741                  | 17                    | 031                   | 380500                | 1                     | 1500000US170313805001 | 170313805001          | 1                     | BG                    |  191451               |      0                | 1                     | 9                     | \n",
       "| 2855 | 2855                  | 17                    | 031                   | 841000                | 1                     | 1500000US170318410001 | 170318410001          | 1                     | BG                    | 1056049               | 296569                | 0                     | 29                    | \n",
       "\n",
       "\n"
      ],
      "text/plain": [
       "     TARGET_FID STATEFP COUNTYFP TRACTCE BLKGRPCE AFFGEOID             \n",
       "358  358        17      031      836500  1        1500000US170318365001\n",
       "616  616        17      031      351500  2        1500000US170313515002\n",
       "798  798        17      031      839500  1        1500000US170318395001\n",
       "865  865        17      031      351100  1        1500000US170313511001\n",
       "1169 1169       17      031      350400  1        1500000US170313504001\n",
       "1642 1642       17      031      360200  1        1500000US170313602001\n",
       "1643 1643       17      031      351000  1        1500000US170313510001\n",
       "1908 1908       17      031      839600  2        1500000US170318396002\n",
       "1948 1948       17      031      351400  1        1500000US170313514001\n",
       "2103 2103       17      031      350100  1        1500000US170313501001\n",
       "2104 2104       17      031      351100  3        1500000US170313511003\n",
       "2434 2434       17      031      340400  1        1500000US170313404001\n",
       "2599 2599       17      031      340600  1        1500000US170313406001\n",
       "2741 2741       17      031      380500  1        1500000US170313805001\n",
       "2855 2855       17      031      841000  1        1500000US170318410001\n",
       "     GEOID        NAME LSAD ALAND   AWATER Burglaries AllCrime\n",
       "358  170318365001 1    BG    117472   5187 0          7       \n",
       "616  170313515002 2    BG     79096      0 0          8       \n",
       "798  170318395001 1    BG    262139      0 0          18      \n",
       "865  170313511001 1    BG     80349      0 0          0       \n",
       "1169 170313504001 1    BG    201453      0 0          21      \n",
       "1642 170313602001 1    BG    232044      0 0          19      \n",
       "1643 170313510001 1    BG    396703 665632 0          7       \n",
       "1908 170318396002 2    BG    230641      0 0          27      \n",
       "1948 170313514001 1    BG    323957      0 0          10      \n",
       "2103 170313501001 1    BG    291445 518735 0          4       \n",
       "2104 170313511003 3    BG    110757      0 0          21      \n",
       "2434 170313404001 1    BG    290316      0 1          14      \n",
       "2599 170313406001 1    BG    474809      0 0          24      \n",
       "2741 170313805001 1    BG    191451      0 1          9       \n",
       "2855 170318410001 1    BG   1056049 296569 0          29      "
      ]
     },
     "metadata": {},
     "output_type": "display_data"
    }
   ],
   "source": [
    "head(chi.subset@data, 15)"
   ]
  },
  {
   "cell_type": "code",
   "execution_count": 44,
   "metadata": {
    "collapsed": true
   },
   "outputs": [],
   "source": [
    "burg <- as.numeric(as.character(chi.subset$Burglaries))"
   ]
  },
  {
   "cell_type": "code",
   "execution_count": 45,
   "metadata": {
    "collapsed": true
   },
   "outputs": [],
   "source": [
    "allCrime <- as.numeric(as.character(chi.subset$AllCrime))"
   ]
  },
  {
   "cell_type": "code",
   "execution_count": 46,
   "metadata": {},
   "outputs": [
    {
     "data": {
      "text/html": [
       "<ol class=list-inline>\n",
       "\t<li>0</li>\n",
       "\t<li>0</li>\n",
       "\t<li>0</li>\n",
       "\t<li>0</li>\n",
       "\t<li>0</li>\n",
       "\t<li>0</li>\n",
       "\t<li>0</li>\n",
       "\t<li>0</li>\n",
       "\t<li>0</li>\n",
       "\t<li>0</li>\n",
       "\t<li>0</li>\n",
       "\t<li>1</li>\n",
       "\t<li>0</li>\n",
       "\t<li>1</li>\n",
       "\t<li>0</li>\n",
       "\t<li>0</li>\n",
       "\t<li>1</li>\n",
       "\t<li>0</li>\n",
       "\t<li>0</li>\n",
       "\t<li>1</li>\n",
       "</ol>\n"
      ],
      "text/latex": [
       "\\begin{enumerate*}\n",
       "\\item 0\n",
       "\\item 0\n",
       "\\item 0\n",
       "\\item 0\n",
       "\\item 0\n",
       "\\item 0\n",
       "\\item 0\n",
       "\\item 0\n",
       "\\item 0\n",
       "\\item 0\n",
       "\\item 0\n",
       "\\item 1\n",
       "\\item 0\n",
       "\\item 1\n",
       "\\item 0\n",
       "\\item 0\n",
       "\\item 1\n",
       "\\item 0\n",
       "\\item 0\n",
       "\\item 1\n",
       "\\end{enumerate*}\n"
      ],
      "text/markdown": [
       "1. 0\n",
       "2. 0\n",
       "3. 0\n",
       "4. 0\n",
       "5. 0\n",
       "6. 0\n",
       "7. 0\n",
       "8. 0\n",
       "9. 0\n",
       "10. 0\n",
       "11. 0\n",
       "12. 1\n",
       "13. 0\n",
       "14. 1\n",
       "15. 0\n",
       "16. 0\n",
       "17. 1\n",
       "18. 0\n",
       "19. 0\n",
       "20. 1\n",
       "\n",
       "\n"
      ],
      "text/plain": [
       " [1] 0 0 0 0 0 0 0 0 0 0 0 1 0 1 0 0 1 0 0 1"
      ]
     },
     "metadata": {},
     "output_type": "display_data"
    }
   ],
   "source": [
    "burg[1:20]"
   ]
  },
  {
   "cell_type": "code",
   "execution_count": 48,
   "metadata": {},
   "outputs": [],
   "source": [
    "# burg rate\n",
    "\n",
    "burgRate <- (burg / allCrime)"
   ]
  },
  {
   "cell_type": "code",
   "execution_count": 49,
   "metadata": {},
   "outputs": [
    {
     "data": {
      "text/html": [
       "<ol class=list-inline>\n",
       "\t<li>0</li>\n",
       "\t<li>0</li>\n",
       "\t<li>0</li>\n",
       "\t<li>NaN</li>\n",
       "\t<li>0</li>\n",
       "\t<li>0</li>\n",
       "\t<li>0</li>\n",
       "\t<li>0</li>\n",
       "\t<li>0</li>\n",
       "\t<li>0</li>\n",
       "\t<li>0</li>\n",
       "\t<li>0.0714285714285714</li>\n",
       "\t<li>0</li>\n",
       "\t<li>0.111111111111111</li>\n",
       "\t<li>0</li>\n",
       "\t<li>0</li>\n",
       "\t<li>0.0555555555555556</li>\n",
       "\t<li>0</li>\n",
       "\t<li>0</li>\n",
       "\t<li>0.125</li>\n",
       "</ol>\n"
      ],
      "text/latex": [
       "\\begin{enumerate*}\n",
       "\\item 0\n",
       "\\item 0\n",
       "\\item 0\n",
       "\\item NaN\n",
       "\\item 0\n",
       "\\item 0\n",
       "\\item 0\n",
       "\\item 0\n",
       "\\item 0\n",
       "\\item 0\n",
       "\\item 0\n",
       "\\item 0.0714285714285714\n",
       "\\item 0\n",
       "\\item 0.111111111111111\n",
       "\\item 0\n",
       "\\item 0\n",
       "\\item 0.0555555555555556\n",
       "\\item 0\n",
       "\\item 0\n",
       "\\item 0.125\n",
       "\\end{enumerate*}\n"
      ],
      "text/markdown": [
       "1. 0\n",
       "2. 0\n",
       "3. 0\n",
       "4. NaN\n",
       "5. 0\n",
       "6. 0\n",
       "7. 0\n",
       "8. 0\n",
       "9. 0\n",
       "10. 0\n",
       "11. 0\n",
       "12. 0.0714285714285714\n",
       "13. 0\n",
       "14. 0.111111111111111\n",
       "15. 0\n",
       "16. 0\n",
       "17. 0.0555555555555556\n",
       "18. 0\n",
       "19. 0\n",
       "20. 0.125\n",
       "\n",
       "\n"
      ],
      "text/plain": [
       " [1] 0.00000000 0.00000000 0.00000000        NaN 0.00000000 0.00000000\n",
       " [7] 0.00000000 0.00000000 0.00000000 0.00000000 0.00000000 0.07142857\n",
       "[13] 0.00000000 0.11111111 0.00000000 0.00000000 0.05555556 0.00000000\n",
       "[19] 0.00000000 0.12500000"
      ]
     },
     "metadata": {},
     "output_type": "display_data"
    }
   ],
   "source": [
    "burgRate[1:20]"
   ]
  },
  {
   "cell_type": "code",
   "execution_count": 50,
   "metadata": {
    "collapsed": true
   },
   "outputs": [],
   "source": [
    "# replace NaNs with 0\n",
    "burgRate[is.nan(burgRate)] <- 0"
   ]
  },
  {
   "cell_type": "code",
   "execution_count": 51,
   "metadata": {},
   "outputs": [
    {
     "data": {
      "text/html": [
       "<ol class=list-inline>\n",
       "\t<li>0</li>\n",
       "\t<li>0</li>\n",
       "\t<li>0</li>\n",
       "\t<li>0</li>\n",
       "\t<li>0</li>\n",
       "\t<li>0</li>\n",
       "\t<li>0</li>\n",
       "\t<li>0</li>\n",
       "\t<li>0</li>\n",
       "\t<li>0</li>\n",
       "\t<li>0</li>\n",
       "\t<li>0.0714285714285714</li>\n",
       "\t<li>0</li>\n",
       "\t<li>0.111111111111111</li>\n",
       "\t<li>0</li>\n",
       "\t<li>0</li>\n",
       "\t<li>0.0555555555555556</li>\n",
       "\t<li>0</li>\n",
       "\t<li>0</li>\n",
       "\t<li>0.125</li>\n",
       "</ol>\n"
      ],
      "text/latex": [
       "\\begin{enumerate*}\n",
       "\\item 0\n",
       "\\item 0\n",
       "\\item 0\n",
       "\\item 0\n",
       "\\item 0\n",
       "\\item 0\n",
       "\\item 0\n",
       "\\item 0\n",
       "\\item 0\n",
       "\\item 0\n",
       "\\item 0\n",
       "\\item 0.0714285714285714\n",
       "\\item 0\n",
       "\\item 0.111111111111111\n",
       "\\item 0\n",
       "\\item 0\n",
       "\\item 0.0555555555555556\n",
       "\\item 0\n",
       "\\item 0\n",
       "\\item 0.125\n",
       "\\end{enumerate*}\n"
      ],
      "text/markdown": [
       "1. 0\n",
       "2. 0\n",
       "3. 0\n",
       "4. 0\n",
       "5. 0\n",
       "6. 0\n",
       "7. 0\n",
       "8. 0\n",
       "9. 0\n",
       "10. 0\n",
       "11. 0\n",
       "12. 0.0714285714285714\n",
       "13. 0\n",
       "14. 0.111111111111111\n",
       "15. 0\n",
       "16. 0\n",
       "17. 0.0555555555555556\n",
       "18. 0\n",
       "19. 0\n",
       "20. 0.125\n",
       "\n",
       "\n"
      ],
      "text/plain": [
       " [1] 0.00000000 0.00000000 0.00000000 0.00000000 0.00000000 0.00000000\n",
       " [7] 0.00000000 0.00000000 0.00000000 0.00000000 0.00000000 0.07142857\n",
       "[13] 0.00000000 0.11111111 0.00000000 0.00000000 0.05555556 0.00000000\n",
       "[19] 0.00000000 0.12500000"
      ]
     },
     "metadata": {},
     "output_type": "display_data"
    }
   ],
   "source": [
    "burgRate[1:20]"
   ]
  },
  {
   "cell_type": "markdown",
   "metadata": {},
   "source": [
    "Classify the analysis variable into five categories using the Jenks optimization method. "
   ]
  },
  {
   "cell_type": "code",
   "execution_count": 53,
   "metadata": {},
   "outputs": [
    {
     "data": {
      "text/plain": [
       "style: jenks\n",
       "  one of 3,612,280 possible partitions of this variable into 5 classes\n",
       "  [0,0.06451613] (0.06451613,0.2]        (0.2,0.4]  (0.4,0.6666667] \n",
       "            2523              692              266               61 \n",
       "   (0.6666667,1] \n",
       "              11 "
      ]
     },
     "metadata": {},
     "output_type": "display_data"
    }
   ],
   "source": [
    "numcat <- 5\n",
    "\n",
    "cate <- classIntervals(burgRate, numcat, style = \"jenks\")\n",
    "cate"
   ]
  },
  {
   "cell_type": "code",
   "execution_count": 54,
   "metadata": {
    "collapsed": true
   },
   "outputs": [],
   "source": [
    "pal <- gray.colors(numcat)\n",
    "cols <- findColours(cate, pal)"
   ]
  },
  {
   "cell_type": "code",
   "execution_count": 55,
   "metadata": {},
   "outputs": [
    {
     "data": {
      "text/html": [
       "<ol class=list-inline>\n",
       "\t<li>'#4D4D4D'</li>\n",
       "\t<li>'#888888'</li>\n",
       "\t<li>'#AEAEAE'</li>\n",
       "\t<li>'#CCCCCC'</li>\n",
       "\t<li>'#E6E6E6'</li>\n",
       "</ol>\n"
      ],
      "text/latex": [
       "\\begin{enumerate*}\n",
       "\\item '\\#4D4D4D'\n",
       "\\item '\\#888888'\n",
       "\\item '\\#AEAEAE'\n",
       "\\item '\\#CCCCCC'\n",
       "\\item '\\#E6E6E6'\n",
       "\\end{enumerate*}\n"
      ],
      "text/markdown": [
       "1. '#4D4D4D'\n",
       "2. '#888888'\n",
       "3. '#AEAEAE'\n",
       "4. '#CCCCCC'\n",
       "5. '#E6E6E6'\n",
       "\n",
       "\n"
      ],
      "text/plain": [
       "[1] \"#4D4D4D\" \"#888888\" \"#AEAEAE\" \"#CCCCCC\" \"#E6E6E6\""
      ]
     },
     "metadata": {},
     "output_type": "display_data"
    }
   ],
   "source": [
    "pal"
   ]
  },
  {
   "cell_type": "code",
   "execution_count": 56,
   "metadata": {},
   "outputs": [
    {
     "data": {
      "text/html": [
       "<ol class=list-inline>\n",
       "\t<li>'#4D4D4D'</li>\n",
       "\t<li>'#4D4D4D'</li>\n",
       "\t<li>'#4D4D4D'</li>\n",
       "\t<li>'#4D4D4D'</li>\n",
       "\t<li>'#4D4D4D'</li>\n",
       "\t<li>'#4D4D4D'</li>\n",
       "\t<li>'#4D4D4D'</li>\n",
       "\t<li>'#4D4D4D'</li>\n",
       "\t<li>'#4D4D4D'</li>\n",
       "\t<li>'#4D4D4D'</li>\n",
       "\t<li>'#4D4D4D'</li>\n",
       "\t<li>'#888888'</li>\n",
       "\t<li>'#4D4D4D'</li>\n",
       "\t<li>'#888888'</li>\n",
       "\t<li>'#4D4D4D'</li>\n",
       "\t<li>'#4D4D4D'</li>\n",
       "\t<li>'#4D4D4D'</li>\n",
       "\t<li>'#4D4D4D'</li>\n",
       "\t<li>'#4D4D4D'</li>\n",
       "\t<li>'#888888'</li>\n",
       "</ol>\n"
      ],
      "text/latex": [
       "\\begin{enumerate*}\n",
       "\\item '\\#4D4D4D'\n",
       "\\item '\\#4D4D4D'\n",
       "\\item '\\#4D4D4D'\n",
       "\\item '\\#4D4D4D'\n",
       "\\item '\\#4D4D4D'\n",
       "\\item '\\#4D4D4D'\n",
       "\\item '\\#4D4D4D'\n",
       "\\item '\\#4D4D4D'\n",
       "\\item '\\#4D4D4D'\n",
       "\\item '\\#4D4D4D'\n",
       "\\item '\\#4D4D4D'\n",
       "\\item '\\#888888'\n",
       "\\item '\\#4D4D4D'\n",
       "\\item '\\#888888'\n",
       "\\item '\\#4D4D4D'\n",
       "\\item '\\#4D4D4D'\n",
       "\\item '\\#4D4D4D'\n",
       "\\item '\\#4D4D4D'\n",
       "\\item '\\#4D4D4D'\n",
       "\\item '\\#888888'\n",
       "\\end{enumerate*}\n"
      ],
      "text/markdown": [
       "1. '#4D4D4D'\n",
       "2. '#4D4D4D'\n",
       "3. '#4D4D4D'\n",
       "4. '#4D4D4D'\n",
       "5. '#4D4D4D'\n",
       "6. '#4D4D4D'\n",
       "7. '#4D4D4D'\n",
       "8. '#4D4D4D'\n",
       "9. '#4D4D4D'\n",
       "10. '#4D4D4D'\n",
       "11. '#4D4D4D'\n",
       "12. '#888888'\n",
       "13. '#4D4D4D'\n",
       "14. '#888888'\n",
       "15. '#4D4D4D'\n",
       "16. '#4D4D4D'\n",
       "17. '#4D4D4D'\n",
       "18. '#4D4D4D'\n",
       "19. '#4D4D4D'\n",
       "20. '#888888'\n",
       "\n",
       "\n"
      ],
      "text/plain": [
       " [1] \"#4D4D4D\" \"#4D4D4D\" \"#4D4D4D\" \"#4D4D4D\" \"#4D4D4D\" \"#4D4D4D\" \"#4D4D4D\"\n",
       " [8] \"#4D4D4D\" \"#4D4D4D\" \"#4D4D4D\" \"#4D4D4D\" \"#888888\" \"#4D4D4D\" \"#888888\"\n",
       "[15] \"#4D4D4D\" \"#4D4D4D\" \"#4D4D4D\" \"#4D4D4D\" \"#4D4D4D\" \"#888888\""
      ]
     },
     "metadata": {},
     "output_type": "display_data"
    }
   ],
   "source": [
    "cols[1:20]"
   ]
  },
  {
   "cell_type": "code",
   "execution_count": 57,
   "metadata": {},
   "outputs": [
    {
     "data": {
      "image/png": "[encoded data removed]",
      "text/plain": [
       "Plot with title \"Burglary Rates in Chicago - Jenks Method\""
      ]
     },
     "metadata": {},
     "output_type": "display_data"
    }
   ],
   "source": [
    "plot(chi.subset, col = cols, lwd = 0.2, main = \"Burglary Rates in Chicago - Jenks Method\")\n",
    "\n",
    "# legend settings\n",
    "\n",
    "brks <- round(cate$brks, 3)\n",
    "leg.text <- paste(brks[-numcat], brks[-1], sep = \" - \")\n",
    "legend(\"bottomleft\", fill = attr(cols, \"palette\"), legend = leg.text, title = \"Burglary Rates\")"
   ]
  },
  {
   "cell_type": "markdown",
   "metadata": {},
   "source": [
    "Compute the local Moran statistic for the two.sided hypothesis. "
   ]
  },
  {
   "cell_type": "code",
   "execution_count": 58,
   "metadata": {},
   "outputs": [
    {
     "data": {
      "text/html": [
       "<table>\n",
       "<thead><tr><th></th><th scope=col>Ii</th><th scope=col>E.Ii</th><th scope=col>Var.Ii</th><th scope=col>Z.Ii</th><th scope=col>Pr(z != 0)</th></tr></thead>\n",
       "<tbody>\n",
       "\t<tr><th scope=row>358</th><td>0.2625551    </td><td>-0.0002815315</td><td>0.14197034   </td><td>0.6975688    </td><td>0.4854469    </td></tr>\n",
       "\t<tr><th scope=row>616</th><td>0.1817098    </td><td>-0.0002815315</td><td>0.07631677   </td><td>0.6587804    </td><td>0.5100368    </td></tr>\n",
       "\t<tr><th scope=row>798</th><td>0.1822712    </td><td>-0.0002815315</td><td>0.06195505   </td><td>0.7334154    </td><td>0.4633051    </td></tr>\n",
       "\t<tr><th scope=row>865</th><td>0.2625551    </td><td>-0.0002815315</td><td>0.09929552   </td><td>0.8341056    </td><td>0.4042215    </td></tr>\n",
       "\t<tr><th scope=row>1169</th><td>0.1204428    </td><td>-0.0002815315</td><td>0.05829422   </td><td>0.5000137    </td><td>0.6170654    </td></tr>\n",
       "\t<tr><th scope=row>1642</th><td>0.2204102    </td><td>-0.0002815315</td><td>0.05212862   </td><td>0.9666025    </td><td>0.3337428    </td></tr>\n",
       "</tbody>\n",
       "</table>\n"
      ],
      "text/latex": [
       "\\begin{tabular}{r|lllll}\n",
       "  & Ii & E.Ii & Var.Ii & Z.Ii & Pr(z != 0)\\\\\n",
       "\\hline\n",
       "\t358 & 0.2625551     & -0.0002815315 & 0.14197034    & 0.6975688     & 0.4854469    \\\\\n",
       "\t616 & 0.1817098     & -0.0002815315 & 0.07631677    & 0.6587804     & 0.5100368    \\\\\n",
       "\t798 & 0.1822712     & -0.0002815315 & 0.06195505    & 0.7334154     & 0.4633051    \\\\\n",
       "\t865 & 0.2625551     & -0.0002815315 & 0.09929552    & 0.8341056     & 0.4042215    \\\\\n",
       "\t1169 & 0.1204428     & -0.0002815315 & 0.05829422    & 0.5000137     & 0.6170654    \\\\\n",
       "\t1642 & 0.2204102     & -0.0002815315 & 0.05212862    & 0.9666025     & 0.3337428    \\\\\n",
       "\\end{tabular}\n"
      ],
      "text/markdown": [
       "\n",
       "| <!--/--> | Ii | E.Ii | Var.Ii | Z.Ii | Pr(z != 0) | \n",
       "|---|---|---|---|---|---|\n",
       "| 358 | 0.2625551     | -0.0002815315 | 0.14197034    | 0.6975688     | 0.4854469     | \n",
       "| 616 | 0.1817098     | -0.0002815315 | 0.07631677    | 0.6587804     | 0.5100368     | \n",
       "| 798 | 0.1822712     | -0.0002815315 | 0.06195505    | 0.7334154     | 0.4633051     | \n",
       "| 865 | 0.2625551     | -0.0002815315 | 0.09929552    | 0.8341056     | 0.4042215     | \n",
       "| 1169 | 0.1204428     | -0.0002815315 | 0.05829422    | 0.5000137     | 0.6170654     | \n",
       "| 1642 | 0.2204102     | -0.0002815315 | 0.05212862    | 0.9666025     | 0.3337428     | \n",
       "\n",
       "\n"
      ],
      "text/plain": [
       "     Ii        E.Ii          Var.Ii     Z.Ii      Pr(z != 0)\n",
       "358  0.2625551 -0.0002815315 0.14197034 0.6975688 0.4854469 \n",
       "616  0.1817098 -0.0002815315 0.07631677 0.6587804 0.5100368 \n",
       "798  0.1822712 -0.0002815315 0.06195505 0.7334154 0.4633051 \n",
       "865  0.2625551 -0.0002815315 0.09929552 0.8341056 0.4042215 \n",
       "1169 0.1204428 -0.0002815315 0.05829422 0.5000137 0.6170654 \n",
       "1642 0.2204102 -0.0002815315 0.05212862 0.9666025 0.3337428 "
      ]
     },
     "metadata": {},
     "output_type": "display_data"
    }
   ],
   "source": [
    "LM <- localmoran(burgRate, chi.subset.listw, alternative = \"two.sided\")\n",
    "\n",
    "head(LM)"
   ]
  },
  {
   "cell_type": "code",
   "execution_count": 59,
   "metadata": {
    "collapsed": true
   },
   "outputs": [],
   "source": [
    "zScore <- LM[, c(\"Z.Ii\")]\n",
    "\n",
    "pValue <- LM[, c(\"Pr(z != 0)\")]"
   ]
  },
  {
   "cell_type": "code",
   "execution_count": 60,
   "metadata": {},
   "outputs": [
    {
     "data": {
      "text/html": [
       "<dl class=dl-horizontal>\n",
       "\t<dt>358</dt>\n",
       "\t\t<dd>0.697568848676211</dd>\n",
       "\t<dt>616</dt>\n",
       "\t\t<dd>0.65878042310064</dd>\n",
       "\t<dt>798</dt>\n",
       "\t\t<dd>0.733415367814649</dd>\n",
       "\t<dt>865</dt>\n",
       "\t\t<dd>0.834105645118636</dd>\n",
       "\t<dt>1169</dt>\n",
       "\t\t<dd>0.500013696028231</dd>\n",
       "</dl>\n"
      ],
      "text/latex": [
       "\\begin{description*}\n",
       "\\item[358] 0.697568848676211\n",
       "\\item[616] 0.65878042310064\n",
       "\\item[798] 0.733415367814649\n",
       "\\item[865] 0.834105645118636\n",
       "\\item[1169] 0.500013696028231\n",
       "\\end{description*}\n"
      ],
      "text/markdown": [
       "358\n",
       ":   0.697568848676211616\n",
       ":   0.65878042310064798\n",
       ":   0.733415367814649865\n",
       ":   0.8341056451186361169\n",
       ":   0.500013696028231\n",
       "\n"
      ],
      "text/plain": [
       "      358       616       798       865      1169 \n",
       "0.6975688 0.6587804 0.7334154 0.8341056 0.5000137 "
      ]
     },
     "metadata": {},
     "output_type": "display_data"
    }
   ],
   "source": [
    "zScore[1:5]"
   ]
  },
  {
   "cell_type": "code",
   "execution_count": 61,
   "metadata": {},
   "outputs": [
    {
     "data": {
      "text/html": [
       "<dl class=dl-horizontal>\n",
       "\t<dt>358</dt>\n",
       "\t\t<dd>0.485446868711809</dd>\n",
       "\t<dt>616</dt>\n",
       "\t\t<dd>0.510036780378959</dd>\n",
       "\t<dt>798</dt>\n",
       "\t\t<dd>0.463305128948694</dd>\n",
       "\t<dt>865</dt>\n",
       "\t\t<dd>0.404221454338493</dd>\n",
       "\t<dt>1169</dt>\n",
       "\t\t<dd>0.617065433691685</dd>\n",
       "</dl>\n"
      ],
      "text/latex": [
       "\\begin{description*}\n",
       "\\item[358] 0.485446868711809\n",
       "\\item[616] 0.510036780378959\n",
       "\\item[798] 0.463305128948694\n",
       "\\item[865] 0.404221454338493\n",
       "\\item[1169] 0.617065433691685\n",
       "\\end{description*}\n"
      ],
      "text/markdown": [
       "358\n",
       ":   0.485446868711809616\n",
       ":   0.510036780378959798\n",
       ":   0.463305128948694865\n",
       ":   0.4042214543384931169\n",
       ":   0.617065433691685\n",
       "\n"
      ],
      "text/plain": [
       "      358       616       798       865      1169 \n",
       "0.4854469 0.5100368 0.4633051 0.4042215 0.6170654 "
      ]
     },
     "metadata": {},
     "output_type": "display_data"
    }
   ],
   "source": [
    "pValue[1:5]"
   ]
  },
  {
   "cell_type": "markdown",
   "metadata": {},
   "source": [
    "The Gi* statistic can be employed in instances where the neighborhood of a feature includes the feature itself. "
   ]
  },
  {
   "cell_type": "code",
   "execution_count": 62,
   "metadata": {},
   "outputs": [
    {
     "data": {
      "text/html": [
       "<ol>\n",
       "\t<li><ol class=list-inline>\n",
       "\t<li>6</li>\n",
       "\t<li>7</li>\n",
       "\t<li>31</li>\n",
       "\t<li>32</li>\n",
       "\t<li>33</li>\n",
       "\t<li>42</li>\n",
       "\t<li>93</li>\n",
       "</ol>\n",
       "</li>\n",
       "\t<li><ol class=list-inline>\n",
       "\t<li>9</li>\n",
       "\t<li>13</li>\n",
       "\t<li>20</li>\n",
       "\t<li>29</li>\n",
       "\t<li>55</li>\n",
       "\t<li>76</li>\n",
       "\t<li>80</li>\n",
       "\t<li>100</li>\n",
       "\t<li>1680</li>\n",
       "\t<li>1688</li>\n",
       "\t<li>1692</li>\n",
       "\t<li>1699</li>\n",
       "\t<li>2599</li>\n",
       "</ol>\n",
       "</li>\n",
       "\t<li><ol class=list-inline>\n",
       "\t<li>4</li>\n",
       "\t<li>8</li>\n",
       "\t<li>9</li>\n",
       "\t<li>10</li>\n",
       "\t<li>17</li>\n",
       "\t<li>20</li>\n",
       "\t<li>21</li>\n",
       "\t<li>22</li>\n",
       "\t<li>25</li>\n",
       "\t<li>28</li>\n",
       "\t<li>41</li>\n",
       "\t<li>72</li>\n",
       "\t<li>76</li>\n",
       "\t<li>97</li>\n",
       "\t<li>1671</li>\n",
       "\t<li>1692</li>\n",
       "</ol>\n",
       "</li>\n",
       "\t<li><ol class=list-inline>\n",
       "\t<li>3</li>\n",
       "\t<li>11</li>\n",
       "\t<li>22</li>\n",
       "\t<li>28</li>\n",
       "\t<li>30</li>\n",
       "\t<li>36</li>\n",
       "\t<li>41</li>\n",
       "\t<li>46</li>\n",
       "\t<li>97</li>\n",
       "\t<li>103</li>\n",
       "</ol>\n",
       "</li>\n",
       "\t<li><ol class=list-inline>\n",
       "\t<li>12</li>\n",
       "\t<li>15</li>\n",
       "\t<li>19</li>\n",
       "\t<li>20</li>\n",
       "\t<li>23</li>\n",
       "\t<li>1653</li>\n",
       "\t<li>1664</li>\n",
       "\t<li>1667</li>\n",
       "\t<li>1672</li>\n",
       "\t<li>1683</li>\n",
       "\t<li>1685</li>\n",
       "\t<li>1689</li>\n",
       "\t<li>1692</li>\n",
       "\t<li>1694</li>\n",
       "\t<li>1700</li>\n",
       "\t<li>2613</li>\n",
       "\t<li>2619</li>\n",
       "</ol>\n",
       "</li>\n",
       "</ol>\n"
      ],
      "text/latex": [
       "\\begin{enumerate}\n",
       "\\item \\begin{enumerate*}\n",
       "\\item 6\n",
       "\\item 7\n",
       "\\item 31\n",
       "\\item 32\n",
       "\\item 33\n",
       "\\item 42\n",
       "\\item 93\n",
       "\\end{enumerate*}\n",
       "\n",
       "\\item \\begin{enumerate*}\n",
       "\\item 9\n",
       "\\item 13\n",
       "\\item 20\n",
       "\\item 29\n",
       "\\item 55\n",
       "\\item 76\n",
       "\\item 80\n",
       "\\item 100\n",
       "\\item 1680\n",
       "\\item 1688\n",
       "\\item 1692\n",
       "\\item 1699\n",
       "\\item 2599\n",
       "\\end{enumerate*}\n",
       "\n",
       "\\item \\begin{enumerate*}\n",
       "\\item 4\n",
       "\\item 8\n",
       "\\item 9\n",
       "\\item 10\n",
       "\\item 17\n",
       "\\item 20\n",
       "\\item 21\n",
       "\\item 22\n",
       "\\item 25\n",
       "\\item 28\n",
       "\\item 41\n",
       "\\item 72\n",
       "\\item 76\n",
       "\\item 97\n",
       "\\item 1671\n",
       "\\item 1692\n",
       "\\end{enumerate*}\n",
       "\n",
       "\\item \\begin{enumerate*}\n",
       "\\item 3\n",
       "\\item 11\n",
       "\\item 22\n",
       "\\item 28\n",
       "\\item 30\n",
       "\\item 36\n",
       "\\item 41\n",
       "\\item 46\n",
       "\\item 97\n",
       "\\item 103\n",
       "\\end{enumerate*}\n",
       "\n",
       "\\item \\begin{enumerate*}\n",
       "\\item 12\n",
       "\\item 15\n",
       "\\item 19\n",
       "\\item 20\n",
       "\\item 23\n",
       "\\item 1653\n",
       "\\item 1664\n",
       "\\item 1667\n",
       "\\item 1672\n",
       "\\item 1683\n",
       "\\item 1685\n",
       "\\item 1689\n",
       "\\item 1692\n",
       "\\item 1694\n",
       "\\item 1700\n",
       "\\item 2613\n",
       "\\item 2619\n",
       "\\end{enumerate*}\n",
       "\n",
       "\\end{enumerate}\n"
      ],
      "text/markdown": [
       "1. 1. 6\n",
       "2. 7\n",
       "3. 31\n",
       "4. 32\n",
       "5. 33\n",
       "6. 42\n",
       "7. 93\n",
       "\n",
       "\n",
       "\n",
       "2. 1. 9\n",
       "2. 13\n",
       "3. 20\n",
       "4. 29\n",
       "5. 55\n",
       "6. 76\n",
       "7. 80\n",
       "8. 100\n",
       "9. 1680\n",
       "10. 1688\n",
       "11. 1692\n",
       "12. 1699\n",
       "13. 2599\n",
       "\n",
       "\n",
       "\n",
       "3. 1. 4\n",
       "2. 8\n",
       "3. 9\n",
       "4. 10\n",
       "5. 17\n",
       "6. 20\n",
       "7. 21\n",
       "8. 22\n",
       "9. 25\n",
       "10. 28\n",
       "11. 41\n",
       "12. 72\n",
       "13. 76\n",
       "14. 97\n",
       "15. 1671\n",
       "16. 1692\n",
       "\n",
       "\n",
       "\n",
       "4. 1. 3\n",
       "2. 11\n",
       "3. 22\n",
       "4. 28\n",
       "5. 30\n",
       "6. 36\n",
       "7. 41\n",
       "8. 46\n",
       "9. 97\n",
       "10. 103\n",
       "\n",
       "\n",
       "\n",
       "5. 1. 12\n",
       "2. 15\n",
       "3. 19\n",
       "4. 20\n",
       "5. 23\n",
       "6. 1653\n",
       "7. 1664\n",
       "8. 1667\n",
       "9. 1672\n",
       "10. 1683\n",
       "11. 1685\n",
       "12. 1689\n",
       "13. 1692\n",
       "14. 1694\n",
       "15. 1700\n",
       "16. 2613\n",
       "17. 2619\n",
       "\n",
       "\n",
       "\n",
       "\n",
       "\n"
      ],
      "text/plain": [
       "[[1]]\n",
       "[1]  6  7 31 32 33 42 93\n",
       "\n",
       "[[2]]\n",
       " [1]    9   13   20   29   55   76   80  100 1680 1688 1692 1699 2599\n",
       "\n",
       "[[3]]\n",
       " [1]    4    8    9   10   17   20   21   22   25   28   41   72   76   97 1671\n",
       "[16] 1692\n",
       "\n",
       "[[4]]\n",
       " [1]   3  11  22  28  30  36  41  46  97 103\n",
       "\n",
       "[[5]]\n",
       " [1]   12   15   19   20   23 1653 1664 1667 1672 1683 1685 1689 1692 1694 1700\n",
       "[16] 2613 2619\n"
      ]
     },
     "metadata": {},
     "output_type": "display_data"
    }
   ],
   "source": [
    "chi.subset.nb[1:5]"
   ]
  },
  {
   "cell_type": "code",
   "execution_count": 63,
   "metadata": {
    "collapsed": true
   },
   "outputs": [],
   "source": [
    "chi.subset.self <- include.self(chi.subset.nb)"
   ]
  },
  {
   "cell_type": "code",
   "execution_count": 64,
   "metadata": {},
   "outputs": [
    {
     "data": {
      "text/html": [
       "<ol>\n",
       "\t<li><ol class=list-inline>\n",
       "\t<li>1</li>\n",
       "\t<li>6</li>\n",
       "\t<li>7</li>\n",
       "\t<li>31</li>\n",
       "\t<li>32</li>\n",
       "\t<li>33</li>\n",
       "\t<li>42</li>\n",
       "\t<li>93</li>\n",
       "</ol>\n",
       "</li>\n",
       "\t<li><ol class=list-inline>\n",
       "\t<li>2</li>\n",
       "\t<li>9</li>\n",
       "\t<li>13</li>\n",
       "\t<li>20</li>\n",
       "\t<li>29</li>\n",
       "\t<li>55</li>\n",
       "\t<li>76</li>\n",
       "\t<li>80</li>\n",
       "\t<li>100</li>\n",
       "\t<li>1680</li>\n",
       "\t<li>1688</li>\n",
       "\t<li>1692</li>\n",
       "\t<li>1699</li>\n",
       "\t<li>2599</li>\n",
       "</ol>\n",
       "</li>\n",
       "\t<li><ol class=list-inline>\n",
       "\t<li>3</li>\n",
       "\t<li>4</li>\n",
       "\t<li>8</li>\n",
       "\t<li>9</li>\n",
       "\t<li>10</li>\n",
       "\t<li>17</li>\n",
       "\t<li>20</li>\n",
       "\t<li>21</li>\n",
       "\t<li>22</li>\n",
       "\t<li>25</li>\n",
       "\t<li>28</li>\n",
       "\t<li>41</li>\n",
       "\t<li>72</li>\n",
       "\t<li>76</li>\n",
       "\t<li>97</li>\n",
       "\t<li>1671</li>\n",
       "\t<li>1692</li>\n",
       "</ol>\n",
       "</li>\n",
       "\t<li><ol class=list-inline>\n",
       "\t<li>3</li>\n",
       "\t<li>4</li>\n",
       "\t<li>11</li>\n",
       "\t<li>22</li>\n",
       "\t<li>28</li>\n",
       "\t<li>30</li>\n",
       "\t<li>36</li>\n",
       "\t<li>41</li>\n",
       "\t<li>46</li>\n",
       "\t<li>97</li>\n",
       "\t<li>103</li>\n",
       "</ol>\n",
       "</li>\n",
       "\t<li><ol class=list-inline>\n",
       "\t<li>5</li>\n",
       "\t<li>12</li>\n",
       "\t<li>15</li>\n",
       "\t<li>19</li>\n",
       "\t<li>20</li>\n",
       "\t<li>23</li>\n",
       "\t<li>1653</li>\n",
       "\t<li>1664</li>\n",
       "\t<li>1667</li>\n",
       "\t<li>1672</li>\n",
       "\t<li>1683</li>\n",
       "\t<li>1685</li>\n",
       "\t<li>1689</li>\n",
       "\t<li>1692</li>\n",
       "\t<li>1694</li>\n",
       "\t<li>1700</li>\n",
       "\t<li>2613</li>\n",
       "\t<li>2619</li>\n",
       "</ol>\n",
       "</li>\n",
       "</ol>\n"
      ],
      "text/latex": [
       "\\begin{enumerate}\n",
       "\\item \\begin{enumerate*}\n",
       "\\item 1\n",
       "\\item 6\n",
       "\\item 7\n",
       "\\item 31\n",
       "\\item 32\n",
       "\\item 33\n",
       "\\item 42\n",
       "\\item 93\n",
       "\\end{enumerate*}\n",
       "\n",
       "\\item \\begin{enumerate*}\n",
       "\\item 2\n",
       "\\item 9\n",
       "\\item 13\n",
       "\\item 20\n",
       "\\item 29\n",
       "\\item 55\n",
       "\\item 76\n",
       "\\item 80\n",
       "\\item 100\n",
       "\\item 1680\n",
       "\\item 1688\n",
       "\\item 1692\n",
       "\\item 1699\n",
       "\\item 2599\n",
       "\\end{enumerate*}\n",
       "\n",
       "\\item \\begin{enumerate*}\n",
       "\\item 3\n",
       "\\item 4\n",
       "\\item 8\n",
       "\\item 9\n",
       "\\item 10\n",
       "\\item 17\n",
       "\\item 20\n",
       "\\item 21\n",
       "\\item 22\n",
       "\\item 25\n",
       "\\item 28\n",
       "\\item 41\n",
       "\\item 72\n",
       "\\item 76\n",
       "\\item 97\n",
       "\\item 1671\n",
       "\\item 1692\n",
       "\\end{enumerate*}\n",
       "\n",
       "\\item \\begin{enumerate*}\n",
       "\\item 3\n",
       "\\item 4\n",
       "\\item 11\n",
       "\\item 22\n",
       "\\item 28\n",
       "\\item 30\n",
       "\\item 36\n",
       "\\item 41\n",
       "\\item 46\n",
       "\\item 97\n",
       "\\item 103\n",
       "\\end{enumerate*}\n",
       "\n",
       "\\item \\begin{enumerate*}\n",
       "\\item 5\n",
       "\\item 12\n",
       "\\item 15\n",
       "\\item 19\n",
       "\\item 20\n",
       "\\item 23\n",
       "\\item 1653\n",
       "\\item 1664\n",
       "\\item 1667\n",
       "\\item 1672\n",
       "\\item 1683\n",
       "\\item 1685\n",
       "\\item 1689\n",
       "\\item 1692\n",
       "\\item 1694\n",
       "\\item 1700\n",
       "\\item 2613\n",
       "\\item 2619\n",
       "\\end{enumerate*}\n",
       "\n",
       "\\end{enumerate}\n"
      ],
      "text/markdown": [
       "1. 1. 1\n",
       "2. 6\n",
       "3. 7\n",
       "4. 31\n",
       "5. 32\n",
       "6. 33\n",
       "7. 42\n",
       "8. 93\n",
       "\n",
       "\n",
       "\n",
       "2. 1. 2\n",
       "2. 9\n",
       "3. 13\n",
       "4. 20\n",
       "5. 29\n",
       "6. 55\n",
       "7. 76\n",
       "8. 80\n",
       "9. 100\n",
       "10. 1680\n",
       "11. 1688\n",
       "12. 1692\n",
       "13. 1699\n",
       "14. 2599\n",
       "\n",
       "\n",
       "\n",
       "3. 1. 3\n",
       "2. 4\n",
       "3. 8\n",
       "4. 9\n",
       "5. 10\n",
       "6. 17\n",
       "7. 20\n",
       "8. 21\n",
       "9. 22\n",
       "10. 25\n",
       "11. 28\n",
       "12. 41\n",
       "13. 72\n",
       "14. 76\n",
       "15. 97\n",
       "16. 1671\n",
       "17. 1692\n",
       "\n",
       "\n",
       "\n",
       "4. 1. 3\n",
       "2. 4\n",
       "3. 11\n",
       "4. 22\n",
       "5. 28\n",
       "6. 30\n",
       "7. 36\n",
       "8. 41\n",
       "9. 46\n",
       "10. 97\n",
       "11. 103\n",
       "\n",
       "\n",
       "\n",
       "5. 1. 5\n",
       "2. 12\n",
       "3. 15\n",
       "4. 19\n",
       "5. 20\n",
       "6. 23\n",
       "7. 1653\n",
       "8. 1664\n",
       "9. 1667\n",
       "10. 1672\n",
       "11. 1683\n",
       "12. 1685\n",
       "13. 1689\n",
       "14. 1692\n",
       "15. 1694\n",
       "16. 1700\n",
       "17. 2613\n",
       "18. 2619\n",
       "\n",
       "\n",
       "\n",
       "\n",
       "\n"
      ],
      "text/plain": [
       "[[1]]\n",
       "[1]  1  6  7 31 32 33 42 93\n",
       "\n",
       "[[2]]\n",
       " [1]    2    9   13   20   29   55   76   80  100 1680 1688 1692 1699 2599\n",
       "\n",
       "[[3]]\n",
       " [1]    3    4    8    9   10   17   20   21   22   25   28   41   72   76   97\n",
       "[16] 1671 1692\n",
       "\n",
       "[[4]]\n",
       " [1]   3   4  11  22  28  30  36  41  46  97 103\n",
       "\n",
       "[[5]]\n",
       " [1]    5   12   15   19   20   23 1653 1664 1667 1672 1683 1685 1689 1692 1694\n",
       "[16] 1700 2613 2619\n"
      ]
     },
     "metadata": {},
     "output_type": "display_data"
    }
   ],
   "source": [
    "chi.subset.self[1:5]"
   ]
  },
  {
   "cell_type": "code",
   "execution_count": 65,
   "metadata": {
    "collapsed": true
   },
   "outputs": [],
   "source": [
    "# B weights with self\n",
    "\n",
    "chi.subset.self.listb <- nb2listw(chi.subset.self, style = \"B\")\n",
    "chi.subset.self.listw <- nb2listw(chi.subset.self, style = \"W\")"
   ]
  },
  {
   "cell_type": "code",
   "execution_count": 66,
   "metadata": {},
   "outputs": [
    {
     "data": {
      "text/html": [
       "<ol>\n",
       "\t<li><ol class=list-inline>\n",
       "\t<li>1</li>\n",
       "\t<li>1</li>\n",
       "\t<li>1</li>\n",
       "\t<li>1</li>\n",
       "\t<li>1</li>\n",
       "\t<li>1</li>\n",
       "\t<li>1</li>\n",
       "\t<li>1</li>\n",
       "</ol>\n",
       "</li>\n",
       "\t<li><ol class=list-inline>\n",
       "\t<li>1</li>\n",
       "\t<li>1</li>\n",
       "\t<li>1</li>\n",
       "\t<li>1</li>\n",
       "\t<li>1</li>\n",
       "\t<li>1</li>\n",
       "\t<li>1</li>\n",
       "\t<li>1</li>\n",
       "\t<li>1</li>\n",
       "\t<li>1</li>\n",
       "\t<li>1</li>\n",
       "\t<li>1</li>\n",
       "\t<li>1</li>\n",
       "\t<li>1</li>\n",
       "</ol>\n",
       "</li>\n",
       "\t<li><ol class=list-inline>\n",
       "\t<li>1</li>\n",
       "\t<li>1</li>\n",
       "\t<li>1</li>\n",
       "\t<li>1</li>\n",
       "\t<li>1</li>\n",
       "\t<li>1</li>\n",
       "\t<li>1</li>\n",
       "\t<li>1</li>\n",
       "\t<li>1</li>\n",
       "\t<li>1</li>\n",
       "\t<li>1</li>\n",
       "\t<li>1</li>\n",
       "\t<li>1</li>\n",
       "\t<li>1</li>\n",
       "\t<li>1</li>\n",
       "\t<li>1</li>\n",
       "\t<li>1</li>\n",
       "</ol>\n",
       "</li>\n",
       "\t<li><ol class=list-inline>\n",
       "\t<li>1</li>\n",
       "\t<li>1</li>\n",
       "\t<li>1</li>\n",
       "\t<li>1</li>\n",
       "\t<li>1</li>\n",
       "\t<li>1</li>\n",
       "\t<li>1</li>\n",
       "\t<li>1</li>\n",
       "\t<li>1</li>\n",
       "\t<li>1</li>\n",
       "\t<li>1</li>\n",
       "</ol>\n",
       "</li>\n",
       "\t<li><ol class=list-inline>\n",
       "\t<li>1</li>\n",
       "\t<li>1</li>\n",
       "\t<li>1</li>\n",
       "\t<li>1</li>\n",
       "\t<li>1</li>\n",
       "\t<li>1</li>\n",
       "\t<li>1</li>\n",
       "\t<li>1</li>\n",
       "\t<li>1</li>\n",
       "\t<li>1</li>\n",
       "\t<li>1</li>\n",
       "\t<li>1</li>\n",
       "\t<li>1</li>\n",
       "\t<li>1</li>\n",
       "\t<li>1</li>\n",
       "\t<li>1</li>\n",
       "\t<li>1</li>\n",
       "\t<li>1</li>\n",
       "</ol>\n",
       "</li>\n",
       "\t<li><ol class=list-inline>\n",
       "\t<li>1</li>\n",
       "\t<li>1</li>\n",
       "\t<li>1</li>\n",
       "\t<li>1</li>\n",
       "\t<li>1</li>\n",
       "\t<li>1</li>\n",
       "\t<li>1</li>\n",
       "\t<li>1</li>\n",
       "\t<li>1</li>\n",
       "\t<li>1</li>\n",
       "\t<li>1</li>\n",
       "\t<li>1</li>\n",
       "\t<li>1</li>\n",
       "\t<li>1</li>\n",
       "\t<li>1</li>\n",
       "\t<li>1</li>\n",
       "\t<li>1</li>\n",
       "\t<li>1</li>\n",
       "\t<li>1</li>\n",
       "\t<li>1</li>\n",
       "</ol>\n",
       "</li>\n",
       "</ol>\n"
      ],
      "text/latex": [
       "\\begin{enumerate}\n",
       "\\item \\begin{enumerate*}\n",
       "\\item 1\n",
       "\\item 1\n",
       "\\item 1\n",
       "\\item 1\n",
       "\\item 1\n",
       "\\item 1\n",
       "\\item 1\n",
       "\\item 1\n",
       "\\end{enumerate*}\n",
       "\n",
       "\\item \\begin{enumerate*}\n",
       "\\item 1\n",
       "\\item 1\n",
       "\\item 1\n",
       "\\item 1\n",
       "\\item 1\n",
       "\\item 1\n",
       "\\item 1\n",
       "\\item 1\n",
       "\\item 1\n",
       "\\item 1\n",
       "\\item 1\n",
       "\\item 1\n",
       "\\item 1\n",
       "\\item 1\n",
       "\\end{enumerate*}\n",
       "\n",
       "\\item \\begin{enumerate*}\n",
       "\\item 1\n",
       "\\item 1\n",
       "\\item 1\n",
       "\\item 1\n",
       "\\item 1\n",
       "\\item 1\n",
       "\\item 1\n",
       "\\item 1\n",
       "\\item 1\n",
       "\\item 1\n",
       "\\item 1\n",
       "\\item 1\n",
       "\\item 1\n",
       "\\item 1\n",
       "\\item 1\n",
       "\\item 1\n",
       "\\item 1\n",
       "\\end{enumerate*}\n",
       "\n",
       "\\item \\begin{enumerate*}\n",
       "\\item 1\n",
       "\\item 1\n",
       "\\item 1\n",
       "\\item 1\n",
       "\\item 1\n",
       "\\item 1\n",
       "\\item 1\n",
       "\\item 1\n",
       "\\item 1\n",
       "\\item 1\n",
       "\\item 1\n",
       "\\end{enumerate*}\n",
       "\n",
       "\\item \\begin{enumerate*}\n",
       "\\item 1\n",
       "\\item 1\n",
       "\\item 1\n",
       "\\item 1\n",
       "\\item 1\n",
       "\\item 1\n",
       "\\item 1\n",
       "\\item 1\n",
       "\\item 1\n",
       "\\item 1\n",
       "\\item 1\n",
       "\\item 1\n",
       "\\item 1\n",
       "\\item 1\n",
       "\\item 1\n",
       "\\item 1\n",
       "\\item 1\n",
       "\\item 1\n",
       "\\end{enumerate*}\n",
       "\n",
       "\\item \\begin{enumerate*}\n",
       "\\item 1\n",
       "\\item 1\n",
       "\\item 1\n",
       "\\item 1\n",
       "\\item 1\n",
       "\\item 1\n",
       "\\item 1\n",
       "\\item 1\n",
       "\\item 1\n",
       "\\item 1\n",
       "\\item 1\n",
       "\\item 1\n",
       "\\item 1\n",
       "\\item 1\n",
       "\\item 1\n",
       "\\item 1\n",
       "\\item 1\n",
       "\\item 1\n",
       "\\item 1\n",
       "\\item 1\n",
       "\\end{enumerate*}\n",
       "\n",
       "\\end{enumerate}\n"
      ],
      "text/markdown": [
       "1. 1. 1\n",
       "2. 1\n",
       "3. 1\n",
       "4. 1\n",
       "5. 1\n",
       "6. 1\n",
       "7. 1\n",
       "8. 1\n",
       "\n",
       "\n",
       "\n",
       "2. 1. 1\n",
       "2. 1\n",
       "3. 1\n",
       "4. 1\n",
       "5. 1\n",
       "6. 1\n",
       "7. 1\n",
       "8. 1\n",
       "9. 1\n",
       "10. 1\n",
       "11. 1\n",
       "12. 1\n",
       "13. 1\n",
       "14. 1\n",
       "\n",
       "\n",
       "\n",
       "3. 1. 1\n",
       "2. 1\n",
       "3. 1\n",
       "4. 1\n",
       "5. 1\n",
       "6. 1\n",
       "7. 1\n",
       "8. 1\n",
       "9. 1\n",
       "10. 1\n",
       "11. 1\n",
       "12. 1\n",
       "13. 1\n",
       "14. 1\n",
       "15. 1\n",
       "16. 1\n",
       "17. 1\n",
       "\n",
       "\n",
       "\n",
       "4. 1. 1\n",
       "2. 1\n",
       "3. 1\n",
       "4. 1\n",
       "5. 1\n",
       "6. 1\n",
       "7. 1\n",
       "8. 1\n",
       "9. 1\n",
       "10. 1\n",
       "11. 1\n",
       "\n",
       "\n",
       "\n",
       "5. 1. 1\n",
       "2. 1\n",
       "3. 1\n",
       "4. 1\n",
       "5. 1\n",
       "6. 1\n",
       "7. 1\n",
       "8. 1\n",
       "9. 1\n",
       "10. 1\n",
       "11. 1\n",
       "12. 1\n",
       "13. 1\n",
       "14. 1\n",
       "15. 1\n",
       "16. 1\n",
       "17. 1\n",
       "18. 1\n",
       "\n",
       "\n",
       "\n",
       "6. 1. 1\n",
       "2. 1\n",
       "3. 1\n",
       "4. 1\n",
       "5. 1\n",
       "6. 1\n",
       "7. 1\n",
       "8. 1\n",
       "9. 1\n",
       "10. 1\n",
       "11. 1\n",
       "12. 1\n",
       "13. 1\n",
       "14. 1\n",
       "15. 1\n",
       "16. 1\n",
       "17. 1\n",
       "18. 1\n",
       "19. 1\n",
       "20. 1\n",
       "\n",
       "\n",
       "\n",
       "\n",
       "\n"
      ],
      "text/plain": [
       "[[1]]\n",
       "[1] 1 1 1 1 1 1 1 1\n",
       "\n",
       "[[2]]\n",
       " [1] 1 1 1 1 1 1 1 1 1 1 1 1 1 1\n",
       "\n",
       "[[3]]\n",
       " [1] 1 1 1 1 1 1 1 1 1 1 1 1 1 1 1 1 1\n",
       "\n",
       "[[4]]\n",
       " [1] 1 1 1 1 1 1 1 1 1 1 1\n",
       "\n",
       "[[5]]\n",
       " [1] 1 1 1 1 1 1 1 1 1 1 1 1 1 1 1 1 1 1\n",
       "\n",
       "[[6]]\n",
       " [1] 1 1 1 1 1 1 1 1 1 1 1 1 1 1 1 1 1 1 1 1\n"
      ]
     },
     "metadata": {},
     "output_type": "display_data"
    }
   ],
   "source": [
    "head(chi.subset.self.listb$weights)"
   ]
  },
  {
   "cell_type": "code",
   "execution_count": 67,
   "metadata": {},
   "outputs": [
    {
     "data": {
      "text/html": [
       "<ol>\n",
       "\t<li><ol class=list-inline>\n",
       "\t<li>0.125</li>\n",
       "\t<li>0.125</li>\n",
       "\t<li>0.125</li>\n",
       "\t<li>0.125</li>\n",
       "\t<li>0.125</li>\n",
       "\t<li>0.125</li>\n",
       "\t<li>0.125</li>\n",
       "\t<li>0.125</li>\n",
       "</ol>\n",
       "</li>\n",
       "\t<li><ol class=list-inline>\n",
       "\t<li>0.0714285714285714</li>\n",
       "\t<li>0.0714285714285714</li>\n",
       "\t<li>0.0714285714285714</li>\n",
       "\t<li>0.0714285714285714</li>\n",
       "\t<li>0.0714285714285714</li>\n",
       "\t<li>0.0714285714285714</li>\n",
       "\t<li>0.0714285714285714</li>\n",
       "\t<li>0.0714285714285714</li>\n",
       "\t<li>0.0714285714285714</li>\n",
       "\t<li>0.0714285714285714</li>\n",
       "\t<li>0.0714285714285714</li>\n",
       "\t<li>0.0714285714285714</li>\n",
       "\t<li>0.0714285714285714</li>\n",
       "\t<li>0.0714285714285714</li>\n",
       "</ol>\n",
       "</li>\n",
       "\t<li><ol class=list-inline>\n",
       "\t<li>0.0588235294117647</li>\n",
       "\t<li>0.0588235294117647</li>\n",
       "\t<li>0.0588235294117647</li>\n",
       "\t<li>0.0588235294117647</li>\n",
       "\t<li>0.0588235294117647</li>\n",
       "\t<li>0.0588235294117647</li>\n",
       "\t<li>0.0588235294117647</li>\n",
       "\t<li>0.0588235294117647</li>\n",
       "\t<li>0.0588235294117647</li>\n",
       "\t<li>0.0588235294117647</li>\n",
       "\t<li>0.0588235294117647</li>\n",
       "\t<li>0.0588235294117647</li>\n",
       "\t<li>0.0588235294117647</li>\n",
       "\t<li>0.0588235294117647</li>\n",
       "\t<li>0.0588235294117647</li>\n",
       "\t<li>0.0588235294117647</li>\n",
       "\t<li>0.0588235294117647</li>\n",
       "</ol>\n",
       "</li>\n",
       "\t<li><ol class=list-inline>\n",
       "\t<li>0.0909090909090909</li>\n",
       "\t<li>0.0909090909090909</li>\n",
       "\t<li>0.0909090909090909</li>\n",
       "\t<li>0.0909090909090909</li>\n",
       "\t<li>0.0909090909090909</li>\n",
       "\t<li>0.0909090909090909</li>\n",
       "\t<li>0.0909090909090909</li>\n",
       "\t<li>0.0909090909090909</li>\n",
       "\t<li>0.0909090909090909</li>\n",
       "\t<li>0.0909090909090909</li>\n",
       "\t<li>0.0909090909090909</li>\n",
       "</ol>\n",
       "</li>\n",
       "\t<li><ol class=list-inline>\n",
       "\t<li>0.0555555555555556</li>\n",
       "\t<li>0.0555555555555556</li>\n",
       "\t<li>0.0555555555555556</li>\n",
       "\t<li>0.0555555555555556</li>\n",
       "\t<li>0.0555555555555556</li>\n",
       "\t<li>0.0555555555555556</li>\n",
       "\t<li>0.0555555555555556</li>\n",
       "\t<li>0.0555555555555556</li>\n",
       "\t<li>0.0555555555555556</li>\n",
       "\t<li>0.0555555555555556</li>\n",
       "\t<li>0.0555555555555556</li>\n",
       "\t<li>0.0555555555555556</li>\n",
       "\t<li>0.0555555555555556</li>\n",
       "\t<li>0.0555555555555556</li>\n",
       "\t<li>0.0555555555555556</li>\n",
       "\t<li>0.0555555555555556</li>\n",
       "\t<li>0.0555555555555556</li>\n",
       "\t<li>0.0555555555555556</li>\n",
       "</ol>\n",
       "</li>\n",
       "\t<li><ol class=list-inline>\n",
       "\t<li>0.05</li>\n",
       "\t<li>0.05</li>\n",
       "\t<li>0.05</li>\n",
       "\t<li>0.05</li>\n",
       "\t<li>0.05</li>\n",
       "\t<li>0.05</li>\n",
       "\t<li>0.05</li>\n",
       "\t<li>0.05</li>\n",
       "\t<li>0.05</li>\n",
       "\t<li>0.05</li>\n",
       "\t<li>0.05</li>\n",
       "\t<li>0.05</li>\n",
       "\t<li>0.05</li>\n",
       "\t<li>0.05</li>\n",
       "\t<li>0.05</li>\n",
       "\t<li>0.05</li>\n",
       "\t<li>0.05</li>\n",
       "\t<li>0.05</li>\n",
       "\t<li>0.05</li>\n",
       "\t<li>0.05</li>\n",
       "</ol>\n",
       "</li>\n",
       "</ol>\n"
      ],
      "text/latex": [
       "\\begin{enumerate}\n",
       "\\item \\begin{enumerate*}\n",
       "\\item 0.125\n",
       "\\item 0.125\n",
       "\\item 0.125\n",
       "\\item 0.125\n",
       "\\item 0.125\n",
       "\\item 0.125\n",
       "\\item 0.125\n",
       "\\item 0.125\n",
       "\\end{enumerate*}\n",
       "\n",
       "\\item \\begin{enumerate*}\n",
       "\\item 0.0714285714285714\n",
       "\\item 0.0714285714285714\n",
       "\\item 0.0714285714285714\n",
       "\\item 0.0714285714285714\n",
       "\\item 0.0714285714285714\n",
       "\\item 0.0714285714285714\n",
       "\\item 0.0714285714285714\n",
       "\\item 0.0714285714285714\n",
       "\\item 0.0714285714285714\n",
       "\\item 0.0714285714285714\n",
       "\\item 0.0714285714285714\n",
       "\\item 0.0714285714285714\n",
       "\\item 0.0714285714285714\n",
       "\\item 0.0714285714285714\n",
       "\\end{enumerate*}\n",
       "\n",
       "\\item \\begin{enumerate*}\n",
       "\\item 0.0588235294117647\n",
       "\\item 0.0588235294117647\n",
       "\\item 0.0588235294117647\n",
       "\\item 0.0588235294117647\n",
       "\\item 0.0588235294117647\n",
       "\\item 0.0588235294117647\n",
       "\\item 0.0588235294117647\n",
       "\\item 0.0588235294117647\n",
       "\\item 0.0588235294117647\n",
       "\\item 0.0588235294117647\n",
       "\\item 0.0588235294117647\n",
       "\\item 0.0588235294117647\n",
       "\\item 0.0588235294117647\n",
       "\\item 0.0588235294117647\n",
       "\\item 0.0588235294117647\n",
       "\\item 0.0588235294117647\n",
       "\\item 0.0588235294117647\n",
       "\\end{enumerate*}\n",
       "\n",
       "\\item \\begin{enumerate*}\n",
       "\\item 0.0909090909090909\n",
       "\\item 0.0909090909090909\n",
       "\\item 0.0909090909090909\n",
       "\\item 0.0909090909090909\n",
       "\\item 0.0909090909090909\n",
       "\\item 0.0909090909090909\n",
       "\\item 0.0909090909090909\n",
       "\\item 0.0909090909090909\n",
       "\\item 0.0909090909090909\n",
       "\\item 0.0909090909090909\n",
       "\\item 0.0909090909090909\n",
       "\\end{enumerate*}\n",
       "\n",
       "\\item \\begin{enumerate*}\n",
       "\\item 0.0555555555555556\n",
       "\\item 0.0555555555555556\n",
       "\\item 0.0555555555555556\n",
       "\\item 0.0555555555555556\n",
       "\\item 0.0555555555555556\n",
       "\\item 0.0555555555555556\n",
       "\\item 0.0555555555555556\n",
       "\\item 0.0555555555555556\n",
       "\\item 0.0555555555555556\n",
       "\\item 0.0555555555555556\n",
       "\\item 0.0555555555555556\n",
       "\\item 0.0555555555555556\n",
       "\\item 0.0555555555555556\n",
       "\\item 0.0555555555555556\n",
       "\\item 0.0555555555555556\n",
       "\\item 0.0555555555555556\n",
       "\\item 0.0555555555555556\n",
       "\\item 0.0555555555555556\n",
       "\\end{enumerate*}\n",
       "\n",
       "\\item \\begin{enumerate*}\n",
       "\\item 0.05\n",
       "\\item 0.05\n",
       "\\item 0.05\n",
       "\\item 0.05\n",
       "\\item 0.05\n",
       "\\item 0.05\n",
       "\\item 0.05\n",
       "\\item 0.05\n",
       "\\item 0.05\n",
       "\\item 0.05\n",
       "\\item 0.05\n",
       "\\item 0.05\n",
       "\\item 0.05\n",
       "\\item 0.05\n",
       "\\item 0.05\n",
       "\\item 0.05\n",
       "\\item 0.05\n",
       "\\item 0.05\n",
       "\\item 0.05\n",
       "\\item 0.05\n",
       "\\end{enumerate*}\n",
       "\n",
       "\\end{enumerate}\n"
      ],
      "text/markdown": [
       "1. 1. 0.125\n",
       "2. 0.125\n",
       "3. 0.125\n",
       "4. 0.125\n",
       "5. 0.125\n",
       "6. 0.125\n",
       "7. 0.125\n",
       "8. 0.125\n",
       "\n",
       "\n",
       "\n",
       "2. 1. 0.0714285714285714\n",
       "2. 0.0714285714285714\n",
       "3. 0.0714285714285714\n",
       "4. 0.0714285714285714\n",
       "5. 0.0714285714285714\n",
       "6. 0.0714285714285714\n",
       "7. 0.0714285714285714\n",
       "8. 0.0714285714285714\n",
       "9. 0.0714285714285714\n",
       "10. 0.0714285714285714\n",
       "11. 0.0714285714285714\n",
       "12. 0.0714285714285714\n",
       "13. 0.0714285714285714\n",
       "14. 0.0714285714285714\n",
       "\n",
       "\n",
       "\n",
       "3. 1. 0.0588235294117647\n",
       "2. 0.0588235294117647\n",
       "3. 0.0588235294117647\n",
       "4. 0.0588235294117647\n",
       "5. 0.0588235294117647\n",
       "6. 0.0588235294117647\n",
       "7. 0.0588235294117647\n",
       "8. 0.0588235294117647\n",
       "9. 0.0588235294117647\n",
       "10. 0.0588235294117647\n",
       "11. 0.0588235294117647\n",
       "12. 0.0588235294117647\n",
       "13. 0.0588235294117647\n",
       "14. 0.0588235294117647\n",
       "15. 0.0588235294117647\n",
       "16. 0.0588235294117647\n",
       "17. 0.0588235294117647\n",
       "\n",
       "\n",
       "\n",
       "4. 1. 0.0909090909090909\n",
       "2. 0.0909090909090909\n",
       "3. 0.0909090909090909\n",
       "4. 0.0909090909090909\n",
       "5. 0.0909090909090909\n",
       "6. 0.0909090909090909\n",
       "7. 0.0909090909090909\n",
       "8. 0.0909090909090909\n",
       "9. 0.0909090909090909\n",
       "10. 0.0909090909090909\n",
       "11. 0.0909090909090909\n",
       "\n",
       "\n",
       "\n",
       "5. 1. 0.0555555555555556\n",
       "2. 0.0555555555555556\n",
       "3. 0.0555555555555556\n",
       "4. 0.0555555555555556\n",
       "5. 0.0555555555555556\n",
       "6. 0.0555555555555556\n",
       "7. 0.0555555555555556\n",
       "8. 0.0555555555555556\n",
       "9. 0.0555555555555556\n",
       "10. 0.0555555555555556\n",
       "11. 0.0555555555555556\n",
       "12. 0.0555555555555556\n",
       "13. 0.0555555555555556\n",
       "14. 0.0555555555555556\n",
       "15. 0.0555555555555556\n",
       "16. 0.0555555555555556\n",
       "17. 0.0555555555555556\n",
       "18. 0.0555555555555556\n",
       "\n",
       "\n",
       "\n",
       "6. 1. 0.05\n",
       "2. 0.05\n",
       "3. 0.05\n",
       "4. 0.05\n",
       "5. 0.05\n",
       "6. 0.05\n",
       "7. 0.05\n",
       "8. 0.05\n",
       "9. 0.05\n",
       "10. 0.05\n",
       "11. 0.05\n",
       "12. 0.05\n",
       "13. 0.05\n",
       "14. 0.05\n",
       "15. 0.05\n",
       "16. 0.05\n",
       "17. 0.05\n",
       "18. 0.05\n",
       "19. 0.05\n",
       "20. 0.05\n",
       "\n",
       "\n",
       "\n",
       "\n",
       "\n"
      ],
      "text/plain": [
       "[[1]]\n",
       "[1] 0.125 0.125 0.125 0.125 0.125 0.125 0.125 0.125\n",
       "\n",
       "[[2]]\n",
       " [1] 0.07142857 0.07142857 0.07142857 0.07142857 0.07142857 0.07142857\n",
       " [7] 0.07142857 0.07142857 0.07142857 0.07142857 0.07142857 0.07142857\n",
       "[13] 0.07142857 0.07142857\n",
       "\n",
       "[[3]]\n",
       " [1] 0.05882353 0.05882353 0.05882353 0.05882353 0.05882353 0.05882353\n",
       " [7] 0.05882353 0.05882353 0.05882353 0.05882353 0.05882353 0.05882353\n",
       "[13] 0.05882353 0.05882353 0.05882353 0.05882353 0.05882353\n",
       "\n",
       "[[4]]\n",
       " [1] 0.09090909 0.09090909 0.09090909 0.09090909 0.09090909 0.09090909\n",
       " [7] 0.09090909 0.09090909 0.09090909 0.09090909 0.09090909\n",
       "\n",
       "[[5]]\n",
       " [1] 0.05555556 0.05555556 0.05555556 0.05555556 0.05555556 0.05555556\n",
       " [7] 0.05555556 0.05555556 0.05555556 0.05555556 0.05555556 0.05555556\n",
       "[13] 0.05555556 0.05555556 0.05555556 0.05555556 0.05555556 0.05555556\n",
       "\n",
       "[[6]]\n",
       " [1] 0.05 0.05 0.05 0.05 0.05 0.05 0.05 0.05 0.05 0.05 0.05 0.05 0.05 0.05 0.05\n",
       "[16] 0.05 0.05 0.05 0.05 0.05\n"
      ]
     },
     "metadata": {},
     "output_type": "display_data"
    }
   ],
   "source": [
    "head(chi.subset.self.listw$weights)"
   ]
  },
  {
   "cell_type": "markdown",
   "metadata": {},
   "source": [
    "Calculate the local Gi* statistic using the burglary rate variable created earlier."
   ]
  },
  {
   "cell_type": "code",
   "execution_count": 68,
   "metadata": {},
   "outputs": [
    {
     "data": {
      "text/html": [
       "<ol class=list-inline>\n",
       "\t<li>-1.45071994195669</li>\n",
       "\t<li>-1.37156140180048</li>\n",
       "\t<li>-1.50807099398323</li>\n",
       "\t<li>-1.70184017374917</li>\n",
       "\t<li>-1.06517922408322</li>\n",
       "\t<li>-1.94730263270306</li>\n",
       "</ol>\n"
      ],
      "text/latex": [
       "\\begin{enumerate*}\n",
       "\\item -1.45071994195669\n",
       "\\item -1.37156140180048\n",
       "\\item -1.50807099398323\n",
       "\\item -1.70184017374917\n",
       "\\item -1.06517922408322\n",
       "\\item -1.94730263270306\n",
       "\\end{enumerate*}\n"
      ],
      "text/markdown": [
       "1. -1.45071994195669\n",
       "2. -1.37156140180048\n",
       "3. -1.50807099398323\n",
       "4. -1.70184017374917\n",
       "5. -1.06517922408322\n",
       "6. -1.94730263270306\n",
       "\n",
       "\n"
      ],
      "text/plain": [
       "[1] -1.450720 -1.371561 -1.508071 -1.701840 -1.065179 -1.947303"
      ]
     },
     "metadata": {},
     "output_type": "display_data"
    }
   ],
   "source": [
    "g <- localG(burgRate, chi.subset.self.listb)\n",
    "\n",
    "head(g)"
   ]
  },
  {
   "cell_type": "markdown",
   "metadata": {},
   "source": [
    "Compute the z-scores associated with the 0.90, 0.95, and 0.995 confidence levels assuming a normal distribution. "
   ]
  },
  {
   "cell_type": "code",
   "execution_count": 69,
   "metadata": {
    "collapsed": true
   },
   "outputs": [],
   "source": [
    "zNormal <- list()\n",
    "\n",
    "probsU <- c(0.90, 0.95, 0.99)\n",
    "\n",
    "i <- 1\n",
    "\n",
    "for (pr in probsU){\n",
    "    # convert confidence levels to sig probs\n",
    "    inpr <- 1 - ((1-pr)/2)\n",
    "    \n",
    "    # compute normal error for z-score\n",
    "    errorZ <- qnorm(inpr, lower.tail = TRUE)\n",
    "    zNormal[[i]] <- 0 + errorZ\n",
    "    i <- i + 1\n",
    "}"
   ]
  },
  {
   "cell_type": "code",
   "execution_count": 70,
   "metadata": {
    "collapsed": true
   },
   "outputs": [],
   "source": [
    "zG <- unlist(zNormal)"
   ]
  },
  {
   "cell_type": "code",
   "execution_count": 71,
   "metadata": {},
   "outputs": [
    {
     "data": {
      "text/html": [
       "<ol class=list-inline>\n",
       "\t<li>'0.9 =&gt; 1.64485362695147'</li>\n",
       "\t<li>'0.95 =&gt; 1.95996398454005'</li>\n",
       "\t<li>'0.99 =&gt; 2.5758293035489'</li>\n",
       "</ol>\n"
      ],
      "text/latex": [
       "\\begin{enumerate*}\n",
       "\\item '0.9 => 1.64485362695147'\n",
       "\\item '0.95 => 1.95996398454005'\n",
       "\\item '0.99 => 2.5758293035489'\n",
       "\\end{enumerate*}\n"
      ],
      "text/markdown": [
       "1. '0.9 =&gt; 1.64485362695147'\n",
       "2. '0.95 =&gt; 1.95996398454005'\n",
       "3. '0.99 =&gt; 2.5758293035489'\n",
       "\n",
       "\n"
      ],
      "text/plain": [
       "[1] \"0.9 => 1.64485362695147\"  \"0.95 => 1.95996398454005\"\n",
       "[3] \"0.99 => 2.5758293035489\" "
      ]
     },
     "metadata": {},
     "output_type": "display_data"
    }
   ],
   "source": [
    "paste(probsU, zG, sep = \" => \")"
   ]
  },
  {
   "cell_type": "markdown",
   "metadata": {},
   "source": [
    "Map the normal distribution z-scores based on the three confidence level intervals for the Moran statistic. "
   ]
  },
  {
   "cell_type": "code",
   "execution_count": 72,
   "metadata": {
    "collapsed": true
   },
   "outputs": [],
   "source": [
    "ncz1 <- 4 + length(zG) - 1\n",
    "ncz2 <- 4 + length(zG)"
   ]
  },
  {
   "cell_type": "code",
   "execution_count": 73,
   "metadata": {
    "collapsed": true
   },
   "outputs": [],
   "source": [
    "z.Mi <- classIntervals(zScore, n = ncz1, style = \"fixed\", fixedBreaks = c(min(zScore), -zG, zG, max(zScore)))"
   ]
  },
  {
   "cell_type": "code",
   "execution_count": 74,
   "metadata": {},
   "outputs": [
    {
     "data": {
      "text/plain": [
       "style: fixed\n",
       "[-11.86356,-2.575829) [-2.575829,-1.959964) [-1.959964,-1.644854) \n",
       "                   28                    35                    36 \n",
       " [-1.644854,1.644854)   [1.644854,1.959964)   [1.959964,2.575829) \n",
       "                 3263                    20                    51 \n",
       "  [2.575829,41.29237] \n",
       "                  120 "
      ]
     },
     "metadata": {},
     "output_type": "display_data"
    }
   ],
   "source": [
    "z.Mi"
   ]
  },
  {
   "cell_type": "code",
   "execution_count": 75,
   "metadata": {
    "collapsed": true
   },
   "outputs": [],
   "source": [
    "pal <- c(\"black\", \"blue\", \"lightblue\", \"white\", \"pink\", \"red\", \"red4\")\n",
    "cols.m <- findColours(z.Mi, pal)"
   ]
  },
  {
   "cell_type": "code",
   "execution_count": 76,
   "metadata": {},
   "outputs": [
    {
     "data": {
      "text/html": [
       "<ol class=list-inline>\n",
       "\t<li>'black'</li>\n",
       "\t<li>'blue'</li>\n",
       "\t<li>'lightblue'</li>\n",
       "\t<li>'white'</li>\n",
       "\t<li>'pink'</li>\n",
       "\t<li>'red'</li>\n",
       "\t<li>'red4'</li>\n",
       "</ol>\n"
      ],
      "text/latex": [
       "\\begin{enumerate*}\n",
       "\\item 'black'\n",
       "\\item 'blue'\n",
       "\\item 'lightblue'\n",
       "\\item 'white'\n",
       "\\item 'pink'\n",
       "\\item 'red'\n",
       "\\item 'red4'\n",
       "\\end{enumerate*}\n"
      ],
      "text/markdown": [
       "1. 'black'\n",
       "2. 'blue'\n",
       "3. 'lightblue'\n",
       "4. 'white'\n",
       "5. 'pink'\n",
       "6. 'red'\n",
       "7. 'red4'\n",
       "\n",
       "\n"
      ],
      "text/plain": [
       "[1] \"black\"     \"blue\"      \"lightblue\" \"white\"     \"pink\"      \"red\"      \n",
       "[7] \"red4\"     "
      ]
     },
     "metadata": {},
     "output_type": "display_data"
    }
   ],
   "source": [
    "pal"
   ]
  },
  {
   "cell_type": "code",
   "execution_count": 77,
   "metadata": {},
   "outputs": [
    {
     "data": {
      "text/html": [
       "<ol class=list-inline>\n",
       "\t<li>'#FFFFFF'</li>\n",
       "\t<li>'#FFFFFF'</li>\n",
       "\t<li>'#FFFFFF'</li>\n",
       "\t<li>'#FFFFFF'</li>\n",
       "\t<li>'#FFFFFF'</li>\n",
       "\t<li>'#FFFFFF'</li>\n",
       "\t<li>'#FFFFFF'</li>\n",
       "\t<li>'#FFFFFF'</li>\n",
       "\t<li>'#FFFFFF'</li>\n",
       "\t<li>'#FFFFFF'</li>\n",
       "\t<li>'#FFFFFF'</li>\n",
       "\t<li>'#FFFFFF'</li>\n",
       "\t<li>'#FFFFFF'</li>\n",
       "\t<li>'#FFFFFF'</li>\n",
       "\t<li>'#FFFFFF'</li>\n",
       "\t<li>'#FFFFFF'</li>\n",
       "\t<li>'#FFFFFF'</li>\n",
       "\t<li>'#FFFFFF'</li>\n",
       "\t<li>'#FFFFFF'</li>\n",
       "\t<li>'#FFFFFF'</li>\n",
       "</ol>\n"
      ],
      "text/latex": [
       "\\begin{enumerate*}\n",
       "\\item '\\#FFFFFF'\n",
       "\\item '\\#FFFFFF'\n",
       "\\item '\\#FFFFFF'\n",
       "\\item '\\#FFFFFF'\n",
       "\\item '\\#FFFFFF'\n",
       "\\item '\\#FFFFFF'\n",
       "\\item '\\#FFFFFF'\n",
       "\\item '\\#FFFFFF'\n",
       "\\item '\\#FFFFFF'\n",
       "\\item '\\#FFFFFF'\n",
       "\\item '\\#FFFFFF'\n",
       "\\item '\\#FFFFFF'\n",
       "\\item '\\#FFFFFF'\n",
       "\\item '\\#FFFFFF'\n",
       "\\item '\\#FFFFFF'\n",
       "\\item '\\#FFFFFF'\n",
       "\\item '\\#FFFFFF'\n",
       "\\item '\\#FFFFFF'\n",
       "\\item '\\#FFFFFF'\n",
       "\\item '\\#FFFFFF'\n",
       "\\end{enumerate*}\n"
      ],
      "text/markdown": [
       "1. '#FFFFFF'\n",
       "2. '#FFFFFF'\n",
       "3. '#FFFFFF'\n",
       "4. '#FFFFFF'\n",
       "5. '#FFFFFF'\n",
       "6. '#FFFFFF'\n",
       "7. '#FFFFFF'\n",
       "8. '#FFFFFF'\n",
       "9. '#FFFFFF'\n",
       "10. '#FFFFFF'\n",
       "11. '#FFFFFF'\n",
       "12. '#FFFFFF'\n",
       "13. '#FFFFFF'\n",
       "14. '#FFFFFF'\n",
       "15. '#FFFFFF'\n",
       "16. '#FFFFFF'\n",
       "17. '#FFFFFF'\n",
       "18. '#FFFFFF'\n",
       "19. '#FFFFFF'\n",
       "20. '#FFFFFF'\n",
       "\n",
       "\n"
      ],
      "text/plain": [
       " [1] \"#FFFFFF\" \"#FFFFFF\" \"#FFFFFF\" \"#FFFFFF\" \"#FFFFFF\" \"#FFFFFF\" \"#FFFFFF\"\n",
       " [8] \"#FFFFFF\" \"#FFFFFF\" \"#FFFFFF\" \"#FFFFFF\" \"#FFFFFF\" \"#FFFFFF\" \"#FFFFFF\"\n",
       "[15] \"#FFFFFF\" \"#FFFFFF\" \"#FFFFFF\" \"#FFFFFF\" \"#FFFFFF\" \"#FFFFFF\""
      ]
     },
     "metadata": {},
     "output_type": "display_data"
    }
   ],
   "source": [
    "cols.m[1:20]"
   ]
  },
  {
   "cell_type": "code",
   "execution_count": 78,
   "metadata": {},
   "outputs": [
    {
     "data": {
      "text/html": [
       "3553"
      ],
      "text/latex": [
       "3553"
      ],
      "text/markdown": [
       "3553"
      ],
      "text/plain": [
       "[1] 3553"
      ]
     },
     "metadata": {},
     "output_type": "display_data"
    }
   ],
   "source": [
    "length(cols.m)"
   ]
  },
  {
   "cell_type": "code",
   "execution_count": 79,
   "metadata": {},
   "outputs": [
    {
     "data": {
      "text/html": [
       "3553"
      ],
      "text/latex": [
       "3553"
      ],
      "text/markdown": [
       "3553"
      ],
      "text/plain": [
       "[1] 3553"
      ]
     },
     "metadata": {},
     "output_type": "display_data"
    }
   ],
   "source": [
    "length(zScore)"
   ]
  },
  {
   "cell_type": "code",
   "execution_count": 80,
   "metadata": {},
   "outputs": [
    {
     "data": {
      "text/html": [
       "3553"
      ],
      "text/latex": [
       "3553"
      ],
      "text/markdown": [
       "3553"
      ],
      "text/plain": [
       "[1] 3553"
      ]
     },
     "metadata": {},
     "output_type": "display_data"
    }
   ],
   "source": [
    "length(chi.subset)"
   ]
  },
  {
   "cell_type": "code",
   "execution_count": 81,
   "metadata": {},
   "outputs": [
    {
     "data": {
      "text/html": [
       "<table>\n",
       "<thead><tr><th></th><th scope=col>TARGET_FID</th><th scope=col>STATEFP</th><th scope=col>COUNTYFP</th><th scope=col>TRACTCE</th><th scope=col>BLKGRPCE</th><th scope=col>AFFGEOID</th><th scope=col>GEOID</th><th scope=col>NAME</th><th scope=col>LSAD</th><th scope=col>ALAND</th><th scope=col>AWATER</th><th scope=col>Burglaries</th><th scope=col>AllCrime</th></tr></thead>\n",
       "<tbody>\n",
       "\t<tr><th scope=row>358</th><td>358                  </td><td>17                   </td><td>031                  </td><td>836500               </td><td>1                    </td><td>1500000US170318365001</td><td>170318365001         </td><td>1                    </td><td>BG                   </td><td>117472               </td><td>5187                 </td><td>0                    </td><td>7                    </td></tr>\n",
       "\t<tr><th scope=row>616</th><td>616                  </td><td>17                   </td><td>031                  </td><td>351500               </td><td>2                    </td><td>1500000US170313515002</td><td>170313515002         </td><td>2                    </td><td>BG                   </td><td> 79096               </td><td>   0                 </td><td>0                    </td><td>8                    </td></tr>\n",
       "\t<tr><th scope=row>798</th><td>798                  </td><td>17                   </td><td>031                  </td><td>839500               </td><td>1                    </td><td>1500000US170318395001</td><td>170318395001         </td><td>1                    </td><td>BG                   </td><td>262139               </td><td>   0                 </td><td>0                    </td><td>18                   </td></tr>\n",
       "\t<tr><th scope=row>865</th><td>865                  </td><td>17                   </td><td>031                  </td><td>351100               </td><td>1                    </td><td>1500000US170313511001</td><td>170313511001         </td><td>1                    </td><td>BG                   </td><td> 80349               </td><td>   0                 </td><td>0                    </td><td>0                    </td></tr>\n",
       "\t<tr><th scope=row>1169</th><td>1169                 </td><td>17                   </td><td>031                  </td><td>350400               </td><td>1                    </td><td>1500000US170313504001</td><td>170313504001         </td><td>1                    </td><td>BG                   </td><td>201453               </td><td>   0                 </td><td>0                    </td><td>21                   </td></tr>\n",
       "\t<tr><th scope=row>1642</th><td>1642                 </td><td>17                   </td><td>031                  </td><td>360200               </td><td>1                    </td><td>1500000US170313602001</td><td>170313602001         </td><td>1                    </td><td>BG                   </td><td>232044               </td><td>   0                 </td><td>0                    </td><td>19                   </td></tr>\n",
       "</tbody>\n",
       "</table>\n"
      ],
      "text/latex": [
       "\\begin{tabular}{r|lllllllllllll}\n",
       "  & TARGET\\_FID & STATEFP & COUNTYFP & TRACTCE & BLKGRPCE & AFFGEOID & GEOID & NAME & LSAD & ALAND & AWATER & Burglaries & AllCrime\\\\\n",
       "\\hline\n",
       "\t358 & 358                   & 17                    & 031                   & 836500                & 1                     & 1500000US170318365001 & 170318365001          & 1                     & BG                    & 117472                & 5187                  & 0                     & 7                    \\\\\n",
       "\t616 & 616                   & 17                    & 031                   & 351500                & 2                     & 1500000US170313515002 & 170313515002          & 2                     & BG                    &  79096                &    0                  & 0                     & 8                    \\\\\n",
       "\t798 & 798                   & 17                    & 031                   & 839500                & 1                     & 1500000US170318395001 & 170318395001          & 1                     & BG                    & 262139                &    0                  & 0                     & 18                   \\\\\n",
       "\t865 & 865                   & 17                    & 031                   & 351100                & 1                     & 1500000US170313511001 & 170313511001          & 1                     & BG                    &  80349                &    0                  & 0                     & 0                    \\\\\n",
       "\t1169 & 1169                  & 17                    & 031                   & 350400                & 1                     & 1500000US170313504001 & 170313504001          & 1                     & BG                    & 201453                &    0                  & 0                     & 21                   \\\\\n",
       "\t1642 & 1642                  & 17                    & 031                   & 360200                & 1                     & 1500000US170313602001 & 170313602001          & 1                     & BG                    & 232044                &    0                  & 0                     & 19                   \\\\\n",
       "\\end{tabular}\n"
      ],
      "text/markdown": [
       "\n",
       "| <!--/--> | TARGET_FID | STATEFP | COUNTYFP | TRACTCE | BLKGRPCE | AFFGEOID | GEOID | NAME | LSAD | ALAND | AWATER | Burglaries | AllCrime | \n",
       "|---|---|---|---|---|---|\n",
       "| 358 | 358                   | 17                    | 031                   | 836500                | 1                     | 1500000US170318365001 | 170318365001          | 1                     | BG                    | 117472                | 5187                  | 0                     | 7                     | \n",
       "| 616 | 616                   | 17                    | 031                   | 351500                | 2                     | 1500000US170313515002 | 170313515002          | 2                     | BG                    |  79096                |    0                  | 0                     | 8                     | \n",
       "| 798 | 798                   | 17                    | 031                   | 839500                | 1                     | 1500000US170318395001 | 170318395001          | 1                     | BG                    | 262139                |    0                  | 0                     | 18                    | \n",
       "| 865 | 865                   | 17                    | 031                   | 351100                | 1                     | 1500000US170313511001 | 170313511001          | 1                     | BG                    |  80349                |    0                  | 0                     | 0                     | \n",
       "| 1169 | 1169                  | 17                    | 031                   | 350400                | 1                     | 1500000US170313504001 | 170313504001          | 1                     | BG                    | 201453                |    0                  | 0                     | 21                    | \n",
       "| 1642 | 1642                  | 17                    | 031                   | 360200                | 1                     | 1500000US170313602001 | 170313602001          | 1                     | BG                    | 232044                |    0                  | 0                     | 19                    | \n",
       "\n",
       "\n"
      ],
      "text/plain": [
       "     TARGET_FID STATEFP COUNTYFP TRACTCE BLKGRPCE AFFGEOID             \n",
       "358  358        17      031      836500  1        1500000US170318365001\n",
       "616  616        17      031      351500  2        1500000US170313515002\n",
       "798  798        17      031      839500  1        1500000US170318395001\n",
       "865  865        17      031      351100  1        1500000US170313511001\n",
       "1169 1169       17      031      350400  1        1500000US170313504001\n",
       "1642 1642       17      031      360200  1        1500000US170313602001\n",
       "     GEOID        NAME LSAD ALAND  AWATER Burglaries AllCrime\n",
       "358  170318365001 1    BG   117472 5187   0          7       \n",
       "616  170313515002 2    BG    79096    0   0          8       \n",
       "798  170318395001 1    BG   262139    0   0          18      \n",
       "865  170313511001 1    BG    80349    0   0          0       \n",
       "1169 170313504001 1    BG   201453    0   0          21      \n",
       "1642 170313602001 1    BG   232044    0   0          19      "
      ]
     },
     "metadata": {},
     "output_type": "display_data"
    }
   ],
   "source": [
    "head(chi.subset@data)"
   ]
  },
  {
   "cell_type": "code",
   "execution_count": 82,
   "metadata": {},
   "outputs": [
    {
     "data": {
      "image/png": "[encoded data removed]",
      "text/plain": [
       "Plot with title \"Local Moran Z-Scores Sig. Level - Normal Assumption\""
      ]
     },
     "metadata": {},
     "output_type": "display_data"
    }
   ],
   "source": [
    "plot(chi.subset, col = cols.m, lwd = 0.2, main = \"Local Moran Z-Scores Sig. Level - Normal Assumption\")\n",
    "brks <- round(z.Mi$brks, ncz2)\n",
    "leg <- paste(brks[-ncz2], brks[-1], sep = \" - \")\n",
    "legend(\"bottomleft\", fill = pal, legend = leg, bty = \"n\", title = \"z-scores\")"
   ]
  },
  {
   "cell_type": "markdown",
   "metadata": {},
   "source": [
    "Map the normal distribution z-scores based on the three confidence level intervals for the G statistic. "
   ]
  },
  {
   "cell_type": "code",
   "execution_count": 83,
   "metadata": {
    "collapsed": true
   },
   "outputs": [],
   "source": [
    "ncz1 <- 4 + length(zG) - 1\n",
    "ncz2 <- 4 + length(zG)"
   ]
  },
  {
   "cell_type": "code",
   "execution_count": 84,
   "metadata": {},
   "outputs": [
    {
     "name": "stdout",
     "output_type": "stream",
     "text": [
      "[1] 6\n"
     ]
    }
   ],
   "source": [
    "print(ncz1)"
   ]
  },
  {
   "cell_type": "code",
   "execution_count": 85,
   "metadata": {},
   "outputs": [
    {
     "name": "stdout",
     "output_type": "stream",
     "text": [
      "[1] 7\n"
     ]
    }
   ],
   "source": [
    "print(ncz2)"
   ]
  },
  {
   "cell_type": "code",
   "execution_count": 86,
   "metadata": {
    "collapsed": true
   },
   "outputs": [],
   "source": [
    "z.Gi <- classIntervals(g, n = ncz1, style = \"fixed\", fixedBreaks = c(min(g), -zG, zG, max(g)))"
   ]
  },
  {
   "cell_type": "code",
   "execution_count": 87,
   "metadata": {},
   "outputs": [
    {
     "data": {
      "text/plain": [
       "style: fixed\n",
       "[-2.575829,-2.465036) [-2.465036,-1.959964) [-1.959964,-1.644854) \n",
       "                    0                    67                   202 \n",
       " [-1.644854,1.644854)   [1.644854,1.959964)   [1.959964,2.575829) \n",
       "                 2837                    79                   141 \n",
       "  [2.575829,8.853774] \n",
       "                  227 "
      ]
     },
     "metadata": {},
     "output_type": "display_data"
    }
   ],
   "source": [
    "z.Gi"
   ]
  },
  {
   "cell_type": "code",
   "execution_count": 88,
   "metadata": {
    "collapsed": true
   },
   "outputs": [],
   "source": [
    "pal <- c(\"black\", \"blue\", \"lightblue\", \"white\", \"pink\", \"red\", \"red4\")\n",
    "cols.g <- findColours(z.Gi, pal)"
   ]
  },
  {
   "cell_type": "code",
   "execution_count": 89,
   "metadata": {},
   "outputs": [
    {
     "data": {
      "text/html": [
       "<ol class=list-inline>\n",
       "\t<li>'black'</li>\n",
       "\t<li>'blue'</li>\n",
       "\t<li>'lightblue'</li>\n",
       "\t<li>'white'</li>\n",
       "\t<li>'pink'</li>\n",
       "\t<li>'red'</li>\n",
       "\t<li>'red4'</li>\n",
       "</ol>\n"
      ],
      "text/latex": [
       "\\begin{enumerate*}\n",
       "\\item 'black'\n",
       "\\item 'blue'\n",
       "\\item 'lightblue'\n",
       "\\item 'white'\n",
       "\\item 'pink'\n",
       "\\item 'red'\n",
       "\\item 'red4'\n",
       "\\end{enumerate*}\n"
      ],
      "text/markdown": [
       "1. 'black'\n",
       "2. 'blue'\n",
       "3. 'lightblue'\n",
       "4. 'white'\n",
       "5. 'pink'\n",
       "6. 'red'\n",
       "7. 'red4'\n",
       "\n",
       "\n"
      ],
      "text/plain": [
       "[1] \"black\"     \"blue\"      \"lightblue\" \"white\"     \"pink\"      \"red\"      \n",
       "[7] \"red4\"     "
      ]
     },
     "metadata": {},
     "output_type": "display_data"
    }
   ],
   "source": [
    "pal"
   ]
  },
  {
   "cell_type": "code",
   "execution_count": 90,
   "metadata": {},
   "outputs": [
    {
     "data": {
      "text/html": [
       "<ol class=list-inline>\n",
       "\t<li>'#FFFFFF'</li>\n",
       "\t<li>'#FFFFFF'</li>\n",
       "\t<li>'#FFFFFF'</li>\n",
       "\t<li>'#ADD8E6'</li>\n",
       "\t<li>'#FFFFFF'</li>\n",
       "\t<li>'#ADD8E6'</li>\n",
       "\t<li>'#ADD8E6'</li>\n",
       "\t<li>'#ADD8E6'</li>\n",
       "\t<li>'#FFFFFF'</li>\n",
       "\t<li>'#FFFFFF'</li>\n",
       "</ol>\n"
      ],
      "text/latex": [
       "\\begin{enumerate*}\n",
       "\\item '\\#FFFFFF'\n",
       "\\item '\\#FFFFFF'\n",
       "\\item '\\#FFFFFF'\n",
       "\\item '\\#ADD8E6'\n",
       "\\item '\\#FFFFFF'\n",
       "\\item '\\#ADD8E6'\n",
       "\\item '\\#ADD8E6'\n",
       "\\item '\\#ADD8E6'\n",
       "\\item '\\#FFFFFF'\n",
       "\\item '\\#FFFFFF'\n",
       "\\end{enumerate*}\n"
      ],
      "text/markdown": [
       "1. '#FFFFFF'\n",
       "2. '#FFFFFF'\n",
       "3. '#FFFFFF'\n",
       "4. '#ADD8E6'\n",
       "5. '#FFFFFF'\n",
       "6. '#ADD8E6'\n",
       "7. '#ADD8E6'\n",
       "8. '#ADD8E6'\n",
       "9. '#FFFFFF'\n",
       "10. '#FFFFFF'\n",
       "\n",
       "\n"
      ],
      "text/plain": [
       " [1] \"#FFFFFF\" \"#FFFFFF\" \"#FFFFFF\" \"#ADD8E6\" \"#FFFFFF\" \"#ADD8E6\" \"#ADD8E6\"\n",
       " [8] \"#ADD8E6\" \"#FFFFFF\" \"#FFFFFF\""
      ]
     },
     "metadata": {},
     "output_type": "display_data"
    }
   ],
   "source": [
    "cols.g[1:10]"
   ]
  },
  {
   "cell_type": "code",
   "execution_count": 91,
   "metadata": {},
   "outputs": [
    {
     "data": {
      "image/png": "[encoded data removed]",
      "text/plain": [
       "Plot with title \"Gi Z-Scores Sig. Level - Normal Assumption\""
      ]
     },
     "metadata": {},
     "output_type": "display_data"
    }
   ],
   "source": [
    "plot(chi.subset, col = cols.g, lwd = 0.2, main = \"Gi Z-Scores Sig. Level - Normal Assumption\")\n",
    "\n",
    "brks <- round(z.Gi$brks, ncz2)\n",
    "leg <- paste(brks[-ncz2], brks[-1], sep = \" - \")\n",
    "legend(\"bottomleft\", fill = pal, legend = leg, bty = \"n\", title = \"Z-Scores\")"
   ]
  },
  {
   "cell_type": "markdown",
   "metadata": {},
   "source": [
    "Compute the Effective Sample Size (ESS) of this dataset."
   ]
  },
  {
   "cell_type": "code",
   "execution_count": 92,
   "metadata": {
    "collapsed": true
   },
   "outputs": [],
   "source": [
    "dsar <- errorsarlm(burgRate ~1, listw = chi.subset.listw)"
   ]
  },
  {
   "cell_type": "code",
   "execution_count": 93,
   "metadata": {},
   "outputs": [
    {
     "data": {
      "text/plain": [
       "\n",
       "Call:\n",
       "errorsarlm(formula = burgRate ~ 1, listw = chi.subset.listw)\n",
       "Type: error \n",
       "\n",
       "Coefficients:\n",
       "     lambda (Intercept) \n",
       " 0.30983046  0.06228591 \n",
       "\n",
       "Log likelihood: 2486.225 "
      ]
     },
     "metadata": {},
     "output_type": "display_data"
    }
   ],
   "source": [
    "dsar"
   ]
  },
  {
   "cell_type": "code",
   "execution_count": 94,
   "metadata": {},
   "outputs": [
    {
     "data": {
      "text/html": [
       "<strong>lambda:</strong> 0.309830460063113"
      ],
      "text/latex": [
       "\\textbf{lambda:} 0.309830460063113"
      ],
      "text/markdown": [
       "**lambda:** 0.309830460063113"
      ],
      "text/plain": [
       "   lambda \n",
       "0.3098305 "
      ]
     },
     "metadata": {},
     "output_type": "display_data"
    }
   ],
   "source": [
    "rho <- dsar$lambda\n",
    "rho"
   ]
  },
  {
   "cell_type": "code",
   "execution_count": 95,
   "metadata": {},
   "outputs": [
    {
     "data": {
      "text/html": [
       "0.309830460063113"
      ],
      "text/latex": [
       "0.309830460063113"
      ],
      "text/markdown": [
       "0.309830460063113"
      ],
      "text/plain": [
       "[1] 0.3098305"
      ]
     },
     "metadata": {},
     "output_type": "display_data"
    }
   ],
   "source": [
    "rho2 <- unname(rho)\n",
    "rho2"
   ]
  },
  {
   "cell_type": "code",
   "execution_count": 96,
   "metadata": {},
   "outputs": [
    {
     "data": {
      "text/html": [
       "<span style=white-space:pre-wrap>'Number of polygons:  3553'</span>"
      ],
      "text/latex": [
       "'Number of polygons:  3553'"
      ],
      "text/markdown": [
       "<span style=white-space:pre-wrap>'Number of polygons:  3553'</span>"
      ],
      "text/plain": [
       "[1] \"Number of polygons:  3553\""
      ]
     },
     "metadata": {},
     "output_type": "display_data"
    }
   ],
   "source": [
    "dvalues <- length(chi.subset)\n",
    "paste(\"Number of polygons: \", dvalues)"
   ]
  },
  {
   "cell_type": "code",
   "execution_count": 97,
   "metadata": {},
   "outputs": [
    {
     "data": {
      "text/html": [
       "<span style=white-space:pre-wrap>'ESS:  1801.55348398613'</span>"
      ],
      "text/latex": [
       "'ESS:  1801.55348398613'"
      ],
      "text/markdown": [
       "<span style=white-space:pre-wrap>'ESS:  1801.55348398613'</span>"
      ],
      "text/plain": [
       "[1] \"ESS:  1801.55348398613\""
      ]
     },
     "metadata": {},
     "output_type": "display_data"
    }
   ],
   "source": [
    "ESS <- dvalues * (1-(1/(1-exp(-1.92349)))*((dvalues-1)/dvalues)*(1-exp((-2.12373*rho2)+ (.20024*sqrt(rho2)))))\n",
    "paste(\"ESS: \", ESS)"
   ]
  },
  {
   "cell_type": "markdown",
   "metadata": {},
   "source": [
    "Compute the normal adjusted z-scores associated with the 0.90, 0.95, and 0.995 confidence levels. "
   ]
  },
  {
   "cell_type": "code",
   "execution_count": 98,
   "metadata": {
    "collapsed": true
   },
   "outputs": [],
   "source": [
    "zAdjusted <- list()\n",
    "\n",
    "probsU <- c(0.90, 0.95, 0.995)\n",
    "\n",
    "i <- 1\n",
    "for (pr in probsU){\n",
    "    rmean <- mean(burgRate)\n",
    "    newpr <- 1 - (((1 - pr)/ESS)/2)\n",
    "    \n",
    "    errorN <- qnorm(newpr, mean = rmean, lower.tail = TRUE)\n",
    "    zAdjusted[[i]] <- 0 + errorN\n",
    "    i <- i + 1\n",
    "}"
   ]
  },
  {
   "cell_type": "code",
   "execution_count": 99,
   "metadata": {
    "collapsed": true
   },
   "outputs": [],
   "source": [
    "zcG <- unlist(zAdjusted)"
   ]
  },
  {
   "cell_type": "code",
   "execution_count": 100,
   "metadata": {},
   "outputs": [
    {
     "data": {
      "text/html": [
       "<ol class=list-inline>\n",
       "\t<li>'0.9 | 4.09359139993924'</li>\n",
       "\t<li>'0.95 | 4.25360906212733'</li>\n",
       "\t<li>'0.995 | 4.74923339091407'</li>\n",
       "</ol>\n"
      ],
      "text/latex": [
       "\\begin{enumerate*}\n",
       "\\item '0.9 \\textbar{} 4.09359139993924'\n",
       "\\item '0.95 \\textbar{} 4.25360906212733'\n",
       "\\item '0.995 \\textbar{} 4.74923339091407'\n",
       "\\end{enumerate*}\n"
      ],
      "text/markdown": [
       "1. '0.9 | 4.09359139993924'\n",
       "2. '0.95 | 4.25360906212733'\n",
       "3. '0.995 | 4.74923339091407'\n",
       "\n",
       "\n"
      ],
      "text/plain": [
       "[1] \"0.9 | 4.09359139993924\"   \"0.95 | 4.25360906212733\" \n",
       "[3] \"0.995 | 4.74923339091407\""
      ]
     },
     "metadata": {},
     "output_type": "display_data"
    }
   ],
   "source": [
    "paste(probsU, zcG, sep = \" | \")"
   ]
  },
  {
   "cell_type": "markdown",
   "metadata": {},
   "source": [
    "Produce a map of the normally adjusted z-scores for the Gi* statistic."
   ]
  },
  {
   "cell_type": "code",
   "execution_count": 101,
   "metadata": {
    "collapsed": true
   },
   "outputs": [],
   "source": [
    "nczc1 <- 4 + length(zcG) - 1\n",
    "nczc2 <- 4 + length(zcG)"
   ]
  },
  {
   "cell_type": "code",
   "execution_count": 102,
   "metadata": {},
   "outputs": [
    {
     "data": {
      "text/plain": [
       "style: fixed\n",
       "[-4.749233,-4.253609) [-4.253609,-4.093591) [-4.093591,-2.465036) \n",
       "                    0                     0                     0 \n",
       " [-2.465036,4.093591)   [4.093591,4.253609)   [4.253609,4.749233) \n",
       "                 3486                     5                    16 \n",
       "  [4.749233,8.853774] \n",
       "                   46 "
      ]
     },
     "metadata": {},
     "output_type": "display_data"
    }
   ],
   "source": [
    "z.Gi <- classIntervals(g, n = nczc1, style = \"fixed\", fixedBreaks = c(min(g), -zcG, zcG, max(g)))\n",
    "\n",
    "z.Gi"
   ]
  },
  {
   "cell_type": "code",
   "execution_count": 103,
   "metadata": {
    "collapsed": true
   },
   "outputs": [],
   "source": [
    "pal <- c(\"black\", \"blue\", \"lightblue\", \"white\", \"pink\", \"red\", \"red4\")\n",
    "cols.g <- findColours(z.Gi, pal)"
   ]
  },
  {
   "cell_type": "code",
   "execution_count": 104,
   "metadata": {},
   "outputs": [
    {
     "data": {
      "image/png": "[encoded data removed]",
      "text/plain": [
       "Plot with title \"Gi Z-Scores Sig. Levels - Adjusted Normal\""
      ]
     },
     "metadata": {},
     "output_type": "display_data"
    }
   ],
   "source": [
    "plot(chi.subset, col = cols.g, lwd = 0.2, main = \"Gi Z-Scores Sig. Levels - Adjusted Normal\")\n",
    "brks <- round(z.Gi$brks, nczc2)\n",
    "leg <- paste(brks[-nczc2], brks[-1], sep = \" - \")\n",
    "legend(\"bottomleft\", fill = pal, legend = leg, bty = \"n\", title = \"z-scores\", cex = 0.7)"
   ]
  },
  {
   "cell_type": "markdown",
   "metadata": {},
   "source": [
    "Produce a map of the normally adjusted z-scores for the Moran statistic."
   ]
  },
  {
   "cell_type": "code",
   "execution_count": 105,
   "metadata": {
    "collapsed": true
   },
   "outputs": [],
   "source": [
    "nczc1 <- 4 + length(zcG) - 1\n",
    "nczc2 <- 4 + length(zcG)"
   ]
  },
  {
   "cell_type": "code",
   "execution_count": 106,
   "metadata": {},
   "outputs": [
    {
     "data": {
      "text/plain": [
       "style: fixed\n",
       "[-11.86356,-4.749233) [-4.749233,-4.253609) [-4.253609,-4.093591) \n",
       "                    7                     2                     1 \n",
       " [-4.093591,4.093591)   [4.093591,4.253609)   [4.253609,4.749233) \n",
       "                 3466                     1                     7 \n",
       "  [4.749233,41.29237] \n",
       "                   69 "
      ]
     },
     "metadata": {},
     "output_type": "display_data"
    }
   ],
   "source": [
    "z.Mi <- classIntervals(zScore, n = nczc1, style = \"fixed\", fixedBreaks = c(min(zScore), -zcG, zcG, max(zScore)))\n",
    "\n",
    "z.Mi"
   ]
  },
  {
   "cell_type": "code",
   "execution_count": 107,
   "metadata": {
    "collapsed": true
   },
   "outputs": [],
   "source": [
    "pal <- c(\"black\", \"blue\", \"lightblue\", \"white\", \"pink\", \"red\", \"red4\")\n",
    "cols.m <- findColours(z.Mi, pal)"
   ]
  },
  {
   "cell_type": "code",
   "execution_count": 108,
   "metadata": {},
   "outputs": [
    {
     "data": {
      "image/png": "[encoded data removed]",
      "text/plain": [
       "Plot with title \"Local Moran Z-Scores Sig. Levels - Adjusted Normal\""
      ]
     },
     "metadata": {},
     "output_type": "display_data"
    }
   ],
   "source": [
    "plot(chi.subset, col = cols.m, lwd = 0.2, main = \"Local Moran Z-Scores Sig. Levels - Adjusted Normal\")\n",
    "brks <- round(z.Mi$brks, nczc2)\n",
    "leg <- paste(brks[-nczc2], brks[-1], sep=\" - \")\n",
    "legend(\"bottomleft\", fill = pal, legend = leg, bty = \"n\", title = \"z-scores\", cex = 0.7)"
   ]
  },
  {
   "cell_type": "markdown",
   "metadata": {},
   "source": [
    "Computing difference in significance - Produce a map that shows blockgroups that were significant at the 0.90 confidence level under the normal distribution that were not signficant at the 0.90 confidence level under the adjusted normal distribution."
   ]
  },
  {
   "cell_type": "code",
   "execution_count": 109,
   "metadata": {},
   "outputs": [
    {
     "data": {
      "text/html": [
       "<ol class=list-inline>\n",
       "\t<li>3553</li>\n",
       "\t<li>13</li>\n",
       "</ol>\n"
      ],
      "text/latex": [
       "\\begin{enumerate*}\n",
       "\\item 3553\n",
       "\\item 13\n",
       "\\end{enumerate*}\n"
      ],
      "text/markdown": [
       "1. 3553\n",
       "2. 13\n",
       "\n",
       "\n"
      ],
      "text/plain": [
       "[1] 3553   13"
      ]
     },
     "metadata": {},
     "output_type": "display_data"
    }
   ],
   "source": [
    "dim(chi.subset@data)"
   ]
  },
  {
   "cell_type": "code",
   "execution_count": 110,
   "metadata": {},
   "outputs": [
    {
     "data": {
      "text/html": [
       "'0.9 =&gt; 1.64485362695147'"
      ],
      "text/latex": [
       "'0.9 => 1.64485362695147'"
      ],
      "text/markdown": [
       "'0.9 =&gt; 1.64485362695147'"
      ],
      "text/plain": [
       "[1] \"0.9 => 1.64485362695147\""
      ]
     },
     "metadata": {},
     "output_type": "display_data"
    }
   ],
   "source": [
    "# calculate normal colors. append them to the chicago dataset\n",
    "\n",
    "zNormal <- list()\n",
    "\n",
    "probsU <- c(0.90)\n",
    "\n",
    "i <- 1\n",
    "\n",
    "for (pr in probsU){\n",
    "    # convert confidence levels to sig probs\n",
    "    inpr <- 1 - ((1-pr)/2)\n",
    "    \n",
    "    # compute normal error for z-score\n",
    "    errorZ <- qnorm(inpr, lower.tail = TRUE)\n",
    "    zNormal[[i]] <- 0 + errorZ\n",
    "    i <- i + 1\n",
    "}\n",
    "\n",
    "zG <- unlist(zNormal)\n",
    "paste(probsU, zG, sep = \" => \")"
   ]
  },
  {
   "cell_type": "code",
   "execution_count": 111,
   "metadata": {
    "collapsed": true
   },
   "outputs": [],
   "source": [
    "ncz1 <- 4 + length(zG) - 1\n",
    "ncz2 <- 4 + length(zG)\n",
    "\n",
    "z.Gi <- classIntervals(g, n = ncz1, style = \"fixed\", fixedBreaks = c(min(g), -zG, zG, max(g)))\n",
    "pal <- c(\"black\", \"white\", \"red\")\n",
    "cols.g <- findColours(z.Gi, pal)"
   ]
  },
  {
   "cell_type": "code",
   "execution_count": 112,
   "metadata": {},
   "outputs": [
    {
     "data": {
      "text/plain": [
       "style: fixed\n",
       "[-2.465036,-1.644854)  [-1.644854,1.644854)   [1.644854,8.853774] \n",
       "                  269                  2837                   447 "
      ]
     },
     "metadata": {},
     "output_type": "display_data"
    }
   ],
   "source": [
    "z.Gi"
   ]
  },
  {
   "cell_type": "code",
   "execution_count": 113,
   "metadata": {},
   "outputs": [
    {
     "data": {
      "text/html": [
       "<ol class=list-inline>\n",
       "\t<li>'#FFFFFF'</li>\n",
       "\t<li>'#000000'</li>\n",
       "\t<li>'#FF0000'</li>\n",
       "</ol>\n"
      ],
      "text/latex": [
       "\\begin{enumerate*}\n",
       "\\item '\\#FFFFFF'\n",
       "\\item '\\#000000'\n",
       "\\item '\\#FF0000'\n",
       "\\end{enumerate*}\n"
      ],
      "text/markdown": [
       "1. '#FFFFFF'\n",
       "2. '#000000'\n",
       "3. '#FF0000'\n",
       "\n",
       "\n"
      ],
      "text/plain": [
       "[1] \"#FFFFFF\" \"#000000\" \"#FF0000\""
      ]
     },
     "metadata": {},
     "output_type": "display_data"
    }
   ],
   "source": [
    "unique(cols.g)"
   ]
  },
  {
   "cell_type": "code",
   "execution_count": 114,
   "metadata": {
    "collapsed": true
   },
   "outputs": [],
   "source": [
    "chi.subset$gScore <- g"
   ]
  },
  {
   "cell_type": "code",
   "execution_count": 115,
   "metadata": {
    "collapsed": true
   },
   "outputs": [],
   "source": [
    "chi.subset$NormalColor <- cols.g"
   ]
  },
  {
   "cell_type": "code",
   "execution_count": 116,
   "metadata": {
    "collapsed": true
   },
   "outputs": [],
   "source": [
    "chi.subset$isSignificant_Normal <- ifelse(chi.subset$NormalColor == \"#FFFFFF\", 0, 1)"
   ]
  },
  {
   "cell_type": "code",
   "execution_count": 117,
   "metadata": {
    "scrolled": true
   },
   "outputs": [
    {
     "data": {
      "text/html": [
       "<table>\n",
       "<thead><tr><th></th><th scope=col>TARGET_FID</th><th scope=col>STATEFP</th><th scope=col>COUNTYFP</th><th scope=col>TRACTCE</th><th scope=col>BLKGRPCE</th><th scope=col>AFFGEOID</th><th scope=col>GEOID</th><th scope=col>NAME</th><th scope=col>LSAD</th><th scope=col>ALAND</th><th scope=col>AWATER</th><th scope=col>Burglaries</th><th scope=col>AllCrime</th><th scope=col>gScore</th><th scope=col>NormalColor</th><th scope=col>isSignificant_Normal</th></tr></thead>\n",
       "<tbody>\n",
       "\t<tr><th scope=row>358</th><td>358                  </td><td>17                   </td><td>031                  </td><td>836500               </td><td>1                    </td><td>1500000US170318365001</td><td>170318365001         </td><td>1                    </td><td>BG                   </td><td>117472               </td><td>5187                 </td><td>0                    </td><td>7                    </td><td>-1.450720            </td><td>#FFFFFF              </td><td>0                    </td></tr>\n",
       "\t<tr><th scope=row>616</th><td>616                  </td><td>17                   </td><td>031                  </td><td>351500               </td><td>2                    </td><td>1500000US170313515002</td><td>170313515002         </td><td>2                    </td><td>BG                   </td><td> 79096               </td><td>   0                 </td><td>0                    </td><td>8                    </td><td>-1.371561            </td><td>#FFFFFF              </td><td>0                    </td></tr>\n",
       "\t<tr><th scope=row>798</th><td>798                  </td><td>17                   </td><td>031                  </td><td>839500               </td><td>1                    </td><td>1500000US170318395001</td><td>170318395001         </td><td>1                    </td><td>BG                   </td><td>262139               </td><td>   0                 </td><td>0                    </td><td>18                   </td><td>-1.508071            </td><td>#FFFFFF              </td><td>0                    </td></tr>\n",
       "\t<tr><th scope=row>865</th><td>865                  </td><td>17                   </td><td>031                  </td><td>351100               </td><td>1                    </td><td>1500000US170313511001</td><td>170313511001         </td><td>1                    </td><td>BG                   </td><td> 80349               </td><td>   0                 </td><td>0                    </td><td>0                    </td><td>-1.701840            </td><td>#000000              </td><td>1                    </td></tr>\n",
       "\t<tr><th scope=row>1169</th><td>1169                 </td><td>17                   </td><td>031                  </td><td>350400               </td><td>1                    </td><td>1500000US170313504001</td><td>170313504001         </td><td>1                    </td><td>BG                   </td><td>201453               </td><td>   0                 </td><td>0                    </td><td>21                   </td><td>-1.065179            </td><td>#FFFFFF              </td><td>0                    </td></tr>\n",
       "</tbody>\n",
       "</table>\n"
      ],
      "text/latex": [
       "\\begin{tabular}{r|llllllllllllllll}\n",
       "  & TARGET\\_FID & STATEFP & COUNTYFP & TRACTCE & BLKGRPCE & AFFGEOID & GEOID & NAME & LSAD & ALAND & AWATER & Burglaries & AllCrime & gScore & NormalColor & isSignificant\\_Normal\\\\\n",
       "\\hline\n",
       "\t358 & 358                   & 17                    & 031                   & 836500                & 1                     & 1500000US170318365001 & 170318365001          & 1                     & BG                    & 117472                & 5187                  & 0                     & 7                     & -1.450720             & \\#FFFFFF             & 0                    \\\\\n",
       "\t616 & 616                   & 17                    & 031                   & 351500                & 2                     & 1500000US170313515002 & 170313515002          & 2                     & BG                    &  79096                &    0                  & 0                     & 8                     & -1.371561             & \\#FFFFFF             & 0                    \\\\\n",
       "\t798 & 798                   & 17                    & 031                   & 839500                & 1                     & 1500000US170318395001 & 170318395001          & 1                     & BG                    & 262139                &    0                  & 0                     & 18                    & -1.508071             & \\#FFFFFF             & 0                    \\\\\n",
       "\t865 & 865                   & 17                    & 031                   & 351100                & 1                     & 1500000US170313511001 & 170313511001          & 1                     & BG                    &  80349                &    0                  & 0                     & 0                     & -1.701840             & \\#000000             & 1                    \\\\\n",
       "\t1169 & 1169                  & 17                    & 031                   & 350400                & 1                     & 1500000US170313504001 & 170313504001          & 1                     & BG                    & 201453                &    0                  & 0                     & 21                    & -1.065179             & \\#FFFFFF             & 0                    \\\\\n",
       "\\end{tabular}\n"
      ],
      "text/markdown": [
       "\n",
       "| <!--/--> | TARGET_FID | STATEFP | COUNTYFP | TRACTCE | BLKGRPCE | AFFGEOID | GEOID | NAME | LSAD | ALAND | AWATER | Burglaries | AllCrime | gScore | NormalColor | isSignificant_Normal | \n",
       "|---|---|---|---|---|\n",
       "| 358 | 358                   | 17                    | 031                   | 836500                | 1                     | 1500000US170318365001 | 170318365001          | 1                     | BG                    | 117472                | 5187                  | 0                     | 7                     | -1.450720             | #FFFFFF               | 0                     | \n",
       "| 616 | 616                   | 17                    | 031                   | 351500                | 2                     | 1500000US170313515002 | 170313515002          | 2                     | BG                    |  79096                |    0                  | 0                     | 8                     | -1.371561             | #FFFFFF               | 0                     | \n",
       "| 798 | 798                   | 17                    | 031                   | 839500                | 1                     | 1500000US170318395001 | 170318395001          | 1                     | BG                    | 262139                |    0                  | 0                     | 18                    | -1.508071             | #FFFFFF               | 0                     | \n",
       "| 865 | 865                   | 17                    | 031                   | 351100                | 1                     | 1500000US170313511001 | 170313511001          | 1                     | BG                    |  80349                |    0                  | 0                     | 0                     | -1.701840             | #000000               | 1                     | \n",
       "| 1169 | 1169                  | 17                    | 031                   | 350400                | 1                     | 1500000US170313504001 | 170313504001          | 1                     | BG                    | 201453                |    0                  | 0                     | 21                    | -1.065179             | #FFFFFF               | 0                     | \n",
       "\n",
       "\n"
      ],
      "text/plain": [
       "     TARGET_FID STATEFP COUNTYFP TRACTCE BLKGRPCE AFFGEOID             \n",
       "358  358        17      031      836500  1        1500000US170318365001\n",
       "616  616        17      031      351500  2        1500000US170313515002\n",
       "798  798        17      031      839500  1        1500000US170318395001\n",
       "865  865        17      031      351100  1        1500000US170313511001\n",
       "1169 1169       17      031      350400  1        1500000US170313504001\n",
       "     GEOID        NAME LSAD ALAND  AWATER Burglaries AllCrime gScore   \n",
       "358  170318365001 1    BG   117472 5187   0          7        -1.450720\n",
       "616  170313515002 2    BG    79096    0   0          8        -1.371561\n",
       "798  170318395001 1    BG   262139    0   0          18       -1.508071\n",
       "865  170313511001 1    BG    80349    0   0          0        -1.701840\n",
       "1169 170313504001 1    BG   201453    0   0          21       -1.065179\n",
       "     NormalColor isSignificant_Normal\n",
       "358  #FFFFFF     0                   \n",
       "616  #FFFFFF     0                   \n",
       "798  #FFFFFF     0                   \n",
       "865  #000000     1                   \n",
       "1169 #FFFFFF     0                   "
      ]
     },
     "metadata": {},
     "output_type": "display_data"
    }
   ],
   "source": [
    "head(chi.subset@data, 5)"
   ]
  },
  {
   "cell_type": "code",
   "execution_count": 118,
   "metadata": {
    "collapsed": true
   },
   "outputs": [],
   "source": [
    "# calculate adjusted colors. append the colors to the chicago dataset."
   ]
  },
  {
   "cell_type": "code",
   "execution_count": 119,
   "metadata": {},
   "outputs": [
    {
     "data": {
      "text/html": [
       "'ESS: 1801.55348398613'"
      ],
      "text/latex": [
       "'ESS: 1801.55348398613'"
      ],
      "text/markdown": [
       "'ESS: 1801.55348398613'"
      ],
      "text/plain": [
       "[1] \"ESS: 1801.55348398613\""
      ]
     },
     "metadata": {},
     "output_type": "display_data"
    }
   ],
   "source": [
    "paste(\"ESS:\", ESS)"
   ]
  },
  {
   "cell_type": "code",
   "execution_count": 120,
   "metadata": {},
   "outputs": [
    {
     "data": {
      "text/html": [
       "'0.9 | 4.09359139993924'"
      ],
      "text/latex": [
       "'0.9 \\textbar{} 4.09359139993924'"
      ],
      "text/markdown": [
       "'0.9 | 4.09359139993924'"
      ],
      "text/plain": [
       "[1] \"0.9 | 4.09359139993924\""
      ]
     },
     "metadata": {},
     "output_type": "display_data"
    }
   ],
   "source": [
    "zAdjusted <- list()\n",
    "\n",
    "probsU <- c(0.90)\n",
    "\n",
    "i <- 1\n",
    "for (pr in probsU){\n",
    "    rmean <- mean(burgRate)\n",
    "    newpr <- 1 - (((1 - pr)/ESS)/2)\n",
    "    \n",
    "    errorN <- qnorm(newpr, mean = rmean, lower.tail = TRUE)\n",
    "    zAdjusted[[i]] <- 0 + errorN\n",
    "    i <- i + 1\n",
    "}\n",
    "\n",
    "zcG <- unlist(zAdjusted)\n",
    "paste(probsU, zcG, sep = \" | \")"
   ]
  },
  {
   "cell_type": "code",
   "execution_count": 121,
   "metadata": {
    "collapsed": true
   },
   "outputs": [],
   "source": [
    "nczc1 <- 4 + length(zcG) - 1\n",
    "nczc2 <- 4 + length(zcG)\n",
    "\n",
    "z.Gi <- classIntervals(g, n = nczc1, style = \"fixed\", fixedBreaks = c(min(g), -zcG, zcG, max(g)))\n",
    "pal <- c(\"black\", \"white\", \"red\")\n",
    "cols.g <- findColours(z.Gi, pal)"
   ]
  },
  {
   "cell_type": "code",
   "execution_count": 122,
   "metadata": {},
   "outputs": [
    {
     "data": {
      "text/plain": [
       "style: fixed\n",
       "[-4.093591,-2.465036)  [-2.465036,4.093591)   [4.093591,8.853774] \n",
       "                    0                  3486                    67 "
      ]
     },
     "metadata": {},
     "output_type": "display_data"
    }
   ],
   "source": [
    "z.Gi"
   ]
  },
  {
   "cell_type": "code",
   "execution_count": 123,
   "metadata": {},
   "outputs": [
    {
     "data": {
      "text/html": [
       "<ol class=list-inline>\n",
       "\t<li>'#FFFFFF'</li>\n",
       "\t<li>'#FF0000'</li>\n",
       "</ol>\n"
      ],
      "text/latex": [
       "\\begin{enumerate*}\n",
       "\\item '\\#FFFFFF'\n",
       "\\item '\\#FF0000'\n",
       "\\end{enumerate*}\n"
      ],
      "text/markdown": [
       "1. '#FFFFFF'\n",
       "2. '#FF0000'\n",
       "\n",
       "\n"
      ],
      "text/plain": [
       "[1] \"#FFFFFF\" \"#FF0000\""
      ]
     },
     "metadata": {},
     "output_type": "display_data"
    }
   ],
   "source": [
    "unique(cols.g)"
   ]
  },
  {
   "cell_type": "code",
   "execution_count": 124,
   "metadata": {
    "collapsed": true
   },
   "outputs": [],
   "source": [
    "chi.subset$AdjColor <- cols.g"
   ]
  },
  {
   "cell_type": "code",
   "execution_count": 125,
   "metadata": {
    "collapsed": true
   },
   "outputs": [],
   "source": [
    "chi.subset$isSignificant_Adj <- ifelse(chi.subset$AdjColor == \"#FFFFFF\", 0, 1)"
   ]
  },
  {
   "cell_type": "code",
   "execution_count": 126,
   "metadata": {},
   "outputs": [
    {
     "data": {
      "text/html": [
       "<table>\n",
       "<thead><tr><th></th><th scope=col>TARGET_FID</th><th scope=col>STATEFP</th><th scope=col>COUNTYFP</th><th scope=col>TRACTCE</th><th scope=col>BLKGRPCE</th><th scope=col>AFFGEOID</th><th scope=col>GEOID</th><th scope=col>NAME</th><th scope=col>LSAD</th><th scope=col>ALAND</th><th scope=col>AWATER</th><th scope=col>Burglaries</th><th scope=col>AllCrime</th><th scope=col>gScore</th><th scope=col>NormalColor</th><th scope=col>isSignificant_Normal</th><th scope=col>AdjColor</th><th scope=col>isSignificant_Adj</th></tr></thead>\n",
       "<tbody>\n",
       "\t<tr><th scope=row>358</th><td>358                  </td><td>17                   </td><td>031                  </td><td>836500               </td><td>1                    </td><td>1500000US170318365001</td><td>170318365001         </td><td>1                    </td><td>BG                   </td><td>117472               </td><td>5187                 </td><td>0                    </td><td>7                    </td><td>-1.450720            </td><td>#FFFFFF              </td><td>0                    </td><td>#FFFFFF              </td><td>0                    </td></tr>\n",
       "\t<tr><th scope=row>616</th><td>616                  </td><td>17                   </td><td>031                  </td><td>351500               </td><td>2                    </td><td>1500000US170313515002</td><td>170313515002         </td><td>2                    </td><td>BG                   </td><td> 79096               </td><td>   0                 </td><td>0                    </td><td>8                    </td><td>-1.371561            </td><td>#FFFFFF              </td><td>0                    </td><td>#FFFFFF              </td><td>0                    </td></tr>\n",
       "\t<tr><th scope=row>798</th><td>798                  </td><td>17                   </td><td>031                  </td><td>839500               </td><td>1                    </td><td>1500000US170318395001</td><td>170318395001         </td><td>1                    </td><td>BG                   </td><td>262139               </td><td>   0                 </td><td>0                    </td><td>18                   </td><td>-1.508071            </td><td>#FFFFFF              </td><td>0                    </td><td>#FFFFFF              </td><td>0                    </td></tr>\n",
       "\t<tr><th scope=row>865</th><td>865                  </td><td>17                   </td><td>031                  </td><td>351100               </td><td>1                    </td><td>1500000US170313511001</td><td>170313511001         </td><td>1                    </td><td>BG                   </td><td> 80349               </td><td>   0                 </td><td>0                    </td><td>0                    </td><td>-1.701840            </td><td>#000000              </td><td>1                    </td><td>#FFFFFF              </td><td>0                    </td></tr>\n",
       "\t<tr><th scope=row>1169</th><td>1169                 </td><td>17                   </td><td>031                  </td><td>350400               </td><td>1                    </td><td>1500000US170313504001</td><td>170313504001         </td><td>1                    </td><td>BG                   </td><td>201453               </td><td>   0                 </td><td>0                    </td><td>21                   </td><td>-1.065179            </td><td>#FFFFFF              </td><td>0                    </td><td>#FFFFFF              </td><td>0                    </td></tr>\n",
       "</tbody>\n",
       "</table>\n"
      ],
      "text/latex": [
       "\\begin{tabular}{r|llllllllllllllllll}\n",
       "  & TARGET\\_FID & STATEFP & COUNTYFP & TRACTCE & BLKGRPCE & AFFGEOID & GEOID & NAME & LSAD & ALAND & AWATER & Burglaries & AllCrime & gScore & NormalColor & isSignificant\\_Normal & AdjColor & isSignificant\\_Adj\\\\\n",
       "\\hline\n",
       "\t358 & 358                   & 17                    & 031                   & 836500                & 1                     & 1500000US170318365001 & 170318365001          & 1                     & BG                    & 117472                & 5187                  & 0                     & 7                     & -1.450720             & \\#FFFFFF             & 0                     & \\#FFFFFF             & 0                    \\\\\n",
       "\t616 & 616                   & 17                    & 031                   & 351500                & 2                     & 1500000US170313515002 & 170313515002          & 2                     & BG                    &  79096                &    0                  & 0                     & 8                     & -1.371561             & \\#FFFFFF             & 0                     & \\#FFFFFF             & 0                    \\\\\n",
       "\t798 & 798                   & 17                    & 031                   & 839500                & 1                     & 1500000US170318395001 & 170318395001          & 1                     & BG                    & 262139                &    0                  & 0                     & 18                    & -1.508071             & \\#FFFFFF             & 0                     & \\#FFFFFF             & 0                    \\\\\n",
       "\t865 & 865                   & 17                    & 031                   & 351100                & 1                     & 1500000US170313511001 & 170313511001          & 1                     & BG                    &  80349                &    0                  & 0                     & 0                     & -1.701840             & \\#000000             & 1                     & \\#FFFFFF             & 0                    \\\\\n",
       "\t1169 & 1169                  & 17                    & 031                   & 350400                & 1                     & 1500000US170313504001 & 170313504001          & 1                     & BG                    & 201453                &    0                  & 0                     & 21                    & -1.065179             & \\#FFFFFF             & 0                     & \\#FFFFFF             & 0                    \\\\\n",
       "\\end{tabular}\n"
      ],
      "text/markdown": [
       "\n",
       "| <!--/--> | TARGET_FID | STATEFP | COUNTYFP | TRACTCE | BLKGRPCE | AFFGEOID | GEOID | NAME | LSAD | ALAND | AWATER | Burglaries | AllCrime | gScore | NormalColor | isSignificant_Normal | AdjColor | isSignificant_Adj | \n",
       "|---|---|---|---|---|\n",
       "| 358 | 358                   | 17                    | 031                   | 836500                | 1                     | 1500000US170318365001 | 170318365001          | 1                     | BG                    | 117472                | 5187                  | 0                     | 7                     | -1.450720             | #FFFFFF               | 0                     | #FFFFFF               | 0                     | \n",
       "| 616 | 616                   | 17                    | 031                   | 351500                | 2                     | 1500000US170313515002 | 170313515002          | 2                     | BG                    |  79096                |    0                  | 0                     | 8                     | -1.371561             | #FFFFFF               | 0                     | #FFFFFF               | 0                     | \n",
       "| 798 | 798                   | 17                    | 031                   | 839500                | 1                     | 1500000US170318395001 | 170318395001          | 1                     | BG                    | 262139                |    0                  | 0                     | 18                    | -1.508071             | #FFFFFF               | 0                     | #FFFFFF               | 0                     | \n",
       "| 865 | 865                   | 17                    | 031                   | 351100                | 1                     | 1500000US170313511001 | 170313511001          | 1                     | BG                    |  80349                |    0                  | 0                     | 0                     | -1.701840             | #000000               | 1                     | #FFFFFF               | 0                     | \n",
       "| 1169 | 1169                  | 17                    | 031                   | 350400                | 1                     | 1500000US170313504001 | 170313504001          | 1                     | BG                    | 201453                |    0                  | 0                     | 21                    | -1.065179             | #FFFFFF               | 0                     | #FFFFFF               | 0                     | \n",
       "\n",
       "\n"
      ],
      "text/plain": [
       "     TARGET_FID STATEFP COUNTYFP TRACTCE BLKGRPCE AFFGEOID             \n",
       "358  358        17      031      836500  1        1500000US170318365001\n",
       "616  616        17      031      351500  2        1500000US170313515002\n",
       "798  798        17      031      839500  1        1500000US170318395001\n",
       "865  865        17      031      351100  1        1500000US170313511001\n",
       "1169 1169       17      031      350400  1        1500000US170313504001\n",
       "     GEOID        NAME LSAD ALAND  AWATER Burglaries AllCrime gScore   \n",
       "358  170318365001 1    BG   117472 5187   0          7        -1.450720\n",
       "616  170313515002 2    BG    79096    0   0          8        -1.371561\n",
       "798  170318395001 1    BG   262139    0   0          18       -1.508071\n",
       "865  170313511001 1    BG    80349    0   0          0        -1.701840\n",
       "1169 170313504001 1    BG   201453    0   0          21       -1.065179\n",
       "     NormalColor isSignificant_Normal AdjColor isSignificant_Adj\n",
       "358  #FFFFFF     0                    #FFFFFF  0                \n",
       "616  #FFFFFF     0                    #FFFFFF  0                \n",
       "798  #FFFFFF     0                    #FFFFFF  0                \n",
       "865  #000000     1                    #FFFFFF  0                \n",
       "1169 #FFFFFF     0                    #FFFFFF  0                "
      ]
     },
     "metadata": {},
     "output_type": "display_data"
    }
   ],
   "source": [
    "head(chi.subset@data, 5)"
   ]
  },
  {
   "cell_type": "code",
   "execution_count": 127,
   "metadata": {},
   "outputs": [
    {
     "data": {
      "text/html": [
       "<table>\n",
       "<thead><tr><th></th><th scope=col>TARGET_FID</th><th scope=col>STATEFP</th><th scope=col>COUNTYFP</th><th scope=col>TRACTCE</th><th scope=col>BLKGRPCE</th><th scope=col>AFFGEOID</th><th scope=col>GEOID</th><th scope=col>NAME</th><th scope=col>LSAD</th><th scope=col>ALAND</th><th scope=col>AWATER</th><th scope=col>Burglaries</th><th scope=col>AllCrime</th><th scope=col>gScore</th><th scope=col>NormalColor</th><th scope=col>isSignificant_Normal</th><th scope=col>AdjColor</th><th scope=col>isSignificant_Adj</th></tr></thead>\n",
       "<tbody>\n",
       "\t<tr><th scope=row>865</th><td>865                  </td><td>17                   </td><td>031                  </td><td>351100               </td><td>1                    </td><td>1500000US170313511001</td><td>170313511001         </td><td>1                    </td><td>BG                   </td><td> 80349               </td><td>     0               </td><td>0                    </td><td>0                    </td><td>-1.701840            </td><td>#000000              </td><td>1                    </td><td>#FFFFFF              </td><td>0                    </td></tr>\n",
       "\t<tr><th scope=row>1642</th><td>1642                 </td><td>17                   </td><td>031                  </td><td>360200               </td><td>1                    </td><td>1500000US170313602001</td><td>170313602001         </td><td>1                    </td><td>BG                   </td><td>232044               </td><td>     0               </td><td>0                    </td><td>19                   </td><td>-1.947303            </td><td>#000000              </td><td>1                    </td><td>#FFFFFF              </td><td>0                    </td></tr>\n",
       "\t<tr><th scope=row>1643</th><td>1643                 </td><td>17                   </td><td>031                  </td><td>351000               </td><td>1                    </td><td>1500000US170313510001</td><td>170313510001         </td><td>1                    </td><td>BG                   </td><td>396703               </td><td>665632               </td><td>0                    </td><td>7                    </td><td>-1.645982            </td><td>#000000              </td><td>1                    </td><td>#FFFFFF              </td><td>0                    </td></tr>\n",
       "\t<tr><th scope=row>1908</th><td>1908                 </td><td>17                   </td><td>031                  </td><td>839600               </td><td>2                    </td><td>1500000US170318396002</td><td>170318396002         </td><td>2                    </td><td>BG                   </td><td>230641               </td><td>     0               </td><td>0                    </td><td>27                   </td><td>-1.701840            </td><td>#000000              </td><td>1                    </td><td>#FFFFFF              </td><td>0                    </td></tr>\n",
       "\t<tr><th scope=row>2104</th><td>2104                 </td><td>17                   </td><td>031                  </td><td>351100               </td><td>3                    </td><td>1500000US170313511003</td><td>170313511003         </td><td>3                    </td><td>BG                   </td><td>110757               </td><td>     0               </td><td>0                    </td><td>21                   </td><td>-1.777765            </td><td>#000000              </td><td>1                    </td><td>#FFFFFF              </td><td>0                    </td></tr>\n",
       "\t<tr><th scope=row>2741</th><td>2741                 </td><td>17                   </td><td>031                  </td><td>380500               </td><td>1                    </td><td>1500000US170313805001</td><td>170313805001         </td><td>1                    </td><td>BG                   </td><td>191451               </td><td>     0               </td><td>1                    </td><td>9                    </td><td>-1.936958            </td><td>#000000              </td><td>1                    </td><td>#FFFFFF              </td><td>0                    </td></tr>\n",
       "</tbody>\n",
       "</table>\n"
      ],
      "text/latex": [
       "\\begin{tabular}{r|llllllllllllllllll}\n",
       "  & TARGET\\_FID & STATEFP & COUNTYFP & TRACTCE & BLKGRPCE & AFFGEOID & GEOID & NAME & LSAD & ALAND & AWATER & Burglaries & AllCrime & gScore & NormalColor & isSignificant\\_Normal & AdjColor & isSignificant\\_Adj\\\\\n",
       "\\hline\n",
       "\t865 & 865                   & 17                    & 031                   & 351100                & 1                     & 1500000US170313511001 & 170313511001          & 1                     & BG                    &  80349                &      0                & 0                     & 0                     & -1.701840             & \\#000000             & 1                     & \\#FFFFFF             & 0                    \\\\\n",
       "\t1642 & 1642                  & 17                    & 031                   & 360200                & 1                     & 1500000US170313602001 & 170313602001          & 1                     & BG                    & 232044                &      0                & 0                     & 19                    & -1.947303             & \\#000000             & 1                     & \\#FFFFFF             & 0                    \\\\\n",
       "\t1643 & 1643                  & 17                    & 031                   & 351000                & 1                     & 1500000US170313510001 & 170313510001          & 1                     & BG                    & 396703                & 665632                & 0                     & 7                     & -1.645982             & \\#000000             & 1                     & \\#FFFFFF             & 0                    \\\\\n",
       "\t1908 & 1908                  & 17                    & 031                   & 839600                & 2                     & 1500000US170318396002 & 170318396002          & 2                     & BG                    & 230641                &      0                & 0                     & 27                    & -1.701840             & \\#000000             & 1                     & \\#FFFFFF             & 0                    \\\\\n",
       "\t2104 & 2104                  & 17                    & 031                   & 351100                & 3                     & 1500000US170313511003 & 170313511003          & 3                     & BG                    & 110757                &      0                & 0                     & 21                    & -1.777765             & \\#000000             & 1                     & \\#FFFFFF             & 0                    \\\\\n",
       "\t2741 & 2741                  & 17                    & 031                   & 380500                & 1                     & 1500000US170313805001 & 170313805001          & 1                     & BG                    & 191451                &      0                & 1                     & 9                     & -1.936958             & \\#000000             & 1                     & \\#FFFFFF             & 0                    \\\\\n",
       "\\end{tabular}\n"
      ],
      "text/markdown": [
       "\n",
       "| <!--/--> | TARGET_FID | STATEFP | COUNTYFP | TRACTCE | BLKGRPCE | AFFGEOID | GEOID | NAME | LSAD | ALAND | AWATER | Burglaries | AllCrime | gScore | NormalColor | isSignificant_Normal | AdjColor | isSignificant_Adj | \n",
       "|---|---|---|---|---|---|\n",
       "| 865 | 865                   | 17                    | 031                   | 351100                | 1                     | 1500000US170313511001 | 170313511001          | 1                     | BG                    |  80349                |      0                | 0                     | 0                     | -1.701840             | #000000               | 1                     | #FFFFFF               | 0                     | \n",
       "| 1642 | 1642                  | 17                    | 031                   | 360200                | 1                     | 1500000US170313602001 | 170313602001          | 1                     | BG                    | 232044                |      0                | 0                     | 19                    | -1.947303             | #000000               | 1                     | #FFFFFF               | 0                     | \n",
       "| 1643 | 1643                  | 17                    | 031                   | 351000                | 1                     | 1500000US170313510001 | 170313510001          | 1                     | BG                    | 396703                | 665632                | 0                     | 7                     | -1.645982             | #000000               | 1                     | #FFFFFF               | 0                     | \n",
       "| 1908 | 1908                  | 17                    | 031                   | 839600                | 2                     | 1500000US170318396002 | 170318396002          | 2                     | BG                    | 230641                |      0                | 0                     | 27                    | -1.701840             | #000000               | 1                     | #FFFFFF               | 0                     | \n",
       "| 2104 | 2104                  | 17                    | 031                   | 351100                | 3                     | 1500000US170313511003 | 170313511003          | 3                     | BG                    | 110757                |      0                | 0                     | 21                    | -1.777765             | #000000               | 1                     | #FFFFFF               | 0                     | \n",
       "| 2741 | 2741                  | 17                    | 031                   | 380500                | 1                     | 1500000US170313805001 | 170313805001          | 1                     | BG                    | 191451                |      0                | 1                     | 9                     | -1.936958             | #000000               | 1                     | #FFFFFF               | 0                     | \n",
       "\n",
       "\n"
      ],
      "text/plain": [
       "     TARGET_FID STATEFP COUNTYFP TRACTCE BLKGRPCE AFFGEOID             \n",
       "865  865        17      031      351100  1        1500000US170313511001\n",
       "1642 1642       17      031      360200  1        1500000US170313602001\n",
       "1643 1643       17      031      351000  1        1500000US170313510001\n",
       "1908 1908       17      031      839600  2        1500000US170318396002\n",
       "2104 2104       17      031      351100  3        1500000US170313511003\n",
       "2741 2741       17      031      380500  1        1500000US170313805001\n",
       "     GEOID        NAME LSAD ALAND  AWATER Burglaries AllCrime gScore   \n",
       "865  170313511001 1    BG    80349      0 0          0        -1.701840\n",
       "1642 170313602001 1    BG   232044      0 0          19       -1.947303\n",
       "1643 170313510001 1    BG   396703 665632 0          7        -1.645982\n",
       "1908 170318396002 2    BG   230641      0 0          27       -1.701840\n",
       "2104 170313511003 3    BG   110757      0 0          21       -1.777765\n",
       "2741 170313805001 1    BG   191451      0 1          9        -1.936958\n",
       "     NormalColor isSignificant_Normal AdjColor isSignificant_Adj\n",
       "865  #000000     1                    #FFFFFF  0                \n",
       "1642 #000000     1                    #FFFFFF  0                \n",
       "1643 #000000     1                    #FFFFFF  0                \n",
       "1908 #000000     1                    #FFFFFF  0                \n",
       "2104 #000000     1                    #FFFFFF  0                \n",
       "2741 #000000     1                    #FFFFFF  0                "
      ]
     },
     "metadata": {},
     "output_type": "display_data"
    }
   ],
   "source": [
    "# subset for all the records that were \"isSignificant_Normal == 1\" AND \"isSignificant_Adj == 0\"\n",
    "\n",
    "sub1 <- subset(chi.subset, (isSignificant_Normal == 1 & isSignificant_Adj == 0))\n",
    "\n",
    "head(sub1@data)"
   ]
  },
  {
   "cell_type": "code",
   "execution_count": 128,
   "metadata": {},
   "outputs": [
    {
     "data": {
      "image/png": "[encoded data removed]",
      "text/plain": [
       "Plot with title \"Gi Statistic (Normal vs Adjusted). Red = Difference\""
      ]
     },
     "metadata": {},
     "output_type": "display_data"
    }
   ],
   "source": [
    "plot(chi.subset, col = \"white\", main = \"Gi Statistic (Normal vs Adjusted). Red = Difference\", lwd = 0.2)\n",
    "plot(sub1, col = \"red\", add = TRUE)"
   ]
  },
  {
   "cell_type": "markdown",
   "metadata": {},
   "source": [
    "For the Moran Statistic, classify the blockgroups into HH, LL, HL, and LL categories significant at the 0.95 confidence level based on the adjusted normal distribution. "
   ]
  },
  {
   "cell_type": "code",
   "execution_count": 129,
   "metadata": {},
   "outputs": [
    {
     "data": {
      "text/html": [
       "'0.95 | 4.25360906212733'"
      ],
      "text/latex": [
       "'0.95 \\textbar{} 4.25360906212733'"
      ],
      "text/markdown": [
       "'0.95 | 4.25360906212733'"
      ],
      "text/plain": [
       "[1] \"0.95 | 4.25360906212733\""
      ]
     },
     "metadata": {},
     "output_type": "display_data"
    }
   ],
   "source": [
    "zAdjusted <- list()\n",
    "\n",
    "probsU <- c(0.95)\n",
    "\n",
    "i <- 1\n",
    "for (pr in probsU){\n",
    "    rmean <- mean(burgRate)\n",
    "    newpr <- 1 - (((1 - pr)/ESS)/2)\n",
    "    \n",
    "    errorN <- qnorm(newpr, mean = rmean, lower.tail = TRUE)\n",
    "    zAdjusted[[i]] <- 0 + errorN\n",
    "    i <- i + 1\n",
    "}\n",
    "\n",
    "zAdjMoran <- unlist(zAdjusted)\n",
    "paste(probsU, zAdjMoran, sep = \" | \")"
   ]
  },
  {
   "cell_type": "code",
   "execution_count": 130,
   "metadata": {},
   "outputs": [
    {
     "data": {
      "text/html": [
       "4.25360906212733"
      ],
      "text/latex": [
       "4.25360906212733"
      ],
      "text/markdown": [
       "4.25360906212733"
      ],
      "text/plain": [
       "[1] 4.253609"
      ]
     },
     "metadata": {},
     "output_type": "display_data"
    }
   ],
   "source": [
    "zAdjMoran[1]"
   ]
  },
  {
   "cell_type": "code",
   "execution_count": 131,
   "metadata": {},
   "outputs": [
    {
     "data": {
      "text/html": [
       "0.062454293060077"
      ],
      "text/latex": [
       "0.062454293060077"
      ],
      "text/markdown": [
       "0.062454293060077"
      ],
      "text/plain": [
       "[1] 0.06245429"
      ]
     },
     "metadata": {},
     "output_type": "display_data"
    }
   ],
   "source": [
    "Gmean <- mean(burgRate)\n",
    "\n",
    "Gmean"
   ]
  },
  {
   "cell_type": "code",
   "execution_count": 132,
   "metadata": {},
   "outputs": [
    {
     "data": {
      "image/png": "[encoded data removed]",
      "text/plain": [
       "Plot with title \"Moran I Cluster Type\""
      ]
     },
     "metadata": {},
     "output_type": "display_data"
    }
   ],
   "source": [
    "vlist <- list()\n",
    "\n",
    "nid <- 1\n",
    "\n",
    "for (ele in chi.subset.listb$neighbours){\n",
    "    fee <- unlist(ele)\n",
    "    ncard <- length(fee)\n",
    "    \n",
    "    vsum <- 0\n",
    "    for (ef in fee){\n",
    "        vsum <- vsum + burgRate[ef]\n",
    "    }\n",
    "    \n",
    "    vlist[[nid]] <- vsum\n",
    "    nid <- nid + 1\n",
    "}\n",
    "\n",
    "Lmean <- mean(unlist(vlist))\n",
    "\n",
    "chi.subset$Cluster.col <- 0\n",
    "chi.subset$Color.col <- 0\n",
    "\n",
    "nid <- 1\n",
    "\n",
    "for (ele in burgRate){\n",
    "    \n",
    "    if ((ele >= Gmean) && (vlist[nid] >= Lmean) && (zScore[nid] >= zAdjMoran[1])){\n",
    "        chi.subset$Cluster.col[nid] <- \"HH\"\n",
    "        chi.subset$Color.col[nid] <- \"red4\"\n",
    "    }\n",
    "    \n",
    "    if ((ele <= Gmean) && (vlist[nid] <= Lmean) && (zScore[nid] <= -zAdjMoran[1])) {\n",
    "        chi.subset$Cluster.col[nid] <- 'LL'\n",
    "        chi.subset$Color.col[nid] <- 'blue'\n",
    "    }\n",
    "    \n",
    "    if ((ele >= Gmean) && (vlist[nid] <= Lmean) && (zScore[nid] <= -zAdjMoran[1])) {\n",
    "        chi.subset$Cluster.col[nid] <- 'HL'\n",
    "        chi.subset$Color.col[nid] <- 'red'\n",
    "    }   \n",
    "    \n",
    "    if ((ele <= Gmean) && (vlist[nid] >= Lmean) && (zScore[nid] <= -zAdjMoran[1])) {\n",
    "        chi.subset$Cluster.col[nid] <- 'LH'\n",
    "        chi.subset$Color.col[nid] <- 'lightblue'\n",
    "    }\n",
    "    \n",
    "    nid <- nid + 1\n",
    "}\n",
    "\n",
    "plot(chi.subset, col = chi.subset$Color.col, lwd = 0.2, main = \"Moran I Cluster Type\")\n",
    "\n",
    "legend(\"bottomleft\", legend = c(\"HH\", \"LL\", \"LH\", \"HL\"), unique(chi.subset$Cluster.col), \n",
    "              fill = c(\"red4\", \"blue\", \"lightblue\", \"red\"), bty = \"n\", title = \"Autocorrelation Levels\")\n"
   ]
  },
  {
   "cell_type": "markdown",
   "metadata": {},
   "source": [
    "For the Gi* Statistic, classify the blockgroups into HH, LL, HL, and LL categories significant at the 0.95 confidence level based on the adjusted normal distribution."
   ]
  },
  {
   "cell_type": "code",
   "execution_count": 133,
   "metadata": {},
   "outputs": [
    {
     "data": {
      "text/html": [
       "'0.95 | 4.25360906212733'"
      ],
      "text/latex": [
       "'0.95 \\textbar{} 4.25360906212733'"
      ],
      "text/markdown": [
       "'0.95 | 4.25360906212733'"
      ],
      "text/plain": [
       "[1] \"0.95 | 4.25360906212733\""
      ]
     },
     "metadata": {},
     "output_type": "display_data"
    }
   ],
   "source": [
    "zAdjusted <- list()\n",
    "\n",
    "probsU <- c(0.95)\n",
    "\n",
    "i <- 1\n",
    "for (pr in probsU){\n",
    "    rmean <- mean(burgRate)\n",
    "    newpr <- 1 - (((1 - pr)/ESS)/2)\n",
    "    \n",
    "    errorN <- qnorm(newpr, mean = rmean, lower.tail = TRUE)\n",
    "    zAdjusted[[i]] <- 0 + errorN\n",
    "    i <- i + 1\n",
    "}\n",
    "\n",
    "zAdjGi <- unlist(zAdjusted)\n",
    "paste(probsU, zAdjGi, sep = \" | \")"
   ]
  },
  {
   "cell_type": "code",
   "execution_count": 134,
   "metadata": {},
   "outputs": [
    {
     "data": {
      "image/png": "[encoded data removed]",
      "text/plain": [
       "Plot with title \"Gi Cluster Type\""
      ]
     },
     "metadata": {},
     "output_type": "display_data"
    }
   ],
   "source": [
    "vlist <- list()\n",
    "\n",
    "nid <- 1\n",
    "\n",
    "for (ele in chi.subset.listb$neighbours){\n",
    "    fee <- unlist(ele)\n",
    "    ncard <- length(fee)\n",
    "    \n",
    "    vsum <- 0\n",
    "    for (ef in fee){\n",
    "        vsum <- vsum + burgRate[ef]\n",
    "    }\n",
    "    \n",
    "    vlist[[nid]] <- vsum\n",
    "    nid <- nid + 1\n",
    "}\n",
    "\n",
    "Lmean <- mean(unlist(vlist))\n",
    "\n",
    "chi.subset$Cluster.col <- 0\n",
    "chi.subset$Color.col <- 0\n",
    "\n",
    "nid <- 1\n",
    "\n",
    "for (ele in burgRate){\n",
    "    \n",
    "    if ((ele >= Gmean) && (vlist[nid] >= Lmean) && (g[nid] >= zAdjGi[1])){\n",
    "        chi.subset$Cluster.col[nid] <- \"HH\"\n",
    "        chi.subset$Color.col[nid] <- \"red4\"\n",
    "    }\n",
    "    \n",
    "    if ((ele <= Gmean) && (vlist[nid] <= Lmean) && (g[nid] <= -zAdjGi[1])) {\n",
    "        chi.subset$Cluster.col[nid] <- 'LL'\n",
    "        chi.subset$Color.col[nid] <- 'blue'\n",
    "    }\n",
    "    \n",
    "    if ((ele >= Gmean) && (vlist[nid] <= Lmean) && (g[nid] <= -zAdjGi[1])) {\n",
    "        chi.subset$Cluster.col[nid] <- 'HL'\n",
    "        chi.subset$Color.col[nid] <- 'red'\n",
    "    }   \n",
    "    \n",
    "    if ((ele <= Gmean) && (vlist[nid] >= Lmean) && (g[nid] <= -zAdjGi[1])) {\n",
    "        chi.subset$Cluster.col[nid] <- 'LH'\n",
    "        chi.subset$Color.col[nid] <- 'lightblue'\n",
    "    }\n",
    "    \n",
    "    nid <- nid + 1\n",
    "}\n",
    "\n",
    "plot(chi.subset, col = chi.subset$Color.col, lwd = 0.2, main = \"Gi Cluster Type\")\n",
    "\n",
    "legend(\"bottomleft\", legend = c(\"HH\", \"LL\", \"LH\", \"HL\"), unique(chi.subset$Cluster.col), \n",
    "              fill = c(\"red4\", \"blue\", \"lightblue\", \"red\"), bty = \"n\", title = \"Autocorrelation Levels\")\n"
   ]
  }
 ],
 "metadata": {
  "kernelspec": {
   "display_name": "R",
   "language": "R",
   "name": "ir"
  },
  "language_info": {
   "codemirror_mode": "r",
   "file_extension": ".r",
   "mimetype": "text/x-r-source",
   "name": "R",
   "pygments_lexer": "r",
   "version": "3.4.1"
  }
 },
 "nbformat": 4,
 "nbformat_minor": 2
}
