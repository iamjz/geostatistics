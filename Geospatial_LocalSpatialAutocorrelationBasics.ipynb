{
 "cells": [
  {
   "cell_type": "markdown",
   "metadata": {},
   "source": [
    "## Spatially Autocorrelated Events\n",
    "\n",
    "Examining spatial processes that may involve dependencies among the analysis areas. Such dependencies are often termed spatial autocorrelation. Tests for local autocorrelation typically involve evaluating whether or not a process is random for individual geographic features (given their neighboring features). That is, the output of the test is a measure of spatial autocorrelation for many features within a region. As there are many individual tests being conducted, things become a bit more complicated given that many hypotheses are also under consideration"
   ]
  },
  {
   "cell_type": "code",
   "execution_count": 1,
   "metadata": {},
   "outputs": [
    {
     "name": "stderr",
     "output_type": "stream",
     "text": [
      "Warning message:\n",
      "\"package 'rgdal' was built under R version 3.4.2\"Warning message:\n",
      "\"package 'sp' was built under R version 3.4.2\"Warning message:\n",
      "\"package 'spdep' was built under R version 3.4.2\"Warning message:\n",
      "\"package 'classInt' was built under R version 3.4.2\""
     ]
    }
   ],
   "source": [
    "# Load relevant R packages\n",
    "inLibraries = list('repr','rgdal','spdep','classInt')\n",
    "for (rpack in inLibraries) {\n",
    "  if (is.element(rpack,installed.packages()[,1])){           \n",
    "      #Load the library into R\n",
    "      suppressMessages(library(rpack,character.only = TRUE))      \n",
    "    }\n",
    "    else {\n",
    "        print(paste(\"Warning:  \",rpack,\" is not an installed package\"))\n",
    "    }\n",
    "}\n",
    "#resize plot area\n",
    "options(repr.plot.width=6, repr.plot.height=6)"
   ]
  },
  {
   "cell_type": "code",
   "execution_count": 2,
   "metadata": {},
   "outputs": [
    {
     "name": "stdout",
     "output_type": "stream",
     "text": [
      "OGR data source with driver: ESRI Shapefile \n",
      "Source: \"datasets/washington\", layer: \"WAfn\"\n",
      "with 900 features\n",
      "It has 6 fields\n"
     ]
    }
   ],
   "source": [
    "#Read in the featureclass\n",
    "inFeatures <- readOGR(\"datasets/washington\",\"WAfn\")"
   ]
  },
  {
   "cell_type": "code",
   "execution_count": 3,
   "metadata": {},
   "outputs": [
    {
     "data": {
      "text/html": [
       "<table>\n",
       "<thead><tr><th></th><th scope=col>Id</th><th scope=col>ConfigA</th><th scope=col>ConfigB</th><th scope=col>ConfigC</th><th scope=col>ConfigD</th><th scope=col>ConfigE</th></tr></thead>\n",
       "<tbody>\n",
       "\t<tr><th scope=row>0</th><td>0 </td><td>75</td><td>70</td><td>28</td><td>43</td><td>92</td></tr>\n",
       "\t<tr><th scope=row>1</th><td>0 </td><td>54</td><td>59</td><td>26</td><td>40</td><td>21</td></tr>\n",
       "\t<tr><th scope=row>2</th><td>0 </td><td>85</td><td>17</td><td>99</td><td>66</td><td>24</td></tr>\n",
       "\t<tr><th scope=row>3</th><td>0 </td><td>76</td><td>70</td><td>94</td><td>96</td><td>37</td></tr>\n",
       "\t<tr><th scope=row>4</th><td>0 </td><td>32</td><td>99</td><td>93</td><td>38</td><td>97</td></tr>\n",
       "\t<tr><th scope=row>5</th><td>0 </td><td>96</td><td> 8</td><td> 2</td><td>93</td><td>27</td></tr>\n",
       "</tbody>\n",
       "</table>\n"
      ],
      "text/latex": [
       "\\begin{tabular}{r|llllll}\n",
       "  & Id & ConfigA & ConfigB & ConfigC & ConfigD & ConfigE\\\\\n",
       "\\hline\n",
       "\t0 & 0  & 75 & 70 & 28 & 43 & 92\\\\\n",
       "\t1 & 0  & 54 & 59 & 26 & 40 & 21\\\\\n",
       "\t2 & 0  & 85 & 17 & 99 & 66 & 24\\\\\n",
       "\t3 & 0  & 76 & 70 & 94 & 96 & 37\\\\\n",
       "\t4 & 0  & 32 & 99 & 93 & 38 & 97\\\\\n",
       "\t5 & 0  & 96 &  8 &  2 & 93 & 27\\\\\n",
       "\\end{tabular}\n"
      ],
      "text/markdown": [
       "\n",
       "| <!--/--> | Id | ConfigA | ConfigB | ConfigC | ConfigD | ConfigE | \n",
       "|---|---|---|---|---|---|\n",
       "| 0 | 0  | 75 | 70 | 28 | 43 | 92 | \n",
       "| 1 | 0  | 54 | 59 | 26 | 40 | 21 | \n",
       "| 2 | 0  | 85 | 17 | 99 | 66 | 24 | \n",
       "| 3 | 0  | 76 | 70 | 94 | 96 | 37 | \n",
       "| 4 | 0  | 32 | 99 | 93 | 38 | 97 | \n",
       "| 5 | 0  | 96 |  8 |  2 | 93 | 27 | \n",
       "\n",
       "\n"
      ],
      "text/plain": [
       "  Id ConfigA ConfigB ConfigC ConfigD ConfigE\n",
       "0 0  75      70      28      43      92     \n",
       "1 0  54      59      26      40      21     \n",
       "2 0  85      17      99      66      24     \n",
       "3 0  76      70      94      96      37     \n",
       "4 0  32      99      93      38      97     \n",
       "5 0  96       8       2      93      27     "
      ]
     },
     "metadata": {},
     "output_type": "display_data"
    }
   ],
   "source": [
    "peek <- head(inFeatures@data)\n",
    "peek"
   ]
  },
  {
   "cell_type": "code",
   "execution_count": 4,
   "metadata": {},
   "outputs": [
    {
     "data": {
      "image/png": "[encoded data removed]",
      "text/plain": [
       "Plot with title \"Polygon Data\""
      ]
     },
     "metadata": {},
     "output_type": "display_data"
    }
   ],
   "source": [
    "#plot the polygon data\n",
    "plot(inFeatures, col = 'lightblue', \n",
    "         lwd = 0.2, main = \"Polygon Data\", cex.main = 0.8)"
   ]
  },
  {
   "cell_type": "markdown",
   "metadata": {},
   "source": [
    "## Feature Attribute to Analyze\n",
    "\n",
    "In most assessments of spatial autocorrelation, some attribute of each feature is compared relative to that of it's neighbors. Therefore, let's select an attribute to analyze."
   ]
  },
  {
   "cell_type": "code",
   "execution_count": 5,
   "metadata": {
    "collapsed": true
   },
   "outputs": [],
   "source": [
    "#retrieve variables\n",
    "inVa <- inFeatures$ConfigA\n",
    "inVb <- inFeatures$ConfigB\n",
    "inVc <- inFeatures$ConfigC\n",
    "inVd <- inFeatures$ConfigD\n",
    "inVe <- inFeatures$ConfigE"
   ]
  },
  {
   "cell_type": "code",
   "execution_count": 6,
   "metadata": {},
   "outputs": [
    {
     "data": {
      "text/html": [
       "<ol class=list-inline>\n",
       "\t<li>75</li>\n",
       "\t<li>54</li>\n",
       "\t<li>85</li>\n",
       "\t<li>76</li>\n",
       "\t<li>32</li>\n",
       "\t<li>96</li>\n",
       "</ol>\n"
      ],
      "text/latex": [
       "\\begin{enumerate*}\n",
       "\\item 75\n",
       "\\item 54\n",
       "\\item 85\n",
       "\\item 76\n",
       "\\item 32\n",
       "\\item 96\n",
       "\\end{enumerate*}\n"
      ],
      "text/markdown": [
       "1. 75\n",
       "2. 54\n",
       "3. 85\n",
       "4. 76\n",
       "5. 32\n",
       "6. 96\n",
       "\n",
       "\n"
      ],
      "text/plain": [
       "[1] 75 54 85 76 32 96"
      ]
     },
     "metadata": {},
     "output_type": "display_data"
    }
   ],
   "source": [
    "head(inVa)"
   ]
  },
  {
   "cell_type": "code",
   "execution_count": 7,
   "metadata": {},
   "outputs": [
    {
     "data": {
      "text/html": [
       "<ol class=list-inline>\n",
       "\t<li>70</li>\n",
       "\t<li>59</li>\n",
       "\t<li>17</li>\n",
       "\t<li>70</li>\n",
       "\t<li>99</li>\n",
       "\t<li>8</li>\n",
       "</ol>\n"
      ],
      "text/latex": [
       "\\begin{enumerate*}\n",
       "\\item 70\n",
       "\\item 59\n",
       "\\item 17\n",
       "\\item 70\n",
       "\\item 99\n",
       "\\item 8\n",
       "\\end{enumerate*}\n"
      ],
      "text/markdown": [
       "1. 70\n",
       "2. 59\n",
       "3. 17\n",
       "4. 70\n",
       "5. 99\n",
       "6. 8\n",
       "\n",
       "\n"
      ],
      "text/plain": [
       "[1] 70 59 17 70 99  8"
      ]
     },
     "metadata": {},
     "output_type": "display_data"
    }
   ],
   "source": [
    "head(inVb)"
   ]
  },
  {
   "cell_type": "code",
   "execution_count": 8,
   "metadata": {},
   "outputs": [
    {
     "data": {
      "image/png": "[encoded data removed]",
      "text/plain": [
       "Plot with title \"Config. A\""
      ]
     },
     "metadata": {},
     "output_type": "display_data"
    }
   ],
   "source": [
    "#classify variable\n",
    "numcat <- 5\n",
    "\n",
    "z <- classIntervals(inVa, n = numcat, style = \"fixed\", fixedBreaks = c(0,1.1,40,70,99.5,100))\n",
    "pal <- c(\"white\",\"lightgray\",\"gray\",\"darkgray\",\"black\")\n",
    "cols <- findColours(z, pal)\n",
    "\n",
    "#plot variable\n",
    "plot(inFeatures,col=cols, lwd=.2,main=\"Config. A\",cex.main=.8)\n",
    "brks <- round(z$brks,3)\n",
    "leg.text <- paste(brks[-numcat], brks[-1], sep=\" - \")\n",
    "legend(\"bottomleft\",fill=attr(cols,\"palette\"),legend=leg.text,bty=\"n\",title=\"Value\",cex=.7)"
   ]
  },
  {
   "cell_type": "code",
   "execution_count": 9,
   "metadata": {},
   "outputs": [
    {
     "data": {
      "image/png": "[encoded data removed]",
      "text/plain": [
       "Plot with title \"Config. B\""
      ]
     },
     "metadata": {},
     "output_type": "display_data"
    }
   ],
   "source": [
    "#classify variable\n",
    "numcat <- 5\n",
    "\n",
    "z <- classIntervals(inVb,n=numcat, style=\"fixed\",fixedBreaks=c(0,1.1,40,70,99.5,100))\n",
    "pal <- c(\"white\",\"lightgray\",\"gray\",\"darkgray\",\"black\")\n",
    "cols <- findColours(z, pal)\n",
    "\n",
    "#plot variable    \n",
    "plot(inFeatures,col=cols, lwd=.2,main=\"Config. B\",cex.main=.8)\n",
    "brks <- round(z$brks,3)\n",
    "leg.text <- paste(brks[-numcat], brks[-1], sep=\" - \")\n",
    "legend(\"bottomleft\",fill=attr(cols,\"palette\"),legend=leg.text,bty=\"n\",title=\"Value\",cex=.7)"
   ]
  },
  {
   "cell_type": "code",
   "execution_count": 10,
   "metadata": {},
   "outputs": [
    {
     "data": {
      "image/png": "[encoded data removed]",
      "text/plain": [
       "Plot with title \"Config. C\""
      ]
     },
     "metadata": {},
     "output_type": "display_data"
    }
   ],
   "source": [
    "#classify variable\n",
    "numcat <- 5\n",
    "\n",
    "z <- classIntervals(inVc,n=numcat, style=\"fixed\",fixedBreaks=c(0,1.1,40,70,99.5,100))\n",
    "pal <- c(\"white\",\"lightgray\",\"gray\",\"darkgray\",\"black\")\n",
    "cols <- findColours(z, pal)\n",
    "\n",
    "#plot variable\n",
    "plot(inFeatures,col=cols, lwd=.2,main=\"Config. C\",cex.main=.8)\n",
    "brks <- round(z$brks,3)\n",
    "leg.text <- paste(brks[-numcat], brks[-1], sep=\" - \")\n",
    "legend(\"bottomleft\",fill=attr(cols,\"palette\"),legend=leg.text,bty=\"n\",title=\"Value\",cex=.7)"
   ]
  },
  {
   "cell_type": "code",
   "execution_count": 11,
   "metadata": {},
   "outputs": [
    {
     "data": {
      "image/png": "[encoded data removed]",
      "text/plain": [
       "Plot with title \"Config. D\""
      ]
     },
     "metadata": {},
     "output_type": "display_data"
    }
   ],
   "source": [
    "#classify variable\n",
    "numcat <- 5\n",
    "\n",
    "z <- classIntervals(inVd,n=numcat, style=\"fixed\",fixedBreaks=c(0,1.1,30,50,80,100))\n",
    "pal <- c(\"white\",\"lightgray\",\"gray\",\"darkgray\",\"black\")\n",
    "cols <- findColours(z, pal)\n",
    "\n",
    "#plot variable\n",
    "plot(inFeatures,col=cols, lwd=.2,main=\"Config. D\",cex.main=.8)\n",
    "brks <- round(z$brks,3)\n",
    "leg.text <- paste(brks[-numcat], brks[-1], sep=\" - \")\n",
    "legend(\"bottomleft\",fill=attr(cols,\"palette\"),legend=leg.text,bty=\"n\",title=\"Value\",cex=.7)"
   ]
  },
  {
   "cell_type": "code",
   "execution_count": 12,
   "metadata": {},
   "outputs": [
    {
     "data": {
      "image/png": "[encoded data removed]",
      "text/plain": [
       "Plot with title \"Config. E\""
      ]
     },
     "metadata": {},
     "output_type": "display_data"
    }
   ],
   "source": [
    "#classify variable\n",
    "numcat <- 5\n",
    "\n",
    "z <- classIntervals(inVe,n=numcat, style=\"fixed\",fixedBreaks=c(0,1.1,40,70,99.5,100))\n",
    "pal <- c(\"white\",\"lightgray\",\"gray\",\"darkgray\",\"black\")\n",
    "cols <- findColours(z, pal)\n",
    "\n",
    "#plot variable\n",
    "plot(inFeatures,col=cols, lwd=.2,main=\"Config. E\",cex.main=.8)\n",
    "brks <- round(z$brks,3)\n",
    "leg.text <- paste(brks[-numcat], brks[-1], sep=\" - \")\n",
    "legend(\"bottomleft\",fill=attr(cols,\"palette\"),legend=leg.text,bty=\"n\",title=\"Value\",cex=.7)"
   ]
  },
  {
   "cell_type": "markdown",
   "metadata": {},
   "source": [
    "## Test for Local Spatial Autocorrelation\n",
    "\n",
    "While some of the configurations outlined above do contain some clear instances of spatial autocorrelation given how the data values were classified, others are less clear. To test whether or not the distribution of values in this region are significantly different from what would be observed if they were randomly distributed, a global test for autocorrelation can be applied. In other words, given the relationships among all features in the region, a single summary metric can be produced to test the null hypothesis that the variable of interest is randomly distributed among the set of features being analyzed. \n",
    "\n",
    "### Local Moran's I\n",
    "\n",
    "It is also possible to compute the Moran statistic for each feature vs for the entire set of features as a whole. This type of computation is called a local spatial statistic. Just as with the global Moran's I, the null hypothesis is that the variable is distributed randomly among the features in the region. In this example, the localmoran() function (spdep library) can be used to compute the local Moran statistic. The localmoran() function requires the analysis variable, a .listw list of spatial neighbors and the form of the hypothesis to be tested. \n",
    "\n",
    "\n",
    "### Defining Neighborhoods\n",
    "\n",
    "Just as with the global Moran statistic, the first step is to define neighborhoods for each feature (square areas in this case). In this case, let's consider the Queens's criterion for adjacency."
   ]
  },
  {
   "cell_type": "code",
   "execution_count": 13,
   "metadata": {
    "collapsed": true
   },
   "outputs": [],
   "source": [
    "#Identify the neighbors of each feature\n",
    "inFeatures.nb <- poly2nb(inFeatures,queen=TRUE)"
   ]
  },
  {
   "cell_type": "code",
   "execution_count": 14,
   "metadata": {},
   "outputs": [
    {
     "data": {
      "text/plain": [
       "Neighbour list object:\n",
       "Number of regions: 900 \n",
       "Number of nonzero links: 6844 \n",
       "Percentage nonzero weights: 0.8449383 \n",
       "Average number of links: 7.604444 "
      ]
     },
     "metadata": {},
     "output_type": "display_data"
    }
   ],
   "source": [
    "inFeatures.nb"
   ]
  },
  {
   "cell_type": "markdown",
   "metadata": {},
   "source": [
    "### Generate Neighborhood Lists\n",
    "\n",
    "Transform the neighborhood objects into lists."
   ]
  },
  {
   "cell_type": "code",
   "execution_count": 15,
   "metadata": {
    "collapsed": true
   },
   "outputs": [],
   "source": [
    "#Retrieve neighborhood list\n",
    "inFeatures.listb <- nb2listw(inFeatures.nb,style=\"B\")\n",
    "inFeatures.listw <- nb2listw(inFeatures.nb,style=\"W\")"
   ]
  },
  {
   "cell_type": "code",
   "execution_count": 16,
   "metadata": {},
   "outputs": [
    {
     "data": {
      "text/html": [
       "<ol class=list-inline>\n",
       "\t<li>'style'</li>\n",
       "\t<li>'neighbours'</li>\n",
       "\t<li>'weights'</li>\n",
       "</ol>\n"
      ],
      "text/latex": [
       "\\begin{enumerate*}\n",
       "\\item 'style'\n",
       "\\item 'neighbours'\n",
       "\\item 'weights'\n",
       "\\end{enumerate*}\n"
      ],
      "text/markdown": [
       "1. 'style'\n",
       "2. 'neighbours'\n",
       "3. 'weights'\n",
       "\n",
       "\n"
      ],
      "text/plain": [
       "[1] \"style\"      \"neighbours\" \"weights\"   "
      ]
     },
     "metadata": {},
     "output_type": "display_data"
    }
   ],
   "source": [
    "names(inFeatures.listb)"
   ]
  },
  {
   "cell_type": "code",
   "execution_count": 17,
   "metadata": {},
   "outputs": [
    {
     "data": {
      "text/html": [
       "<ol class=list-inline>\n",
       "\t<li>'style'</li>\n",
       "\t<li>'neighbours'</li>\n",
       "\t<li>'weights'</li>\n",
       "</ol>\n"
      ],
      "text/latex": [
       "\\begin{enumerate*}\n",
       "\\item 'style'\n",
       "\\item 'neighbours'\n",
       "\\item 'weights'\n",
       "\\end{enumerate*}\n"
      ],
      "text/markdown": [
       "1. 'style'\n",
       "2. 'neighbours'\n",
       "3. 'weights'\n",
       "\n",
       "\n"
      ],
      "text/plain": [
       "[1] \"style\"      \"neighbours\" \"weights\"   "
      ]
     },
     "metadata": {},
     "output_type": "display_data"
    }
   ],
   "source": [
    "names(inFeatures.listb)"
   ]
  },
  {
   "cell_type": "code",
   "execution_count": 18,
   "metadata": {},
   "outputs": [
    {
     "data": {
      "text/html": [
       "<ol>\n",
       "\t<li><ol class=list-inline>\n",
       "\t<li>2</li>\n",
       "\t<li>31</li>\n",
       "\t<li>32</li>\n",
       "</ol>\n",
       "</li>\n",
       "\t<li><ol class=list-inline>\n",
       "\t<li>1</li>\n",
       "\t<li>3</li>\n",
       "\t<li>31</li>\n",
       "\t<li>32</li>\n",
       "\t<li>33</li>\n",
       "</ol>\n",
       "</li>\n",
       "\t<li><ol class=list-inline>\n",
       "\t<li>2</li>\n",
       "\t<li>4</li>\n",
       "\t<li>32</li>\n",
       "\t<li>33</li>\n",
       "\t<li>34</li>\n",
       "</ol>\n",
       "</li>\n",
       "\t<li><ol class=list-inline>\n",
       "\t<li>3</li>\n",
       "\t<li>5</li>\n",
       "\t<li>33</li>\n",
       "\t<li>34</li>\n",
       "\t<li>35</li>\n",
       "</ol>\n",
       "</li>\n",
       "\t<li><ol class=list-inline>\n",
       "\t<li>4</li>\n",
       "\t<li>6</li>\n",
       "\t<li>34</li>\n",
       "\t<li>35</li>\n",
       "\t<li>36</li>\n",
       "</ol>\n",
       "</li>\n",
       "\t<li><ol class=list-inline>\n",
       "\t<li>5</li>\n",
       "\t<li>7</li>\n",
       "\t<li>35</li>\n",
       "\t<li>36</li>\n",
       "\t<li>37</li>\n",
       "</ol>\n",
       "</li>\n",
       "</ol>\n"
      ],
      "text/latex": [
       "\\begin{enumerate}\n",
       "\\item \\begin{enumerate*}\n",
       "\\item 2\n",
       "\\item 31\n",
       "\\item 32\n",
       "\\end{enumerate*}\n",
       "\n",
       "\\item \\begin{enumerate*}\n",
       "\\item 1\n",
       "\\item 3\n",
       "\\item 31\n",
       "\\item 32\n",
       "\\item 33\n",
       "\\end{enumerate*}\n",
       "\n",
       "\\item \\begin{enumerate*}\n",
       "\\item 2\n",
       "\\item 4\n",
       "\\item 32\n",
       "\\item 33\n",
       "\\item 34\n",
       "\\end{enumerate*}\n",
       "\n",
       "\\item \\begin{enumerate*}\n",
       "\\item 3\n",
       "\\item 5\n",
       "\\item 33\n",
       "\\item 34\n",
       "\\item 35\n",
       "\\end{enumerate*}\n",
       "\n",
       "\\item \\begin{enumerate*}\n",
       "\\item 4\n",
       "\\item 6\n",
       "\\item 34\n",
       "\\item 35\n",
       "\\item 36\n",
       "\\end{enumerate*}\n",
       "\n",
       "\\item \\begin{enumerate*}\n",
       "\\item 5\n",
       "\\item 7\n",
       "\\item 35\n",
       "\\item 36\n",
       "\\item 37\n",
       "\\end{enumerate*}\n",
       "\n",
       "\\end{enumerate}\n"
      ],
      "text/markdown": [
       "1. 1. 2\n",
       "2. 31\n",
       "3. 32\n",
       "\n",
       "\n",
       "\n",
       "2. 1. 1\n",
       "2. 3\n",
       "3. 31\n",
       "4. 32\n",
       "5. 33\n",
       "\n",
       "\n",
       "\n",
       "3. 1. 2\n",
       "2. 4\n",
       "3. 32\n",
       "4. 33\n",
       "5. 34\n",
       "\n",
       "\n",
       "\n",
       "4. 1. 3\n",
       "2. 5\n",
       "3. 33\n",
       "4. 34\n",
       "5. 35\n",
       "\n",
       "\n",
       "\n",
       "5. 1. 4\n",
       "2. 6\n",
       "3. 34\n",
       "4. 35\n",
       "5. 36\n",
       "\n",
       "\n",
       "\n",
       "6. 1. 5\n",
       "2. 7\n",
       "3. 35\n",
       "4. 36\n",
       "5. 37\n",
       "\n",
       "\n",
       "\n",
       "\n",
       "\n"
      ],
      "text/plain": [
       "[[1]]\n",
       "[1]  2 31 32\n",
       "\n",
       "[[2]]\n",
       "[1]  1  3 31 32 33\n",
       "\n",
       "[[3]]\n",
       "[1]  2  4 32 33 34\n",
       "\n",
       "[[4]]\n",
       "[1]  3  5 33 34 35\n",
       "\n",
       "[[5]]\n",
       "[1]  4  6 34 35 36\n",
       "\n",
       "[[6]]\n",
       "[1]  5  7 35 36 37\n"
      ]
     },
     "metadata": {},
     "output_type": "display_data"
    }
   ],
   "source": [
    "head(inFeatures.listb$neighbours)"
   ]
  },
  {
   "cell_type": "markdown",
   "metadata": {},
   "source": [
    "## Moran Test - Configuration A\n",
    "\n",
    "In config. A, several artificial clusters were clearly present."
   ]
  },
  {
   "cell_type": "code",
   "execution_count": 19,
   "metadata": {
    "collapsed": true
   },
   "outputs": [],
   "source": [
    "#Compute local Moran\n",
    "featA.MIi <- localmoran(inVa, inFeatures.listw, alternative = \"two.sided\")"
   ]
  },
  {
   "cell_type": "code",
   "execution_count": 20,
   "metadata": {},
   "outputs": [
    {
     "data": {
      "text/html": [
       "<table>\n",
       "<thead><tr><th></th><th scope=col>Ii</th><th scope=col>E.Ii</th><th scope=col>Var.Ii</th><th scope=col>Z.Ii</th><th scope=col>Pr(z != 0)</th></tr></thead>\n",
       "<tbody>\n",
       "\t<tr><th scope=row>0</th><td>-0.31292527 </td><td>-0.001112347</td><td>0.3322948   </td><td>-0.54091915 </td><td>0.5885633   </td></tr>\n",
       "\t<tr><th scope=row>1</th><td>-0.01992528 </td><td>-0.001112347</td><td>0.1989322   </td><td>-0.04217974 </td><td>0.9663554   </td></tr>\n",
       "\t<tr><th scope=row>2</th><td>-0.24297624 </td><td>-0.001112347</td><td>0.1989322   </td><td>-0.54227362 </td><td>0.5876300   </td></tr>\n",
       "\t<tr><th scope=row>3</th><td>-0.09249805 </td><td>-0.001112347</td><td>0.1989322   </td><td>-0.20489234 </td><td>0.8376562   </td></tr>\n",
       "\t<tr><th scope=row>4</th><td>-0.21375916 </td><td>-0.001112347</td><td>0.1989322   </td><td>-0.47676714 </td><td>0.6335279   </td></tr>\n",
       "\t<tr><th scope=row>5</th><td>-0.56975805 </td><td>-0.001112347</td><td>0.1989322   </td><td>-1.27493840 </td><td>0.2023310   </td></tr>\n",
       "</tbody>\n",
       "</table>\n"
      ],
      "text/latex": [
       "\\begin{tabular}{r|lllll}\n",
       "  & Ii & E.Ii & Var.Ii & Z.Ii & Pr(z != 0)\\\\\n",
       "\\hline\n",
       "\t0 & -0.31292527  & -0.001112347 & 0.3322948    & -0.54091915  & 0.5885633   \\\\\n",
       "\t1 & -0.01992528  & -0.001112347 & 0.1989322    & -0.04217974  & 0.9663554   \\\\\n",
       "\t2 & -0.24297624  & -0.001112347 & 0.1989322    & -0.54227362  & 0.5876300   \\\\\n",
       "\t3 & -0.09249805  & -0.001112347 & 0.1989322    & -0.20489234  & 0.8376562   \\\\\n",
       "\t4 & -0.21375916  & -0.001112347 & 0.1989322    & -0.47676714  & 0.6335279   \\\\\n",
       "\t5 & -0.56975805  & -0.001112347 & 0.1989322    & -1.27493840  & 0.2023310   \\\\\n",
       "\\end{tabular}\n"
      ],
      "text/markdown": [
       "\n",
       "| <!--/--> | Ii | E.Ii | Var.Ii | Z.Ii | Pr(z != 0) | \n",
       "|---|---|---|---|---|---|\n",
       "| 0 | -0.31292527  | -0.001112347 | 0.3322948    | -0.54091915  | 0.5885633    | \n",
       "| 1 | -0.01992528  | -0.001112347 | 0.1989322    | -0.04217974  | 0.9663554    | \n",
       "| 2 | -0.24297624  | -0.001112347 | 0.1989322    | -0.54227362  | 0.5876300    | \n",
       "| 3 | -0.09249805  | -0.001112347 | 0.1989322    | -0.20489234  | 0.8376562    | \n",
       "| 4 | -0.21375916  | -0.001112347 | 0.1989322    | -0.47676714  | 0.6335279    | \n",
       "| 5 | -0.56975805  | -0.001112347 | 0.1989322    | -1.27493840  | 0.2023310    | \n",
       "\n",
       "\n"
      ],
      "text/plain": [
       "  Ii          E.Ii         Var.Ii    Z.Ii        Pr(z != 0)\n",
       "0 -0.31292527 -0.001112347 0.3322948 -0.54091915 0.5885633 \n",
       "1 -0.01992528 -0.001112347 0.1989322 -0.04217974 0.9663554 \n",
       "2 -0.24297624 -0.001112347 0.1989322 -0.54227362 0.5876300 \n",
       "3 -0.09249805 -0.001112347 0.1989322 -0.20489234 0.8376562 \n",
       "4 -0.21375916 -0.001112347 0.1989322 -0.47676714 0.6335279 \n",
       "5 -0.56975805 -0.001112347 0.1989322 -1.27493840 0.2023310 "
      ]
     },
     "metadata": {},
     "output_type": "display_data"
    }
   ],
   "source": [
    "head(featA.MIi)"
   ]
  },
  {
   "cell_type": "markdown",
   "metadata": {},
   "source": [
    "### Access the Output from Local Moran Test\n",
    "\n",
    "The test also reports some other important info: a) the actual I statistic values for each feature, b) the z-scores, and the c) p-values. Below, let's print a list of these outputs of the local Moran test. Then, let's access and store the I values, z-scores, and p-values for later use."
   ]
  },
  {
   "cell_type": "code",
   "execution_count": 23,
   "metadata": {},
   "outputs": [
    {
     "data": {
      "text/html": [
       "<ol class=list-inline>\n",
       "\t<li>'Ii'</li>\n",
       "\t<li>'E.Ii'</li>\n",
       "\t<li>'Var.Ii'</li>\n",
       "\t<li>'Z.Ii'</li>\n",
       "\t<li>'Pr(z != 0)'</li>\n",
       "</ol>\n"
      ],
      "text/latex": [
       "\\begin{enumerate*}\n",
       "\\item 'Ii'\n",
       "\\item 'E.Ii'\n",
       "\\item 'Var.Ii'\n",
       "\\item 'Z.Ii'\n",
       "\\item 'Pr(z != 0)'\n",
       "\\end{enumerate*}\n"
      ],
      "text/markdown": [
       "1. 'Ii'\n",
       "2. 'E.Ii'\n",
       "3. 'Var.Ii'\n",
       "4. 'Z.Ii'\n",
       "5. 'Pr(z != 0)'\n",
       "\n",
       "\n"
      ],
      "text/plain": [
       "[1] \"Ii\"         \"E.Ii\"       \"Var.Ii\"     \"Z.Ii\"       \"Pr(z != 0)\""
      ]
     },
     "metadata": {},
     "output_type": "display_data"
    }
   ],
   "source": [
    "#look at the fields of the result object to find the index of \n",
    "# the desired attributes\n",
    "\n",
    "colnames(featA.MIi)"
   ]
  },
  {
   "cell_type": "code",
   "execution_count": 24,
   "metadata": {
    "collapsed": true
   },
   "outputs": [],
   "source": [
    "#retrieve the Moran I value, the z-score and the p-value\n",
    "AiMIi <- featA.MIi[,1]\n",
    "AzMIi <- featA.MIi[,4]\n",
    "AprMIi <- featA.MIi[,5]"
   ]
  },
  {
   "cell_type": "code",
   "execution_count": 25,
   "metadata": {},
   "outputs": [
    {
     "data": {
      "text/html": [
       "<dl class=dl-horizontal>\n",
       "\t<dt>0</dt>\n",
       "\t\t<dd>-0.312925266588838</dd>\n",
       "\t<dt>1</dt>\n",
       "\t\t<dd>-0.0199252773721426</dd>\n",
       "\t<dt>2</dt>\n",
       "\t\t<dd>-0.242976237568694</dd>\n",
       "\t<dt>3</dt>\n",
       "\t\t<dd>-0.0924980547485419</dd>\n",
       "\t<dt>4</dt>\n",
       "\t\t<dd>-0.213759156586641</dd>\n",
       "</dl>\n"
      ],
      "text/latex": [
       "\\begin{description*}\n",
       "\\item[0] -0.312925266588838\n",
       "\\item[1] -0.0199252773721426\n",
       "\\item[2] -0.242976237568694\n",
       "\\item[3] -0.0924980547485419\n",
       "\\item[4] -0.213759156586641\n",
       "\\end{description*}\n"
      ],
      "text/markdown": [
       "0\n",
       ":   -0.3129252665888381\n",
       ":   -0.01992527737214262\n",
       ":   -0.2429762375686943\n",
       ":   -0.09249805474854194\n",
       ":   -0.213759156586641\n",
       "\n"
      ],
      "text/plain": [
       "          0           1           2           3           4 \n",
       "-0.31292527 -0.01992528 -0.24297624 -0.09249805 -0.21375916 "
      ]
     },
     "metadata": {},
     "output_type": "display_data"
    }
   ],
   "source": [
    "AiMIi[1:5] # Moran I value"
   ]
  },
  {
   "cell_type": "code",
   "execution_count": 26,
   "metadata": {},
   "outputs": [
    {
     "data": {
      "text/html": [
       "<dl class=dl-horizontal>\n",
       "\t<dt>0</dt>\n",
       "\t\t<dd>-0.54091915437096</dd>\n",
       "\t<dt>1</dt>\n",
       "\t\t<dd>-0.0421797389586118</dd>\n",
       "\t<dt>2</dt>\n",
       "\t\t<dd>-0.542273616711682</dd>\n",
       "\t<dt>3</dt>\n",
       "\t\t<dd>-0.20489233892004</dd>\n",
       "\t<dt>4</dt>\n",
       "\t\t<dd>-0.476767136434418</dd>\n",
       "</dl>\n"
      ],
      "text/latex": [
       "\\begin{description*}\n",
       "\\item[0] -0.54091915437096\n",
       "\\item[1] -0.0421797389586118\n",
       "\\item[2] -0.542273616711682\n",
       "\\item[3] -0.20489233892004\n",
       "\\item[4] -0.476767136434418\n",
       "\\end{description*}\n"
      ],
      "text/markdown": [
       "0\n",
       ":   -0.540919154370961\n",
       ":   -0.04217973895861182\n",
       ":   -0.5422736167116823\n",
       ":   -0.204892338920044\n",
       ":   -0.476767136434418\n",
       "\n"
      ],
      "text/plain": [
       "          0           1           2           3           4 \n",
       "-0.54091915 -0.04217974 -0.54227362 -0.20489234 -0.47676714 "
      ]
     },
     "metadata": {},
     "output_type": "display_data"
    }
   ],
   "source": [
    "AzMIi[1:5] # Z score"
   ]
  },
  {
   "cell_type": "code",
   "execution_count": 27,
   "metadata": {},
   "outputs": [
    {
     "data": {
      "text/html": [
       "<dl class=dl-horizontal>\n",
       "\t<dt>0</dt>\n",
       "\t\t<dd>0.588563307859725</dd>\n",
       "\t<dt>1</dt>\n",
       "\t\t<dd>0.966355414152704</dd>\n",
       "\t<dt>2</dt>\n",
       "\t\t<dd>0.587630027984812</dd>\n",
       "\t<dt>3</dt>\n",
       "\t\t<dd>0.837656240901152</dd>\n",
       "\t<dt>4</dt>\n",
       "\t\t<dd>0.633527949853302</dd>\n",
       "</dl>\n"
      ],
      "text/latex": [
       "\\begin{description*}\n",
       "\\item[0] 0.588563307859725\n",
       "\\item[1] 0.966355414152704\n",
       "\\item[2] 0.587630027984812\n",
       "\\item[3] 0.837656240901152\n",
       "\\item[4] 0.633527949853302\n",
       "\\end{description*}\n"
      ],
      "text/markdown": [
       "0\n",
       ":   0.5885633078597251\n",
       ":   0.9663554141527042\n",
       ":   0.5876300279848123\n",
       ":   0.8376562409011524\n",
       ":   0.633527949853302\n",
       "\n"
      ],
      "text/plain": [
       "        0         1         2         3         4 \n",
       "0.5885633 0.9663554 0.5876300 0.8376562 0.6335279 "
      ]
     },
     "metadata": {},
     "output_type": "display_data"
    }
   ],
   "source": [
    "AprMIi[1:5] # p value"
   ]
  },
  {
   "cell_type": "markdown",
   "metadata": {},
   "source": [
    "## Mapping the Test Statistic\n",
    "\n",
    "The test statistic values for any of the attributes returned can be easily mapped for visualization. "
   ]
  },
  {
   "cell_type": "code",
   "execution_count": 28,
   "metadata": {},
   "outputs": [
    {
     "data": {
      "image/png": "[encoded data removed]",
      "text/plain": [
       "Plot with title \"Config. A Unadjusted p-values\""
      ]
     },
     "metadata": {},
     "output_type": "display_data"
    }
   ],
   "source": [
    "#classify significance values\n",
    "numcat <- 8\n",
    "AzM.MIi <- classIntervals(AprMIi,n=numcat, style=\"kmeans\") # aprMIi = p values\n",
    "\n",
    "#plot classified z-scores\n",
    "pal <- gray.colors(numcat)\n",
    "cols <- findColours(AzM.MIi, pal)\n",
    "\n",
    "plot(inFeatures, col = cols, lwd = 0.2,\n",
    "     main = \"Config. A Unadjusted p-values\", cex.main = 0.8)\n",
    "\n",
    "brks <- round(AzM.MIi$brks, 3)\n",
    "\n",
    "leg <- paste(brks[-numcat], brks[-1], sep=\" - \")\n",
    "\n",
    "legend(\"bottomleft\", fill = pal, legend = leg, \n",
    "       bty = \"n\", title = \"p-values\", cex = 0.7)"
   ]
  },
  {
   "cell_type": "markdown",
   "metadata": {},
   "source": [
    "### Finding the z-scores Significant at a Particular Confidence Level\n",
    "\n",
    "While simply mapping the significance associated with each features hypothesis test is done above, it is not really that informative unless that significance is compared relative to some confidence level and unless information is provided on the nature of spatial autocorrelation (i.e. positive or negative. So, let's find a classification of the data that conveys that information in a much more appropriate manner.  The z-scores and p-values provided with the test statistic are unadjusted, meaning they are simply based on the assumption of normality and testing of a single hypothesis."
   ]
  },
  {
   "cell_type": "markdown",
   "metadata": {},
   "source": [
    "First, let's find which z-scores are significant at the .90 confidence level. This is done below and the z-score associated with the 0.90 confidence level is 1.64485. Thus, we can now map all of the areas that have a negative z-score less than 1.64485 (areas exhibiting positive spatial autocorrelation) and areas with a positive z-score greater than 1.6485 (areas exhibiting negative spatial autocorrelation)."
   ]
  },
  {
   "cell_type": "code",
   "execution_count": 29,
   "metadata": {
    "collapsed": true
   },
   "outputs": [],
   "source": [
    "#pick a confidence level\n",
    "pr <- 0.90\n",
    "\n",
    "#convert confidence levels to significance probs.\n",
    "inpr <- 1-((1-pr)/2)"
   ]
  },
  {
   "cell_type": "code",
   "execution_count": 30,
   "metadata": {},
   "outputs": [
    {
     "data": {
      "text/html": [
       "0.95"
      ],
      "text/latex": [
       "0.95"
      ],
      "text/markdown": [
       "0.95"
      ],
      "text/plain": [
       "[1] 0.95"
      ]
     },
     "metadata": {},
     "output_type": "display_data"
    }
   ],
   "source": [
    "inpr"
   ]
  },
  {
   "cell_type": "code",
   "execution_count": 31,
   "metadata": {},
   "outputs": [
    {
     "data": {
      "text/html": [
       "1.64485362695147"
      ],
      "text/latex": [
       "1.64485362695147"
      ],
      "text/markdown": [
       "1.64485362695147"
      ],
      "text/plain": [
       "[1] 1.644854"
      ]
     },
     "metadata": {},
     "output_type": "display_data"
    }
   ],
   "source": [
    "#compute normal error for z-score\n",
    "errorZ <- qnorm(inpr, lower.tail = TRUE)\n",
    "\n",
    "errorZ"
   ]
  },
  {
   "cell_type": "code",
   "execution_count": 32,
   "metadata": {},
   "outputs": [
    {
     "data": {
      "text/html": [
       "1.64485362695147"
      ],
      "text/latex": [
       "1.64485362695147"
      ],
      "text/markdown": [
       "1.64485362695147"
      ],
      "text/plain": [
       "[1] 1.644854"
      ]
     },
     "metadata": {},
     "output_type": "display_data"
    }
   ],
   "source": [
    "zNormal <- 0 + errorZ \n",
    "\n",
    "zNormal"
   ]
  },
  {
   "cell_type": "code",
   "execution_count": 33,
   "metadata": {},
   "outputs": [
    {
     "data": {
      "text/html": [
       "<span style=white-space:pre-wrap>'0.9   1.64485362695147'</span>"
      ],
      "text/latex": [
       "'0.9   1.64485362695147'"
      ],
      "text/markdown": [
       "<span style=white-space:pre-wrap>'0.9   1.64485362695147'</span>"
      ],
      "text/plain": [
       "[1] \"0.9   1.64485362695147\""
      ]
     },
     "metadata": {},
     "output_type": "display_data"
    }
   ],
   "source": [
    "#for each confidence level, print the confidence level and corresponding z-value\n",
    "paste(pr, zNormal, sep = \"   \")"
   ]
  },
  {
   "cell_type": "markdown",
   "metadata": {},
   "source": [
    "### Mapping Significant z-scores\n",
    "\n",
    "Next, the classIntervals() function (classInt library) can be used to classify the z-scores into classes below and above the significant z-scores. Well, looks like the three clusters in config. A have been detected...as well as a number of other areas of signficant autocorrelation."
   ]
  },
  {
   "cell_type": "code",
   "execution_count": 35,
   "metadata": {},
   "outputs": [
    {
     "data": {
      "image/png": "[encoded data removed]",
      "text/plain": [
       "Plot with title \"Config. A z-scores Sig. Level - Normal\""
      ]
     },
     "metadata": {},
     "output_type": "display_data"
    }
   ],
   "source": [
    "#determine number of class breaks and classify normal z-score significance\n",
    "ncz1 <- 3 + length(pr) - 1\n",
    "ncz2 <- 3 + length(pr)\n",
    "AzM.MIi <- classIntervals(AzMIi,n = ncz1, style = \"fixed\",\n",
    "                          fixedBreaks = c(min(AzMIi), -zNormal, \n",
    "                                        zNormal, max(AzMIi)))\n",
    "\n",
    "#plot classified z-scores\n",
    "pal1 <- c(\"blue\",\"white\",\"red4\")\n",
    "\n",
    "cols.AMIi <- findColours(AzM.MIi, pal1)\n",
    "\n",
    "plot(inFeatures, col = cols.AMIi, lwd = 0.2, \n",
    "             main = \"Config. A z-scores Sig. Level - Normal\",\n",
    "             cex.main = 0.8)\n",
    "\n",
    "brks <- round(AzM.MIi$brks, ncz2)\n",
    "\n",
    "leg <- paste(brks[-ncz2], brks[-1], sep=\" - \")\n",
    "\n",
    "legend(\"bottomleft\", fill = pal1, legend = leg, \n",
    "       bty = \"n\", title = \"z-scores\", cex = 0.7)"
   ]
  },
  {
   "cell_type": "code",
   "execution_count": 36,
   "metadata": {},
   "outputs": [
    {
     "data": {
      "text/html": [
       "<ol class=list-inline>\n",
       "\t<li>'var'</li>\n",
       "\t<li>'brks'</li>\n",
       "</ol>\n"
      ],
      "text/latex": [
       "\\begin{enumerate*}\n",
       "\\item 'var'\n",
       "\\item 'brks'\n",
       "\\end{enumerate*}\n"
      ],
      "text/markdown": [
       "1. 'var'\n",
       "2. 'brks'\n",
       "\n",
       "\n"
      ],
      "text/plain": [
       "[1] \"var\"  \"brks\""
      ]
     },
     "metadata": {},
     "output_type": "display_data"
    }
   ],
   "source": [
    "names(AzM.MIi)"
   ]
  },
  {
   "cell_type": "code",
   "execution_count": 37,
   "metadata": {},
   "outputs": [
    {
     "data": {
      "text/html": [
       "<dl class=dl-horizontal>\n",
       "\t<dt>0</dt>\n",
       "\t\t<dd>-0.54091915437096</dd>\n",
       "\t<dt>1</dt>\n",
       "\t\t<dd>-0.0421797389586118</dd>\n",
       "\t<dt>2</dt>\n",
       "\t\t<dd>-0.542273616711682</dd>\n",
       "\t<dt>3</dt>\n",
       "\t\t<dd>-0.20489233892004</dd>\n",
       "\t<dt>4</dt>\n",
       "\t\t<dd>-0.476767136434418</dd>\n",
       "\t<dt>5</dt>\n",
       "\t\t<dd>-1.27493840381277</dd>\n",
       "\t<dt>6</dt>\n",
       "\t\t<dd>-0.0713828027185808</dd>\n",
       "\t<dt>7</dt>\n",
       "\t\t<dd>-1.98616470645948</dd>\n",
       "\t<dt>8</dt>\n",
       "\t\t<dd>0.302954665956755</dd>\n",
       "\t<dt>9</dt>\n",
       "\t\t<dd>0.549898063547427</dd>\n",
       "</dl>\n"
      ],
      "text/latex": [
       "\\begin{description*}\n",
       "\\item[0] -0.54091915437096\n",
       "\\item[1] -0.0421797389586118\n",
       "\\item[2] -0.542273616711682\n",
       "\\item[3] -0.20489233892004\n",
       "\\item[4] -0.476767136434418\n",
       "\\item[5] -1.27493840381277\n",
       "\\item[6] -0.0713828027185808\n",
       "\\item[7] -1.98616470645948\n",
       "\\item[8] 0.302954665956755\n",
       "\\item[9] 0.549898063547427\n",
       "\\end{description*}\n"
      ],
      "text/markdown": [
       "0\n",
       ":   -0.540919154370961\n",
       ":   -0.04217973895861182\n",
       ":   -0.5422736167116823\n",
       ":   -0.204892338920044\n",
       ":   -0.4767671364344185\n",
       ":   -1.274938403812776\n",
       ":   -0.07138280271858087\n",
       ":   -1.986164706459488\n",
       ":   0.3029546659567559\n",
       ":   0.549898063547427\n",
       "\n"
      ],
      "text/plain": [
       "          0           1           2           3           4           5 \n",
       "-0.54091915 -0.04217974 -0.54227362 -0.20489234 -0.47676714 -1.27493840 \n",
       "          6           7           8           9 \n",
       "-0.07138280 -1.98616471  0.30295467  0.54989806 "
      ]
     },
     "metadata": {},
     "output_type": "display_data"
    }
   ],
   "source": [
    "AzM.MIi$var[1:10]"
   ]
  },
  {
   "cell_type": "code",
   "execution_count": 38,
   "metadata": {},
   "outputs": [
    {
     "data": {
      "text/html": [
       "<ol class=list-inline>\n",
       "\t<li>-4.21457606858258</li>\n",
       "\t<li>-1.64485362695147</li>\n",
       "\t<li>1.64485362695147</li>\n",
       "\t<li>7.83489793363308</li>\n",
       "\t<li>NA</li>\n",
       "\t<li>NA</li>\n",
       "\t<li>NA</li>\n",
       "\t<li>NA</li>\n",
       "\t<li>NA</li>\n",
       "\t<li>NA</li>\n",
       "</ol>\n"
      ],
      "text/latex": [
       "\\begin{enumerate*}\n",
       "\\item -4.21457606858258\n",
       "\\item -1.64485362695147\n",
       "\\item 1.64485362695147\n",
       "\\item 7.83489793363308\n",
       "\\item NA\n",
       "\\item NA\n",
       "\\item NA\n",
       "\\item NA\n",
       "\\item NA\n",
       "\\item NA\n",
       "\\end{enumerate*}\n"
      ],
      "text/markdown": [
       "1. -4.21457606858258\n",
       "2. -1.64485362695147\n",
       "3. 1.64485362695147\n",
       "4. 7.83489793363308\n",
       "5. NA\n",
       "6. NA\n",
       "7. NA\n",
       "8. NA\n",
       "9. NA\n",
       "10. NA\n",
       "\n",
       "\n"
      ],
      "text/plain": [
       " [1] -4.214576 -1.644854  1.644854  7.834898        NA        NA        NA\n",
       " [8]        NA        NA        NA"
      ]
     },
     "metadata": {},
     "output_type": "display_data"
    }
   ],
   "source": [
    "AzM.MIi$brks[1:10]"
   ]
  },
  {
   "cell_type": "markdown",
   "metadata": {},
   "source": [
    "## Moran Test - Configuration B\n",
    "\n",
    "In config. B, one artificial cluster was clearly present. Let's see what is uncovered by the local Moran Test.\n"
   ]
  },
  {
   "cell_type": "code",
   "execution_count": 39,
   "metadata": {},
   "outputs": [
    {
     "data": {
      "text/html": [
       "<table>\n",
       "<thead><tr><th></th><th scope=col>Ii</th><th scope=col>E.Ii</th><th scope=col>Var.Ii</th><th scope=col>Z.Ii</th><th scope=col>Pr(z != 0)</th></tr></thead>\n",
       "<tbody>\n",
       "\t<tr><th scope=row>0</th><td> 0.1997545  </td><td>-0.001112347</td><td>0.3323354   </td><td> 0.3484336  </td><td>0.7275146   </td></tr>\n",
       "\t<tr><th scope=row>1</th><td> 0.1048060  </td><td>-0.001112347</td><td>0.1989565   </td><td> 0.2374610  </td><td>0.8122992   </td></tr>\n",
       "\t<tr><th scope=row>2</th><td>-0.4443857  </td><td>-0.001112347</td><td>0.1989565   </td><td>-0.9937854  </td><td>0.3203274   </td></tr>\n",
       "\t<tr><th scope=row>3</th><td> 0.5342474  </td><td>-0.001112347</td><td>0.1989565   </td><td> 1.2002361  </td><td>0.2300476   </td></tr>\n",
       "\t<tr><th scope=row>4</th><td> 0.2008744  </td><td>-0.001112347</td><td>0.1989565   </td><td> 0.4528391  </td><td>0.6506646   </td></tr>\n",
       "\t<tr><th scope=row>5</th><td>-0.5483256  </td><td>-0.001112347</td><td>0.1989565   </td><td>-1.2268108  </td><td>0.2198937   </td></tr>\n",
       "</tbody>\n",
       "</table>\n"
      ],
      "text/latex": [
       "\\begin{tabular}{r|lllll}\n",
       "  & Ii & E.Ii & Var.Ii & Z.Ii & Pr(z != 0)\\\\\n",
       "\\hline\n",
       "\t0 &  0.1997545   & -0.001112347 & 0.3323354    &  0.3484336   & 0.7275146   \\\\\n",
       "\t1 &  0.1048060   & -0.001112347 & 0.1989565    &  0.2374610   & 0.8122992   \\\\\n",
       "\t2 & -0.4443857   & -0.001112347 & 0.1989565    & -0.9937854   & 0.3203274   \\\\\n",
       "\t3 &  0.5342474   & -0.001112347 & 0.1989565    &  1.2002361   & 0.2300476   \\\\\n",
       "\t4 &  0.2008744   & -0.001112347 & 0.1989565    &  0.4528391   & 0.6506646   \\\\\n",
       "\t5 & -0.5483256   & -0.001112347 & 0.1989565    & -1.2268108   & 0.2198937   \\\\\n",
       "\\end{tabular}\n"
      ],
      "text/markdown": [
       "\n",
       "| <!--/--> | Ii | E.Ii | Var.Ii | Z.Ii | Pr(z != 0) | \n",
       "|---|---|---|---|---|---|\n",
       "| 0 |  0.1997545   | -0.001112347 | 0.3323354    |  0.3484336   | 0.7275146    | \n",
       "| 1 |  0.1048060   | -0.001112347 | 0.1989565    |  0.2374610   | 0.8122992    | \n",
       "| 2 | -0.4443857   | -0.001112347 | 0.1989565    | -0.9937854   | 0.3203274    | \n",
       "| 3 |  0.5342474   | -0.001112347 | 0.1989565    |  1.2002361   | 0.2300476    | \n",
       "| 4 |  0.2008744   | -0.001112347 | 0.1989565    |  0.4528391   | 0.6506646    | \n",
       "| 5 | -0.5483256   | -0.001112347 | 0.1989565    | -1.2268108   | 0.2198937    | \n",
       "\n",
       "\n"
      ],
      "text/plain": [
       "  Ii         E.Ii         Var.Ii    Z.Ii       Pr(z != 0)\n",
       "0  0.1997545 -0.001112347 0.3323354  0.3484336 0.7275146 \n",
       "1  0.1048060 -0.001112347 0.1989565  0.2374610 0.8122992 \n",
       "2 -0.4443857 -0.001112347 0.1989565 -0.9937854 0.3203274 \n",
       "3  0.5342474 -0.001112347 0.1989565  1.2002361 0.2300476 \n",
       "4  0.2008744 -0.001112347 0.1989565  0.4528391 0.6506646 \n",
       "5 -0.5483256 -0.001112347 0.1989565 -1.2268108 0.2198937 "
      ]
     },
     "metadata": {},
     "output_type": "display_data"
    }
   ],
   "source": [
    "#Compute local Moran\n",
    "featB.MIi <- localmoran(inVb, inFeatures.listw, alternative=\"two.sided\")\n",
    "\n",
    "head(featB.MIi)"
   ]
  },
  {
   "cell_type": "code",
   "execution_count": 40,
   "metadata": {},
   "outputs": [
    {
     "data": {
      "text/html": [
       "<dl class=dl-horizontal>\n",
       "\t<dt>0</dt>\n",
       "\t\t<dd>0.348433606275139</dd>\n",
       "\t<dt>1</dt>\n",
       "\t\t<dd>0.23746095723989</dd>\n",
       "\t<dt>2</dt>\n",
       "\t\t<dd>-0.993785398122908</dd>\n",
       "\t<dt>3</dt>\n",
       "\t\t<dd>1.20023613439842</dd>\n",
       "\t<dt>4</dt>\n",
       "\t\t<dd>0.452839056639998</dd>\n",
       "</dl>\n"
      ],
      "text/latex": [
       "\\begin{description*}\n",
       "\\item[0] 0.348433606275139\n",
       "\\item[1] 0.23746095723989\n",
       "\\item[2] -0.993785398122908\n",
       "\\item[3] 1.20023613439842\n",
       "\\item[4] 0.452839056639998\n",
       "\\end{description*}\n"
      ],
      "text/markdown": [
       "0\n",
       ":   0.3484336062751391\n",
       ":   0.237460957239892\n",
       ":   -0.9937853981229083\n",
       ":   1.200236134398424\n",
       ":   0.452839056639998\n",
       "\n"
      ],
      "text/plain": [
       "         0          1          2          3          4 \n",
       " 0.3484336  0.2374610 -0.9937854  1.2002361  0.4528391 "
      ]
     },
     "metadata": {},
     "output_type": "display_data"
    }
   ],
   "source": [
    "#retrieve the z-score \n",
    "BzMIi <- featB.MIi[,4]\n",
    "\n",
    "BzMIi[1:5]"
   ]
  },
  {
   "cell_type": "markdown",
   "metadata": {},
   "source": [
    "### Map the Moran z-scores for Config. B\n",
    "\n",
    "The autocorrelation tests for config. B seem to have uncovered the single cluster at the .90 confidence level. Also, not the numerous significant pockets of clustering of low values.\n"
   ]
  },
  {
   "cell_type": "code",
   "execution_count": 41,
   "metadata": {},
   "outputs": [
    {
     "data": {
      "image/png": "[encoded data removed]",
      "text/plain": [
       "Plot with title \"Config. B z-scores Sig. Level - Normal\""
      ]
     },
     "metadata": {},
     "output_type": "display_data"
    }
   ],
   "source": [
    "#determine number of class breaks and classify normal z-score significance\n",
    "ncz1 <- 3 + length(pr) - 1\n",
    "\n",
    "ncz2 <- 3 + length(pr)\n",
    "\n",
    "BzM.MIi <- classIntervals(BzMIi,n = ncz1, style = \"fixed\", \n",
    "                          fixedBreaks = c(min(BzMIi), -zNormal, zNormal, max(BzMIi)))\n",
    "\n",
    "#plot classified z-scores\n",
    "pal1 <- c(\"blue\", \"white\", \"red4\")\n",
    "\n",
    "cols.BMIi <- findColours(BzM.MIi, pal1)\n",
    "\n",
    "plot(inFeatures, col = cols.BMIi, lwd = 0.2,\n",
    "     main = \"Config. B z-scores Sig. Level - Normal\", cex.main = 0.8)\n",
    "\n",
    "brks <- round(BzM.MIi$brks, ncz2)\n",
    "\n",
    "leg <- paste(brks[-ncz2], brks[-1], sep=\" - \")\n",
    "\n",
    "legend(\"bottomleft\", fill = pal1, legend = leg, \n",
    "       bty = \"n\", title = \"z-scores\", cex = 0.7)"
   ]
  },
  {
   "cell_type": "markdown",
   "metadata": {},
   "source": [
    "## Moran Test - Configuration C\n",
    "\n",
    "In config. C, all areas were assigned a random value. Let's see what is uncovered by the local Moran Test."
   ]
  },
  {
   "cell_type": "code",
   "execution_count": 42,
   "metadata": {
    "collapsed": true
   },
   "outputs": [],
   "source": [
    "#Compute local Moran\n",
    "featC.MIi <- localmoran(inVc, inFeatures.listw,alternative=\"two.sided\")\n",
    "\n",
    "#retrieve the Moran I z-score\n",
    "CzMIi <- featC.MIi[,4]"
   ]
  },
  {
   "cell_type": "markdown",
   "metadata": {},
   "source": [
    "### Map the Moran z-scores for Config. C\n",
    "\n",
    "The autocorrelation tests for config. C seem to have uncovered many distributed pockets of spatial autocorrelation but, most of the area seem rather devoid of significant autocorrelation."
   ]
  },
  {
   "cell_type": "code",
   "execution_count": 43,
   "metadata": {},
   "outputs": [
    {
     "data": {
      "image/png": "[encoded data removed]",
      "text/plain": [
       "Plot with title \"Config. C z-scores Sig. Level - Normal\""
      ]
     },
     "metadata": {},
     "output_type": "display_data"
    }
   ],
   "source": [
    "#determine number of class breaks and classify normal z-score significance\n",
    "ncz1 <- 3 + length(pr) - 1\n",
    "ncz2 <- 3 + length(pr)\n",
    "CzM.MIi <- classIntervals(CzMIi,n=ncz1, style=\"fixed\",\n",
    "                          fixedBreaks=c(min(CzMIi), -zNormal, zNormal, max(CzMIi)))\n",
    "\n",
    "#plot classified z-scores\n",
    "pal1 <- c(\"blue\",\"white\",\"red4\")\n",
    "\n",
    "cols.CMIi <- findColours(CzM.MIi, pal1)\n",
    "\n",
    "plot(inFeatures, col=cols.CMIi,lwd=.2,\n",
    "     main=\"Config. C z-scores Sig. Level - Normal\",cex.main=.8)\n",
    "\n",
    "brks <- round(CzM.MIi$brks, ncz2)\n",
    "\n",
    "leg <- paste(brks[-ncz2], brks[-1], sep=\" - \")\n",
    "\n",
    "legend(\"bottomleft\", fill=pal1, legend=leg, \n",
    "       bty=\"n\",title=\"z-scores\",cex=.7)\n"
   ]
  },
  {
   "cell_type": "markdown",
   "metadata": {},
   "source": [
    "## Moran Test - Configuration D\n",
    "\n",
    "In config. D, two clusters of low values were present. Let's see what is uncovered by the local Moran Test."
   ]
  },
  {
   "cell_type": "code",
   "execution_count": 44,
   "metadata": {
    "collapsed": true
   },
   "outputs": [],
   "source": [
    "#Compute local Moran\n",
    "featD.MIi <- localmoran(inVd, inFeatures.listw,alternative=\"two.sided\")\n",
    "\n",
    "#retrieve the Moran I z-value\n",
    "DzMIi <- featD.MIi[,4]"
   ]
  },
  {
   "cell_type": "markdown",
   "metadata": {},
   "source": [
    "### Map the Moran z-scores for Config. D\n",
    "\n",
    "The autocorrelation tests for config. D seem to have uncovered two pockets of autocorrelation as well as many distributed pockets of spatial autocorrelation."
   ]
  },
  {
   "cell_type": "code",
   "execution_count": 45,
   "metadata": {},
   "outputs": [
    {
     "data": {
      "image/png": "[encoded data removed]",
      "text/plain": [
       "Plot with title \"Config. D z-scores Sig. Level - Normal\""
      ]
     },
     "metadata": {},
     "output_type": "display_data"
    }
   ],
   "source": [
    "#determine number of class breaks and classify normal z-score significance\n",
    "ncz1 <- 3 + length(pr) - 1\n",
    "ncz2 <- 3 + length(pr)\n",
    "DzM.MIi <- classIntervals(DzMIi,n=ncz1, style=\"fixed\",\n",
    "                          fixedBreaks=c(min(DzMIi), -zNormal, zNormal, max(DzMIi)))\n",
    "\n",
    "#plot classified z-scores\n",
    "pal1 <- c(\"blue\",\"white\",\"red4\")\n",
    "\n",
    "cols.DMIi <- findColours(DzM.MIi, pal1)\n",
    "\n",
    "plot(inFeatures, col=cols.DMIi,lwd=.2,\n",
    "     main=\"Config. D z-scores Sig. Level - Normal\",cex.main=.8)\n",
    "\n",
    "brks <- round(DzM.MIi$brks, ncz2)\n",
    "\n",
    "leg <- paste(brks[-ncz2], brks[-1], sep=\" - \")\n",
    "\n",
    "legend(\"bottomleft\", fill=pal1, legend=leg, bty=\"n\",title=\"z-scores\",cex=.7)"
   ]
  },
  {
   "cell_type": "markdown",
   "metadata": {},
   "source": [
    "## Moran Test - Configuration E\n",
    "\n",
    "In config. E, two clusters of low values and two clusters of high values were present. Let's see what is uncovered by the local Moran Test.\n"
   ]
  },
  {
   "cell_type": "code",
   "execution_count": 46,
   "metadata": {
    "collapsed": true
   },
   "outputs": [],
   "source": [
    "#Compute local Moran\n",
    "featE.MIi <- localmoran(inVe, inFeatures.listw,alternative=\"two.sided\")\n",
    "\n",
    "#retrieve the Moran I z-value\n",
    "EzMIi <- featE.MIi[,4]"
   ]
  },
  {
   "cell_type": "markdown",
   "metadata": {},
   "source": [
    "### Map the Moran z-scores for Config. D\n",
    "\n",
    "The autocorrelation tests for config. D seem to have uncovered the four clusters as well as many distributed pockets of spatial autocorrelation.\n"
   ]
  },
  {
   "cell_type": "code",
   "execution_count": 47,
   "metadata": {},
   "outputs": [
    {
     "data": {
      "image/png": "[encoded data removed]",
      "text/plain": [
       "Plot with title \"Config. E z-scores Sig. Level - Normal\""
      ]
     },
     "metadata": {},
     "output_type": "display_data"
    }
   ],
   "source": [
    "#determine number of class breaks and classify normal z-score significance\n",
    "ncz1 <- 3 + length(pr) - 1\n",
    "\n",
    "ncz2 <- 3 + length(pr)\n",
    "\n",
    "EzM.MIi <- classIntervals(EzMIi,n=ncz1, style=\"fixed\",\n",
    "                          fixedBreaks=c(min(EzMIi), -zNormal, zNormal, max(EzMIi)))\n",
    "\n",
    "#plot classified z-scores\n",
    "pal1 <- c(\"blue\",\"white\",\"red4\")\n",
    "\n",
    "cols.EMIi <- findColours(EzM.MIi, pal1)\n",
    "\n",
    "plot(inFeatures, col=cols.EMIi,lwd=.2,\n",
    "     main=\"Config. E z-scores Sig. Level - Normal\",cex.main=.8)\n",
    "\n",
    "brks <- round(EzM.MIi$brks, ncz2)\n",
    "\n",
    "leg <- paste(brks[-ncz2], brks[-1], sep=\" - \")\n",
    "\n",
    "legend(\"bottomleft\", fill=pal1, legend=leg, \n",
    "       bty=\"n\",title=\"z-scores\",cex=.7)"
   ]
  }
 ],
 "metadata": {
  "kernelspec": {
   "display_name": "R",
   "language": "R",
   "name": "ir"
  },
  "language_info": {
   "codemirror_mode": "r",
   "file_extension": ".r",
   "mimetype": "text/x-r-source",
   "name": "R",
   "pygments_lexer": "r",
   "version": "3.4.1"
  }
 },
 "nbformat": 4,
 "nbformat_minor": 2
}
