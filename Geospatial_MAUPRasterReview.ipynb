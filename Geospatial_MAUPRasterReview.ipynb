{
 "cells": [
  {
   "cell_type": "markdown",
   "metadata": {},
   "source": [
    "# MAUP - Raster\n",
    "\n",
    "Let's investigate how the modifiable areal unit problem manifests in raster analysis as well as to experiment with aggregation of raster data. Moreover, this exercise explores how examination of MAUP affects can be automated."
   ]
  },
  {
   "cell_type": "markdown",
   "metadata": {},
   "source": [
    "### Load relevant libraries\n",
    "\n",
    "Documentation of these packages can be found at: \n",
    "\n",
    "-https://cran.r-project.org/web/packages/raster/raster.pdf\n",
    "\n",
    "-https://cran.r-project.org/web/packages/rgdal/rgdal.pdf  \n",
    "\n",
    "-https://cran.r-project.org/web/packages/spdep/spdep.pdf\n",
    "\n",
    "-https://cran.r-project.org/web/packages/RColorBrewer/RColorBrewer.pdf"
   ]
  },
  {
   "cell_type": "code",
   "execution_count": 3,
   "metadata": {
    "collapsed": true
   },
   "outputs": [],
   "source": [
    "inLibraries = list('repr','rgdal','spdep','rgeos','RColorBrewer','classInt','raster')\n",
    "for (rpack in inLibraries) {\n",
    "  if (is.element(rpack,installed.packages()[,1])){           \n",
    "      #Load the library into R\n",
    "      suppressMessages(library(rpack,character.only = TRUE))\n",
    "    }\n",
    "    else {\n",
    "        print(paste(\"Warning:  \",rpack,\" is not an installed package\"))\n",
    "    }\n",
    "}\n",
    "#resize plot area\n",
    "options(repr.plot.width=6, repr.plot.height=6)"
   ]
  },
  {
   "cell_type": "markdown",
   "metadata": {
    "collapsed": true
   },
   "source": [
    "## Read Observed Measurements\n",
    "\n",
    "In this exercise, let's look at some pollution data collected for New York City (https://catalog.data.gov/dataset/nyccas-air-pollution-rasters).  I basically downloaded this data and simply converted it to .tiff format to make it easier to use on jupyterhub.  The only other modification I had to make to some the files was to set the CRS properly in cases in which it was missing. \n",
    "\n",
    "Raster files for the December 2013-December 2015 period represent estimates of NO (nitric oxide), PM (fine particular matter), BC (black carbon), NO2 (carbon dioxide) collected over the year and 03 (ozone) estimated for summer."
   ]
  },
  {
   "cell_type": "markdown",
   "metadata": {},
   "source": [
    "Implement an iterative routine that automates the reading of all of the .tif files in (nypollution). \n",
    "\n",
    "Create a list of raster file names (not including the file paths and the .tif extension i.e. aa6_bc300m) and print it's contents to the screen.  \n",
    "\n",
    "Plot the rasters for aa7_bc (black carbon) and aa7_no (nitric oxide) side-by-side."
   ]
  },
  {
   "cell_type": "code",
   "execution_count": 4,
   "metadata": {},
   "outputs": [
    {
     "data": {
      "text/html": [
       "<ol class=list-inline>\n",
       "\t<li>'aa6_bc300m.tfw'</li>\n",
       "\t<li>'aa6_bc300m.tif'</li>\n",
       "\t<li>'aa6_bc300m.tif.aux.xml'</li>\n",
       "\t<li>'aa6_bc300m.tif.ovr'</li>\n",
       "\t<li>'aa6_bc300m.tif.xml'</li>\n",
       "\t<li>'aa6_no2300m.tfw'</li>\n",
       "\t<li>'aa6_no2300m.tif'</li>\n",
       "\t<li>'aa6_no2300m.tif.aux.xml'</li>\n",
       "\t<li>'aa6_no2300m.tif.ovr'</li>\n",
       "\t<li>'aa6_no2300m.tif.xml'</li>\n",
       "\t<li>'aa6_no300m.tfw'</li>\n",
       "\t<li>'aa6_no300m.tif'</li>\n",
       "\t<li>'aa6_no300m.tif.aux.xml'</li>\n",
       "\t<li>'aa6_no300m.tif.ovr'</li>\n",
       "\t<li>'aa6_no300m.tif.xml'</li>\n",
       "\t<li>'aa6_pm300m.tfw'</li>\n",
       "\t<li>'aa6_pm300m.tif'</li>\n",
       "\t<li>'aa6_pm300m.tif.aux.xml'</li>\n",
       "\t<li>'aa6_pm300m.tif.ovr'</li>\n",
       "\t<li>'aa6_pm300m.tif.xml'</li>\n",
       "\t<li>'aa7_bc300m.tfw'</li>\n",
       "\t<li>'aa7_bc300m.tif'</li>\n",
       "\t<li>'aa7_bc300m.tif.aux.xml'</li>\n",
       "\t<li>'aa7_bc300m.tif.ovr'</li>\n",
       "\t<li>'aa7_bc300m.tif.xml'</li>\n",
       "\t<li>'aa7_no2300m.tfw'</li>\n",
       "\t<li>'aa7_no2300m.tif'</li>\n",
       "\t<li>'aa7_no2300m.tif.aux.xml'</li>\n",
       "\t<li>'aa7_no2300m.tif.ovr'</li>\n",
       "\t<li>'aa7_no2300m.tif.xml'</li>\n",
       "\t<li>'aa7_no300m.tfw'</li>\n",
       "\t<li>'aa7_no300m.tif'</li>\n",
       "\t<li>'aa7_no300m.tif.aux.xml'</li>\n",
       "\t<li>'aa7_no300m.tif.ovr'</li>\n",
       "\t<li>'aa7_no300m.tif.xml'</li>\n",
       "\t<li>'aa7_pm300m.tfw'</li>\n",
       "\t<li>'aa7_pm300m.tif'</li>\n",
       "\t<li>'aa7_pm300m.tif.aux.xml'</li>\n",
       "\t<li>'aa7_pm300m.tif.ovr'</li>\n",
       "\t<li>'aa7_pm300m.tif.xml'</li>\n",
       "\t<li>'s6_o3300m.tfw'</li>\n",
       "\t<li>'s6_o3300m.tif'</li>\n",
       "\t<li>'s6_o3300m.tif.aux.xml'</li>\n",
       "\t<li>'s6_o3300m.tif.ovr'</li>\n",
       "\t<li>'s6_o3300m.tif.xml'</li>\n",
       "\t<li>'s7_o3300m.tfw'</li>\n",
       "\t<li>'s7_o3300m.tif'</li>\n",
       "\t<li>'s7_o3300m.tif.aux.xml'</li>\n",
       "\t<li>'s7_o3300m.tif.ovr'</li>\n",
       "\t<li>'s7_o3300m.tif.xml'</li>\n",
       "\t<li>'w6_so2300m.tfw'</li>\n",
       "\t<li>'w6_so2300m.tif'</li>\n",
       "\t<li>'w6_so2300m.tif.aux.xml'</li>\n",
       "\t<li>'w6_so2300m.tif.ovr'</li>\n",
       "\t<li>'w6_so2300m.tif.xml'</li>\n",
       "\t<li>'w7_so2300m.tfw'</li>\n",
       "\t<li>'w7_so2300m.tif'</li>\n",
       "\t<li>'w7_so2300m.tif.aux.xml'</li>\n",
       "\t<li>'w7_so2300m.tif.ovr'</li>\n",
       "\t<li>'w7_so2300m.tif.xml'</li>\n",
       "</ol>\n"
      ],
      "text/latex": [
       "\\begin{enumerate*}\n",
       "\\item 'aa6\\_bc300m.tfw'\n",
       "\\item 'aa6\\_bc300m.tif'\n",
       "\\item 'aa6\\_bc300m.tif.aux.xml'\n",
       "\\item 'aa6\\_bc300m.tif.ovr'\n",
       "\\item 'aa6\\_bc300m.tif.xml'\n",
       "\\item 'aa6\\_no2300m.tfw'\n",
       "\\item 'aa6\\_no2300m.tif'\n",
       "\\item 'aa6\\_no2300m.tif.aux.xml'\n",
       "\\item 'aa6\\_no2300m.tif.ovr'\n",
       "\\item 'aa6\\_no2300m.tif.xml'\n",
       "\\item 'aa6\\_no300m.tfw'\n",
       "\\item 'aa6\\_no300m.tif'\n",
       "\\item 'aa6\\_no300m.tif.aux.xml'\n",
       "\\item 'aa6\\_no300m.tif.ovr'\n",
       "\\item 'aa6\\_no300m.tif.xml'\n",
       "\\item 'aa6\\_pm300m.tfw'\n",
       "\\item 'aa6\\_pm300m.tif'\n",
       "\\item 'aa6\\_pm300m.tif.aux.xml'\n",
       "\\item 'aa6\\_pm300m.tif.ovr'\n",
       "\\item 'aa6\\_pm300m.tif.xml'\n",
       "\\item 'aa7\\_bc300m.tfw'\n",
       "\\item 'aa7\\_bc300m.tif'\n",
       "\\item 'aa7\\_bc300m.tif.aux.xml'\n",
       "\\item 'aa7\\_bc300m.tif.ovr'\n",
       "\\item 'aa7\\_bc300m.tif.xml'\n",
       "\\item 'aa7\\_no2300m.tfw'\n",
       "\\item 'aa7\\_no2300m.tif'\n",
       "\\item 'aa7\\_no2300m.tif.aux.xml'\n",
       "\\item 'aa7\\_no2300m.tif.ovr'\n",
       "\\item 'aa7\\_no2300m.tif.xml'\n",
       "\\item 'aa7\\_no300m.tfw'\n",
       "\\item 'aa7\\_no300m.tif'\n",
       "\\item 'aa7\\_no300m.tif.aux.xml'\n",
       "\\item 'aa7\\_no300m.tif.ovr'\n",
       "\\item 'aa7\\_no300m.tif.xml'\n",
       "\\item 'aa7\\_pm300m.tfw'\n",
       "\\item 'aa7\\_pm300m.tif'\n",
       "\\item 'aa7\\_pm300m.tif.aux.xml'\n",
       "\\item 'aa7\\_pm300m.tif.ovr'\n",
       "\\item 'aa7\\_pm300m.tif.xml'\n",
       "\\item 's6\\_o3300m.tfw'\n",
       "\\item 's6\\_o3300m.tif'\n",
       "\\item 's6\\_o3300m.tif.aux.xml'\n",
       "\\item 's6\\_o3300m.tif.ovr'\n",
       "\\item 's6\\_o3300m.tif.xml'\n",
       "\\item 's7\\_o3300m.tfw'\n",
       "\\item 's7\\_o3300m.tif'\n",
       "\\item 's7\\_o3300m.tif.aux.xml'\n",
       "\\item 's7\\_o3300m.tif.ovr'\n",
       "\\item 's7\\_o3300m.tif.xml'\n",
       "\\item 'w6\\_so2300m.tfw'\n",
       "\\item 'w6\\_so2300m.tif'\n",
       "\\item 'w6\\_so2300m.tif.aux.xml'\n",
       "\\item 'w6\\_so2300m.tif.ovr'\n",
       "\\item 'w6\\_so2300m.tif.xml'\n",
       "\\item 'w7\\_so2300m.tfw'\n",
       "\\item 'w7\\_so2300m.tif'\n",
       "\\item 'w7\\_so2300m.tif.aux.xml'\n",
       "\\item 'w7\\_so2300m.tif.ovr'\n",
       "\\item 'w7\\_so2300m.tif.xml'\n",
       "\\end{enumerate*}\n"
      ],
      "text/markdown": [
       "1. 'aa6_bc300m.tfw'\n",
       "2. 'aa6_bc300m.tif'\n",
       "3. 'aa6_bc300m.tif.aux.xml'\n",
       "4. 'aa6_bc300m.tif.ovr'\n",
       "5. 'aa6_bc300m.tif.xml'\n",
       "6. 'aa6_no2300m.tfw'\n",
       "7. 'aa6_no2300m.tif'\n",
       "8. 'aa6_no2300m.tif.aux.xml'\n",
       "9. 'aa6_no2300m.tif.ovr'\n",
       "10. 'aa6_no2300m.tif.xml'\n",
       "11. 'aa6_no300m.tfw'\n",
       "12. 'aa6_no300m.tif'\n",
       "13. 'aa6_no300m.tif.aux.xml'\n",
       "14. 'aa6_no300m.tif.ovr'\n",
       "15. 'aa6_no300m.tif.xml'\n",
       "16. 'aa6_pm300m.tfw'\n",
       "17. 'aa6_pm300m.tif'\n",
       "18. 'aa6_pm300m.tif.aux.xml'\n",
       "19. 'aa6_pm300m.tif.ovr'\n",
       "20. 'aa6_pm300m.tif.xml'\n",
       "21. 'aa7_bc300m.tfw'\n",
       "22. 'aa7_bc300m.tif'\n",
       "23. 'aa7_bc300m.tif.aux.xml'\n",
       "24. 'aa7_bc300m.tif.ovr'\n",
       "25. 'aa7_bc300m.tif.xml'\n",
       "26. 'aa7_no2300m.tfw'\n",
       "27. 'aa7_no2300m.tif'\n",
       "28. 'aa7_no2300m.tif.aux.xml'\n",
       "29. 'aa7_no2300m.tif.ovr'\n",
       "30. 'aa7_no2300m.tif.xml'\n",
       "31. 'aa7_no300m.tfw'\n",
       "32. 'aa7_no300m.tif'\n",
       "33. 'aa7_no300m.tif.aux.xml'\n",
       "34. 'aa7_no300m.tif.ovr'\n",
       "35. 'aa7_no300m.tif.xml'\n",
       "36. 'aa7_pm300m.tfw'\n",
       "37. 'aa7_pm300m.tif'\n",
       "38. 'aa7_pm300m.tif.aux.xml'\n",
       "39. 'aa7_pm300m.tif.ovr'\n",
       "40. 'aa7_pm300m.tif.xml'\n",
       "41. 's6_o3300m.tfw'\n",
       "42. 's6_o3300m.tif'\n",
       "43. 's6_o3300m.tif.aux.xml'\n",
       "44. 's6_o3300m.tif.ovr'\n",
       "45. 's6_o3300m.tif.xml'\n",
       "46. 's7_o3300m.tfw'\n",
       "47. 's7_o3300m.tif'\n",
       "48. 's7_o3300m.tif.aux.xml'\n",
       "49. 's7_o3300m.tif.ovr'\n",
       "50. 's7_o3300m.tif.xml'\n",
       "51. 'w6_so2300m.tfw'\n",
       "52. 'w6_so2300m.tif'\n",
       "53. 'w6_so2300m.tif.aux.xml'\n",
       "54. 'w6_so2300m.tif.ovr'\n",
       "55. 'w6_so2300m.tif.xml'\n",
       "56. 'w7_so2300m.tfw'\n",
       "57. 'w7_so2300m.tif'\n",
       "58. 'w7_so2300m.tif.aux.xml'\n",
       "59. 'w7_so2300m.tif.ovr'\n",
       "60. 'w7_so2300m.tif.xml'\n",
       "\n",
       "\n"
      ],
      "text/plain": [
       " [1] \"aa6_bc300m.tfw\"          \"aa6_bc300m.tif\"         \n",
       " [3] \"aa6_bc300m.tif.aux.xml\"  \"aa6_bc300m.tif.ovr\"     \n",
       " [5] \"aa6_bc300m.tif.xml\"      \"aa6_no2300m.tfw\"        \n",
       " [7] \"aa6_no2300m.tif\"         \"aa6_no2300m.tif.aux.xml\"\n",
       " [9] \"aa6_no2300m.tif.ovr\"     \"aa6_no2300m.tif.xml\"    \n",
       "[11] \"aa6_no300m.tfw\"          \"aa6_no300m.tif\"         \n",
       "[13] \"aa6_no300m.tif.aux.xml\"  \"aa6_no300m.tif.ovr\"     \n",
       "[15] \"aa6_no300m.tif.xml\"      \"aa6_pm300m.tfw\"         \n",
       "[17] \"aa6_pm300m.tif\"          \"aa6_pm300m.tif.aux.xml\" \n",
       "[19] \"aa6_pm300m.tif.ovr\"      \"aa6_pm300m.tif.xml\"     \n",
       "[21] \"aa7_bc300m.tfw\"          \"aa7_bc300m.tif\"         \n",
       "[23] \"aa7_bc300m.tif.aux.xml\"  \"aa7_bc300m.tif.ovr\"     \n",
       "[25] \"aa7_bc300m.tif.xml\"      \"aa7_no2300m.tfw\"        \n",
       "[27] \"aa7_no2300m.tif\"         \"aa7_no2300m.tif.aux.xml\"\n",
       "[29] \"aa7_no2300m.tif.ovr\"     \"aa7_no2300m.tif.xml\"    \n",
       "[31] \"aa7_no300m.tfw\"          \"aa7_no300m.tif\"         \n",
       "[33] \"aa7_no300m.tif.aux.xml\"  \"aa7_no300m.tif.ovr\"     \n",
       "[35] \"aa7_no300m.tif.xml\"      \"aa7_pm300m.tfw\"         \n",
       "[37] \"aa7_pm300m.tif\"          \"aa7_pm300m.tif.aux.xml\" \n",
       "[39] \"aa7_pm300m.tif.ovr\"      \"aa7_pm300m.tif.xml\"     \n",
       "[41] \"s6_o3300m.tfw\"           \"s6_o3300m.tif\"          \n",
       "[43] \"s6_o3300m.tif.aux.xml\"   \"s6_o3300m.tif.ovr\"      \n",
       "[45] \"s6_o3300m.tif.xml\"       \"s7_o3300m.tfw\"          \n",
       "[47] \"s7_o3300m.tif\"           \"s7_o3300m.tif.aux.xml\"  \n",
       "[49] \"s7_o3300m.tif.ovr\"       \"s7_o3300m.tif.xml\"      \n",
       "[51] \"w6_so2300m.tfw\"          \"w6_so2300m.tif\"         \n",
       "[53] \"w6_so2300m.tif.aux.xml\"  \"w6_so2300m.tif.ovr\"     \n",
       "[55] \"w6_so2300m.tif.xml\"      \"w7_so2300m.tfw\"         \n",
       "[57] \"w7_so2300m.tif\"          \"w7_so2300m.tif.aux.xml\" \n",
       "[59] \"w7_so2300m.tif.ovr\"      \"w7_so2300m.tif.xml\"     "
      ]
     },
     "metadata": {},
     "output_type": "display_data"
    }
   ],
   "source": [
    "directory <- \"/dsa/data/geospatial/DS8612/nypollution/\"\n",
    "nyc_files <- list.files(directory)\n",
    "nyc_files"
   ]
  },
  {
   "cell_type": "code",
   "execution_count": 5,
   "metadata": {},
   "outputs": [
    {
     "data": {
      "text/html": [
       "<ol>\n",
       "\t<li>'aa6_bc300m'</li>\n",
       "\t<li>'aa6_no2300m'</li>\n",
       "\t<li>'aa6_no300m'</li>\n",
       "\t<li>'aa6_pm300m'</li>\n",
       "\t<li>'aa7_bc300m'</li>\n",
       "\t<li>'aa7_no2300m'</li>\n",
       "\t<li>'aa7_no300m'</li>\n",
       "\t<li>'aa7_pm300m'</li>\n",
       "\t<li>'s6_o3300m'</li>\n",
       "\t<li>'s7_o3300m'</li>\n",
       "\t<li>'w6_so2300m'</li>\n",
       "\t<li>'w7_so2300m'</li>\n",
       "</ol>\n"
      ],
      "text/latex": [
       "\\begin{enumerate}\n",
       "\\item 'aa6\\_bc300m'\n",
       "\\item 'aa6\\_no2300m'\n",
       "\\item 'aa6\\_no300m'\n",
       "\\item 'aa6\\_pm300m'\n",
       "\\item 'aa7\\_bc300m'\n",
       "\\item 'aa7\\_no2300m'\n",
       "\\item 'aa7\\_no300m'\n",
       "\\item 'aa7\\_pm300m'\n",
       "\\item 's6\\_o3300m'\n",
       "\\item 's7\\_o3300m'\n",
       "\\item 'w6\\_so2300m'\n",
       "\\item 'w7\\_so2300m'\n",
       "\\end{enumerate}\n"
      ],
      "text/markdown": [
       "1. 'aa6_bc300m'\n",
       "2. 'aa6_no2300m'\n",
       "3. 'aa6_no300m'\n",
       "4. 'aa6_pm300m'\n",
       "5. 'aa7_bc300m'\n",
       "6. 'aa7_no2300m'\n",
       "7. 'aa7_no300m'\n",
       "8. 'aa7_pm300m'\n",
       "9. 's6_o3300m'\n",
       "10. 's7_o3300m'\n",
       "11. 'w6_so2300m'\n",
       "12. 'w7_so2300m'\n",
       "\n",
       "\n"
      ],
      "text/plain": [
       "[[1]]\n",
       "[1] \"aa6_bc300m\"\n",
       "\n",
       "[[2]]\n",
       "[1] \"aa6_no2300m\"\n",
       "\n",
       "[[3]]\n",
       "[1] \"aa6_no300m\"\n",
       "\n",
       "[[4]]\n",
       "[1] \"aa6_pm300m\"\n",
       "\n",
       "[[5]]\n",
       "[1] \"aa7_bc300m\"\n",
       "\n",
       "[[6]]\n",
       "[1] \"aa7_no2300m\"\n",
       "\n",
       "[[7]]\n",
       "[1] \"aa7_no300m\"\n",
       "\n",
       "[[8]]\n",
       "[1] \"aa7_pm300m\"\n",
       "\n",
       "[[9]]\n",
       "[1] \"s6_o3300m\"\n",
       "\n",
       "[[10]]\n",
       "[1] \"s7_o3300m\"\n",
       "\n",
       "[[11]]\n",
       "[1] \"w6_so2300m\"\n",
       "\n",
       "[[12]]\n",
       "[1] \"w7_so2300m\"\n"
      ]
     },
     "metadata": {},
     "output_type": "display_data"
    }
   ],
   "source": [
    "# only return the filename if it ends in .tif\n",
    "tifs <- lapply(nyc_files, FUN = function(x) {\n",
    "    namesArray <- strsplit(x, '.', fixed = TRUE)\n",
    "    namesArray <- namesArray[[1]]\n",
    "    \n",
    "    if (namesArray[2] == \"tif\" \n",
    "            && length(namesArray) == 2){\n",
    "        return(namesArray[1])\n",
    "    }\n",
    "} )\n",
    "\n",
    "# remove all the NULLs\n",
    "tifs <- tifs[!sapply(tifs, is.null)]\n",
    "tifs"
   ]
  },
  {
   "cell_type": "code",
   "execution_count": 6,
   "metadata": {
    "collapsed": true
   },
   "outputs": [],
   "source": [
    "ext <- \".tif\"\n",
    "bc <- paste(directory, tifs[5], ext, sep = \"\")\n",
    "no <- paste(directory, tifs[7], ext, sep = \"\")\n",
    "\n",
    "bcRaster <- raster(bc)\n",
    "noRaster <- raster(no)"
   ]
  },
  {
   "cell_type": "code",
   "execution_count": 7,
   "metadata": {},
   "outputs": [
    {
     "data": {
      "image/png": "[encoded data removed]",
      "text/plain": [
       "Plot with title “Nitric Oxide”"
      ]
     },
     "metadata": {},
     "output_type": "display_data"
    }
   ],
   "source": [
    "par(mfrow = c(1, 2))\n",
    "\n",
    "plot(bcRaster, main = \"Black Carbon\", axes = FALSE)\n",
    "plot(noRaster, main = \"Nitric Oxide\", axes = FALSE)"
   ]
  },
  {
   "cell_type": "markdown",
   "metadata": {},
   "source": [
    "Implement an iterative routine that automates the computation of linear regression (and prints a summary of the regressions to the screen) \n",
    "\n",
    "and local Moran for at least 3 different levels of spatial aggregation for the aa7_bc (black carbon) and aa7_no (nitric oxide) rasters. \n",
    "\n",
    "Retrieve the z-scores from the local Moran tests. \n"
   ]
  },
  {
   "cell_type": "code",
   "execution_count": 8,
   "metadata": {
    "collapsed": true,
    "scrolled": false
   },
   "outputs": [],
   "source": [
    "getZvalues <- function(aggValues){\n",
    "    \n",
    "    zVals <- list()\n",
    "    rasters <- list()\n",
    "    \n",
    "    for (agg in aggValues){\n",
    "\n",
    "        bcR <- bcRaster\n",
    "        noR <- noRaster\n",
    "    \n",
    "\n",
    "        if (agg > 1){\n",
    "            aggFactor <- c(agg, agg)\n",
    "\n",
    "            bcR <- aggregate(bcR, \n",
    "                              fact = aggFactor, \n",
    "                              fun = mean, \n",
    "                              expand = T)\n",
    "\n",
    "            noR <- aggregate(noR, \n",
    "                             fact = aggFactor,\n",
    "                             fun = mean,\n",
    "                             expand = T)\n",
    "        }\n",
    "        \n",
    "        bcRCopy <- raster(bcR)\n",
    "        noRCopy <- raster(noR)\n",
    "\n",
    "        print(\"\")\n",
    "        print(\"\")\n",
    "        print(paste(\"AGGREGATION FACTOR:\", agg, \"x\", agg, \"...........\"))\n",
    "\n",
    "        lm <- lm(bcR[] ~ noR[])\n",
    "        resids <- as.data.frame(residuals(lm))\n",
    "        resids$id <- row.names(resids)\n",
    "        colnames(resids) <- c(\"resid\", \"id\")\n",
    "\n",
    "        print(\"LINEAR REGRESSION SUMMARY:\")\n",
    "        print(summary(lm))\n",
    "\n",
    "        numcells <- ncell(bcR)\n",
    "        numcols <- ncol(bcR)\n",
    "        numrows <- nrow(bcR)\n",
    "\n",
    "        nb <- cell2nb(numrows, numcols, type = \"rook\", \n",
    "                          torus = FALSE)\n",
    "\n",
    "        listb <- nb2listw(nb, style = \"B\", zero.policy = TRUE)\n",
    "        cellList <- values(bcR)\n",
    "\n",
    "        celldf <- data.frame(cellvalue = cellList)\n",
    "        celldf$id <- row.names(celldf)\n",
    "        celldf$id2 <- row.names(celldf)\n",
    "\n",
    "        cs <- merge(celldf, resids, by.x = \"id\", by.y = \"id\", \n",
    "                        all.x = TRUE, sort = TRUE)\n",
    "\n",
    "        celldf <- cs[order(cs$id), ]\n",
    "\n",
    "        localmoran <- localmoran(celldf$resid, listb, zero.policy = TRUE,\n",
    "                                    na.action = na.exclude, \n",
    "                                    alternative = \"greater\", \n",
    "                                    p.adjust.method = \"none\",\n",
    "                                    mlvar = TRUE,\n",
    "                                    spChk = NULL)\n",
    "        \n",
    "        print(\"--------------------------------\")\n",
    "        print(\"Z VALUES FROM LOCAL MORAN (first 10):\")\n",
    "        \n",
    "        row.names(localmoran) <- NULL\n",
    "        celldf$z <- localmoran[, 4]\n",
    "        zValues <- localmoran[, 4]\n",
    "        \n",
    "        celldf$z[is.na(celldf$z)] <- 0 \n",
    "        zValues[is.na(zValues)] <- 0        \n",
    "        \n",
    "        print(zValues[1:10])\n",
    "        \n",
    "        zVals[[agg]] <- zValues\n",
    "        \n",
    "        for (i in 1:length(zValues)){\n",
    "            newid <- as.numeric(celldf$id[i])\n",
    "            bcRCopy[newid] <- celldf$z[i]\n",
    "        }\n",
    "        \n",
    "        \n",
    "        rasters[[agg]] <- bcRCopy\n",
    "        \n",
    "        print(\"\")\n",
    "        print(\"\")\n",
    "        print(\"==============================================\")\n",
    "        print(\"==============================================\")\n",
    "    }\n",
    "    \n",
    "    results <- list(zVals, rasters)    \n",
    "    return(results)\n",
    "}\n"
   ]
  },
  {
   "cell_type": "code",
   "execution_count": 9,
   "metadata": {
    "scrolled": false
   },
   "outputs": [
    {
     "name": "stdout",
     "output_type": "stream",
     "text": [
      "[1] \"\"\n",
      "[1] \"\"\n",
      "[1] \"AGGREGATION FACTOR: 1 x 1 ...........\"\n",
      "[1] \"LINEAR REGRESSION SUMMARY:\"\n",
      "\n",
      "Call:\n",
      "lm(formula = bcR[] ~ noR[])\n",
      "\n",
      "Residuals:\n",
      "     Min       1Q   Median       3Q      Max \n",
      "-0.39342 -0.12504 -0.02161  0.09712  0.96414 \n",
      "\n",
      "Coefficients:\n",
      "             Estimate Std. Error t value Pr(>|t|)    \n",
      "(Intercept) 0.2209021  0.0065555   33.70   <2e-16 ***\n",
      "noR[]       0.0361566  0.0003639   99.37   <2e-16 ***\n",
      "---\n",
      "Signif. codes:  0 ‘***’ 0.001 ‘**’ 0.01 ‘*’ 0.05 ‘.’ 0.1 ‘ ’ 1\n",
      "\n",
      "Residual standard error: 0.1837 on 8758 degrees of freedom\n",
      "  (15575 observations deleted due to missingness)\n",
      "Multiple R-squared:   0.53,\tAdjusted R-squared:  0.5299 \n",
      "F-statistic:  9874 on 1 and 8758 DF,  p-value: < 2.2e-16\n",
      "\n",
      "[1] \"--------------------------------\"\n",
      "[1] \"Z VALUES FROM LOCAL MORAN (first 10):\"\n",
      " [1]  0.0000000  0.0000000  0.0000000  0.0000000  0.1779139 -0.1582665\n",
      " [7]  0.3030735  0.3395392  0.2019682  0.2040682\n",
      "[1] \"\"\n",
      "[1] \"\"\n",
      "[1] \"==============================================\"\n",
      "[1] \"==============================================\"\n",
      "[1] \"\"\n",
      "[1] \"\"\n",
      "[1] \"AGGREGATION FACTOR: 2 x 2 ...........\"\n",
      "[1] \"LINEAR REGRESSION SUMMARY:\"\n",
      "\n",
      "Call:\n",
      "lm(formula = bcR[] ~ noR[])\n",
      "\n",
      "Residuals:\n",
      "     Min       1Q   Median       3Q      Max \n",
      "-0.33000 -0.12669 -0.01687  0.10017  0.94108 \n",
      "\n",
      "Coefficients:\n",
      "             Estimate Std. Error t value Pr(>|t|)    \n",
      "(Intercept) 0.2022371  0.0127078   15.91   <2e-16 ***\n",
      "noR[]       0.0370045  0.0007155   51.72   <2e-16 ***\n",
      "---\n",
      "Signif. codes:  0 ‘***’ 0.001 ‘**’ 0.01 ‘*’ 0.05 ‘.’ 0.1 ‘ ’ 1\n",
      "\n",
      "Residual standard error: 0.1836 on 2432 degrees of freedom\n",
      "  (3728 observations deleted due to missingness)\n",
      "Multiple R-squared:  0.5238,\tAdjusted R-squared:  0.5236 \n",
      "F-statistic:  2675 on 1 and 2432 DF,  p-value: < 2.2e-16\n",
      "\n",
      "[1] \"--------------------------------\"\n",
      "[1] \"Z VALUES FROM LOCAL MORAN (first 10):\"\n",
      " [1] 0.0000000 0.0000000 0.0000000 2.5139187 2.8350180 2.8887432 1.2178038\n",
      " [8] 0.8213208 0.9057753 1.6499953\n",
      "[1] \"\"\n",
      "[1] \"\"\n",
      "[1] \"==============================================\"\n",
      "[1] \"==============================================\"\n",
      "[1] \"\"\n",
      "[1] \"\"\n",
      "[1] \"AGGREGATION FACTOR: 3 x 3 ...........\"\n",
      "[1] \"LINEAR REGRESSION SUMMARY:\"\n",
      "\n",
      "Call:\n",
      "lm(formula = bcR[] ~ noR[])\n",
      "\n",
      "Residuals:\n",
      "     Min       1Q   Median       3Q      Max \n",
      "-0.30641 -0.12392 -0.01695  0.09692  0.89748 \n",
      "\n",
      "Coefficients:\n",
      "            Estimate Std. Error t value Pr(>|t|)    \n",
      "(Intercept) 0.186875   0.018625   10.03   <2e-16 ***\n",
      "noR[]       0.037681   0.001061   35.51   <2e-16 ***\n",
      "---\n",
      "Signif. codes:  0 ‘***’ 0.001 ‘**’ 0.01 ‘*’ 0.05 ‘.’ 0.1 ‘ ’ 1\n",
      "\n",
      "Residual standard error: 0.1822 on 1163 degrees of freedom\n",
      "  (1591 observations deleted due to missingness)\n",
      "Multiple R-squared:  0.5202,\tAdjusted R-squared:  0.5198 \n",
      "F-statistic:  1261 on 1 and 1163 DF,  p-value: < 2.2e-16\n",
      "\n",
      "[1] \"--------------------------------\"\n",
      "[1] \"Z VALUES FROM LOCAL MORAN (first 10):\"\n",
      " [1] 0.000000000 0.000000000 0.000000000 0.039622101 0.168826705 0.087455538\n",
      " [7] 0.007343797 0.281343474 0.335160727 0.000000000\n",
      "[1] \"\"\n",
      "[1] \"\"\n",
      "[1] \"==============================================\"\n",
      "[1] \"==============================================\"\n"
     ]
    }
   ],
   "source": [
    "aggValues <- cbind(1, 2, 3)\n",
    "res <- getZvalues(aggValues)"
   ]
  },
  {
   "cell_type": "markdown",
   "metadata": {},
   "source": [
    "\n",
    "Iteratively retrieve the rasters output from the previous task using a looping routine. \n",
    "\n",
    "For three of the levels of aggregation, plot the z-scores associate with the 0.90 and 0.95 confidence levels in a side-by-side plot (legends should have 5 categories). \n",
    "\n"
   ]
  },
  {
   "cell_type": "code",
   "execution_count": 10,
   "metadata": {},
   "outputs": [
    {
     "data": {
      "text/html": [
       "2"
      ],
      "text/latex": [
       "2"
      ],
      "text/markdown": [
       "2"
      ],
      "text/plain": [
       "[1] 2"
      ]
     },
     "metadata": {},
     "output_type": "display_data"
    }
   ],
   "source": [
    "length(res)"
   ]
  },
  {
   "cell_type": "code",
   "execution_count": 11,
   "metadata": {},
   "outputs": [
    {
     "data": {
      "text/html": [
       "3"
      ],
      "text/latex": [
       "3"
      ],
      "text/markdown": [
       "3"
      ],
      "text/plain": [
       "[1] 3"
      ]
     },
     "metadata": {},
     "output_type": "display_data"
    }
   ],
   "source": [
    "zScores <- res[[1]]\n",
    "length(zScores)"
   ]
  },
  {
   "cell_type": "code",
   "execution_count": 12,
   "metadata": {},
   "outputs": [
    {
     "data": {
      "text/html": [
       "3"
      ],
      "text/latex": [
       "3"
      ],
      "text/markdown": [
       "3"
      ],
      "text/plain": [
       "[1] 3"
      ]
     },
     "metadata": {},
     "output_type": "display_data"
    }
   ],
   "source": [
    "rasters <- res[[2]]\n",
    "length(rasters)"
   ]
  },
  {
   "cell_type": "code",
   "execution_count": 13,
   "metadata": {},
   "outputs": [
    {
     "data": {
      "text/html": [
       "<ol class=list-inline>\n",
       "\t<li>0</li>\n",
       "\t<li>0</li>\n",
       "\t<li>0</li>\n",
       "\t<li>0</li>\n",
       "\t<li>0.177913935303882</li>\n",
       "</ol>\n"
      ],
      "text/latex": [
       "\\begin{enumerate*}\n",
       "\\item 0\n",
       "\\item 0\n",
       "\\item 0\n",
       "\\item 0\n",
       "\\item 0.177913935303882\n",
       "\\end{enumerate*}\n"
      ],
      "text/markdown": [
       "1. 0\n",
       "2. 0\n",
       "3. 0\n",
       "4. 0\n",
       "5. 0.177913935303882\n",
       "\n",
       "\n"
      ],
      "text/plain": [
       "[1] 0.0000000 0.0000000 0.0000000 0.0000000 0.1779139"
      ]
     },
     "metadata": {},
     "output_type": "display_data"
    }
   ],
   "source": [
    "z1 <- zScores[[1]]\n",
    "z1[1:5]"
   ]
  },
  {
   "cell_type": "code",
   "execution_count": 21,
   "metadata": {
    "scrolled": false
   },
   "outputs": [
    {
     "data": {
      "text/html": [
       "<ol class=list-inline>\n",
       "\t<li><span style=white-space:pre-wrap>'0.9   1.64485362695147'</span></li>\n",
       "\t<li><span style=white-space:pre-wrap>'0.95   1.95996398454005'</span></li>\n",
       "</ol>\n"
      ],
      "text/latex": [
       "\\begin{enumerate*}\n",
       "\\item '0.9   1.64485362695147'\n",
       "\\item '0.95   1.95996398454005'\n",
       "\\end{enumerate*}\n"
      ],
      "text/markdown": [
       "1. <span style=white-space:pre-wrap>'0.9   1.64485362695147'</span>\n",
       "2. <span style=white-space:pre-wrap>'0.95   1.95996398454005'</span>\n",
       "\n",
       "\n"
      ],
      "text/plain": [
       "[1] \"0.9   1.64485362695147\"  \"0.95   1.95996398454005\""
      ]
     },
     "metadata": {},
     "output_type": "display_data"
    },
    {
     "data": {
      "image/png": "[encoded data removed]",
      "text/plain": [
       "Plot with title “Z-Scores for Raster 3”"
      ]
     },
     "metadata": {},
     "output_type": "display_data"
    }
   ],
   "source": [
    "zNormal <- list()\n",
    "probsU <- c(0.90, 0.95)\n",
    "i <- 1\n",
    "\n",
    "for (pr in probsU){\n",
    "    inpr <- 1 - ((1 - pr)/2)\n",
    "    errorZ <- qnorm(inpr, lower.tail = TRUE)\n",
    "    zNormal[[i]] <- 0 + errorZ\n",
    "    i <- i + 1\n",
    "}\n",
    "\n",
    "zM <- unlist(zNormal)\n",
    "paste(probsU,zM,sep=\"   \")\n",
    "\n",
    "par(mfrow=c(1,3))\n",
    "\n",
    "j <- 1\n",
    "for (r in rasters){\n",
    "    \n",
    "    ncz1 <- 4 + length(zM) - 1\n",
    "    ncz2 <- 4 + length(zM)\n",
    "    zMIi <- zScores[[j]]\n",
    "    \n",
    "    zM.MIi <- classIntervals(zMIi, n = ncz1, \n",
    "                                style = \"fixed\", \n",
    "                                fixedBreaks = c(min(zMIi), -zM, zM, max(zMIi)))\n",
    "    \n",
    "    pal <- c(\"blue\", \"lightblue\", \"white\", \"red1\", \"red4\")\n",
    "    cols.MIi <- findColours(zM.MIi, pal)\n",
    "    plot(r, col = cols.MIi, lwd = 0.2, main = paste(\"Z-Scores for Raster\", j))\n",
    "    brks <- round(zM.MIi$brks, ncz2)\n",
    "    leg <- paste(brks[-ncz2], brks[-1], sep = \" - \")\n",
    "    legend(\"topleft\", fill = pal, legend = leg, \n",
    "               bty = \"n\", title = \"Z-Scores\", cex = 0.8)\n",
    "    \n",
    "    j <- j + 1\n",
    "}"
   ]
  }
 ],
 "metadata": {
  "kernelspec": {
   "display_name": "R",
   "language": "R",
   "name": "ir"
  },
  "language_info": {
   "codemirror_mode": "r",
   "file_extension": ".r",
   "mimetype": "text/x-r-source",
   "name": "R",
   "pygments_lexer": "r",
   "version": "3.4.1"
  }
 },
 "nbformat": 4,
 "nbformat_minor": 2
}
