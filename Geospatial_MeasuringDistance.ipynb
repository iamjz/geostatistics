{
 "cells": [
  {
   "cell_type": "markdown",
   "metadata": {},
   "source": [
    "# Measuring Distance"
   ]
  },
  {
   "cell_type": "code",
   "execution_count": 1,
   "metadata": {},
   "outputs": [
    {
     "name": "stderr",
     "output_type": "stream",
     "text": [
      "Warning message:\n",
      "\"package 'rgdal' was built under R version 3.4.2\"Warning message:\n",
      "\"package 'sp' was built under R version 3.4.2\""
     ]
    },
    {
     "name": "stdout",
     "output_type": "stream",
     "text": [
      "[1] \"Warning:   geosphere  is not an installed package\"\n"
     ]
    }
   ],
   "source": [
    "# Load relevant R packages\n",
    "inLibraries = list('repr','rgdal','sp','geosphere')\n",
    "for (rpack in inLibraries) {\n",
    "  if (is.element(rpack,installed.packages()[,1])){           \n",
    "      #Load the library into R\n",
    "      suppressMessages(library(rpack,character.only = TRUE))\n",
    "    }\n",
    "    else {\n",
    "        print(paste(\"Warning:  \",rpack,\" is not an installed package\"))\n",
    "    }\n",
    "}\n",
    "#resize plot area\n",
    "options(repr.plot.width=6, repr.plot.height=6)"
   ]
  },
  {
   "cell_type": "code",
   "execution_count": 2,
   "metadata": {},
   "outputs": [
    {
     "name": "stdout",
     "output_type": "stream",
     "text": [
      "OGR data source with driver: ESRI Shapefile \n",
      "Source: \"datasets/european_airports\", layer: \"EuropeanAirports2006\"\n",
      "with 1884 features\n",
      "It has 10 fields\n"
     ]
    }
   ],
   "source": [
    "#Read in point featureclass\n",
    "ppoints <- readOGR(\"datasets/european_airports\",\"EuropeanAirports2006\")"
   ]
  },
  {
   "cell_type": "code",
   "execution_count": 3,
   "metadata": {},
   "outputs": [
    {
     "data": {
      "text/html": [
       "<table>\n",
       "<thead><tr><th scope=col>LONGITUDE</th><th scope=col>LATITUDE</th><th scope=col>CODE</th><th scope=col>NAME</th><th scope=col>CITY</th><th scope=col>COUNTRY</th><th scope=col>C_NAME</th><th scope=col>OUTFLOW</th><th scope=col>INFLOW</th><th scope=col>TOTALFLOW</th></tr></thead>\n",
       "<tbody>\n",
       "\t<tr><td>-25170000              </td><td>36970000               </td><td>SMA                    </td><td>Vila Do Porto          </td><td>Santa Maria            </td><td>PT                     </td><td>Portugal               </td><td> 939.75                </td><td>  939.75               </td><td> 1879.50               </td></tr>\n",
       "\t<tr><td>-28720000              </td><td>38520000               </td><td>HOR                    </td><td>Horta                  </td><td>Horta, Faial Is.       </td><td>PT                     </td><td>Portugal               </td><td>3026.50                </td><td> 3023.50               </td><td> 6050.00               </td></tr>\n",
       "\t<tr><td>-28330000              </td><td>38470000               </td><td>PIX                    </td><td>Pico Island            </td><td>Pico Island            </td><td>PT                     </td><td>Portugal               </td><td> 826.75                </td><td>  986.50               </td><td> 1813.25               </td></tr>\n",
       "\t<tr><td>-27090000              </td><td>38760000               </td><td>TER                    </td><td>Lajes                  </td><td>Terceira               </td><td>PT                     </td><td>Portugal               </td><td>6621.00                </td><td> 6424.25               </td><td>13045.25               </td></tr>\n",
       "\t<tr><td>-25680000              </td><td>37750000               </td><td>PDL                    </td><td>Nordela                </td><td>Ponta Delgada          </td><td>PT                     </td><td>Portugal               </td><td>9990.50                </td><td>10149.00               </td><td>20139.50               </td></tr>\n",
       "\t<tr><td>-23170000              </td><td>64970000               </td><td>GUU                    </td><td>Grundarf Jordur Airport</td><td>Grundarf Jordur        </td><td>IS                     </td><td>Iceland                </td><td>   0.00                </td><td>    0.00               </td><td>    0.00               </td></tr>\n",
       "</tbody>\n",
       "</table>\n"
      ],
      "text/latex": [
       "\\begin{tabular}{r|llllllllll}\n",
       " LONGITUDE & LATITUDE & CODE & NAME & CITY & COUNTRY & C\\_NAME & OUTFLOW & INFLOW & TOTALFLOW\\\\\n",
       "\\hline\n",
       "\t -25170000               & 36970000                & SMA                     & Vila Do Porto           & Santa Maria             & PT                      & Portugal                &  939.75                 &   939.75                &  1879.50               \\\\\n",
       "\t -28720000               & 38520000                & HOR                     & Horta                   & Horta, Faial Is.        & PT                      & Portugal                & 3026.50                 &  3023.50                &  6050.00               \\\\\n",
       "\t -28330000               & 38470000                & PIX                     & Pico Island             & Pico Island             & PT                      & Portugal                &  826.75                 &   986.50                &  1813.25               \\\\\n",
       "\t -27090000               & 38760000                & TER                     & Lajes                   & Terceira                & PT                      & Portugal                & 6621.00                 &  6424.25                & 13045.25               \\\\\n",
       "\t -25680000               & 37750000                & PDL                     & Nordela                 & Ponta Delgada           & PT                      & Portugal                & 9990.50                 & 10149.00                & 20139.50               \\\\\n",
       "\t -23170000               & 64970000                & GUU                     & Grundarf Jordur Airport & Grundarf Jordur         & IS                      & Iceland                 &    0.00                 &     0.00                &     0.00               \\\\\n",
       "\\end{tabular}\n"
      ],
      "text/markdown": [
       "\n",
       "LONGITUDE | LATITUDE | CODE | NAME | CITY | COUNTRY | C_NAME | OUTFLOW | INFLOW | TOTALFLOW | \n",
       "|---|---|---|---|---|---|\n",
       "| -25170000               | 36970000                | SMA                     | Vila Do Porto           | Santa Maria             | PT                      | Portugal                |  939.75                 |   939.75                |  1879.50                | \n",
       "| -28720000               | 38520000                | HOR                     | Horta                   | Horta, Faial Is.        | PT                      | Portugal                | 3026.50                 |  3023.50                |  6050.00                | \n",
       "| -28330000               | 38470000                | PIX                     | Pico Island             | Pico Island             | PT                      | Portugal                |  826.75                 |   986.50                |  1813.25                | \n",
       "| -27090000               | 38760000                | TER                     | Lajes                   | Terceira                | PT                      | Portugal                | 6621.00                 |  6424.25                | 13045.25                | \n",
       "| -25680000               | 37750000                | PDL                     | Nordela                 | Ponta Delgada           | PT                      | Portugal                | 9990.50                 | 10149.00                | 20139.50                | \n",
       "| -23170000               | 64970000                | GUU                     | Grundarf Jordur Airport | Grundarf Jordur         | IS                      | Iceland                 |    0.00                 |     0.00                |     0.00                | \n",
       "\n",
       "\n"
      ],
      "text/plain": [
       "  LONGITUDE LATITUDE CODE NAME                    CITY             COUNTRY\n",
       "1 -25170000 36970000 SMA  Vila Do Porto           Santa Maria      PT     \n",
       "2 -28720000 38520000 HOR  Horta                   Horta, Faial Is. PT     \n",
       "3 -28330000 38470000 PIX  Pico Island             Pico Island      PT     \n",
       "4 -27090000 38760000 TER  Lajes                   Terceira         PT     \n",
       "5 -25680000 37750000 PDL  Nordela                 Ponta Delgada    PT     \n",
       "6 -23170000 64970000 GUU  Grundarf Jordur Airport Grundarf Jordur  IS     \n",
       "  C_NAME   OUTFLOW INFLOW   TOTALFLOW\n",
       "1 Portugal  939.75   939.75  1879.50 \n",
       "2 Portugal 3026.50  3023.50  6050.00 \n",
       "3 Portugal  826.75   986.50  1813.25 \n",
       "4 Portugal 6621.00  6424.25 13045.25 \n",
       "5 Portugal 9990.50 10149.00 20139.50 \n",
       "6 Iceland     0.00     0.00     0.00 "
      ]
     },
     "metadata": {},
     "output_type": "display_data"
    }
   ],
   "source": [
    "head(ppoints@data)"
   ]
  },
  {
   "cell_type": "code",
   "execution_count": 4,
   "metadata": {},
   "outputs": [
    {
     "data": {
      "image/png": "[encoded data removed]",
      "text/plain": [
       "Plot with title \"Airports\""
      ]
     },
     "metadata": {},
     "output_type": "display_data"
    }
   ],
   "source": [
    "#Add the point features to the display\n",
    "\n",
    "plot(ppoints, pch = 21, bg = \"blue\", col = \"blue\", \n",
    "         lwd = .5, cex = .4, main=\"Airports\", cex.main = .8)"
   ]
  },
  {
   "cell_type": "markdown",
   "metadata": {},
   "source": [
    "### Retrieve the CRS of the input point data\n",
    "\n",
    "Retrieve the CRS associated with the input data. The proj4string() function is a subset of the is.projected() function. "
   ]
  },
  {
   "cell_type": "code",
   "execution_count": 5,
   "metadata": {},
   "outputs": [
    {
     "data": {
      "text/html": [
       "'+proj=merc +lon_0=0 +lat_ts=0 +x_0=0 +y_0=0 +datum=WGS84 +units=m +no_defs +ellps=WGS84 +towgs84=0,0,0'"
      ],
      "text/latex": [
       "'+proj=merc +lon\\_0=0 +lat\\_ts=0 +x\\_0=0 +y\\_0=0 +datum=WGS84 +units=m +no\\_defs +ellps=WGS84 +towgs84=0,0,0'"
      ],
      "text/markdown": [
       "'+proj=merc +lon_0=0 +lat_ts=0 +x_0=0 +y_0=0 +datum=WGS84 +units=m +no_defs +ellps=WGS84 +towgs84=0,0,0'"
      ],
      "text/plain": [
       "[1] \"+proj=merc +lon_0=0 +lat_ts=0 +x_0=0 +y_0=0 +datum=WGS84 +units=m +no_defs +ellps=WGS84 +towgs84=0,0,0\""
      ]
     },
     "metadata": {},
     "output_type": "display_data"
    }
   ],
   "source": [
    "# Show projection system information\n",
    "proj4string (ppoints)"
   ]
  },
  {
   "cell_type": "markdown",
   "metadata": {},
   "source": [
    "### Select a Pair of Points\n",
    "\n",
    "Let's select a pair of points that are relatively far apart.  One point is the airport coded 'AAH' while the other is the airport coded 'ZIL'. Plot these selected points relative to the others. Feel free to experiment with other point pairs after you complete this lab."
   ]
  },
  {
   "cell_type": "code",
   "execution_count": 7,
   "metadata": {},
   "outputs": [
    {
     "data": {
      "text/html": [
       "<table>\n",
       "<thead><tr><th scope=col>LONGITUDE</th><th scope=col>LATITUDE</th><th scope=col>CODE</th><th scope=col>NAME</th><th scope=col>CITY</th><th scope=col>COUNTRY</th><th scope=col>C_NAME</th><th scope=col>OUTFLOW</th><th scope=col>INFLOW</th><th scope=col>TOTALFLOW</th></tr></thead>\n",
       "<tbody>\n",
       "\t<tr><td>-25170000              </td><td>36970000               </td><td>SMA                    </td><td>Vila Do Porto          </td><td>Santa Maria            </td><td>PT                     </td><td>Portugal               </td><td> 939.75                </td><td>  939.75               </td><td> 1879.50               </td></tr>\n",
       "\t<tr><td>-28720000              </td><td>38520000               </td><td>HOR                    </td><td>Horta                  </td><td>Horta, Faial Is.       </td><td>PT                     </td><td>Portugal               </td><td>3026.50                </td><td> 3023.50               </td><td> 6050.00               </td></tr>\n",
       "\t<tr><td>-28330000              </td><td>38470000               </td><td>PIX                    </td><td>Pico Island            </td><td>Pico Island            </td><td>PT                     </td><td>Portugal               </td><td> 826.75                </td><td>  986.50               </td><td> 1813.25               </td></tr>\n",
       "\t<tr><td>-27090000              </td><td>38760000               </td><td>TER                    </td><td>Lajes                  </td><td>Terceira               </td><td>PT                     </td><td>Portugal               </td><td>6621.00                </td><td> 6424.25               </td><td>13045.25               </td></tr>\n",
       "\t<tr><td>-25680000              </td><td>37750000               </td><td>PDL                    </td><td>Nordela                </td><td>Ponta Delgada          </td><td>PT                     </td><td>Portugal               </td><td>9990.50                </td><td>10149.00               </td><td>20139.50               </td></tr>\n",
       "\t<tr><td>-23170000              </td><td>64970000               </td><td>GUU                    </td><td>Grundarf Jordur Airport</td><td>Grundarf Jordur        </td><td>IS                     </td><td>Iceland                </td><td>   0.00                </td><td>    0.00               </td><td>    0.00               </td></tr>\n",
       "</tbody>\n",
       "</table>\n"
      ],
      "text/latex": [
       "\\begin{tabular}{r|llllllllll}\n",
       " LONGITUDE & LATITUDE & CODE & NAME & CITY & COUNTRY & C\\_NAME & OUTFLOW & INFLOW & TOTALFLOW\\\\\n",
       "\\hline\n",
       "\t -25170000               & 36970000                & SMA                     & Vila Do Porto           & Santa Maria             & PT                      & Portugal                &  939.75                 &   939.75                &  1879.50               \\\\\n",
       "\t -28720000               & 38520000                & HOR                     & Horta                   & Horta, Faial Is.        & PT                      & Portugal                & 3026.50                 &  3023.50                &  6050.00               \\\\\n",
       "\t -28330000               & 38470000                & PIX                     & Pico Island             & Pico Island             & PT                      & Portugal                &  826.75                 &   986.50                &  1813.25               \\\\\n",
       "\t -27090000               & 38760000                & TER                     & Lajes                   & Terceira                & PT                      & Portugal                & 6621.00                 &  6424.25                & 13045.25               \\\\\n",
       "\t -25680000               & 37750000                & PDL                     & Nordela                 & Ponta Delgada           & PT                      & Portugal                & 9990.50                 & 10149.00                & 20139.50               \\\\\n",
       "\t -23170000               & 64970000                & GUU                     & Grundarf Jordur Airport & Grundarf Jordur         & IS                      & Iceland                 &    0.00                 &     0.00                &     0.00               \\\\\n",
       "\\end{tabular}\n"
      ],
      "text/markdown": [
       "\n",
       "LONGITUDE | LATITUDE | CODE | NAME | CITY | COUNTRY | C_NAME | OUTFLOW | INFLOW | TOTALFLOW | \n",
       "|---|---|---|---|---|---|\n",
       "| -25170000               | 36970000                | SMA                     | Vila Do Porto           | Santa Maria             | PT                      | Portugal                |  939.75                 |   939.75                |  1879.50                | \n",
       "| -28720000               | 38520000                | HOR                     | Horta                   | Horta, Faial Is.        | PT                      | Portugal                | 3026.50                 |  3023.50                |  6050.00                | \n",
       "| -28330000               | 38470000                | PIX                     | Pico Island             | Pico Island             | PT                      | Portugal                |  826.75                 |   986.50                |  1813.25                | \n",
       "| -27090000               | 38760000                | TER                     | Lajes                   | Terceira                | PT                      | Portugal                | 6621.00                 |  6424.25                | 13045.25                | \n",
       "| -25680000               | 37750000                | PDL                     | Nordela                 | Ponta Delgada           | PT                      | Portugal                | 9990.50                 | 10149.00                | 20139.50                | \n",
       "| -23170000               | 64970000                | GUU                     | Grundarf Jordur Airport | Grundarf Jordur         | IS                      | Iceland                 |    0.00                 |     0.00                |     0.00                | \n",
       "\n",
       "\n"
      ],
      "text/plain": [
       "  LONGITUDE LATITUDE CODE NAME                    CITY             COUNTRY\n",
       "1 -25170000 36970000 SMA  Vila Do Porto           Santa Maria      PT     \n",
       "2 -28720000 38520000 HOR  Horta                   Horta, Faial Is. PT     \n",
       "3 -28330000 38470000 PIX  Pico Island             Pico Island      PT     \n",
       "4 -27090000 38760000 TER  Lajes                   Terceira         PT     \n",
       "5 -25680000 37750000 PDL  Nordela                 Ponta Delgada    PT     \n",
       "6 -23170000 64970000 GUU  Grundarf Jordur Airport Grundarf Jordur  IS     \n",
       "  C_NAME   OUTFLOW INFLOW   TOTALFLOW\n",
       "1 Portugal  939.75   939.75  1879.50 \n",
       "2 Portugal 3026.50  3023.50  6050.00 \n",
       "3 Portugal  826.75   986.50  1813.25 \n",
       "4 Portugal 6621.00  6424.25 13045.25 \n",
       "5 Portugal 9990.50 10149.00 20139.50 \n",
       "6 Iceland     0.00     0.00     0.00 "
      ]
     },
     "metadata": {},
     "output_type": "display_data"
    }
   ],
   "source": [
    "peek <- head(ppoints@data)\n",
    "peek"
   ]
  },
  {
   "cell_type": "code",
   "execution_count": 8,
   "metadata": {},
   "outputs": [
    {
     "data": {
      "text/html": [
       "<table>\n",
       "<thead><tr><th scope=col>LONGITUDE</th><th scope=col>LATITUDE</th><th scope=col>CODE</th><th scope=col>NAME</th><th scope=col>CITY</th><th scope=col>COUNTRY</th><th scope=col>C_NAME</th><th scope=col>OUTFLOW</th><th scope=col>INFLOW</th><th scope=col>TOTALFLOW</th></tr></thead>\n",
       "<tbody>\n",
       "\t<tr><td>-25170000              </td><td>36970000               </td><td>SMA                    </td><td>Vila Do Porto          </td><td>Santa Maria            </td><td>PT                     </td><td>Portugal               </td><td> 939.75                </td><td>  939.75               </td><td> 1879.50               </td></tr>\n",
       "\t<tr><td>-28720000              </td><td>38520000               </td><td>HOR                    </td><td>Horta                  </td><td>Horta, Faial Is.       </td><td>PT                     </td><td>Portugal               </td><td>3026.50                </td><td> 3023.50               </td><td> 6050.00               </td></tr>\n",
       "\t<tr><td>-28330000              </td><td>38470000               </td><td>PIX                    </td><td>Pico Island            </td><td>Pico Island            </td><td>PT                     </td><td>Portugal               </td><td> 826.75                </td><td>  986.50               </td><td> 1813.25               </td></tr>\n",
       "\t<tr><td>-27090000              </td><td>38760000               </td><td>TER                    </td><td>Lajes                  </td><td>Terceira               </td><td>PT                     </td><td>Portugal               </td><td>6621.00                </td><td> 6424.25               </td><td>13045.25               </td></tr>\n",
       "\t<tr><td>-25680000              </td><td>37750000               </td><td>PDL                    </td><td>Nordela                </td><td>Ponta Delgada          </td><td>PT                     </td><td>Portugal               </td><td>9990.50                </td><td>10149.00               </td><td>20139.50               </td></tr>\n",
       "\t<tr><td>-23170000              </td><td>64970000               </td><td>GUU                    </td><td>Grundarf Jordur Airport</td><td>Grundarf Jordur        </td><td>IS                     </td><td>Iceland                </td><td>   0.00                </td><td>    0.00               </td><td>    0.00               </td></tr>\n",
       "</tbody>\n",
       "</table>\n"
      ],
      "text/latex": [
       "\\begin{tabular}{r|llllllllll}\n",
       " LONGITUDE & LATITUDE & CODE & NAME & CITY & COUNTRY & C\\_NAME & OUTFLOW & INFLOW & TOTALFLOW\\\\\n",
       "\\hline\n",
       "\t -25170000               & 36970000                & SMA                     & Vila Do Porto           & Santa Maria             & PT                      & Portugal                &  939.75                 &   939.75                &  1879.50               \\\\\n",
       "\t -28720000               & 38520000                & HOR                     & Horta                   & Horta, Faial Is.        & PT                      & Portugal                & 3026.50                 &  3023.50                &  6050.00               \\\\\n",
       "\t -28330000               & 38470000                & PIX                     & Pico Island             & Pico Island             & PT                      & Portugal                &  826.75                 &   986.50                &  1813.25               \\\\\n",
       "\t -27090000               & 38760000                & TER                     & Lajes                   & Terceira                & PT                      & Portugal                & 6621.00                 &  6424.25                & 13045.25               \\\\\n",
       "\t -25680000               & 37750000                & PDL                     & Nordela                 & Ponta Delgada           & PT                      & Portugal                & 9990.50                 & 10149.00                & 20139.50               \\\\\n",
       "\t -23170000               & 64970000                & GUU                     & Grundarf Jordur Airport & Grundarf Jordur         & IS                      & Iceland                 &    0.00                 &     0.00                &     0.00               \\\\\n",
       "\\end{tabular}\n"
      ],
      "text/markdown": [
       "\n",
       "LONGITUDE | LATITUDE | CODE | NAME | CITY | COUNTRY | C_NAME | OUTFLOW | INFLOW | TOTALFLOW | \n",
       "|---|---|---|---|---|---|\n",
       "| -25170000               | 36970000                | SMA                     | Vila Do Porto           | Santa Maria             | PT                      | Portugal                |  939.75                 |   939.75                |  1879.50                | \n",
       "| -28720000               | 38520000                | HOR                     | Horta                   | Horta, Faial Is.        | PT                      | Portugal                | 3026.50                 |  3023.50                |  6050.00                | \n",
       "| -28330000               | 38470000                | PIX                     | Pico Island             | Pico Island             | PT                      | Portugal                |  826.75                 |   986.50                |  1813.25                | \n",
       "| -27090000               | 38760000                | TER                     | Lajes                   | Terceira                | PT                      | Portugal                | 6621.00                 |  6424.25                | 13045.25                | \n",
       "| -25680000               | 37750000                | PDL                     | Nordela                 | Ponta Delgada           | PT                      | Portugal                | 9990.50                 | 10149.00                | 20139.50                | \n",
       "| -23170000               | 64970000                | GUU                     | Grundarf Jordur Airport | Grundarf Jordur         | IS                      | Iceland                 |    0.00                 |     0.00                |     0.00                | \n",
       "\n",
       "\n"
      ],
      "text/plain": [
       "  LONGITUDE LATITUDE CODE NAME                    CITY             COUNTRY\n",
       "1 -25170000 36970000 SMA  Vila Do Porto           Santa Maria      PT     \n",
       "2 -28720000 38520000 HOR  Horta                   Horta, Faial Is. PT     \n",
       "3 -28330000 38470000 PIX  Pico Island             Pico Island      PT     \n",
       "4 -27090000 38760000 TER  Lajes                   Terceira         PT     \n",
       "5 -25680000 37750000 PDL  Nordela                 Ponta Delgada    PT     \n",
       "6 -23170000 64970000 GUU  Grundarf Jordur Airport Grundarf Jordur  IS     \n",
       "  C_NAME   OUTFLOW INFLOW   TOTALFLOW\n",
       "1 Portugal  939.75   939.75  1879.50 \n",
       "2 Portugal 3026.50  3023.50  6050.00 \n",
       "3 Portugal  826.75   986.50  1813.25 \n",
       "4 Portugal 6621.00  6424.25 13045.25 \n",
       "5 Portugal 9990.50 10149.00 20139.50 \n",
       "6 Iceland     0.00     0.00     0.00 "
      ]
     },
     "metadata": {},
     "output_type": "display_data"
    }
   ],
   "source": [
    "data <- ppoints@data\n",
    "head(data)"
   ]
  },
  {
   "cell_type": "code",
   "execution_count": 9,
   "metadata": {},
   "outputs": [
    {
     "data": {
      "text/html": [
       "<table>\n",
       "<thead><tr><th></th><th scope=col>LONGITUDE</th><th scope=col>LATITUDE</th><th scope=col>CODE</th><th scope=col>NAME</th><th scope=col>CITY</th><th scope=col>COUNTRY</th><th scope=col>C_NAME</th><th scope=col>OUTFLOW</th><th scope=col>INFLOW</th><th scope=col>TOTALFLOW</th></tr></thead>\n",
       "<tbody>\n",
       "\t<tr><th scope=row>1021</th><td>6130000 </td><td>50750000</td><td>AAH     </td><td>Aachen  </td><td>Aachen  </td><td>DE      </td><td>Germany </td><td>0       </td><td>0       </td><td>0       </td></tr>\n",
       "</tbody>\n",
       "</table>\n"
      ],
      "text/latex": [
       "\\begin{tabular}{r|llllllllll}\n",
       "  & LONGITUDE & LATITUDE & CODE & NAME & CITY & COUNTRY & C\\_NAME & OUTFLOW & INFLOW & TOTALFLOW\\\\\n",
       "\\hline\n",
       "\t1021 & 6130000  & 50750000 & AAH      & Aachen   & Aachen   & DE       & Germany  & 0        & 0        & 0       \\\\\n",
       "\\end{tabular}\n"
      ],
      "text/markdown": [
       "\n",
       "| <!--/--> | LONGITUDE | LATITUDE | CODE | NAME | CITY | COUNTRY | C_NAME | OUTFLOW | INFLOW | TOTALFLOW | \n",
       "|---|\n",
       "| 1021 | 6130000  | 50750000 | AAH      | Aachen   | Aachen   | DE       | Germany  | 0        | 0        | 0        | \n",
       "\n",
       "\n"
      ],
      "text/plain": [
       "     LONGITUDE LATITUDE CODE NAME   CITY   COUNTRY C_NAME  OUTFLOW INFLOW\n",
       "1021 6130000   50750000 AAH  Aachen Aachen DE      Germany 0       0     \n",
       "     TOTALFLOW\n",
       "1021 0        "
      ]
     },
     "metadata": {},
     "output_type": "display_data"
    }
   ],
   "source": [
    "subset(data, CODE == \"AAH\")"
   ]
  },
  {
   "cell_type": "code",
   "execution_count": 10,
   "metadata": {},
   "outputs": [
    {
     "data": {
      "text/html": [
       "<table>\n",
       "<thead><tr><th></th><th scope=col>LONGITUDE</th><th scope=col>LATITUDE</th><th scope=col>CODE</th><th scope=col>NAME</th><th scope=col>CITY</th><th scope=col>COUNTRY</th><th scope=col>C_NAME</th><th scope=col>OUTFLOW</th><th scope=col>INFLOW</th><th scope=col>TOTALFLOW</th></tr></thead>\n",
       "<tbody>\n",
       "\t<tr><th scope=row>1843</th><td>55620000   </td><td>61990000   </td><td>ZIL        </td><td>Bus Service</td><td>Horsens    </td><td>DK         </td><td>Denmark    </td><td>0          </td><td>0          </td><td>0          </td></tr>\n",
       "</tbody>\n",
       "</table>\n"
      ],
      "text/latex": [
       "\\begin{tabular}{r|llllllllll}\n",
       "  & LONGITUDE & LATITUDE & CODE & NAME & CITY & COUNTRY & C\\_NAME & OUTFLOW & INFLOW & TOTALFLOW\\\\\n",
       "\\hline\n",
       "\t1843 & 55620000    & 61990000    & ZIL         & Bus Service & Horsens     & DK          & Denmark     & 0           & 0           & 0          \\\\\n",
       "\\end{tabular}\n"
      ],
      "text/markdown": [
       "\n",
       "| <!--/--> | LONGITUDE | LATITUDE | CODE | NAME | CITY | COUNTRY | C_NAME | OUTFLOW | INFLOW | TOTALFLOW | \n",
       "|---|\n",
       "| 1843 | 55620000    | 61990000    | ZIL         | Bus Service | Horsens     | DK          | Denmark     | 0           | 0           | 0           | \n",
       "\n",
       "\n"
      ],
      "text/plain": [
       "     LONGITUDE LATITUDE CODE NAME        CITY    COUNTRY C_NAME  OUTFLOW INFLOW\n",
       "1843 55620000  61990000 ZIL  Bus Service Horsens DK      Denmark 0       0     \n",
       "     TOTALFLOW\n",
       "1843 0        "
      ]
     },
     "metadata": {},
     "output_type": "display_data"
    }
   ],
   "source": [
    "subset(data, CODE == \"ZIL\")"
   ]
  },
  {
   "cell_type": "code",
   "execution_count": 11,
   "metadata": {
    "collapsed": true
   },
   "outputs": [],
   "source": [
    "#select 2 points\n",
    "selPtA <- ppoints[ppoints@data$CODE == 'AAH',]\n",
    "selPtB <- ppoints[ppoints@data$CODE == 'ZIL',]"
   ]
  },
  {
   "cell_type": "code",
   "execution_count": 12,
   "metadata": {},
   "outputs": [
    {
     "data": {
      "text/plain": [
       "             coordinates LONGITUDE LATITUDE CODE   NAME   CITY COUNTRY  C_NAME\n",
       "1021 (682388.5, 6544081)   6130000 50750000  AAH Aachen Aachen      DE Germany\n",
       "     OUTFLOW INFLOW TOTALFLOW\n",
       "1021       0      0         0"
      ]
     },
     "metadata": {},
     "output_type": "display_data"
    }
   ],
   "source": [
    "selPtA"
   ]
  },
  {
   "cell_type": "code",
   "execution_count": 13,
   "metadata": {},
   "outputs": [
    {
     "data": {
      "text/plain": [
       "            coordinates LONGITUDE LATITUDE CODE        NAME    CITY COUNTRY\n",
       "1843 (6191590, 8819010)  55620000 61990000  ZIL Bus Service Horsens      DK\n",
       "      C_NAME OUTFLOW INFLOW TOTALFLOW\n",
       "1843 Denmark       0      0         0"
      ]
     },
     "metadata": {},
     "output_type": "display_data"
    }
   ],
   "source": [
    "selPtB"
   ]
  },
  {
   "cell_type": "code",
   "execution_count": 14,
   "metadata": {},
   "outputs": [
    {
     "data": {
      "image/png": "[encoded data removed]",
      "text/plain": [
       "Plot with title \"Selected Airports\""
      ]
     },
     "metadata": {},
     "output_type": "display_data"
    }
   ],
   "source": [
    "#plot selected features\n",
    "plot(ppoints,bg=\"blue\",col=\"blue\",lwd=.5,\n",
    "         cex=.4,pch=21,main=\"Selected Airports\",cex.main=.8)\n",
    "\n",
    "plot(selPtA,bg=\"red\",col=\"red\",\n",
    "         lwd=.5,cex=1,pch=21,add=TRUE)\n",
    "\n",
    "plot(selPtB,bg=\"green\",col=\"green\",lwd=.5,\n",
    "         cex=1,pch=21,add=TRUE)"
   ]
  },
  {
   "cell_type": "markdown",
   "metadata": {},
   "source": [
    "## Euclidean Distance\n",
    "\n",
    "Euclidean distance is one of the simplist distance metrics to construct. Distance between points A and B just involves knowing the x and y coordinates of both points, subtracting and squaring the x coordinates, subtracting and squaring the y coordinates, summing the squared values, and then taking the square root of the sums. So, let's try that next."
   ]
  },
  {
   "cell_type": "code",
   "execution_count": 15,
   "metadata": {
    "collapsed": true
   },
   "outputs": [],
   "source": [
    "#Get x and y coordinates of selected points\n",
    "xA <- as.numeric(coordinates(selPtA)[,1])\n",
    "yA <- as.numeric(coordinates(selPtA)[,2])\n",
    "xB <- as.numeric(coordinates(selPtB)[,1])\n",
    "yB <- as.numeric(coordinates(selPtB)[,2])"
   ]
  },
  {
   "cell_type": "code",
   "execution_count": 16,
   "metadata": {},
   "outputs": [
    {
     "data": {
      "text/html": [
       "682388.478562767"
      ],
      "text/latex": [
       "682388.478562767"
      ],
      "text/markdown": [
       "682388.478562767"
      ],
      "text/plain": [
       "[1] 682388.5"
      ]
     },
     "metadata": {},
     "output_type": "display_data"
    }
   ],
   "source": [
    "xA"
   ]
  },
  {
   "cell_type": "code",
   "execution_count": 17,
   "metadata": {},
   "outputs": [
    {
     "data": {
      "text/html": [
       "6544081.07480338"
      ],
      "text/latex": [
       "6544081.07480338"
      ],
      "text/markdown": [
       "6544081.07480338"
      ],
      "text/plain": [
       "[1] 6544081"
      ]
     },
     "metadata": {},
     "output_type": "display_data"
    }
   ],
   "source": [
    "yA"
   ]
  },
  {
   "cell_type": "code",
   "execution_count": 18,
   "metadata": {},
   "outputs": [
    {
     "data": {
      "text/html": [
       "6191590.07792188"
      ],
      "text/latex": [
       "6191590.07792188"
      ],
      "text/markdown": [
       "6191590.07792188"
      ],
      "text/plain": [
       "[1] 6191590"
      ]
     },
     "metadata": {},
     "output_type": "display_data"
    }
   ],
   "source": [
    "xB"
   ]
  },
  {
   "cell_type": "code",
   "execution_count": 19,
   "metadata": {},
   "outputs": [
    {
     "data": {
      "text/html": [
       "8819009.94384812"
      ],
      "text/latex": [
       "8819009.94384812"
      ],
      "text/markdown": [
       "8819009.94384812"
      ],
      "text/plain": [
       "[1] 8819010"
      ]
     },
     "metadata": {},
     "output_type": "display_data"
    }
   ],
   "source": [
    "yB"
   ]
  },
  {
   "cell_type": "code",
   "execution_count": 20,
   "metadata": {},
   "outputs": [
    {
     "data": {
      "text/html": [
       "<span style=white-space:pre-wrap>'Euclidean Distance =  5960419.75213106'</span>"
      ],
      "text/latex": [
       "'Euclidean Distance =  5960419.75213106'"
      ],
      "text/markdown": [
       "<span style=white-space:pre-wrap>'Euclidean Distance =  5960419.75213106'</span>"
      ],
      "text/plain": [
       "[1] \"Euclidean Distance =  5960419.75213106\""
      ]
     },
     "metadata": {},
     "output_type": "display_data"
    }
   ],
   "source": [
    "#compute euclidean distance\n",
    "EuclideanDist <- sqrt(((xA-xB)^2) +((yA-yB)^2))\n",
    "paste('Euclidean Distance = ', toString(EuclideanDist))"
   ]
  },
  {
   "cell_type": "markdown",
   "metadata": {},
   "source": [
    "## Great Circle Distance\n",
    "\n",
    "Let's try to compute a great circle distance. Great circle distances reflect the shortest path of moving between a pair of points along the surface of the Earth given that it's curvature is taken into consideration.  However, they typically assume that the surface is flat (i.e. no variation in elevation).  \n",
    "\n",
    "There are actually many great circle distance metrics. Why? Well, there are many different opinions regarding the shape of the Earth. One great circle matrix can be based on the law of cosines assuming a spherical model of the Earth. The distCosine() function (geosphere library) can assist us with its computation. The required inputs are two point dataframes, 'r' the equatorial radius. Although the geosphere library requires data to be in lat/long coordinates, most of the other inputs/outputs are in meters."
   ]
  },
  {
   "cell_type": "markdown",
   "metadata": {},
   "source": [
    "### Sphere-based Great Circle\n",
    "\n",
    "The simplist great circle distances assume a spherical model of the Earth. As such, they only require the Earth's radius in their computation. The law of cosines can be applied to compute a great circle distance."
   ]
  },
  {
   "cell_type": "code",
   "execution_count": 22,
   "metadata": {},
   "outputs": [
    {
     "data": {
      "text/html": [
       "'+proj=merc +lon_0=0 +lat_ts=0 +x_0=0 +y_0=0 +datum=WGS84 +units=m +no_defs +ellps=WGS84 +towgs84=0,0,0'"
      ],
      "text/latex": [
       "'+proj=merc +lon\\_0=0 +lat\\_ts=0 +x\\_0=0 +y\\_0=0 +datum=WGS84 +units=m +no\\_defs +ellps=WGS84 +towgs84=0,0,0'"
      ],
      "text/markdown": [
       "'+proj=merc +lon_0=0 +lat_ts=0 +x_0=0 +y_0=0 +datum=WGS84 +units=m +no_defs +ellps=WGS84 +towgs84=0,0,0'"
      ],
      "text/plain": [
       "[1] \"+proj=merc +lon_0=0 +lat_ts=0 +x_0=0 +y_0=0 +datum=WGS84 +units=m +no_defs +ellps=WGS84 +towgs84=0,0,0\""
      ]
     },
     "metadata": {},
     "output_type": "display_data"
    }
   ],
   "source": [
    "proj4string(ppoints)"
   ]
  },
  {
   "cell_type": "markdown",
   "metadata": {},
   "source": [
    "#### Transform CRS to Lat/Long\n",
    "\n",
    "First, transform the points to lat/long in the WGS84 datum and reference ellipsoid. Next, try and re-compute the cosine great circle distance.  Is the great circle distance reported here different from the Euclidean distance reported earlier?  Yes, it's a lot less you say. How could a straight line be longer than a curved line? \n",
    "\n",
    "Remember, the prior data were projected in a global Mercator projection in meters....distances in the Mercator projection are only really accurate near the equator. As latitude increases/decreases, then distances become more distorted...have you ever seen the size of Greenland on a Mercator map? Thus, while distances between points that are close together can be somewhat reasonable, increases/decreases in latitude tend to distort distances between features that are more distant.\n",
    "\n",
    "Therefore, it is very important to be mindful when making any distance computations of a dataset's CRS. It is even more important to be mindful about which CRS best fits a given need and how the computations of distance and/or area can be affected.  Choose wisely.  You'd be surprised about how much research has been conducted using biased measures of distance!"
   ]
  },
  {
   "cell_type": "code",
   "execution_count": 23,
   "metadata": {},
   "outputs": [
    {
     "data": {
      "text/html": [
       "'+proj=longlat +datum=WGS84 +no_defs +ellps=WGS84 +nadgrids=@null'"
      ],
      "text/latex": [
       "'+proj=longlat +datum=WGS84 +no\\_defs +ellps=WGS84 +nadgrids=@null'"
      ],
      "text/markdown": [
       "'+proj=longlat +datum=WGS84 +no_defs +ellps=WGS84 +nadgrids=@null'"
      ],
      "text/plain": [
       "[1] \"+proj=longlat +datum=WGS84 +no_defs +ellps=WGS84 +nadgrids=@null\""
      ]
     },
     "metadata": {},
     "output_type": "display_data"
    }
   ],
   "source": [
    "# Transform to wgs84\n",
    "ppoints.wgs <- spTransform(ppoints, CRS(\"+proj=longlat +datum=WGS84 +no_defs +ellps=WGS84 +nadgrids=@null\"))\n",
    "proj4string(ppoints.wgs)"
   ]
  },
  {
   "cell_type": "code",
   "execution_count": 24,
   "metadata": {
    "collapsed": true
   },
   "outputs": [],
   "source": [
    "selPtA2 <- ppoints.wgs[ppoints.wgs@data$CODE == 'AAH',]\n",
    "selPtB2 <- ppoints.wgs[ppoints.wgs@data$CODE == 'ZIL',]\n"
   ]
  },
  {
   "cell_type": "code",
   "execution_count": 25,
   "metadata": {},
   "outputs": [
    {
     "data": {
      "text/plain": [
       "             coordinates LONGITUDE LATITUDE CODE   NAME   CITY COUNTRY  C_NAME\n",
       "1021 (682388.5, 6544081)   6130000 50750000  AAH Aachen Aachen      DE Germany\n",
       "     OUTFLOW INFLOW TOTALFLOW\n",
       "1021       0      0         0"
      ]
     },
     "metadata": {},
     "output_type": "display_data"
    }
   ],
   "source": [
    "selPtA"
   ]
  },
  {
   "cell_type": "code",
   "execution_count": 26,
   "metadata": {},
   "outputs": [
    {
     "data": {
      "text/plain": [
       "       coordinates LONGITUDE LATITUDE CODE   NAME   CITY COUNTRY  C_NAME\n",
       "1021 (6.13, 50.75)   6130000 50750000  AAH Aachen Aachen      DE Germany\n",
       "     OUTFLOW INFLOW TOTALFLOW\n",
       "1021       0      0         0"
      ]
     },
     "metadata": {},
     "output_type": "display_data"
    }
   ],
   "source": [
    "selPtA2"
   ]
  },
  {
   "cell_type": "code",
   "execution_count": 27,
   "metadata": {},
   "outputs": [
    {
     "data": {
      "text/plain": [
       "            coordinates LONGITUDE LATITUDE CODE        NAME    CITY COUNTRY\n",
       "1843 (6191590, 8819010)  55620000 61990000  ZIL Bus Service Horsens      DK\n",
       "      C_NAME OUTFLOW INFLOW TOTALFLOW\n",
       "1843 Denmark       0      0         0"
      ]
     },
     "metadata": {},
     "output_type": "display_data"
    }
   ],
   "source": [
    "selPtB"
   ]
  },
  {
   "cell_type": "code",
   "execution_count": 28,
   "metadata": {},
   "outputs": [
    {
     "data": {
      "text/plain": [
       "        coordinates LONGITUDE LATITUDE CODE        NAME    CITY COUNTRY  C_NAME\n",
       "1843 (55.62, 61.99)  55620000 61990000  ZIL Bus Service Horsens      DK Denmark\n",
       "     OUTFLOW INFLOW TOTALFLOW\n",
       "1843       0      0         0"
      ]
     },
     "metadata": {},
     "output_type": "display_data"
    }
   ],
   "source": [
    "selPtB2"
   ]
  },
  {
   "cell_type": "code",
   "execution_count": 29,
   "metadata": {},
   "outputs": [
    {
     "ename": "ERROR",
     "evalue": "Error in distCosine(selPtA2, selPtB2, r = 6378137): could not find function \"distCosine\"\n",
     "output_type": "error",
     "traceback": [
      "Error in distCosine(selPtA2, selPtB2, r = 6378137): could not find function \"distCosine\"\nTraceback:\n"
     ]
    }
   ],
   "source": [
    "#compute great circle distance\n",
    "cosinedist <- distCosine(selPtA2, selPtB2, r=6378137)\n",
    "paste('Law of Cosine Great Circle Distance = ',toString(cosinedist))"
   ]
  },
  {
   "cell_type": "markdown",
   "metadata": {},
   "source": [
    "### Visualize the Great Circle\n",
    "\n",
    "The approximate trajectory of a great circle can be obtained using the greatCircle() function (geosphere library). The required inputs are two point spatial dataframes, the number of great circle points to create 'n', and whether or not to generate a line feature 'sp'. "
   ]
  },
  {
   "cell_type": "code",
   "execution_count": 30,
   "metadata": {},
   "outputs": [
    {
     "ename": "ERROR",
     "evalue": "Error in greatCircle(selPtA2, selPtB2, n = 360, sp = TRUE): could not find function \"greatCircle\"\n",
     "output_type": "error",
     "traceback": [
      "Error in greatCircle(selPtA2, selPtB2, n = 360, sp = TRUE): could not find function \"greatCircle\"\nTraceback:\n"
     ]
    }
   ],
   "source": [
    "#compute great circle line\n",
    "gc <- greatCircle(selPtA2, selPtB2, n=360, sp=TRUE)\n",
    "\n",
    "#plot results\n",
    "plot(ppoints.wgs,bg=\"blue\",col=\"blue\",lwd=.5,\n",
    "     cex=.4,pch=21,main=\"Great Circle Arc\",cex.main=.8)\n",
    "\n",
    "plot(selPtA2,bg=\"red\",col=\"red\",lwd=.5,\n",
    "     cex=1,pch=21,add=TRUE)\n",
    "\n",
    "plot(selPtB2,bg=\"green\",col=\"green\",lwd=.5,\n",
    "     cex=1,pch=21,add=TRUE)\n",
    "\n",
    "plot(gc,col='orange',add=TRUE)"
   ]
  },
  {
   "cell_type": "markdown",
   "metadata": {},
   "source": [
    "### Other Spherical Great Circle Distances\n",
    "\n",
    "Here are a few other great circle measures that are based on a spherical model of the Earth. Do a little research about them and take a look at the geosphere library documentation to learn more."
   ]
  },
  {
   "cell_type": "code",
   "execution_count": 31,
   "metadata": {},
   "outputs": [
    {
     "ename": "ERROR",
     "evalue": "Error in distVincentySphere(selPtA2, selPtB2, r = 6378137): could not find function \"distVincentySphere\"\n",
     "output_type": "error",
     "traceback": [
      "Error in distVincentySphere(selPtA2, selPtB2, r = 6378137): could not find function \"distVincentySphere\"\nTraceback:\n"
     ]
    }
   ],
   "source": [
    "vincsphdist <- distVincentySphere(selPtA2, selPtB2, r=6378137)\n",
    "paste('Vincenty Great Circle = ',toString(vincsphdist))"
   ]
  },
  {
   "cell_type": "code",
   "execution_count": 32,
   "metadata": {},
   "outputs": [
    {
     "ename": "ERROR",
     "evalue": "Error in distHaversine(selPtA2, selPtB2, r = 6378137): could not find function \"distHaversine\"\n",
     "output_type": "error",
     "traceback": [
      "Error in distHaversine(selPtA2, selPtB2, r = 6378137): could not find function \"distHaversine\"\nTraceback:\n"
     ]
    }
   ],
   "source": [
    "haverdist <- distHaversine(selPtA2, selPtB2, r=6378137)\n",
    "paste('Haversine Great Circle = ',toString(haverdist))"
   ]
  },
  {
   "cell_type": "markdown",
   "metadata": {},
   "source": [
    "## Geodetic Great Circles\n",
    "\n",
    "Geodetic great circle measures compute distance based upon a more refined model of the Earth. Instead of assuming a spherical model and only requiring the radius of the Earth, they are typically based upon a reference ellipsoid, which requires making some assumption about how the ellipsoid 'flattens' from the equator to the poles. Below is a list of equatorial radius and flattening coefficients associated with commonly used ellipsoids as taken from the geosphere documentation.\n",
    "\n",
    "-WGS84 6378137 1/298.257223563\n",
    "\n",
    "-GRS80 6378137 1/298.257222101\n",
    "\n",
    "-GRS67 6378160 1/298.25\n",
    "\n",
    "-Airy 1830 6377563.396 1/299.3249646\n",
    "\n",
    "-Bessel 1841 6377397.155 1/299.1528434\n",
    "\n",
    "-Clarke 1880 6378249.145 1/293.465\n",
    "\n",
    "-Clarke 1866 6378206.4 1/294.9786982\n",
    "\n",
    "-International 1924 6378388 1/297\n",
    "\n",
    "-Krasovsky 1940 6378245 1/298.2997381\n",
    "\n",
    "\n",
    "Let's apply a few geodetic great circle computations.  See how close the WGS84 and GRS80 datums really are!!\n",
    "\n",
    "Of course, feel free to experiment a little here."
   ]
  },
  {
   "cell_type": "code",
   "execution_count": 33,
   "metadata": {},
   "outputs": [
    {
     "ename": "ERROR",
     "evalue": "Error in distGeo(selPtA2, selPtB2, a = 6378137, f = 1/298.257223563): could not find function \"distGeo\"\n",
     "output_type": "error",
     "traceback": [
      "Error in distGeo(selPtA2, selPtB2, a = 6378137, f = 1/298.257223563): could not find function \"distGeo\"\nTraceback:\n"
     ]
    }
   ],
   "source": [
    "#wgs84\n",
    "wgs84dist <- distGeo(selPtA2, selPtB2, a=6378137, f=1/298.257223563)\n",
    "paste('WGS84 Geodetic Great Circle = ',toString(wgs84dist))\n",
    "\n",
    "#grs80\n",
    "grs80dist <- distGeo(selPtA2, selPtB2, a=6378137, f=1/298.257222101)\n",
    "paste('GRS80 Geodetic Great Circle = ',toString(grs80dist))\n",
    "\n",
    "#international 1924\n",
    "int24dist <- distGeo(selPtA2, selPtB2, a=6378388, f=1/297)\n",
    "paste('International 1924 Geodetic Great Circle = ',toString(int24dist))\n",
    "\n",
    "#Meeus's method\n",
    "meeusdist <- distMeeus(selPtA2, selPtB2, a=6378137, f=1/298.257223563)\n",
    "paste('Meeus Geodetic Great Circle = ',toString(meeusdist))\n",
    "\n",
    "#Vincenty method\n",
    "vincdist <- distVincentyEllipsoid(selPtA2, selPtB2, a=6378137, b=6356752.3142, f=1/298.257223563)\n",
    "paste('Vincenty Geodetic Great Circle = ',toString(vincdist))"
   ]
  },
  {
   "cell_type": "markdown",
   "metadata": {},
   "source": [
    "## Back to Euclidean Distance\n",
    "\n",
    "Remember that when we tried to compute Euclidean distance earlier using the Mercator CRS the distances were very high? Let's fix that before we end this lab. First, let's transform the CRS into something a little more appropriate for Europe (where the airports are located). One such CRS could be an equidistant conic projection. Now, it would be tough to sort through proj4 to look for this projection as applied to Europe. As such, we could look and see if anyone else may have posted proj4 CRS specifications for such a projection.\n",
    "\n",
    "For example, http://spatialreference.org/about/ provides an interesting user interface that allows one to search for CRS that have been defined by others. There are user submitted definitions here. However, there are also some commonly used ones such as those defined by ESRI and EPSG.  Head to http://spatialreference.org/ref/esri/ to ESRIs CRSs. Forward through a few pages until you see http://spatialreference.org/ref/esri/102031/.  In the working pane on this page, you can have this CRS produced in a variety of formats - i.e. ESRI .shp .prj file, gml, and even the proj4 format we are working with here. So, all I did was select proj4 format and copy the result from that into the code below."
   ]
  },
  {
   "cell_type": "code",
   "execution_count": 36,
   "metadata": {
    "collapsed": true
   },
   "outputs": [],
   "source": [
    "# Transform to wgs84\n",
    "ppoints.edc <- spTransform(ppoints, \n",
    "                           CRS(\"+proj=eqdc +lat_0=0 +lon_0=0 +lat_1=43 +lat_2=62 +x_0=0 +y_0=0 +ellps=intl +units=m +no_defs\"))\n",
    "\n",
    "selPtA3 <- ppoints.edc[ppoints.edc@data$CODE == 'AAH',]\n",
    "selPtB3 <- ppoints.edc[ppoints.edc@data$CODE == 'ZIL',]"
   ]
  },
  {
   "cell_type": "markdown",
   "metadata": {},
   "source": [
    "### Compute Euclidean Distance\n",
    "\n",
    "Now we should be able to compute Euclidean distance in a more meaningful way.  The result should now be more on par with the great circle distances...that is less than, not more than."
   ]
  },
  {
   "cell_type": "code",
   "execution_count": 35,
   "metadata": {},
   "outputs": [
    {
     "data": {
      "text/html": [
       "<span style=white-space:pre-wrap>'Euclidean Distance =  3188897.95116728'</span>"
      ],
      "text/latex": [
       "'Euclidean Distance =  3188897.95116728'"
      ],
      "text/markdown": [
       "<span style=white-space:pre-wrap>'Euclidean Distance =  3188897.95116728'</span>"
      ],
      "text/plain": [
       "[1] \"Euclidean Distance =  3188897.95116728\""
      ]
     },
     "metadata": {},
     "output_type": "display_data"
    }
   ],
   "source": [
    "#Get x and y coordinates of selected points\n",
    "xA3 <- as.numeric(coordinates(selPtA3)[,1])\n",
    "yA3 <- as.numeric(coordinates(selPtA3)[,2])\n",
    "xB3 <- as.numeric(coordinates(selPtB3)[,1])\n",
    "yB3 <- as.numeric(coordinates(selPtB3)[,2])\n",
    "\n",
    "#compute euclidean distance\n",
    "EuclideanDist3 <- sqrt(((xA3-xB3)^2) +((yA3-yB3)^2))\n",
    "paste('Euclidean Distance = ',toString(EuclideanDist3))"
   ]
  }
 ],
 "metadata": {
  "kernelspec": {
   "display_name": "R",
   "language": "R",
   "name": "ir"
  },
  "language_info": {
   "codemirror_mode": "r",
   "file_extension": ".r",
   "mimetype": "text/x-r-source",
   "name": "R",
   "pygments_lexer": "r",
   "version": "3.4.1"
  }
 },
 "nbformat": 4,
 "nbformat_minor": 2
}
