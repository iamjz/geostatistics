{
 "cells": [
  {
   "cell_type": "markdown",
   "metadata": {},
   "source": [
    "## Working with Multiple Hypotheses\n",
    "\n",
    "In many applications of geostatistics, evaluation of multiple hypotheses may be warranted. In the context of spatial autocorrelation for example, one might test the null hypothesis that the analysis variable for a feature is randomly distributed among features in its neighborhood (i.e. one hypothesis per feature). In such cases, there is always some probability that a significant outcome could arise just due to chance. Specifically, given a set of h hypotheses, a desired confidence level alpha and the associated significance level lambda=(1-alpha), the probability of at least one significant outcome (s) being realized simply due to chance is P(s)=(1-(1-lambda)^h).\n",
    "\n",
    "Consider this example, given the testing of one hypothesis at a desired confidence level of 0.90, the associated significance level that is sought is 0.10. Thus, the probability of no significant outcome arising is 0.90 and the probability of at least one significant outcome being realized due to chance is (1-(1-0.10)^1) = 0.10, which is what we were expecting.  However, if testing of three hypotheses (h=3) is required, then the probability of at least one significant outcome arising due to chance becomes (1-(1-0.10^3))=0.142. In other words, as the number of hypotheses involved increase, then there is a larger probability that one might observe a significant outcome just due to chance alone!\n",
    "\n",
    "So what? Well, if there is a larger probability that a significant outcome will arise simply due to chance, then something must be done to account for that happening. One way to cope with this increased probability is to make some sort of adjustment to the confidence levels in order to help avoid getting an erroneous significant outcome. In other words, the confidence levels can be made more restrictive.\n",
    "\n",
    "To illustrate how the confidence levels can be adjusted to account for multiple hypotheses, let's first consider an example dataset, retrieve an analysis variable, and visualize the distribution of the variable."
   ]
  },
  {
   "cell_type": "code",
   "execution_count": 1,
   "metadata": {},
   "outputs": [
    {
     "name": "stderr",
     "output_type": "stream",
     "text": [
      "Warning message:\n",
      "\"package 'rgdal' was built under R version 3.4.2\"Warning message:\n",
      "\"package 'sp' was built under R version 3.4.2\"Warning message:\n",
      "\"package 'spdep' was built under R version 3.4.2\"Warning message:\n",
      "\"package 'classInt' was built under R version 3.4.2\""
     ]
    }
   ],
   "source": [
    "# Load relevant R packages\n",
    "inLibraries = list('rgdal','spdep','classInt','repr')\n",
    "for (rpack in inLibraries) {\n",
    "  if (is.element(rpack,installed.packages()[,1])){\n",
    "           \n",
    "      #Load the library into R\n",
    "      suppressMessages(library(rpack,character.only = TRUE))\n",
    "    }\n",
    "    else {\n",
    "        print(paste(\"Warning:  \",rpack,\" is not an installed package\"))\n",
    "    }\n",
    "}\n",
    "#resize plot area\n",
    "options(repr.plot.width=6, repr.plot.height=6)"
   ]
  },
  {
   "cell_type": "markdown",
   "metadata": {},
   "source": [
    "## Analysis of Cancer Incidence Rates\n",
    "\n",
    "Let's work with the New York Cancer Registry dataset. Details regarding this registry can be found at(https://www.health.ny.gov/statistics/cancer/registry/Read).  \n",
    "\n",
    "We will be working with incidence of prostate cancer as summarized at the zip code level (https://www.health.ny.gov/statistics/cancer/registry/zipcode/index.htm). "
   ]
  },
  {
   "cell_type": "code",
   "execution_count": 2,
   "metadata": {},
   "outputs": [
    {
     "name": "stdout",
     "output_type": "stream",
     "text": [
      "OGR data source with driver: ESRI Shapefile \n",
      "Source: \"datasets/newyork_cancer\", layer: \"NYzipUTM\"\n",
      "with 1384 features\n",
      "It has 8 fields\n",
      "Integer64 fields read as strings:  PRIMARY ObsIncid \n"
     ]
    }
   ],
   "source": [
    "#Read in the featureclass\n",
    "inFeatures <- readOGR(\"datasets/newyork_cancer\",\"NYzipUTM\")"
   ]
  },
  {
   "cell_type": "code",
   "execution_count": 3,
   "metadata": {},
   "outputs": [
    {
     "data": {
      "text/html": [
       "<table>\n",
       "<thead><tr><th></th><th scope=col>PRIMARY</th><th scope=col>COUNT</th><th scope=col>MalePop</th><th scope=col>ObsIncid</th><th scope=col>CRate</th><th scope=col>test</th><th scope=col>CRate2</th><th scope=col>crate3</th></tr></thead>\n",
       "<tbody>\n",
       "\t<tr><th scope=row>0</th><td>0          </td><td>3          </td><td>    0      </td><td>0          </td><td>0.000000000</td><td>0          </td><td>        NA </td><td>        NA </td></tr>\n",
       "\t<tr><th scope=row>1</th><td>10001      </td><td>1          </td><td> 9570      </td><td>54         </td><td>0.005642633</td><td>0          </td><td>0.00564263 </td><td>0.00564263 </td></tr>\n",
       "\t<tr><th scope=row>2</th><td>10002      </td><td>1          </td><td>37830      </td><td>190        </td><td>0.005022469</td><td>0          </td><td>0.00502247 </td><td>0.00502247 </td></tr>\n",
       "\t<tr><th scope=row>3</th><td>10003      </td><td>1          </td><td>25524      </td><td>160        </td><td>0.006268610</td><td>0          </td><td>0.00626861 </td><td>0.00626861 </td></tr>\n",
       "\t<tr><th scope=row>4</th><td>10005      </td><td>3          </td><td> 2283      </td><td>9          </td><td>0.003942181</td><td>0          </td><td>0.00394218 </td><td>0.00394218 </td></tr>\n",
       "\t<tr><th scope=row>5</th><td>10007      </td><td>1          </td><td> 5256      </td><td>13         </td><td>0.002473364</td><td>0          </td><td>0.00247336 </td><td>0.00247336 </td></tr>\n",
       "</tbody>\n",
       "</table>\n"
      ],
      "text/latex": [
       "\\begin{tabular}{r|llllllll}\n",
       "  & PRIMARY & COUNT & MalePop & ObsIncid & CRate & test & CRate2 & crate3\\\\\n",
       "\\hline\n",
       "\t0 & 0           & 3           &     0       & 0           & 0.000000000 & 0           &         NA  &         NA \\\\\n",
       "\t1 & 10001       & 1           &  9570       & 54          & 0.005642633 & 0           & 0.00564263  & 0.00564263 \\\\\n",
       "\t2 & 10002       & 1           & 37830       & 190         & 0.005022469 & 0           & 0.00502247  & 0.00502247 \\\\\n",
       "\t3 & 10003       & 1           & 25524       & 160         & 0.006268610 & 0           & 0.00626861  & 0.00626861 \\\\\n",
       "\t4 & 10005       & 3           &  2283       & 9           & 0.003942181 & 0           & 0.00394218  & 0.00394218 \\\\\n",
       "\t5 & 10007       & 1           &  5256       & 13          & 0.002473364 & 0           & 0.00247336  & 0.00247336 \\\\\n",
       "\\end{tabular}\n"
      ],
      "text/markdown": [
       "\n",
       "| <!--/--> | PRIMARY | COUNT | MalePop | ObsIncid | CRate | test | CRate2 | crate3 | \n",
       "|---|---|---|---|---|---|\n",
       "| 0 | 0           | 3           |     0       | 0           | 0.000000000 | 0           |         NA  |         NA  | \n",
       "| 1 | 10001       | 1           |  9570       | 54          | 0.005642633 | 0           | 0.00564263  | 0.00564263  | \n",
       "| 2 | 10002       | 1           | 37830       | 190         | 0.005022469 | 0           | 0.00502247  | 0.00502247  | \n",
       "| 3 | 10003       | 1           | 25524       | 160         | 0.006268610 | 0           | 0.00626861  | 0.00626861  | \n",
       "| 4 | 10005       | 3           |  2283       | 9           | 0.003942181 | 0           | 0.00394218  | 0.00394218  | \n",
       "| 5 | 10007       | 1           |  5256       | 13          | 0.002473364 | 0           | 0.00247336  | 0.00247336  | \n",
       "\n",
       "\n"
      ],
      "text/plain": [
       "  PRIMARY COUNT MalePop ObsIncid CRate       test CRate2     crate3    \n",
       "0 0       3         0   0        0.000000000 0            NA         NA\n",
       "1 10001   1      9570   54       0.005642633 0    0.00564263 0.00564263\n",
       "2 10002   1     37830   190      0.005022469 0    0.00502247 0.00502247\n",
       "3 10003   1     25524   160      0.006268610 0    0.00626861 0.00626861\n",
       "4 10005   3      2283   9        0.003942181 0    0.00394218 0.00394218\n",
       "5 10007   1      5256   13       0.002473364 0    0.00247336 0.00247336"
      ]
     },
     "metadata": {},
     "output_type": "display_data"
    }
   ],
   "source": [
    "peek <- head(inFeatures@data)\n",
    "\n",
    "peek"
   ]
  },
  {
   "cell_type": "markdown",
   "metadata": {},
   "source": [
    "## Defining Neighborhoods\n",
    "\n",
    "The first step is to define neighborhoods for each feature (zip code areas in this case)"
   ]
  },
  {
   "cell_type": "code",
   "execution_count": 4,
   "metadata": {
    "collapsed": true
   },
   "outputs": [],
   "source": [
    "#Identify the neighbors of each feature\n",
    "inFeatures.nb <- poly2nb(inFeatures,queen=TRUE)"
   ]
  },
  {
   "cell_type": "code",
   "execution_count": 5,
   "metadata": {},
   "outputs": [
    {
     "data": {
      "text/html": [
       "<ol>\n",
       "\t<li><ol class=list-inline>\n",
       "\t<li>14</li>\n",
       "\t<li>16</li>\n",
       "\t<li>17</li>\n",
       "\t<li>18</li>\n",
       "\t<li>19</li>\n",
       "\t<li>20</li>\n",
       "\t<li>21</li>\n",
       "\t<li>22</li>\n",
       "\t<li>24</li>\n",
       "\t<li>25</li>\n",
       "\t<li>32</li>\n",
       "\t<li>38</li>\n",
       "\t<li>256</li>\n",
       "\t<li>257</li>\n",
       "\t<li>258</li>\n",
       "</ol>\n",
       "</li>\n",
       "\t<li><ol class=list-inline>\n",
       "\t<li>8</li>\n",
       "\t<li>9</li>\n",
       "\t<li>13</li>\n",
       "\t<li>15</li>\n",
       "</ol>\n",
       "</li>\n",
       "\t<li><ol class=list-inline>\n",
       "\t<li>4</li>\n",
       "\t<li>7</li>\n",
       "\t<li>8</li>\n",
       "\t<li>10</li>\n",
       "\t<li>11</li>\n",
       "\t<li>34</li>\n",
       "</ol>\n",
       "</li>\n",
       "\t<li><ol class=list-inline>\n",
       "\t<li>3</li>\n",
       "\t<li>7</li>\n",
       "\t<li>8</li>\n",
       "\t<li>9</li>\n",
       "\t<li>10</li>\n",
       "</ol>\n",
       "</li>\n",
       "\t<li><ol class=list-inline>\n",
       "\t<li>6</li>\n",
       "\t<li>34</li>\n",
       "\t<li>39</li>\n",
       "</ol>\n",
       "</li>\n",
       "\t<li><ol class=list-inline>\n",
       "\t<li>5</li>\n",
       "\t<li>11</li>\n",
       "\t<li>34</li>\n",
       "\t<li>39</li>\n",
       "</ol>\n",
       "</li>\n",
       "\t<li><ol class=list-inline>\n",
       "\t<li>3</li>\n",
       "\t<li>4</li>\n",
       "\t<li>8</li>\n",
       "</ol>\n",
       "</li>\n",
       "\t<li><ol class=list-inline>\n",
       "\t<li>2</li>\n",
       "\t<li>3</li>\n",
       "\t<li>4</li>\n",
       "\t<li>7</li>\n",
       "\t<li>9</li>\n",
       "\t<li>13</li>\n",
       "</ol>\n",
       "</li>\n",
       "\t<li><ol class=list-inline>\n",
       "\t<li>2</li>\n",
       "\t<li>4</li>\n",
       "\t<li>8</li>\n",
       "\t<li>10</li>\n",
       "\t<li>12</li>\n",
       "</ol>\n",
       "</li>\n",
       "\t<li><ol class=list-inline>\n",
       "\t<li>3</li>\n",
       "\t<li>4</li>\n",
       "\t<li>9</li>\n",
       "\t<li>11</li>\n",
       "\t<li>12</li>\n",
       "</ol>\n",
       "</li>\n",
       "</ol>\n"
      ],
      "text/latex": [
       "\\begin{enumerate}\n",
       "\\item \\begin{enumerate*}\n",
       "\\item 14\n",
       "\\item 16\n",
       "\\item 17\n",
       "\\item 18\n",
       "\\item 19\n",
       "\\item 20\n",
       "\\item 21\n",
       "\\item 22\n",
       "\\item 24\n",
       "\\item 25\n",
       "\\item 32\n",
       "\\item 38\n",
       "\\item 256\n",
       "\\item 257\n",
       "\\item 258\n",
       "\\end{enumerate*}\n",
       "\n",
       "\\item \\begin{enumerate*}\n",
       "\\item 8\n",
       "\\item 9\n",
       "\\item 13\n",
       "\\item 15\n",
       "\\end{enumerate*}\n",
       "\n",
       "\\item \\begin{enumerate*}\n",
       "\\item 4\n",
       "\\item 7\n",
       "\\item 8\n",
       "\\item 10\n",
       "\\item 11\n",
       "\\item 34\n",
       "\\end{enumerate*}\n",
       "\n",
       "\\item \\begin{enumerate*}\n",
       "\\item 3\n",
       "\\item 7\n",
       "\\item 8\n",
       "\\item 9\n",
       "\\item 10\n",
       "\\end{enumerate*}\n",
       "\n",
       "\\item \\begin{enumerate*}\n",
       "\\item 6\n",
       "\\item 34\n",
       "\\item 39\n",
       "\\end{enumerate*}\n",
       "\n",
       "\\item \\begin{enumerate*}\n",
       "\\item 5\n",
       "\\item 11\n",
       "\\item 34\n",
       "\\item 39\n",
       "\\end{enumerate*}\n",
       "\n",
       "\\item \\begin{enumerate*}\n",
       "\\item 3\n",
       "\\item 4\n",
       "\\item 8\n",
       "\\end{enumerate*}\n",
       "\n",
       "\\item \\begin{enumerate*}\n",
       "\\item 2\n",
       "\\item 3\n",
       "\\item 4\n",
       "\\item 7\n",
       "\\item 9\n",
       "\\item 13\n",
       "\\end{enumerate*}\n",
       "\n",
       "\\item \\begin{enumerate*}\n",
       "\\item 2\n",
       "\\item 4\n",
       "\\item 8\n",
       "\\item 10\n",
       "\\item 12\n",
       "\\end{enumerate*}\n",
       "\n",
       "\\item \\begin{enumerate*}\n",
       "\\item 3\n",
       "\\item 4\n",
       "\\item 9\n",
       "\\item 11\n",
       "\\item 12\n",
       "\\end{enumerate*}\n",
       "\n",
       "\\end{enumerate}\n"
      ],
      "text/markdown": [
       "1. 1. 14\n",
       "2. 16\n",
       "3. 17\n",
       "4. 18\n",
       "5. 19\n",
       "6. 20\n",
       "7. 21\n",
       "8. 22\n",
       "9. 24\n",
       "10. 25\n",
       "11. 32\n",
       "12. 38\n",
       "13. 256\n",
       "14. 257\n",
       "15. 258\n",
       "\n",
       "\n",
       "\n",
       "2. 1. 8\n",
       "2. 9\n",
       "3. 13\n",
       "4. 15\n",
       "\n",
       "\n",
       "\n",
       "3. 1. 4\n",
       "2. 7\n",
       "3. 8\n",
       "4. 10\n",
       "5. 11\n",
       "6. 34\n",
       "\n",
       "\n",
       "\n",
       "4. 1. 3\n",
       "2. 7\n",
       "3. 8\n",
       "4. 9\n",
       "5. 10\n",
       "\n",
       "\n",
       "\n",
       "5. 1. 6\n",
       "2. 34\n",
       "3. 39\n",
       "\n",
       "\n",
       "\n",
       "6. 1. 5\n",
       "2. 11\n",
       "3. 34\n",
       "4. 39\n",
       "\n",
       "\n",
       "\n",
       "7. 1. 3\n",
       "2. 4\n",
       "3. 8\n",
       "\n",
       "\n",
       "\n",
       "8. 1. 2\n",
       "2. 3\n",
       "3. 4\n",
       "4. 7\n",
       "5. 9\n",
       "6. 13\n",
       "\n",
       "\n",
       "\n",
       "9. 1. 2\n",
       "2. 4\n",
       "3. 8\n",
       "4. 10\n",
       "5. 12\n",
       "\n",
       "\n",
       "\n",
       "10. 1. 3\n",
       "2. 4\n",
       "3. 9\n",
       "4. 11\n",
       "5. 12\n",
       "\n",
       "\n",
       "\n",
       "\n",
       "\n"
      ],
      "text/plain": [
       "[[1]]\n",
       " [1]  14  16  17  18  19  20  21  22  24  25  32  38 256 257 258\n",
       "\n",
       "[[2]]\n",
       "[1]  8  9 13 15\n",
       "\n",
       "[[3]]\n",
       "[1]  4  7  8 10 11 34\n",
       "\n",
       "[[4]]\n",
       "[1]  3  7  8  9 10\n",
       "\n",
       "[[5]]\n",
       "[1]  6 34 39\n",
       "\n",
       "[[6]]\n",
       "[1]  5 11 34 39\n",
       "\n",
       "[[7]]\n",
       "[1] 3 4 8\n",
       "\n",
       "[[8]]\n",
       "[1]  2  3  4  7  9 13\n",
       "\n",
       "[[9]]\n",
       "[1]  2  4  8 10 12\n",
       "\n",
       "[[10]]\n",
       "[1]  3  4  9 11 12\n"
      ]
     },
     "metadata": {},
     "output_type": "display_data"
    }
   ],
   "source": [
    "inFeatures.nb[1:10]"
   ]
  },
  {
   "cell_type": "markdown",
   "metadata": {},
   "source": [
    "## Validating Inputs\n",
    "\n",
    "Again, it is good to check the neighborhoods for features and only retain those features that have a valid neighborhood. To do this, the cardinality (number of elements in a set) of each neighborhood is first examined using the card() function (spdep library). Next, only those features with at least a cardinality of one (one neighbor) are selected. The Queen's criterion is applied and then neighborhoods are transformed into lists."
   ]
  },
  {
   "cell_type": "code",
   "execution_count": 6,
   "metadata": {},
   "outputs": [
    {
     "data": {
      "text/html": [
       "<ol class=list-inline>\n",
       "\t<li>15</li>\n",
       "\t<li>4</li>\n",
       "\t<li>6</li>\n",
       "\t<li>5</li>\n",
       "\t<li>3</li>\n",
       "\t<li>4</li>\n",
       "\t<li>3</li>\n",
       "\t<li>6</li>\n",
       "\t<li>5</li>\n",
       "\t<li>5</li>\n",
       "</ol>\n"
      ],
      "text/latex": [
       "\\begin{enumerate*}\n",
       "\\item 15\n",
       "\\item 4\n",
       "\\item 6\n",
       "\\item 5\n",
       "\\item 3\n",
       "\\item 4\n",
       "\\item 3\n",
       "\\item 6\n",
       "\\item 5\n",
       "\\item 5\n",
       "\\end{enumerate*}\n"
      ],
      "text/markdown": [
       "1. 15\n",
       "2. 4\n",
       "3. 6\n",
       "4. 5\n",
       "5. 3\n",
       "6. 4\n",
       "7. 3\n",
       "8. 6\n",
       "9. 5\n",
       "10. 5\n",
       "\n",
       "\n"
      ],
      "text/plain": [
       " [1] 15  4  6  5  3  4  3  6  5  5"
      ]
     },
     "metadata": {},
     "output_type": "display_data"
    }
   ],
   "source": [
    "card(inFeatures.nb)[1:10] "
   ]
  },
  {
   "cell_type": "code",
   "execution_count": 7,
   "metadata": {},
   "outputs": [
    {
     "data": {
      "text/html": [
       "1381"
      ],
      "text/latex": [
       "1381"
      ],
      "text/markdown": [
       "1381"
      ],
      "text/plain": [
       "[1] 1381"
      ]
     },
     "metadata": {},
     "output_type": "display_data"
    }
   ],
   "source": [
    "#Select features with at least one neighbor\n",
    "inFeaturesSubset <- inFeatures[card(inFeatures.nb) >= 1, ]\n",
    "length(inFeaturesSubset)"
   ]
  },
  {
   "cell_type": "code",
   "execution_count": 8,
   "metadata": {
    "collapsed": true
   },
   "outputs": [],
   "source": [
    "#Identify the neighbors of each feature having at least one neighbor\n",
    "inFeaturesSubset.nb <- poly2nb(inFeaturesSubset, queen=TRUE)"
   ]
  },
  {
   "cell_type": "code",
   "execution_count": 9,
   "metadata": {},
   "outputs": [
    {
     "data": {
      "text/html": [
       "<ol>\n",
       "\t<li><ol class=list-inline>\n",
       "\t<li>14</li>\n",
       "\t<li>16</li>\n",
       "\t<li>17</li>\n",
       "\t<li>18</li>\n",
       "\t<li>19</li>\n",
       "\t<li>20</li>\n",
       "\t<li>21</li>\n",
       "\t<li>22</li>\n",
       "\t<li>24</li>\n",
       "\t<li>25</li>\n",
       "\t<li>32</li>\n",
       "\t<li>37</li>\n",
       "\t<li>255</li>\n",
       "\t<li>256</li>\n",
       "\t<li>257</li>\n",
       "</ol>\n",
       "</li>\n",
       "\t<li><ol class=list-inline>\n",
       "\t<li>8</li>\n",
       "\t<li>9</li>\n",
       "\t<li>13</li>\n",
       "\t<li>15</li>\n",
       "</ol>\n",
       "</li>\n",
       "\t<li><ol class=list-inline>\n",
       "\t<li>4</li>\n",
       "\t<li>7</li>\n",
       "\t<li>8</li>\n",
       "\t<li>10</li>\n",
       "\t<li>11</li>\n",
       "\t<li>34</li>\n",
       "</ol>\n",
       "</li>\n",
       "\t<li><ol class=list-inline>\n",
       "\t<li>3</li>\n",
       "\t<li>7</li>\n",
       "\t<li>8</li>\n",
       "\t<li>9</li>\n",
       "\t<li>10</li>\n",
       "</ol>\n",
       "</li>\n",
       "\t<li><ol class=list-inline>\n",
       "\t<li>6</li>\n",
       "\t<li>34</li>\n",
       "\t<li>38</li>\n",
       "</ol>\n",
       "</li>\n",
       "\t<li><ol class=list-inline>\n",
       "\t<li>5</li>\n",
       "\t<li>11</li>\n",
       "\t<li>34</li>\n",
       "\t<li>38</li>\n",
       "</ol>\n",
       "</li>\n",
       "\t<li><ol class=list-inline>\n",
       "\t<li>3</li>\n",
       "\t<li>4</li>\n",
       "\t<li>8</li>\n",
       "</ol>\n",
       "</li>\n",
       "\t<li><ol class=list-inline>\n",
       "\t<li>2</li>\n",
       "\t<li>3</li>\n",
       "\t<li>4</li>\n",
       "\t<li>7</li>\n",
       "\t<li>9</li>\n",
       "\t<li>13</li>\n",
       "</ol>\n",
       "</li>\n",
       "\t<li><ol class=list-inline>\n",
       "\t<li>2</li>\n",
       "\t<li>4</li>\n",
       "\t<li>8</li>\n",
       "\t<li>10</li>\n",
       "\t<li>12</li>\n",
       "</ol>\n",
       "</li>\n",
       "\t<li><ol class=list-inline>\n",
       "\t<li>3</li>\n",
       "\t<li>4</li>\n",
       "\t<li>9</li>\n",
       "\t<li>11</li>\n",
       "\t<li>12</li>\n",
       "</ol>\n",
       "</li>\n",
       "</ol>\n"
      ],
      "text/latex": [
       "\\begin{enumerate}\n",
       "\\item \\begin{enumerate*}\n",
       "\\item 14\n",
       "\\item 16\n",
       "\\item 17\n",
       "\\item 18\n",
       "\\item 19\n",
       "\\item 20\n",
       "\\item 21\n",
       "\\item 22\n",
       "\\item 24\n",
       "\\item 25\n",
       "\\item 32\n",
       "\\item 37\n",
       "\\item 255\n",
       "\\item 256\n",
       "\\item 257\n",
       "\\end{enumerate*}\n",
       "\n",
       "\\item \\begin{enumerate*}\n",
       "\\item 8\n",
       "\\item 9\n",
       "\\item 13\n",
       "\\item 15\n",
       "\\end{enumerate*}\n",
       "\n",
       "\\item \\begin{enumerate*}\n",
       "\\item 4\n",
       "\\item 7\n",
       "\\item 8\n",
       "\\item 10\n",
       "\\item 11\n",
       "\\item 34\n",
       "\\end{enumerate*}\n",
       "\n",
       "\\item \\begin{enumerate*}\n",
       "\\item 3\n",
       "\\item 7\n",
       "\\item 8\n",
       "\\item 9\n",
       "\\item 10\n",
       "\\end{enumerate*}\n",
       "\n",
       "\\item \\begin{enumerate*}\n",
       "\\item 6\n",
       "\\item 34\n",
       "\\item 38\n",
       "\\end{enumerate*}\n",
       "\n",
       "\\item \\begin{enumerate*}\n",
       "\\item 5\n",
       "\\item 11\n",
       "\\item 34\n",
       "\\item 38\n",
       "\\end{enumerate*}\n",
       "\n",
       "\\item \\begin{enumerate*}\n",
       "\\item 3\n",
       "\\item 4\n",
       "\\item 8\n",
       "\\end{enumerate*}\n",
       "\n",
       "\\item \\begin{enumerate*}\n",
       "\\item 2\n",
       "\\item 3\n",
       "\\item 4\n",
       "\\item 7\n",
       "\\item 9\n",
       "\\item 13\n",
       "\\end{enumerate*}\n",
       "\n",
       "\\item \\begin{enumerate*}\n",
       "\\item 2\n",
       "\\item 4\n",
       "\\item 8\n",
       "\\item 10\n",
       "\\item 12\n",
       "\\end{enumerate*}\n",
       "\n",
       "\\item \\begin{enumerate*}\n",
       "\\item 3\n",
       "\\item 4\n",
       "\\item 9\n",
       "\\item 11\n",
       "\\item 12\n",
       "\\end{enumerate*}\n",
       "\n",
       "\\end{enumerate}\n"
      ],
      "text/markdown": [
       "1. 1. 14\n",
       "2. 16\n",
       "3. 17\n",
       "4. 18\n",
       "5. 19\n",
       "6. 20\n",
       "7. 21\n",
       "8. 22\n",
       "9. 24\n",
       "10. 25\n",
       "11. 32\n",
       "12. 37\n",
       "13. 255\n",
       "14. 256\n",
       "15. 257\n",
       "\n",
       "\n",
       "\n",
       "2. 1. 8\n",
       "2. 9\n",
       "3. 13\n",
       "4. 15\n",
       "\n",
       "\n",
       "\n",
       "3. 1. 4\n",
       "2. 7\n",
       "3. 8\n",
       "4. 10\n",
       "5. 11\n",
       "6. 34\n",
       "\n",
       "\n",
       "\n",
       "4. 1. 3\n",
       "2. 7\n",
       "3. 8\n",
       "4. 9\n",
       "5. 10\n",
       "\n",
       "\n",
       "\n",
       "5. 1. 6\n",
       "2. 34\n",
       "3. 38\n",
       "\n",
       "\n",
       "\n",
       "6. 1. 5\n",
       "2. 11\n",
       "3. 34\n",
       "4. 38\n",
       "\n",
       "\n",
       "\n",
       "7. 1. 3\n",
       "2. 4\n",
       "3. 8\n",
       "\n",
       "\n",
       "\n",
       "8. 1. 2\n",
       "2. 3\n",
       "3. 4\n",
       "4. 7\n",
       "5. 9\n",
       "6. 13\n",
       "\n",
       "\n",
       "\n",
       "9. 1. 2\n",
       "2. 4\n",
       "3. 8\n",
       "4. 10\n",
       "5. 12\n",
       "\n",
       "\n",
       "\n",
       "10. 1. 3\n",
       "2. 4\n",
       "3. 9\n",
       "4. 11\n",
       "5. 12\n",
       "\n",
       "\n",
       "\n",
       "\n",
       "\n"
      ],
      "text/plain": [
       "[[1]]\n",
       " [1]  14  16  17  18  19  20  21  22  24  25  32  37 255 256 257\n",
       "\n",
       "[[2]]\n",
       "[1]  8  9 13 15\n",
       "\n",
       "[[3]]\n",
       "[1]  4  7  8 10 11 34\n",
       "\n",
       "[[4]]\n",
       "[1]  3  7  8  9 10\n",
       "\n",
       "[[5]]\n",
       "[1]  6 34 38\n",
       "\n",
       "[[6]]\n",
       "[1]  5 11 34 38\n",
       "\n",
       "[[7]]\n",
       "[1] 3 4 8\n",
       "\n",
       "[[8]]\n",
       "[1]  2  3  4  7  9 13\n",
       "\n",
       "[[9]]\n",
       "[1]  2  4  8 10 12\n",
       "\n",
       "[[10]]\n",
       "[1]  3  4  9 11 12\n"
      ]
     },
     "metadata": {},
     "output_type": "display_data"
    }
   ],
   "source": [
    "inFeaturesSubset.nb[1:10]"
   ]
  },
  {
   "cell_type": "code",
   "execution_count": 10,
   "metadata": {
    "collapsed": true
   },
   "outputs": [],
   "source": [
    "#Retrieve neighborhood list\n",
    "inFeaturesSubset.listb <- nb2listw(inFeaturesSubset.nb, style = \"B\")\n",
    "inFeaturesSubset.listw <- nb2listw(inFeaturesSubset.nb, style = \"W\")"
   ]
  },
  {
   "cell_type": "code",
   "execution_count": 11,
   "metadata": {},
   "outputs": [
    {
     "data": {
      "text/html": [
       "<ol class=list-inline>\n",
       "\t<li>'style'</li>\n",
       "\t<li>'neighbours'</li>\n",
       "\t<li>'weights'</li>\n",
       "</ol>\n"
      ],
      "text/latex": [
       "\\begin{enumerate*}\n",
       "\\item 'style'\n",
       "\\item 'neighbours'\n",
       "\\item 'weights'\n",
       "\\end{enumerate*}\n"
      ],
      "text/markdown": [
       "1. 'style'\n",
       "2. 'neighbours'\n",
       "3. 'weights'\n",
       "\n",
       "\n"
      ],
      "text/plain": [
       "[1] \"style\"      \"neighbours\" \"weights\"   "
      ]
     },
     "metadata": {},
     "output_type": "display_data"
    }
   ],
   "source": [
    "names(inFeaturesSubset.listb)"
   ]
  },
  {
   "cell_type": "code",
   "execution_count": 12,
   "metadata": {},
   "outputs": [
    {
     "data": {
      "text/html": [
       "<ol>\n",
       "\t<li><ol class=list-inline>\n",
       "\t<li>1</li>\n",
       "\t<li>1</li>\n",
       "\t<li>1</li>\n",
       "\t<li>1</li>\n",
       "\t<li>1</li>\n",
       "\t<li>1</li>\n",
       "\t<li>1</li>\n",
       "\t<li>1</li>\n",
       "\t<li>1</li>\n",
       "\t<li>1</li>\n",
       "\t<li>1</li>\n",
       "\t<li>1</li>\n",
       "\t<li>1</li>\n",
       "\t<li>1</li>\n",
       "\t<li>1</li>\n",
       "</ol>\n",
       "</li>\n",
       "\t<li><ol class=list-inline>\n",
       "\t<li>1</li>\n",
       "\t<li>1</li>\n",
       "\t<li>1</li>\n",
       "\t<li>1</li>\n",
       "</ol>\n",
       "</li>\n",
       "\t<li><ol class=list-inline>\n",
       "\t<li>1</li>\n",
       "\t<li>1</li>\n",
       "\t<li>1</li>\n",
       "\t<li>1</li>\n",
       "\t<li>1</li>\n",
       "\t<li>1</li>\n",
       "</ol>\n",
       "</li>\n",
       "\t<li><ol class=list-inline>\n",
       "\t<li>1</li>\n",
       "\t<li>1</li>\n",
       "\t<li>1</li>\n",
       "\t<li>1</li>\n",
       "\t<li>1</li>\n",
       "</ol>\n",
       "</li>\n",
       "\t<li><ol class=list-inline>\n",
       "\t<li>1</li>\n",
       "\t<li>1</li>\n",
       "\t<li>1</li>\n",
       "</ol>\n",
       "</li>\n",
       "\t<li><ol class=list-inline>\n",
       "\t<li>1</li>\n",
       "\t<li>1</li>\n",
       "\t<li>1</li>\n",
       "\t<li>1</li>\n",
       "</ol>\n",
       "</li>\n",
       "\t<li><ol class=list-inline>\n",
       "\t<li>1</li>\n",
       "\t<li>1</li>\n",
       "\t<li>1</li>\n",
       "</ol>\n",
       "</li>\n",
       "\t<li><ol class=list-inline>\n",
       "\t<li>1</li>\n",
       "\t<li>1</li>\n",
       "\t<li>1</li>\n",
       "\t<li>1</li>\n",
       "\t<li>1</li>\n",
       "\t<li>1</li>\n",
       "</ol>\n",
       "</li>\n",
       "\t<li><ol class=list-inline>\n",
       "\t<li>1</li>\n",
       "\t<li>1</li>\n",
       "\t<li>1</li>\n",
       "\t<li>1</li>\n",
       "\t<li>1</li>\n",
       "</ol>\n",
       "</li>\n",
       "\t<li><ol class=list-inline>\n",
       "\t<li>1</li>\n",
       "\t<li>1</li>\n",
       "\t<li>1</li>\n",
       "\t<li>1</li>\n",
       "\t<li>1</li>\n",
       "</ol>\n",
       "</li>\n",
       "</ol>\n"
      ],
      "text/latex": [
       "\\begin{enumerate}\n",
       "\\item \\begin{enumerate*}\n",
       "\\item 1\n",
       "\\item 1\n",
       "\\item 1\n",
       "\\item 1\n",
       "\\item 1\n",
       "\\item 1\n",
       "\\item 1\n",
       "\\item 1\n",
       "\\item 1\n",
       "\\item 1\n",
       "\\item 1\n",
       "\\item 1\n",
       "\\item 1\n",
       "\\item 1\n",
       "\\item 1\n",
       "\\end{enumerate*}\n",
       "\n",
       "\\item \\begin{enumerate*}\n",
       "\\item 1\n",
       "\\item 1\n",
       "\\item 1\n",
       "\\item 1\n",
       "\\end{enumerate*}\n",
       "\n",
       "\\item \\begin{enumerate*}\n",
       "\\item 1\n",
       "\\item 1\n",
       "\\item 1\n",
       "\\item 1\n",
       "\\item 1\n",
       "\\item 1\n",
       "\\end{enumerate*}\n",
       "\n",
       "\\item \\begin{enumerate*}\n",
       "\\item 1\n",
       "\\item 1\n",
       "\\item 1\n",
       "\\item 1\n",
       "\\item 1\n",
       "\\end{enumerate*}\n",
       "\n",
       "\\item \\begin{enumerate*}\n",
       "\\item 1\n",
       "\\item 1\n",
       "\\item 1\n",
       "\\end{enumerate*}\n",
       "\n",
       "\\item \\begin{enumerate*}\n",
       "\\item 1\n",
       "\\item 1\n",
       "\\item 1\n",
       "\\item 1\n",
       "\\end{enumerate*}\n",
       "\n",
       "\\item \\begin{enumerate*}\n",
       "\\item 1\n",
       "\\item 1\n",
       "\\item 1\n",
       "\\end{enumerate*}\n",
       "\n",
       "\\item \\begin{enumerate*}\n",
       "\\item 1\n",
       "\\item 1\n",
       "\\item 1\n",
       "\\item 1\n",
       "\\item 1\n",
       "\\item 1\n",
       "\\end{enumerate*}\n",
       "\n",
       "\\item \\begin{enumerate*}\n",
       "\\item 1\n",
       "\\item 1\n",
       "\\item 1\n",
       "\\item 1\n",
       "\\item 1\n",
       "\\end{enumerate*}\n",
       "\n",
       "\\item \\begin{enumerate*}\n",
       "\\item 1\n",
       "\\item 1\n",
       "\\item 1\n",
       "\\item 1\n",
       "\\item 1\n",
       "\\end{enumerate*}\n",
       "\n",
       "\\end{enumerate}\n"
      ],
      "text/markdown": [
       "1. 1. 1\n",
       "2. 1\n",
       "3. 1\n",
       "4. 1\n",
       "5. 1\n",
       "6. 1\n",
       "7. 1\n",
       "8. 1\n",
       "9. 1\n",
       "10. 1\n",
       "11. 1\n",
       "12. 1\n",
       "13. 1\n",
       "14. 1\n",
       "15. 1\n",
       "\n",
       "\n",
       "\n",
       "2. 1. 1\n",
       "2. 1\n",
       "3. 1\n",
       "4. 1\n",
       "\n",
       "\n",
       "\n",
       "3. 1. 1\n",
       "2. 1\n",
       "3. 1\n",
       "4. 1\n",
       "5. 1\n",
       "6. 1\n",
       "\n",
       "\n",
       "\n",
       "4. 1. 1\n",
       "2. 1\n",
       "3. 1\n",
       "4. 1\n",
       "5. 1\n",
       "\n",
       "\n",
       "\n",
       "5. 1. 1\n",
       "2. 1\n",
       "3. 1\n",
       "\n",
       "\n",
       "\n",
       "6. 1. 1\n",
       "2. 1\n",
       "3. 1\n",
       "4. 1\n",
       "\n",
       "\n",
       "\n",
       "7. 1. 1\n",
       "2. 1\n",
       "3. 1\n",
       "\n",
       "\n",
       "\n",
       "8. 1. 1\n",
       "2. 1\n",
       "3. 1\n",
       "4. 1\n",
       "5. 1\n",
       "6. 1\n",
       "\n",
       "\n",
       "\n",
       "9. 1. 1\n",
       "2. 1\n",
       "3. 1\n",
       "4. 1\n",
       "5. 1\n",
       "\n",
       "\n",
       "\n",
       "10. 1. 1\n",
       "2. 1\n",
       "3. 1\n",
       "4. 1\n",
       "5. 1\n",
       "\n",
       "\n",
       "\n",
       "\n",
       "\n"
      ],
      "text/plain": [
       "[[1]]\n",
       " [1] 1 1 1 1 1 1 1 1 1 1 1 1 1 1 1\n",
       "\n",
       "[[2]]\n",
       "[1] 1 1 1 1\n",
       "\n",
       "[[3]]\n",
       "[1] 1 1 1 1 1 1\n",
       "\n",
       "[[4]]\n",
       "[1] 1 1 1 1 1\n",
       "\n",
       "[[5]]\n",
       "[1] 1 1 1\n",
       "\n",
       "[[6]]\n",
       "[1] 1 1 1 1\n",
       "\n",
       "[[7]]\n",
       "[1] 1 1 1\n",
       "\n",
       "[[8]]\n",
       "[1] 1 1 1 1 1 1\n",
       "\n",
       "[[9]]\n",
       "[1] 1 1 1 1 1\n",
       "\n",
       "[[10]]\n",
       "[1] 1 1 1 1 1\n"
      ]
     },
     "metadata": {},
     "output_type": "display_data"
    }
   ],
   "source": [
    "inFeaturesSubset.listb$weights[1:10]"
   ]
  },
  {
   "cell_type": "markdown",
   "metadata": {},
   "source": [
    "## Feature Attribute to Analyze\n",
    "\n",
    "In most assessments of spatial autocorrelation, some attribute of each feature is compared relative to that of it's neighbors. Therefore, let's select an attribute to analyze. Here, incidence rate over the population is examined. In this case, prostate cancer incidence 'ObsIncid' is taken relative to the male population 'MalePop'. Just to ensure that every feature can be associated with a rate (i.e. in the event that no population exists in an area), the rate variable is checked for Null and set to 0.0 if such instances exist."
   ]
  },
  {
   "cell_type": "code",
   "execution_count": 15,
   "metadata": {},
   "outputs": [],
   "source": [
    "#retrieve variables\n",
    "inVa <- as.numeric(as.character(inFeaturesSubset$ObsIncid)) # prostate cancer incidence\n",
    "inVb <- as.numeric(as.character(inFeaturesSubset$MalePop)) # male population\n",
    "\n",
    "#incident rate variables\n",
    "VarA <- (inVa/inVb)\n",
    "\n",
    "#if a variable is Null/NaN, set to zero so there are no missing values\n",
    "VarA[is.nan(VarA)] <- 0"
   ]
  },
  {
   "cell_type": "code",
   "execution_count": 16,
   "metadata": {},
   "outputs": [
    {
     "data": {
      "image/png": "[encoded data removed]",
      "text/plain": [
       "Plot with title \"NY Prostate Cancer Incidence Rate\""
      ]
     },
     "metadata": {},
     "output_type": "display_data"
    }
   ],
   "source": [
    "#classify variable\n",
    "numcat <- 6\n",
    "\n",
    "cate <- classIntervals(VarA,numcat,style=\"quantile\")\n",
    "\n",
    "#plot classified variable\n",
    "pal1 <- gray.colors(numcat)\n",
    "\n",
    "cols <- findColours(cate,pal1)\n",
    "\n",
    "plot(inFeaturesSubset, col = cols, lwd = 0.2,\n",
    "     main = \"NY Prostate Cancer Incidence Rate\", cex.main = 0.8)\n",
    "\n",
    "brks <- round(cate$brks,3)\n",
    "\n",
    "leg.text <- paste(brks[-numcat], brks[-1], sep=\" - \")\n",
    "\n",
    "legend(\"bottomleft\", fill = attr(cols, \"palette\"), legend = leg.text,\n",
    "       bty = \"n\",title = \"Incidence Rate\",cex = 0.7)"
   ]
  },
  {
   "cell_type": "markdown",
   "metadata": {},
   "source": [
    "## Configuration for multiple testing\n",
    "\n",
    "If one were to run an analysis that resulted in a set of signficance values (p-values) for each observation, they typically (unless the implementation of the method provided for other distributional forms) would be considered 'uncorrected' or simply based on the normal distribution at this point. That is, they would not account for potential spatial dependencies and/or testing of alternative hypotheses. In many geostatistical approaches, the resulting p-values are used to evaluate significance, however, they alone do not provide information on the nature of the spatial relationship. As such, z-scores (standard scores or deviations) are used to provide greater insights into the nature of the spatial relationships. Thus, a linkage needs to be made between the significant p-values and the z-scores with which they are associated.  Let's take a look at the confidence levels associated with the normal distribution and their associated z-scores."
   ]
  },
  {
   "cell_type": "markdown",
   "metadata": {},
   "source": [
    "### Normally Distributed Data\n",
    "\n",
    "Let's consider z-scores bounds at different confidence levels for the normal distribution. To do this, consider a vector of different confidence levels (named 'probsU' below)for which to identify corresponding z-scores. For each confidence level (i.e. 0.90, 0.95, 0.99, 0.995), the confidence level is then converted into a one tailed significance level. The significance probability is then input into the qnorm() function to return the quantile (z-scores) associated with that particular probability."
   ]
  },
  {
   "cell_type": "code",
   "execution_count": 17,
   "metadata": {
    "collapsed": true
   },
   "outputs": [],
   "source": [
    "#Normal z-scores\n",
    "#list of normal z-scores\n",
    "zNormal <- list()\n",
    "\n",
    "#find z-scores corresponding to each of these levels of confidence\n",
    "probsU <- c(0.90, 0.95, 0.99, 0.995)\n",
    "\n",
    "#compute higher levels\n",
    "i <- 1\n",
    "for (pr in probsU) {    \n",
    "    #convert confidence levels to significance probs.\n",
    "    inpr <- 1-((1-pr)/2)\n",
    "    #compute normal error for z-score\n",
    "    errorZ <- qnorm(inpr,lower.tail=TRUE)\n",
    "    zNormal[[i]] <- 0 + errorZ    \n",
    "    i <- i+1\n",
    "}"
   ]
  },
  {
   "cell_type": "code",
   "execution_count": 18,
   "metadata": {},
   "outputs": [
    {
     "data": {
      "text/html": [
       "<ol>\n",
       "\t<li>1.64485362695147</li>\n",
       "\t<li>1.95996398454005</li>\n",
       "\t<li>2.5758293035489</li>\n",
       "\t<li>2.80703376834381</li>\n",
       "</ol>\n"
      ],
      "text/latex": [
       "\\begin{enumerate}\n",
       "\\item 1.64485362695147\n",
       "\\item 1.95996398454005\n",
       "\\item 2.5758293035489\n",
       "\\item 2.80703376834381\n",
       "\\end{enumerate}\n"
      ],
      "text/markdown": [
       "1. 1.64485362695147\n",
       "2. 1.95996398454005\n",
       "3. 2.5758293035489\n",
       "4. 2.80703376834381\n",
       "\n",
       "\n"
      ],
      "text/plain": [
       "[[1]]\n",
       "[1] 1.644854\n",
       "\n",
       "[[2]]\n",
       "[1] 1.959964\n",
       "\n",
       "[[3]]\n",
       "[1] 2.575829\n",
       "\n",
       "[[4]]\n",
       "[1] 2.807034\n"
      ]
     },
     "metadata": {},
     "output_type": "display_data"
    }
   ],
   "source": [
    "zNormal"
   ]
  },
  {
   "cell_type": "code",
   "execution_count": 19,
   "metadata": {
    "collapsed": true
   },
   "outputs": [],
   "source": [
    "zM <- unlist(zNormal)"
   ]
  },
  {
   "cell_type": "code",
   "execution_count": 20,
   "metadata": {},
   "outputs": [
    {
     "data": {
      "text/html": [
       "<ol class=list-inline>\n",
       "\t<li>1.64485362695147</li>\n",
       "\t<li>1.95996398454005</li>\n",
       "\t<li>2.5758293035489</li>\n",
       "\t<li>2.80703376834381</li>\n",
       "</ol>\n"
      ],
      "text/latex": [
       "\\begin{enumerate*}\n",
       "\\item 1.64485362695147\n",
       "\\item 1.95996398454005\n",
       "\\item 2.5758293035489\n",
       "\\item 2.80703376834381\n",
       "\\end{enumerate*}\n"
      ],
      "text/markdown": [
       "1. 1.64485362695147\n",
       "2. 1.95996398454005\n",
       "3. 2.5758293035489\n",
       "4. 2.80703376834381\n",
       "\n",
       "\n"
      ],
      "text/plain": [
       "[1] 1.644854 1.959964 2.575829 2.807034"
      ]
     },
     "metadata": {},
     "output_type": "display_data"
    }
   ],
   "source": [
    "zM"
   ]
  },
  {
   "cell_type": "code",
   "execution_count": 21,
   "metadata": {},
   "outputs": [
    {
     "data": {
      "text/html": [
       "<ol class=list-inline>\n",
       "\t<li><span style=white-space:pre-wrap>'0.9   1.64485362695147'</span></li>\n",
       "\t<li><span style=white-space:pre-wrap>'0.95   1.95996398454005'</span></li>\n",
       "\t<li><span style=white-space:pre-wrap>'0.99   2.5758293035489'</span></li>\n",
       "\t<li><span style=white-space:pre-wrap>'0.995   2.80703376834381'</span></li>\n",
       "</ol>\n"
      ],
      "text/latex": [
       "\\begin{enumerate*}\n",
       "\\item '0.9   1.64485362695147'\n",
       "\\item '0.95   1.95996398454005'\n",
       "\\item '0.99   2.5758293035489'\n",
       "\\item '0.995   2.80703376834381'\n",
       "\\end{enumerate*}\n"
      ],
      "text/markdown": [
       "1. <span style=white-space:pre-wrap>'0.9   1.64485362695147'</span>\n",
       "2. <span style=white-space:pre-wrap>'0.95   1.95996398454005'</span>\n",
       "3. <span style=white-space:pre-wrap>'0.99   2.5758293035489'</span>\n",
       "4. <span style=white-space:pre-wrap>'0.995   2.80703376834381'</span>\n",
       "\n",
       "\n"
      ],
      "text/plain": [
       "[1] \"0.9   1.64485362695147\"   \"0.95   1.95996398454005\" \n",
       "[3] \"0.99   2.5758293035489\"   \"0.995   2.80703376834381\""
      ]
     },
     "metadata": {},
     "output_type": "display_data"
    }
   ],
   "source": [
    "#for each confidence level, print the confidence level and corresponding z-score\n",
    "paste(probsU, zM, sep = \"   \")"
   ]
  },
  {
   "cell_type": "markdown",
   "metadata": {},
   "source": [
    "## Effective Sample Size\n",
    "\n",
    "Should spatial dependence among the features be assumed to exist, then the distributional qualities evaluated need to be altered to reflect these dependencies. One way to do this is to consider what's known as the effective sample size (ESS): the number of samples that are likely required in order to realize a significant outcome. In other words, given that spatial autocorrelation is thought to exist, ESS is the number of independent samples that would be needed to represent the sampling size of a spatially autocorrelated dataset.  For example, the number of observations in the zip code dataset is 1381 (after the areas with no neighbors were eliminated). Assuming these are perfectly autocorrelated observations, then only one sample is needed to detect spatial autocorrelation. This is what is assumed in the 'uncorrected' normally distributed z-scores described previously. However, in instances where spatial autocorrelation may not be 'perfect', a greater number of samples would be required - i.e. ESS would higher.\n",
    "\n",
    "Griffith (2005) suggests that one way to derive ESS for a spatial dataset is to run a spatial simultaneous autoregressive error model estimation on the analysis variable relative to it's neighborhood to gauge the extent of spatial dependence (spoiler alert - this will covered in more detail in a later module). The spatial autocorrelation coefficient (rho) can then be retrieved and used to calculate estimated sample size per the equation of Griffith (2005). Here, the spatial simultaneous autoregressive error model is computed using the errorsarlm() function (spdep library). The ESS calculated below is 667.844, meaning that ~667 random samples would be needed to detect significant spatial autocorrelation in this dataset.  As you could observe by manually varying the ESS, the larger the ESS, the more constrictive the z-scores become. \n",
    "\n",
    "Griffith, D.A. (2005) Effective geographic sample size in the presence of spatial autocorrelation. Annals of the Association of American Geographers. 95(4). Available online through the MU library."
   ]
  },
  {
   "cell_type": "code",
   "execution_count": 22,
   "metadata": {},
   "outputs": [
    {
     "data": {
      "text/plain": [
       "\n",
       "Call:\n",
       "errorsarlm(formula = VarA ~ 1, listw = inFeaturesSubset.listw)\n",
       "Type: error \n",
       "\n",
       "Coefficients:\n",
       "     lambda (Intercept) \n",
       " 0.32810449  0.01167451 \n",
       "\n",
       "Log likelihood: 5027.743 "
      ]
     },
     "metadata": {},
     "output_type": "display_data"
    }
   ],
   "source": [
    "#Compute effective sample size\n",
    "feat.d.sar <- errorsarlm(VarA ~1, listw = inFeaturesSubset.listw)\n",
    "\n",
    "feat.d.sar"
   ]
  },
  {
   "cell_type": "code",
   "execution_count": 23,
   "metadata": {},
   "outputs": [
    {
     "data": {
      "text/html": [
       "<strong>lambda:</strong> 0.328104492131914"
      ],
      "text/latex": [
       "\\textbf{lambda:} 0.328104492131914"
      ],
      "text/markdown": [
       "**lambda:** 0.328104492131914"
      ],
      "text/plain": [
       "   lambda \n",
       "0.3281045 "
      ]
     },
     "metadata": {},
     "output_type": "display_data"
    }
   ],
   "source": [
    "rho <- feat.d.sar$lambda\n",
    "\n",
    "rho"
   ]
  },
  {
   "cell_type": "code",
   "execution_count": 24,
   "metadata": {},
   "outputs": [
    {
     "data": {
      "text/html": [
       "0.328104492131914"
      ],
      "text/latex": [
       "0.328104492131914"
      ],
      "text/markdown": [
       "0.328104492131914"
      ],
      "text/plain": [
       "[1] 0.3281045"
      ]
     },
     "metadata": {},
     "output_type": "display_data"
    }
   ],
   "source": [
    "rho2 <- unname(rho)\n",
    "\n",
    "rho2"
   ]
  },
  {
   "cell_type": "code",
   "execution_count": 25,
   "metadata": {},
   "outputs": [
    {
     "data": {
      "text/html": [
       "1381"
      ],
      "text/latex": [
       "1381"
      ],
      "text/markdown": [
       "1381"
      ],
      "text/plain": [
       "[1] 1381"
      ]
     },
     "metadata": {},
     "output_type": "display_data"
    }
   ],
   "source": [
    "#compute set size of observed z-score distribution\n",
    "dvalues <- length(inFeaturesSubset)\n",
    "\n",
    "dvalues"
   ]
  },
  {
   "cell_type": "code",
   "execution_count": 26,
   "metadata": {},
   "outputs": [
    {
     "data": {
      "text/html": [
       "667.844040743148"
      ],
      "text/latex": [
       "667.844040743148"
      ],
      "text/markdown": [
       "667.844040743148"
      ],
      "text/plain": [
       "[1] 667.844"
      ]
     },
     "metadata": {},
     "output_type": "display_data"
    }
   ],
   "source": [
    "#Calculated effective sample size per Griffith's (2005) eq.\n",
    "ESS <- dvalues * (1-(1/(1-exp(-1.92349)))*((dvalues-1)/dvalues)*(1-exp((-2.12373*rho2) + (.20024*sqrt(rho2)))))\n",
    "\n",
    "ESS"
   ]
  },
  {
   "cell_type": "code",
   "execution_count": 27,
   "metadata": {},
   "outputs": [
    {
     "data": {
      "text/html": [
       "'ESS = 667.844040743148'"
      ],
      "text/latex": [
       "'ESS = 667.844040743148'"
      ],
      "text/markdown": [
       "'ESS = 667.844040743148'"
      ],
      "text/plain": [
       "[1] \"ESS = 667.844040743148\""
      ]
     },
     "metadata": {},
     "output_type": "display_data"
    }
   ],
   "source": [
    "paste(\"ESS =\", ESS, sep = \" \")"
   ]
  },
  {
   "cell_type": "markdown",
   "metadata": {},
   "source": [
    "### Other Adjustments\n",
    "\n",
    "Instead of simply evaluating a hypothesis based on the uncorrected p-values, we can now adjust the p-value given what is known about the ESS for the dataset.  Let's examine several other ways to adjust the interpretation of the z-scores: a) adjusted normal dist, b) t-statistic adjusted, c) Bonferroni adjustment, etc."
   ]
  },
  {
   "cell_type": "markdown",
   "metadata": {},
   "source": [
    "### Adjusted normal distribution\n",
    "\n",
    "The original confidence level can be adjusted for a normal distribution using the ESS. The the qnorm() function can be applied to obtain the quantiles (z-scores) associated with each confidence level given the ESS is used to adjust the significance levels."
   ]
  },
  {
   "cell_type": "code",
   "execution_count": 28,
   "metadata": {},
   "outputs": [
    {
     "data": {
      "text/html": [
       "<ol class=list-inline>\n",
       "\t<li><span style=white-space:pre-wrap>'0.9   3.80313915404991'</span></li>\n",
       "\t<li><span style=white-space:pre-wrap>'0.95   3.97189289753463'</span></li>\n",
       "\t<li><span style=white-space:pre-wrap>'0.99   4.34070857078138'</span></li>\n",
       "\t<li><span style=white-space:pre-wrap>'0.995   4.49098981897933'</span></li>\n",
       "</ol>\n"
      ],
      "text/latex": [
       "\\begin{enumerate*}\n",
       "\\item '0.9   3.80313915404991'\n",
       "\\item '0.95   3.97189289753463'\n",
       "\\item '0.99   4.34070857078138'\n",
       "\\item '0.995   4.49098981897933'\n",
       "\\end{enumerate*}\n"
      ],
      "text/markdown": [
       "1. <span style=white-space:pre-wrap>'0.9   3.80313915404991'</span>\n",
       "2. <span style=white-space:pre-wrap>'0.95   3.97189289753463'</span>\n",
       "3. <span style=white-space:pre-wrap>'0.99   4.34070857078138'</span>\n",
       "4. <span style=white-space:pre-wrap>'0.995   4.49098981897933'</span>\n",
       "\n",
       "\n"
      ],
      "text/plain": [
       "[1] \"0.9   3.80313915404991\"   \"0.95   3.97189289753463\" \n",
       "[3] \"0.99   4.34070857078138\"  \"0.995   4.49098981897933\""
      ]
     },
     "metadata": {},
     "output_type": "display_data"
    }
   ],
   "source": [
    "#list of adjusted normal z-score breakpts\n",
    "zAdjusted <- list()\n",
    "\n",
    "#find z-scores corresponding to each of these levels of confidence\n",
    "probsU <- c(0.90, 0.95, 0.99, 0.995)\n",
    "\n",
    "#compute higher levels\n",
    "i <- 1\n",
    "for (pr in probsU) {    \n",
    "    rmean <- mean(VarA)\n",
    "    newpr <- 1-(((1-pr)/ESS)/2)\n",
    "    \n",
    "    #compute error according to adjusted normal distribution\n",
    "    errorN <- qnorm(newpr,mean=rmean,lower.tail=TRUE)\n",
    "    zAdjusted[[i]] <-0 + errorN   \n",
    "      \n",
    "    i <- i+1\n",
    "}\n",
    "\n",
    "zcM <- unlist(zAdjusted)\n",
    "#for each confidence level, print the confidence level and corresponding z-score\n",
    "paste(probsU,zcM,sep=\"   \")"
   ]
  },
  {
   "cell_type": "markdown",
   "metadata": {},
   "source": [
    "### t-distribution\n",
    "\n",
    "For the t-distribution, the original confidence level can be adjusted using the ESS. The the qt() function can be applied to return the quantiles (z-scores) of the t-distribution associated with the significance values given the ESS is used to adjust the significance values and the degrees of freedom in the dataset."
   ]
  },
  {
   "cell_type": "code",
   "execution_count": 29,
   "metadata": {},
   "outputs": [
    {
     "data": {
      "text/html": [
       "<ol class=list-inline>\n",
       "\t<li><span style=white-space:pre-wrap>'0.9   3.81350902899451'</span></li>\n",
       "\t<li><span style=white-space:pre-wrap>'0.95   3.9852074973756'</span></li>\n",
       "\t<li><span style=white-space:pre-wrap>'0.99   4.36137453803379'</span></li>\n",
       "\t<li><span style=white-space:pre-wrap>'0.995   4.51503276883661'</span></li>\n",
       "</ol>\n"
      ],
      "text/latex": [
       "\\begin{enumerate*}\n",
       "\\item '0.9   3.81350902899451'\n",
       "\\item '0.95   3.9852074973756'\n",
       "\\item '0.99   4.36137453803379'\n",
       "\\item '0.995   4.51503276883661'\n",
       "\\end{enumerate*}\n"
      ],
      "text/markdown": [
       "1. <span style=white-space:pre-wrap>'0.9   3.81350902899451'</span>\n",
       "2. <span style=white-space:pre-wrap>'0.95   3.9852074973756'</span>\n",
       "3. <span style=white-space:pre-wrap>'0.99   4.36137453803379'</span>\n",
       "4. <span style=white-space:pre-wrap>'0.995   4.51503276883661'</span>\n",
       "\n",
       "\n"
      ],
      "text/plain": [
       "[1] \"0.9   3.81350902899451\"   \"0.95   3.9852074973756\"  \n",
       "[3] \"0.99   4.36137453803379\"  \"0.995   4.51503276883661\""
      ]
     },
     "metadata": {},
     "output_type": "display_data"
    }
   ],
   "source": [
    "#list of adjusted t statistic z-score breakpts\n",
    "zTStatAdjusted <- list()\n",
    "\n",
    "#find z-scores corresponding to each of these levels of confidence\n",
    "probsU <- c(0.90, 0.95, 0.99, 0.995)\n",
    "\n",
    "#compute higher levels\n",
    "i <- 1\n",
    "for (pr in probsU) {       \n",
    "    #modify the probability to account for ESS\n",
    "    newpr <- 1-(((1-pr)/ESS)/2)\n",
    "    \n",
    "    #compute error for t-statistic    \n",
    "    errorT <- qt(newpr,df=ESS-2,lower.tail = TRUE) \n",
    "    zTStatAdjusted[[i]] <- 0 + errorT\n",
    "    \n",
    "    i <- i+1\n",
    "}\n",
    "\n",
    "tcM <- unlist(zTStatAdjusted)\n",
    "\n",
    "#for each confidence level, print the confidence level and corresponding z-score\n",
    "paste(probsU,tcM,sep=\"   \")"
   ]
  },
  {
   "cell_type": "markdown",
   "metadata": {},
   "source": [
    "### Bonferroni Correction\n",
    "\n",
    "The original confidence level can be adjusted using a Bonferroni Correction. The Bonferroni correction adjusts the significance levels relative to the number of elements in the dataset.  The the qnorm() function can then be applied to return the quantiles (z-scores) given the adjusted significance values.\n"
   ]
  },
  {
   "cell_type": "code",
   "execution_count": 30,
   "metadata": {},
   "outputs": [
    {
     "data": {
      "text/html": [
       "<ol class=list-inline>\n",
       "\t<li><span style=white-space:pre-wrap>'0.9   3.96822057594178'</span></li>\n",
       "\t<li><span style=white-space:pre-wrap>'0.95   4.13044832063272'</span></li>\n",
       "\t<li><span style=white-space:pre-wrap>'0.99   4.48647474486686'</span></li>\n",
       "\t<li><span style=white-space:pre-wrap>'0.995   4.63205354443898'</span></li>\n",
       "</ol>\n"
      ],
      "text/latex": [
       "\\begin{enumerate*}\n",
       "\\item '0.9   3.96822057594178'\n",
       "\\item '0.95   4.13044832063272'\n",
       "\\item '0.99   4.48647474486686'\n",
       "\\item '0.995   4.63205354443898'\n",
       "\\end{enumerate*}\n"
      ],
      "text/markdown": [
       "1. <span style=white-space:pre-wrap>'0.9   3.96822057594178'</span>\n",
       "2. <span style=white-space:pre-wrap>'0.95   4.13044832063272'</span>\n",
       "3. <span style=white-space:pre-wrap>'0.99   4.48647474486686'</span>\n",
       "4. <span style=white-space:pre-wrap>'0.995   4.63205354443898'</span>\n",
       "\n",
       "\n"
      ],
      "text/plain": [
       "[1] \"0.9   3.96822057594178\"   \"0.95   4.13044832063272\" \n",
       "[3] \"0.99   4.48647474486686\"  \"0.995   4.63205354443898\""
      ]
     },
     "metadata": {},
     "output_type": "display_data"
    }
   ],
   "source": [
    "#list of bonferroni corrected z-score breakpts\n",
    "zBNAdjusted <- list()\n",
    "\n",
    "#find z-scores corresponding to each of these levels of confidence\n",
    "probsU <- c(0.90, 0.95, 0.99, 0.995)\n",
    "\n",
    "#compute set size of observed z-score distribution\n",
    "dval <- length(inFeaturesSubset)\n",
    "\n",
    "#compute higher levels\n",
    "i <- 1\n",
    "for (pr in probsU) {\n",
    "    \n",
    "    #compute error according to bonferonni adjustment\n",
    "    berpr <- 1-(((1-pr)/dval)/2)\n",
    "    errorBN <- qnorm(berpr,lower.tail=TRUE)\n",
    "    zBNAdjusted[[i]] <- 0 + errorBN\n",
    "    \n",
    "    i <- i+1\n",
    "}\n",
    "\n",
    "bfcM <- unlist(zBNAdjusted)\n",
    "#for each confidence level, print the confidence level and corresponding z-score\n",
    "paste(probsU,bfcM,sep=\"   \")"
   ]
  }
 ],
 "metadata": {
  "kernelspec": {
   "display_name": "R",
   "language": "R",
   "name": "ir"
  },
  "language_info": {
   "codemirror_mode": "r",
   "file_extension": ".r",
   "mimetype": "text/x-r-source",
   "name": "R",
   "pygments_lexer": "r",
   "version": "3.4.1"
  }
 },
 "nbformat": 4,
 "nbformat_minor": 2
}
