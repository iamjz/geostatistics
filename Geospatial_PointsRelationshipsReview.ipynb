{
 "cells": [
  {
   "cell_type": "code",
   "execution_count": 1,
   "metadata": {},
   "outputs": [
    {
     "name": "stderr",
     "output_type": "stream",
     "text": [
      "Warning message:\n",
      "\"package 'rgdal' was built under R version 3.4.2\"Warning message:\n",
      "\"package 'sp' was built under R version 3.4.2\"Warning message:\n",
      "\"package 'spdep' was built under R version 3.4.2\""
     ]
    }
   ],
   "source": [
    "# Load relevant R packages\n",
    "inLibraries = list('repr','rgdal','spdep')\n",
    "for (rpack in inLibraries) {\n",
    "  if (is.element(rpack,installed.packages()[,1])){           \n",
    "      #Load the library into R\n",
    "      suppressMessages(library(rpack,character.only = TRUE))\n",
    "    }\n",
    "    else {\n",
    "        print(paste(\"Warning:  \",rpack,\" is not an installed package\"))\n",
    "    }\n",
    "}\n",
    "#resize plot area\n",
    "options(repr.plot.width=6, repr.plot.height=6)"
   ]
  },
  {
   "cell_type": "code",
   "execution_count": 2,
   "metadata": {},
   "outputs": [
    {
     "name": "stdout",
     "output_type": "stream",
     "text": [
      "OGR data source with driver: ESRI Shapefile \n",
      "Source: \"datasets/european_airports\", layer: \"EuropeanAirports2006\"\n",
      "with 1884 features\n",
      "It has 10 fields\n"
     ]
    }
   ],
   "source": [
    "euro <- readOGR(\"datasets/european_airports\", \"EuropeanAirports2006\")"
   ]
  },
  {
   "cell_type": "code",
   "execution_count": 3,
   "metadata": {
    "collapsed": true
   },
   "outputs": [],
   "source": [
    "peek <- head(euro@data)"
   ]
  },
  {
   "cell_type": "code",
   "execution_count": 4,
   "metadata": {},
   "outputs": [
    {
     "data": {
      "text/html": [
       "<table>\n",
       "<thead><tr><th scope=col>LONGITUDE</th><th scope=col>LATITUDE</th><th scope=col>CODE</th><th scope=col>NAME</th><th scope=col>CITY</th><th scope=col>COUNTRY</th><th scope=col>C_NAME</th><th scope=col>OUTFLOW</th><th scope=col>INFLOW</th><th scope=col>TOTALFLOW</th></tr></thead>\n",
       "<tbody>\n",
       "\t<tr><td>-25170000              </td><td>36970000               </td><td>SMA                    </td><td>Vila Do Porto          </td><td>Santa Maria            </td><td>PT                     </td><td>Portugal               </td><td> 939.75                </td><td>  939.75               </td><td> 1879.50               </td></tr>\n",
       "\t<tr><td>-28720000              </td><td>38520000               </td><td>HOR                    </td><td>Horta                  </td><td>Horta, Faial Is.       </td><td>PT                     </td><td>Portugal               </td><td>3026.50                </td><td> 3023.50               </td><td> 6050.00               </td></tr>\n",
       "\t<tr><td>-28330000              </td><td>38470000               </td><td>PIX                    </td><td>Pico Island            </td><td>Pico Island            </td><td>PT                     </td><td>Portugal               </td><td> 826.75                </td><td>  986.50               </td><td> 1813.25               </td></tr>\n",
       "\t<tr><td>-27090000              </td><td>38760000               </td><td>TER                    </td><td>Lajes                  </td><td>Terceira               </td><td>PT                     </td><td>Portugal               </td><td>6621.00                </td><td> 6424.25               </td><td>13045.25               </td></tr>\n",
       "\t<tr><td>-25680000              </td><td>37750000               </td><td>PDL                    </td><td>Nordela                </td><td>Ponta Delgada          </td><td>PT                     </td><td>Portugal               </td><td>9990.50                </td><td>10149.00               </td><td>20139.50               </td></tr>\n",
       "\t<tr><td>-23170000              </td><td>64970000               </td><td>GUU                    </td><td>Grundarf Jordur Airport</td><td>Grundarf Jordur        </td><td>IS                     </td><td>Iceland                </td><td>   0.00                </td><td>    0.00               </td><td>    0.00               </td></tr>\n",
       "</tbody>\n",
       "</table>\n"
      ],
      "text/latex": [
       "\\begin{tabular}{r|llllllllll}\n",
       " LONGITUDE & LATITUDE & CODE & NAME & CITY & COUNTRY & C\\_NAME & OUTFLOW & INFLOW & TOTALFLOW\\\\\n",
       "\\hline\n",
       "\t -25170000               & 36970000                & SMA                     & Vila Do Porto           & Santa Maria             & PT                      & Portugal                &  939.75                 &   939.75                &  1879.50               \\\\\n",
       "\t -28720000               & 38520000                & HOR                     & Horta                   & Horta, Faial Is.        & PT                      & Portugal                & 3026.50                 &  3023.50                &  6050.00               \\\\\n",
       "\t -28330000               & 38470000                & PIX                     & Pico Island             & Pico Island             & PT                      & Portugal                &  826.75                 &   986.50                &  1813.25               \\\\\n",
       "\t -27090000               & 38760000                & TER                     & Lajes                   & Terceira                & PT                      & Portugal                & 6621.00                 &  6424.25                & 13045.25               \\\\\n",
       "\t -25680000               & 37750000                & PDL                     & Nordela                 & Ponta Delgada           & PT                      & Portugal                & 9990.50                 & 10149.00                & 20139.50               \\\\\n",
       "\t -23170000               & 64970000                & GUU                     & Grundarf Jordur Airport & Grundarf Jordur         & IS                      & Iceland                 &    0.00                 &     0.00                &     0.00               \\\\\n",
       "\\end{tabular}\n"
      ],
      "text/markdown": [
       "\n",
       "LONGITUDE | LATITUDE | CODE | NAME | CITY | COUNTRY | C_NAME | OUTFLOW | INFLOW | TOTALFLOW | \n",
       "|---|---|---|---|---|---|\n",
       "| -25170000               | 36970000                | SMA                     | Vila Do Porto           | Santa Maria             | PT                      | Portugal                |  939.75                 |   939.75                |  1879.50                | \n",
       "| -28720000               | 38520000                | HOR                     | Horta                   | Horta, Faial Is.        | PT                      | Portugal                | 3026.50                 |  3023.50                |  6050.00                | \n",
       "| -28330000               | 38470000                | PIX                     | Pico Island             | Pico Island             | PT                      | Portugal                |  826.75                 |   986.50                |  1813.25                | \n",
       "| -27090000               | 38760000                | TER                     | Lajes                   | Terceira                | PT                      | Portugal                | 6621.00                 |  6424.25                | 13045.25                | \n",
       "| -25680000               | 37750000                | PDL                     | Nordela                 | Ponta Delgada           | PT                      | Portugal                | 9990.50                 | 10149.00                | 20139.50                | \n",
       "| -23170000               | 64970000                | GUU                     | Grundarf Jordur Airport | Grundarf Jordur         | IS                      | Iceland                 |    0.00                 |     0.00                |     0.00                | \n",
       "\n",
       "\n"
      ],
      "text/plain": [
       "  LONGITUDE LATITUDE CODE NAME                    CITY             COUNTRY\n",
       "1 -25170000 36970000 SMA  Vila Do Porto           Santa Maria      PT     \n",
       "2 -28720000 38520000 HOR  Horta                   Horta, Faial Is. PT     \n",
       "3 -28330000 38470000 PIX  Pico Island             Pico Island      PT     \n",
       "4 -27090000 38760000 TER  Lajes                   Terceira         PT     \n",
       "5 -25680000 37750000 PDL  Nordela                 Ponta Delgada    PT     \n",
       "6 -23170000 64970000 GUU  Grundarf Jordur Airport Grundarf Jordur  IS     \n",
       "  C_NAME   OUTFLOW INFLOW   TOTALFLOW\n",
       "1 Portugal  939.75   939.75  1879.50 \n",
       "2 Portugal 3026.50  3023.50  6050.00 \n",
       "3 Portugal  826.75   986.50  1813.25 \n",
       "4 Portugal 6621.00  6424.25 13045.25 \n",
       "5 Portugal 9990.50 10149.00 20139.50 \n",
       "6 Iceland     0.00     0.00     0.00 "
      ]
     },
     "metadata": {},
     "output_type": "display_data"
    }
   ],
   "source": [
    "peek"
   ]
  },
  {
   "cell_type": "code",
   "execution_count": 5,
   "metadata": {},
   "outputs": [
    {
     "data": {
      "text/plain": [
       "Object of class SpatialPointsDataFrame\n",
       "Coordinates:\n",
       "               min      max\n",
       "coords.x1 -3197096  7077693\n",
       "coords.x2  4166463 14440216\n",
       "Is projected: TRUE \n",
       "proj4string :\n",
       "[+proj=merc +lon_0=0 +lat_ts=0 +x_0=0 +y_0=0 +datum=WGS84 +units=m\n",
       "+no_defs +ellps=WGS84 +towgs84=0,0,0]\n",
       "Number of points: 1884\n",
       "Data attributes:\n",
       "   LONGITUDE            LATITUDE             CODE                     NAME     \n",
       " Min.   :-28720000   Min.   :35200000   AAH    :   1   Off-Line Point   : 499  \n",
       " 1st Qu.:  2830000   1st Qu.:46470000   AAL    :   1   Metropolitan Area:  11  \n",
       " Median :  8780000   Median :50565000   AAQ    :   1   Bus Service      :  10  \n",
       " Mean   : 10292468   Mean   :50934920   AAR    :   1   Rail Station     :   9  \n",
       " 3rd Qu.: 15272500   3rd Qu.:54635000   ABB    :   1   Railway Service  :   9  \n",
       " Max.   : 63580000   Max.   :78210000   ABC    :   1   Railway Station  :   9  \n",
       "                                        (Other):1878   (Other)          :1337  \n",
       "             CITY         COUNTRY               C_NAME       OUTFLOW        \n",
       " Paris         :   9   DE     :302   France        :302   Min.   :     0.0  \n",
       " Nottingham    :   6   FR     :302   Germany       :302   1st Qu.:     0.0  \n",
       " London        :   5   GB     :193   United Kingdom:193   Median :     0.0  \n",
       " Lyon          :   5   NO     :131   Norway        :131   Mean   :  8006.1  \n",
       " Basel/Mulhouse:   4   IT     :111   Italy         :111   3rd Qu.:   190.4  \n",
       " (Other)       :1840   CH     :101   Sweden        :101   Max.   :889328.0  \n",
       " NA's          :  15   (Other):744   (Other)       :744                     \n",
       "     INFLOW           TOTALFLOW        \n",
       " Min.   :     0.0   Min.   :      0.0  \n",
       " 1st Qu.:     0.0   1st Qu.:      0.0  \n",
       " Median :     0.0   Median :      0.0  \n",
       " Mean   :  8005.9   Mean   :  16011.9  \n",
       " 3rd Qu.:   195.2   3rd Qu.:    385.6  \n",
       " Max.   :888439.0   Max.   :1777767.0  \n",
       "                                       "
      ]
     },
     "metadata": {},
     "output_type": "display_data"
    }
   ],
   "source": [
    "summary(euro)"
   ]
  },
  {
   "cell_type": "code",
   "execution_count": 9,
   "metadata": {},
   "outputs": [
    {
     "data": {
      "image/png": "[encoded data removed]",
      "text/plain": [
       "Plot with title \"European Airports\""
      ]
     },
     "metadata": {},
     "output_type": "display_data"
    }
   ],
   "source": [
    "plot(euro, pch = 21, bg = \"lightblue\", col = \"lightblue\", \n",
    "                lwd = 0.5, cex = 0.4, main = \"European Airports\")"
   ]
  },
  {
   "cell_type": "markdown",
   "metadata": {},
   "source": [
    "Retrieve the x,y coordinates associated with each point feature.  \n",
    "\n",
    "Create a .nb class object that contains a list of neighbors for each point.  \n",
    "\n",
    "Remember to first determine what distance units are used for this particular dataset. \n",
    "\n",
    "In this exercise, a neighorhood for each airport consists of all airports within 200 miles of a given airport. \n",
    "\n",
    "Plot the airports and their neighborhoods on a map as lines between the airports."
   ]
  },
  {
   "cell_type": "code",
   "execution_count": 7,
   "metadata": {},
   "outputs": [
    {
     "data": {
      "text/html": [
       "'+proj=merc +lon_0=0 +lat_ts=0 +x_0=0 +y_0=0 +datum=WGS84 +units=m +no_defs +ellps=WGS84 +towgs84=0,0,0'"
      ],
      "text/latex": [
       "'+proj=merc +lon\\_0=0 +lat\\_ts=0 +x\\_0=0 +y\\_0=0 +datum=WGS84 +units=m +no\\_defs +ellps=WGS84 +towgs84=0,0,0'"
      ],
      "text/markdown": [
       "'+proj=merc +lon_0=0 +lat_ts=0 +x_0=0 +y_0=0 +datum=WGS84 +units=m +no_defs +ellps=WGS84 +towgs84=0,0,0'"
      ],
      "text/plain": [
       "[1] \"+proj=merc +lon_0=0 +lat_ts=0 +x_0=0 +y_0=0 +datum=WGS84 +units=m +no_defs +ellps=WGS84 +towgs84=0,0,0\""
      ]
     },
     "metadata": {},
     "output_type": "display_data"
    }
   ],
   "source": [
    "proj4string(euro)\n",
    "\n",
    "## JACKY: units are in meters\n",
    "## 200 miles = 321,869 meters"
   ]
  },
  {
   "cell_type": "code",
   "execution_count": 8,
   "metadata": {
    "collapsed": true
   },
   "outputs": [],
   "source": [
    "coords <- coordinates(euro)"
   ]
  },
  {
   "cell_type": "code",
   "execution_count": 10,
   "metadata": {},
   "outputs": [
    {
     "data": {
      "text/html": [
       "<table>\n",
       "<thead><tr><th scope=col>coords.x1</th><th scope=col>coords.x2</th></tr></thead>\n",
       "<tbody>\n",
       "\t<tr><td>-2801912</td><td>4409227 </td></tr>\n",
       "\t<tr><td>-3197096</td><td>4626532 </td></tr>\n",
       "\t<tr><td>-3153681</td><td>4619450 </td></tr>\n",
       "\t<tr><td>-3015645</td><td>4660597 </td></tr>\n",
       "\t<tr><td>-2858685</td><td>4518007 </td></tr>\n",
       "\t<tr><td>-2579273</td><td>9561715 </td></tr>\n",
       "</tbody>\n",
       "</table>\n"
      ],
      "text/latex": [
       "\\begin{tabular}{ll}\n",
       " coords.x1 & coords.x2\\\\\n",
       "\\hline\n",
       "\t -2801912 & 4409227 \\\\\n",
       "\t -3197096 & 4626532 \\\\\n",
       "\t -3153681 & 4619450 \\\\\n",
       "\t -3015645 & 4660597 \\\\\n",
       "\t -2858685 & 4518007 \\\\\n",
       "\t -2579273 & 9561715 \\\\\n",
       "\\end{tabular}\n"
      ],
      "text/markdown": [
       "\n",
       "coords.x1 | coords.x2 | \n",
       "|---|---|---|---|---|---|\n",
       "| -2801912 | 4409227  | \n",
       "| -3197096 | 4626532  | \n",
       "| -3153681 | 4619450  | \n",
       "| -3015645 | 4660597  | \n",
       "| -2858685 | 4518007  | \n",
       "| -2579273 | 9561715  | \n",
       "\n",
       "\n"
      ],
      "text/plain": [
       "     coords.x1 coords.x2\n",
       "[1,] -2801912  4409227  \n",
       "[2,] -3197096  4626532  \n",
       "[3,] -3153681  4619450  \n",
       "[4,] -3015645  4660597  \n",
       "[5,] -2858685  4518007  \n",
       "[6,] -2579273  9561715  "
      ]
     },
     "metadata": {},
     "output_type": "display_data"
    }
   ],
   "source": [
    "head(coords)"
   ]
  },
  {
   "cell_type": "code",
   "execution_count": 11,
   "metadata": {
    "collapsed": true
   },
   "outputs": [],
   "source": [
    "d1 <- 0 \n",
    "d2 <- 321869 # 200 miles in meters"
   ]
  },
  {
   "cell_type": "code",
   "execution_count": 12,
   "metadata": {
    "collapsed": true
   },
   "outputs": [],
   "source": [
    "euro.nb <- dnearneigh(coords, d1, d2, bounds = c(\"GE\", \"LT\"))"
   ]
  },
  {
   "cell_type": "code",
   "execution_count": 13,
   "metadata": {},
   "outputs": [
    {
     "data": {
      "text/plain": [
       "Neighbour list object:\n",
       "Number of regions: 1884 \n",
       "Number of nonzero links: 116588 \n",
       "Percentage nonzero weights: 3.284672 \n",
       "Average number of links: 61.88323 \n",
       "23 regions with no links:\n",
       "152 324 1730 1760 1788 1790 1815 1818 1822 1829 1830 1837 1840 1841 1842 1843 1846 1856 1860 1881 1882 1883 1884"
      ]
     },
     "metadata": {},
     "output_type": "display_data"
    }
   ],
   "source": [
    "euro.nb"
   ]
  },
  {
   "cell_type": "code",
   "execution_count": 14,
   "metadata": {},
   "outputs": [
    {
     "data": {
      "text/html": [
       "<ol>\n",
       "\t<li>5</li>\n",
       "\t<li><ol class=list-inline>\n",
       "\t<li>3</li>\n",
       "\t<li>4</li>\n",
       "</ol>\n",
       "</li>\n",
       "\t<li><ol class=list-inline>\n",
       "\t<li>2</li>\n",
       "\t<li>4</li>\n",
       "\t<li>5</li>\n",
       "</ol>\n",
       "</li>\n",
       "\t<li><ol class=list-inline>\n",
       "\t<li>2</li>\n",
       "\t<li>3</li>\n",
       "\t<li>5</li>\n",
       "</ol>\n",
       "</li>\n",
       "\t<li><ol class=list-inline>\n",
       "\t<li>1</li>\n",
       "\t<li>3</li>\n",
       "\t<li>4</li>\n",
       "</ol>\n",
       "</li>\n",
       "\t<li><ol class=list-inline>\n",
       "\t<li>7</li>\n",
       "\t<li>8</li>\n",
       "\t<li>9</li>\n",
       "\t<li>10</li>\n",
       "\t<li>11</li>\n",
       "\t<li>12</li>\n",
       "\t<li>13</li>\n",
       "\t<li>14</li>\n",
       "\t<li>15</li>\n",
       "</ol>\n",
       "</li>\n",
       "</ol>\n"
      ],
      "text/latex": [
       "\\begin{enumerate}\n",
       "\\item 5\n",
       "\\item \\begin{enumerate*}\n",
       "\\item 3\n",
       "\\item 4\n",
       "\\end{enumerate*}\n",
       "\n",
       "\\item \\begin{enumerate*}\n",
       "\\item 2\n",
       "\\item 4\n",
       "\\item 5\n",
       "\\end{enumerate*}\n",
       "\n",
       "\\item \\begin{enumerate*}\n",
       "\\item 2\n",
       "\\item 3\n",
       "\\item 5\n",
       "\\end{enumerate*}\n",
       "\n",
       "\\item \\begin{enumerate*}\n",
       "\\item 1\n",
       "\\item 3\n",
       "\\item 4\n",
       "\\end{enumerate*}\n",
       "\n",
       "\\item \\begin{enumerate*}\n",
       "\\item 7\n",
       "\\item 8\n",
       "\\item 9\n",
       "\\item 10\n",
       "\\item 11\n",
       "\\item 12\n",
       "\\item 13\n",
       "\\item 14\n",
       "\\item 15\n",
       "\\end{enumerate*}\n",
       "\n",
       "\\end{enumerate}\n"
      ],
      "text/markdown": [
       "1. 5\n",
       "2. 1. 3\n",
       "2. 4\n",
       "\n",
       "\n",
       "\n",
       "3. 1. 2\n",
       "2. 4\n",
       "3. 5\n",
       "\n",
       "\n",
       "\n",
       "4. 1. 2\n",
       "2. 3\n",
       "3. 5\n",
       "\n",
       "\n",
       "\n",
       "5. 1. 1\n",
       "2. 3\n",
       "3. 4\n",
       "\n",
       "\n",
       "\n",
       "6. 1. 7\n",
       "2. 8\n",
       "3. 9\n",
       "4. 10\n",
       "5. 11\n",
       "6. 12\n",
       "7. 13\n",
       "8. 14\n",
       "9. 15\n",
       "\n",
       "\n",
       "\n",
       "\n",
       "\n"
      ],
      "text/plain": [
       "[[1]]\n",
       "[1] 5\n",
       "\n",
       "[[2]]\n",
       "[1] 3 4\n",
       "\n",
       "[[3]]\n",
       "[1] 2 4 5\n",
       "\n",
       "[[4]]\n",
       "[1] 2 3 5\n",
       "\n",
       "[[5]]\n",
       "[1] 1 3 4\n",
       "\n",
       "[[6]]\n",
       "[1]  7  8  9 10 11 12 13 14 15\n"
      ]
     },
     "metadata": {},
     "output_type": "display_data"
    }
   ],
   "source": [
    "head(euro.nb)"
   ]
  },
  {
   "cell_type": "code",
   "execution_count": 15,
   "metadata": {},
   "outputs": [
    {
     "data": {
      "image/png": "[encoded data removed]",
      "text/plain": [
       "Plot with title \"Neighbors\""
      ]
     },
     "metadata": {},
     "output_type": "display_data"
    }
   ],
   "source": [
    "plot(euro, bg = \"blue\", col = \"blue\", pch = 21, \n",
    "             main = \"Neighbors\", lwd = 0.5, cex = 0.4)\n",
    "\n",
    "plot(euro.nb, coords, add = TRUE, col = \"red\")"
   ]
  },
  {
   "cell_type": "markdown",
   "metadata": {},
   "source": [
    "Now, consider a second order neighborhood for each airport - those airports at least 200 miles from an airport and within 450 miles of an airport.  Given this neighborhood definition, model the secondary neighbors for each airport."
   ]
  },
  {
   "cell_type": "code",
   "execution_count": 16,
   "metadata": {
    "collapsed": true
   },
   "outputs": [],
   "source": [
    "d1 <- 321869 # 200 miles to meters\n",
    "d2 <- 724205 # 450 miles to meters"
   ]
  },
  {
   "cell_type": "code",
   "execution_count": 17,
   "metadata": {
    "collapsed": true
   },
   "outputs": [],
   "source": [
    "euro.nb2 <- dnearneigh(coords, d1, d2, bounds = c(\"GE\", \"LT\"))"
   ]
  },
  {
   "cell_type": "code",
   "execution_count": 18,
   "metadata": {},
   "outputs": [
    {
     "data": {
      "text/html": [
       "<ol>\n",
       "\t<li><ol class=list-inline>\n",
       "\t<li>2</li>\n",
       "\t<li>3</li>\n",
       "\t<li>4</li>\n",
       "</ol>\n",
       "</li>\n",
       "\t<li><ol class=list-inline>\n",
       "\t<li>1</li>\n",
       "\t<li>5</li>\n",
       "</ol>\n",
       "</li>\n",
       "\t<li>1</li>\n",
       "\t<li>1</li>\n",
       "\t<li>2</li>\n",
       "\t<li><ol class=list-inline>\n",
       "\t<li>16</li>\n",
       "\t<li>17</li>\n",
       "\t<li>18</li>\n",
       "\t<li>19</li>\n",
       "\t<li>20</li>\n",
       "\t<li>21</li>\n",
       "\t<li>22</li>\n",
       "</ol>\n",
       "</li>\n",
       "</ol>\n"
      ],
      "text/latex": [
       "\\begin{enumerate}\n",
       "\\item \\begin{enumerate*}\n",
       "\\item 2\n",
       "\\item 3\n",
       "\\item 4\n",
       "\\end{enumerate*}\n",
       "\n",
       "\\item \\begin{enumerate*}\n",
       "\\item 1\n",
       "\\item 5\n",
       "\\end{enumerate*}\n",
       "\n",
       "\\item 1\n",
       "\\item 1\n",
       "\\item 2\n",
       "\\item \\begin{enumerate*}\n",
       "\\item 16\n",
       "\\item 17\n",
       "\\item 18\n",
       "\\item 19\n",
       "\\item 20\n",
       "\\item 21\n",
       "\\item 22\n",
       "\\end{enumerate*}\n",
       "\n",
       "\\end{enumerate}\n"
      ],
      "text/markdown": [
       "1. 1. 2\n",
       "2. 3\n",
       "3. 4\n",
       "\n",
       "\n",
       "\n",
       "2. 1. 1\n",
       "2. 5\n",
       "\n",
       "\n",
       "\n",
       "3. 1\n",
       "4. 1\n",
       "5. 2\n",
       "6. 1. 16\n",
       "2. 17\n",
       "3. 18\n",
       "4. 19\n",
       "5. 20\n",
       "6. 21\n",
       "7. 22\n",
       "\n",
       "\n",
       "\n",
       "\n",
       "\n"
      ],
      "text/plain": [
       "[[1]]\n",
       "[1] 2 3 4\n",
       "\n",
       "[[2]]\n",
       "[1] 1 5\n",
       "\n",
       "[[3]]\n",
       "[1] 1\n",
       "\n",
       "[[4]]\n",
       "[1] 1\n",
       "\n",
       "[[5]]\n",
       "[1] 2\n",
       "\n",
       "[[6]]\n",
       "[1] 16 17 18 19 20 21 22\n"
      ]
     },
     "metadata": {},
     "output_type": "display_data"
    }
   ],
   "source": [
    "head(euro.nb2)"
   ]
  },
  {
   "cell_type": "code",
   "execution_count": 19,
   "metadata": {
    "scrolled": false
   },
   "outputs": [
    {
     "data": {
      "image/png": "[encoded data removed]",
      "text/plain": [
       "Plot with title \"Neighbors (1st and 2nd Order)\""
      ]
     },
     "metadata": {},
     "output_type": "display_data"
    }
   ],
   "source": [
    "plot(euro, bg = \"blue\", col = \"blue\", pch = 21, \n",
    "             main = \"Neighbors (1st and 2nd Order)\", lwd = 0.5, cex = 0.4)\n",
    "\n",
    "plot(euro.nb, coords, add = TRUE, col = \"red\", cex = 1)\n",
    "plot(euro.nb2, coords, add = TRUE, col = \"green\", lwd = 0.5, cex = 0.2)"
   ]
  },
  {
   "cell_type": "markdown",
   "metadata": {},
   "source": [
    "### Loopy loop"
   ]
  },
  {
   "cell_type": "code",
   "execution_count": 20,
   "metadata": {
    "collapsed": true
   },
   "outputs": [],
   "source": [
    "# first - make a list of list that contains the different radius distances\n",
    "\n",
    "r1 <- list(start = 0, end = 160934, color = \"green\") # 0 to 100 miles\n",
    "r2 <- list(start = 160934, end = 321869, color = \"red\") # 100 to 200 miles\n",
    "r3 <- list(start = 321869, end = 482803, color = \"blue\") # 200 to 300 miles\n",
    "\n",
    "radiusList <- list(r1, r2, r3)"
   ]
  },
  {
   "cell_type": "code",
   "execution_count": 21,
   "metadata": {},
   "outputs": [
    {
     "data": {
      "text/html": [
       "<ol>\n",
       "\t<li><dl>\n",
       "\t<dt>$start</dt>\n",
       "\t\t<dd>0</dd>\n",
       "\t<dt>$end</dt>\n",
       "\t\t<dd>160934</dd>\n",
       "\t<dt>$color</dt>\n",
       "\t\t<dd>'green'</dd>\n",
       "</dl>\n",
       "</li>\n",
       "\t<li><dl>\n",
       "\t<dt>$start</dt>\n",
       "\t\t<dd>160934</dd>\n",
       "\t<dt>$end</dt>\n",
       "\t\t<dd>321869</dd>\n",
       "\t<dt>$color</dt>\n",
       "\t\t<dd>'red'</dd>\n",
       "</dl>\n",
       "</li>\n",
       "\t<li><dl>\n",
       "\t<dt>$start</dt>\n",
       "\t\t<dd>321869</dd>\n",
       "\t<dt>$end</dt>\n",
       "\t\t<dd>482803</dd>\n",
       "\t<dt>$color</dt>\n",
       "\t\t<dd>'blue'</dd>\n",
       "</dl>\n",
       "</li>\n",
       "</ol>\n"
      ],
      "text/latex": [
       "\\begin{enumerate}\n",
       "\\item \\begin{description}\n",
       "\\item[\\$start] 0\n",
       "\\item[\\$end] 160934\n",
       "\\item[\\$color] 'green'\n",
       "\\end{description}\n",
       "\n",
       "\\item \\begin{description}\n",
       "\\item[\\$start] 160934\n",
       "\\item[\\$end] 321869\n",
       "\\item[\\$color] 'red'\n",
       "\\end{description}\n",
       "\n",
       "\\item \\begin{description}\n",
       "\\item[\\$start] 321869\n",
       "\\item[\\$end] 482803\n",
       "\\item[\\$color] 'blue'\n",
       "\\end{description}\n",
       "\n",
       "\\end{enumerate}\n"
      ],
      "text/markdown": [
       "1. $start\n",
       ":   0\n",
       "$end\n",
       ":   160934\n",
       "$color\n",
       ":   'green'\n",
       "\n",
       "\n",
       "\n",
       "2. $start\n",
       ":   160934\n",
       "$end\n",
       ":   321869\n",
       "$color\n",
       ":   'red'\n",
       "\n",
       "\n",
       "\n",
       "3. $start\n",
       ":   321869\n",
       "$end\n",
       ":   482803\n",
       "$color\n",
       ":   'blue'\n",
       "\n",
       "\n",
       "\n",
       "\n",
       "\n"
      ],
      "text/plain": [
       "[[1]]\n",
       "[[1]]$start\n",
       "[1] 0\n",
       "\n",
       "[[1]]$end\n",
       "[1] 160934\n",
       "\n",
       "[[1]]$color\n",
       "[1] \"green\"\n",
       "\n",
       "\n",
       "[[2]]\n",
       "[[2]]$start\n",
       "[1] 160934\n",
       "\n",
       "[[2]]$end\n",
       "[1] 321869\n",
       "\n",
       "[[2]]$color\n",
       "[1] \"red\"\n",
       "\n",
       "\n",
       "[[3]]\n",
       "[[3]]$start\n",
       "[1] 321869\n",
       "\n",
       "[[3]]$end\n",
       "[1] 482803\n",
       "\n",
       "[[3]]$color\n",
       "[1] \"blue\"\n",
       "\n"
      ]
     },
     "metadata": {},
     "output_type": "display_data"
    }
   ],
   "source": [
    "radiusList"
   ]
  },
  {
   "cell_type": "code",
   "execution_count": 22,
   "metadata": {
    "scrolled": false
   },
   "outputs": [
    {
     "data": {
      "image/png": "[encoded data removed]",
      "text/plain": [
       "Plot with title \"Order Number:  1\""
      ]
     },
     "metadata": {},
     "output_type": "display_data"
    },
    {
     "data": {
      "image/png": "[encoded data removed]",
      "text/plain": [
       "Plot with title \"Order Number:  2\""
      ]
     },
     "metadata": {},
     "output_type": "display_data"
    },
    {
     "data": {
      "image/png": "[encoded data removed]",
      "text/plain": [
       "Plot with title \"Order Number:  3\""
      ]
     },
     "metadata": {},
     "output_type": "display_data"
    }
   ],
   "source": [
    "i <- 1\n",
    "\n",
    "while (i <= 3){\n",
    "    radius <- unlist(radiusList[i])\n",
    "    \n",
    "    start <- as.numeric(unname(radius[\"start\"]))\n",
    "    end <- as.numeric(unname(radius[\"end\"]))\n",
    "    color <- unname(radius[\"color\"])\n",
    "    \n",
    "    nb <- dnearneigh(coords, start, end, bounds = c(\"GE\", \"LT\"))\n",
    "    \n",
    "    plot(euro, bg = \"blue\", col = \"blue\", pch = 21, \n",
    "             main = paste(\"Order Number: \", i), lwd = 0.5, cex = 0.4)\n",
    "\n",
    "    plot(nb, coords, add = TRUE, col = color, cex = 1)\n",
    "    \n",
    "    i <- i + 1\n",
    "}"
   ]
  }
 ],
 "metadata": {
  "kernelspec": {
   "display_name": "R",
   "language": "R",
   "name": "ir"
  },
  "language_info": {
   "codemirror_mode": "r",
   "file_extension": ".r",
   "mimetype": "text/x-r-source",
   "name": "R",
   "pygments_lexer": "r",
   "version": "3.4.1"
  }
 },
 "nbformat": 4,
 "nbformat_minor": 2
}
