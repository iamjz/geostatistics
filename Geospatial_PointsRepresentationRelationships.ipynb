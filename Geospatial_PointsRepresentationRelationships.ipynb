{
 "cells": [
  {
   "cell_type": "markdown",
   "metadata": {},
   "source": [
    "# Spatial Representations and Relationships - Point Features"
   ]
  },
  {
   "cell_type": "code",
   "execution_count": 1,
   "metadata": {},
   "outputs": [
    {
     "name": "stderr",
     "output_type": "stream",
     "text": [
      "Warning message:\n",
      "\"package 'rgdal' was built under R version 3.4.2\"Warning message:\n",
      "\"package 'sp' was built under R version 3.4.2\"Warning message:\n",
      "\"package 'spdep' was built under R version 3.4.2\""
     ]
    }
   ],
   "source": [
    "# Load relevant R packages\n",
    "inLibraries = list('repr','rgdal','spdep')\n",
    "for (rpack in inLibraries) {\n",
    "  if (is.element(rpack,installed.packages()[,1])){           \n",
    "      #Load the library into R\n",
    "      suppressMessages(library(rpack,character.only = TRUE))\n",
    "    }\n",
    "    else {\n",
    "        print(paste(\"Warning:  \",rpack,\" is not an installed package\"))\n",
    "    }\n",
    "}\n",
    "#resize plot area\n",
    "options(repr.plot.width=6, repr.plot.height=6)"
   ]
  },
  {
   "cell_type": "markdown",
   "metadata": {},
   "source": [
    "## Read a Point FeatureClass\n",
    "\n",
    "Use the readOGR function to access a point .shp file.  Display the points on the screen. The dataset used here (ponds/Ponds.shp) is a set of points representing the locations of small points."
   ]
  },
  {
   "cell_type": "code",
   "execution_count": 2,
   "metadata": {},
   "outputs": [
    {
     "name": "stdout",
     "output_type": "stream",
     "text": [
      "OGR data source with driver: ESRI Shapefile \n",
      "Source: \"datasets/ponds\", layer: \"Ponds\"\n",
      "with 463 features\n",
      "It has 1 fields\n",
      "Integer64 fields read as strings:  ID \n"
     ]
    }
   ],
   "source": [
    "#Read in point featureclass\n",
    "ppoints <- readOGR(\"datasets/ponds\",\"Ponds\")"
   ]
  },
  {
   "cell_type": "code",
   "execution_count": 3,
   "metadata": {},
   "outputs": [
    {
     "data": {
      "text/html": [
       "<table>\n",
       "<thead><tr><th scope=col>ID</th></tr></thead>\n",
       "<tbody>\n",
       "\t<tr><td>1</td></tr>\n",
       "\t<tr><td>2</td></tr>\n",
       "\t<tr><td>3</td></tr>\n",
       "\t<tr><td>4</td></tr>\n",
       "\t<tr><td>5</td></tr>\n",
       "\t<tr><td>6</td></tr>\n",
       "</tbody>\n",
       "</table>\n"
      ],
      "text/latex": [
       "\\begin{tabular}{r|l}\n",
       " ID\\\\\n",
       "\\hline\n",
       "\t 1\\\\\n",
       "\t 2\\\\\n",
       "\t 3\\\\\n",
       "\t 4\\\\\n",
       "\t 5\\\\\n",
       "\t 6\\\\\n",
       "\\end{tabular}\n"
      ],
      "text/markdown": [
       "\n",
       "ID | \n",
       "|---|---|---|---|---|---|\n",
       "| 1 | \n",
       "| 2 | \n",
       "| 3 | \n",
       "| 4 | \n",
       "| 5 | \n",
       "| 6 | \n",
       "\n",
       "\n"
      ],
      "text/plain": [
       "  ID\n",
       "1 1 \n",
       "2 2 \n",
       "3 3 \n",
       "4 4 \n",
       "5 5 \n",
       "6 6 "
      ]
     },
     "metadata": {},
     "output_type": "display_data"
    }
   ],
   "source": [
    "peek <- head(ppoints@data)\n",
    "peek"
   ]
  },
  {
   "cell_type": "code",
   "execution_count": 4,
   "metadata": {},
   "outputs": [
    {
     "data": {
      "image/png": "[encoded data removed]",
      "text/plain": [
       "Plot with title \"Pond Centroids\""
      ]
     },
     "metadata": {},
     "output_type": "display_data"
    }
   ],
   "source": [
    "#Add the point features to the display\n",
    "plot(ppoints, pch=21, bg=\"blue\", col=\"blue\", \n",
    "         lwd=.5, cex=.4, main=\"Pond Centroids\", cex.main=.8)"
   ]
  },
  {
   "cell_type": "markdown",
   "metadata": {},
   "source": [
    "## Representing Spatial Neighborhoods \n",
    "\n",
    "Retrieve the x,y coordinates associated with each point feature.  Use the 'dnearneigh' (spdep library) function to create a .nb class object that contains a list of neighbors for each point.  In particular, the dnearneigh() function identifies neighbors as other points that within a stated distance range of a point.  \n",
    "\n",
    "In this example, the min distance = d1 and the max distance = d2. The distance range is defined as [d1,d2) by the parameter 'bounds'. Interpretation in the nb object is similar to that generated in the polygon practice - i.e. the neighbors of point 6 are points 138, 139, and 154."
   ]
  },
  {
   "cell_type": "code",
   "execution_count": 5,
   "metadata": {
    "collapsed": true
   },
   "outputs": [],
   "source": [
    "#Identify the neighbors of each point\n",
    "coords = coordinates(ppoints)\n",
    "\n",
    "d1 = 0\n",
    "d2 = 1000"
   ]
  },
  {
   "cell_type": "code",
   "execution_count": 7,
   "metadata": {},
   "outputs": [
    {
     "data": {
      "text/html": [
       "<table>\n",
       "<thead><tr><th></th><th scope=col>ID</th></tr></thead>\n",
       "<tbody>\n",
       "\t<tr><th scope=row>458</th><td>459</td></tr>\n",
       "\t<tr><th scope=row>459</th><td>460</td></tr>\n",
       "\t<tr><th scope=row>460</th><td>461</td></tr>\n",
       "\t<tr><th scope=row>461</th><td>462</td></tr>\n",
       "\t<tr><th scope=row>462</th><td>463</td></tr>\n",
       "\t<tr><th scope=row>463</th><td>464</td></tr>\n",
       "</tbody>\n",
       "</table>\n"
      ],
      "text/latex": [
       "\\begin{tabular}{r|l}\n",
       "  & ID\\\\\n",
       "\\hline\n",
       "\t458 & 459\\\\\n",
       "\t459 & 460\\\\\n",
       "\t460 & 461\\\\\n",
       "\t461 & 462\\\\\n",
       "\t462 & 463\\\\\n",
       "\t463 & 464\\\\\n",
       "\\end{tabular}\n"
      ],
      "text/markdown": [
       "\n",
       "| <!--/--> | ID | \n",
       "|---|---|---|---|---|---|\n",
       "| 458 | 459 | \n",
       "| 459 | 460 | \n",
       "| 460 | 461 | \n",
       "| 461 | 462 | \n",
       "| 462 | 463 | \n",
       "| 463 | 464 | \n",
       "\n",
       "\n"
      ],
      "text/plain": [
       "    ID \n",
       "458 459\n",
       "459 460\n",
       "460 461\n",
       "461 462\n",
       "462 463\n",
       "463 464"
      ]
     },
     "metadata": {},
     "output_type": "display_data"
    }
   ],
   "source": [
    "tail(ppoints@data)"
   ]
  },
  {
   "cell_type": "code",
   "execution_count": 8,
   "metadata": {},
   "outputs": [
    {
     "data": {
      "text/html": [
       "<table>\n",
       "<thead><tr><th scope=col>coords.x1</th><th scope=col>coords.x2</th></tr></thead>\n",
       "<tbody>\n",
       "\t<tr><td>570660 </td><td>4177939</td></tr>\n",
       "\t<tr><td>580859 </td><td>4180380</td></tr>\n",
       "\t<tr><td>580747 </td><td>4180395</td></tr>\n",
       "\t<tr><td>580689 </td><td>4180422</td></tr>\n",
       "\t<tr><td>580757 </td><td>4179577</td></tr>\n",
       "\t<tr><td>577624 </td><td>4174538</td></tr>\n",
       "</tbody>\n",
       "</table>\n"
      ],
      "text/latex": [
       "\\begin{tabular}{ll}\n",
       " coords.x1 & coords.x2\\\\\n",
       "\\hline\n",
       "\t 570660  & 4177939\\\\\n",
       "\t 580859  & 4180380\\\\\n",
       "\t 580747  & 4180395\\\\\n",
       "\t 580689  & 4180422\\\\\n",
       "\t 580757  & 4179577\\\\\n",
       "\t 577624  & 4174538\\\\\n",
       "\\end{tabular}\n"
      ],
      "text/markdown": [
       "\n",
       "coords.x1 | coords.x2 | \n",
       "|---|---|---|---|---|---|\n",
       "| 570660  | 4177939 | \n",
       "| 580859  | 4180380 | \n",
       "| 580747  | 4180395 | \n",
       "| 580689  | 4180422 | \n",
       "| 580757  | 4179577 | \n",
       "| 577624  | 4174538 | \n",
       "\n",
       "\n"
      ],
      "text/plain": [
       "     coords.x1 coords.x2\n",
       "[1,] 570660    4177939  \n",
       "[2,] 580859    4180380  \n",
       "[3,] 580747    4180395  \n",
       "[4,] 580689    4180422  \n",
       "[5,] 580757    4179577  \n",
       "[6,] 577624    4174538  "
      ]
     },
     "metadata": {},
     "output_type": "display_data"
    }
   ],
   "source": [
    "head(coords)"
   ]
  },
  {
   "cell_type": "code",
   "execution_count": 9,
   "metadata": {},
   "outputs": [
    {
     "data": {
      "text/html": [
       "<ol class=list-inline>\n",
       "\t<li>463</li>\n",
       "\t<li>2</li>\n",
       "</ol>\n"
      ],
      "text/latex": [
       "\\begin{enumerate*}\n",
       "\\item 463\n",
       "\\item 2\n",
       "\\end{enumerate*}\n"
      ],
      "text/markdown": [
       "1. 463\n",
       "2. 2\n",
       "\n",
       "\n"
      ],
      "text/plain": [
       "[1] 463   2"
      ]
     },
     "metadata": {},
     "output_type": "display_data"
    }
   ],
   "source": [
    "dim(coords)"
   ]
  },
  {
   "cell_type": "code",
   "execution_count": 10,
   "metadata": {},
   "outputs": [
    {
     "data": {
      "text/html": [
       "<ol>\n",
       "\t<li><ol class=list-inline>\n",
       "\t<li>50</li>\n",
       "\t<li>51</li>\n",
       "\t<li>52</li>\n",
       "\t<li>53</li>\n",
       "\t<li>54</li>\n",
       "\t<li>104</li>\n",
       "\t<li>105</li>\n",
       "\t<li>107</li>\n",
       "\t<li>294</li>\n",
       "\t<li>295</li>\n",
       "\t<li>299</li>\n",
       "\t<li>425</li>\n",
       "</ol>\n",
       "</li>\n",
       "\t<li><ol class=list-inline>\n",
       "\t<li>3</li>\n",
       "\t<li>4</li>\n",
       "\t<li>5</li>\n",
       "\t<li>118</li>\n",
       "\t<li>119</li>\n",
       "\t<li>120</li>\n",
       "\t<li>121</li>\n",
       "</ol>\n",
       "</li>\n",
       "\t<li><ol class=list-inline>\n",
       "\t<li>2</li>\n",
       "\t<li>4</li>\n",
       "\t<li>5</li>\n",
       "\t<li>118</li>\n",
       "\t<li>119</li>\n",
       "\t<li>120</li>\n",
       "\t<li>121</li>\n",
       "</ol>\n",
       "</li>\n",
       "\t<li><ol class=list-inline>\n",
       "\t<li>2</li>\n",
       "\t<li>3</li>\n",
       "\t<li>5</li>\n",
       "\t<li>118</li>\n",
       "\t<li>119</li>\n",
       "\t<li>120</li>\n",
       "\t<li>121</li>\n",
       "</ol>\n",
       "</li>\n",
       "\t<li><ol class=list-inline>\n",
       "\t<li>2</li>\n",
       "\t<li>3</li>\n",
       "\t<li>4</li>\n",
       "\t<li>118</li>\n",
       "\t<li>119</li>\n",
       "\t<li>120</li>\n",
       "\t<li>121</li>\n",
       "\t<li>390</li>\n",
       "</ol>\n",
       "</li>\n",
       "\t<li><ol class=list-inline>\n",
       "\t<li>138</li>\n",
       "\t<li>139</li>\n",
       "\t<li>154</li>\n",
       "</ol>\n",
       "</li>\n",
       "</ol>\n"
      ],
      "text/latex": [
       "\\begin{enumerate}\n",
       "\\item \\begin{enumerate*}\n",
       "\\item 50\n",
       "\\item 51\n",
       "\\item 52\n",
       "\\item 53\n",
       "\\item 54\n",
       "\\item 104\n",
       "\\item 105\n",
       "\\item 107\n",
       "\\item 294\n",
       "\\item 295\n",
       "\\item 299\n",
       "\\item 425\n",
       "\\end{enumerate*}\n",
       "\n",
       "\\item \\begin{enumerate*}\n",
       "\\item 3\n",
       "\\item 4\n",
       "\\item 5\n",
       "\\item 118\n",
       "\\item 119\n",
       "\\item 120\n",
       "\\item 121\n",
       "\\end{enumerate*}\n",
       "\n",
       "\\item \\begin{enumerate*}\n",
       "\\item 2\n",
       "\\item 4\n",
       "\\item 5\n",
       "\\item 118\n",
       "\\item 119\n",
       "\\item 120\n",
       "\\item 121\n",
       "\\end{enumerate*}\n",
       "\n",
       "\\item \\begin{enumerate*}\n",
       "\\item 2\n",
       "\\item 3\n",
       "\\item 5\n",
       "\\item 118\n",
       "\\item 119\n",
       "\\item 120\n",
       "\\item 121\n",
       "\\end{enumerate*}\n",
       "\n",
       "\\item \\begin{enumerate*}\n",
       "\\item 2\n",
       "\\item 3\n",
       "\\item 4\n",
       "\\item 118\n",
       "\\item 119\n",
       "\\item 120\n",
       "\\item 121\n",
       "\\item 390\n",
       "\\end{enumerate*}\n",
       "\n",
       "\\item \\begin{enumerate*}\n",
       "\\item 138\n",
       "\\item 139\n",
       "\\item 154\n",
       "\\end{enumerate*}\n",
       "\n",
       "\\end{enumerate}\n"
      ],
      "text/markdown": [
       "1. 1. 50\n",
       "2. 51\n",
       "3. 52\n",
       "4. 53\n",
       "5. 54\n",
       "6. 104\n",
       "7. 105\n",
       "8. 107\n",
       "9. 294\n",
       "10. 295\n",
       "11. 299\n",
       "12. 425\n",
       "\n",
       "\n",
       "\n",
       "2. 1. 3\n",
       "2. 4\n",
       "3. 5\n",
       "4. 118\n",
       "5. 119\n",
       "6. 120\n",
       "7. 121\n",
       "\n",
       "\n",
       "\n",
       "3. 1. 2\n",
       "2. 4\n",
       "3. 5\n",
       "4. 118\n",
       "5. 119\n",
       "6. 120\n",
       "7. 121\n",
       "\n",
       "\n",
       "\n",
       "4. 1. 2\n",
       "2. 3\n",
       "3. 5\n",
       "4. 118\n",
       "5. 119\n",
       "6. 120\n",
       "7. 121\n",
       "\n",
       "\n",
       "\n",
       "5. 1. 2\n",
       "2. 3\n",
       "3. 4\n",
       "4. 118\n",
       "5. 119\n",
       "6. 120\n",
       "7. 121\n",
       "8. 390\n",
       "\n",
       "\n",
       "\n",
       "6. 1. 138\n",
       "2. 139\n",
       "3. 154\n",
       "\n",
       "\n",
       "\n",
       "\n",
       "\n"
      ],
      "text/plain": [
       "[[1]]\n",
       " [1]  50  51  52  53  54 104 105 107 294 295 299 425\n",
       "\n",
       "[[2]]\n",
       "[1]   3   4   5 118 119 120 121\n",
       "\n",
       "[[3]]\n",
       "[1]   2   4   5 118 119 120 121\n",
       "\n",
       "[[4]]\n",
       "[1]   2   3   5 118 119 120 121\n",
       "\n",
       "[[5]]\n",
       "[1]   2   3   4 118 119 120 121 390\n",
       "\n",
       "[[6]]\n",
       "[1] 138 139 154\n"
      ]
     },
     "metadata": {},
     "output_type": "display_data"
    }
   ],
   "source": [
    "ppoints.nb <- dnearneigh(coords, d1, d2, \n",
    "                             bounds=c(\"GE\", \"LT\"))\n",
    "\n",
    "\n",
    "#examine the nb object\n",
    "head(ppoints.nb)"
   ]
  },
  {
   "cell_type": "markdown",
   "metadata": {},
   "source": [
    "### Mapping the Neighbors\n",
    "\n",
    "Represent the neighbors of the points as lines.  This can be done by plotting the coordinates of each point relative to those of its neighbors."
   ]
  },
  {
   "cell_type": "code",
   "execution_count": 12,
   "metadata": {},
   "outputs": [
    {
     "data": {
      "image/png": "[encoded data removed]",
      "text/plain": [
       "Plot with title \"First Order Neighbors\""
      ]
     },
     "metadata": {},
     "output_type": "display_data"
    }
   ],
   "source": [
    "#Map shp file\n",
    "plot(ppoints, pch = 21, bg=\"blue\", col=\"blue\", lwd=.5, \n",
    "             cex = 0.4, main=\"First Order Neighbors\", cex.main=.8)\n",
    "\n",
    "plot(ppoints.nb, coords, add = TRUE, col=\"red\")"
   ]
  },
  {
   "cell_type": "markdown",
   "metadata": {},
   "source": [
    "## Higher order neighbors (spatial lags)\n",
    "\n",
    "While points falling within range [d1,d2) of a point may be considered neighborhoods, what about a point's relationship with non-neighbors?  If a point has no relationship with any other points, then great, we can move on.  However, perhaps a point does have some relationship with other points, albeit a lesser one.  In such cases, we can model secondary, tertiary, etc. neighborhoods.  For example, a second order neighborhood may be defined as those points in range [1000,2000)."
   ]
  },
  {
   "cell_type": "code",
   "execution_count": 13,
   "metadata": {},
   "outputs": [
    {
     "data": {
      "text/html": [
       "'first order neighbors'"
      ],
      "text/latex": [
       "'first order neighbors'"
      ],
      "text/markdown": [
       "'first order neighbors'"
      ],
      "text/plain": [
       "[1] \"first order neighbors\""
      ]
     },
     "metadata": {},
     "output_type": "display_data"
    },
    {
     "data": {
      "text/html": [
       "<ol>\n",
       "\t<li><ol class=list-inline>\n",
       "\t<li>50</li>\n",
       "\t<li>51</li>\n",
       "\t<li>52</li>\n",
       "\t<li>53</li>\n",
       "\t<li>54</li>\n",
       "\t<li>104</li>\n",
       "\t<li>105</li>\n",
       "\t<li>107</li>\n",
       "\t<li>294</li>\n",
       "\t<li>295</li>\n",
       "\t<li>299</li>\n",
       "\t<li>425</li>\n",
       "</ol>\n",
       "</li>\n",
       "\t<li><ol class=list-inline>\n",
       "\t<li>3</li>\n",
       "\t<li>4</li>\n",
       "\t<li>5</li>\n",
       "\t<li>118</li>\n",
       "\t<li>119</li>\n",
       "\t<li>120</li>\n",
       "\t<li>121</li>\n",
       "</ol>\n",
       "</li>\n",
       "\t<li><ol class=list-inline>\n",
       "\t<li>2</li>\n",
       "\t<li>4</li>\n",
       "\t<li>5</li>\n",
       "\t<li>118</li>\n",
       "\t<li>119</li>\n",
       "\t<li>120</li>\n",
       "\t<li>121</li>\n",
       "</ol>\n",
       "</li>\n",
       "\t<li><ol class=list-inline>\n",
       "\t<li>2</li>\n",
       "\t<li>3</li>\n",
       "\t<li>5</li>\n",
       "\t<li>118</li>\n",
       "\t<li>119</li>\n",
       "\t<li>120</li>\n",
       "\t<li>121</li>\n",
       "</ol>\n",
       "</li>\n",
       "\t<li><ol class=list-inline>\n",
       "\t<li>2</li>\n",
       "\t<li>3</li>\n",
       "\t<li>4</li>\n",
       "\t<li>118</li>\n",
       "\t<li>119</li>\n",
       "\t<li>120</li>\n",
       "\t<li>121</li>\n",
       "\t<li>390</li>\n",
       "</ol>\n",
       "</li>\n",
       "\t<li><ol class=list-inline>\n",
       "\t<li>138</li>\n",
       "\t<li>139</li>\n",
       "\t<li>154</li>\n",
       "</ol>\n",
       "</li>\n",
       "</ol>\n"
      ],
      "text/latex": [
       "\\begin{enumerate}\n",
       "\\item \\begin{enumerate*}\n",
       "\\item 50\n",
       "\\item 51\n",
       "\\item 52\n",
       "\\item 53\n",
       "\\item 54\n",
       "\\item 104\n",
       "\\item 105\n",
       "\\item 107\n",
       "\\item 294\n",
       "\\item 295\n",
       "\\item 299\n",
       "\\item 425\n",
       "\\end{enumerate*}\n",
       "\n",
       "\\item \\begin{enumerate*}\n",
       "\\item 3\n",
       "\\item 4\n",
       "\\item 5\n",
       "\\item 118\n",
       "\\item 119\n",
       "\\item 120\n",
       "\\item 121\n",
       "\\end{enumerate*}\n",
       "\n",
       "\\item \\begin{enumerate*}\n",
       "\\item 2\n",
       "\\item 4\n",
       "\\item 5\n",
       "\\item 118\n",
       "\\item 119\n",
       "\\item 120\n",
       "\\item 121\n",
       "\\end{enumerate*}\n",
       "\n",
       "\\item \\begin{enumerate*}\n",
       "\\item 2\n",
       "\\item 3\n",
       "\\item 5\n",
       "\\item 118\n",
       "\\item 119\n",
       "\\item 120\n",
       "\\item 121\n",
       "\\end{enumerate*}\n",
       "\n",
       "\\item \\begin{enumerate*}\n",
       "\\item 2\n",
       "\\item 3\n",
       "\\item 4\n",
       "\\item 118\n",
       "\\item 119\n",
       "\\item 120\n",
       "\\item 121\n",
       "\\item 390\n",
       "\\end{enumerate*}\n",
       "\n",
       "\\item \\begin{enumerate*}\n",
       "\\item 138\n",
       "\\item 139\n",
       "\\item 154\n",
       "\\end{enumerate*}\n",
       "\n",
       "\\end{enumerate}\n"
      ],
      "text/markdown": [
       "1. 1. 50\n",
       "2. 51\n",
       "3. 52\n",
       "4. 53\n",
       "5. 54\n",
       "6. 104\n",
       "7. 105\n",
       "8. 107\n",
       "9. 294\n",
       "10. 295\n",
       "11. 299\n",
       "12. 425\n",
       "\n",
       "\n",
       "\n",
       "2. 1. 3\n",
       "2. 4\n",
       "3. 5\n",
       "4. 118\n",
       "5. 119\n",
       "6. 120\n",
       "7. 121\n",
       "\n",
       "\n",
       "\n",
       "3. 1. 2\n",
       "2. 4\n",
       "3. 5\n",
       "4. 118\n",
       "5. 119\n",
       "6. 120\n",
       "7. 121\n",
       "\n",
       "\n",
       "\n",
       "4. 1. 2\n",
       "2. 3\n",
       "3. 5\n",
       "4. 118\n",
       "5. 119\n",
       "6. 120\n",
       "7. 121\n",
       "\n",
       "\n",
       "\n",
       "5. 1. 2\n",
       "2. 3\n",
       "3. 4\n",
       "4. 118\n",
       "5. 119\n",
       "6. 120\n",
       "7. 121\n",
       "8. 390\n",
       "\n",
       "\n",
       "\n",
       "6. 1. 138\n",
       "2. 139\n",
       "3. 154\n",
       "\n",
       "\n",
       "\n",
       "\n",
       "\n"
      ],
      "text/plain": [
       "[[1]]\n",
       " [1]  50  51  52  53  54 104 105 107 294 295 299 425\n",
       "\n",
       "[[2]]\n",
       "[1]   3   4   5 118 119 120 121\n",
       "\n",
       "[[3]]\n",
       "[1]   2   4   5 118 119 120 121\n",
       "\n",
       "[[4]]\n",
       "[1]   2   3   5 118 119 120 121\n",
       "\n",
       "[[5]]\n",
       "[1]   2   3   4 118 119 120 121 390\n",
       "\n",
       "[[6]]\n",
       "[1] 138 139 154\n"
      ]
     },
     "metadata": {},
     "output_type": "display_data"
    },
    {
     "data": {
      "text/html": [
       "'second order neighbors'"
      ],
      "text/latex": [
       "'second order neighbors'"
      ],
      "text/markdown": [
       "'second order neighbors'"
      ],
      "text/plain": [
       "[1] \"second order neighbors\""
      ]
     },
     "metadata": {},
     "output_type": "display_data"
    },
    {
     "data": {
      "text/html": [
       "<ol>\n",
       "\t<li><ol class=list-inline>\n",
       "\t<li>48</li>\n",
       "\t<li>49</li>\n",
       "\t<li>291</li>\n",
       "\t<li>298</li>\n",
       "\t<li>300</li>\n",
       "\t<li>456</li>\n",
       "\t<li>457</li>\n",
       "\t<li>458</li>\n",
       "\t<li>459</li>\n",
       "</ol>\n",
       "</li>\n",
       "\t<li><ol class=list-inline>\n",
       "\t<li>117</li>\n",
       "\t<li>348</li>\n",
       "\t<li>364</li>\n",
       "\t<li>390</li>\n",
       "</ol>\n",
       "</li>\n",
       "\t<li><ol class=list-inline>\n",
       "\t<li>116</li>\n",
       "\t<li>117</li>\n",
       "\t<li>348</li>\n",
       "\t<li>364</li>\n",
       "\t<li>390</li>\n",
       "</ol>\n",
       "</li>\n",
       "\t<li><ol class=list-inline>\n",
       "\t<li>115</li>\n",
       "\t<li>116</li>\n",
       "\t<li>117</li>\n",
       "\t<li>348</li>\n",
       "\t<li>364</li>\n",
       "\t<li>390</li>\n",
       "</ol>\n",
       "</li>\n",
       "\t<li><ol class=list-inline>\n",
       "\t<li>117</li>\n",
       "\t<li>348</li>\n",
       "\t<li>364</li>\n",
       "</ol>\n",
       "</li>\n",
       "\t<li><ol class=list-inline>\n",
       "\t<li>7</li>\n",
       "\t<li>70</li>\n",
       "\t<li>140</li>\n",
       "\t<li>141</li>\n",
       "\t<li>142</li>\n",
       "\t<li>143</li>\n",
       "\t<li>144</li>\n",
       "\t<li>146</li>\n",
       "\t<li>149</li>\n",
       "\t<li>150</li>\n",
       "\t<li>151</li>\n",
       "\t<li>398</li>\n",
       "</ol>\n",
       "</li>\n",
       "</ol>\n"
      ],
      "text/latex": [
       "\\begin{enumerate}\n",
       "\\item \\begin{enumerate*}\n",
       "\\item 48\n",
       "\\item 49\n",
       "\\item 291\n",
       "\\item 298\n",
       "\\item 300\n",
       "\\item 456\n",
       "\\item 457\n",
       "\\item 458\n",
       "\\item 459\n",
       "\\end{enumerate*}\n",
       "\n",
       "\\item \\begin{enumerate*}\n",
       "\\item 117\n",
       "\\item 348\n",
       "\\item 364\n",
       "\\item 390\n",
       "\\end{enumerate*}\n",
       "\n",
       "\\item \\begin{enumerate*}\n",
       "\\item 116\n",
       "\\item 117\n",
       "\\item 348\n",
       "\\item 364\n",
       "\\item 390\n",
       "\\end{enumerate*}\n",
       "\n",
       "\\item \\begin{enumerate*}\n",
       "\\item 115\n",
       "\\item 116\n",
       "\\item 117\n",
       "\\item 348\n",
       "\\item 364\n",
       "\\item 390\n",
       "\\end{enumerate*}\n",
       "\n",
       "\\item \\begin{enumerate*}\n",
       "\\item 117\n",
       "\\item 348\n",
       "\\item 364\n",
       "\\end{enumerate*}\n",
       "\n",
       "\\item \\begin{enumerate*}\n",
       "\\item 7\n",
       "\\item 70\n",
       "\\item 140\n",
       "\\item 141\n",
       "\\item 142\n",
       "\\item 143\n",
       "\\item 144\n",
       "\\item 146\n",
       "\\item 149\n",
       "\\item 150\n",
       "\\item 151\n",
       "\\item 398\n",
       "\\end{enumerate*}\n",
       "\n",
       "\\end{enumerate}\n"
      ],
      "text/markdown": [
       "1. 1. 48\n",
       "2. 49\n",
       "3. 291\n",
       "4. 298\n",
       "5. 300\n",
       "6. 456\n",
       "7. 457\n",
       "8. 458\n",
       "9. 459\n",
       "\n",
       "\n",
       "\n",
       "2. 1. 117\n",
       "2. 348\n",
       "3. 364\n",
       "4. 390\n",
       "\n",
       "\n",
       "\n",
       "3. 1. 116\n",
       "2. 117\n",
       "3. 348\n",
       "4. 364\n",
       "5. 390\n",
       "\n",
       "\n",
       "\n",
       "4. 1. 115\n",
       "2. 116\n",
       "3. 117\n",
       "4. 348\n",
       "5. 364\n",
       "6. 390\n",
       "\n",
       "\n",
       "\n",
       "5. 1. 117\n",
       "2. 348\n",
       "3. 364\n",
       "\n",
       "\n",
       "\n",
       "6. 1. 7\n",
       "2. 70\n",
       "3. 140\n",
       "4. 141\n",
       "5. 142\n",
       "6. 143\n",
       "7. 144\n",
       "8. 146\n",
       "9. 149\n",
       "10. 150\n",
       "11. 151\n",
       "12. 398\n",
       "\n",
       "\n",
       "\n",
       "\n",
       "\n"
      ],
      "text/plain": [
       "[[1]]\n",
       "[1]  48  49 291 298 300 456 457 458 459\n",
       "\n",
       "[[2]]\n",
       "[1] 117 348 364 390\n",
       "\n",
       "[[3]]\n",
       "[1] 116 117 348 364 390\n",
       "\n",
       "[[4]]\n",
       "[1] 115 116 117 348 364 390\n",
       "\n",
       "[[5]]\n",
       "[1] 117 348 364\n",
       "\n",
       "[[6]]\n",
       " [1]   7  70 140 141 142 143 144 146 149 150 151 398\n"
      ]
     },
     "metadata": {},
     "output_type": "display_data"
    }
   ],
   "source": [
    "#Identify other orders of neighbors of each point\n",
    "coords = coordinates(ppoints)\n",
    "d1 = 1000\n",
    "d2 = 2000\n",
    "\n",
    "ppoints.snb <- dnearneigh(coords, d1, d2,\n",
    "                              bounds=c(\"GE\", \"LT\"))\n",
    "\n",
    "#evaluate the results\n",
    "paste('first order neighbors')\n",
    "head(ppoints.nb)\n",
    "paste('second order neighbors')\n",
    "head(ppoints.snb)"
   ]
  },
  {
   "cell_type": "markdown",
   "metadata": {},
   "source": [
    "### Map Higher Order Neighbors"
   ]
  },
  {
   "cell_type": "code",
   "execution_count": 14,
   "metadata": {},
   "outputs": [
    {
     "data": {
      "image/png": "[encoded data removed]",
      "text/plain": [
       "Plot with title \"First and Second Order Neighbors\""
      ]
     },
     "metadata": {},
     "output_type": "display_data"
    }
   ],
   "source": [
    "#Display point features\n",
    "plot(ppoints, pch = 21, bg = \"blue\", col = \"blue\", lwd = .5, cex = .4, \n",
    "             main=\"First and Second Order Neighbors\", cex.main = .8)\n",
    "\n",
    "#Display 2nd order neighbors\n",
    "plot(ppoints.snb, coords, add = TRUE, col=\"green\")\n",
    "\n",
    "#Display nearest neighbors\n",
    "plot(ppoints.nb, coords, add = TRUE, col=\"red\")"
   ]
  }
 ],
 "metadata": {
  "kernelspec": {
   "display_name": "R",
   "language": "R",
   "name": "ir"
  },
  "language_info": {
   "codemirror_mode": "r",
   "file_extension": ".r",
   "mimetype": "text/x-r-source",
   "name": "R",
   "pygments_lexer": "r",
   "version": "3.4.1"
  }
 },
 "nbformat": 4,
 "nbformat_minor": 2
}
