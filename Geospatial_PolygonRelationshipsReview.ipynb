{
 "cells": [
  {
   "cell_type": "code",
   "execution_count": 51,
   "metadata": {},
   "outputs": [],
   "source": [
    "# Load relevant R packages\n",
    "inLibraries = list('repr','rgdal','spdep','rgeos')\n",
    "for (rpack in inLibraries) {\n",
    "  if (is.element(rpack,installed.packages()[,1])){\n",
    "      #Load the library into R\n",
    "      suppressMessages(library(rpack,character.only = TRUE))\n",
    "    }\n",
    "    else {\n",
    "        print(paste(\"Warning:  \",rpack,\" is not an installed package\"))\n",
    "    }\n",
    "}\n",
    "#resize plot area\n",
    "options(repr.plot.width=6, repr.plot.height=6)"
   ]
  },
  {
   "cell_type": "code",
   "execution_count": 52,
   "metadata": {},
   "outputs": [
    {
     "name": "stdout",
     "output_type": "stream",
     "text": [
      "OGR data source with driver: ESRI Shapefile \n",
      "Source: \"datasets/world\", layer: \"WorldAdmin\"\n",
      "with 3161 features\n",
      "It has 14 fields\n",
      "Integer64 fields read as strings:  OBJECTID Land_Rank \n"
     ]
    }
   ],
   "source": [
    "worldPoly <- readOGR(\"datasets/world\", \"WorldAdmin\")"
   ]
  },
  {
   "cell_type": "code",
   "execution_count": 53,
   "metadata": {
    "collapsed": true
   },
   "outputs": [],
   "source": [
    "data <- worldPoly@data "
   ]
  },
  {
   "cell_type": "code",
   "execution_count": 54,
   "metadata": {
    "collapsed": true
   },
   "outputs": [],
   "source": [
    "peek <- head(data, 3)"
   ]
  },
  {
   "cell_type": "code",
   "execution_count": 55,
   "metadata": {},
   "outputs": [
    {
     "data": {
      "text/html": [
       "<table>\n",
       "<thead><tr><th></th><th scope=col>0</th><th scope=col>1</th><th scope=col>2</th></tr></thead>\n",
       "<tbody>\n",
       "\t<tr><th scope=row>OBJECTID</th><td>1            </td><td>2            </td><td>3            </td></tr>\n",
       "\t<tr><th scope=row>NAME</th><td>A'ana        </td><td>Acre         </td><td>Aiga-i-le-Tai</td></tr>\n",
       "\t<tr><th scope=row>COUNTRY</th><td>Samoa        </td><td>Brazil       </td><td>Samoa        </td></tr>\n",
       "\t<tr><th scope=row>ISO_CODE</th><td>WSAA         </td><td>BRAC         </td><td>WSAL         </td></tr>\n",
       "\t<tr><th scope=row>ISO_CC</th><td>WS           </td><td>BR           </td><td>WS           </td></tr>\n",
       "\t<tr><th scope=row>ISO_SUB</th><td>AA           </td><td>AC           </td><td>AL           </td></tr>\n",
       "\t<tr><th scope=row>ADMINTYPE</th><td>District     </td><td>State        </td><td>District     </td></tr>\n",
       "\t<tr><th scope=row>COUNTRYAFF</th><td>Samoa        </td><td>Brazil       </td><td>Samoa        </td></tr>\n",
       "\t<tr><th scope=row>CONTINENT</th><td>Oceania      </td><td>South America</td><td>Oceania      </td></tr>\n",
       "\t<tr><th scope=row>Land_Type</th><td>Medium island</td><td>Primary land </td><td>Medium island</td></tr>\n",
       "\t<tr><th scope=row>Land_Rank</th><td>3            </td><td>5            </td><td>3            </td></tr>\n",
       "\t<tr><th scope=row>Shape_Leng</th><td> 0.6443423   </td><td>24.1846105   </td><td> 0.1627449   </td></tr>\n",
       "\t<tr><th scope=row>Shape_Area</th><td> 0.014811936 </td><td>12.727371761 </td><td> 0.001620462 </td></tr>\n",
       "\t<tr><th scope=row>sqmiles</th><td>0            </td><td>0            </td><td>0            </td></tr>\n",
       "</tbody>\n",
       "</table>\n"
      ],
      "text/latex": [
       "\\begin{tabular}{r|lll}\n",
       "  & 0 & 1 & 2\\\\\n",
       "\\hline\n",
       "\tOBJECTID & 1             & 2             & 3            \\\\\n",
       "\tNAME & A'ana         & Acre          & Aiga-i-le-Tai\\\\\n",
       "\tCOUNTRY & Samoa         & Brazil        & Samoa        \\\\\n",
       "\tISO\\_CODE & WSAA          & BRAC          & WSAL         \\\\\n",
       "\tISO\\_CC & WS            & BR            & WS           \\\\\n",
       "\tISO\\_SUB & AA            & AC            & AL           \\\\\n",
       "\tADMINTYPE & District      & State         & District     \\\\\n",
       "\tCOUNTRYAFF & Samoa         & Brazil        & Samoa        \\\\\n",
       "\tCONTINENT & Oceania       & South America & Oceania      \\\\\n",
       "\tLand\\_Type & Medium island & Primary land  & Medium island\\\\\n",
       "\tLand\\_Rank & 3             & 5             & 3            \\\\\n",
       "\tShape\\_Leng &  0.6443423    & 24.1846105    &  0.1627449   \\\\\n",
       "\tShape\\_Area &  0.014811936  & 12.727371761  &  0.001620462 \\\\\n",
       "\tsqmiles & 0             & 0             & 0            \\\\\n",
       "\\end{tabular}\n"
      ],
      "text/markdown": [
       "\n",
       "| <!--/--> | 0 | 1 | 2 | \n",
       "|---|---|---|---|---|---|---|---|---|---|---|---|---|---|\n",
       "| OBJECTID | 1             | 2             | 3             | \n",
       "| NAME | A'ana         | Acre          | Aiga-i-le-Tai | \n",
       "| COUNTRY | Samoa         | Brazil        | Samoa         | \n",
       "| ISO_CODE | WSAA          | BRAC          | WSAL          | \n",
       "| ISO_CC | WS            | BR            | WS            | \n",
       "| ISO_SUB | AA            | AC            | AL            | \n",
       "| ADMINTYPE | District      | State         | District      | \n",
       "| COUNTRYAFF | Samoa         | Brazil        | Samoa         | \n",
       "| CONTINENT | Oceania       | South America | Oceania       | \n",
       "| Land_Type | Medium island | Primary land  | Medium island | \n",
       "| Land_Rank | 3             | 5             | 3             | \n",
       "| Shape_Leng |  0.6443423    | 24.1846105    |  0.1627449    | \n",
       "| Shape_Area |  0.014811936  | 12.727371761  |  0.001620462  | \n",
       "| sqmiles | 0             | 0             | 0             | \n",
       "\n",
       "\n"
      ],
      "text/plain": [
       "           0             1             2            \n",
       "OBJECTID   1             2             3            \n",
       "NAME       A'ana         Acre          Aiga-i-le-Tai\n",
       "COUNTRY    Samoa         Brazil        Samoa        \n",
       "ISO_CODE   WSAA          BRAC          WSAL         \n",
       "ISO_CC     WS            BR            WS           \n",
       "ISO_SUB    AA            AC            AL           \n",
       "ADMINTYPE  District      State         District     \n",
       "COUNTRYAFF Samoa         Brazil        Samoa        \n",
       "CONTINENT  Oceania       South America Oceania      \n",
       "Land_Type  Medium island Primary land  Medium island\n",
       "Land_Rank  3             5             3            \n",
       "Shape_Leng  0.6443423    24.1846105     0.1627449   \n",
       "Shape_Area  0.014811936  12.727371761   0.001620462 \n",
       "sqmiles    0             0             0            "
      ]
     },
     "metadata": {},
     "output_type": "display_data"
    }
   ],
   "source": [
    "t(peek)"
   ]
  },
  {
   "cell_type": "code",
   "execution_count": 56,
   "metadata": {},
   "outputs": [
    {
     "data": {
      "text/plain": [
       "Object of class SpatialPolygonsDataFrame\n",
       "Coordinates:\n",
       "         min       max\n",
       "x -180.00000 180.00000\n",
       "y  -55.71535  83.66092\n",
       "Is projected: FALSE \n",
       "proj4string :\n",
       "[+proj=longlat +datum=WGS84 +no_defs +ellps=WGS84 +towgs84=0,0,0]\n",
       "Data attributes:\n",
       "    OBJECTID          NAME     \n",
       " 1      :   1   Central :  10  \n",
       " 1001   :   1   Western :   9  \n",
       " 1005   :   1   Northern:   7  \n",
       " 1008   :   1   Eastern :   6  \n",
       " 1011   :   1   Southern:   5  \n",
       " 1013   :   1   (Other) :3121  \n",
       " (Other):3155   NA's    :   3  \n",
       "                                      COUNTRY        ISO_CODE        ISO_CC    \n",
       " Slovenia                                 : 210   CABC   :   3   SI     : 210  \n",
       " Russian Federation                       :  99   CANT   :   3   RU     :  99  \n",
       " The Former Yugoslav Republic of Macedonia:  84   CANU   :   3   MK     :  84  \n",
       " Turkey                                   :  83   CAQC   :   3   TR     :  83  \n",
       " Philippines                              :  79   CLMA   :   3   PH     :  79  \n",
       " (Other)                                  :2603   (Other):3122   (Other):2603  \n",
       " NA's                                     :   3   NA's   :  24   NA's   :   3  \n",
       "    ISO_SUB            ADMINTYPE   \n",
       " 12     :  30   Province    :1011  \n",
       " 11     :  29   Region      : 365  \n",
       " 14     :  29   Municipality: 318  \n",
       " 13     :  27   State       : 309  \n",
       " 05     :  25   Department  : 219  \n",
       " (Other):2968   (Other)     : 936  \n",
       " NA's   :  53   NA's        :   3  \n",
       "                                     COUNTRYAFF           CONTINENT  \n",
       " Slovenia                                 : 210   Asia         :978  \n",
       " Russian Federation                       :  99   Europe       :903  \n",
       " The Former Yugoslav Republic of Macedonia:  84   Africa       :672  \n",
       " Turkey                                   :  83   North America:290  \n",
       " Philippines                              :  79   South America:248  \n",
       " (Other)                                  :2603   Oceania      : 54  \n",
       " NA's                                     :   3   (Other)      : 16  \n",
       "         Land_Type    Land_Rank   Shape_Leng          Shape_Area      \n",
       " Large island :  25   3: 201    Min.   :   0.0004   Min.   :  0.0000  \n",
       " Medium island: 201   4:  25    1st Qu.:   2.8107   1st Qu.:  0.1833  \n",
       " Primary land :2935   5:2935    Median :   5.7405   Median :  0.6885  \n",
       "                                Mean   :  13.0554   Mean   :  4.8479  \n",
       "                                3rd Qu.:  12.6933   3rd Qu.:  2.7965  \n",
       "                                Max.   :1806.5909   Max.   :651.5152  \n",
       "                                                                      \n",
       "    sqmiles \n",
       " Min.   :0  \n",
       " 1st Qu.:0  \n",
       " Median :0  \n",
       " Mean   :0  \n",
       " 3rd Qu.:0  \n",
       " Max.   :0  \n",
       " NA's   :6  "
      ]
     },
     "metadata": {},
     "output_type": "display_data"
    }
   ],
   "source": [
    "summary(worldPoly)"
   ]
  },
  {
   "cell_type": "code",
   "execution_count": 57,
   "metadata": {},
   "outputs": [
    {
     "name": "stdout",
     "output_type": "stream",
     "text": [
      "'data.frame':\t3161 obs. of  14 variables:\n",
      " $ OBJECTID  : Factor w/ 3161 levels \"1\",\"1001\",\"1005\",..: 1 574 1289 2701 2941 3106 119 178 237 390 ...\n",
      " $ NAME      : Factor w/ 2946 levels \"18 Montagnes\",..: 2 27 52 55 55 126 141 142 145 162 ...\n",
      " $ COUNTRY   : Factor w/ 188 levels \"Afghanistan\",..: 142 22 142 34 34 22 132 132 132 133 ...\n",
      " $ ISO_CODE  : Factor w/ 3002 levels \"AD\",\"AE\",\"AEAZ\",..: 2945 256 2946 410 410 257 1976 1970 1973 1795 ...\n",
      " $ ISO_CC    : Factor w/ 188 levels \"AD\",\"AE\",\"AF\",..: 184 21 184 33 33 21 140 140 140 132 ...\n",
      " $ ISO_SUB   : Factor w/ 1114 levels \"0\",\"00\",\"001\",..: 316 319 335 329 329 335 177 112 145 345 ...\n",
      " $ ADMINTYPE : Factor w/ 71 levels \"Administration\",..: 29 63 29 53 53 63 28 28 28 53 ...\n",
      " $ COUNTRYAFF: Factor w/ 181 levels \"Afghanistan\",..: 136 22 136 34 34 22 127 127 127 128 ...\n",
      " $ CONTINENT : Factor w/ 8 levels \"Africa\",\"Antarctica\",..: 7 8 7 8 8 8 8 8 8 8 ...\n",
      " $ Land_Type : Factor w/ 3 levels \"Large island\",..: 2 3 2 2 3 3 3 3 3 3 ...\n",
      " $ Land_Rank : Factor w/ 3 levels \"3\",\"4\",\"5\": 1 3 1 1 3 3 3 3 3 3 ...\n",
      " $ Shape_Leng: num  0.644 24.185 0.163 46.412 79.737 ...\n",
      " $ Shape_Area: num  0.01481 12.72737 0.00162 1.21835 9.84545 ...\n",
      " $ sqmiles   : num  0 0 0 0 0 0 0 0 0 0 ...\n"
     ]
    }
   ],
   "source": [
    "str(data)"
   ]
  },
  {
   "cell_type": "markdown",
   "metadata": {},
   "source": [
    "Select administrative areas that are associated with the continent of Africa and the country of Madagascar that have a land type of 'Primary land'. Display the polygons and label them with their administrative name."
   ]
  },
  {
   "cell_type": "code",
   "execution_count": 58,
   "metadata": {},
   "outputs": [
    {
     "data": {
      "text/html": [
       "<table>\n",
       "<thead><tr><th></th><th scope=col>OBJECTID</th><th scope=col>NAME</th><th scope=col>COUNTRY</th><th scope=col>ISO_CODE</th><th scope=col>ISO_CC</th><th scope=col>ISO_SUB</th><th scope=col>ADMINTYPE</th><th scope=col>COUNTRYAFF</th><th scope=col>CONTINENT</th><th scope=col>Land_Type</th><th scope=col>Land_Rank</th><th scope=col>Shape_Leng</th><th scope=col>Shape_Area</th><th scope=col>sqmiles</th></tr></thead>\n",
       "<tbody>\n",
       "\t<tr><th scope=row>150</th><td>285         </td><td>Antananarivo</td><td>Madagascar  </td><td>MGT         </td><td>MG          </td><td>T           </td><td>Province    </td><td>Madagascar  </td><td>Africa      </td><td>Primary land</td><td>5           </td><td>11.61495    </td><td> 4.985905   </td><td>0           </td></tr>\n",
       "\t<tr><th scope=row>151</th><td>288         </td><td>Antsiranana </td><td>Madagascar  </td><td>MGD         </td><td>MG          </td><td>D           </td><td>Province    </td><td>Madagascar  </td><td>Africa      </td><td>Primary land</td><td>5           </td><td>24.33704    </td><td> 3.609013   </td><td>0           </td></tr>\n",
       "\t<tr><th scope=row>192</th><td>379         </td><td>Fianarantsoa</td><td>Madagascar  </td><td>MGF         </td><td>MG          </td><td>F           </td><td>Province    </td><td>Madagascar  </td><td>Africa      </td><td>Primary land</td><td>5           </td><td>25.68878    </td><td> 8.803421   </td><td>0           </td></tr>\n",
       "\t<tr><th scope=row>241</th><td>484         </td><td>Mahajanga   </td><td>Madagascar  </td><td>MGM         </td><td>MG          </td><td>M           </td><td>Province    </td><td>Madagascar  </td><td>Africa      </td><td>Primary land</td><td>5           </td><td>49.65140    </td><td>12.924846   </td><td>0           </td></tr>\n",
       "\t<tr><th scope=row>344</th><td>687         </td><td>Toamasina   </td><td>Madagascar  </td><td>MGA         </td><td>MG          </td><td>A           </td><td>Province    </td><td>Madagascar  </td><td>Africa      </td><td>Primary land</td><td>5           </td><td>25.26490    </td><td> 6.058755   </td><td>0           </td></tr>\n",
       "\t<tr><th scope=row>345</th><td>690         </td><td>Toliara     </td><td>Madagascar  </td><td>MGU         </td><td>MG          </td><td>U           </td><td>Province    </td><td>Madagascar  </td><td>Africa      </td><td>Primary land</td><td>5           </td><td>59.09371    </td><td>14.343220   </td><td>0           </td></tr>\n",
       "</tbody>\n",
       "</table>\n"
      ],
      "text/latex": [
       "\\begin{tabular}{r|llllllllllllll}\n",
       "  & OBJECTID & NAME & COUNTRY & ISO\\_CODE & ISO\\_CC & ISO\\_SUB & ADMINTYPE & COUNTRYAFF & CONTINENT & Land\\_Type & Land\\_Rank & Shape\\_Leng & Shape\\_Area & sqmiles\\\\\n",
       "\\hline\n",
       "\t150 & 285          & Antananarivo & Madagascar   & MGT          & MG           & T            & Province     & Madagascar   & Africa       & Primary land & 5            & 11.61495     &  4.985905    & 0           \\\\\n",
       "\t151 & 288          & Antsiranana  & Madagascar   & MGD          & MG           & D            & Province     & Madagascar   & Africa       & Primary land & 5            & 24.33704     &  3.609013    & 0           \\\\\n",
       "\t192 & 379          & Fianarantsoa & Madagascar   & MGF          & MG           & F            & Province     & Madagascar   & Africa       & Primary land & 5            & 25.68878     &  8.803421    & 0           \\\\\n",
       "\t241 & 484          & Mahajanga    & Madagascar   & MGM          & MG           & M            & Province     & Madagascar   & Africa       & Primary land & 5            & 49.65140     & 12.924846    & 0           \\\\\n",
       "\t344 & 687          & Toamasina    & Madagascar   & MGA          & MG           & A            & Province     & Madagascar   & Africa       & Primary land & 5            & 25.26490     &  6.058755    & 0           \\\\\n",
       "\t345 & 690          & Toliara      & Madagascar   & MGU          & MG           & U            & Province     & Madagascar   & Africa       & Primary land & 5            & 59.09371     & 14.343220    & 0           \\\\\n",
       "\\end{tabular}\n"
      ],
      "text/markdown": [
       "\n",
       "| <!--/--> | OBJECTID | NAME | COUNTRY | ISO_CODE | ISO_CC | ISO_SUB | ADMINTYPE | COUNTRYAFF | CONTINENT | Land_Type | Land_Rank | Shape_Leng | Shape_Area | sqmiles | \n",
       "|---|---|---|---|---|---|\n",
       "| 150 | 285          | Antananarivo | Madagascar   | MGT          | MG           | T            | Province     | Madagascar   | Africa       | Primary land | 5            | 11.61495     |  4.985905    | 0            | \n",
       "| 151 | 288          | Antsiranana  | Madagascar   | MGD          | MG           | D            | Province     | Madagascar   | Africa       | Primary land | 5            | 24.33704     |  3.609013    | 0            | \n",
       "| 192 | 379          | Fianarantsoa | Madagascar   | MGF          | MG           | F            | Province     | Madagascar   | Africa       | Primary land | 5            | 25.68878     |  8.803421    | 0            | \n",
       "| 241 | 484          | Mahajanga    | Madagascar   | MGM          | MG           | M            | Province     | Madagascar   | Africa       | Primary land | 5            | 49.65140     | 12.924846    | 0            | \n",
       "| 344 | 687          | Toamasina    | Madagascar   | MGA          | MG           | A            | Province     | Madagascar   | Africa       | Primary land | 5            | 25.26490     |  6.058755    | 0            | \n",
       "| 345 | 690          | Toliara      | Madagascar   | MGU          | MG           | U            | Province     | Madagascar   | Africa       | Primary land | 5            | 59.09371     | 14.343220    | 0            | \n",
       "\n",
       "\n"
      ],
      "text/plain": [
       "    OBJECTID NAME         COUNTRY    ISO_CODE ISO_CC ISO_SUB ADMINTYPE\n",
       "150 285      Antananarivo Madagascar MGT      MG     T       Province \n",
       "151 288      Antsiranana  Madagascar MGD      MG     D       Province \n",
       "192 379      Fianarantsoa Madagascar MGF      MG     F       Province \n",
       "241 484      Mahajanga    Madagascar MGM      MG     M       Province \n",
       "344 687      Toamasina    Madagascar MGA      MG     A       Province \n",
       "345 690      Toliara      Madagascar MGU      MG     U       Province \n",
       "    COUNTRYAFF CONTINENT Land_Type    Land_Rank Shape_Leng Shape_Area sqmiles\n",
       "150 Madagascar Africa    Primary land 5         11.61495    4.985905  0      \n",
       "151 Madagascar Africa    Primary land 5         24.33704    3.609013  0      \n",
       "192 Madagascar Africa    Primary land 5         25.68878    8.803421  0      \n",
       "241 Madagascar Africa    Primary land 5         49.65140   12.924846  0      \n",
       "344 Madagascar Africa    Primary land 5         25.26490    6.058755  0      \n",
       "345 Madagascar Africa    Primary land 5         59.09371   14.343220  0      "
      ]
     },
     "metadata": {},
     "output_type": "display_data"
    }
   ],
   "source": [
    "subset(data, (CONTINENT == \"Africa\" & COUNTRY == \"Madagascar\" & Land_Type == \"Primary land\"))"
   ]
  },
  {
   "cell_type": "code",
   "execution_count": 59,
   "metadata": {
    "collapsed": true
   },
   "outputs": [],
   "source": [
    "subset1 <- worldPoly[worldPoly$CONTINENT == \"Africa\" & \n",
    "                             worldPoly$COUNTRY == \"Madagascar\" & \n",
    "                             worldPoly$Land_Type == \"Primary land\", ]"
   ]
  },
  {
   "cell_type": "code",
   "execution_count": 60,
   "metadata": {},
   "outputs": [
    {
     "data": {
      "image/png": "[encoded data removed]",
      "text/plain": [
       "Plot with title \"Primary Land in Madagascar\""
      ]
     },
     "metadata": {},
     "output_type": "display_data"
    }
   ],
   "source": [
    "plot(subset1, col = \"yellow\", main = \"Primary Land in Madagascar\")\n",
    "\n",
    "# get the centroid of the polygons\n",
    "centroids <- gCentroid(subset1, byid = TRUE)\n",
    "centroidLong <- coordinates(centroids)[, 1]\n",
    "centroidLat <- coordinates(centroids)[, 2]\n",
    "\n",
    "# add text label\n",
    "text(centroidLong, centroidLat, labels = subset1$NAME, cex = 0.6)"
   ]
  },
  {
   "cell_type": "markdown",
   "metadata": {},
   "source": [
    "Based upon the Queen's criterion, identify the neighbors for each administrative polygon in Madagascar. Plot the neighborhood relations on the map as lines."
   ]
  },
  {
   "cell_type": "code",
   "execution_count": 61,
   "metadata": {
    "collapsed": true
   },
   "outputs": [],
   "source": [
    "# JACKY: I want to grab the neighbors for each polygon (Queen's criterion)\n",
    "subset1.nb <- poly2nb(subset1, queen = TRUE) "
   ]
  },
  {
   "cell_type": "code",
   "execution_count": 62,
   "metadata": {},
   "outputs": [
    {
     "data": {
      "text/plain": [
       "Neighbour list object:\n",
       "Number of regions: 6 \n",
       "Number of nonzero links: 20 \n",
       "Percentage nonzero weights: 55.55556 \n",
       "Average number of links: 3.333333 "
      ]
     },
     "metadata": {},
     "output_type": "display_data"
    }
   ],
   "source": [
    "subset1.nb"
   ]
  },
  {
   "cell_type": "code",
   "execution_count": 63,
   "metadata": {},
   "outputs": [
    {
     "data": {
      "text/html": [
       "<ol>\n",
       "\t<li><ol class=list-inline>\n",
       "\t<li>3</li>\n",
       "\t<li>4</li>\n",
       "\t<li>5</li>\n",
       "\t<li>6</li>\n",
       "</ol>\n",
       "</li>\n",
       "\t<li><ol class=list-inline>\n",
       "\t<li>4</li>\n",
       "\t<li>5</li>\n",
       "</ol>\n",
       "</li>\n",
       "\t<li><ol class=list-inline>\n",
       "\t<li>1</li>\n",
       "\t<li>5</li>\n",
       "\t<li>6</li>\n",
       "</ol>\n",
       "</li>\n",
       "\t<li><ol class=list-inline>\n",
       "\t<li>1</li>\n",
       "\t<li>2</li>\n",
       "\t<li>5</li>\n",
       "\t<li>6</li>\n",
       "</ol>\n",
       "</li>\n",
       "\t<li><ol class=list-inline>\n",
       "\t<li>1</li>\n",
       "\t<li>2</li>\n",
       "\t<li>3</li>\n",
       "\t<li>4</li>\n",
       "</ol>\n",
       "</li>\n",
       "\t<li><ol class=list-inline>\n",
       "\t<li>1</li>\n",
       "\t<li>3</li>\n",
       "\t<li>4</li>\n",
       "</ol>\n",
       "</li>\n",
       "</ol>\n"
      ],
      "text/latex": [
       "\\begin{enumerate}\n",
       "\\item \\begin{enumerate*}\n",
       "\\item 3\n",
       "\\item 4\n",
       "\\item 5\n",
       "\\item 6\n",
       "\\end{enumerate*}\n",
       "\n",
       "\\item \\begin{enumerate*}\n",
       "\\item 4\n",
       "\\item 5\n",
       "\\end{enumerate*}\n",
       "\n",
       "\\item \\begin{enumerate*}\n",
       "\\item 1\n",
       "\\item 5\n",
       "\\item 6\n",
       "\\end{enumerate*}\n",
       "\n",
       "\\item \\begin{enumerate*}\n",
       "\\item 1\n",
       "\\item 2\n",
       "\\item 5\n",
       "\\item 6\n",
       "\\end{enumerate*}\n",
       "\n",
       "\\item \\begin{enumerate*}\n",
       "\\item 1\n",
       "\\item 2\n",
       "\\item 3\n",
       "\\item 4\n",
       "\\end{enumerate*}\n",
       "\n",
       "\\item \\begin{enumerate*}\n",
       "\\item 1\n",
       "\\item 3\n",
       "\\item 4\n",
       "\\end{enumerate*}\n",
       "\n",
       "\\end{enumerate}\n"
      ],
      "text/markdown": [
       "1. 1. 3\n",
       "2. 4\n",
       "3. 5\n",
       "4. 6\n",
       "\n",
       "\n",
       "\n",
       "2. 1. 4\n",
       "2. 5\n",
       "\n",
       "\n",
       "\n",
       "3. 1. 1\n",
       "2. 5\n",
       "3. 6\n",
       "\n",
       "\n",
       "\n",
       "4. 1. 1\n",
       "2. 2\n",
       "3. 5\n",
       "4. 6\n",
       "\n",
       "\n",
       "\n",
       "5. 1. 1\n",
       "2. 2\n",
       "3. 3\n",
       "4. 4\n",
       "\n",
       "\n",
       "\n",
       "6. 1. 1\n",
       "2. 3\n",
       "3. 4\n",
       "\n",
       "\n",
       "\n",
       "\n",
       "\n"
      ],
      "text/plain": [
       "[[1]]\n",
       "[1] 3 4 5 6\n",
       "\n",
       "[[2]]\n",
       "[1] 4 5\n",
       "\n",
       "[[3]]\n",
       "[1] 1 5 6\n",
       "\n",
       "[[4]]\n",
       "[1] 1 2 5 6\n",
       "\n",
       "[[5]]\n",
       "[1] 1 2 3 4\n",
       "\n",
       "[[6]]\n",
       "[1] 1 3 4\n"
      ]
     },
     "metadata": {},
     "output_type": "display_data"
    }
   ],
   "source": [
    "head(subset1.nb, 10)"
   ]
  },
  {
   "cell_type": "code",
   "execution_count": 64,
   "metadata": {},
   "outputs": [
    {
     "data": {
      "image/png": "[encoded data removed]",
      "text/plain": [
       "Plot with title \"Neighbors for each polygon within the Madagascar region\""
      ]
     },
     "metadata": {},
     "output_type": "display_data"
    }
   ],
   "source": [
    "plot(subset1, col = \"lightblue\", main = \"Neighbors for each polygon within the Madagascar region\")\n",
    "plot(subset1.nb, coordinates(subset1), add = TRUE, col = \"red\")"
   ]
  },
  {
   "cell_type": "markdown",
   "metadata": {},
   "source": [
    "1. List the neighborhood sets for each admin unit.\n",
    "2. Display the standard binary contiguity matrix.\n",
    "3. Display a binary contiguity matrix weighted by distance to neighbors."
   ]
  },
  {
   "cell_type": "code",
   "execution_count": 65,
   "metadata": {
    "collapsed": true
   },
   "outputs": [],
   "source": [
    "worldPoly.nb <- poly2nb(worldPoly, queen = TRUE)"
   ]
  },
  {
   "cell_type": "code",
   "execution_count": 66,
   "metadata": {},
   "outputs": [
    {
     "data": {
      "text/html": [
       "<ol>\n",
       "\t<li><ol class=list-inline>\n",
       "\t<li>3</li>\n",
       "\t<li>59</li>\n",
       "\t<li>143</li>\n",
       "</ol>\n",
       "</li>\n",
       "\t<li><ol class=list-inline>\n",
       "\t<li>80</li>\n",
       "\t<li>98</li>\n",
       "\t<li>117</li>\n",
       "\t<li>146</li>\n",
       "\t<li>3077</li>\n",
       "\t<li>3083</li>\n",
       "</ol>\n",
       "</li>\n",
       "\t<li>1</li>\n",
       "\t<li>0</li>\n",
       "\t<li><ol class=list-inline>\n",
       "\t<li>35</li>\n",
       "\t<li>79</li>\n",
       "\t<li>83</li>\n",
       "\t<li>126</li>\n",
       "</ol>\n",
       "</li>\n",
       "\t<li><ol class=list-inline>\n",
       "\t<li>20</li>\n",
       "\t<li>104</li>\n",
       "\t<li>132</li>\n",
       "</ol>\n",
       "</li>\n",
       "\t<li><ol class=list-inline>\n",
       "\t<li>22</li>\n",
       "\t<li>39</li>\n",
       "\t<li>86</li>\n",
       "\t<li>107</li>\n",
       "\t<li>127</li>\n",
       "</ol>\n",
       "</li>\n",
       "\t<li><ol class=list-inline>\n",
       "\t<li>24</li>\n",
       "\t<li>25</li>\n",
       "\t<li>28</li>\n",
       "\t<li>66</li>\n",
       "\t<li>90</li>\n",
       "\t<li>101</li>\n",
       "</ol>\n",
       "</li>\n",
       "\t<li><ol class=list-inline>\n",
       "\t<li>28</li>\n",
       "\t<li>39</li>\n",
       "\t<li>86</li>\n",
       "\t<li>124</li>\n",
       "</ol>\n",
       "</li>\n",
       "\t<li><ol class=list-inline>\n",
       "\t<li>64</li>\n",
       "\t<li>69</li>\n",
       "\t<li>76</li>\n",
       "</ol>\n",
       "</li>\n",
       "</ol>\n"
      ],
      "text/latex": [
       "\\begin{enumerate}\n",
       "\\item \\begin{enumerate*}\n",
       "\\item 3\n",
       "\\item 59\n",
       "\\item 143\n",
       "\\end{enumerate*}\n",
       "\n",
       "\\item \\begin{enumerate*}\n",
       "\\item 80\n",
       "\\item 98\n",
       "\\item 117\n",
       "\\item 146\n",
       "\\item 3077\n",
       "\\item 3083\n",
       "\\end{enumerate*}\n",
       "\n",
       "\\item 1\n",
       "\\item 0\n",
       "\\item \\begin{enumerate*}\n",
       "\\item 35\n",
       "\\item 79\n",
       "\\item 83\n",
       "\\item 126\n",
       "\\end{enumerate*}\n",
       "\n",
       "\\item \\begin{enumerate*}\n",
       "\\item 20\n",
       "\\item 104\n",
       "\\item 132\n",
       "\\end{enumerate*}\n",
       "\n",
       "\\item \\begin{enumerate*}\n",
       "\\item 22\n",
       "\\item 39\n",
       "\\item 86\n",
       "\\item 107\n",
       "\\item 127\n",
       "\\end{enumerate*}\n",
       "\n",
       "\\item \\begin{enumerate*}\n",
       "\\item 24\n",
       "\\item 25\n",
       "\\item 28\n",
       "\\item 66\n",
       "\\item 90\n",
       "\\item 101\n",
       "\\end{enumerate*}\n",
       "\n",
       "\\item \\begin{enumerate*}\n",
       "\\item 28\n",
       "\\item 39\n",
       "\\item 86\n",
       "\\item 124\n",
       "\\end{enumerate*}\n",
       "\n",
       "\\item \\begin{enumerate*}\n",
       "\\item 64\n",
       "\\item 69\n",
       "\\item 76\n",
       "\\end{enumerate*}\n",
       "\n",
       "\\end{enumerate}\n"
      ],
      "text/markdown": [
       "1. 1. 3\n",
       "2. 59\n",
       "3. 143\n",
       "\n",
       "\n",
       "\n",
       "2. 1. 80\n",
       "2. 98\n",
       "3. 117\n",
       "4. 146\n",
       "5. 3077\n",
       "6. 3083\n",
       "\n",
       "\n",
       "\n",
       "3. 1\n",
       "4. 0\n",
       "5. 1. 35\n",
       "2. 79\n",
       "3. 83\n",
       "4. 126\n",
       "\n",
       "\n",
       "\n",
       "6. 1. 20\n",
       "2. 104\n",
       "3. 132\n",
       "\n",
       "\n",
       "\n",
       "7. 1. 22\n",
       "2. 39\n",
       "3. 86\n",
       "4. 107\n",
       "5. 127\n",
       "\n",
       "\n",
       "\n",
       "8. 1. 24\n",
       "2. 25\n",
       "3. 28\n",
       "4. 66\n",
       "5. 90\n",
       "6. 101\n",
       "\n",
       "\n",
       "\n",
       "9. 1. 28\n",
       "2. 39\n",
       "3. 86\n",
       "4. 124\n",
       "\n",
       "\n",
       "\n",
       "10. 1. 64\n",
       "2. 69\n",
       "3. 76\n",
       "\n",
       "\n",
       "\n",
       "\n",
       "\n"
      ],
      "text/plain": [
       "[[1]]\n",
       "[1]   3  59 143\n",
       "\n",
       "[[2]]\n",
       "[1]   80   98  117  146 3077 3083\n",
       "\n",
       "[[3]]\n",
       "[1] 1\n",
       "\n",
       "[[4]]\n",
       "[1] 0\n",
       "\n",
       "[[5]]\n",
       "[1]  35  79  83 126\n",
       "\n",
       "[[6]]\n",
       "[1]  20 104 132\n",
       "\n",
       "[[7]]\n",
       "[1]  22  39  86 107 127\n",
       "\n",
       "[[8]]\n",
       "[1]  24  25  28  66  90 101\n",
       "\n",
       "[[9]]\n",
       "[1]  28  39  86 124\n",
       "\n",
       "[[10]]\n",
       "[1] 64 69 76\n"
      ]
     },
     "metadata": {},
     "output_type": "display_data"
    }
   ],
   "source": [
    "head(worldPoly.nb, 10)"
   ]
  },
  {
   "cell_type": "code",
   "execution_count": 67,
   "metadata": {},
   "outputs": [
    {
     "data": {
      "text/html": [
       "<table>\n",
       "<thead><tr><th></th><th scope=col>OBJECTID</th><th scope=col>NAME</th><th scope=col>COUNTRY</th><th scope=col>ISO_CODE</th><th scope=col>ISO_CC</th><th scope=col>ISO_SUB</th><th scope=col>ADMINTYPE</th><th scope=col>COUNTRYAFF</th><th scope=col>CONTINENT</th><th scope=col>Land_Type</th><th scope=col>Land_Rank</th><th scope=col>Shape_Leng</th><th scope=col>Shape_Area</th><th scope=col>sqmiles</th></tr></thead>\n",
       "<tbody>\n",
       "\t<tr><th scope=row>0</th><td>1            </td><td>A'ana        </td><td>Samoa        </td><td>WSAA         </td><td>WS           </td><td>AA           </td><td>District     </td><td>Samoa        </td><td>Oceania      </td><td>Medium island</td><td>3            </td><td> 0.6443423   </td><td> 0.014811936 </td><td>0            </td></tr>\n",
       "\t<tr><th scope=row>1</th><td>2            </td><td>Acre         </td><td>Brazil       </td><td>BRAC         </td><td>BR           </td><td>AC           </td><td>State        </td><td>Brazil       </td><td>South America</td><td>Primary land </td><td>5            </td><td>24.1846105   </td><td>12.727371761 </td><td>0            </td></tr>\n",
       "\t<tr><th scope=row>2</th><td>3            </td><td>Aiga-i-le-Tai</td><td>Samoa        </td><td>WSAL         </td><td>WS           </td><td>AL           </td><td>District     </td><td>Samoa        </td><td>Oceania      </td><td>Medium island</td><td>3            </td><td> 0.1627449   </td><td> 0.001620462 </td><td>0            </td></tr>\n",
       "</tbody>\n",
       "</table>\n"
      ],
      "text/latex": [
       "\\begin{tabular}{r|llllllllllllll}\n",
       "  & OBJECTID & NAME & COUNTRY & ISO\\_CODE & ISO\\_CC & ISO\\_SUB & ADMINTYPE & COUNTRYAFF & CONTINENT & Land\\_Type & Land\\_Rank & Shape\\_Leng & Shape\\_Area & sqmiles\\\\\n",
       "\\hline\n",
       "\t0 & 1             & A'ana         & Samoa         & WSAA          & WS            & AA            & District      & Samoa         & Oceania       & Medium island & 3             &  0.6443423    &  0.014811936  & 0            \\\\\n",
       "\t1 & 2             & Acre          & Brazil        & BRAC          & BR            & AC            & State         & Brazil        & South America & Primary land  & 5             & 24.1846105    & 12.727371761  & 0            \\\\\n",
       "\t2 & 3             & Aiga-i-le-Tai & Samoa         & WSAL          & WS            & AL            & District      & Samoa         & Oceania       & Medium island & 3             &  0.1627449    &  0.001620462  & 0            \\\\\n",
       "\\end{tabular}\n"
      ],
      "text/markdown": [
       "\n",
       "| <!--/--> | OBJECTID | NAME | COUNTRY | ISO_CODE | ISO_CC | ISO_SUB | ADMINTYPE | COUNTRYAFF | CONTINENT | Land_Type | Land_Rank | Shape_Leng | Shape_Area | sqmiles | \n",
       "|---|---|---|\n",
       "| 0 | 1             | A'ana         | Samoa         | WSAA          | WS            | AA            | District      | Samoa         | Oceania       | Medium island | 3             |  0.6443423    |  0.014811936  | 0             | \n",
       "| 1 | 2             | Acre          | Brazil        | BRAC          | BR            | AC            | State         | Brazil        | South America | Primary land  | 5             | 24.1846105    | 12.727371761  | 0             | \n",
       "| 2 | 3             | Aiga-i-le-Tai | Samoa         | WSAL          | WS            | AL            | District      | Samoa         | Oceania       | Medium island | 3             |  0.1627449    |  0.001620462  | 0             | \n",
       "\n",
       "\n"
      ],
      "text/plain": [
       "  OBJECTID NAME          COUNTRY ISO_CODE ISO_CC ISO_SUB ADMINTYPE COUNTRYAFF\n",
       "0 1        A'ana         Samoa   WSAA     WS     AA      District  Samoa     \n",
       "1 2        Acre          Brazil  BRAC     BR     AC      State     Brazil    \n",
       "2 3        Aiga-i-le-Tai Samoa   WSAL     WS     AL      District  Samoa     \n",
       "  CONTINENT     Land_Type     Land_Rank Shape_Leng Shape_Area   sqmiles\n",
       "0 Oceania       Medium island 3          0.6443423  0.014811936 0      \n",
       "1 South America Primary land  5         24.1846105 12.727371761 0      \n",
       "2 Oceania       Medium island 3          0.1627449  0.001620462 0      "
      ]
     },
     "metadata": {},
     "output_type": "display_data"
    }
   ],
   "source": [
    "peek\n",
    "\n",
    "## Quick sanity check. \n",
    "# Admin # 1 is neighbors with # 3\n",
    "# Both are in Samoa so that looks okay to me."
   ]
  },
  {
   "cell_type": "code",
   "execution_count": 68,
   "metadata": {
    "collapsed": true
   },
   "outputs": [],
   "source": [
    "## JACKY : Displays the standard binary contiguity matrix.\n",
    "\n",
    "worldPoly.mat <- nb2mat(worldPoly.nb, style = \"B\", zero.policy = TRUE)"
   ]
  },
  {
   "cell_type": "code",
   "execution_count": 69,
   "metadata": {},
   "outputs": [
    {
     "data": {
      "text/html": [
       "<table>\n",
       "<tbody>\n",
       "\t<tr><th scope=row>0</th><td>0  </td><td>0  </td><td>1  </td><td>0  </td><td>0  </td><td>0  </td><td>0  </td><td>0  </td><td>0  </td><td>0  </td><td>...</td><td>0  </td><td>0  </td><td>0  </td><td>0  </td><td>0  </td><td>0  </td><td>0  </td><td>0  </td><td>0  </td><td>0  </td></tr>\n",
       "\t<tr><th scope=row>1</th><td>0  </td><td>0  </td><td>0  </td><td>0  </td><td>0  </td><td>0  </td><td>0  </td><td>0  </td><td>0  </td><td>0  </td><td>...</td><td>0  </td><td>0  </td><td>0  </td><td>0  </td><td>0  </td><td>0  </td><td>0  </td><td>0  </td><td>0  </td><td>0  </td></tr>\n",
       "\t<tr><th scope=row>2</th><td>1  </td><td>0  </td><td>0  </td><td>0  </td><td>0  </td><td>0  </td><td>0  </td><td>0  </td><td>0  </td><td>0  </td><td>...</td><td>0  </td><td>0  </td><td>0  </td><td>0  </td><td>0  </td><td>0  </td><td>0  </td><td>0  </td><td>0  </td><td>0  </td></tr>\n",
       "\t<tr><th scope=row>3</th><td>0  </td><td>0  </td><td>0  </td><td>0  </td><td>0  </td><td>0  </td><td>0  </td><td>0  </td><td>0  </td><td>0  </td><td>...</td><td>0  </td><td>0  </td><td>0  </td><td>0  </td><td>0  </td><td>0  </td><td>0  </td><td>0  </td><td>0  </td><td>0  </td></tr>\n",
       "\t<tr><th scope=row>4</th><td>0  </td><td>0  </td><td>0  </td><td>0  </td><td>0  </td><td>0  </td><td>0  </td><td>0  </td><td>0  </td><td>0  </td><td>...</td><td>0  </td><td>0  </td><td>0  </td><td>0  </td><td>0  </td><td>0  </td><td>0  </td><td>0  </td><td>0  </td><td>0  </td></tr>\n",
       "\t<tr><th scope=row>5</th><td>0  </td><td>0  </td><td>0  </td><td>0  </td><td>0  </td><td>0  </td><td>0  </td><td>0  </td><td>0  </td><td>0  </td><td>...</td><td>0  </td><td>0  </td><td>0  </td><td>0  </td><td>0  </td><td>0  </td><td>0  </td><td>0  </td><td>0  </td><td>0  </td></tr>\n",
       "</tbody>\n",
       "</table>\n"
      ],
      "text/latex": [
       "\\begin{tabular}{r|lllllllllllllllllllllllllllllllllllllllllllllllllllllllllllllllllllllllllllllllllllllllllllllllllllllllllllllllllllllllllllllllllllllllllllllllllllllllllllllllllllllllllllllllllllllllllllllllllllllllllllllllllllllllllllllllllllllllllllllllllllllllllllllllllllllllllllllllllllllllllllllllllllllllllllllllllllllllllllllllllllllllllllllllllllllllllllllllllllllllllllllllllllllllllllllllllllllllllllllllllllllllllllllllllllllllllllllllllllllllllllllllllllllllllllllllllllllllllllllllllllllllllllllllllllllllllllllllllllllllllllllllllllllllllllllllllllllllllllllllllllllllllllllllllllllllllllllllllllllllllllllllllllllllllllllllllllllllllllllllllllllllllllllllllllllllllllllllllllllllllllllllllllllllllllllllllllllllllllllllllllllllllllllllllllllllllllllllllllllllllllllllllllllllllllllllllllllllllllllllllllllllllllllllllllllllllllllllllllllllllllllllllllllllllllllllllllllllllllllllllllllllllllllllllllllllllllllllllllllllllllllllllllllllllllllllllllllllllllllllllllllllllllllllllllllllllllllllllllllllllllllllllllllllllllllllllllllllllllllllllllllllllllllllllllllllllllllllllllllllllllllllllllllllllllllllllllllllllllllllllllllllllllllllllllllllllllllllllllllllllllllllllllllllllllllllllllllllllllllllllllllllllllllllllllllllllllllllllllllllllllllllllllllllllllllllllllllllllllllllllllllllllllllllllllllllllllllllllllllllllllllllllllllllllllllllllllllllllllllllllllllllllllllllllllllllllllllllllllllllllllllllllllllllllllllllllllllllllllllllllllllllllllllllllllllllllllllllllllllllllllllllllllllllllllllllllllllllllllllllllllllllllllllllllllllllllllllllllllllllllllllllllllllllllllllllllllllllllllllllllllllllllllllllllllllllllllllllllllllllllllllllllllllllllllllllllllllllllllllllllllllllllllllllllllllllllllllllllllllllllllllllllllllllllllllllllllllllllllllllllllllllllllllllllllllllllllllllllllllllllllllllllllllllllllllllllllllllllllllllllllllllllllllllllllllllllllllllllllllllllllllllllllllllllllllllllllllllllllllllllllllllllllllllllllllllllllllllllllllllllllllllllllllllllllllllllllllllllllllllllllllllllllllllllllllllllllllllllllllllllllllllllllllllllllllllllllllllllllllllllllllllllllllllllllllllllllllllllllllllllllllllllllllllllllllllllllllllllllllllllllllllllllllllllllllllllllllllllllllllllllllllllllllllllllllllllllllllllllllllllllllllllllllllllllllllllllllllllllllllllllllllllllllllllllllllllllllllllllllllllllllllllllllllllllllllllllllllllllllllllllllllllllllllllllllllllllllllllllllllllllllllllllllllllllllllllllllllllllllllllllllllllllllllllllllllllllllllllllllllllllllllllllllllllllllllllllllllllllllllllllllllllllllllllllllllllllllllllllllllllllllllllllllllllllllllllllllllllllllllllllllllllllllllllllllllllllllllllllllllllllllllllllllllllllllllllllllllllllllllllllllllllllllllllllllllllllllllllllllllllllllllllllllllllllllllllllllllllllllllllllllllllllllllllllllllllllllllllllllllllllllllllllllllllllllllllllllllllllllllllllllllllllllllllllllllllllllllllllllllllllllllllllllllllllllllllllllllllllllllllllllllllllllllllllllllllllllllllllllllllllllllllllllllllllllllllllllllllllllllllllllllllllllllllllllllllllllllllllllllllllllllllllllllllllllllllllllllllllllllllllllllllllllllllllllllllllllllllllllllllllllllllllllllllllllllllllllllllllllllll}\n",
       "\t0 & 0   & 0   & 1   & 0   & 0   & 0   & 0   & 0   & 0   & 0   & ... & 0   & 0   & 0   & 0   & 0   & 0   & 0   & 0   & 0   & 0  \\\\\n",
       "\t1 & 0   & 0   & 0   & 0   & 0   & 0   & 0   & 0   & 0   & 0   & ... & 0   & 0   & 0   & 0   & 0   & 0   & 0   & 0   & 0   & 0  \\\\\n",
       "\t2 & 1   & 0   & 0   & 0   & 0   & 0   & 0   & 0   & 0   & 0   & ... & 0   & 0   & 0   & 0   & 0   & 0   & 0   & 0   & 0   & 0  \\\\\n",
       "\t3 & 0   & 0   & 0   & 0   & 0   & 0   & 0   & 0   & 0   & 0   & ... & 0   & 0   & 0   & 0   & 0   & 0   & 0   & 0   & 0   & 0  \\\\\n",
       "\t4 & 0   & 0   & 0   & 0   & 0   & 0   & 0   & 0   & 0   & 0   & ... & 0   & 0   & 0   & 0   & 0   & 0   & 0   & 0   & 0   & 0  \\\\\n",
       "\t5 & 0   & 0   & 0   & 0   & 0   & 0   & 0   & 0   & 0   & 0   & ... & 0   & 0   & 0   & 0   & 0   & 0   & 0   & 0   & 0   & 0  \\\\\n",
       "\\end{tabular}\n"
      ],
      "text/markdown": [
       "\n",
       "| 0 | 0   | 0   | 1   | 0   | 0   | 0   | 0   | 0   | 0   | 0   | ... | 0   | 0   | 0   | 0   | 0   | 0   | 0   | 0   | 0   | 0   | \n",
       "| 1 | 0   | 0   | 0   | 0   | 0   | 0   | 0   | 0   | 0   | 0   | ... | 0   | 0   | 0   | 0   | 0   | 0   | 0   | 0   | 0   | 0   | \n",
       "| 2 | 1   | 0   | 0   | 0   | 0   | 0   | 0   | 0   | 0   | 0   | ... | 0   | 0   | 0   | 0   | 0   | 0   | 0   | 0   | 0   | 0   | \n",
       "| 3 | 0   | 0   | 0   | 0   | 0   | 0   | 0   | 0   | 0   | 0   | ... | 0   | 0   | 0   | 0   | 0   | 0   | 0   | 0   | 0   | 0   | \n",
       "| 4 | 0   | 0   | 0   | 0   | 0   | 0   | 0   | 0   | 0   | 0   | ... | 0   | 0   | 0   | 0   | 0   | 0   | 0   | 0   | 0   | 0   | \n",
       "| 5 | 0   | 0   | 0   | 0   | 0   | 0   | 0   | 0   | 0   | 0   | ... | 0   | 0   | 0   | 0   | 0   | 0   | 0   | 0   | 0   | 0   | \n",
       "\n",
       "\n"
      ],
      "text/plain": [
       "  [,1] [,2] [,3] [,4] [,5] [,6] [,7] [,8] [,9] [,10] [,11] [,12] [,13] [,14]\n",
       "0 0    0    1    0    0    0    0    0    0    0     ...   0     0     0    \n",
       "1 0    0    0    0    0    0    0    0    0    0     ...   0     0     0    \n",
       "2 1    0    0    0    0    0    0    0    0    0     ...   0     0     0    \n",
       "3 0    0    0    0    0    0    0    0    0    0     ...   0     0     0    \n",
       "4 0    0    0    0    0    0    0    0    0    0     ...   0     0     0    \n",
       "5 0    0    0    0    0    0    0    0    0    0     ...   0     0     0    \n",
       "  [,15] [,16] [,17] [,18] [,19] [,20] [,21]\n",
       "0 0     0     0     0     0     0     0    \n",
       "1 0     0     0     0     0     0     0    \n",
       "2 0     0     0     0     0     0     0    \n",
       "3 0     0     0     0     0     0     0    \n",
       "4 0     0     0     0     0     0     0    \n",
       "5 0     0     0     0     0     0     0    "
      ]
     },
     "metadata": {},
     "output_type": "display_data"
    }
   ],
   "source": [
    "head(worldPoly.mat)"
   ]
  },
  {
   "cell_type": "code",
   "execution_count": 70,
   "metadata": {
    "collapsed": true
   },
   "outputs": [],
   "source": [
    "worldPoly.centroids <- gCentroid(worldPoly, byid = TRUE)"
   ]
  },
  {
   "cell_type": "code",
   "execution_count": 71,
   "metadata": {},
   "outputs": [
    {
     "data": {
      "text/plain": [
       "SpatialPoints:\n",
       "           x          y\n",
       "0 -171.96838 -13.887991\n",
       "1  -70.43399  -9.300365\n",
       "2 -172.04913 -13.869275\n",
       "3  -74.29944 -46.660035\n",
       "4  -73.02298 -46.401901\n",
       "5  -36.62683  -9.511191\n",
       "Coordinate Reference System (CRS) arguments: +proj=longlat +datum=WGS84\n",
       "+no_defs +ellps=WGS84 +towgs84=0,0,0 "
      ]
     },
     "metadata": {},
     "output_type": "display_data"
    }
   ],
   "source": [
    "head(worldPoly.centroids)"
   ]
  },
  {
   "cell_type": "code",
   "execution_count": 72,
   "metadata": {
    "collapsed": true
   },
   "outputs": [],
   "source": [
    "## JACKY: Display a binary contiguity matrix weighted by distance to neighbors.\n",
    "\n",
    "worldPoly.dist <- nbdists(worldPoly.nb, coordinates(worldPoly.centroids))"
   ]
  },
  {
   "cell_type": "code",
   "execution_count": 73,
   "metadata": {},
   "outputs": [
    {
     "data": {
      "text/html": [
       "<ol>\n",
       "\t<li><ol class=list-inline>\n",
       "\t<li>0.0828891652192118</li>\n",
       "\t<li>0.482337459863546</li>\n",
       "\t<li>0.154240484653269</li>\n",
       "</ol>\n",
       "</li>\n",
       "\t<li><ol class=list-inline>\n",
       "\t<li>2.68891614257175</li>\n",
       "\t<li>3.59069301362759</li>\n",
       "\t<li>7.76369783164313</li>\n",
       "\t<li>2.98679964824008</li>\n",
       "\t<li>7.68126872059466</li>\n",
       "\t<li>6.53523680166908</li>\n",
       "</ol>\n",
       "</li>\n",
       "\t<li>0.0828891652192118</li>\n",
       "\t<li>NULL</li>\n",
       "\t<li><ol class=list-inline>\n",
       "\t<li>5.20007871772815</li>\n",
       "\t<li>5.12306018793271</li>\n",
       "\t<li>6.06679699167792</li>\n",
       "\t<li>3.91203864619698</li>\n",
       "</ol>\n",
       "</li>\n",
       "\t<li><ol class=list-inline>\n",
       "\t<li>5.87674310487351</li>\n",
       "\t<li>1.82409665797384</li>\n",
       "\t<li>1.34631365316051</li>\n",
       "</ol>\n",
       "</li>\n",
       "</ol>\n"
      ],
      "text/latex": [
       "\\begin{enumerate}\n",
       "\\item \\begin{enumerate*}\n",
       "\\item 0.0828891652192118\n",
       "\\item 0.482337459863546\n",
       "\\item 0.154240484653269\n",
       "\\end{enumerate*}\n",
       "\n",
       "\\item \\begin{enumerate*}\n",
       "\\item 2.68891614257175\n",
       "\\item 3.59069301362759\n",
       "\\item 7.76369783164313\n",
       "\\item 2.98679964824008\n",
       "\\item 7.68126872059466\n",
       "\\item 6.53523680166908\n",
       "\\end{enumerate*}\n",
       "\n",
       "\\item 0.0828891652192118\n",
       "\\item NULL\n",
       "\\item \\begin{enumerate*}\n",
       "\\item 5.20007871772815\n",
       "\\item 5.12306018793271\n",
       "\\item 6.06679699167792\n",
       "\\item 3.91203864619698\n",
       "\\end{enumerate*}\n",
       "\n",
       "\\item \\begin{enumerate*}\n",
       "\\item 5.87674310487351\n",
       "\\item 1.82409665797384\n",
       "\\item 1.34631365316051\n",
       "\\end{enumerate*}\n",
       "\n",
       "\\end{enumerate}\n"
      ],
      "text/markdown": [
       "1. 1. 0.0828891652192118\n",
       "2. 0.482337459863546\n",
       "3. 0.154240484653269\n",
       "\n",
       "\n",
       "\n",
       "2. 1. 2.68891614257175\n",
       "2. 3.59069301362759\n",
       "3. 7.76369783164313\n",
       "4. 2.98679964824008\n",
       "5. 7.68126872059466\n",
       "6. 6.53523680166908\n",
       "\n",
       "\n",
       "\n",
       "3. 0.0828891652192118\n",
       "4. NULL\n",
       "5. 1. 5.20007871772815\n",
       "2. 5.12306018793271\n",
       "3. 6.06679699167792\n",
       "4. 3.91203864619698\n",
       "\n",
       "\n",
       "\n",
       "6. 1. 5.87674310487351\n",
       "2. 1.82409665797384\n",
       "3. 1.34631365316051\n",
       "\n",
       "\n",
       "\n",
       "\n",
       "\n"
      ],
      "text/plain": [
       "[[1]]\n",
       "[1] 0.08288917 0.48233746 0.15424048\n",
       "\n",
       "[[2]]\n",
       "[1] 2.688916 3.590693 7.763698 2.986800 7.681269 6.535237\n",
       "\n",
       "[[3]]\n",
       "[1] 0.08288917\n",
       "\n",
       "[[4]]\n",
       "NULL\n",
       "\n",
       "[[5]]\n",
       "[1] 5.200079 5.123060 6.066797 3.912039\n",
       "\n",
       "[[6]]\n",
       "[1] 5.876743 1.824097 1.346314\n"
      ]
     },
     "metadata": {},
     "output_type": "display_data"
    }
   ],
   "source": [
    "head(worldPoly.dist)"
   ]
  },
  {
   "cell_type": "code",
   "execution_count": 74,
   "metadata": {},
   "outputs": [
    {
     "name": "stderr",
     "output_type": "stream",
     "text": [
      "Warning message in nb2listw(worldPoly.nb, style = \"B\", glist = worldPoly.dist, zero.policy = TRUE):\n",
      "\"zero sum general weights\""
     ]
    }
   ],
   "source": [
    "# Convert it back to a neighborhood list\n",
    "\n",
    "worldPoly.nb2 <- nb2listw(worldPoly.nb, style = \"B\", glist = worldPoly.dist, zero.policy = TRUE)"
   ]
  },
  {
   "cell_type": "code",
   "execution_count": 75,
   "metadata": {},
   "outputs": [
    {
     "data": {
      "text/html": [
       "<ol class=list-inline>\n",
       "\t<li>'style'</li>\n",
       "\t<li>'neighbours'</li>\n",
       "\t<li>'weights'</li>\n",
       "</ol>\n"
      ],
      "text/latex": [
       "\\begin{enumerate*}\n",
       "\\item 'style'\n",
       "\\item 'neighbours'\n",
       "\\item 'weights'\n",
       "\\end{enumerate*}\n"
      ],
      "text/markdown": [
       "1. 'style'\n",
       "2. 'neighbours'\n",
       "3. 'weights'\n",
       "\n",
       "\n"
      ],
      "text/plain": [
       "[1] \"style\"      \"neighbours\" \"weights\"   "
      ]
     },
     "metadata": {},
     "output_type": "display_data"
    }
   ],
   "source": [
    "names(worldPoly.nb2)"
   ]
  },
  {
   "cell_type": "code",
   "execution_count": 76,
   "metadata": {},
   "outputs": [
    {
     "data": {
      "text/html": [
       "<ol>\n",
       "\t<li><ol class=list-inline>\n",
       "\t<li>0.0828891652192118</li>\n",
       "\t<li>0.482337459863546</li>\n",
       "\t<li>0.154240484653269</li>\n",
       "</ol>\n",
       "</li>\n",
       "\t<li><ol class=list-inline>\n",
       "\t<li>2.68891614257175</li>\n",
       "\t<li>3.59069301362759</li>\n",
       "\t<li>7.76369783164313</li>\n",
       "\t<li>2.98679964824008</li>\n",
       "\t<li>7.68126872059466</li>\n",
       "\t<li>6.53523680166908</li>\n",
       "</ol>\n",
       "</li>\n",
       "\t<li>0.0828891652192118</li>\n",
       "\t<li>NULL</li>\n",
       "\t<li><ol class=list-inline>\n",
       "\t<li>5.20007871772815</li>\n",
       "\t<li>5.12306018793271</li>\n",
       "\t<li>6.06679699167792</li>\n",
       "\t<li>3.91203864619698</li>\n",
       "</ol>\n",
       "</li>\n",
       "</ol>\n"
      ],
      "text/latex": [
       "\\begin{enumerate}\n",
       "\\item \\begin{enumerate*}\n",
       "\\item 0.0828891652192118\n",
       "\\item 0.482337459863546\n",
       "\\item 0.154240484653269\n",
       "\\end{enumerate*}\n",
       "\n",
       "\\item \\begin{enumerate*}\n",
       "\\item 2.68891614257175\n",
       "\\item 3.59069301362759\n",
       "\\item 7.76369783164313\n",
       "\\item 2.98679964824008\n",
       "\\item 7.68126872059466\n",
       "\\item 6.53523680166908\n",
       "\\end{enumerate*}\n",
       "\n",
       "\\item 0.0828891652192118\n",
       "\\item NULL\n",
       "\\item \\begin{enumerate*}\n",
       "\\item 5.20007871772815\n",
       "\\item 5.12306018793271\n",
       "\\item 6.06679699167792\n",
       "\\item 3.91203864619698\n",
       "\\end{enumerate*}\n",
       "\n",
       "\\end{enumerate}\n"
      ],
      "text/markdown": [
       "1. 1. 0.0828891652192118\n",
       "2. 0.482337459863546\n",
       "3. 0.154240484653269\n",
       "\n",
       "\n",
       "\n",
       "2. 1. 2.68891614257175\n",
       "2. 3.59069301362759\n",
       "3. 7.76369783164313\n",
       "4. 2.98679964824008\n",
       "5. 7.68126872059466\n",
       "6. 6.53523680166908\n",
       "\n",
       "\n",
       "\n",
       "3. 0.0828891652192118\n",
       "4. NULL\n",
       "5. 1. 5.20007871772815\n",
       "2. 5.12306018793271\n",
       "3. 6.06679699167792\n",
       "4. 3.91203864619698\n",
       "\n",
       "\n",
       "\n",
       "\n",
       "\n"
      ],
      "text/plain": [
       "[[1]]\n",
       "[1] 0.08288917 0.48233746 0.15424048\n",
       "\n",
       "[[2]]\n",
       "[1] 2.688916 3.590693 7.763698 2.986800 7.681269 6.535237\n",
       "\n",
       "[[3]]\n",
       "[1] 0.08288917\n",
       "\n",
       "[[4]]\n",
       "NULL\n",
       "\n",
       "[[5]]\n",
       "[1] 5.200079 5.123060 6.066797 3.912039\n"
      ]
     },
     "metadata": {},
     "output_type": "display_data"
    }
   ],
   "source": [
    "worldPoly.nb2$weights[0:5]"
   ]
  },
  {
   "cell_type": "code",
   "execution_count": 77,
   "metadata": {},
   "outputs": [
    {
     "data": {
      "text/html": [
       "<ol>\n",
       "\t<li><ol class=list-inline>\n",
       "\t<li>3</li>\n",
       "\t<li>59</li>\n",
       "\t<li>143</li>\n",
       "</ol>\n",
       "</li>\n",
       "\t<li><ol class=list-inline>\n",
       "\t<li>80</li>\n",
       "\t<li>98</li>\n",
       "\t<li>117</li>\n",
       "\t<li>146</li>\n",
       "\t<li>3077</li>\n",
       "\t<li>3083</li>\n",
       "</ol>\n",
       "</li>\n",
       "\t<li>1</li>\n",
       "\t<li>0</li>\n",
       "\t<li><ol class=list-inline>\n",
       "\t<li>35</li>\n",
       "\t<li>79</li>\n",
       "\t<li>83</li>\n",
       "\t<li>126</li>\n",
       "</ol>\n",
       "</li>\n",
       "</ol>\n"
      ],
      "text/latex": [
       "\\begin{enumerate}\n",
       "\\item \\begin{enumerate*}\n",
       "\\item 3\n",
       "\\item 59\n",
       "\\item 143\n",
       "\\end{enumerate*}\n",
       "\n",
       "\\item \\begin{enumerate*}\n",
       "\\item 80\n",
       "\\item 98\n",
       "\\item 117\n",
       "\\item 146\n",
       "\\item 3077\n",
       "\\item 3083\n",
       "\\end{enumerate*}\n",
       "\n",
       "\\item 1\n",
       "\\item 0\n",
       "\\item \\begin{enumerate*}\n",
       "\\item 35\n",
       "\\item 79\n",
       "\\item 83\n",
       "\\item 126\n",
       "\\end{enumerate*}\n",
       "\n",
       "\\end{enumerate}\n"
      ],
      "text/markdown": [
       "1. 1. 3\n",
       "2. 59\n",
       "3. 143\n",
       "\n",
       "\n",
       "\n",
       "2. 1. 80\n",
       "2. 98\n",
       "3. 117\n",
       "4. 146\n",
       "5. 3077\n",
       "6. 3083\n",
       "\n",
       "\n",
       "\n",
       "3. 1\n",
       "4. 0\n",
       "5. 1. 35\n",
       "2. 79\n",
       "3. 83\n",
       "4. 126\n",
       "\n",
       "\n",
       "\n",
       "\n",
       "\n"
      ],
      "text/plain": [
       "[[1]]\n",
       "[1]   3  59 143\n",
       "\n",
       "[[2]]\n",
       "[1]   80   98  117  146 3077 3083\n",
       "\n",
       "[[3]]\n",
       "[1] 1\n",
       "\n",
       "[[4]]\n",
       "[1] 0\n",
       "\n",
       "[[5]]\n",
       "[1]  35  79  83 126\n"
      ]
     },
     "metadata": {},
     "output_type": "display_data"
    }
   ],
   "source": [
    "worldPoly.nb2$neighbours[0:5]"
   ]
  },
  {
   "cell_type": "markdown",
   "metadata": {},
   "source": [
    "Compute the 1st and 2nd order neighborhoods for the areas.  Display the admin polygons for Madagascar as well as lines representing the 2 different neighborhood levels (plot both on same map, using different colors for each line type)."
   ]
  },
  {
   "cell_type": "code",
   "execution_count": 78,
   "metadata": {},
   "outputs": [
    {
     "data": {
      "text/html": [
       "<table>\n",
       "<thead><tr><th></th><th scope=col>OBJECTID</th><th scope=col>NAME</th><th scope=col>COUNTRY</th><th scope=col>ISO_CODE</th><th scope=col>ISO_CC</th><th scope=col>ISO_SUB</th><th scope=col>ADMINTYPE</th><th scope=col>COUNTRYAFF</th><th scope=col>CONTINENT</th><th scope=col>Land_Type</th><th scope=col>Land_Rank</th><th scope=col>Shape_Leng</th><th scope=col>Shape_Area</th><th scope=col>sqmiles</th></tr></thead>\n",
       "<tbody>\n",
       "\t<tr><th scope=row>150</th><td>285         </td><td>Antananarivo</td><td>Madagascar  </td><td>MGT         </td><td>MG          </td><td>T           </td><td>Province    </td><td>Madagascar  </td><td>Africa      </td><td>Primary land</td><td>5           </td><td>11.61495    </td><td> 4.985905   </td><td>0           </td></tr>\n",
       "\t<tr><th scope=row>151</th><td>288         </td><td>Antsiranana </td><td>Madagascar  </td><td>MGD         </td><td>MG          </td><td>D           </td><td>Province    </td><td>Madagascar  </td><td>Africa      </td><td>Primary land</td><td>5           </td><td>24.33704    </td><td> 3.609013   </td><td>0           </td></tr>\n",
       "\t<tr><th scope=row>192</th><td>379         </td><td>Fianarantsoa</td><td>Madagascar  </td><td>MGF         </td><td>MG          </td><td>F           </td><td>Province    </td><td>Madagascar  </td><td>Africa      </td><td>Primary land</td><td>5           </td><td>25.68878    </td><td> 8.803421   </td><td>0           </td></tr>\n",
       "\t<tr><th scope=row>241</th><td>484         </td><td>Mahajanga   </td><td>Madagascar  </td><td>MGM         </td><td>MG          </td><td>M           </td><td>Province    </td><td>Madagascar  </td><td>Africa      </td><td>Primary land</td><td>5           </td><td>49.65140    </td><td>12.924846   </td><td>0           </td></tr>\n",
       "\t<tr><th scope=row>344</th><td>687         </td><td>Toamasina   </td><td>Madagascar  </td><td>MGA         </td><td>MG          </td><td>A           </td><td>Province    </td><td>Madagascar  </td><td>Africa      </td><td>Primary land</td><td>5           </td><td>25.26490    </td><td> 6.058755   </td><td>0           </td></tr>\n",
       "\t<tr><th scope=row>345</th><td>690         </td><td>Toliara     </td><td>Madagascar  </td><td>MGU         </td><td>MG          </td><td>U           </td><td>Province    </td><td>Madagascar  </td><td>Africa      </td><td>Primary land</td><td>5           </td><td>59.09371    </td><td>14.343220   </td><td>0           </td></tr>\n",
       "</tbody>\n",
       "</table>\n"
      ],
      "text/latex": [
       "\\begin{tabular}{r|llllllllllllll}\n",
       "  & OBJECTID & NAME & COUNTRY & ISO\\_CODE & ISO\\_CC & ISO\\_SUB & ADMINTYPE & COUNTRYAFF & CONTINENT & Land\\_Type & Land\\_Rank & Shape\\_Leng & Shape\\_Area & sqmiles\\\\\n",
       "\\hline\n",
       "\t150 & 285          & Antananarivo & Madagascar   & MGT          & MG           & T            & Province     & Madagascar   & Africa       & Primary land & 5            & 11.61495     &  4.985905    & 0           \\\\\n",
       "\t151 & 288          & Antsiranana  & Madagascar   & MGD          & MG           & D            & Province     & Madagascar   & Africa       & Primary land & 5            & 24.33704     &  3.609013    & 0           \\\\\n",
       "\t192 & 379          & Fianarantsoa & Madagascar   & MGF          & MG           & F            & Province     & Madagascar   & Africa       & Primary land & 5            & 25.68878     &  8.803421    & 0           \\\\\n",
       "\t241 & 484          & Mahajanga    & Madagascar   & MGM          & MG           & M            & Province     & Madagascar   & Africa       & Primary land & 5            & 49.65140     & 12.924846    & 0           \\\\\n",
       "\t344 & 687          & Toamasina    & Madagascar   & MGA          & MG           & A            & Province     & Madagascar   & Africa       & Primary land & 5            & 25.26490     &  6.058755    & 0           \\\\\n",
       "\t345 & 690          & Toliara      & Madagascar   & MGU          & MG           & U            & Province     & Madagascar   & Africa       & Primary land & 5            & 59.09371     & 14.343220    & 0           \\\\\n",
       "\\end{tabular}\n"
      ],
      "text/markdown": [
       "\n",
       "| <!--/--> | OBJECTID | NAME | COUNTRY | ISO_CODE | ISO_CC | ISO_SUB | ADMINTYPE | COUNTRYAFF | CONTINENT | Land_Type | Land_Rank | Shape_Leng | Shape_Area | sqmiles | \n",
       "|---|---|---|---|---|---|\n",
       "| 150 | 285          | Antananarivo | Madagascar   | MGT          | MG           | T            | Province     | Madagascar   | Africa       | Primary land | 5            | 11.61495     |  4.985905    | 0            | \n",
       "| 151 | 288          | Antsiranana  | Madagascar   | MGD          | MG           | D            | Province     | Madagascar   | Africa       | Primary land | 5            | 24.33704     |  3.609013    | 0            | \n",
       "| 192 | 379          | Fianarantsoa | Madagascar   | MGF          | MG           | F            | Province     | Madagascar   | Africa       | Primary land | 5            | 25.68878     |  8.803421    | 0            | \n",
       "| 241 | 484          | Mahajanga    | Madagascar   | MGM          | MG           | M            | Province     | Madagascar   | Africa       | Primary land | 5            | 49.65140     | 12.924846    | 0            | \n",
       "| 344 | 687          | Toamasina    | Madagascar   | MGA          | MG           | A            | Province     | Madagascar   | Africa       | Primary land | 5            | 25.26490     |  6.058755    | 0            | \n",
       "| 345 | 690          | Toliara      | Madagascar   | MGU          | MG           | U            | Province     | Madagascar   | Africa       | Primary land | 5            | 59.09371     | 14.343220    | 0            | \n",
       "\n",
       "\n"
      ],
      "text/plain": [
       "    OBJECTID NAME         COUNTRY    ISO_CODE ISO_CC ISO_SUB ADMINTYPE\n",
       "150 285      Antananarivo Madagascar MGT      MG     T       Province \n",
       "151 288      Antsiranana  Madagascar MGD      MG     D       Province \n",
       "192 379      Fianarantsoa Madagascar MGF      MG     F       Province \n",
       "241 484      Mahajanga    Madagascar MGM      MG     M       Province \n",
       "344 687      Toamasina    Madagascar MGA      MG     A       Province \n",
       "345 690      Toliara      Madagascar MGU      MG     U       Province \n",
       "    COUNTRYAFF CONTINENT Land_Type    Land_Rank Shape_Leng Shape_Area sqmiles\n",
       "150 Madagascar Africa    Primary land 5         11.61495    4.985905  0      \n",
       "151 Madagascar Africa    Primary land 5         24.33704    3.609013  0      \n",
       "192 Madagascar Africa    Primary land 5         25.68878    8.803421  0      \n",
       "241 Madagascar Africa    Primary land 5         49.65140   12.924846  0      \n",
       "344 Madagascar Africa    Primary land 5         25.26490    6.058755  0      \n",
       "345 Madagascar Africa    Primary land 5         59.09371   14.343220  0      "
      ]
     },
     "metadata": {},
     "output_type": "display_data"
    }
   ],
   "source": [
    "subset1@data"
   ]
  },
  {
   "cell_type": "code",
   "execution_count": 79,
   "metadata": {
    "collapsed": true
   },
   "outputs": [],
   "source": [
    "maxlag <- 2\n",
    "subset1.lag <- nblag(subset1.nb, maxlag)"
   ]
  },
  {
   "cell_type": "code",
   "execution_count": 80,
   "metadata": {},
   "outputs": [
    {
     "name": "stdout",
     "output_type": "stream",
     "text": [
      "[1] \"1st Order Neighbors\"\n"
     ]
    },
    {
     "data": {
      "text/html": [
       "<ol>\n",
       "\t<li><ol class=list-inline>\n",
       "\t<li>3</li>\n",
       "\t<li>4</li>\n",
       "\t<li>5</li>\n",
       "\t<li>6</li>\n",
       "</ol>\n",
       "</li>\n",
       "\t<li><ol class=list-inline>\n",
       "\t<li>4</li>\n",
       "\t<li>5</li>\n",
       "</ol>\n",
       "</li>\n",
       "\t<li><ol class=list-inline>\n",
       "\t<li>1</li>\n",
       "\t<li>5</li>\n",
       "\t<li>6</li>\n",
       "</ol>\n",
       "</li>\n",
       "\t<li><ol class=list-inline>\n",
       "\t<li>1</li>\n",
       "\t<li>2</li>\n",
       "\t<li>5</li>\n",
       "\t<li>6</li>\n",
       "</ol>\n",
       "</li>\n",
       "\t<li><ol class=list-inline>\n",
       "\t<li>1</li>\n",
       "\t<li>2</li>\n",
       "\t<li>3</li>\n",
       "\t<li>4</li>\n",
       "</ol>\n",
       "</li>\n",
       "\t<li><ol class=list-inline>\n",
       "\t<li>1</li>\n",
       "\t<li>3</li>\n",
       "\t<li>4</li>\n",
       "</ol>\n",
       "</li>\n",
       "</ol>\n"
      ],
      "text/latex": [
       "\\begin{enumerate}\n",
       "\\item \\begin{enumerate*}\n",
       "\\item 3\n",
       "\\item 4\n",
       "\\item 5\n",
       "\\item 6\n",
       "\\end{enumerate*}\n",
       "\n",
       "\\item \\begin{enumerate*}\n",
       "\\item 4\n",
       "\\item 5\n",
       "\\end{enumerate*}\n",
       "\n",
       "\\item \\begin{enumerate*}\n",
       "\\item 1\n",
       "\\item 5\n",
       "\\item 6\n",
       "\\end{enumerate*}\n",
       "\n",
       "\\item \\begin{enumerate*}\n",
       "\\item 1\n",
       "\\item 2\n",
       "\\item 5\n",
       "\\item 6\n",
       "\\end{enumerate*}\n",
       "\n",
       "\\item \\begin{enumerate*}\n",
       "\\item 1\n",
       "\\item 2\n",
       "\\item 3\n",
       "\\item 4\n",
       "\\end{enumerate*}\n",
       "\n",
       "\\item \\begin{enumerate*}\n",
       "\\item 1\n",
       "\\item 3\n",
       "\\item 4\n",
       "\\end{enumerate*}\n",
       "\n",
       "\\end{enumerate}\n"
      ],
      "text/markdown": [
       "1. 1. 3\n",
       "2. 4\n",
       "3. 5\n",
       "4. 6\n",
       "\n",
       "\n",
       "\n",
       "2. 1. 4\n",
       "2. 5\n",
       "\n",
       "\n",
       "\n",
       "3. 1. 1\n",
       "2. 5\n",
       "3. 6\n",
       "\n",
       "\n",
       "\n",
       "4. 1. 1\n",
       "2. 2\n",
       "3. 5\n",
       "4. 6\n",
       "\n",
       "\n",
       "\n",
       "5. 1. 1\n",
       "2. 2\n",
       "3. 3\n",
       "4. 4\n",
       "\n",
       "\n",
       "\n",
       "6. 1. 1\n",
       "2. 3\n",
       "3. 4\n",
       "\n",
       "\n",
       "\n",
       "\n",
       "\n"
      ],
      "text/plain": [
       "[[1]]\n",
       "[1] 3 4 5 6\n",
       "\n",
       "[[2]]\n",
       "[1] 4 5\n",
       "\n",
       "[[3]]\n",
       "[1] 1 5 6\n",
       "\n",
       "[[4]]\n",
       "[1] 1 2 5 6\n",
       "\n",
       "[[5]]\n",
       "[1] 1 2 3 4\n",
       "\n",
       "[[6]]\n",
       "[1] 1 3 4\n"
      ]
     },
     "metadata": {},
     "output_type": "display_data"
    }
   ],
   "source": [
    "print(\"1st Order Neighbors\")\n",
    "\n",
    "firstNb <- subset1.lag[[1]]\n",
    "\n",
    "head(firstNb)"
   ]
  },
  {
   "cell_type": "code",
   "execution_count": 81,
   "metadata": {},
   "outputs": [
    {
     "name": "stdout",
     "output_type": "stream",
     "text": [
      "[1] \"2nd Order Neighbors\"\n"
     ]
    },
    {
     "data": {
      "text/html": [
       "<ol>\n",
       "\t<li>2</li>\n",
       "\t<li><ol class=list-inline>\n",
       "\t<li>1</li>\n",
       "\t<li>3</li>\n",
       "\t<li>6</li>\n",
       "</ol>\n",
       "</li>\n",
       "\t<li><ol class=list-inline>\n",
       "\t<li>2</li>\n",
       "\t<li>4</li>\n",
       "</ol>\n",
       "</li>\n",
       "\t<li>3</li>\n",
       "\t<li>6</li>\n",
       "\t<li><ol class=list-inline>\n",
       "\t<li>2</li>\n",
       "\t<li>5</li>\n",
       "</ol>\n",
       "</li>\n",
       "</ol>\n"
      ],
      "text/latex": [
       "\\begin{enumerate}\n",
       "\\item 2\n",
       "\\item \\begin{enumerate*}\n",
       "\\item 1\n",
       "\\item 3\n",
       "\\item 6\n",
       "\\end{enumerate*}\n",
       "\n",
       "\\item \\begin{enumerate*}\n",
       "\\item 2\n",
       "\\item 4\n",
       "\\end{enumerate*}\n",
       "\n",
       "\\item 3\n",
       "\\item 6\n",
       "\\item \\begin{enumerate*}\n",
       "\\item 2\n",
       "\\item 5\n",
       "\\end{enumerate*}\n",
       "\n",
       "\\end{enumerate}\n"
      ],
      "text/markdown": [
       "1. 2\n",
       "2. 1. 1\n",
       "2. 3\n",
       "3. 6\n",
       "\n",
       "\n",
       "\n",
       "3. 1. 2\n",
       "2. 4\n",
       "\n",
       "\n",
       "\n",
       "4. 3\n",
       "5. 6\n",
       "6. 1. 2\n",
       "2. 5\n",
       "\n",
       "\n",
       "\n",
       "\n",
       "\n"
      ],
      "text/plain": [
       "[[1]]\n",
       "[1] 2\n",
       "\n",
       "[[2]]\n",
       "[1] 1 3 6\n",
       "\n",
       "[[3]]\n",
       "[1] 2 4\n",
       "\n",
       "[[4]]\n",
       "[1] 3\n",
       "\n",
       "[[5]]\n",
       "[1] 6\n",
       "\n",
       "[[6]]\n",
       "[1] 2 5\n"
      ]
     },
     "metadata": {},
     "output_type": "display_data"
    }
   ],
   "source": [
    "print(\"2nd Order Neighbors\")\n",
    "\n",
    "secondNb <- subset1.lag[[2]]\n",
    "\n",
    "head(secondNb)"
   ]
  },
  {
   "cell_type": "code",
   "execution_count": 82,
   "metadata": {
    "collapsed": true
   },
   "outputs": [],
   "source": [
    "subset1.cuml <- nblag_cumul(subset1.lag)"
   ]
  },
  {
   "cell_type": "code",
   "execution_count": 83,
   "metadata": {},
   "outputs": [
    {
     "name": "stdout",
     "output_type": "stream",
     "text": [
      "[1] \"Both\"\n"
     ]
    },
    {
     "data": {
      "text/html": [
       "<ol>\n",
       "\t<li><ol class=list-inline>\n",
       "\t<li>2</li>\n",
       "\t<li>3</li>\n",
       "\t<li>4</li>\n",
       "\t<li>5</li>\n",
       "\t<li>6</li>\n",
       "</ol>\n",
       "</li>\n",
       "\t<li><ol class=list-inline>\n",
       "\t<li>1</li>\n",
       "\t<li>3</li>\n",
       "\t<li>4</li>\n",
       "\t<li>5</li>\n",
       "\t<li>6</li>\n",
       "</ol>\n",
       "</li>\n",
       "\t<li><ol class=list-inline>\n",
       "\t<li>1</li>\n",
       "\t<li>2</li>\n",
       "\t<li>4</li>\n",
       "\t<li>5</li>\n",
       "\t<li>6</li>\n",
       "</ol>\n",
       "</li>\n",
       "\t<li><ol class=list-inline>\n",
       "\t<li>1</li>\n",
       "\t<li>2</li>\n",
       "\t<li>3</li>\n",
       "\t<li>5</li>\n",
       "\t<li>6</li>\n",
       "</ol>\n",
       "</li>\n",
       "\t<li><ol class=list-inline>\n",
       "\t<li>1</li>\n",
       "\t<li>2</li>\n",
       "\t<li>3</li>\n",
       "\t<li>4</li>\n",
       "\t<li>6</li>\n",
       "</ol>\n",
       "</li>\n",
       "</ol>\n"
      ],
      "text/latex": [
       "\\begin{enumerate}\n",
       "\\item \\begin{enumerate*}\n",
       "\\item 2\n",
       "\\item 3\n",
       "\\item 4\n",
       "\\item 5\n",
       "\\item 6\n",
       "\\end{enumerate*}\n",
       "\n",
       "\\item \\begin{enumerate*}\n",
       "\\item 1\n",
       "\\item 3\n",
       "\\item 4\n",
       "\\item 5\n",
       "\\item 6\n",
       "\\end{enumerate*}\n",
       "\n",
       "\\item \\begin{enumerate*}\n",
       "\\item 1\n",
       "\\item 2\n",
       "\\item 4\n",
       "\\item 5\n",
       "\\item 6\n",
       "\\end{enumerate*}\n",
       "\n",
       "\\item \\begin{enumerate*}\n",
       "\\item 1\n",
       "\\item 2\n",
       "\\item 3\n",
       "\\item 5\n",
       "\\item 6\n",
       "\\end{enumerate*}\n",
       "\n",
       "\\item \\begin{enumerate*}\n",
       "\\item 1\n",
       "\\item 2\n",
       "\\item 3\n",
       "\\item 4\n",
       "\\item 6\n",
       "\\end{enumerate*}\n",
       "\n",
       "\\end{enumerate}\n"
      ],
      "text/markdown": [
       "1. 1. 2\n",
       "2. 3\n",
       "3. 4\n",
       "4. 5\n",
       "5. 6\n",
       "\n",
       "\n",
       "\n",
       "2. 1. 1\n",
       "2. 3\n",
       "3. 4\n",
       "4. 5\n",
       "5. 6\n",
       "\n",
       "\n",
       "\n",
       "3. 1. 1\n",
       "2. 2\n",
       "3. 4\n",
       "4. 5\n",
       "5. 6\n",
       "\n",
       "\n",
       "\n",
       "4. 1. 1\n",
       "2. 2\n",
       "3. 3\n",
       "4. 5\n",
       "5. 6\n",
       "\n",
       "\n",
       "\n",
       "5. 1. 1\n",
       "2. 2\n",
       "3. 3\n",
       "4. 4\n",
       "5. 6\n",
       "\n",
       "\n",
       "\n",
       "\n",
       "\n"
      ],
      "text/plain": [
       "[[1]]\n",
       "[1] 2 3 4 5 6\n",
       "\n",
       "[[2]]\n",
       "[1] 1 3 4 5 6\n",
       "\n",
       "[[3]]\n",
       "[1] 1 2 4 5 6\n",
       "\n",
       "[[4]]\n",
       "[1] 1 2 3 5 6\n",
       "\n",
       "[[5]]\n",
       "[1] 1 2 3 4 6\n"
      ]
     },
     "metadata": {},
     "output_type": "display_data"
    }
   ],
   "source": [
    "print(\"Both\")\n",
    "subset1.cuml[1:5]"
   ]
  },
  {
   "cell_type": "code",
   "execution_count": 84,
   "metadata": {},
   "outputs": [
    {
     "data": {
      "image/png": "[encoded data removed]",
      "text/plain": [
       "Plot with title \"First and Second Order Neighbors within Madagascar\""
      ]
     },
     "metadata": {},
     "output_type": "display_data"
    }
   ],
   "source": [
    "plot(subset1, col = \"yellow\", main = \"First and Second Order Neighbors within Madagascar\")\n",
    "plot(firstNb, coordinates(subset1), add = TRUE, col = \"blue\")\n",
    "plot(secondNb, coordinates(subset1), add = TRUE, col = \"red\")"
   ]
  },
  {
   "cell_type": "markdown",
   "metadata": {},
   "source": [
    "Select and display the first and second order neighbor polygons for Toamasina, using different colors for each neighborhood and a different color for Toamasina. "
   ]
  },
  {
   "cell_type": "code",
   "execution_count": 85,
   "metadata": {
    "collapsed": true
   },
   "outputs": [],
   "source": [
    "# reset row indices first\n",
    "\n",
    "rownames(worldPoly@data) <- seq(length = nrow(worldPoly@data))"
   ]
  },
  {
   "cell_type": "code",
   "execution_count": 86,
   "metadata": {},
   "outputs": [
    {
     "data": {
      "text/html": [
       "<table>\n",
       "<thead><tr><th></th><th scope=col>OBJECTID</th><th scope=col>NAME</th><th scope=col>COUNTRY</th><th scope=col>ISO_CODE</th><th scope=col>ISO_CC</th><th scope=col>ISO_SUB</th><th scope=col>ADMINTYPE</th><th scope=col>COUNTRYAFF</th><th scope=col>CONTINENT</th><th scope=col>Land_Type</th><th scope=col>Land_Rank</th><th scope=col>Shape_Leng</th><th scope=col>Shape_Area</th><th scope=col>sqmiles</th></tr></thead>\n",
       "<tbody>\n",
       "\t<tr><th scope=row>345</th><td>687         </td><td>Toamasina   </td><td>Madagascar  </td><td>MGA         </td><td>MG          </td><td>A           </td><td>Province    </td><td>Madagascar  </td><td>Africa      </td><td>Primary land</td><td>5           </td><td>25.2649     </td><td>6.058755    </td><td>0           </td></tr>\n",
       "</tbody>\n",
       "</table>\n"
      ],
      "text/latex": [
       "\\begin{tabular}{r|llllllllllllll}\n",
       "  & OBJECTID & NAME & COUNTRY & ISO\\_CODE & ISO\\_CC & ISO\\_SUB & ADMINTYPE & COUNTRYAFF & CONTINENT & Land\\_Type & Land\\_Rank & Shape\\_Leng & Shape\\_Area & sqmiles\\\\\n",
       "\\hline\n",
       "\t345 & 687          & Toamasina    & Madagascar   & MGA          & MG           & A            & Province     & Madagascar   & Africa       & Primary land & 5            & 25.2649      & 6.058755     & 0           \\\\\n",
       "\\end{tabular}\n"
      ],
      "text/markdown": [
       "\n",
       "| <!--/--> | OBJECTID | NAME | COUNTRY | ISO_CODE | ISO_CC | ISO_SUB | ADMINTYPE | COUNTRYAFF | CONTINENT | Land_Type | Land_Rank | Shape_Leng | Shape_Area | sqmiles | \n",
       "|---|\n",
       "| 345 | 687          | Toamasina    | Madagascar   | MGA          | MG           | A            | Province     | Madagascar   | Africa       | Primary land | 5            | 25.2649      | 6.058755     | 0            | \n",
       "\n",
       "\n"
      ],
      "text/plain": [
       "    OBJECTID NAME      COUNTRY    ISO_CODE ISO_CC ISO_SUB ADMINTYPE COUNTRYAFF\n",
       "345 687      Toamasina Madagascar MGA      MG     A       Province  Madagascar\n",
       "    CONTINENT Land_Type    Land_Rank Shape_Leng Shape_Area sqmiles\n",
       "345 Africa    Primary land 5         25.2649    6.058755   0      "
      ]
     },
     "metadata": {},
     "output_type": "display_data"
    }
   ],
   "source": [
    "# grab the toa data only\n",
    "\n",
    "toaData <- subset(worldPoly@data, (NAME == \"Toamasina\"))\n",
    "toaData"
   ]
  },
  {
   "cell_type": "code",
   "execution_count": 87,
   "metadata": {},
   "outputs": [
    {
     "data": {
      "text/html": [
       "345"
      ],
      "text/latex": [
       "345"
      ],
      "text/markdown": [
       "345"
      ],
      "text/plain": [
       "[1] 345"
      ]
     },
     "metadata": {},
     "output_type": "display_data"
    }
   ],
   "source": [
    "# give me the row index\n",
    "\n",
    "toaRowNum <- as.integer(row.names(toaData))\n",
    "toaRowNum"
   ]
  },
  {
   "cell_type": "code",
   "execution_count": 88,
   "metadata": {
    "collapsed": true
   },
   "outputs": [],
   "source": [
    "# confirming that the index is correct. Pulling out toa\n",
    "\n",
    "toa <- worldPoly[toaRowNum, ]"
   ]
  },
  {
   "cell_type": "code",
   "execution_count": 89,
   "metadata": {},
   "outputs": [
    {
     "data": {
      "image/png": "[encoded data removed]",
      "text/plain": [
       "Plot with title \"Toamasina\""
      ]
     },
     "metadata": {},
     "output_type": "display_data"
    }
   ],
   "source": [
    "plot(toa, main = \"Toamasina\")"
   ]
  },
  {
   "cell_type": "code",
   "execution_count": 90,
   "metadata": {},
   "outputs": [
    {
     "data": {
      "text/html": [
       "<table>\n",
       "<thead><tr><th></th><th scope=col>OBJECTID</th><th scope=col>NAME</th><th scope=col>COUNTRY</th><th scope=col>ISO_CODE</th><th scope=col>ISO_CC</th><th scope=col>ISO_SUB</th><th scope=col>ADMINTYPE</th><th scope=col>COUNTRYAFF</th><th scope=col>CONTINENT</th><th scope=col>Land_Type</th><th scope=col>Land_Rank</th><th scope=col>Shape_Leng</th><th scope=col>Shape_Area</th><th scope=col>sqmiles</th></tr></thead>\n",
       "<tbody>\n",
       "\t<tr><th scope=row>345</th><td>687         </td><td>Toamasina   </td><td>Madagascar  </td><td>MGA         </td><td>MG          </td><td>A           </td><td>Province    </td><td>Madagascar  </td><td>Africa      </td><td>Primary land</td><td>5           </td><td>25.2649     </td><td>6.058755    </td><td>0           </td></tr>\n",
       "</tbody>\n",
       "</table>\n"
      ],
      "text/latex": [
       "\\begin{tabular}{r|llllllllllllll}\n",
       "  & OBJECTID & NAME & COUNTRY & ISO\\_CODE & ISO\\_CC & ISO\\_SUB & ADMINTYPE & COUNTRYAFF & CONTINENT & Land\\_Type & Land\\_Rank & Shape\\_Leng & Shape\\_Area & sqmiles\\\\\n",
       "\\hline\n",
       "\t345 & 687          & Toamasina    & Madagascar   & MGA          & MG           & A            & Province     & Madagascar   & Africa       & Primary land & 5            & 25.2649      & 6.058755     & 0           \\\\\n",
       "\\end{tabular}\n"
      ],
      "text/markdown": [
       "\n",
       "| <!--/--> | OBJECTID | NAME | COUNTRY | ISO_CODE | ISO_CC | ISO_SUB | ADMINTYPE | COUNTRYAFF | CONTINENT | Land_Type | Land_Rank | Shape_Leng | Shape_Area | sqmiles | \n",
       "|---|\n",
       "| 345 | 687          | Toamasina    | Madagascar   | MGA          | MG           | A            | Province     | Madagascar   | Africa       | Primary land | 5            | 25.2649      | 6.058755     | 0            | \n",
       "\n",
       "\n"
      ],
      "text/plain": [
       "    OBJECTID NAME      COUNTRY    ISO_CODE ISO_CC ISO_SUB ADMINTYPE COUNTRYAFF\n",
       "345 687      Toamasina Madagascar MGA      MG     A       Province  Madagascar\n",
       "    CONTINENT Land_Type    Land_Rank Shape_Leng Shape_Area sqmiles\n",
       "345 Africa    Primary land 5         25.2649    6.058755   0      "
      ]
     },
     "metadata": {},
     "output_type": "display_data"
    }
   ],
   "source": [
    "toa@data"
   ]
  },
  {
   "cell_type": "code",
   "execution_count": 91,
   "metadata": {},
   "outputs": [
    {
     "data": {
      "text/html": [
       "<ol>\n",
       "\t<li><ol class=list-inline>\n",
       "\t<li>3</li>\n",
       "\t<li>59</li>\n",
       "\t<li>143</li>\n",
       "</ol>\n",
       "</li>\n",
       "\t<li><ol class=list-inline>\n",
       "\t<li>80</li>\n",
       "\t<li>98</li>\n",
       "\t<li>117</li>\n",
       "\t<li>146</li>\n",
       "\t<li>3077</li>\n",
       "\t<li>3083</li>\n",
       "</ol>\n",
       "</li>\n",
       "\t<li>1</li>\n",
       "\t<li>0</li>\n",
       "\t<li><ol class=list-inline>\n",
       "\t<li>35</li>\n",
       "\t<li>79</li>\n",
       "\t<li>83</li>\n",
       "\t<li>126</li>\n",
       "</ol>\n",
       "</li>\n",
       "\t<li><ol class=list-inline>\n",
       "\t<li>20</li>\n",
       "\t<li>104</li>\n",
       "\t<li>132</li>\n",
       "</ol>\n",
       "</li>\n",
       "\t<li><ol class=list-inline>\n",
       "\t<li>22</li>\n",
       "\t<li>39</li>\n",
       "\t<li>86</li>\n",
       "\t<li>107</li>\n",
       "\t<li>127</li>\n",
       "</ol>\n",
       "</li>\n",
       "\t<li><ol class=list-inline>\n",
       "\t<li>24</li>\n",
       "\t<li>25</li>\n",
       "\t<li>28</li>\n",
       "\t<li>66</li>\n",
       "\t<li>90</li>\n",
       "\t<li>101</li>\n",
       "</ol>\n",
       "</li>\n",
       "\t<li><ol class=list-inline>\n",
       "\t<li>28</li>\n",
       "\t<li>39</li>\n",
       "\t<li>86</li>\n",
       "\t<li>124</li>\n",
       "</ol>\n",
       "</li>\n",
       "\t<li><ol class=list-inline>\n",
       "\t<li>64</li>\n",
       "\t<li>69</li>\n",
       "\t<li>76</li>\n",
       "</ol>\n",
       "</li>\n",
       "</ol>\n"
      ],
      "text/latex": [
       "\\begin{enumerate}\n",
       "\\item \\begin{enumerate*}\n",
       "\\item 3\n",
       "\\item 59\n",
       "\\item 143\n",
       "\\end{enumerate*}\n",
       "\n",
       "\\item \\begin{enumerate*}\n",
       "\\item 80\n",
       "\\item 98\n",
       "\\item 117\n",
       "\\item 146\n",
       "\\item 3077\n",
       "\\item 3083\n",
       "\\end{enumerate*}\n",
       "\n",
       "\\item 1\n",
       "\\item 0\n",
       "\\item \\begin{enumerate*}\n",
       "\\item 35\n",
       "\\item 79\n",
       "\\item 83\n",
       "\\item 126\n",
       "\\end{enumerate*}\n",
       "\n",
       "\\item \\begin{enumerate*}\n",
       "\\item 20\n",
       "\\item 104\n",
       "\\item 132\n",
       "\\end{enumerate*}\n",
       "\n",
       "\\item \\begin{enumerate*}\n",
       "\\item 22\n",
       "\\item 39\n",
       "\\item 86\n",
       "\\item 107\n",
       "\\item 127\n",
       "\\end{enumerate*}\n",
       "\n",
       "\\item \\begin{enumerate*}\n",
       "\\item 24\n",
       "\\item 25\n",
       "\\item 28\n",
       "\\item 66\n",
       "\\item 90\n",
       "\\item 101\n",
       "\\end{enumerate*}\n",
       "\n",
       "\\item \\begin{enumerate*}\n",
       "\\item 28\n",
       "\\item 39\n",
       "\\item 86\n",
       "\\item 124\n",
       "\\end{enumerate*}\n",
       "\n",
       "\\item \\begin{enumerate*}\n",
       "\\item 64\n",
       "\\item 69\n",
       "\\item 76\n",
       "\\end{enumerate*}\n",
       "\n",
       "\\end{enumerate}\n"
      ],
      "text/markdown": [
       "1. 1. 3\n",
       "2. 59\n",
       "3. 143\n",
       "\n",
       "\n",
       "\n",
       "2. 1. 80\n",
       "2. 98\n",
       "3. 117\n",
       "4. 146\n",
       "5. 3077\n",
       "6. 3083\n",
       "\n",
       "\n",
       "\n",
       "3. 1\n",
       "4. 0\n",
       "5. 1. 35\n",
       "2. 79\n",
       "3. 83\n",
       "4. 126\n",
       "\n",
       "\n",
       "\n",
       "6. 1. 20\n",
       "2. 104\n",
       "3. 132\n",
       "\n",
       "\n",
       "\n",
       "7. 1. 22\n",
       "2. 39\n",
       "3. 86\n",
       "4. 107\n",
       "5. 127\n",
       "\n",
       "\n",
       "\n",
       "8. 1. 24\n",
       "2. 25\n",
       "3. 28\n",
       "4. 66\n",
       "5. 90\n",
       "6. 101\n",
       "\n",
       "\n",
       "\n",
       "9. 1. 28\n",
       "2. 39\n",
       "3. 86\n",
       "4. 124\n",
       "\n",
       "\n",
       "\n",
       "10. 1. 64\n",
       "2. 69\n",
       "3. 76\n",
       "\n",
       "\n",
       "\n",
       "\n",
       "\n"
      ],
      "text/plain": [
       "[[1]]\n",
       "[1]   3  59 143\n",
       "\n",
       "[[2]]\n",
       "[1]   80   98  117  146 3077 3083\n",
       "\n",
       "[[3]]\n",
       "[1] 1\n",
       "\n",
       "[[4]]\n",
       "[1] 0\n",
       "\n",
       "[[5]]\n",
       "[1]  35  79  83 126\n",
       "\n",
       "[[6]]\n",
       "[1]  20 104 132\n",
       "\n",
       "[[7]]\n",
       "[1]  22  39  86 107 127\n",
       "\n",
       "[[8]]\n",
       "[1]  24  25  28  66  90 101\n",
       "\n",
       "[[9]]\n",
       "[1]  28  39  86 124\n",
       "\n",
       "[[10]]\n",
       "[1] 64 69 76\n"
      ]
     },
     "metadata": {},
     "output_type": "display_data"
    }
   ],
   "source": [
    "head(worldPoly.nb, 10)"
   ]
  },
  {
   "cell_type": "code",
   "execution_count": 92,
   "metadata": {
    "collapsed": true
   },
   "outputs": [],
   "source": [
    "# Get the 1st and 2nd order neighbors of Toa\n",
    "\n",
    "maxlag <- 2\n",
    "world.lag <- nblag(worldPoly.nb, maxlag)"
   ]
  },
  {
   "cell_type": "code",
   "execution_count": 93,
   "metadata": {},
   "outputs": [
    {
     "data": {
      "text/html": [
       "<ol>\n",
       "\t<li><ol class=list-inline>\n",
       "\t<li>3</li>\n",
       "\t<li>59</li>\n",
       "\t<li>143</li>\n",
       "</ol>\n",
       "</li>\n",
       "\t<li><ol class=list-inline>\n",
       "\t<li>80</li>\n",
       "\t<li>98</li>\n",
       "\t<li>117</li>\n",
       "\t<li>146</li>\n",
       "\t<li>3077</li>\n",
       "\t<li>3083</li>\n",
       "</ol>\n",
       "</li>\n",
       "\t<li>1</li>\n",
       "\t<li>0</li>\n",
       "\t<li><ol class=list-inline>\n",
       "\t<li>35</li>\n",
       "\t<li>79</li>\n",
       "\t<li>83</li>\n",
       "\t<li>126</li>\n",
       "</ol>\n",
       "</li>\n",
       "\t<li><ol class=list-inline>\n",
       "\t<li>20</li>\n",
       "\t<li>104</li>\n",
       "\t<li>132</li>\n",
       "</ol>\n",
       "</li>\n",
       "</ol>\n"
      ],
      "text/latex": [
       "\\begin{enumerate}\n",
       "\\item \\begin{enumerate*}\n",
       "\\item 3\n",
       "\\item 59\n",
       "\\item 143\n",
       "\\end{enumerate*}\n",
       "\n",
       "\\item \\begin{enumerate*}\n",
       "\\item 80\n",
       "\\item 98\n",
       "\\item 117\n",
       "\\item 146\n",
       "\\item 3077\n",
       "\\item 3083\n",
       "\\end{enumerate*}\n",
       "\n",
       "\\item 1\n",
       "\\item 0\n",
       "\\item \\begin{enumerate*}\n",
       "\\item 35\n",
       "\\item 79\n",
       "\\item 83\n",
       "\\item 126\n",
       "\\end{enumerate*}\n",
       "\n",
       "\\item \\begin{enumerate*}\n",
       "\\item 20\n",
       "\\item 104\n",
       "\\item 132\n",
       "\\end{enumerate*}\n",
       "\n",
       "\\end{enumerate}\n"
      ],
      "text/markdown": [
       "1. 1. 3\n",
       "2. 59\n",
       "3. 143\n",
       "\n",
       "\n",
       "\n",
       "2. 1. 80\n",
       "2. 98\n",
       "3. 117\n",
       "4. 146\n",
       "5. 3077\n",
       "6. 3083\n",
       "\n",
       "\n",
       "\n",
       "3. 1\n",
       "4. 0\n",
       "5. 1. 35\n",
       "2. 79\n",
       "3. 83\n",
       "4. 126\n",
       "\n",
       "\n",
       "\n",
       "6. 1. 20\n",
       "2. 104\n",
       "3. 132\n",
       "\n",
       "\n",
       "\n",
       "\n",
       "\n"
      ],
      "text/plain": [
       "[[1]]\n",
       "[1]   3  59 143\n",
       "\n",
       "[[2]]\n",
       "[1]   80   98  117  146 3077 3083\n",
       "\n",
       "[[3]]\n",
       "[1] 1\n",
       "\n",
       "[[4]]\n",
       "[1] 0\n",
       "\n",
       "[[5]]\n",
       "[1]  35  79  83 126\n",
       "\n",
       "[[6]]\n",
       "[1]  20 104 132\n"
      ]
     },
     "metadata": {},
     "output_type": "display_data"
    }
   ],
   "source": [
    "firstWorldNb <- world.lag[[1]]\n",
    "head(firstWorldNb)"
   ]
  },
  {
   "cell_type": "code",
   "execution_count": 94,
   "metadata": {},
   "outputs": [
    {
     "data": {
      "text/html": [
       "<ol>\n",
       "\t<li><ol class=list-inline>\n",
       "\t<li>18</li>\n",
       "\t<li>51</li>\n",
       "\t<li>60</li>\n",
       "\t<li>97</li>\n",
       "</ol>\n",
       "</li>\n",
       "\t<li><ol class=list-inline>\n",
       "\t<li>44</li>\n",
       "\t<li>47</li>\n",
       "\t<li>64</li>\n",
       "\t<li>68</li>\n",
       "\t<li>71</li>\n",
       "\t<li>85</li>\n",
       "\t<li>102</li>\n",
       "\t<li>108</li>\n",
       "\t<li>123</li>\n",
       "\t<li>127</li>\n",
       "\t<li>375</li>\n",
       "\t<li>565</li>\n",
       "\t<li>774</li>\n",
       "\t<li>795</li>\n",
       "\t<li>816</li>\n",
       "\t<li>878</li>\n",
       "\t<li>923</li>\n",
       "\t<li>3078</li>\n",
       "\t<li>3079</li>\n",
       "\t<li>3085</li>\n",
       "\t<li>3086</li>\n",
       "</ol>\n",
       "</li>\n",
       "\t<li><ol class=list-inline>\n",
       "\t<li>59</li>\n",
       "\t<li>143</li>\n",
       "</ol>\n",
       "</li>\n",
       "\t<li>0</li>\n",
       "\t<li><ol class=list-inline>\n",
       "\t<li>13</li>\n",
       "\t<li>95</li>\n",
       "\t<li>113</li>\n",
       "\t<li>140</li>\n",
       "</ol>\n",
       "</li>\n",
       "\t<li><ol class=list-inline>\n",
       "\t<li>50</li>\n",
       "\t<li>61</li>\n",
       "\t<li>89</li>\n",
       "\t<li>100</li>\n",
       "\t<li>141</li>\n",
       "\t<li>3081</li>\n",
       "\t<li>3087</li>\n",
       "</ol>\n",
       "</li>\n",
       "</ol>\n"
      ],
      "text/latex": [
       "\\begin{enumerate}\n",
       "\\item \\begin{enumerate*}\n",
       "\\item 18\n",
       "\\item 51\n",
       "\\item 60\n",
       "\\item 97\n",
       "\\end{enumerate*}\n",
       "\n",
       "\\item \\begin{enumerate*}\n",
       "\\item 44\n",
       "\\item 47\n",
       "\\item 64\n",
       "\\item 68\n",
       "\\item 71\n",
       "\\item 85\n",
       "\\item 102\n",
       "\\item 108\n",
       "\\item 123\n",
       "\\item 127\n",
       "\\item 375\n",
       "\\item 565\n",
       "\\item 774\n",
       "\\item 795\n",
       "\\item 816\n",
       "\\item 878\n",
       "\\item 923\n",
       "\\item 3078\n",
       "\\item 3079\n",
       "\\item 3085\n",
       "\\item 3086\n",
       "\\end{enumerate*}\n",
       "\n",
       "\\item \\begin{enumerate*}\n",
       "\\item 59\n",
       "\\item 143\n",
       "\\end{enumerate*}\n",
       "\n",
       "\\item 0\n",
       "\\item \\begin{enumerate*}\n",
       "\\item 13\n",
       "\\item 95\n",
       "\\item 113\n",
       "\\item 140\n",
       "\\end{enumerate*}\n",
       "\n",
       "\\item \\begin{enumerate*}\n",
       "\\item 50\n",
       "\\item 61\n",
       "\\item 89\n",
       "\\item 100\n",
       "\\item 141\n",
       "\\item 3081\n",
       "\\item 3087\n",
       "\\end{enumerate*}\n",
       "\n",
       "\\end{enumerate}\n"
      ],
      "text/markdown": [
       "1. 1. 18\n",
       "2. 51\n",
       "3. 60\n",
       "4. 97\n",
       "\n",
       "\n",
       "\n",
       "2. 1. 44\n",
       "2. 47\n",
       "3. 64\n",
       "4. 68\n",
       "5. 71\n",
       "6. 85\n",
       "7. 102\n",
       "8. 108\n",
       "9. 123\n",
       "10. 127\n",
       "11. 375\n",
       "12. 565\n",
       "13. 774\n",
       "14. 795\n",
       "15. 816\n",
       "16. 878\n",
       "17. 923\n",
       "18. 3078\n",
       "19. 3079\n",
       "20. 3085\n",
       "21. 3086\n",
       "\n",
       "\n",
       "\n",
       "3. 1. 59\n",
       "2. 143\n",
       "\n",
       "\n",
       "\n",
       "4. 0\n",
       "5. 1. 13\n",
       "2. 95\n",
       "3. 113\n",
       "4. 140\n",
       "\n",
       "\n",
       "\n",
       "6. 1. 50\n",
       "2. 61\n",
       "3. 89\n",
       "4. 100\n",
       "5. 141\n",
       "6. 3081\n",
       "7. 3087\n",
       "\n",
       "\n",
       "\n",
       "\n",
       "\n"
      ],
      "text/plain": [
       "[[1]]\n",
       "[1] 18 51 60 97\n",
       "\n",
       "[[2]]\n",
       " [1]   44   47   64   68   71   85  102  108  123  127  375  565  774  795  816\n",
       "[16]  878  923 3078 3079 3085 3086\n",
       "\n",
       "[[3]]\n",
       "[1]  59 143\n",
       "\n",
       "[[4]]\n",
       "[1] 0\n",
       "\n",
       "[[5]]\n",
       "[1]  13  95 113 140\n",
       "\n",
       "[[6]]\n",
       "[1]   50   61   89  100  141 3081 3087\n"
      ]
     },
     "metadata": {},
     "output_type": "display_data"
    }
   ],
   "source": [
    "secondWorldNb <- world.lag[[2]]\n",
    "head(secondWorldNb)"
   ]
  },
  {
   "cell_type": "code",
   "execution_count": 95,
   "metadata": {},
   "outputs": [
    {
     "data": {
      "text/html": [
       "<ol class=list-inline>\n",
       "\t<li>151</li>\n",
       "\t<li>152</li>\n",
       "\t<li>193</li>\n",
       "\t<li>242</li>\n",
       "</ol>\n"
      ],
      "text/latex": [
       "\\begin{enumerate*}\n",
       "\\item 151\n",
       "\\item 152\n",
       "\\item 193\n",
       "\\item 242\n",
       "\\end{enumerate*}\n"
      ],
      "text/markdown": [
       "1. 151\n",
       "2. 152\n",
       "3. 193\n",
       "4. 242\n",
       "\n",
       "\n"
      ],
      "text/plain": [
       "[1] 151 152 193 242"
      ]
     },
     "metadata": {},
     "output_type": "display_data"
    }
   ],
   "source": [
    "# list of 1st order neighbors indices of toa\n",
    "\n",
    "firstToaNB <- firstWorldNb[toaRowNum]\n",
    "firstToaNB <- unlist(firstToaNB)\n",
    "firstToaNB"
   ]
  },
  {
   "cell_type": "code",
   "execution_count": 96,
   "metadata": {},
   "outputs": [
    {
     "data": {
      "text/html": [
       "346"
      ],
      "text/latex": [
       "346"
      ],
      "text/markdown": [
       "346"
      ],
      "text/plain": [
       "[1] 346"
      ]
     },
     "metadata": {},
     "output_type": "display_data"
    }
   ],
   "source": [
    "# list of 2nd order neighbors indices of toa\n",
    "\n",
    "secondToaNB <- secondWorldNb[toaRowNum]\n",
    "secondToaNB <- unlist(secondToaNB)\n",
    "secondToaNB"
   ]
  },
  {
   "cell_type": "code",
   "execution_count": 97,
   "metadata": {},
   "outputs": [
    {
     "name": "stdout",
     "output_type": "stream",
     "text": [
      "[1] \"First Order Neighbors:\"\n"
     ]
    },
    {
     "data": {
      "text/html": [
       "<ol class=list-inline>\n",
       "\t<li>Antananarivo</li>\n",
       "\t<li>Antsiranana</li>\n",
       "\t<li>Fianarantsoa</li>\n",
       "\t<li>Mahajanga</li>\n",
       "</ol>\n"
      ],
      "text/latex": [
       "\\begin{enumerate*}\n",
       "\\item Antananarivo\n",
       "\\item Antsiranana\n",
       "\\item Fianarantsoa\n",
       "\\item Mahajanga\n",
       "\\end{enumerate*}\n"
      ],
      "text/markdown": [
       "1. Antananarivo\n",
       "2. Antsiranana\n",
       "3. Fianarantsoa\n",
       "4. Mahajanga\n",
       "\n",
       "\n"
      ],
      "text/plain": [
       "[1] Antananarivo Antsiranana  Fianarantsoa Mahajanga   \n",
       "2946 Levels: 18 Montagnes A'ana ÃmnÃ¶govi Ãrebro lÃ¤n ... Zuzemberk"
      ]
     },
     "metadata": {},
     "output_type": "display_data"
    }
   ],
   "source": [
    "firstNB <- worldPoly[firstToaNB,]\n",
    "print(\"First Order Neighbors:\")\n",
    "firstNB@data$NAME"
   ]
  },
  {
   "cell_type": "code",
   "execution_count": 98,
   "metadata": {},
   "outputs": [
    {
     "name": "stdout",
     "output_type": "stream",
     "text": [
      "[1] \"Second Order Neighbors:\"\n"
     ]
    },
    {
     "data": {
      "text/html": [
       "Toliara"
      ],
      "text/latex": [
       "Toliara"
      ],
      "text/markdown": [
       "Toliara"
      ],
      "text/plain": [
       "[1] Toliara\n",
       "2946 Levels: 18 Montagnes A'ana ÃmnÃ¶govi Ãrebro lÃ¤n ... Zuzemberk"
      ]
     },
     "metadata": {},
     "output_type": "display_data"
    }
   ],
   "source": [
    "secondNB <- worldPoly[secondToaNB,]\n",
    "print(\"Second Order Neighbors:\")\n",
    "secondNB@data$NAME"
   ]
  },
  {
   "cell_type": "code",
   "execution_count": 99,
   "metadata": {},
   "outputs": [
    {
     "data": {
      "image/png": "[encoded data removed]",
      "text/plain": [
       "Plot with title \"Toamasina (yellow) with 1st NB (blue) and 2nd NB (green)\""
      ]
     },
     "metadata": {},
     "output_type": "display_data"
    }
   ],
   "source": [
    "plot(subset1, col = \"white\", main = \"Toamasina (yellow) with 1st NB (blue) and 2nd NB (green)\")\n",
    "plot(toa, add = TRUE, col = \"yellow\")\n",
    "plot(firstNB, add = TRUE, col = \"blue\")\n",
    "plot(secondNB, add = TRUE, col = \"lightgreen\")"
   ]
  }
 ],
 "metadata": {
  "kernelspec": {
   "display_name": "R",
   "language": "R",
   "name": "ir"
  },
  "language_info": {
   "codemirror_mode": "r",
   "file_extension": ".r",
   "mimetype": "text/x-r-source",
   "name": "R",
   "pygments_lexer": "r",
   "version": "3.4.1"
  }
 },
 "nbformat": 4,
 "nbformat_minor": 2
}
