{
 "cells": [
  {
   "cell_type": "markdown",
   "metadata": {},
   "source": [
    "# Spatial Representations and Relationships - Polygons\n",
    "\n",
    "Regardless of the spatial data structure of interest (raster, vector, network, etc), modeling the relationship of one spatial feature with others is central to many geospatial analyses."
   ]
  },
  {
   "cell_type": "code",
   "execution_count": 1,
   "metadata": {},
   "outputs": [
    {
     "name": "stderr",
     "output_type": "stream",
     "text": [
      "Warning message:\n",
      "\"package 'rgdal' was built under R version 3.4.2\"Warning message:\n",
      "\"package 'sp' was built under R version 3.4.2\"Warning message:\n",
      "\"package 'spdep' was built under R version 3.4.2\"Warning message:\n",
      "\"package 'rgeos' was built under R version 3.4.2\""
     ]
    }
   ],
   "source": [
    "# Load relevant R packages\n",
    "inLibraries = list('repr','rgdal','spdep','rgeos')\n",
    "for (rpack in inLibraries) {\n",
    "  if (is.element(rpack,installed.packages()[,1])){           \n",
    "      #Load the library into R\n",
    "      suppressMessages(library(rpack,character.only = TRUE))\n",
    "    }\n",
    "    else {\n",
    "        print(paste(\"Warning:  \",rpack,\" is not an installed package\"))\n",
    "    }\n",
    "}\n",
    "#resize plot area\n",
    "options(repr.plot.width=6, repr.plot.height=6)"
   ]
  },
  {
   "cell_type": "code",
   "execution_count": 4,
   "metadata": {},
   "outputs": [
    {
     "name": "stdout",
     "output_type": "stream",
     "text": [
      "OGR data source with driver: ESRI Shapefile \n",
      "Source: \"datasets/mo_counties\", layer: \"st_county10\"\n",
      "with 115 features\n",
      "It has 46 fields\n",
      "Integer64 fields read as strings:  POP90 WHITE90 BLACK90 ASIANPI90 AMIND90 OTHER90 HISP90 POP00 WHITE00 BLACK00 ASIAN00 AMIND00 HAWNPI00 OTHER00 MULTRA00 HISP00 POP10 WHITE10 BLACK10 ASIAN10 AMIND10 HAWNPI10 OTHER10 MULTRA10 HISP10 \n"
     ]
    }
   ],
   "source": [
    "#Read in shp file\n",
    "ppolys <- readOGR(\"datasets/mo_counties\",\"st_county10\")"
   ]
  },
  {
   "cell_type": "code",
   "execution_count": 5,
   "metadata": {
    "collapsed": true
   },
   "outputs": [],
   "source": [
    "peek <- head(ppolys@data)"
   ]
  },
  {
   "cell_type": "code",
   "execution_count": 6,
   "metadata": {},
   "outputs": [
    {
     "data": {
      "text/html": [
       "<table>\n",
       "<thead><tr><th></th><th scope=col>0</th><th scope=col>1</th><th scope=col>2</th><th scope=col>3</th><th scope=col>4</th><th scope=col>5</th></tr></thead>\n",
       "<tbody>\n",
       "\t<tr><th scope=row>STATEFP10</th><td>29             </td><td>29             </td><td>29             </td><td>29             </td><td>29             </td><td>29             </td></tr>\n",
       "\t<tr><th scope=row>COUNTYFP10</th><td>045            </td><td>005            </td><td>199            </td><td>147            </td><td>197            </td><td>171            </td></tr>\n",
       "\t<tr><th scope=row>COUNTYNS10</th><td>00758477       </td><td>00758457       </td><td>00758552       </td><td>00758528       </td><td>00758551       </td><td>00758540       </td></tr>\n",
       "\t<tr><th scope=row>GEOID10</th><td>29045          </td><td>29005          </td><td>29199          </td><td>29147          </td><td>29197          </td><td>29171          </td></tr>\n",
       "\t<tr><th scope=row>NAME10</th><td>Clark          </td><td>Atchison       </td><td>Scotland       </td><td>Nodaway        </td><td>Schuyler       </td><td>Putnam         </td></tr>\n",
       "\t<tr><th scope=row>NAMELSAD10</th><td>Clark County   </td><td>Atchison County</td><td>Scotland County</td><td>Nodaway County </td><td>Schuyler County</td><td>Putnam County  </td></tr>\n",
       "\t<tr><th scope=row>LSAD10</th><td>06             </td><td>06             </td><td>06             </td><td>06             </td><td>06             </td><td>06             </td></tr>\n",
       "\t<tr><th scope=row>CLASSFP10</th><td>H1             </td><td>H1             </td><td>H1             </td><td>H1             </td><td>H1             </td><td>H1             </td></tr>\n",
       "\t<tr><th scope=row>MTFCC10</th><td>G4020          </td><td>G4020          </td><td>G4020          </td><td>G4020          </td><td>G4020          </td><td>G4020          </td></tr>\n",
       "\t<tr><th scope=row>CSAFP10</th><td>NA             </td><td>NA             </td><td>NA             </td><td>NA             </td><td>NA             </td><td>NA             </td></tr>\n",
       "\t<tr><th scope=row>CBSAFP10</th><td>22800          </td><td>NA             </td><td>NA             </td><td>32340          </td><td>28860          </td><td>NA             </td></tr>\n",
       "\t<tr><th scope=row>METDIVFP10</th><td>NA             </td><td>NA             </td><td>NA             </td><td>NA             </td><td>NA             </td><td>NA             </td></tr>\n",
       "\t<tr><th scope=row>FUNCSTAT10</th><td>A              </td><td>A              </td><td>A              </td><td>A              </td><td>A              </td><td>A              </td></tr>\n",
       "\t<tr><th scope=row>ALAND10</th><td>1307146971     </td><td>1417505255     </td><td>1130971492     </td><td>2271326393     </td><td> 795911533     </td><td>1339845120     </td></tr>\n",
       "\t<tr><th scope=row>AWATER10</th><td>18473547       </td><td> 7319663       </td><td> 6798720       </td><td> 2361606       </td><td> 2216869       </td><td> 5942197       </td></tr>\n",
       "\t<tr><th scope=row>INTPTLAT10</th><td>+40.4072748    </td><td>+40.4318460    </td><td>+40.4476855    </td><td>+40.3604838    </td><td>+40.4693611    </td><td>+40.4786055    </td></tr>\n",
       "\t<tr><th scope=row>INTPTLON10</th><td>-091.7294720   </td><td>-095.4375546   </td><td>-092.1428235   </td><td>-094.8832814   </td><td>-092.5190156   </td><td>-093.0145314   </td></tr>\n",
       "\t<tr><th scope=row>AREA</th><td>1324937990     </td><td>1425178329     </td><td>1137009406     </td><td>2273310991     </td><td> 797523778     </td><td>1344720477     </td></tr>\n",
       "\t<tr><th scope=row>PERIMETER</th><td>161503.6       </td><td>183878.0       </td><td>135298.6       </td><td>210930.6       </td><td>154938.4       </td><td>209128.4       </td></tr>\n",
       "\t<tr><th scope=row>COUNTY10_</th><td>2              </td><td>3              </td><td>4              </td><td>5              </td><td>6              </td><td>7              </td></tr>\n",
       "\t<tr><th scope=row>COUNTY10_I</th><td>115            </td><td>111            </td><td>114            </td><td>109            </td><td>113            </td><td>112            </td></tr>\n",
       "\t<tr><th scope=row>POP90</th><td>7547           </td><td>7457           </td><td>4822           </td><td>21709          </td><td>4236           </td><td>5079           </td></tr>\n",
       "\t<tr><th scope=row>WHITE90</th><td>7528           </td><td>7280           </td><td>4808           </td><td>21278          </td><td>4217           </td><td>5059           </td></tr>\n",
       "\t<tr><th scope=row>BLACK90</th><td>3              </td><td>83             </td><td>3              </td><td>166            </td><td>0              </td><td>1              </td></tr>\n",
       "\t<tr><th scope=row>ASIANPI90</th><td>4              </td><td>14             </td><td>0              </td><td>165            </td><td>4              </td><td>4              </td></tr>\n",
       "\t<tr><th scope=row>AMIND90</th><td>7              </td><td>15             </td><td>10             </td><td>43             </td><td>8              </td><td>9              </td></tr>\n",
       "\t<tr><th scope=row>OTHER90</th><td>5              </td><td>65             </td><td>1              </td><td>57             </td><td>7              </td><td>6              </td></tr>\n",
       "\t<tr><th scope=row>HISP90</th><td>26             </td><td>104            </td><td>12             </td><td>135            </td><td>18             </td><td>24             </td></tr>\n",
       "\t<tr><th scope=row>POP00</th><td>7416           </td><td>6430           </td><td>4983           </td><td>21912          </td><td>4170           </td><td>5223           </td></tr>\n",
       "\t<tr><th scope=row>WHITE00</th><td>7329           </td><td>6237           </td><td>4924           </td><td>21162          </td><td>4105           </td><td>5178           </td></tr>\n",
       "\t<tr><th scope=row>BLACK00</th><td>5              </td><td>132            </td><td>10             </td><td>295            </td><td>2              </td><td>3              </td></tr>\n",
       "\t<tr><th scope=row>ASIAN00</th><td>5              </td><td>9              </td><td>4              </td><td>190            </td><td>7              </td><td>7              </td></tr>\n",
       "\t<tr><th scope=row>AMIND00</th><td>15             </td><td>12             </td><td>7              </td><td>51             </td><td>13             </td><td>5              </td></tr>\n",
       "\t<tr><th scope=row>HAWNPI00</th><td>1              </td><td>0              </td><td>1              </td><td>5              </td><td>1              </td><td>0              </td></tr>\n",
       "\t<tr><th scope=row>OTHER00</th><td>16             </td><td>20             </td><td>8              </td><td>46             </td><td>7              </td><td>5              </td></tr>\n",
       "\t<tr><th scope=row>MULTRA00</th><td>45             </td><td>20             </td><td>29             </td><td>163            </td><td>35             </td><td>25             </td></tr>\n",
       "\t<tr><th scope=row>HISP00</th><td>52             </td><td>43             </td><td>42             </td><td>155            </td><td>27             </td><td>32             </td></tr>\n",
       "\t<tr><th scope=row>POP10</th><td>7139           </td><td>5685           </td><td>4843           </td><td>23370          </td><td>4431           </td><td>4979           </td></tr>\n",
       "\t<tr><th scope=row>WHITE10</th><td>7011           </td><td>5600           </td><td>4776           </td><td>22083          </td><td>4369           </td><td>4889           </td></tr>\n",
       "\t<tr><th scope=row>BLACK10</th><td>19             </td><td>17             </td><td>3              </td><td>566            </td><td>1              </td><td>9              </td></tr>\n",
       "\t<tr><th scope=row>ASIAN10</th><td>23             </td><td>9              </td><td>11             </td><td>378            </td><td>10             </td><td>24             </td></tr>\n",
       "\t<tr><th scope=row>AMIND10</th><td>9              </td><td>10             </td><td>12             </td><td>45             </td><td>7              </td><td>7              </td></tr>\n",
       "\t<tr><th scope=row>HAWNPI10</th><td>0              </td><td>3              </td><td>0              </td><td>3              </td><td>0              </td><td>1              </td></tr>\n",
       "\t<tr><th scope=row>OTHER10</th><td>5              </td><td>5              </td><td>18             </td><td>78             </td><td>8              </td><td>7              </td></tr>\n",
       "\t<tr><th scope=row>MULTRA10</th><td>72             </td><td>41             </td><td>23             </td><td>217            </td><td>36             </td><td>42             </td></tr>\n",
       "\t<tr><th scope=row>HISP10</th><td>42             </td><td>55             </td><td>33             </td><td>302            </td><td>29             </td><td>36             </td></tr>\n",
       "</tbody>\n",
       "</table>\n"
      ],
      "text/latex": [
       "\\begin{tabular}{r|llllll}\n",
       "  & 0 & 1 & 2 & 3 & 4 & 5\\\\\n",
       "\\hline\n",
       "\tSTATEFP10 & 29              & 29              & 29              & 29              & 29              & 29             \\\\\n",
       "\tCOUNTYFP10 & 045             & 005             & 199             & 147             & 197             & 171            \\\\\n",
       "\tCOUNTYNS10 & 00758477        & 00758457        & 00758552        & 00758528        & 00758551        & 00758540       \\\\\n",
       "\tGEOID10 & 29045           & 29005           & 29199           & 29147           & 29197           & 29171          \\\\\n",
       "\tNAME10 & Clark           & Atchison        & Scotland        & Nodaway         & Schuyler        & Putnam         \\\\\n",
       "\tNAMELSAD10 & Clark County    & Atchison County & Scotland County & Nodaway County  & Schuyler County & Putnam County  \\\\\n",
       "\tLSAD10 & 06              & 06              & 06              & 06              & 06              & 06             \\\\\n",
       "\tCLASSFP10 & H1              & H1              & H1              & H1              & H1              & H1             \\\\\n",
       "\tMTFCC10 & G4020           & G4020           & G4020           & G4020           & G4020           & G4020          \\\\\n",
       "\tCSAFP10 & NA              & NA              & NA              & NA              & NA              & NA             \\\\\n",
       "\tCBSAFP10 & 22800           & NA              & NA              & 32340           & 28860           & NA             \\\\\n",
       "\tMETDIVFP10 & NA              & NA              & NA              & NA              & NA              & NA             \\\\\n",
       "\tFUNCSTAT10 & A               & A               & A               & A               & A               & A              \\\\\n",
       "\tALAND10 & 1307146971      & 1417505255      & 1130971492      & 2271326393      &  795911533      & 1339845120     \\\\\n",
       "\tAWATER10 & 18473547        &  7319663        &  6798720        &  2361606        &  2216869        &  5942197       \\\\\n",
       "\tINTPTLAT10 & +40.4072748     & +40.4318460     & +40.4476855     & +40.3604838     & +40.4693611     & +40.4786055    \\\\\n",
       "\tINTPTLON10 & -091.7294720    & -095.4375546    & -092.1428235    & -094.8832814    & -092.5190156    & -093.0145314   \\\\\n",
       "\tAREA & 1324937990      & 1425178329      & 1137009406      & 2273310991      &  797523778      & 1344720477     \\\\\n",
       "\tPERIMETER & 161503.6        & 183878.0        & 135298.6        & 210930.6        & 154938.4        & 209128.4       \\\\\n",
       "\tCOUNTY10\\_ & 2               & 3               & 4               & 5               & 6               & 7              \\\\\n",
       "\tCOUNTY10\\_I & 115             & 111             & 114             & 109             & 113             & 112            \\\\\n",
       "\tPOP90 & 7547            & 7457            & 4822            & 21709           & 4236            & 5079           \\\\\n",
       "\tWHITE90 & 7528            & 7280            & 4808            & 21278           & 4217            & 5059           \\\\\n",
       "\tBLACK90 & 3               & 83              & 3               & 166             & 0               & 1              \\\\\n",
       "\tASIANPI90 & 4               & 14              & 0               & 165             & 4               & 4              \\\\\n",
       "\tAMIND90 & 7               & 15              & 10              & 43              & 8               & 9              \\\\\n",
       "\tOTHER90 & 5               & 65              & 1               & 57              & 7               & 6              \\\\\n",
       "\tHISP90 & 26              & 104             & 12              & 135             & 18              & 24             \\\\\n",
       "\tPOP00 & 7416            & 6430            & 4983            & 21912           & 4170            & 5223           \\\\\n",
       "\tWHITE00 & 7329            & 6237            & 4924            & 21162           & 4105            & 5178           \\\\\n",
       "\tBLACK00 & 5               & 132             & 10              & 295             & 2               & 3              \\\\\n",
       "\tASIAN00 & 5               & 9               & 4               & 190             & 7               & 7              \\\\\n",
       "\tAMIND00 & 15              & 12              & 7               & 51              & 13              & 5              \\\\\n",
       "\tHAWNPI00 & 1               & 0               & 1               & 5               & 1               & 0              \\\\\n",
       "\tOTHER00 & 16              & 20              & 8               & 46              & 7               & 5              \\\\\n",
       "\tMULTRA00 & 45              & 20              & 29              & 163             & 35              & 25             \\\\\n",
       "\tHISP00 & 52              & 43              & 42              & 155             & 27              & 32             \\\\\n",
       "\tPOP10 & 7139            & 5685            & 4843            & 23370           & 4431            & 4979           \\\\\n",
       "\tWHITE10 & 7011            & 5600            & 4776            & 22083           & 4369            & 4889           \\\\\n",
       "\tBLACK10 & 19              & 17              & 3               & 566             & 1               & 9              \\\\\n",
       "\tASIAN10 & 23              & 9               & 11              & 378             & 10              & 24             \\\\\n",
       "\tAMIND10 & 9               & 10              & 12              & 45              & 7               & 7              \\\\\n",
       "\tHAWNPI10 & 0               & 3               & 0               & 3               & 0               & 1              \\\\\n",
       "\tOTHER10 & 5               & 5               & 18              & 78              & 8               & 7              \\\\\n",
       "\tMULTRA10 & 72              & 41              & 23              & 217             & 36              & 42             \\\\\n",
       "\tHISP10 & 42              & 55              & 33              & 302             & 29              & 36             \\\\\n",
       "\\end{tabular}\n"
      ],
      "text/markdown": [
       "\n",
       "| <!--/--> | 0 | 1 | 2 | 3 | 4 | 5 | \n",
       "|---|---|---|---|---|---|---|---|---|---|---|---|---|---|---|---|---|---|---|---|---|---|---|---|---|---|---|---|---|---|---|---|---|---|---|---|---|---|---|---|---|---|---|---|---|---|\n",
       "| STATEFP10 | 29              | 29              | 29              | 29              | 29              | 29              | \n",
       "| COUNTYFP10 | 045             | 005             | 199             | 147             | 197             | 171             | \n",
       "| COUNTYNS10 | 00758477        | 00758457        | 00758552        | 00758528        | 00758551        | 00758540        | \n",
       "| GEOID10 | 29045           | 29005           | 29199           | 29147           | 29197           | 29171           | \n",
       "| NAME10 | Clark           | Atchison        | Scotland        | Nodaway         | Schuyler        | Putnam          | \n",
       "| NAMELSAD10 | Clark County    | Atchison County | Scotland County | Nodaway County  | Schuyler County | Putnam County   | \n",
       "| LSAD10 | 06              | 06              | 06              | 06              | 06              | 06              | \n",
       "| CLASSFP10 | H1              | H1              | H1              | H1              | H1              | H1              | \n",
       "| MTFCC10 | G4020           | G4020           | G4020           | G4020           | G4020           | G4020           | \n",
       "| CSAFP10 | NA              | NA              | NA              | NA              | NA              | NA              | \n",
       "| CBSAFP10 | 22800           | NA              | NA              | 32340           | 28860           | NA              | \n",
       "| METDIVFP10 | NA              | NA              | NA              | NA              | NA              | NA              | \n",
       "| FUNCSTAT10 | A               | A               | A               | A               | A               | A               | \n",
       "| ALAND10 | 1307146971      | 1417505255      | 1130971492      | 2271326393      |  795911533      | 1339845120      | \n",
       "| AWATER10 | 18473547        |  7319663        |  6798720        |  2361606        |  2216869        |  5942197        | \n",
       "| INTPTLAT10 | +40.4072748     | +40.4318460     | +40.4476855     | +40.3604838     | +40.4693611     | +40.4786055     | \n",
       "| INTPTLON10 | -091.7294720    | -095.4375546    | -092.1428235    | -094.8832814    | -092.5190156    | -093.0145314    | \n",
       "| AREA | 1324937990      | 1425178329      | 1137009406      | 2273310991      |  797523778      | 1344720477      | \n",
       "| PERIMETER | 161503.6        | 183878.0        | 135298.6        | 210930.6        | 154938.4        | 209128.4        | \n",
       "| COUNTY10_ | 2               | 3               | 4               | 5               | 6               | 7               | \n",
       "| COUNTY10_I | 115             | 111             | 114             | 109             | 113             | 112             | \n",
       "| POP90 | 7547            | 7457            | 4822            | 21709           | 4236            | 5079            | \n",
       "| WHITE90 | 7528            | 7280            | 4808            | 21278           | 4217            | 5059            | \n",
       "| BLACK90 | 3               | 83              | 3               | 166             | 0               | 1               | \n",
       "| ASIANPI90 | 4               | 14              | 0               | 165             | 4               | 4               | \n",
       "| AMIND90 | 7               | 15              | 10              | 43              | 8               | 9               | \n",
       "| OTHER90 | 5               | 65              | 1               | 57              | 7               | 6               | \n",
       "| HISP90 | 26              | 104             | 12              | 135             | 18              | 24              | \n",
       "| POP00 | 7416            | 6430            | 4983            | 21912           | 4170            | 5223            | \n",
       "| WHITE00 | 7329            | 6237            | 4924            | 21162           | 4105            | 5178            | \n",
       "| BLACK00 | 5               | 132             | 10              | 295             | 2               | 3               | \n",
       "| ASIAN00 | 5               | 9               | 4               | 190             | 7               | 7               | \n",
       "| AMIND00 | 15              | 12              | 7               | 51              | 13              | 5               | \n",
       "| HAWNPI00 | 1               | 0               | 1               | 5               | 1               | 0               | \n",
       "| OTHER00 | 16              | 20              | 8               | 46              | 7               | 5               | \n",
       "| MULTRA00 | 45              | 20              | 29              | 163             | 35              | 25              | \n",
       "| HISP00 | 52              | 43              | 42              | 155             | 27              | 32              | \n",
       "| POP10 | 7139            | 5685            | 4843            | 23370           | 4431            | 4979            | \n",
       "| WHITE10 | 7011            | 5600            | 4776            | 22083           | 4369            | 4889            | \n",
       "| BLACK10 | 19              | 17              | 3               | 566             | 1               | 9               | \n",
       "| ASIAN10 | 23              | 9               | 11              | 378             | 10              | 24              | \n",
       "| AMIND10 | 9               | 10              | 12              | 45              | 7               | 7               | \n",
       "| HAWNPI10 | 0               | 3               | 0               | 3               | 0               | 1               | \n",
       "| OTHER10 | 5               | 5               | 18              | 78              | 8               | 7               | \n",
       "| MULTRA10 | 72              | 41              | 23              | 217             | 36              | 42              | \n",
       "| HISP10 | 42              | 55              | 33              | 302             | 29              | 36              | \n",
       "\n",
       "\n"
      ],
      "text/plain": [
       "           0            1               2               3             \n",
       "STATEFP10  29           29              29              29            \n",
       "COUNTYFP10 045          005             199             147           \n",
       "COUNTYNS10 00758477     00758457        00758552        00758528      \n",
       "GEOID10    29045        29005           29199           29147         \n",
       "NAME10     Clark        Atchison        Scotland        Nodaway       \n",
       "NAMELSAD10 Clark County Atchison County Scotland County Nodaway County\n",
       "LSAD10     06           06              06              06            \n",
       "CLASSFP10  H1           H1              H1              H1            \n",
       "MTFCC10    G4020        G4020           G4020           G4020         \n",
       "CSAFP10    NA           NA              NA              NA            \n",
       "CBSAFP10   22800        NA              NA              32340         \n",
       "METDIVFP10 NA           NA              NA              NA            \n",
       "FUNCSTAT10 A            A               A               A             \n",
       "ALAND10    1307146971   1417505255      1130971492      2271326393    \n",
       "AWATER10   18473547      7319663         6798720         2361606      \n",
       "INTPTLAT10 +40.4072748  +40.4318460     +40.4476855     +40.3604838   \n",
       "INTPTLON10 -091.7294720 -095.4375546    -092.1428235    -094.8832814  \n",
       "AREA       1324937990   1425178329      1137009406      2273310991    \n",
       "PERIMETER  161503.6     183878.0        135298.6        210930.6      \n",
       "COUNTY10_  2            3               4               5             \n",
       "COUNTY10_I 115          111             114             109           \n",
       "POP90      7547         7457            4822            21709         \n",
       "WHITE90    7528         7280            4808            21278         \n",
       "BLACK90    3            83              3               166           \n",
       "ASIANPI90  4            14              0               165           \n",
       "AMIND90    7            15              10              43            \n",
       "OTHER90    5            65              1               57            \n",
       "HISP90     26           104             12              135           \n",
       "POP00      7416         6430            4983            21912         \n",
       "WHITE00    7329         6237            4924            21162         \n",
       "BLACK00    5            132             10              295           \n",
       "ASIAN00    5            9               4               190           \n",
       "AMIND00    15           12              7               51            \n",
       "HAWNPI00   1            0               1               5             \n",
       "OTHER00    16           20              8               46            \n",
       "MULTRA00   45           20              29              163           \n",
       "HISP00     52           43              42              155           \n",
       "POP10      7139         5685            4843            23370         \n",
       "WHITE10    7011         5600            4776            22083         \n",
       "BLACK10    19           17              3               566           \n",
       "ASIAN10    23           9               11              378           \n",
       "AMIND10    9            10              12              45            \n",
       "HAWNPI10   0            3               0               3             \n",
       "OTHER10    5            5               18              78            \n",
       "MULTRA10   72           41              23              217           \n",
       "HISP10     42           55              33              302           \n",
       "           4               5            \n",
       "STATEFP10  29              29           \n",
       "COUNTYFP10 197             171          \n",
       "COUNTYNS10 00758551        00758540     \n",
       "GEOID10    29197           29171        \n",
       "NAME10     Schuyler        Putnam       \n",
       "NAMELSAD10 Schuyler County Putnam County\n",
       "LSAD10     06              06           \n",
       "CLASSFP10  H1              H1           \n",
       "MTFCC10    G4020           G4020        \n",
       "CSAFP10    NA              NA           \n",
       "CBSAFP10   28860           NA           \n",
       "METDIVFP10 NA              NA           \n",
       "FUNCSTAT10 A               A            \n",
       "ALAND10     795911533      1339845120   \n",
       "AWATER10    2216869         5942197     \n",
       "INTPTLAT10 +40.4693611     +40.4786055  \n",
       "INTPTLON10 -092.5190156    -093.0145314 \n",
       "AREA        797523778      1344720477   \n",
       "PERIMETER  154938.4        209128.4     \n",
       "COUNTY10_  6               7            \n",
       "COUNTY10_I 113             112          \n",
       "POP90      4236            5079         \n",
       "WHITE90    4217            5059         \n",
       "BLACK90    0               1            \n",
       "ASIANPI90  4               4            \n",
       "AMIND90    8               9            \n",
       "OTHER90    7               6            \n",
       "HISP90     18              24           \n",
       "POP00      4170            5223         \n",
       "WHITE00    4105            5178         \n",
       "BLACK00    2               3            \n",
       "ASIAN00    7               7            \n",
       "AMIND00    13              5            \n",
       "HAWNPI00   1               0            \n",
       "OTHER00    7               5            \n",
       "MULTRA00   35              25           \n",
       "HISP00     27              32           \n",
       "POP10      4431            4979         \n",
       "WHITE10    4369            4889         \n",
       "BLACK10    1               9            \n",
       "ASIAN10    10              24           \n",
       "AMIND10    7               7            \n",
       "HAWNPI10   0               1            \n",
       "OTHER10    8               7            \n",
       "MULTRA10   36              42           \n",
       "HISP10     29              36           "
      ]
     },
     "metadata": {},
     "output_type": "display_data"
    }
   ],
   "source": [
    "t(peek)"
   ]
  },
  {
   "cell_type": "code",
   "execution_count": 7,
   "metadata": {
    "collapsed": true
   },
   "outputs": [],
   "source": [
    "data <- ppolys@data"
   ]
  },
  {
   "cell_type": "code",
   "execution_count": 8,
   "metadata": {},
   "outputs": [
    {
     "data": {
      "image/png": "[encoded data removed]",
      "text/plain": [
       "Plot with title \"Missouri Counties\""
      ]
     },
     "metadata": {},
     "output_type": "display_data"
    }
   ],
   "source": [
    "#Display the featureclass\n",
    "plot(ppolys, col=\"lightgreen\", main='Missouri Counties',cex.main=.8)\n",
    "\n",
    "#Get centroid of polygons\n",
    "centroids <- gCentroid(ppolys, byid=TRUE)\n",
    "centroidLons <- coordinates(centroids)[,1]\n",
    "centroidLats <- coordinates(centroids)[,2]\n",
    "\n",
    "#Label polygons\n",
    "text(centroidLons, centroidLats, labels=ppolys$NAME10,cex=.5)"
   ]
  },
  {
   "cell_type": "markdown",
   "metadata": {},
   "source": [
    "## Neighborhoods\n",
    "\n",
    "What areas of the state would you expect to influence a home's value? \n",
    "\n",
    "a) All areas of the state; \n",
    "\n",
    "B) Areas within a home's county; \n",
    "\n",
    "C) Areas within a home's city; \n",
    "\n",
    "E) Areas within 1 mile of a house.\n",
    "\n",
    "In many types of spatial analysis, making assumptions regarding the size of the neighborhoods that could have some affect on a phenomena at a particular location is an important component.\n",
    "\n",
    "Fortunately, the increasing use of geographic information systems makes assessment of different neighborhood structures a simple task. To illustrate this, let's look at some example neighborhood structures using polygon and point dataset. Here we will use the functions available in the spdep library. In the following example, the 'poly2nb' function (spdep library) will be used to generate a .nb class neighborhood object (a format used by the spdep library). Here, the 'queen=FALSE' parameter indicates that the Rook's criterion will be used to assess a polygon's neighborhood."
   ]
  },
  {
   "cell_type": "code",
   "execution_count": 9,
   "metadata": {},
   "outputs": [
    {
     "data": {
      "text/plain": [
       "Neighbour list object:\n",
       "Number of regions: 115 \n",
       "Number of nonzero links: 588 \n",
       "Percentage nonzero weights: 4.446125 \n",
       "Average number of links: 5.113043 "
      ]
     },
     "metadata": {},
     "output_type": "display_data"
    }
   ],
   "source": [
    "#Identify the neighbors of each polygon\n",
    "ppolys.nb <- poly2nb(ppolys, queen = FALSE)\n",
    "\n",
    "#summarize .nb object\n",
    "ppolys.nb"
   ]
  },
  {
   "cell_type": "markdown",
   "metadata": {},
   "source": [
    "The poly2nb() function actually identifies the SET of polygons that constitute the neighborhood for each polygon. See some example ouput of the neighborhood list below. In this case, the neighbors of polygon 1 are polygons 3, 13, and 16."
   ]
  },
  {
   "cell_type": "code",
   "execution_count": 10,
   "metadata": {},
   "outputs": [
    {
     "data": {
      "text/html": [
       "<ol>\n",
       "\t<li><ol class=list-inline>\n",
       "\t<li>3</li>\n",
       "\t<li>13</li>\n",
       "\t<li>16</li>\n",
       "</ol>\n",
       "</li>\n",
       "\t<li><ol class=list-inline>\n",
       "\t<li>4</li>\n",
       "\t<li>14</li>\n",
       "</ol>\n",
       "</li>\n",
       "\t<li><ol class=list-inline>\n",
       "\t<li>1</li>\n",
       "\t<li>5</li>\n",
       "\t<li>12</li>\n",
       "\t<li>13</li>\n",
       "</ol>\n",
       "</li>\n",
       "\t<li><ol class=list-inline>\n",
       "\t<li>2</li>\n",
       "\t<li>7</li>\n",
       "\t<li>10</li>\n",
       "\t<li>14</li>\n",
       "\t<li>17</li>\n",
       "</ol>\n",
       "</li>\n",
       "\t<li><ol class=list-inline>\n",
       "\t<li>3</li>\n",
       "\t<li>6</li>\n",
       "\t<li>12</li>\n",
       "</ol>\n",
       "</li>\n",
       "\t<li><ol class=list-inline>\n",
       "\t<li>5</li>\n",
       "\t<li>8</li>\n",
       "\t<li>11</li>\n",
       "\t<li>12</li>\n",
       "</ol>\n",
       "</li>\n",
       "\t<li><ol class=list-inline>\n",
       "\t<li>4</li>\n",
       "\t<li>9</li>\n",
       "\t<li>10</li>\n",
       "</ol>\n",
       "</li>\n",
       "\t<li><ol class=list-inline>\n",
       "\t<li>6</li>\n",
       "\t<li>9</li>\n",
       "\t<li>11</li>\n",
       "\t<li>15</li>\n",
       "</ol>\n",
       "</li>\n",
       "\t<li><ol class=list-inline>\n",
       "\t<li>7</li>\n",
       "\t<li>8</li>\n",
       "\t<li>10</li>\n",
       "\t<li>15</li>\n",
       "\t<li>18</li>\n",
       "</ol>\n",
       "</li>\n",
       "\t<li><ol class=list-inline>\n",
       "\t<li>4</li>\n",
       "\t<li>7</li>\n",
       "\t<li>9</li>\n",
       "\t<li>17</li>\n",
       "\t<li>18</li>\n",
       "\t<li>19</li>\n",
       "</ol>\n",
       "</li>\n",
       "</ol>\n"
      ],
      "text/latex": [
       "\\begin{enumerate}\n",
       "\\item \\begin{enumerate*}\n",
       "\\item 3\n",
       "\\item 13\n",
       "\\item 16\n",
       "\\end{enumerate*}\n",
       "\n",
       "\\item \\begin{enumerate*}\n",
       "\\item 4\n",
       "\\item 14\n",
       "\\end{enumerate*}\n",
       "\n",
       "\\item \\begin{enumerate*}\n",
       "\\item 1\n",
       "\\item 5\n",
       "\\item 12\n",
       "\\item 13\n",
       "\\end{enumerate*}\n",
       "\n",
       "\\item \\begin{enumerate*}\n",
       "\\item 2\n",
       "\\item 7\n",
       "\\item 10\n",
       "\\item 14\n",
       "\\item 17\n",
       "\\end{enumerate*}\n",
       "\n",
       "\\item \\begin{enumerate*}\n",
       "\\item 3\n",
       "\\item 6\n",
       "\\item 12\n",
       "\\end{enumerate*}\n",
       "\n",
       "\\item \\begin{enumerate*}\n",
       "\\item 5\n",
       "\\item 8\n",
       "\\item 11\n",
       "\\item 12\n",
       "\\end{enumerate*}\n",
       "\n",
       "\\item \\begin{enumerate*}\n",
       "\\item 4\n",
       "\\item 9\n",
       "\\item 10\n",
       "\\end{enumerate*}\n",
       "\n",
       "\\item \\begin{enumerate*}\n",
       "\\item 6\n",
       "\\item 9\n",
       "\\item 11\n",
       "\\item 15\n",
       "\\end{enumerate*}\n",
       "\n",
       "\\item \\begin{enumerate*}\n",
       "\\item 7\n",
       "\\item 8\n",
       "\\item 10\n",
       "\\item 15\n",
       "\\item 18\n",
       "\\end{enumerate*}\n",
       "\n",
       "\\item \\begin{enumerate*}\n",
       "\\item 4\n",
       "\\item 7\n",
       "\\item 9\n",
       "\\item 17\n",
       "\\item 18\n",
       "\\item 19\n",
       "\\end{enumerate*}\n",
       "\n",
       "\\end{enumerate}\n"
      ],
      "text/markdown": [
       "1. 1. 3\n",
       "2. 13\n",
       "3. 16\n",
       "\n",
       "\n",
       "\n",
       "2. 1. 4\n",
       "2. 14\n",
       "\n",
       "\n",
       "\n",
       "3. 1. 1\n",
       "2. 5\n",
       "3. 12\n",
       "4. 13\n",
       "\n",
       "\n",
       "\n",
       "4. 1. 2\n",
       "2. 7\n",
       "3. 10\n",
       "4. 14\n",
       "5. 17\n",
       "\n",
       "\n",
       "\n",
       "5. 1. 3\n",
       "2. 6\n",
       "3. 12\n",
       "\n",
       "\n",
       "\n",
       "6. 1. 5\n",
       "2. 8\n",
       "3. 11\n",
       "4. 12\n",
       "\n",
       "\n",
       "\n",
       "7. 1. 4\n",
       "2. 9\n",
       "3. 10\n",
       "\n",
       "\n",
       "\n",
       "8. 1. 6\n",
       "2. 9\n",
       "3. 11\n",
       "4. 15\n",
       "\n",
       "\n",
       "\n",
       "9. 1. 7\n",
       "2. 8\n",
       "3. 10\n",
       "4. 15\n",
       "5. 18\n",
       "\n",
       "\n",
       "\n",
       "10. 1. 4\n",
       "2. 7\n",
       "3. 9\n",
       "4. 17\n",
       "5. 18\n",
       "6. 19\n",
       "\n",
       "\n",
       "\n",
       "\n",
       "\n"
      ],
      "text/plain": [
       "[[1]]\n",
       "[1]  3 13 16\n",
       "\n",
       "[[2]]\n",
       "[1]  4 14\n",
       "\n",
       "[[3]]\n",
       "[1]  1  5 12 13\n",
       "\n",
       "[[4]]\n",
       "[1]  2  7 10 14 17\n",
       "\n",
       "[[5]]\n",
       "[1]  3  6 12\n",
       "\n",
       "[[6]]\n",
       "[1]  5  8 11 12\n",
       "\n",
       "[[7]]\n",
       "[1]  4  9 10\n",
       "\n",
       "[[8]]\n",
       "[1]  6  9 11 15\n",
       "\n",
       "[[9]]\n",
       "[1]  7  8 10 15 18\n",
       "\n",
       "[[10]]\n",
       "[1]  4  7  9 17 18 19\n"
      ]
     },
     "metadata": {},
     "output_type": "display_data"
    }
   ],
   "source": [
    "#list first 5 neighborhood sets\n",
    "head(ppolys.nb, 10)"
   ]
  },
  {
   "cell_type": "markdown",
   "metadata": {},
   "source": [
    "### Referencing Specific Neighborhoods\n",
    "\n",
    "For example, consider Howell County's neighborhood = {Ozark, Douglas, Texas, Oregon, Shannon}. \n",
    "\n",
    "To find the neighbors of Howell County: \n",
    "\n",
    "a) select Howell County,\n",
    "\n",
    "b) select the row of the neighborhood file associated with Howell County. Keep in mind that the row.names() function in R returns rows with the first row indexed 0. Thus, we will need to account for that below by adding 1 to the index for the county since there is no record 0 in the dataframe."
   ]
  },
  {
   "cell_type": "code",
   "execution_count": 11,
   "metadata": {},
   "outputs": [
    {
     "name": "stdout",
     "output_type": "stream",
     "text": [
      "OGR data source with driver: ESRI Shapefile \n",
      "Source: \"datasets/mo_counties\", layer: \"st_county10\"\n",
      "with 115 features\n",
      "It has 46 fields\n",
      "Integer64 fields read as strings:  POP90 WHITE90 BLACK90 ASIANPI90 AMIND90 OTHER90 HISP90 POP00 WHITE00 BLACK00 ASIAN00 AMIND00 HAWNPI00 OTHER00 MULTRA00 HISP00 POP10 WHITE10 BLACK10 ASIAN10 AMIND10 HAWNPI10 OTHER10 MULTRA10 HISP10 \n"
     ]
    }
   ],
   "source": [
    "# First let's look at the Howell county and its neighbors\n",
    "\n",
    "#Read in shp file\n",
    "ppolys <- readOGR(\"datasets/mo_counties\",\"st_county10\")"
   ]
  },
  {
   "cell_type": "code",
   "execution_count": 12,
   "metadata": {},
   "outputs": [
    {
     "data": {
      "text/html": [
       "<table>\n",
       "<thead><tr><th></th><th scope=col>STATEFP10</th><th scope=col>COUNTYFP10</th><th scope=col>COUNTYNS10</th><th scope=col>GEOID10</th><th scope=col>NAME10</th><th scope=col>NAMELSAD10</th><th scope=col>LSAD10</th><th scope=col>CLASSFP10</th><th scope=col>MTFCC10</th><th scope=col>CSAFP10</th><th scope=col>...</th><th scope=col>HISP00</th><th scope=col>POP10</th><th scope=col>WHITE10</th><th scope=col>BLACK10</th><th scope=col>ASIAN10</th><th scope=col>AMIND10</th><th scope=col>HAWNPI10</th><th scope=col>OTHER10</th><th scope=col>MULTRA10</th><th scope=col>HISP10</th></tr></thead>\n",
       "<tbody>\n",
       "\t<tr><th scope=row>103</th><td>29           </td><td>091          </td><td>00758500     </td><td>29091        </td><td>Howell       </td><td>Howell County</td><td>06           </td><td>H1           </td><td>G4020        </td><td>NA           </td><td>...          </td><td>450          </td><td>40400        </td><td>38903        </td><td>156          </td><td>198          </td><td>270          </td><td>14           </td><td>202          </td><td>657          </td><td>697          </td></tr>\n",
       "</tbody>\n",
       "</table>\n"
      ],
      "text/latex": [
       "\\begin{tabular}{r|llllllllllllllllllllllllllllllllllllllllllllll}\n",
       "  & STATEFP10 & COUNTYFP10 & COUNTYNS10 & GEOID10 & NAME10 & NAMELSAD10 & LSAD10 & CLASSFP10 & MTFCC10 & CSAFP10 & ... & HISP00 & POP10 & WHITE10 & BLACK10 & ASIAN10 & AMIND10 & HAWNPI10 & OTHER10 & MULTRA10 & HISP10\\\\\n",
       "\\hline\n",
       "\t103 & 29            & 091           & 00758500      & 29091         & Howell        & Howell County & 06            & H1            & G4020         & NA            & ...           & 450           & 40400         & 38903         & 156           & 198           & 270           & 14            & 202           & 657           & 697          \\\\\n",
       "\\end{tabular}\n"
      ],
      "text/markdown": [
       "\n",
       "| <!--/--> | STATEFP10 | COUNTYFP10 | COUNTYNS10 | GEOID10 | NAME10 | NAMELSAD10 | LSAD10 | CLASSFP10 | MTFCC10 | CSAFP10 | ... | HISP00 | POP10 | WHITE10 | BLACK10 | ASIAN10 | AMIND10 | HAWNPI10 | OTHER10 | MULTRA10 | HISP10 | \n",
       "|---|\n",
       "| 103 | 29            | 091           | 00758500      | 29091         | Howell        | Howell County | 06            | H1            | G4020         | NA            | ...           | 450           | 40400         | 38903         | 156           | 198           | 270           | 14            | 202           | 657           | 697           | \n",
       "\n",
       "\n"
      ],
      "text/plain": [
       "    STATEFP10 COUNTYFP10 COUNTYNS10 GEOID10 NAME10 NAMELSAD10    LSAD10\n",
       "103 29        091        00758500   29091   Howell Howell County 06    \n",
       "    CLASSFP10 MTFCC10 CSAFP10 ... HISP00 POP10 WHITE10 BLACK10 ASIAN10 AMIND10\n",
       "103 H1        G4020   NA      ... 450    40400 38903   156     198     270    \n",
       "    HAWNPI10 OTHER10 MULTRA10 HISP10\n",
       "103 14       202     657      697   "
      ]
     },
     "metadata": {},
     "output_type": "display_data"
    }
   ],
   "source": [
    "subset(data, NAME10 == \"Howell\")"
   ]
  },
  {
   "cell_type": "code",
   "execution_count": 13,
   "metadata": {},
   "outputs": [
    {
     "data": {
      "image/png": "[encoded data removed]",
      "text/plain": [
       "Plot with title \"Missouri Counties\""
      ]
     },
     "metadata": {},
     "output_type": "display_data"
    }
   ],
   "source": [
    "#Display the featureclass\n",
    "plot(ppolys,col=\"white\",main='Missouri Counties',cex.main=.8)\n",
    "\n",
    "plot(ppolys[ppolys@data$NAME10 == \"Howell\",], \n",
    "         col=\"red\", add=TRUE,\n",
    "         main='Missouri Counties',cex.main=.8)\n",
    "\n",
    "#Get centroid of polygons\n",
    "centroids <- gCentroid(ppolys, byid=TRUE)\n",
    "centroidLons <- coordinates(centroids)[,1]\n",
    "centroidLats <- coordinates(centroids)[,2]\n",
    "\n",
    "#Label polygons\n",
    "text(centroidLons, centroidLats, labels=ppolys$NAME10,cex=.5)"
   ]
  },
  {
   "cell_type": "code",
   "execution_count": 14,
   "metadata": {
    "collapsed": true
   },
   "outputs": [],
   "source": [
    "howellPoly <- ppolys[ppolys@data$NAME10 == \"Howell\", ]"
   ]
  },
  {
   "cell_type": "code",
   "execution_count": 15,
   "metadata": {
    "collapsed": true
   },
   "outputs": [],
   "source": [
    "#find howell county's index and retrieve its neighborhood\n",
    "HowellCoID <- row.names(howellPoly)"
   ]
  },
  {
   "cell_type": "code",
   "execution_count": 16,
   "metadata": {},
   "outputs": [
    {
     "data": {
      "text/html": [
       "'103'"
      ],
      "text/latex": [
       "'103'"
      ],
      "text/markdown": [
       "'103'"
      ],
      "text/plain": [
       "[1] \"103\""
      ]
     },
     "metadata": {},
     "output_type": "display_data"
    }
   ],
   "source": [
    "HowellCoID"
   ]
  },
  {
   "cell_type": "code",
   "execution_count": 17,
   "metadata": {
    "collapsed": true
   },
   "outputs": [],
   "source": [
    "Howellindex = as.numeric(HowellCoID) + 1\n",
    "Pneighbors <- unlist(ppolys.nb[Howellindex])"
   ]
  },
  {
   "cell_type": "code",
   "execution_count": 18,
   "metadata": {},
   "outputs": [
    {
     "data": {
      "text/html": [
       "<ol class=list-inline>\n",
       "\t<li>88</li>\n",
       "\t<li>92</li>\n",
       "\t<li>102</li>\n",
       "\t<li>109</li>\n",
       "\t<li>112</li>\n",
       "</ol>\n"
      ],
      "text/latex": [
       "\\begin{enumerate*}\n",
       "\\item 88\n",
       "\\item 92\n",
       "\\item 102\n",
       "\\item 109\n",
       "\\item 112\n",
       "\\end{enumerate*}\n"
      ],
      "text/markdown": [
       "1. 88\n",
       "2. 92\n",
       "3. 102\n",
       "4. 109\n",
       "5. 112\n",
       "\n",
       "\n"
      ],
      "text/plain": [
       "[1]  88  92 102 109 112"
      ]
     },
     "metadata": {},
     "output_type": "display_data"
    }
   ],
   "source": [
    "Pneighbors"
   ]
  },
  {
   "cell_type": "code",
   "execution_count": 19,
   "metadata": {},
   "outputs": [
    {
     "data": {
      "text/html": [
       "<ol>\n",
       "\t<li><ol class=list-inline>\n",
       "\t<li>88</li>\n",
       "\t<li>92</li>\n",
       "\t<li>102</li>\n",
       "\t<li>109</li>\n",
       "\t<li>112</li>\n",
       "</ol>\n",
       "</li>\n",
       "</ol>\n"
      ],
      "text/latex": [
       "\\begin{enumerate}\n",
       "\\item \\begin{enumerate*}\n",
       "\\item 88\n",
       "\\item 92\n",
       "\\item 102\n",
       "\\item 109\n",
       "\\item 112\n",
       "\\end{enumerate*}\n",
       "\n",
       "\\end{enumerate}\n"
      ],
      "text/markdown": [
       "1. 1. 88\n",
       "2. 92\n",
       "3. 102\n",
       "4. 109\n",
       "5. 112\n",
       "\n",
       "\n",
       "\n",
       "\n",
       "\n"
      ],
      "text/plain": [
       "[[1]]\n",
       "[1]  88  92 102 109 112\n"
      ]
     },
     "metadata": {},
     "output_type": "display_data"
    }
   ],
   "source": [
    "ppolys.nb[104]"
   ]
  },
  {
   "cell_type": "code",
   "execution_count": 20,
   "metadata": {},
   "outputs": [
    {
     "data": {
      "text/html": [
       "<ol>\n",
       "\t<li><ol class=list-inline>\n",
       "\t<li>94</li>\n",
       "\t<li>97</li>\n",
       "\t<li>107</li>\n",
       "\t<li>113</li>\n",
       "</ol>\n",
       "</li>\n",
       "</ol>\n"
      ],
      "text/latex": [
       "\\begin{enumerate}\n",
       "\\item \\begin{enumerate*}\n",
       "\\item 94\n",
       "\\item 97\n",
       "\\item 107\n",
       "\\item 113\n",
       "\\end{enumerate*}\n",
       "\n",
       "\\end{enumerate}\n"
      ],
      "text/markdown": [
       "1. 1. 94\n",
       "2. 97\n",
       "3. 107\n",
       "4. 113\n",
       "\n",
       "\n",
       "\n",
       "\n",
       "\n"
      ],
      "text/plain": [
       "[[1]]\n",
       "[1]  94  97 107 113\n"
      ]
     },
     "metadata": {},
     "output_type": "display_data"
    }
   ],
   "source": [
    "ppolys.nb[103]"
   ]
  },
  {
   "cell_type": "code",
   "execution_count": 21,
   "metadata": {},
   "outputs": [
    {
     "data": {
      "text/html": [
       "<ol>\n",
       "\t<li><ol class=list-inline>\n",
       "\t<li>3</li>\n",
       "\t<li>13</li>\n",
       "\t<li>16</li>\n",
       "</ol>\n",
       "</li>\n",
       "\t<li><ol class=list-inline>\n",
       "\t<li>4</li>\n",
       "\t<li>14</li>\n",
       "</ol>\n",
       "</li>\n",
       "\t<li><ol class=list-inline>\n",
       "\t<li>1</li>\n",
       "\t<li>5</li>\n",
       "\t<li>12</li>\n",
       "\t<li>13</li>\n",
       "</ol>\n",
       "</li>\n",
       "\t<li><ol class=list-inline>\n",
       "\t<li>2</li>\n",
       "\t<li>7</li>\n",
       "\t<li>10</li>\n",
       "\t<li>14</li>\n",
       "\t<li>17</li>\n",
       "</ol>\n",
       "</li>\n",
       "\t<li><ol class=list-inline>\n",
       "\t<li>3</li>\n",
       "\t<li>6</li>\n",
       "\t<li>12</li>\n",
       "</ol>\n",
       "</li>\n",
       "\t<li><ol class=list-inline>\n",
       "\t<li>5</li>\n",
       "\t<li>8</li>\n",
       "\t<li>11</li>\n",
       "\t<li>12</li>\n",
       "</ol>\n",
       "</li>\n",
       "</ol>\n"
      ],
      "text/latex": [
       "\\begin{enumerate}\n",
       "\\item \\begin{enumerate*}\n",
       "\\item 3\n",
       "\\item 13\n",
       "\\item 16\n",
       "\\end{enumerate*}\n",
       "\n",
       "\\item \\begin{enumerate*}\n",
       "\\item 4\n",
       "\\item 14\n",
       "\\end{enumerate*}\n",
       "\n",
       "\\item \\begin{enumerate*}\n",
       "\\item 1\n",
       "\\item 5\n",
       "\\item 12\n",
       "\\item 13\n",
       "\\end{enumerate*}\n",
       "\n",
       "\\item \\begin{enumerate*}\n",
       "\\item 2\n",
       "\\item 7\n",
       "\\item 10\n",
       "\\item 14\n",
       "\\item 17\n",
       "\\end{enumerate*}\n",
       "\n",
       "\\item \\begin{enumerate*}\n",
       "\\item 3\n",
       "\\item 6\n",
       "\\item 12\n",
       "\\end{enumerate*}\n",
       "\n",
       "\\item \\begin{enumerate*}\n",
       "\\item 5\n",
       "\\item 8\n",
       "\\item 11\n",
       "\\item 12\n",
       "\\end{enumerate*}\n",
       "\n",
       "\\end{enumerate}\n"
      ],
      "text/markdown": [
       "1. 1. 3\n",
       "2. 13\n",
       "3. 16\n",
       "\n",
       "\n",
       "\n",
       "2. 1. 4\n",
       "2. 14\n",
       "\n",
       "\n",
       "\n",
       "3. 1. 1\n",
       "2. 5\n",
       "3. 12\n",
       "4. 13\n",
       "\n",
       "\n",
       "\n",
       "4. 1. 2\n",
       "2. 7\n",
       "3. 10\n",
       "4. 14\n",
       "5. 17\n",
       "\n",
       "\n",
       "\n",
       "5. 1. 3\n",
       "2. 6\n",
       "3. 12\n",
       "\n",
       "\n",
       "\n",
       "6. 1. 5\n",
       "2. 8\n",
       "3. 11\n",
       "4. 12\n",
       "\n",
       "\n",
       "\n",
       "\n",
       "\n"
      ],
      "text/plain": [
       "[[1]]\n",
       "[1]  3 13 16\n",
       "\n",
       "[[2]]\n",
       "[1]  4 14\n",
       "\n",
       "[[3]]\n",
       "[1]  1  5 12 13\n",
       "\n",
       "[[4]]\n",
       "[1]  2  7 10 14 17\n",
       "\n",
       "[[5]]\n",
       "[1]  3  6 12\n",
       "\n",
       "[[6]]\n",
       "[1]  5  8 11 12\n"
      ]
     },
     "metadata": {},
     "output_type": "display_data"
    }
   ],
   "source": [
    "head(ppolys.nb)"
   ]
  },
  {
   "cell_type": "code",
   "execution_count": 22,
   "metadata": {},
   "outputs": [
    {
     "data": {
      "image/png": "[encoded data removed]",
      "text/plain": [
       "plot without title"
      ]
     },
     "metadata": {},
     "output_type": "display_data"
    }
   ],
   "source": [
    "#display howell's neighborhood polygons\n",
    "selNeighbors <- ppolys[Pneighbors,]\n",
    "plot(selNeighbors)"
   ]
  },
  {
   "cell_type": "markdown",
   "metadata": {},
   "source": [
    "### Visualize the Neighborhood Connections\n",
    "\n",
    "The plot() function can actually help us visualize the neighbors. To do this, the coordinates of the neighbors can be plotted as straight lines on a map as is done below."
   ]
  },
  {
   "cell_type": "code",
   "execution_count": 23,
   "metadata": {},
   "outputs": [
    {
     "data": {
      "image/png": "[encoded data removed]",
      "text/plain": [
       "Plot with title \"Adjacent Counties (Rooks Criterion)\""
      ]
     },
     "metadata": {},
     "output_type": "display_data"
    }
   ],
   "source": [
    "#Map features\n",
    "plot(ppolys, col = \"lightgreen\", main = \"Adjacent Counties (Rooks Criterion)\", cex.main = 0.8)\n",
    "\n",
    "#Map neighbors\n",
    "plot(ppolys.nb, coordinates(ppolys), add=TRUE, col=\"red\")"
   ]
  },
  {
   "cell_type": "code",
   "execution_count": 24,
   "metadata": {},
   "outputs": [
    {
     "data": {
      "image/png": "[encoded data removed]",
      "text/plain": [
       "plot without title"
      ]
     },
     "metadata": {},
     "output_type": "display_data"
    }
   ],
   "source": [
    "plot(ppolys, col = \"lightgreen\")\n",
    "plot(selNeighbors, add = TRUE, col = \"red\")"
   ]
  },
  {
   "cell_type": "markdown",
   "metadata": {},
   "source": [
    "Every polygon is represented as a node and the spatial relationships defined between nodes (polygons that share edges or vertices) are rendered as arcs.  Basically what we did was to represent the spatial relationships among polygons in a different, but equivalent manner.  But why bother? Well, as it turns out working with arc/node topologies allows us to take advantage of many mathematical modes of analysis (i.e. statistics, graph theory, etc.)."
   ]
  },
  {
   "cell_type": "markdown",
   "metadata": {},
   "source": [
    "## Spatial Weights Matrix or 0/1 Contiguity Matrix (C)\n",
    "\n",
    "We could also render this set as a matrix of values (called a spatial weights matrix or contiguity matrix) in which each row and column represents a polygon and the values in the matrix C[row][col] = {1, if polygon[col] is a neighbor of polygon[row]; 0, otherwise}.  So in the case of Howell County, C[Howell][Ozark] = 1, C[Howell][Texas] = 1, C[Howell][Adair] = 0, C[Howell][Boone] = 0, etc.  Such spatial weights matricies are standard input for many geostatistical models.  To generate a spatial weights matrix in R, the 'nb2mat' function (spdep library) can be used. This function requires a .nb neighborhood object, which was computed earlier. "
   ]
  },
  {
   "cell_type": "code",
   "execution_count": 25,
   "metadata": {},
   "outputs": [
    {
     "data": {
      "text/html": [
       "<table>\n",
       "<tbody>\n",
       "\t<tr><th scope=row>0</th><td>0  </td><td>0  </td><td>1  </td><td>0  </td><td>0  </td><td>0  </td><td>0  </td><td>0  </td><td>0  </td><td>0  </td><td>...</td><td>0  </td><td>0  </td><td>0  </td><td>0  </td><td>0  </td><td>0  </td><td>0  </td><td>0  </td><td>0  </td><td>0  </td></tr>\n",
       "\t<tr><th scope=row>1</th><td>0  </td><td>0  </td><td>0  </td><td>1  </td><td>0  </td><td>0  </td><td>0  </td><td>0  </td><td>0  </td><td>0  </td><td>...</td><td>0  </td><td>0  </td><td>0  </td><td>0  </td><td>0  </td><td>0  </td><td>0  </td><td>0  </td><td>0  </td><td>0  </td></tr>\n",
       "\t<tr><th scope=row>2</th><td>1  </td><td>0  </td><td>0  </td><td>0  </td><td>1  </td><td>0  </td><td>0  </td><td>0  </td><td>0  </td><td>0  </td><td>...</td><td>0  </td><td>0  </td><td>0  </td><td>0  </td><td>0  </td><td>0  </td><td>0  </td><td>0  </td><td>0  </td><td>0  </td></tr>\n",
       "\t<tr><th scope=row>3</th><td>0  </td><td>1  </td><td>0  </td><td>0  </td><td>0  </td><td>0  </td><td>1  </td><td>0  </td><td>0  </td><td>1  </td><td>...</td><td>0  </td><td>0  </td><td>0  </td><td>0  </td><td>0  </td><td>0  </td><td>0  </td><td>0  </td><td>0  </td><td>0  </td></tr>\n",
       "\t<tr><th scope=row>4</th><td>0  </td><td>0  </td><td>1  </td><td>0  </td><td>0  </td><td>1  </td><td>0  </td><td>0  </td><td>0  </td><td>0  </td><td>...</td><td>0  </td><td>0  </td><td>0  </td><td>0  </td><td>0  </td><td>0  </td><td>0  </td><td>0  </td><td>0  </td><td>0  </td></tr>\n",
       "\t<tr><th scope=row>5</th><td>0  </td><td>0  </td><td>0  </td><td>0  </td><td>1  </td><td>0  </td><td>0  </td><td>1  </td><td>0  </td><td>0  </td><td>...</td><td>0  </td><td>0  </td><td>0  </td><td>0  </td><td>0  </td><td>0  </td><td>0  </td><td>0  </td><td>0  </td><td>0  </td></tr>\n",
       "</tbody>\n",
       "</table>\n"
      ],
      "text/latex": [
       "\\begin{tabular}{r|lllllllllllllllllllllllllllllllllllllllllllllllllllllllllllllllllllllllllllllllllllllllllllllllllllllllllllllllllll}\n",
       "\t0 & 0   & 0   & 1   & 0   & 0   & 0   & 0   & 0   & 0   & 0   & ... & 0   & 0   & 0   & 0   & 0   & 0   & 0   & 0   & 0   & 0  \\\\\n",
       "\t1 & 0   & 0   & 0   & 1   & 0   & 0   & 0   & 0   & 0   & 0   & ... & 0   & 0   & 0   & 0   & 0   & 0   & 0   & 0   & 0   & 0  \\\\\n",
       "\t2 & 1   & 0   & 0   & 0   & 1   & 0   & 0   & 0   & 0   & 0   & ... & 0   & 0   & 0   & 0   & 0   & 0   & 0   & 0   & 0   & 0  \\\\\n",
       "\t3 & 0   & 1   & 0   & 0   & 0   & 0   & 1   & 0   & 0   & 1   & ... & 0   & 0   & 0   & 0   & 0   & 0   & 0   & 0   & 0   & 0  \\\\\n",
       "\t4 & 0   & 0   & 1   & 0   & 0   & 1   & 0   & 0   & 0   & 0   & ... & 0   & 0   & 0   & 0   & 0   & 0   & 0   & 0   & 0   & 0  \\\\\n",
       "\t5 & 0   & 0   & 0   & 0   & 1   & 0   & 0   & 1   & 0   & 0   & ... & 0   & 0   & 0   & 0   & 0   & 0   & 0   & 0   & 0   & 0  \\\\\n",
       "\\end{tabular}\n"
      ],
      "text/markdown": [
       "\n",
       "| 0 | 0   | 0   | 1   | 0   | 0   | 0   | 0   | 0   | 0   | 0   | ... | 0   | 0   | 0   | 0   | 0   | 0   | 0   | 0   | 0   | 0   | \n",
       "| 1 | 0   | 0   | 0   | 1   | 0   | 0   | 0   | 0   | 0   | 0   | ... | 0   | 0   | 0   | 0   | 0   | 0   | 0   | 0   | 0   | 0   | \n",
       "| 2 | 1   | 0   | 0   | 0   | 1   | 0   | 0   | 0   | 0   | 0   | ... | 0   | 0   | 0   | 0   | 0   | 0   | 0   | 0   | 0   | 0   | \n",
       "| 3 | 0   | 1   | 0   | 0   | 0   | 0   | 1   | 0   | 0   | 1   | ... | 0   | 0   | 0   | 0   | 0   | 0   | 0   | 0   | 0   | 0   | \n",
       "| 4 | 0   | 0   | 1   | 0   | 0   | 1   | 0   | 0   | 0   | 0   | ... | 0   | 0   | 0   | 0   | 0   | 0   | 0   | 0   | 0   | 0   | \n",
       "| 5 | 0   | 0   | 0   | 0   | 1   | 0   | 0   | 1   | 0   | 0   | ... | 0   | 0   | 0   | 0   | 0   | 0   | 0   | 0   | 0   | 0   | \n",
       "\n",
       "\n"
      ],
      "text/plain": [
       "  [,1] [,2] [,3] [,4] [,5] [,6] [,7] [,8] [,9] [,10] [,11] [,12] [,13] [,14]\n",
       "0 0    0    1    0    0    0    0    0    0    0     ...   0     0     0    \n",
       "1 0    0    0    1    0    0    0    0    0    0     ...   0     0     0    \n",
       "2 1    0    0    0    1    0    0    0    0    0     ...   0     0     0    \n",
       "3 0    1    0    0    0    0    1    0    0    1     ...   0     0     0    \n",
       "4 0    0    1    0    0    1    0    0    0    0     ...   0     0     0    \n",
       "5 0    0    0    0    1    0    0    1    0    0     ...   0     0     0    \n",
       "  [,15] [,16] [,17] [,18] [,19] [,20] [,21]\n",
       "0 0     0     0     0     0     0     0    \n",
       "1 0     0     0     0     0     0     0    \n",
       "2 0     0     0     0     0     0     0    \n",
       "3 0     0     0     0     0     0     0    \n",
       "4 0     0     0     0     0     0     0    \n",
       "5 0     0     0     0     0     0     0    "
      ]
     },
     "metadata": {},
     "output_type": "display_data"
    }
   ],
   "source": [
    "#Standard binary continuity matrix format\n",
    "ppolys.mat <- nb2mat(ppolys.nb, style='B')\n",
    "head(ppolys.mat)"
   ]
  },
  {
   "cell_type": "markdown",
   "metadata": {},
   "source": [
    "## Row-Normalization\n",
    "\n",
    "Sometimes it is useful to standarize the binary C matrix by the number of 1's in each row - a process otherwise known as row-normalization."
   ]
  },
  {
   "cell_type": "code",
   "execution_count": 27,
   "metadata": {},
   "outputs": [
    {
     "data": {
      "text/html": [
       "<table>\n",
       "<tbody>\n",
       "\t<tr><th scope=row>0</th><td>0.00     </td><td>0.0      </td><td>0.3333333</td><td>0.0      </td><td>0.00     </td><td>0.0000000</td><td>0.0      </td><td>0.00     </td><td>0        </td><td>0.0      </td><td>...      </td><td>0        </td><td>0        </td><td>0        </td><td>0        </td><td>0        </td><td>0        </td><td>0        </td><td>0        </td><td>0        </td><td>0        </td></tr>\n",
       "\t<tr><th scope=row>1</th><td>0.00     </td><td>0.0      </td><td>0.0000000</td><td>0.5      </td><td>0.00     </td><td>0.0000000</td><td>0.0      </td><td>0.00     </td><td>0        </td><td>0.0      </td><td>...      </td><td>0        </td><td>0        </td><td>0        </td><td>0        </td><td>0        </td><td>0        </td><td>0        </td><td>0        </td><td>0        </td><td>0        </td></tr>\n",
       "\t<tr><th scope=row>2</th><td>0.25     </td><td>0.0      </td><td>0.0000000</td><td>0.0      </td><td>0.25     </td><td>0.0000000</td><td>0.0      </td><td>0.00     </td><td>0        </td><td>0.0      </td><td>...      </td><td>0        </td><td>0        </td><td>0        </td><td>0        </td><td>0        </td><td>0        </td><td>0        </td><td>0        </td><td>0        </td><td>0        </td></tr>\n",
       "\t<tr><th scope=row>3</th><td>0.00     </td><td>0.2      </td><td>0.0000000</td><td>0.0      </td><td>0.00     </td><td>0.0000000</td><td>0.2      </td><td>0.00     </td><td>0        </td><td>0.2      </td><td>...      </td><td>0        </td><td>0        </td><td>0        </td><td>0        </td><td>0        </td><td>0        </td><td>0        </td><td>0        </td><td>0        </td><td>0        </td></tr>\n",
       "\t<tr><th scope=row>4</th><td>0.00     </td><td>0.0      </td><td>0.3333333</td><td>0.0      </td><td>0.00     </td><td>0.3333333</td><td>0.0      </td><td>0.00     </td><td>0        </td><td>0.0      </td><td>...      </td><td>0        </td><td>0        </td><td>0        </td><td>0        </td><td>0        </td><td>0        </td><td>0        </td><td>0        </td><td>0        </td><td>0        </td></tr>\n",
       "\t<tr><th scope=row>5</th><td>0.00     </td><td>0.0      </td><td>0.0000000</td><td>0.0      </td><td>0.25     </td><td>0.0000000</td><td>0.0      </td><td>0.25     </td><td>0        </td><td>0.0      </td><td>...      </td><td>0        </td><td>0        </td><td>0        </td><td>0        </td><td>0        </td><td>0        </td><td>0        </td><td>0        </td><td>0        </td><td>0        </td></tr>\n",
       "</tbody>\n",
       "</table>\n"
      ],
      "text/latex": [
       "\\begin{tabular}{r|lllllllllllllllllllllllllllllllllllllllllllllllllllllllllllllllllllllllllllllllllllllllllllllllllllllllllllllllllll}\n",
       "\t0 & 0.00      & 0.0       & 0.3333333 & 0.0       & 0.00      & 0.0000000 & 0.0       & 0.00      & 0         & 0.0       & ...       & 0         & 0         & 0         & 0         & 0         & 0         & 0         & 0         & 0         & 0        \\\\\n",
       "\t1 & 0.00      & 0.0       & 0.0000000 & 0.5       & 0.00      & 0.0000000 & 0.0       & 0.00      & 0         & 0.0       & ...       & 0         & 0         & 0         & 0         & 0         & 0         & 0         & 0         & 0         & 0        \\\\\n",
       "\t2 & 0.25      & 0.0       & 0.0000000 & 0.0       & 0.25      & 0.0000000 & 0.0       & 0.00      & 0         & 0.0       & ...       & 0         & 0         & 0         & 0         & 0         & 0         & 0         & 0         & 0         & 0        \\\\\n",
       "\t3 & 0.00      & 0.2       & 0.0000000 & 0.0       & 0.00      & 0.0000000 & 0.2       & 0.00      & 0         & 0.2       & ...       & 0         & 0         & 0         & 0         & 0         & 0         & 0         & 0         & 0         & 0        \\\\\n",
       "\t4 & 0.00      & 0.0       & 0.3333333 & 0.0       & 0.00      & 0.3333333 & 0.0       & 0.00      & 0         & 0.0       & ...       & 0         & 0         & 0         & 0         & 0         & 0         & 0         & 0         & 0         & 0        \\\\\n",
       "\t5 & 0.00      & 0.0       & 0.0000000 & 0.0       & 0.25      & 0.0000000 & 0.0       & 0.25      & 0         & 0.0       & ...       & 0         & 0         & 0         & 0         & 0         & 0         & 0         & 0         & 0         & 0        \\\\\n",
       "\\end{tabular}\n"
      ],
      "text/markdown": [
       "\n",
       "| 0 | 0.00      | 0.0       | 0.3333333 | 0.0       | 0.00      | 0.0000000 | 0.0       | 0.00      | 0         | 0.0       | ...       | 0         | 0         | 0         | 0         | 0         | 0         | 0         | 0         | 0         | 0         | \n",
       "| 1 | 0.00      | 0.0       | 0.0000000 | 0.5       | 0.00      | 0.0000000 | 0.0       | 0.00      | 0         | 0.0       | ...       | 0         | 0         | 0         | 0         | 0         | 0         | 0         | 0         | 0         | 0         | \n",
       "| 2 | 0.25      | 0.0       | 0.0000000 | 0.0       | 0.25      | 0.0000000 | 0.0       | 0.00      | 0         | 0.0       | ...       | 0         | 0         | 0         | 0         | 0         | 0         | 0         | 0         | 0         | 0         | \n",
       "| 3 | 0.00      | 0.2       | 0.0000000 | 0.0       | 0.00      | 0.0000000 | 0.2       | 0.00      | 0         | 0.2       | ...       | 0         | 0         | 0         | 0         | 0         | 0         | 0         | 0         | 0         | 0         | \n",
       "| 4 | 0.00      | 0.0       | 0.3333333 | 0.0       | 0.00      | 0.3333333 | 0.0       | 0.00      | 0         | 0.0       | ...       | 0         | 0         | 0         | 0         | 0         | 0         | 0         | 0         | 0         | 0         | \n",
       "| 5 | 0.00      | 0.0       | 0.0000000 | 0.0       | 0.25      | 0.0000000 | 0.0       | 0.25      | 0         | 0.0       | ...       | 0         | 0         | 0         | 0         | 0         | 0         | 0         | 0         | 0         | 0         | \n",
       "\n",
       "\n"
      ],
      "text/plain": [
       "  [,1] [,2] [,3]      [,4] [,5] [,6]      [,7] [,8] [,9] [,10] [,11] [,12]\n",
       "0 0.00 0.0  0.3333333 0.0  0.00 0.0000000 0.0  0.00 0    0.0   ...   0    \n",
       "1 0.00 0.0  0.0000000 0.5  0.00 0.0000000 0.0  0.00 0    0.0   ...   0    \n",
       "2 0.25 0.0  0.0000000 0.0  0.25 0.0000000 0.0  0.00 0    0.0   ...   0    \n",
       "3 0.00 0.2  0.0000000 0.0  0.00 0.0000000 0.2  0.00 0    0.2   ...   0    \n",
       "4 0.00 0.0  0.3333333 0.0  0.00 0.3333333 0.0  0.00 0    0.0   ...   0    \n",
       "5 0.00 0.0  0.0000000 0.0  0.25 0.0000000 0.0  0.25 0    0.0   ...   0    \n",
       "  [,13] [,14] [,15] [,16] [,17] [,18] [,19] [,20] [,21]\n",
       "0 0     0     0     0     0     0     0     0     0    \n",
       "1 0     0     0     0     0     0     0     0     0    \n",
       "2 0     0     0     0     0     0     0     0     0    \n",
       "3 0     0     0     0     0     0     0     0     0    \n",
       "4 0     0     0     0     0     0     0     0     0    \n",
       "5 0     0     0     0     0     0     0     0     0    "
      ]
     },
     "metadata": {},
     "output_type": "display_data"
    }
   ],
   "source": [
    "#Row standardized (each row element divided by number of neighbors in row) continuity matrix format\n",
    "ppolys.mat <- nb2mat(ppolys.nb,style='W')\n",
    "head(ppolys.mat)"
   ]
  },
  {
   "cell_type": "markdown",
   "metadata": {},
   "source": [
    "Rather than modeling neighborhoods simply based on polygon adjacency, distance-based relationships can also be considered.  For example, the distance between a polygon and its adjacent neighbors may vary.  As such, the relationship between each adjacent neighbor could be weighted by distance to that neighbor.  \n",
    "\n",
    "In the following example, the 'nbdists' function (spdep library) is first applied to compute distances between the centroids of polygons.  Then, distance can be augmented by some function (i.e. power, exponential, etc.) indicating how some relationship declines with increasing distance.  Next, the .nb object can be converted to a list, in which each neighbor is weighted by its distance to a polygon. What units are these distance measures? Might need to think back to the coordinate reference system lab."
   ]
  },
  {
   "cell_type": "code",
   "execution_count": 28,
   "metadata": {},
   "outputs": [
    {
     "data": {
      "text/html": [
       "<ol>\n",
       "\t<li><ol class=list-inline>\n",
       "\t<li>3</li>\n",
       "\t<li>13</li>\n",
       "\t<li>16</li>\n",
       "</ol>\n",
       "</li>\n",
       "\t<li><ol class=list-inline>\n",
       "\t<li>4</li>\n",
       "\t<li>14</li>\n",
       "</ol>\n",
       "</li>\n",
       "\t<li><ol class=list-inline>\n",
       "\t<li>1</li>\n",
       "\t<li>5</li>\n",
       "\t<li>12</li>\n",
       "\t<li>13</li>\n",
       "</ol>\n",
       "</li>\n",
       "\t<li><ol class=list-inline>\n",
       "\t<li>2</li>\n",
       "\t<li>7</li>\n",
       "\t<li>10</li>\n",
       "\t<li>14</li>\n",
       "\t<li>17</li>\n",
       "</ol>\n",
       "</li>\n",
       "\t<li><ol class=list-inline>\n",
       "\t<li>3</li>\n",
       "\t<li>6</li>\n",
       "\t<li>12</li>\n",
       "</ol>\n",
       "</li>\n",
       "</ol>\n"
      ],
      "text/latex": [
       "\\begin{enumerate}\n",
       "\\item \\begin{enumerate*}\n",
       "\\item 3\n",
       "\\item 13\n",
       "\\item 16\n",
       "\\end{enumerate*}\n",
       "\n",
       "\\item \\begin{enumerate*}\n",
       "\\item 4\n",
       "\\item 14\n",
       "\\end{enumerate*}\n",
       "\n",
       "\\item \\begin{enumerate*}\n",
       "\\item 1\n",
       "\\item 5\n",
       "\\item 12\n",
       "\\item 13\n",
       "\\end{enumerate*}\n",
       "\n",
       "\\item \\begin{enumerate*}\n",
       "\\item 2\n",
       "\\item 7\n",
       "\\item 10\n",
       "\\item 14\n",
       "\\item 17\n",
       "\\end{enumerate*}\n",
       "\n",
       "\\item \\begin{enumerate*}\n",
       "\\item 3\n",
       "\\item 6\n",
       "\\item 12\n",
       "\\end{enumerate*}\n",
       "\n",
       "\\end{enumerate}\n"
      ],
      "text/markdown": [
       "1. 1. 3\n",
       "2. 13\n",
       "3. 16\n",
       "\n",
       "\n",
       "\n",
       "2. 1. 4\n",
       "2. 14\n",
       "\n",
       "\n",
       "\n",
       "3. 1. 1\n",
       "2. 5\n",
       "3. 12\n",
       "4. 13\n",
       "\n",
       "\n",
       "\n",
       "4. 1. 2\n",
       "2. 7\n",
       "3. 10\n",
       "4. 14\n",
       "5. 17\n",
       "\n",
       "\n",
       "\n",
       "5. 1. 3\n",
       "2. 6\n",
       "3. 12\n",
       "\n",
       "\n",
       "\n",
       "\n",
       "\n"
      ],
      "text/plain": [
       "[[1]]\n",
       "[1]  3 13 16\n",
       "\n",
       "[[2]]\n",
       "[1]  4 14\n",
       "\n",
       "[[3]]\n",
       "[1]  1  5 12 13\n",
       "\n",
       "[[4]]\n",
       "[1]  2  7 10 14 17\n",
       "\n",
       "[[5]]\n",
       "[1]  3  6 12\n"
      ]
     },
     "metadata": {},
     "output_type": "display_data"
    }
   ],
   "source": [
    "ppolys.nb[1:5]"
   ]
  },
  {
   "cell_type": "code",
   "execution_count": 29,
   "metadata": {},
   "outputs": [
    {
     "data": {
      "text/plain": [
       "SpatialPoints:\n",
       "         x       y\n",
       "0 607053.3 4474061\n",
       "1 294043.0 4478407\n",
       "2 572325.2 4478337\n",
       "3 340082.6 4469490\n",
       "4 540610.7 4480061\n",
       "Coordinate Reference System (CRS) arguments: +proj=utm +zone=15\n",
       "+datum=NAD83 +units=m +no_defs +ellps=GRS80 +towgs84=0,0,0 "
      ]
     },
     "metadata": {},
     "output_type": "display_data"
    }
   ],
   "source": [
    "centroids[1:5]"
   ]
  },
  {
   "cell_type": "code",
   "execution_count": 30,
   "metadata": {
    "collapsed": true
   },
   "outputs": [],
   "source": [
    "#Compute distance to each neighbor\n",
    "ndlist <- nbdists(ppolys.nb, coordinates(centroids))"
   ]
  },
  {
   "cell_type": "code",
   "execution_count": 31,
   "metadata": {},
   "outputs": [
    {
     "data": {
      "text/html": [
       "<ol>\n",
       "\t<li><ol class=list-inline>\n",
       "\t<li>34990.4153368089</li>\n",
       "\t<li>46849.566418347</li>\n",
       "\t<li>34820.9448413516</li>\n",
       "</ol>\n",
       "</li>\n",
       "\t<li><ol class=list-inline>\n",
       "\t<li>46895.0903577379</li>\n",
       "\t<li>41515.7896874841</li>\n",
       "</ol>\n",
       "</li>\n",
       "\t<li><ol class=list-inline>\n",
       "\t<li>34990.4153368089</li>\n",
       "\t<li>31761.3097875903</li>\n",
       "\t<li>48285.1537601856</li>\n",
       "\t<li>36008.0044285923</li>\n",
       "</ol>\n",
       "</li>\n",
       "\t<li><ol class=list-inline>\n",
       "\t<li>46895.0903577379</li>\n",
       "\t<li>41291.1274950996</li>\n",
       "\t<li>43502.8325680159</li>\n",
       "\t<li>40899.9461361142</li>\n",
       "\t<li>42450.6368824545</li>\n",
       "</ol>\n",
       "</li>\n",
       "\t<li><ol class=list-inline>\n",
       "\t<li>31761.3097875903</li>\n",
       "\t<li>41983.0484874524</li>\n",
       "\t<li>31776.7919807503</li>\n",
       "</ol>\n",
       "</li>\n",
       "</ol>\n"
      ],
      "text/latex": [
       "\\begin{enumerate}\n",
       "\\item \\begin{enumerate*}\n",
       "\\item 34990.4153368089\n",
       "\\item 46849.566418347\n",
       "\\item 34820.9448413516\n",
       "\\end{enumerate*}\n",
       "\n",
       "\\item \\begin{enumerate*}\n",
       "\\item 46895.0903577379\n",
       "\\item 41515.7896874841\n",
       "\\end{enumerate*}\n",
       "\n",
       "\\item \\begin{enumerate*}\n",
       "\\item 34990.4153368089\n",
       "\\item 31761.3097875903\n",
       "\\item 48285.1537601856\n",
       "\\item 36008.0044285923\n",
       "\\end{enumerate*}\n",
       "\n",
       "\\item \\begin{enumerate*}\n",
       "\\item 46895.0903577379\n",
       "\\item 41291.1274950996\n",
       "\\item 43502.8325680159\n",
       "\\item 40899.9461361142\n",
       "\\item 42450.6368824545\n",
       "\\end{enumerate*}\n",
       "\n",
       "\\item \\begin{enumerate*}\n",
       "\\item 31761.3097875903\n",
       "\\item 41983.0484874524\n",
       "\\item 31776.7919807503\n",
       "\\end{enumerate*}\n",
       "\n",
       "\\end{enumerate}\n"
      ],
      "text/markdown": [
       "1. 1. 34990.4153368089\n",
       "2. 46849.566418347\n",
       "3. 34820.9448413516\n",
       "\n",
       "\n",
       "\n",
       "2. 1. 46895.0903577379\n",
       "2. 41515.7896874841\n",
       "\n",
       "\n",
       "\n",
       "3. 1. 34990.4153368089\n",
       "2. 31761.3097875903\n",
       "3. 48285.1537601856\n",
       "4. 36008.0044285923\n",
       "\n",
       "\n",
       "\n",
       "4. 1. 46895.0903577379\n",
       "2. 41291.1274950996\n",
       "3. 43502.8325680159\n",
       "4. 40899.9461361142\n",
       "5. 42450.6368824545\n",
       "\n",
       "\n",
       "\n",
       "5. 1. 31761.3097875903\n",
       "2. 41983.0484874524\n",
       "3. 31776.7919807503\n",
       "\n",
       "\n",
       "\n",
       "\n",
       "\n"
      ],
      "text/plain": [
       "[[1]]\n",
       "[1] 34990.42 46849.57 34820.94\n",
       "\n",
       "[[2]]\n",
       "[1] 46895.09 41515.79\n",
       "\n",
       "[[3]]\n",
       "[1] 34990.42 31761.31 48285.15 36008.00\n",
       "\n",
       "[[4]]\n",
       "[1] 46895.09 41291.13 43502.83 40899.95 42450.64\n",
       "\n",
       "[[5]]\n",
       "[1] 31761.31 41983.05 31776.79\n"
      ]
     },
     "metadata": {},
     "output_type": "display_data"
    }
   ],
   "source": [
    "ndlist[1:5]"
   ]
  },
  {
   "cell_type": "code",
   "execution_count": 32,
   "metadata": {},
   "outputs": [
    {
     "data": {
      "text/html": [
       "<ol>\n",
       "\t<li><ol class=list-inline>\n",
       "\t<li>34990.4153368089</li>\n",
       "\t<li>46849.566418347</li>\n",
       "\t<li>34820.9448413516</li>\n",
       "</ol>\n",
       "</li>\n",
       "\t<li><ol class=list-inline>\n",
       "\t<li>46895.0903577379</li>\n",
       "\t<li>41515.7896874841</li>\n",
       "</ol>\n",
       "</li>\n",
       "\t<li><ol class=list-inline>\n",
       "\t<li>34990.4153368089</li>\n",
       "\t<li>31761.3097875903</li>\n",
       "\t<li>48285.1537601856</li>\n",
       "\t<li>36008.0044285923</li>\n",
       "</ol>\n",
       "</li>\n",
       "\t<li><ol class=list-inline>\n",
       "\t<li>46895.0903577379</li>\n",
       "\t<li>41291.1274950996</li>\n",
       "\t<li>43502.8325680159</li>\n",
       "\t<li>40899.9461361142</li>\n",
       "\t<li>42450.6368824545</li>\n",
       "</ol>\n",
       "</li>\n",
       "\t<li><ol class=list-inline>\n",
       "\t<li>31761.3097875903</li>\n",
       "\t<li>41983.0484874524</li>\n",
       "\t<li>31776.7919807503</li>\n",
       "</ol>\n",
       "</li>\n",
       "</ol>\n"
      ],
      "text/latex": [
       "\\begin{enumerate}\n",
       "\\item \\begin{enumerate*}\n",
       "\\item 34990.4153368089\n",
       "\\item 46849.566418347\n",
       "\\item 34820.9448413516\n",
       "\\end{enumerate*}\n",
       "\n",
       "\\item \\begin{enumerate*}\n",
       "\\item 46895.0903577379\n",
       "\\item 41515.7896874841\n",
       "\\end{enumerate*}\n",
       "\n",
       "\\item \\begin{enumerate*}\n",
       "\\item 34990.4153368089\n",
       "\\item 31761.3097875903\n",
       "\\item 48285.1537601856\n",
       "\\item 36008.0044285923\n",
       "\\end{enumerate*}\n",
       "\n",
       "\\item \\begin{enumerate*}\n",
       "\\item 46895.0903577379\n",
       "\\item 41291.1274950996\n",
       "\\item 43502.8325680159\n",
       "\\item 40899.9461361142\n",
       "\\item 42450.6368824545\n",
       "\\end{enumerate*}\n",
       "\n",
       "\\item \\begin{enumerate*}\n",
       "\\item 31761.3097875903\n",
       "\\item 41983.0484874524\n",
       "\\item 31776.7919807503\n",
       "\\end{enumerate*}\n",
       "\n",
       "\\end{enumerate}\n"
      ],
      "text/markdown": [
       "1. 1. 34990.4153368089\n",
       "2. 46849.566418347\n",
       "3. 34820.9448413516\n",
       "\n",
       "\n",
       "\n",
       "2. 1. 46895.0903577379\n",
       "2. 41515.7896874841\n",
       "\n",
       "\n",
       "\n",
       "3. 1. 34990.4153368089\n",
       "2. 31761.3097875903\n",
       "3. 48285.1537601856\n",
       "4. 36008.0044285923\n",
       "\n",
       "\n",
       "\n",
       "4. 1. 46895.0903577379\n",
       "2. 41291.1274950996\n",
       "3. 43502.8325680159\n",
       "4. 40899.9461361142\n",
       "5. 42450.6368824545\n",
       "\n",
       "\n",
       "\n",
       "5. 1. 31761.3097875903\n",
       "2. 41983.0484874524\n",
       "3. 31776.7919807503\n",
       "\n",
       "\n",
       "\n",
       "\n",
       "\n"
      ],
      "text/plain": [
       "[[1]]\n",
       "[1] 34990.42 46849.57 34820.94\n",
       "\n",
       "[[2]]\n",
       "[1] 46895.09 41515.79\n",
       "\n",
       "[[3]]\n",
       "[1] 34990.42 31761.31 48285.15 36008.00\n",
       "\n",
       "[[4]]\n",
       "[1] 46895.09 41291.13 43502.83 40899.95 42450.64\n",
       "\n",
       "[[5]]\n",
       "[1] 31761.31 41983.05 31776.79\n"
      ]
     },
     "metadata": {},
     "output_type": "display_data"
    }
   ],
   "source": [
    "#Apply some sort of function to distance if desired...i.e. affect decreases with increasing distance\n",
    "ndlist <- lapply(ndlist,function(x){ x })\n",
    "\n",
    "ndlist[0:5]"
   ]
  },
  {
   "cell_type": "code",
   "execution_count": 33,
   "metadata": {},
   "outputs": [
    {
     "data": {
      "text/plain": [
       "Characteristics of weights list object:\n",
       "Neighbour list object:\n",
       "Number of regions: 115 \n",
       "Number of nonzero links: 588 \n",
       "Percentage nonzero weights: 4.446125 \n",
       "Average number of links: 5.113043 \n",
       "\n",
       "Weights style: B \n",
       "Weights constants summary:\n",
       "    n    nn       S0          S1          S2\n",
       "B 115 13225 25916155 2.37214e+12 2.60245e+13"
      ]
     },
     "metadata": {},
     "output_type": "display_data"
    }
   ],
   "source": [
    "#Convert to neighborhood list\n",
    "ppolys.nd.w.d <- nb2listw(ppolys.nb, style = 'B', glist = ndlist)\n",
    "\n",
    "ppolys.nd.w.d"
   ]
  },
  {
   "cell_type": "code",
   "execution_count": 34,
   "metadata": {},
   "outputs": [
    {
     "data": {
      "text/html": [
       "<ol class=list-inline>\n",
       "\t<li>'style'</li>\n",
       "\t<li>'neighbours'</li>\n",
       "\t<li>'weights'</li>\n",
       "</ol>\n"
      ],
      "text/latex": [
       "\\begin{enumerate*}\n",
       "\\item 'style'\n",
       "\\item 'neighbours'\n",
       "\\item 'weights'\n",
       "\\end{enumerate*}\n"
      ],
      "text/markdown": [
       "1. 'style'\n",
       "2. 'neighbours'\n",
       "3. 'weights'\n",
       "\n",
       "\n"
      ],
      "text/plain": [
       "[1] \"style\"      \"neighbours\" \"weights\"   "
      ]
     },
     "metadata": {},
     "output_type": "display_data"
    }
   ],
   "source": [
    "names(ppolys.nd.w.d)"
   ]
  },
  {
   "cell_type": "code",
   "execution_count": 35,
   "metadata": {},
   "outputs": [
    {
     "data": {
      "text/html": [
       "<ol>\n",
       "\t<li><ol class=list-inline>\n",
       "\t<li>34990.4153368089</li>\n",
       "\t<li>46849.566418347</li>\n",
       "\t<li>34820.9448413516</li>\n",
       "</ol>\n",
       "</li>\n",
       "\t<li><ol class=list-inline>\n",
       "\t<li>46895.0903577379</li>\n",
       "\t<li>41515.7896874841</li>\n",
       "</ol>\n",
       "</li>\n",
       "\t<li><ol class=list-inline>\n",
       "\t<li>34990.4153368089</li>\n",
       "\t<li>31761.3097875903</li>\n",
       "\t<li>48285.1537601856</li>\n",
       "\t<li>36008.0044285923</li>\n",
       "</ol>\n",
       "</li>\n",
       "\t<li><ol class=list-inline>\n",
       "\t<li>46895.0903577379</li>\n",
       "\t<li>41291.1274950996</li>\n",
       "\t<li>43502.8325680159</li>\n",
       "\t<li>40899.9461361142</li>\n",
       "\t<li>42450.6368824545</li>\n",
       "</ol>\n",
       "</li>\n",
       "\t<li><ol class=list-inline>\n",
       "\t<li>31761.3097875903</li>\n",
       "\t<li>41983.0484874524</li>\n",
       "\t<li>31776.7919807503</li>\n",
       "</ol>\n",
       "</li>\n",
       "</ol>\n"
      ],
      "text/latex": [
       "\\begin{enumerate}\n",
       "\\item \\begin{enumerate*}\n",
       "\\item 34990.4153368089\n",
       "\\item 46849.566418347\n",
       "\\item 34820.9448413516\n",
       "\\end{enumerate*}\n",
       "\n",
       "\\item \\begin{enumerate*}\n",
       "\\item 46895.0903577379\n",
       "\\item 41515.7896874841\n",
       "\\end{enumerate*}\n",
       "\n",
       "\\item \\begin{enumerate*}\n",
       "\\item 34990.4153368089\n",
       "\\item 31761.3097875903\n",
       "\\item 48285.1537601856\n",
       "\\item 36008.0044285923\n",
       "\\end{enumerate*}\n",
       "\n",
       "\\item \\begin{enumerate*}\n",
       "\\item 46895.0903577379\n",
       "\\item 41291.1274950996\n",
       "\\item 43502.8325680159\n",
       "\\item 40899.9461361142\n",
       "\\item 42450.6368824545\n",
       "\\end{enumerate*}\n",
       "\n",
       "\\item \\begin{enumerate*}\n",
       "\\item 31761.3097875903\n",
       "\\item 41983.0484874524\n",
       "\\item 31776.7919807503\n",
       "\\end{enumerate*}\n",
       "\n",
       "\\end{enumerate}\n"
      ],
      "text/markdown": [
       "1. 1. 34990.4153368089\n",
       "2. 46849.566418347\n",
       "3. 34820.9448413516\n",
       "\n",
       "\n",
       "\n",
       "2. 1. 46895.0903577379\n",
       "2. 41515.7896874841\n",
       "\n",
       "\n",
       "\n",
       "3. 1. 34990.4153368089\n",
       "2. 31761.3097875903\n",
       "3. 48285.1537601856\n",
       "4. 36008.0044285923\n",
       "\n",
       "\n",
       "\n",
       "4. 1. 46895.0903577379\n",
       "2. 41291.1274950996\n",
       "3. 43502.8325680159\n",
       "4. 40899.9461361142\n",
       "5. 42450.6368824545\n",
       "\n",
       "\n",
       "\n",
       "5. 1. 31761.3097875903\n",
       "2. 41983.0484874524\n",
       "3. 31776.7919807503\n",
       "\n",
       "\n",
       "\n",
       "\n",
       "\n"
      ],
      "text/plain": [
       "[[1]]\n",
       "[1] 34990.42 46849.57 34820.94\n",
       "\n",
       "[[2]]\n",
       "[1] 46895.09 41515.79\n",
       "\n",
       "[[3]]\n",
       "[1] 34990.42 31761.31 48285.15 36008.00\n",
       "\n",
       "[[4]]\n",
       "[1] 46895.09 41291.13 43502.83 40899.95 42450.64\n",
       "\n",
       "[[5]]\n",
       "[1] 31761.31 41983.05 31776.79\n"
      ]
     },
     "metadata": {},
     "output_type": "display_data"
    }
   ],
   "source": [
    "ppolys.nd.w.d$weights[0:5]"
   ]
  },
  {
   "cell_type": "markdown",
   "metadata": {},
   "source": [
    "## Higher order neighbors (spatial lags)\n",
    "What if we'd like to define the neighborhood of a polygon (polygon A) as the set of polygons that share an edge with polygon A (refer to these as set A1) as well as the polygons that share an edge with polygons in set A1 (refer to these as set A2)?  These hierarchical neighborhoods are often referred to as orders (1st order or 2nd order neighborhoods in this example) or as spatial lags."
   ]
  },
  {
   "cell_type": "markdown",
   "metadata": {},
   "source": [
    "### Referencing Higher Order Neighbors\n",
    "\n",
    "What if the 2nd order neighbors of Howell County were needed?  Some basic set operations can do the trick. First, select the neighbors of Howell County. Next, iterate over the neighborhoods of the neighbors. Track if any new polygons are encounted other than those in Howell's neighborhood."
   ]
  },
  {
   "cell_type": "code",
   "execution_count": 36,
   "metadata": {
    "collapsed": true
   },
   "outputs": [],
   "source": [
    "#find howell county's index and retrieve its neighborhood\n",
    "HowellCoID <- row.names(ppolys[ppolys@data$NAME10 == 'Howell',])\n",
    "Howellindex <- as.numeric(HowellCoID) + 1\n",
    "Pneighbors  <- unlist(ppolys.nb[Howellindex])"
   ]
  },
  {
   "cell_type": "code",
   "execution_count": 37,
   "metadata": {},
   "outputs": [
    {
     "data": {
      "text/html": [
       "'103'"
      ],
      "text/latex": [
       "'103'"
      ],
      "text/markdown": [
       "'103'"
      ],
      "text/plain": [
       "[1] \"103\""
      ]
     },
     "metadata": {},
     "output_type": "display_data"
    }
   ],
   "source": [
    "HowellCoID"
   ]
  },
  {
   "cell_type": "code",
   "execution_count": 38,
   "metadata": {},
   "outputs": [
    {
     "data": {
      "text/html": [
       "104"
      ],
      "text/latex": [
       "104"
      ],
      "text/markdown": [
       "104"
      ],
      "text/plain": [
       "[1] 104"
      ]
     },
     "metadata": {},
     "output_type": "display_data"
    }
   ],
   "source": [
    "Howellindex"
   ]
  },
  {
   "cell_type": "code",
   "execution_count": 39,
   "metadata": {},
   "outputs": [
    {
     "data": {
      "text/html": [
       "<ol class=list-inline>\n",
       "\t<li>88</li>\n",
       "\t<li>92</li>\n",
       "\t<li>102</li>\n",
       "\t<li>109</li>\n",
       "\t<li>112</li>\n",
       "</ol>\n"
      ],
      "text/latex": [
       "\\begin{enumerate*}\n",
       "\\item 88\n",
       "\\item 92\n",
       "\\item 102\n",
       "\\item 109\n",
       "\\item 112\n",
       "\\end{enumerate*}\n"
      ],
      "text/markdown": [
       "1. 88\n",
       "2. 92\n",
       "3. 102\n",
       "4. 109\n",
       "5. 112\n",
       "\n",
       "\n"
      ],
      "text/plain": [
       "[1]  88  92 102 109 112"
      ]
     },
     "metadata": {},
     "output_type": "display_data"
    }
   ],
   "source": [
    "Pneighbors"
   ]
  },
  {
   "cell_type": "code",
   "execution_count": 40,
   "metadata": {
    "collapsed": true
   },
   "outputs": [],
   "source": [
    "Pneighbors  <- append(Pneighbors, Howellindex)"
   ]
  },
  {
   "cell_type": "code",
   "execution_count": 41,
   "metadata": {},
   "outputs": [
    {
     "data": {
      "text/html": [
       "<ol class=list-inline>\n",
       "\t<li>88</li>\n",
       "\t<li>92</li>\n",
       "\t<li>102</li>\n",
       "\t<li>109</li>\n",
       "\t<li>112</li>\n",
       "\t<li>104</li>\n",
       "</ol>\n"
      ],
      "text/latex": [
       "\\begin{enumerate*}\n",
       "\\item 88\n",
       "\\item 92\n",
       "\\item 102\n",
       "\\item 109\n",
       "\\item 112\n",
       "\\item 104\n",
       "\\end{enumerate*}\n"
      ],
      "text/markdown": [
       "1. 88\n",
       "2. 92\n",
       "3. 102\n",
       "4. 109\n",
       "5. 112\n",
       "6. 104\n",
       "\n",
       "\n"
      ],
      "text/plain": [
       "[1]  88  92 102 109 112 104"
      ]
     },
     "metadata": {},
     "output_type": "display_data"
    }
   ],
   "source": [
    "Pneighbors"
   ]
  },
  {
   "cell_type": "code",
   "execution_count": 42,
   "metadata": {
    "collapsed": true
   },
   "outputs": [],
   "source": [
    "Sneighbors <- c()"
   ]
  },
  {
   "cell_type": "code",
   "execution_count": 43,
   "metadata": {},
   "outputs": [
    {
     "name": "stdout",
     "output_type": "stream",
     "text": [
      "[1] \"ci: 88\"\n",
      "[1] \"ppolys.nb[as.numeric(ci): c(70, 75, 79, 81, 91, 92, 102, 104)\"\n",
      "[1] \"cc: 70\"  \"cc: 75\"  \"cc: 79\"  \"cc: 81\"  \"cc: 91\"  \"cc: 92\"  \"cc: 102\"\n",
      "[8] \"cc: 104\"\n",
      "[1] \"kk: 70\" \"kk: 75\" \"kk: 79\" \"kk: 81\" \"kk: 91\"\n",
      "[1] \"Sneighbors: 70\" \"Sneighbors: 75\" \"Sneighbors: 79\" \"Sneighbors: 81\"\n",
      "[5] \"Sneighbors: 91\"\n",
      "[1] \"==================\"\n",
      "[1] \"ci: 92\"\n",
      "[1] \"ppolys.nb[as.numeric(ci): c(81, 87, 88, 100, 104, 109)\"\n",
      "[1] \"cc: 81\"  \"cc: 87\"  \"cc: 88\"  \"cc: 100\" \"cc: 104\" \"cc: 109\"\n",
      "[1] \"kk: 81\"  \"kk: 87\"  \"kk: 100\"\n",
      "[1] \"Sneighbors: 70\"  \"Sneighbors: 75\"  \"Sneighbors: 79\"  \"Sneighbors: 81\" \n",
      "[5] \"Sneighbors: 91\"  \"Sneighbors: 81\"  \"Sneighbors: 87\"  \"Sneighbors: 100\"\n",
      "[1] \"==================\"\n",
      "[1] \"ci: 102\"\n",
      "[1] \"ppolys.nb[as.numeric(ci): c(88, 90, 91, 101, 104, 111, 112)\"\n",
      "[1] \"cc: 88\"  \"cc: 90\"  \"cc: 91\"  \"cc: 101\" \"cc: 104\" \"cc: 111\" \"cc: 112\"\n",
      "[1] \"kk: 90\"  \"kk: 91\"  \"kk: 101\" \"kk: 111\"\n",
      " [1] \"Sneighbors: 70\"  \"Sneighbors: 75\"  \"Sneighbors: 79\"  \"Sneighbors: 81\" \n",
      " [5] \"Sneighbors: 91\"  \"Sneighbors: 81\"  \"Sneighbors: 87\"  \"Sneighbors: 100\"\n",
      " [9] \"Sneighbors: 90\"  \"Sneighbors: 91\"  \"Sneighbors: 101\" \"Sneighbors: 111\"\n",
      "[1] \"==================\"\n",
      "[1] \"ci: 109\"\n",
      "[1] \"ppolys.nb[as.numeric(ci): c(92, 100, 104, 110)\"\n",
      "[1] \"cc: 92\"  \"cc: 100\" \"cc: 104\" \"cc: 110\"\n",
      "[1] \"kk: 100\" \"kk: 110\"\n",
      " [1] \"Sneighbors: 70\"  \"Sneighbors: 75\"  \"Sneighbors: 79\"  \"Sneighbors: 81\" \n",
      " [5] \"Sneighbors: 91\"  \"Sneighbors: 81\"  \"Sneighbors: 87\"  \"Sneighbors: 100\"\n",
      " [9] \"Sneighbors: 90\"  \"Sneighbors: 91\"  \"Sneighbors: 101\" \"Sneighbors: 111\"\n",
      "[13] \"Sneighbors: 100\" \"Sneighbors: 110\"\n",
      "[1] \"==================\"\n",
      "[1] \"ci: 112\"\n",
      "[1] \"ppolys.nb[as.numeric(ci): c(102, 104, 111)\"\n",
      "[1] \"cc: 102\" \"cc: 104\" \"cc: 111\"\n",
      "[1] \"kk: 111\"\n",
      " [1] \"Sneighbors: 70\"  \"Sneighbors: 75\"  \"Sneighbors: 79\"  \"Sneighbors: 81\" \n",
      " [5] \"Sneighbors: 91\"  \"Sneighbors: 81\"  \"Sneighbors: 87\"  \"Sneighbors: 100\"\n",
      " [9] \"Sneighbors: 90\"  \"Sneighbors: 91\"  \"Sneighbors: 101\" \"Sneighbors: 111\"\n",
      "[13] \"Sneighbors: 100\" \"Sneighbors: 110\" \"Sneighbors: 111\"\n",
      "[1] \"==================\"\n",
      "[1] \"ci: 104\"\n",
      "[1] \"ppolys.nb[as.numeric(ci): c(88, 92, 102, 109, 112)\"\n",
      "[1] \"cc: 88\"  \"cc: 92\"  \"cc: 102\" \"cc: 109\" \"cc: 112\"\n",
      "[1] \"kk: \"\n",
      " [1] \"Sneighbors: 70\"  \"Sneighbors: 75\"  \"Sneighbors: 79\"  \"Sneighbors: 81\" \n",
      " [5] \"Sneighbors: 91\"  \"Sneighbors: 81\"  \"Sneighbors: 87\"  \"Sneighbors: 100\"\n",
      " [9] \"Sneighbors: 90\"  \"Sneighbors: 91\"  \"Sneighbors: 101\" \"Sneighbors: 111\"\n",
      "[13] \"Sneighbors: 100\" \"Sneighbors: 110\" \"Sneighbors: 111\"\n",
      "[1] \"==================\"\n"
     ]
    }
   ],
   "source": [
    "for (ci in Pneighbors) {\n",
    "    print(paste(\"ci:\", ci))    \n",
    "    \n",
    "    cc <- unlist(ppolys.nb[as.numeric(ci)])\n",
    "    print(paste(\"ppolys.nb[as.numeric(ci):\", ppolys.nb[as.numeric(ci)]))\n",
    "    print(paste(\"cc:\", cc))\n",
    "    \n",
    "    kk <- setdiff(cc,Pneighbors)\n",
    "    print(paste(\"kk:\", kk))\n",
    "    Sneighbors <- append(Sneighbors,kk)\n",
    "    print(paste(\"Sneighbors:\", Sneighbors))\n",
    "    print(\"==================\")\n",
    "}"
   ]
  },
  {
   "cell_type": "code",
   "execution_count": 44,
   "metadata": {},
   "outputs": [
    {
     "data": {
      "text/html": [
       "<ol class=list-inline>\n",
       "\t<li>70</li>\n",
       "\t<li>75</li>\n",
       "\t<li>79</li>\n",
       "\t<li>81</li>\n",
       "\t<li>91</li>\n",
       "\t<li>87</li>\n",
       "\t<li>100</li>\n",
       "\t<li>90</li>\n",
       "\t<li>101</li>\n",
       "\t<li>111</li>\n",
       "\t<li>110</li>\n",
       "</ol>\n"
      ],
      "text/latex": [
       "\\begin{enumerate*}\n",
       "\\item 70\n",
       "\\item 75\n",
       "\\item 79\n",
       "\\item 81\n",
       "\\item 91\n",
       "\\item 87\n",
       "\\item 100\n",
       "\\item 90\n",
       "\\item 101\n",
       "\\item 111\n",
       "\\item 110\n",
       "\\end{enumerate*}\n"
      ],
      "text/markdown": [
       "1. 70\n",
       "2. 75\n",
       "3. 79\n",
       "4. 81\n",
       "5. 91\n",
       "6. 87\n",
       "7. 100\n",
       "8. 90\n",
       "9. 101\n",
       "10. 111\n",
       "11. 110\n",
       "\n",
       "\n"
      ],
      "text/plain": [
       " [1]  70  75  79  81  91  87 100  90 101 111 110"
      ]
     },
     "metadata": {},
     "output_type": "display_data"
    }
   ],
   "source": [
    "Sneighbors <- unique(Sneighbors)\n",
    "Sneighbors"
   ]
  },
  {
   "cell_type": "code",
   "execution_count": 45,
   "metadata": {},
   "outputs": [
    {
     "data": {
      "image/png": "[encoded data removed]",
      "text/plain": [
       "plot without title"
      ]
     },
     "metadata": {},
     "output_type": "display_data"
    }
   ],
   "source": [
    "#display howell's neighborhood polygons\n",
    "FirstNeighbors <- ppolys[Pneighbors ,]\n",
    "plot(FirstNeighbors)\n",
    "\n",
    "#display howell's second order neighbors\n",
    "SecondNeighbors <- ppolys[Sneighbors,]\n",
    "plot(SecondNeighbors, add=TRUE,col='red')"
   ]
  },
  {
   "cell_type": "markdown",
   "metadata": {},
   "source": [
    "###  Higher Order Neighborhoods\n",
    "\n",
    "Fortunately, spdep has some function that make obtaining higher order neighborhoods even easier. For example, the nblag() function can take a nb class object and use it to generate higher order neighborhood. Below, the function is applied to generate neighborhoods up to the 2nd order. The resulting lists can be queried to retrieve the 1st order neighbors which are indexed as element 1 and the 2nd order which are indexed as element 2.  Alternatively, the nblag_cumul() function combines all neighborhoods into a single list."
   ]
  },
  {
   "cell_type": "code",
   "execution_count": 46,
   "metadata": {
    "collapsed": true
   },
   "outputs": [],
   "source": [
    "#create a higher order neighborhood\n",
    "maxlag <- 2\n",
    "ppolys.lag <- nblag(ppolys.nb, 2)"
   ]
  },
  {
   "cell_type": "code",
   "execution_count": 47,
   "metadata": {},
   "outputs": [
    {
     "data": {
      "text/plain": [
       "[[1]]\n",
       "Neighbour list object:\n",
       "Number of regions: 115 \n",
       "Number of nonzero links: 588 \n",
       "Percentage nonzero weights: 4.446125 \n",
       "Average number of links: 5.113043 \n",
       "\n",
       "[[2]]\n",
       "Neighbour list object:\n",
       "Number of regions: 115 \n",
       "Number of nonzero links: 1064 \n",
       "Percentage nonzero weights: 8.045369 \n",
       "Average number of links: 9.252174 \n",
       "\n",
       "attr(,\"call\")\n",
       "nblag(neighbours = ppolys.nb, maxlag = 2)"
      ]
     },
     "metadata": {},
     "output_type": "display_data"
    }
   ],
   "source": [
    "ppolys.lag"
   ]
  },
  {
   "cell_type": "code",
   "execution_count": 48,
   "metadata": {},
   "outputs": [
    {
     "data": {
      "text/html": [
       "<ol>\n",
       "\t<li><ol class=list-inline>\n",
       "\t<li>3</li>\n",
       "\t<li>5</li>\n",
       "\t<li>12</li>\n",
       "\t<li>13</li>\n",
       "\t<li>16</li>\n",
       "\t<li>20</li>\n",
       "\t<li>23</li>\n",
       "\t<li>24</li>\n",
       "</ol>\n",
       "</li>\n",
       "\t<li><ol class=list-inline>\n",
       "\t<li>4</li>\n",
       "\t<li>7</li>\n",
       "\t<li>10</li>\n",
       "\t<li>14</li>\n",
       "\t<li>17</li>\n",
       "</ol>\n",
       "</li>\n",
       "\t<li><ol class=list-inline>\n",
       "\t<li>1</li>\n",
       "\t<li>5</li>\n",
       "\t<li>6</li>\n",
       "\t<li>11</li>\n",
       "\t<li>12</li>\n",
       "\t<li>13</li>\n",
       "\t<li>16</li>\n",
       "\t<li>20</li>\n",
       "\t<li>21</li>\n",
       "\t<li>23</li>\n",
       "</ol>\n",
       "</li>\n",
       "\t<li><ol class=list-inline>\n",
       "\t<li>2</li>\n",
       "\t<li>7</li>\n",
       "\t<li>9</li>\n",
       "\t<li>10</li>\n",
       "\t<li>14</li>\n",
       "\t<li>17</li>\n",
       "\t<li>18</li>\n",
       "\t<li>19</li>\n",
       "\t<li>25</li>\n",
       "</ol>\n",
       "</li>\n",
       "\t<li><ol class=list-inline>\n",
       "\t<li>1</li>\n",
       "\t<li>3</li>\n",
       "\t<li>6</li>\n",
       "\t<li>8</li>\n",
       "\t<li>11</li>\n",
       "\t<li>12</li>\n",
       "\t<li>13</li>\n",
       "\t<li>20</li>\n",
       "\t<li>21</li>\n",
       "</ol>\n",
       "</li>\n",
       "</ol>\n"
      ],
      "text/latex": [
       "\\begin{enumerate}\n",
       "\\item \\begin{enumerate*}\n",
       "\\item 3\n",
       "\\item 5\n",
       "\\item 12\n",
       "\\item 13\n",
       "\\item 16\n",
       "\\item 20\n",
       "\\item 23\n",
       "\\item 24\n",
       "\\end{enumerate*}\n",
       "\n",
       "\\item \\begin{enumerate*}\n",
       "\\item 4\n",
       "\\item 7\n",
       "\\item 10\n",
       "\\item 14\n",
       "\\item 17\n",
       "\\end{enumerate*}\n",
       "\n",
       "\\item \\begin{enumerate*}\n",
       "\\item 1\n",
       "\\item 5\n",
       "\\item 6\n",
       "\\item 11\n",
       "\\item 12\n",
       "\\item 13\n",
       "\\item 16\n",
       "\\item 20\n",
       "\\item 21\n",
       "\\item 23\n",
       "\\end{enumerate*}\n",
       "\n",
       "\\item \\begin{enumerate*}\n",
       "\\item 2\n",
       "\\item 7\n",
       "\\item 9\n",
       "\\item 10\n",
       "\\item 14\n",
       "\\item 17\n",
       "\\item 18\n",
       "\\item 19\n",
       "\\item 25\n",
       "\\end{enumerate*}\n",
       "\n",
       "\\item \\begin{enumerate*}\n",
       "\\item 1\n",
       "\\item 3\n",
       "\\item 6\n",
       "\\item 8\n",
       "\\item 11\n",
       "\\item 12\n",
       "\\item 13\n",
       "\\item 20\n",
       "\\item 21\n",
       "\\end{enumerate*}\n",
       "\n",
       "\\end{enumerate}\n"
      ],
      "text/markdown": [
       "1. 1. 3\n",
       "2. 5\n",
       "3. 12\n",
       "4. 13\n",
       "5. 16\n",
       "6. 20\n",
       "7. 23\n",
       "8. 24\n",
       "\n",
       "\n",
       "\n",
       "2. 1. 4\n",
       "2. 7\n",
       "3. 10\n",
       "4. 14\n",
       "5. 17\n",
       "\n",
       "\n",
       "\n",
       "3. 1. 1\n",
       "2. 5\n",
       "3. 6\n",
       "4. 11\n",
       "5. 12\n",
       "6. 13\n",
       "7. 16\n",
       "8. 20\n",
       "9. 21\n",
       "10. 23\n",
       "\n",
       "\n",
       "\n",
       "4. 1. 2\n",
       "2. 7\n",
       "3. 9\n",
       "4. 10\n",
       "5. 14\n",
       "6. 17\n",
       "7. 18\n",
       "8. 19\n",
       "9. 25\n",
       "\n",
       "\n",
       "\n",
       "5. 1. 1\n",
       "2. 3\n",
       "3. 6\n",
       "4. 8\n",
       "5. 11\n",
       "6. 12\n",
       "7. 13\n",
       "8. 20\n",
       "9. 21\n",
       "\n",
       "\n",
       "\n",
       "\n",
       "\n"
      ],
      "text/plain": [
       "[[1]]\n",
       "[1]  3  5 12 13 16 20 23 24\n",
       "\n",
       "[[2]]\n",
       "[1]  4  7 10 14 17\n",
       "\n",
       "[[3]]\n",
       " [1]  1  5  6 11 12 13 16 20 21 23\n",
       "\n",
       "[[4]]\n",
       "[1]  2  7  9 10 14 17 18 19 25\n",
       "\n",
       "[[5]]\n",
       "[1]  1  3  6  8 11 12 13 20 21\n"
      ]
     },
     "metadata": {},
     "output_type": "display_data"
    }
   ],
   "source": [
    "ppolys.cuml <- nblag_cumul(ppolys.lag)\n",
    "\n",
    "ppolys.cuml[1:5]"
   ]
  },
  {
   "cell_type": "code",
   "execution_count": 49,
   "metadata": {},
   "outputs": [
    {
     "data": {
      "text/html": [
       "'first order'"
      ],
      "text/latex": [
       "'first order'"
      ],
      "text/markdown": [
       "'first order'"
      ],
      "text/plain": [
       "[1] \"first order\""
      ]
     },
     "metadata": {},
     "output_type": "display_data"
    },
    {
     "data": {
      "text/html": [
       "<ol>\n",
       "\t<li><ol class=list-inline>\n",
       "\t<li>3</li>\n",
       "\t<li>13</li>\n",
       "\t<li>16</li>\n",
       "</ol>\n",
       "</li>\n",
       "\t<li><ol class=list-inline>\n",
       "\t<li>4</li>\n",
       "\t<li>14</li>\n",
       "</ol>\n",
       "</li>\n",
       "\t<li><ol class=list-inline>\n",
       "\t<li>1</li>\n",
       "\t<li>5</li>\n",
       "\t<li>12</li>\n",
       "\t<li>13</li>\n",
       "</ol>\n",
       "</li>\n",
       "\t<li><ol class=list-inline>\n",
       "\t<li>2</li>\n",
       "\t<li>7</li>\n",
       "\t<li>10</li>\n",
       "\t<li>14</li>\n",
       "\t<li>17</li>\n",
       "</ol>\n",
       "</li>\n",
       "\t<li><ol class=list-inline>\n",
       "\t<li>3</li>\n",
       "\t<li>6</li>\n",
       "\t<li>12</li>\n",
       "</ol>\n",
       "</li>\n",
       "\t<li><ol class=list-inline>\n",
       "\t<li>5</li>\n",
       "\t<li>8</li>\n",
       "\t<li>11</li>\n",
       "\t<li>12</li>\n",
       "</ol>\n",
       "</li>\n",
       "</ol>\n"
      ],
      "text/latex": [
       "\\begin{enumerate}\n",
       "\\item \\begin{enumerate*}\n",
       "\\item 3\n",
       "\\item 13\n",
       "\\item 16\n",
       "\\end{enumerate*}\n",
       "\n",
       "\\item \\begin{enumerate*}\n",
       "\\item 4\n",
       "\\item 14\n",
       "\\end{enumerate*}\n",
       "\n",
       "\\item \\begin{enumerate*}\n",
       "\\item 1\n",
       "\\item 5\n",
       "\\item 12\n",
       "\\item 13\n",
       "\\end{enumerate*}\n",
       "\n",
       "\\item \\begin{enumerate*}\n",
       "\\item 2\n",
       "\\item 7\n",
       "\\item 10\n",
       "\\item 14\n",
       "\\item 17\n",
       "\\end{enumerate*}\n",
       "\n",
       "\\item \\begin{enumerate*}\n",
       "\\item 3\n",
       "\\item 6\n",
       "\\item 12\n",
       "\\end{enumerate*}\n",
       "\n",
       "\\item \\begin{enumerate*}\n",
       "\\item 5\n",
       "\\item 8\n",
       "\\item 11\n",
       "\\item 12\n",
       "\\end{enumerate*}\n",
       "\n",
       "\\end{enumerate}\n"
      ],
      "text/markdown": [
       "1. 1. 3\n",
       "2. 13\n",
       "3. 16\n",
       "\n",
       "\n",
       "\n",
       "2. 1. 4\n",
       "2. 14\n",
       "\n",
       "\n",
       "\n",
       "3. 1. 1\n",
       "2. 5\n",
       "3. 12\n",
       "4. 13\n",
       "\n",
       "\n",
       "\n",
       "4. 1. 2\n",
       "2. 7\n",
       "3. 10\n",
       "4. 14\n",
       "5. 17\n",
       "\n",
       "\n",
       "\n",
       "5. 1. 3\n",
       "2. 6\n",
       "3. 12\n",
       "\n",
       "\n",
       "\n",
       "6. 1. 5\n",
       "2. 8\n",
       "3. 11\n",
       "4. 12\n",
       "\n",
       "\n",
       "\n",
       "\n",
       "\n"
      ],
      "text/plain": [
       "[[1]]\n",
       "[1]  3 13 16\n",
       "\n",
       "[[2]]\n",
       "[1]  4 14\n",
       "\n",
       "[[3]]\n",
       "[1]  1  5 12 13\n",
       "\n",
       "[[4]]\n",
       "[1]  2  7 10 14 17\n",
       "\n",
       "[[5]]\n",
       "[1]  3  6 12\n",
       "\n",
       "[[6]]\n",
       "[1]  5  8 11 12\n"
      ]
     },
     "metadata": {},
     "output_type": "display_data"
    },
    {
     "data": {
      "text/html": [
       "'second order'"
      ],
      "text/latex": [
       "'second order'"
      ],
      "text/markdown": [
       "'second order'"
      ],
      "text/plain": [
       "[1] \"second order\""
      ]
     },
     "metadata": {},
     "output_type": "display_data"
    },
    {
     "data": {
      "text/html": [
       "<ol>\n",
       "\t<li><ol class=list-inline>\n",
       "\t<li>5</li>\n",
       "\t<li>12</li>\n",
       "\t<li>20</li>\n",
       "\t<li>23</li>\n",
       "\t<li>24</li>\n",
       "</ol>\n",
       "</li>\n",
       "\t<li><ol class=list-inline>\n",
       "\t<li>7</li>\n",
       "\t<li>10</li>\n",
       "\t<li>17</li>\n",
       "</ol>\n",
       "</li>\n",
       "\t<li><ol class=list-inline>\n",
       "\t<li>6</li>\n",
       "\t<li>11</li>\n",
       "\t<li>16</li>\n",
       "\t<li>20</li>\n",
       "\t<li>21</li>\n",
       "\t<li>23</li>\n",
       "</ol>\n",
       "</li>\n",
       "\t<li><ol class=list-inline>\n",
       "\t<li>9</li>\n",
       "\t<li>18</li>\n",
       "\t<li>19</li>\n",
       "\t<li>25</li>\n",
       "</ol>\n",
       "</li>\n",
       "\t<li><ol class=list-inline>\n",
       "\t<li>1</li>\n",
       "\t<li>8</li>\n",
       "\t<li>11</li>\n",
       "\t<li>13</li>\n",
       "\t<li>20</li>\n",
       "\t<li>21</li>\n",
       "</ol>\n",
       "</li>\n",
       "\t<li><ol class=list-inline>\n",
       "\t<li>3</li>\n",
       "\t<li>9</li>\n",
       "\t<li>13</li>\n",
       "\t<li>15</li>\n",
       "\t<li>20</li>\n",
       "\t<li>21</li>\n",
       "</ol>\n",
       "</li>\n",
       "</ol>\n"
      ],
      "text/latex": [
       "\\begin{enumerate}\n",
       "\\item \\begin{enumerate*}\n",
       "\\item 5\n",
       "\\item 12\n",
       "\\item 20\n",
       "\\item 23\n",
       "\\item 24\n",
       "\\end{enumerate*}\n",
       "\n",
       "\\item \\begin{enumerate*}\n",
       "\\item 7\n",
       "\\item 10\n",
       "\\item 17\n",
       "\\end{enumerate*}\n",
       "\n",
       "\\item \\begin{enumerate*}\n",
       "\\item 6\n",
       "\\item 11\n",
       "\\item 16\n",
       "\\item 20\n",
       "\\item 21\n",
       "\\item 23\n",
       "\\end{enumerate*}\n",
       "\n",
       "\\item \\begin{enumerate*}\n",
       "\\item 9\n",
       "\\item 18\n",
       "\\item 19\n",
       "\\item 25\n",
       "\\end{enumerate*}\n",
       "\n",
       "\\item \\begin{enumerate*}\n",
       "\\item 1\n",
       "\\item 8\n",
       "\\item 11\n",
       "\\item 13\n",
       "\\item 20\n",
       "\\item 21\n",
       "\\end{enumerate*}\n",
       "\n",
       "\\item \\begin{enumerate*}\n",
       "\\item 3\n",
       "\\item 9\n",
       "\\item 13\n",
       "\\item 15\n",
       "\\item 20\n",
       "\\item 21\n",
       "\\end{enumerate*}\n",
       "\n",
       "\\end{enumerate}\n"
      ],
      "text/markdown": [
       "1. 1. 5\n",
       "2. 12\n",
       "3. 20\n",
       "4. 23\n",
       "5. 24\n",
       "\n",
       "\n",
       "\n",
       "2. 1. 7\n",
       "2. 10\n",
       "3. 17\n",
       "\n",
       "\n",
       "\n",
       "3. 1. 6\n",
       "2. 11\n",
       "3. 16\n",
       "4. 20\n",
       "5. 21\n",
       "6. 23\n",
       "\n",
       "\n",
       "\n",
       "4. 1. 9\n",
       "2. 18\n",
       "3. 19\n",
       "4. 25\n",
       "\n",
       "\n",
       "\n",
       "5. 1. 1\n",
       "2. 8\n",
       "3. 11\n",
       "4. 13\n",
       "5. 20\n",
       "6. 21\n",
       "\n",
       "\n",
       "\n",
       "6. 1. 3\n",
       "2. 9\n",
       "3. 13\n",
       "4. 15\n",
       "5. 20\n",
       "6. 21\n",
       "\n",
       "\n",
       "\n",
       "\n",
       "\n"
      ],
      "text/plain": [
       "[[1]]\n",
       "[1]  5 12 20 23 24\n",
       "\n",
       "[[2]]\n",
       "[1]  7 10 17\n",
       "\n",
       "[[3]]\n",
       "[1]  6 11 16 20 21 23\n",
       "\n",
       "[[4]]\n",
       "[1]  9 18 19 25\n",
       "\n",
       "[[5]]\n",
       "[1]  1  8 11 13 20 21\n",
       "\n",
       "[[6]]\n",
       "[1]  3  9 13 15 20 21\n"
      ]
     },
     "metadata": {},
     "output_type": "display_data"
    },
    {
     "data": {
      "text/html": [
       "'first and second order'"
      ],
      "text/latex": [
       "'first and second order'"
      ],
      "text/markdown": [
       "'first and second order'"
      ],
      "text/plain": [
       "[1] \"first and second order\""
      ]
     },
     "metadata": {},
     "output_type": "display_data"
    },
    {
     "data": {
      "text/html": [
       "<ol>\n",
       "\t<li><ol class=list-inline>\n",
       "\t<li>3</li>\n",
       "\t<li>5</li>\n",
       "\t<li>12</li>\n",
       "\t<li>13</li>\n",
       "\t<li>16</li>\n",
       "\t<li>20</li>\n",
       "\t<li>23</li>\n",
       "\t<li>24</li>\n",
       "</ol>\n",
       "</li>\n",
       "\t<li><ol class=list-inline>\n",
       "\t<li>4</li>\n",
       "\t<li>7</li>\n",
       "\t<li>10</li>\n",
       "\t<li>14</li>\n",
       "\t<li>17</li>\n",
       "</ol>\n",
       "</li>\n",
       "\t<li><ol class=list-inline>\n",
       "\t<li>1</li>\n",
       "\t<li>5</li>\n",
       "\t<li>6</li>\n",
       "\t<li>11</li>\n",
       "\t<li>12</li>\n",
       "\t<li>13</li>\n",
       "\t<li>16</li>\n",
       "\t<li>20</li>\n",
       "\t<li>21</li>\n",
       "\t<li>23</li>\n",
       "</ol>\n",
       "</li>\n",
       "\t<li><ol class=list-inline>\n",
       "\t<li>2</li>\n",
       "\t<li>7</li>\n",
       "\t<li>9</li>\n",
       "\t<li>10</li>\n",
       "\t<li>14</li>\n",
       "\t<li>17</li>\n",
       "\t<li>18</li>\n",
       "\t<li>19</li>\n",
       "\t<li>25</li>\n",
       "</ol>\n",
       "</li>\n",
       "\t<li><ol class=list-inline>\n",
       "\t<li>1</li>\n",
       "\t<li>3</li>\n",
       "\t<li>6</li>\n",
       "\t<li>8</li>\n",
       "\t<li>11</li>\n",
       "\t<li>12</li>\n",
       "\t<li>13</li>\n",
       "\t<li>20</li>\n",
       "\t<li>21</li>\n",
       "</ol>\n",
       "</li>\n",
       "\t<li><ol class=list-inline>\n",
       "\t<li>3</li>\n",
       "\t<li>5</li>\n",
       "\t<li>8</li>\n",
       "\t<li>9</li>\n",
       "\t<li>11</li>\n",
       "\t<li>12</li>\n",
       "\t<li>13</li>\n",
       "\t<li>15</li>\n",
       "\t<li>20</li>\n",
       "\t<li>21</li>\n",
       "</ol>\n",
       "</li>\n",
       "</ol>\n"
      ],
      "text/latex": [
       "\\begin{enumerate}\n",
       "\\item \\begin{enumerate*}\n",
       "\\item 3\n",
       "\\item 5\n",
       "\\item 12\n",
       "\\item 13\n",
       "\\item 16\n",
       "\\item 20\n",
       "\\item 23\n",
       "\\item 24\n",
       "\\end{enumerate*}\n",
       "\n",
       "\\item \\begin{enumerate*}\n",
       "\\item 4\n",
       "\\item 7\n",
       "\\item 10\n",
       "\\item 14\n",
       "\\item 17\n",
       "\\end{enumerate*}\n",
       "\n",
       "\\item \\begin{enumerate*}\n",
       "\\item 1\n",
       "\\item 5\n",
       "\\item 6\n",
       "\\item 11\n",
       "\\item 12\n",
       "\\item 13\n",
       "\\item 16\n",
       "\\item 20\n",
       "\\item 21\n",
       "\\item 23\n",
       "\\end{enumerate*}\n",
       "\n",
       "\\item \\begin{enumerate*}\n",
       "\\item 2\n",
       "\\item 7\n",
       "\\item 9\n",
       "\\item 10\n",
       "\\item 14\n",
       "\\item 17\n",
       "\\item 18\n",
       "\\item 19\n",
       "\\item 25\n",
       "\\end{enumerate*}\n",
       "\n",
       "\\item \\begin{enumerate*}\n",
       "\\item 1\n",
       "\\item 3\n",
       "\\item 6\n",
       "\\item 8\n",
       "\\item 11\n",
       "\\item 12\n",
       "\\item 13\n",
       "\\item 20\n",
       "\\item 21\n",
       "\\end{enumerate*}\n",
       "\n",
       "\\item \\begin{enumerate*}\n",
       "\\item 3\n",
       "\\item 5\n",
       "\\item 8\n",
       "\\item 9\n",
       "\\item 11\n",
       "\\item 12\n",
       "\\item 13\n",
       "\\item 15\n",
       "\\item 20\n",
       "\\item 21\n",
       "\\end{enumerate*}\n",
       "\n",
       "\\end{enumerate}\n"
      ],
      "text/markdown": [
       "1. 1. 3\n",
       "2. 5\n",
       "3. 12\n",
       "4. 13\n",
       "5. 16\n",
       "6. 20\n",
       "7. 23\n",
       "8. 24\n",
       "\n",
       "\n",
       "\n",
       "2. 1. 4\n",
       "2. 7\n",
       "3. 10\n",
       "4. 14\n",
       "5. 17\n",
       "\n",
       "\n",
       "\n",
       "3. 1. 1\n",
       "2. 5\n",
       "3. 6\n",
       "4. 11\n",
       "5. 12\n",
       "6. 13\n",
       "7. 16\n",
       "8. 20\n",
       "9. 21\n",
       "10. 23\n",
       "\n",
       "\n",
       "\n",
       "4. 1. 2\n",
       "2. 7\n",
       "3. 9\n",
       "4. 10\n",
       "5. 14\n",
       "6. 17\n",
       "7. 18\n",
       "8. 19\n",
       "9. 25\n",
       "\n",
       "\n",
       "\n",
       "5. 1. 1\n",
       "2. 3\n",
       "3. 6\n",
       "4. 8\n",
       "5. 11\n",
       "6. 12\n",
       "7. 13\n",
       "8. 20\n",
       "9. 21\n",
       "\n",
       "\n",
       "\n",
       "6. 1. 3\n",
       "2. 5\n",
       "3. 8\n",
       "4. 9\n",
       "5. 11\n",
       "6. 12\n",
       "7. 13\n",
       "8. 15\n",
       "9. 20\n",
       "10. 21\n",
       "\n",
       "\n",
       "\n",
       "\n",
       "\n"
      ],
      "text/plain": [
       "[[1]]\n",
       "[1]  3  5 12 13 16 20 23 24\n",
       "\n",
       "[[2]]\n",
       "[1]  4  7 10 14 17\n",
       "\n",
       "[[3]]\n",
       " [1]  1  5  6 11 12 13 16 20 21 23\n",
       "\n",
       "[[4]]\n",
       "[1]  2  7  9 10 14 17 18 19 25\n",
       "\n",
       "[[5]]\n",
       "[1]  1  3  6  8 11 12 13 20 21\n",
       "\n",
       "[[6]]\n",
       " [1]  3  5  8  9 11 12 13 15 20 21\n"
      ]
     },
     "metadata": {},
     "output_type": "display_data"
    }
   ],
   "source": [
    "#look at results\n",
    "paste('first order')\n",
    "head(ppolys.lag[[1]])\n",
    "paste('second order')\n",
    "head(ppolys.lag[[2]])\n",
    "paste('first and second order')\n",
    "head(ppolys.cuml)"
   ]
  },
  {
   "cell_type": "markdown",
   "metadata": {},
   "source": [
    "### Mapping Higher Order Neighborhoods\n",
    "\n",
    "Just as was done earlier, the neighborhoods can be plotted by drawing a line between the polygon centroids in cases where they are neighbors of some sort."
   ]
  },
  {
   "cell_type": "code",
   "execution_count": 50,
   "metadata": {},
   "outputs": [
    {
     "data": {
      "image/png": "[encoded data removed]",
      "text/plain": [
       "Plot with title \"First and Second Order Neighborhoods\""
      ]
     },
     "metadata": {},
     "output_type": "display_data"
    }
   ],
   "source": [
    "#Map shp file\n",
    "plot(ppolys, col=\"lightgreen\", \n",
    "             main=\"First and Second Order Neighborhoods\", cex.main=.8)\n",
    "\n",
    "#Map the higher order neighbors\n",
    "plot(ppolys.lag[[1]], coordinates(ppolys), add=TRUE, col=\"blue\")\n",
    "plot(ppolys.lag[[2]], coordinates(ppolys), add=TRUE, col=\"red\")"
   ]
  }
 ],
 "metadata": {
  "kernelspec": {
   "display_name": "R",
   "language": "R",
   "name": "ir"
  },
  "language_info": {
   "codemirror_mode": "r",
   "file_extension": ".r",
   "mimetype": "text/x-r-source",
   "name": "R",
   "pygments_lexer": "r",
   "version": "3.4.1"
  }
 },
 "nbformat": 4,
 "nbformat_minor": 2
}
