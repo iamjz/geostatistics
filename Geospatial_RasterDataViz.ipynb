{
 "cells": [
  {
   "cell_type": "markdown",
   "metadata": {},
   "source": [
    "http://desktop.arcgis.com/en/arcmap/10.3/manage-data/geodatabases/raster-basics.htm"
   ]
  },
  {
   "cell_type": "markdown",
   "metadata": {},
   "source": [
    "## Check for libraries"
   ]
  },
  {
   "cell_type": "code",
   "execution_count": 6,
   "metadata": {},
   "outputs": [],
   "source": [
    "# Load relevant R packages\n",
    "\n",
    "inLibraries = list('repr','rgdal','spdep','raster')\n",
    "for (rpack in inLibraries) {\n",
    "  if (is.element(rpack,installed.packages()[,1])){\n",
    "      #Load the library into R\n",
    "      suppressMessages(library(rpack,character.only = TRUE))\n",
    "    }\n",
    "    else {\n",
    "        print(paste(\"Warning:  \",rpack,\" is not an installed package\"))\n",
    "    }\n",
    "}\n",
    "#resize plot area\n",
    "options(repr.plot.width=6, repr.plot.height=6)"
   ]
  },
  {
   "cell_type": "markdown",
   "metadata": {},
   "source": [
    "## Reading Raster Data\n",
    "\n",
    "There are various ways of working with raster data in R. Take a look at a .tif file in the dataset directory (nemo_weather/nemowx3.tif). In this case, the .tif raster represents variations in temperature over a region.\n",
    "\n",
    "Of course, there are many different data formats for rendering raster data.  For further info about alternative raster formats see:\n",
    "\n",
    "-http://desktop.arcgis.com/en/arcmap/10.3/manage-data/raster-and-images/supported-raster-dataset-file-formats.htm"
   ]
  },
  {
   "cell_type": "markdown",
   "metadata": {},
   "source": [
    "## Accessing raster data\n",
    "\n",
    "The raster() function (raster library) can be used to import raster data. The raster function requires a path to the data file followed by the file extension."
   ]
  },
  {
   "cell_type": "code",
   "execution_count": 7,
   "metadata": {
    "collapsed": true
   },
   "outputs": [],
   "source": [
    "#path to raster data file\n",
    "ras_name <- 'datasets/nemo_weather/nemowx3.tif' "
   ]
  },
  {
   "cell_type": "markdown",
   "metadata": {},
   "source": [
    "### Retrieving Summary Info\n",
    "\n",
    "By calling the new raster dataset, basic summary info about the raster is provided:\n",
    "1. number of rows, columns, and cells\n",
    "2. the size of each cell\n",
    "3. the geographic coordinates bounding the raster\n",
    "4. the coordinate system\n",
    "5. the path to the dataset\n",
    "6. the range of values in the raster cells"
   ]
  },
  {
   "cell_type": "code",
   "execution_count": 8,
   "metadata": {},
   "outputs": [
    {
     "data": {
      "text/plain": [
       "class       : RasterLayer \n",
       "dimensions  : 35, 41, 1435  (nrow, ncol, ncell)\n",
       "resolution  : 5000, 5000  (x, y)\n",
       "extent      : 462749.5, 667749.5, 4332713, 4507713  (xmin, xmax, ymin, ymax)\n",
       "coord. ref. : +proj=utm +zone=15 +datum=NAD83 +units=m +no_defs +ellps=GRS80 +towgs84=0,0,0 \n",
       "data source : C:\\Users\\Jacky Zhao\\Desktop\\repos\\R-Data\\datasets\\nemo_weather\\nemowx3.tif \n",
       "names       : nemowx3 \n"
      ]
     },
     "metadata": {},
     "output_type": "display_data"
    }
   ],
   "source": [
    "#Read raster values\n",
    "inRas <- raster(ras_name, values=TRUE)\n",
    "inRas"
   ]
  },
  {
   "cell_type": "markdown",
   "metadata": {},
   "source": [
    "Visualizing the Raster Data\n",
    "The raster can then be visualized using the 'plot' function"
   ]
  },
  {
   "cell_type": "code",
   "execution_count": 10,
   "metadata": {},
   "outputs": [
    {
     "data": {
      "image/png": "[encoded data removed]",
      "text/plain": [
       "Plot with title \"Forecast Temperature (F)\""
      ]
     },
     "metadata": {},
     "output_type": "display_data"
    }
   ],
   "source": [
    "#Display the raster\n",
    "\n",
    "plot(inRas, \n",
    "         col = colorRampPalette(c(\"red\", \"white\", \"blue\"))(255),\n",
    "         main='Forecast Temperature (F)',\n",
    "         cex.main=.8)"
   ]
  },
  {
   "cell_type": "markdown",
   "metadata": {},
   "source": [
    "## Working with raster files in R\n",
    "\n",
    "The 'raster' function renders the dataset as a rasterlayer in R. The raster library provides many functionalities for accessing basic properties of a rasterlayer."
   ]
  },
  {
   "cell_type": "code",
   "execution_count": 11,
   "metadata": {},
   "outputs": [
    {
     "data": {
      "text/html": [
       "1435"
      ],
      "text/latex": [
       "1435"
      ],
      "text/markdown": [
       "1435"
      ],
      "text/plain": [
       "[1] 1435"
      ]
     },
     "metadata": {},
     "output_type": "display_data"
    },
    {
     "data": {
      "text/html": [
       "41"
      ],
      "text/latex": [
       "41"
      ],
      "text/markdown": [
       "41"
      ],
      "text/plain": [
       "[1] 41"
      ]
     },
     "metadata": {},
     "output_type": "display_data"
    },
    {
     "data": {
      "text/html": [
       "35"
      ],
      "text/latex": [
       "35"
      ],
      "text/markdown": [
       "35"
      ],
      "text/plain": [
       "[1] 35"
      ]
     },
     "metadata": {},
     "output_type": "display_data"
    }
   ],
   "source": [
    "#Retrieve the number of cells, columns and rows in a rasterlayer\n",
    "numcells <- ncell(inRas)\n",
    "numcells\n",
    "\n",
    "numcols <- ncol(inRas)\n",
    "numcols\n",
    "\n",
    "numrows <- nrow(inRas)\n",
    "numrows"
   ]
  },
  {
   "cell_type": "markdown",
   "metadata": {},
   "source": [
    "The projection of the raster can be obtained by:"
   ]
  },
  {
   "cell_type": "code",
   "execution_count": 12,
   "metadata": {},
   "outputs": [
    {
     "data": {
      "text/html": [
       "'+proj=utm +zone=15 +datum=NAD83 +units=m +no_defs +ellps=GRS80 +towgs84=0,0,0'"
      ],
      "text/latex": [
       "'+proj=utm +zone=15 +datum=NAD83 +units=m +no\\_defs +ellps=GRS80 +towgs84=0,0,0'"
      ],
      "text/markdown": [
       "'+proj=utm +zone=15 +datum=NAD83 +units=m +no_defs +ellps=GRS80 +towgs84=0,0,0'"
      ],
      "text/plain": [
       "[1] \"+proj=utm +zone=15 +datum=NAD83 +units=m +no_defs +ellps=GRS80 +towgs84=0,0,0\""
      ]
     },
     "metadata": {},
     "output_type": "display_data"
    }
   ],
   "source": [
    "rasproj <- projection(inRas)\n",
    "rasproj"
   ]
  },
  {
   "cell_type": "markdown",
   "metadata": {},
   "source": [
    "getValues() and its shorthand function values() can be called to obtain a vector of all cell values in a raster."
   ]
  },
  {
   "cell_type": "code",
   "execution_count": 15,
   "metadata": {},
   "outputs": [
    {
     "data": {
      "text/html": [
       "<ol class=list-inline>\n",
       "\t<li>NA</li>\n",
       "\t<li>45</li>\n",
       "\t<li>44</li>\n",
       "\t<li>43</li>\n",
       "\t<li>43</li>\n",
       "\t<li>42</li>\n",
       "\t<li>42</li>\n",
       "\t<li>42</li>\n",
       "\t<li>42</li>\n",
       "\t<li>41</li>\n",
       "\t<li>41</li>\n",
       "\t<li>41</li>\n",
       "\t<li>41</li>\n",
       "\t<li>40</li>\n",
       "\t<li>40</li>\n",
       "\t<li>40</li>\n",
       "\t<li>NA</li>\n",
       "\t<li>NA</li>\n",
       "\t<li>NA</li>\n",
       "\t<li>NA</li>\n",
       "\t<li>NA</li>\n",
       "\t<li>NA</li>\n",
       "\t<li>NA</li>\n",
       "\t<li>NA</li>\n",
       "\t<li>NA</li>\n",
       "\t<li>NA</li>\n",
       "\t<li>NA</li>\n",
       "\t<li>NA</li>\n",
       "\t<li>NA</li>\n",
       "\t<li>NA</li>\n",
       "\t<li>NA</li>\n",
       "\t<li>NA</li>\n",
       "\t<li>NA</li>\n",
       "\t<li>NA</li>\n",
       "\t<li>NA</li>\n",
       "\t<li>NA</li>\n",
       "\t<li>NA</li>\n",
       "\t<li>NA</li>\n",
       "\t<li>NA</li>\n",
       "\t<li>NA</li>\n",
       "\t<li>NA</li>\n",
       "\t<li>NA</li>\n",
       "\t<li>44</li>\n",
       "\t<li>44</li>\n",
       "\t<li>43</li>\n",
       "\t<li>43</li>\n",
       "\t<li>42</li>\n",
       "\t<li>42</li>\n",
       "\t<li>42</li>\n",
       "\t<li>41</li>\n",
       "</ol>\n"
      ],
      "text/latex": [
       "\\begin{enumerate*}\n",
       "\\item NA\n",
       "\\item 45\n",
       "\\item 44\n",
       "\\item 43\n",
       "\\item 43\n",
       "\\item 42\n",
       "\\item 42\n",
       "\\item 42\n",
       "\\item 42\n",
       "\\item 41\n",
       "\\item 41\n",
       "\\item 41\n",
       "\\item 41\n",
       "\\item 40\n",
       "\\item 40\n",
       "\\item 40\n",
       "\\item NA\n",
       "\\item NA\n",
       "\\item NA\n",
       "\\item NA\n",
       "\\item NA\n",
       "\\item NA\n",
       "\\item NA\n",
       "\\item NA\n",
       "\\item NA\n",
       "\\item NA\n",
       "\\item NA\n",
       "\\item NA\n",
       "\\item NA\n",
       "\\item NA\n",
       "\\item NA\n",
       "\\item NA\n",
       "\\item NA\n",
       "\\item NA\n",
       "\\item NA\n",
       "\\item NA\n",
       "\\item NA\n",
       "\\item NA\n",
       "\\item NA\n",
       "\\item NA\n",
       "\\item NA\n",
       "\\item NA\n",
       "\\item 44\n",
       "\\item 44\n",
       "\\item 43\n",
       "\\item 43\n",
       "\\item 42\n",
       "\\item 42\n",
       "\\item 42\n",
       "\\item 41\n",
       "\\end{enumerate*}\n"
      ],
      "text/markdown": [
       "1. NA\n",
       "2. 45\n",
       "3. 44\n",
       "4. 43\n",
       "5. 43\n",
       "6. 42\n",
       "7. 42\n",
       "8. 42\n",
       "9. 42\n",
       "10. 41\n",
       "11. 41\n",
       "12. 41\n",
       "13. 41\n",
       "14. 40\n",
       "15. 40\n",
       "16. 40\n",
       "17. NA\n",
       "18. NA\n",
       "19. NA\n",
       "20. NA\n",
       "21. NA\n",
       "22. NA\n",
       "23. NA\n",
       "24. NA\n",
       "25. NA\n",
       "26. NA\n",
       "27. NA\n",
       "28. NA\n",
       "29. NA\n",
       "30. NA\n",
       "31. NA\n",
       "32. NA\n",
       "33. NA\n",
       "34. NA\n",
       "35. NA\n",
       "36. NA\n",
       "37. NA\n",
       "38. NA\n",
       "39. NA\n",
       "40. NA\n",
       "41. NA\n",
       "42. NA\n",
       "43. 44\n",
       "44. 44\n",
       "45. 43\n",
       "46. 43\n",
       "47. 42\n",
       "48. 42\n",
       "49. 42\n",
       "50. 41\n",
       "\n",
       "\n"
      ],
      "text/plain": [
       " [1] NA 45 44 43 43 42 42 42 42 41 41 41 41 40 40 40 NA NA NA NA NA NA NA NA NA\n",
       "[26] NA NA NA NA NA NA NA NA NA NA NA NA NA NA NA NA NA 44 44 43 43 42 42 42 41"
      ]
     },
     "metadata": {},
     "output_type": "display_data"
    }
   ],
   "source": [
    "#output a vector of the cell values in the raster\n",
    "\n",
    "cellVector <- values(inRas) \n",
    "cellVector[0:50]"
   ]
  },
  {
   "cell_type": "code",
   "execution_count": 16,
   "metadata": {},
   "outputs": [
    {
     "data": {
      "text/html": [
       "378"
      ],
      "text/latex": [
       "378"
      ],
      "text/markdown": [
       "378"
      ],
      "text/plain": [
       "[1] 378"
      ]
     },
     "metadata": {},
     "output_type": "display_data"
    },
    {
     "data": {
      "text/html": [
       "21"
      ],
      "text/latex": [
       "21"
      ],
      "text/markdown": [
       "21"
      ],
      "text/plain": [
       "[1] 21"
      ]
     },
     "metadata": {},
     "output_type": "display_data"
    },
    {
     "data": {
      "text/html": [
       "18"
      ],
      "text/latex": [
       "18"
      ],
      "text/markdown": [
       "18"
      ],
      "text/plain": [
       "[1] 18"
      ]
     },
     "metadata": {},
     "output_type": "display_data"
    },
    {
     "data": {
      "image/png": "[encoded data removed]",
      "text/plain": [
       "Plot with title \"\""
      ]
     },
     "metadata": {},
     "output_type": "display_data"
    }
   ],
   "source": [
    "#The first feature in the spatialpolygonsdataframe can be accessed as follows\n",
    "\n",
    "Ras2 <- aggregate(inRas,fact=2)\n",
    "numcells <- ncell(Ras2)\n",
    "numcells\n",
    "\n",
    "numcols <- ncol(Ras2)\n",
    "numcols\n",
    "\n",
    "numrows <- nrow(Ras2)\n",
    "numrows\n",
    "plot(Ras2, col=colorRampPalette(c(\"red\", \"white\", \"blue\"))(255))"
   ]
  }
 ],
 "metadata": {
  "kernelspec": {
   "display_name": "R",
   "language": "R",
   "name": "ir"
  },
  "language_info": {
   "codemirror_mode": "r",
   "file_extension": ".r",
   "mimetype": "text/x-r-source",
   "name": "R",
   "pygments_lexer": "r",
   "version": "3.4.1"
  }
 },
 "nbformat": 4,
 "nbformat_minor": 2
}
