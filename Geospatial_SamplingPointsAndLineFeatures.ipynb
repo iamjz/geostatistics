{
 "cells": [
  {
   "cell_type": "markdown",
   "metadata": {},
   "source": [
    "# Sampling Point and Line Features"
   ]
  },
  {
   "cell_type": "code",
   "execution_count": 1,
   "metadata": {},
   "outputs": [
    {
     "name": "stderr",
     "output_type": "stream",
     "text": [
      "Warning message:\n",
      "\"package 'rgdal' was built under R version 3.4.2\"Warning message:\n",
      "\"package 'sp' was built under R version 3.4.2\"Warning message:\n",
      "\"package 'classInt' was built under R version 3.4.2\"Warning message:\n",
      "\"package 'rgeos' was built under R version 3.4.2\""
     ]
    }
   ],
   "source": [
    "# Load relevant R packages\n",
    "inLibraries = list('repr','spatstat','rgdal','classInt','rgeos')\n",
    "for (rpack in inLibraries) {\n",
    "  if (is.element(rpack,installed.packages()[,1])){           \n",
    "      #Load the library into R\n",
    "      suppressMessages(library(rpack,character.only = TRUE))\n",
    "    }\n",
    "    else {\n",
    "        print(paste(\"Warning:  \",rpack,\" is not an installed package\"))\n",
    "    }\n",
    "}\n",
    "#resize plot area\n",
    "options(repr.plot.width=6, repr.plot.height=6)"
   ]
  },
  {
   "cell_type": "code",
   "execution_count": 3,
   "metadata": {},
   "outputs": [
    {
     "name": "stdout",
     "output_type": "stream",
     "text": [
      "OGR data source with driver: ESRI Shapefile \n",
      "Source: \"datasets/mo_counties\", layer: \"st_county10\"\n",
      "with 115 features\n",
      "It has 46 fields\n",
      "Integer64 fields read as strings:  POP90 WHITE90 BLACK90 ASIANPI90 AMIND90 OTHER90 HISP90 POP00 WHITE00 BLACK00 ASIAN00 AMIND00 HAWNPI00 OTHER00 MULTRA00 HISP00 POP10 WHITE10 BLACK10 ASIAN10 AMIND10 HAWNPI10 OTHER10 MULTRA10 HISP10 \n"
     ]
    }
   ],
   "source": [
    "# Read in shp file\n",
    "counties <- readOGR(\"datasets/mo_counties\",\"st_county10\")"
   ]
  },
  {
   "cell_type": "markdown",
   "metadata": {},
   "source": [
    "## Retrieve Geographic Extent\n",
    "\n",
    "Prior to generating a set of point features, let's first define the region that will bound the area within which samples will be obtained. This can be done by querying the extent or bounding box of our featureclass with the bbox() function."
   ]
  },
  {
   "cell_type": "code",
   "execution_count": 4,
   "metadata": {},
   "outputs": [
    {
     "data": {
      "text/html": [
       "<table>\n",
       "<thead><tr><th></th><th scope=col>0</th><th scope=col>1</th><th scope=col>2</th></tr></thead>\n",
       "<tbody>\n",
       "\t<tr><th scope=row>STATEFP10</th><td>29             </td><td>29             </td><td>29             </td></tr>\n",
       "\t<tr><th scope=row>COUNTYFP10</th><td>045            </td><td>005            </td><td>199            </td></tr>\n",
       "\t<tr><th scope=row>COUNTYNS10</th><td>00758477       </td><td>00758457       </td><td>00758552       </td></tr>\n",
       "\t<tr><th scope=row>GEOID10</th><td>29045          </td><td>29005          </td><td>29199          </td></tr>\n",
       "\t<tr><th scope=row>NAME10</th><td>Clark          </td><td>Atchison       </td><td>Scotland       </td></tr>\n",
       "\t<tr><th scope=row>NAMELSAD10</th><td>Clark County   </td><td>Atchison County</td><td>Scotland County</td></tr>\n",
       "\t<tr><th scope=row>LSAD10</th><td>06             </td><td>06             </td><td>06             </td></tr>\n",
       "\t<tr><th scope=row>CLASSFP10</th><td>H1             </td><td>H1             </td><td>H1             </td></tr>\n",
       "\t<tr><th scope=row>MTFCC10</th><td>G4020          </td><td>G4020          </td><td>G4020          </td></tr>\n",
       "\t<tr><th scope=row>CSAFP10</th><td>NA             </td><td>NA             </td><td>NA             </td></tr>\n",
       "\t<tr><th scope=row>CBSAFP10</th><td>22800          </td><td>NA             </td><td>NA             </td></tr>\n",
       "\t<tr><th scope=row>METDIVFP10</th><td>NA             </td><td>NA             </td><td>NA             </td></tr>\n",
       "\t<tr><th scope=row>FUNCSTAT10</th><td>A              </td><td>A              </td><td>A              </td></tr>\n",
       "\t<tr><th scope=row>ALAND10</th><td>1307146971     </td><td>1417505255     </td><td>1130971492     </td></tr>\n",
       "\t<tr><th scope=row>AWATER10</th><td>18473547       </td><td> 7319663       </td><td> 6798720       </td></tr>\n",
       "\t<tr><th scope=row>INTPTLAT10</th><td>+40.4072748    </td><td>+40.4318460    </td><td>+40.4476855    </td></tr>\n",
       "\t<tr><th scope=row>INTPTLON10</th><td>-091.7294720   </td><td>-095.4375546   </td><td>-092.1428235   </td></tr>\n",
       "\t<tr><th scope=row>AREA</th><td>1324937990     </td><td>1425178329     </td><td>1137009406     </td></tr>\n",
       "\t<tr><th scope=row>PERIMETER</th><td>161503.6       </td><td>183878.0       </td><td>135298.6       </td></tr>\n",
       "\t<tr><th scope=row>COUNTY10_</th><td>2              </td><td>3              </td><td>4              </td></tr>\n",
       "\t<tr><th scope=row>COUNTY10_I</th><td>115            </td><td>111            </td><td>114            </td></tr>\n",
       "\t<tr><th scope=row>POP90</th><td>7547           </td><td>7457           </td><td>4822           </td></tr>\n",
       "\t<tr><th scope=row>WHITE90</th><td>7528           </td><td>7280           </td><td>4808           </td></tr>\n",
       "\t<tr><th scope=row>BLACK90</th><td>3              </td><td>83             </td><td>3              </td></tr>\n",
       "\t<tr><th scope=row>ASIANPI90</th><td>4              </td><td>14             </td><td>0              </td></tr>\n",
       "\t<tr><th scope=row>AMIND90</th><td>7              </td><td>15             </td><td>10             </td></tr>\n",
       "\t<tr><th scope=row>OTHER90</th><td>5              </td><td>65             </td><td>1              </td></tr>\n",
       "\t<tr><th scope=row>HISP90</th><td>26             </td><td>104            </td><td>12             </td></tr>\n",
       "\t<tr><th scope=row>POP00</th><td>7416           </td><td>6430           </td><td>4983           </td></tr>\n",
       "\t<tr><th scope=row>WHITE00</th><td>7329           </td><td>6237           </td><td>4924           </td></tr>\n",
       "\t<tr><th scope=row>BLACK00</th><td>5              </td><td>132            </td><td>10             </td></tr>\n",
       "\t<tr><th scope=row>ASIAN00</th><td>5              </td><td>9              </td><td>4              </td></tr>\n",
       "\t<tr><th scope=row>AMIND00</th><td>15             </td><td>12             </td><td>7              </td></tr>\n",
       "\t<tr><th scope=row>HAWNPI00</th><td>1              </td><td>0              </td><td>1              </td></tr>\n",
       "\t<tr><th scope=row>OTHER00</th><td>16             </td><td>20             </td><td>8              </td></tr>\n",
       "\t<tr><th scope=row>MULTRA00</th><td>45             </td><td>20             </td><td>29             </td></tr>\n",
       "\t<tr><th scope=row>HISP00</th><td>52             </td><td>43             </td><td>42             </td></tr>\n",
       "\t<tr><th scope=row>POP10</th><td>7139           </td><td>5685           </td><td>4843           </td></tr>\n",
       "\t<tr><th scope=row>WHITE10</th><td>7011           </td><td>5600           </td><td>4776           </td></tr>\n",
       "\t<tr><th scope=row>BLACK10</th><td>19             </td><td>17             </td><td>3              </td></tr>\n",
       "\t<tr><th scope=row>ASIAN10</th><td>23             </td><td>9              </td><td>11             </td></tr>\n",
       "\t<tr><th scope=row>AMIND10</th><td>9              </td><td>10             </td><td>12             </td></tr>\n",
       "\t<tr><th scope=row>HAWNPI10</th><td>0              </td><td>3              </td><td>0              </td></tr>\n",
       "\t<tr><th scope=row>OTHER10</th><td>5              </td><td>5              </td><td>18             </td></tr>\n",
       "\t<tr><th scope=row>MULTRA10</th><td>72             </td><td>41             </td><td>23             </td></tr>\n",
       "\t<tr><th scope=row>HISP10</th><td>42             </td><td>55             </td><td>33             </td></tr>\n",
       "</tbody>\n",
       "</table>\n"
      ],
      "text/latex": [
       "\\begin{tabular}{r|lll}\n",
       "  & 0 & 1 & 2\\\\\n",
       "\\hline\n",
       "\tSTATEFP10 & 29              & 29              & 29             \\\\\n",
       "\tCOUNTYFP10 & 045             & 005             & 199            \\\\\n",
       "\tCOUNTYNS10 & 00758477        & 00758457        & 00758552       \\\\\n",
       "\tGEOID10 & 29045           & 29005           & 29199          \\\\\n",
       "\tNAME10 & Clark           & Atchison        & Scotland       \\\\\n",
       "\tNAMELSAD10 & Clark County    & Atchison County & Scotland County\\\\\n",
       "\tLSAD10 & 06              & 06              & 06             \\\\\n",
       "\tCLASSFP10 & H1              & H1              & H1             \\\\\n",
       "\tMTFCC10 & G4020           & G4020           & G4020          \\\\\n",
       "\tCSAFP10 & NA              & NA              & NA             \\\\\n",
       "\tCBSAFP10 & 22800           & NA              & NA             \\\\\n",
       "\tMETDIVFP10 & NA              & NA              & NA             \\\\\n",
       "\tFUNCSTAT10 & A               & A               & A              \\\\\n",
       "\tALAND10 & 1307146971      & 1417505255      & 1130971492     \\\\\n",
       "\tAWATER10 & 18473547        &  7319663        &  6798720       \\\\\n",
       "\tINTPTLAT10 & +40.4072748     & +40.4318460     & +40.4476855    \\\\\n",
       "\tINTPTLON10 & -091.7294720    & -095.4375546    & -092.1428235   \\\\\n",
       "\tAREA & 1324937990      & 1425178329      & 1137009406     \\\\\n",
       "\tPERIMETER & 161503.6        & 183878.0        & 135298.6       \\\\\n",
       "\tCOUNTY10\\_ & 2               & 3               & 4              \\\\\n",
       "\tCOUNTY10\\_I & 115             & 111             & 114            \\\\\n",
       "\tPOP90 & 7547            & 7457            & 4822           \\\\\n",
       "\tWHITE90 & 7528            & 7280            & 4808           \\\\\n",
       "\tBLACK90 & 3               & 83              & 3              \\\\\n",
       "\tASIANPI90 & 4               & 14              & 0              \\\\\n",
       "\tAMIND90 & 7               & 15              & 10             \\\\\n",
       "\tOTHER90 & 5               & 65              & 1              \\\\\n",
       "\tHISP90 & 26              & 104             & 12             \\\\\n",
       "\tPOP00 & 7416            & 6430            & 4983           \\\\\n",
       "\tWHITE00 & 7329            & 6237            & 4924           \\\\\n",
       "\tBLACK00 & 5               & 132             & 10             \\\\\n",
       "\tASIAN00 & 5               & 9               & 4              \\\\\n",
       "\tAMIND00 & 15              & 12              & 7              \\\\\n",
       "\tHAWNPI00 & 1               & 0               & 1              \\\\\n",
       "\tOTHER00 & 16              & 20              & 8              \\\\\n",
       "\tMULTRA00 & 45              & 20              & 29             \\\\\n",
       "\tHISP00 & 52              & 43              & 42             \\\\\n",
       "\tPOP10 & 7139            & 5685            & 4843           \\\\\n",
       "\tWHITE10 & 7011            & 5600            & 4776           \\\\\n",
       "\tBLACK10 & 19              & 17              & 3              \\\\\n",
       "\tASIAN10 & 23              & 9               & 11             \\\\\n",
       "\tAMIND10 & 9               & 10              & 12             \\\\\n",
       "\tHAWNPI10 & 0               & 3               & 0              \\\\\n",
       "\tOTHER10 & 5               & 5               & 18             \\\\\n",
       "\tMULTRA10 & 72              & 41              & 23             \\\\\n",
       "\tHISP10 & 42              & 55              & 33             \\\\\n",
       "\\end{tabular}\n"
      ],
      "text/markdown": [
       "\n",
       "| <!--/--> | 0 | 1 | 2 | \n",
       "|---|---|---|---|---|---|---|---|---|---|---|---|---|---|---|---|---|---|---|---|---|---|---|---|---|---|---|---|---|---|---|---|---|---|---|---|---|---|---|---|---|---|---|---|---|---|\n",
       "| STATEFP10 | 29              | 29              | 29              | \n",
       "| COUNTYFP10 | 045             | 005             | 199             | \n",
       "| COUNTYNS10 | 00758477        | 00758457        | 00758552        | \n",
       "| GEOID10 | 29045           | 29005           | 29199           | \n",
       "| NAME10 | Clark           | Atchison        | Scotland        | \n",
       "| NAMELSAD10 | Clark County    | Atchison County | Scotland County | \n",
       "| LSAD10 | 06              | 06              | 06              | \n",
       "| CLASSFP10 | H1              | H1              | H1              | \n",
       "| MTFCC10 | G4020           | G4020           | G4020           | \n",
       "| CSAFP10 | NA              | NA              | NA              | \n",
       "| CBSAFP10 | 22800           | NA              | NA              | \n",
       "| METDIVFP10 | NA              | NA              | NA              | \n",
       "| FUNCSTAT10 | A               | A               | A               | \n",
       "| ALAND10 | 1307146971      | 1417505255      | 1130971492      | \n",
       "| AWATER10 | 18473547        |  7319663        |  6798720        | \n",
       "| INTPTLAT10 | +40.4072748     | +40.4318460     | +40.4476855     | \n",
       "| INTPTLON10 | -091.7294720    | -095.4375546    | -092.1428235    | \n",
       "| AREA | 1324937990      | 1425178329      | 1137009406      | \n",
       "| PERIMETER | 161503.6        | 183878.0        | 135298.6        | \n",
       "| COUNTY10_ | 2               | 3               | 4               | \n",
       "| COUNTY10_I | 115             | 111             | 114             | \n",
       "| POP90 | 7547            | 7457            | 4822            | \n",
       "| WHITE90 | 7528            | 7280            | 4808            | \n",
       "| BLACK90 | 3               | 83              | 3               | \n",
       "| ASIANPI90 | 4               | 14              | 0               | \n",
       "| AMIND90 | 7               | 15              | 10              | \n",
       "| OTHER90 | 5               | 65              | 1               | \n",
       "| HISP90 | 26              | 104             | 12              | \n",
       "| POP00 | 7416            | 6430            | 4983            | \n",
       "| WHITE00 | 7329            | 6237            | 4924            | \n",
       "| BLACK00 | 5               | 132             | 10              | \n",
       "| ASIAN00 | 5               | 9               | 4               | \n",
       "| AMIND00 | 15              | 12              | 7               | \n",
       "| HAWNPI00 | 1               | 0               | 1               | \n",
       "| OTHER00 | 16              | 20              | 8               | \n",
       "| MULTRA00 | 45              | 20              | 29              | \n",
       "| HISP00 | 52              | 43              | 42              | \n",
       "| POP10 | 7139            | 5685            | 4843            | \n",
       "| WHITE10 | 7011            | 5600            | 4776            | \n",
       "| BLACK10 | 19              | 17              | 3               | \n",
       "| ASIAN10 | 23              | 9               | 11              | \n",
       "| AMIND10 | 9               | 10              | 12              | \n",
       "| HAWNPI10 | 0               | 3               | 0               | \n",
       "| OTHER10 | 5               | 5               | 18              | \n",
       "| MULTRA10 | 72              | 41              | 23              | \n",
       "| HISP10 | 42              | 55              | 33              | \n",
       "\n",
       "\n"
      ],
      "text/plain": [
       "           0            1               2              \n",
       "STATEFP10  29           29              29             \n",
       "COUNTYFP10 045          005             199            \n",
       "COUNTYNS10 00758477     00758457        00758552       \n",
       "GEOID10    29045        29005           29199          \n",
       "NAME10     Clark        Atchison        Scotland       \n",
       "NAMELSAD10 Clark County Atchison County Scotland County\n",
       "LSAD10     06           06              06             \n",
       "CLASSFP10  H1           H1              H1             \n",
       "MTFCC10    G4020        G4020           G4020          \n",
       "CSAFP10    NA           NA              NA             \n",
       "CBSAFP10   22800        NA              NA             \n",
       "METDIVFP10 NA           NA              NA             \n",
       "FUNCSTAT10 A            A               A              \n",
       "ALAND10    1307146971   1417505255      1130971492     \n",
       "AWATER10   18473547      7319663         6798720       \n",
       "INTPTLAT10 +40.4072748  +40.4318460     +40.4476855    \n",
       "INTPTLON10 -091.7294720 -095.4375546    -092.1428235   \n",
       "AREA       1324937990   1425178329      1137009406     \n",
       "PERIMETER  161503.6     183878.0        135298.6       \n",
       "COUNTY10_  2            3               4              \n",
       "COUNTY10_I 115          111             114            \n",
       "POP90      7547         7457            4822           \n",
       "WHITE90    7528         7280            4808           \n",
       "BLACK90    3            83              3              \n",
       "ASIANPI90  4            14              0              \n",
       "AMIND90    7            15              10             \n",
       "OTHER90    5            65              1              \n",
       "HISP90     26           104             12             \n",
       "POP00      7416         6430            4983           \n",
       "WHITE00    7329         6237            4924           \n",
       "BLACK00    5            132             10             \n",
       "ASIAN00    5            9               4              \n",
       "AMIND00    15           12              7              \n",
       "HAWNPI00   1            0               1              \n",
       "OTHER00    16           20              8              \n",
       "MULTRA00   45           20              29             \n",
       "HISP00     52           43              42             \n",
       "POP10      7139         5685            4843           \n",
       "WHITE10    7011         5600            4776           \n",
       "BLACK10    19           17              3              \n",
       "ASIAN10    23           9               11             \n",
       "AMIND10    9            10              12             \n",
       "HAWNPI10   0            3               0              \n",
       "OTHER10    5            5               18             \n",
       "MULTRA10   72           41              23             \n",
       "HISP10     42           55              33             "
      ]
     },
     "metadata": {},
     "output_type": "display_data"
    }
   ],
   "source": [
    "peek <- head(counties@data, 3)\n",
    "\n",
    "t(peek)"
   ]
  },
  {
   "cell_type": "code",
   "execution_count": 5,
   "metadata": {},
   "outputs": [
    {
     "data": {
      "text/html": [
       "<table>\n",
       "<thead><tr><th></th><th scope=col>min</th><th scope=col>max</th></tr></thead>\n",
       "<tbody>\n",
       "\t<tr><th scope=row>x</th><td> 265131.4</td><td> 847373  </td></tr>\n",
       "\t<tr><th scope=row>y</th><td>3986649.6</td><td>4496645  </td></tr>\n",
       "</tbody>\n",
       "</table>\n"
      ],
      "text/latex": [
       "\\begin{tabular}{r|ll}\n",
       "  & min & max\\\\\n",
       "\\hline\n",
       "\tx &  265131.4 &  847373  \\\\\n",
       "\ty & 3986649.6 & 4496645  \\\\\n",
       "\\end{tabular}\n"
      ],
      "text/markdown": [
       "\n",
       "| <!--/--> | min | max | \n",
       "|---|---|\n",
       "| x |  265131.4 |  847373   | \n",
       "| y | 3986649.6 | 4496645   | \n",
       "\n",
       "\n"
      ],
      "text/plain": [
       "  min       max    \n",
       "x  265131.4  847373\n",
       "y 3986649.6 4496645"
      ]
     },
     "metadata": {},
     "output_type": "display_data"
    }
   ],
   "source": [
    "#get extent\n",
    "extent <- bbox(counties)\n",
    "extent"
   ]
  },
  {
   "cell_type": "code",
   "execution_count": 6,
   "metadata": {
    "collapsed": true
   },
   "outputs": [],
   "source": [
    "#get xy min and max values\n",
    "\n",
    "xmin <- extent[1,1]\n",
    "xmax <- extent[1,2]\n",
    "ymin <- extent[2,1]\n",
    "ymax <- extent[2,2]"
   ]
  },
  {
   "cell_type": "code",
   "execution_count": 7,
   "metadata": {},
   "outputs": [
    {
     "data": {
      "text/html": [
       "265131.372014953"
      ],
      "text/latex": [
       "265131.372014953"
      ],
      "text/markdown": [
       "265131.372014953"
      ],
      "text/plain": [
       "[1] 265131.4"
      ]
     },
     "metadata": {},
     "output_type": "display_data"
    }
   ],
   "source": [
    "xmin"
   ]
  },
  {
   "cell_type": "code",
   "execution_count": 8,
   "metadata": {},
   "outputs": [
    {
     "data": {
      "text/html": [
       "847373.048276251"
      ],
      "text/latex": [
       "847373.048276251"
      ],
      "text/markdown": [
       "847373.048276251"
      ],
      "text/plain": [
       "[1] 847373"
      ]
     },
     "metadata": {},
     "output_type": "display_data"
    }
   ],
   "source": [
    "xmax"
   ]
  },
  {
   "cell_type": "code",
   "execution_count": 9,
   "metadata": {},
   "outputs": [
    {
     "data": {
      "text/html": [
       "3986649.64365712"
      ],
      "text/latex": [
       "3986649.64365712"
      ],
      "text/markdown": [
       "3986649.64365712"
      ],
      "text/plain": [
       "[1] 3986650"
      ]
     },
     "metadata": {},
     "output_type": "display_data"
    }
   ],
   "source": [
    "ymin"
   ]
  },
  {
   "cell_type": "code",
   "execution_count": 10,
   "metadata": {},
   "outputs": [
    {
     "data": {
      "text/html": [
       "4496645.08505634"
      ],
      "text/latex": [
       "4496645.08505634"
      ],
      "text/markdown": [
       "4496645.08505634"
      ],
      "text/plain": [
       "[1] 4496645"
      ]
     },
     "metadata": {},
     "output_type": "display_data"
    }
   ],
   "source": [
    "ymax"
   ]
  },
  {
   "cell_type": "code",
   "execution_count": 11,
   "metadata": {
    "collapsed": true
   },
   "outputs": [],
   "source": [
    "#create a range vector for x and y\n",
    "xrange <- c(xmin, xmax)\n",
    "yrange <- c(ymin, ymax)"
   ]
  },
  {
   "cell_type": "code",
   "execution_count": 12,
   "metadata": {},
   "outputs": [
    {
     "data": {
      "text/html": [
       "<ol class=list-inline>\n",
       "\t<li>265131.372014953</li>\n",
       "\t<li>847373.048276251</li>\n",
       "</ol>\n"
      ],
      "text/latex": [
       "\\begin{enumerate*}\n",
       "\\item 265131.372014953\n",
       "\\item 847373.048276251\n",
       "\\end{enumerate*}\n"
      ],
      "text/markdown": [
       "1. 265131.372014953\n",
       "2. 847373.048276251\n",
       "\n",
       "\n"
      ],
      "text/plain": [
       "[1] 265131.4 847373.0"
      ]
     },
     "metadata": {},
     "output_type": "display_data"
    }
   ],
   "source": [
    "xrange"
   ]
  },
  {
   "cell_type": "code",
   "execution_count": 13,
   "metadata": {},
   "outputs": [
    {
     "data": {
      "text/html": [
       "<ol class=list-inline>\n",
       "\t<li>3986649.64365712</li>\n",
       "\t<li>4496645.08505634</li>\n",
       "</ol>\n"
      ],
      "text/latex": [
       "\\begin{enumerate*}\n",
       "\\item 3986649.64365712\n",
       "\\item 4496645.08505634\n",
       "\\end{enumerate*}\n"
      ],
      "text/markdown": [
       "1. 3986649.64365712\n",
       "2. 4496645.08505634\n",
       "\n",
       "\n"
      ],
      "text/plain": [
       "[1] 3986650 4496645"
      ]
     },
     "metadata": {},
     "output_type": "display_data"
    }
   ],
   "source": [
    "yrange"
   ]
  },
  {
   "cell_type": "markdown",
   "metadata": {},
   "source": [
    "## Random, Uniformly Distributed Points\n",
    "\n",
    "In order to create a point pattern in spatstat, an object of class \"ppp\" should be specified using the ppp() function.  Arguments to ppp() function include vectors of x and y coordinates, window of observations (extent) and marks (labels - think of these as categories of the variable). Other optional arguments can be included to make sure all observations are inside the window and there are no duplicate coordinates. \n",
    "\n",
    "Here, the runif() function is applied to produce random xy coordinate pairs with a uniform distribution. Then xy coordinates and window are used in the ppp() function to render the resulting point pattern. The window argument is an object of \"owin\" class in which the ranges in two-dimensional plane are set. Thus, this analysis window is simply the geographic box bounding the extent of the analysis region. Unlike the sp library, drawing samples from within a specific polygon is not directly supported. However, given what we've learned in earlier modules, that should not be a problem. That is, we now know how to do that....sample, assess which points fall within the region's areas, retain the ones that do, remove those that do not, sample more points if necessary.\n",
    "\n",
    "For illustrative purposes, the randomly selected points are assigned a random label or category between 1 and 3 using the sample() and factor() functions."
   ]
  },
  {
   "cell_type": "code",
   "execution_count": 14,
   "metadata": {
    "collapsed": true
   },
   "outputs": [],
   "source": [
    "# Set number of points to be selected\n",
    "n <- 20\n",
    "\n",
    "# Some arbitrary coordinates in the defined range\n",
    "x <- runif(n, xmin, xmax)\n",
    "y <- runif(n, ymin, ymax)"
   ]
  },
  {
   "cell_type": "code",
   "execution_count": 15,
   "metadata": {},
   "outputs": [
    {
     "data": {
      "text/html": [
       "<ol class=list-inline>\n",
       "\t<li>437018.57220792</li>\n",
       "\t<li>472118.383535129</li>\n",
       "\t<li>810366.731914084</li>\n",
       "\t<li>743610.389660805</li>\n",
       "\t<li>289343.315840408</li>\n",
       "\t<li>616718.17894212</li>\n",
       "\t<li>646337.894222526</li>\n",
       "\t<li>600340.492358004</li>\n",
       "\t<li>306102.334177365</li>\n",
       "\t<li>362531.996166118</li>\n",
       "\t<li>328169.901505042</li>\n",
       "\t<li>654625.031028532</li>\n",
       "\t<li>740337.597020963</li>\n",
       "\t<li>459167.336907456</li>\n",
       "\t<li>692228.347440623</li>\n",
       "\t<li>580549.87740831</li>\n",
       "\t<li>573825.199732329</li>\n",
       "\t<li>597614.592440596</li>\n",
       "\t<li>579330.38428275</li>\n",
       "\t<li>328158.342259108</li>\n",
       "</ol>\n"
      ],
      "text/latex": [
       "\\begin{enumerate*}\n",
       "\\item 437018.57220792\n",
       "\\item 472118.383535129\n",
       "\\item 810366.731914084\n",
       "\\item 743610.389660805\n",
       "\\item 289343.315840408\n",
       "\\item 616718.17894212\n",
       "\\item 646337.894222526\n",
       "\\item 600340.492358004\n",
       "\\item 306102.334177365\n",
       "\\item 362531.996166118\n",
       "\\item 328169.901505042\n",
       "\\item 654625.031028532\n",
       "\\item 740337.597020963\n",
       "\\item 459167.336907456\n",
       "\\item 692228.347440623\n",
       "\\item 580549.87740831\n",
       "\\item 573825.199732329\n",
       "\\item 597614.592440596\n",
       "\\item 579330.38428275\n",
       "\\item 328158.342259108\n",
       "\\end{enumerate*}\n"
      ],
      "text/markdown": [
       "1. 437018.57220792\n",
       "2. 472118.383535129\n",
       "3. 810366.731914084\n",
       "4. 743610.389660805\n",
       "5. 289343.315840408\n",
       "6. 616718.17894212\n",
       "7. 646337.894222526\n",
       "8. 600340.492358004\n",
       "9. 306102.334177365\n",
       "10. 362531.996166118\n",
       "11. 328169.901505042\n",
       "12. 654625.031028532\n",
       "13. 740337.597020963\n",
       "14. 459167.336907456\n",
       "15. 692228.347440623\n",
       "16. 580549.87740831\n",
       "17. 573825.199732329\n",
       "18. 597614.592440596\n",
       "19. 579330.38428275\n",
       "20. 328158.342259108\n",
       "\n",
       "\n"
      ],
      "text/plain": [
       " [1] 437018.6 472118.4 810366.7 743610.4 289343.3 616718.2 646337.9 600340.5\n",
       " [9] 306102.3 362532.0 328169.9 654625.0 740337.6 459167.3 692228.3 580549.9\n",
       "[17] 573825.2 597614.6 579330.4 328158.3"
      ]
     },
     "metadata": {},
     "output_type": "display_data"
    }
   ],
   "source": [
    "x"
   ]
  },
  {
   "cell_type": "code",
   "execution_count": 16,
   "metadata": {},
   "outputs": [
    {
     "data": {
      "text/html": [
       "<ol class=list-inline>\n",
       "\t<li>4070134.20493419</li>\n",
       "\t<li>4410688.18752531</li>\n",
       "\t<li>4173764.32078399</li>\n",
       "\t<li>4371200.54817751</li>\n",
       "\t<li>4421649.38903819</li>\n",
       "\t<li>4332814.64071909</li>\n",
       "\t<li>4375074.46564445</li>\n",
       "\t<li>4091943.90725235</li>\n",
       "\t<li>4344577.93319095</li>\n",
       "\t<li>4444171.07368725</li>\n",
       "\t<li>4065660.69545087</li>\n",
       "\t<li>4425279.90015453</li>\n",
       "\t<li>4174265.0011921</li>\n",
       "\t<li>4452254.25342277</li>\n",
       "\t<li>4373739.87578166</li>\n",
       "\t<li>4059602.29781683</li>\n",
       "\t<li>4046644.93365469</li>\n",
       "\t<li>4104243.48152872</li>\n",
       "\t<li>4359657.91418649</li>\n",
       "\t<li>4189003.09241447</li>\n",
       "</ol>\n"
      ],
      "text/latex": [
       "\\begin{enumerate*}\n",
       "\\item 4070134.20493419\n",
       "\\item 4410688.18752531\n",
       "\\item 4173764.32078399\n",
       "\\item 4371200.54817751\n",
       "\\item 4421649.38903819\n",
       "\\item 4332814.64071909\n",
       "\\item 4375074.46564445\n",
       "\\item 4091943.90725235\n",
       "\\item 4344577.93319095\n",
       "\\item 4444171.07368725\n",
       "\\item 4065660.69545087\n",
       "\\item 4425279.90015453\n",
       "\\item 4174265.0011921\n",
       "\\item 4452254.25342277\n",
       "\\item 4373739.87578166\n",
       "\\item 4059602.29781683\n",
       "\\item 4046644.93365469\n",
       "\\item 4104243.48152872\n",
       "\\item 4359657.91418649\n",
       "\\item 4189003.09241447\n",
       "\\end{enumerate*}\n"
      ],
      "text/markdown": [
       "1. 4070134.20493419\n",
       "2. 4410688.18752531\n",
       "3. 4173764.32078399\n",
       "4. 4371200.54817751\n",
       "5. 4421649.38903819\n",
       "6. 4332814.64071909\n",
       "7. 4375074.46564445\n",
       "8. 4091943.90725235\n",
       "9. 4344577.93319095\n",
       "10. 4444171.07368725\n",
       "11. 4065660.69545087\n",
       "12. 4425279.90015453\n",
       "13. 4174265.0011921\n",
       "14. 4452254.25342277\n",
       "15. 4373739.87578166\n",
       "16. 4059602.29781683\n",
       "17. 4046644.93365469\n",
       "18. 4104243.48152872\n",
       "19. 4359657.91418649\n",
       "20. 4189003.09241447\n",
       "\n",
       "\n"
      ],
      "text/plain": [
       " [1] 4070134 4410688 4173764 4371201 4421649 4332815 4375074 4091944 4344578\n",
       "[10] 4444171 4065661 4425280 4174265 4452254 4373740 4059602 4046645 4104243\n",
       "[19] 4359658 4189003"
      ]
     },
     "metadata": {},
     "output_type": "display_data"
    }
   ],
   "source": [
    "y"
   ]
  },
  {
   "cell_type": "code",
   "execution_count": 17,
   "metadata": {},
   "outputs": [
    {
     "data": {
      "text/html": [
       "<ol class=list-inline>\n",
       "\t<li>2</li>\n",
       "\t<li>1</li>\n",
       "\t<li>1</li>\n",
       "\t<li>2</li>\n",
       "\t<li>3</li>\n",
       "\t<li>1</li>\n",
       "\t<li>1</li>\n",
       "\t<li>2</li>\n",
       "\t<li>3</li>\n",
       "\t<li>1</li>\n",
       "\t<li>2</li>\n",
       "\t<li>1</li>\n",
       "\t<li>1</li>\n",
       "\t<li>1</li>\n",
       "\t<li>1</li>\n",
       "\t<li>1</li>\n",
       "\t<li>3</li>\n",
       "\t<li>1</li>\n",
       "\t<li>1</li>\n",
       "\t<li>1</li>\n",
       "</ol>\n"
      ],
      "text/latex": [
       "\\begin{enumerate*}\n",
       "\\item 2\n",
       "\\item 1\n",
       "\\item 1\n",
       "\\item 2\n",
       "\\item 3\n",
       "\\item 1\n",
       "\\item 1\n",
       "\\item 2\n",
       "\\item 3\n",
       "\\item 1\n",
       "\\item 2\n",
       "\\item 1\n",
       "\\item 1\n",
       "\\item 1\n",
       "\\item 1\n",
       "\\item 1\n",
       "\\item 3\n",
       "\\item 1\n",
       "\\item 1\n",
       "\\item 1\n",
       "\\end{enumerate*}\n"
      ],
      "text/markdown": [
       "1. 2\n",
       "2. 1\n",
       "3. 1\n",
       "4. 2\n",
       "5. 3\n",
       "6. 1\n",
       "7. 1\n",
       "8. 2\n",
       "9. 3\n",
       "10. 1\n",
       "11. 2\n",
       "12. 1\n",
       "13. 1\n",
       "14. 1\n",
       "15. 1\n",
       "16. 1\n",
       "17. 3\n",
       "18. 1\n",
       "19. 1\n",
       "20. 1\n",
       "\n",
       "\n"
      ],
      "text/plain": [
       " [1] 2 1 1 2 3 1 1 2 3 1 2 1 1 1 1 1 3 1 1 1"
      ]
     },
     "metadata": {},
     "output_type": "display_data"
    }
   ],
   "source": [
    "# Generate three different categories randomly \n",
    "m <- sample(1:3, n, replace = TRUE)\n",
    "\n",
    "m"
   ]
  },
  {
   "cell_type": "code",
   "execution_count": 18,
   "metadata": {},
   "outputs": [
    {
     "data": {
      "text/html": [
       "<ol class=list-inline>\n",
       "\t<li>2</li>\n",
       "\t<li>1</li>\n",
       "\t<li>1</li>\n",
       "\t<li>2</li>\n",
       "\t<li>3</li>\n",
       "\t<li>1</li>\n",
       "\t<li>1</li>\n",
       "\t<li>2</li>\n",
       "\t<li>3</li>\n",
       "\t<li>1</li>\n",
       "\t<li>2</li>\n",
       "\t<li>1</li>\n",
       "\t<li>1</li>\n",
       "\t<li>1</li>\n",
       "\t<li>1</li>\n",
       "\t<li>1</li>\n",
       "\t<li>3</li>\n",
       "\t<li>1</li>\n",
       "\t<li>1</li>\n",
       "\t<li>1</li>\n",
       "</ol>\n"
      ],
      "text/latex": [
       "\\begin{enumerate*}\n",
       "\\item 2\n",
       "\\item 1\n",
       "\\item 1\n",
       "\\item 2\n",
       "\\item 3\n",
       "\\item 1\n",
       "\\item 1\n",
       "\\item 2\n",
       "\\item 3\n",
       "\\item 1\n",
       "\\item 2\n",
       "\\item 1\n",
       "\\item 1\n",
       "\\item 1\n",
       "\\item 1\n",
       "\\item 1\n",
       "\\item 3\n",
       "\\item 1\n",
       "\\item 1\n",
       "\\item 1\n",
       "\\end{enumerate*}\n"
      ],
      "text/markdown": [
       "1. 2\n",
       "2. 1\n",
       "3. 1\n",
       "4. 2\n",
       "5. 3\n",
       "6. 1\n",
       "7. 1\n",
       "8. 2\n",
       "9. 3\n",
       "10. 1\n",
       "11. 2\n",
       "12. 1\n",
       "13. 1\n",
       "14. 1\n",
       "15. 1\n",
       "16. 1\n",
       "17. 3\n",
       "18. 1\n",
       "19. 1\n",
       "20. 1\n",
       "\n",
       "\n"
      ],
      "text/plain": [
       " [1] 2 1 1 2 3 1 1 2 3 1 2 1 1 1 1 1 3 1 1 1\n",
       "Levels: 1 2 3"
      ]
     },
     "metadata": {},
     "output_type": "display_data"
    }
   ],
   "source": [
    "m <- factor(m, levels = 1:3)\n",
    "\n",
    "m"
   ]
  },
  {
   "cell_type": "code",
   "execution_count": 19,
   "metadata": {
    "collapsed": true
   },
   "outputs": [],
   "source": [
    "window <- owin(xrange, yrange)"
   ]
  },
  {
   "cell_type": "code",
   "execution_count": 20,
   "metadata": {},
   "outputs": [
    {
     "data": {
      "text/plain": [
       "Marked planar point pattern: 20 points\n",
       "Multitype, with levels = 1, 2, 3 \n",
       "window: rectangle = [265131.4, 847373] x [3986650, 4496645] units"
      ]
     },
     "metadata": {},
     "output_type": "display_data"
    }
   ],
   "source": [
    "# Create ppp object\n",
    "point.pattern <- ppp(x, y, window = window, marks = m)\n",
    "\n",
    "point.pattern"
   ]
  },
  {
   "cell_type": "code",
   "execution_count": 21,
   "metadata": {},
   "outputs": [
    {
     "data": {
      "image/png": "[encoded data removed]",
      "text/plain": [
       "Plot with title \"Random Point Distribution\""
      ]
     },
     "metadata": {},
     "output_type": "display_data"
    }
   ],
   "source": [
    "# Plot the ppp object\n",
    "plot(point.pattern, shape = c(\"circles\", \"circles\", \"circles\"), \n",
    "             cols = c(\"red\",\"green\",\"blue\"),\n",
    "             size = 7200,\n",
    "             main = \"Random Point Distribution\")"
   ]
  },
  {
   "cell_type": "markdown",
   "metadata": {},
   "source": [
    "### Convert ppp to Spatial Data Frame\n",
    "\n",
    "While plotting using the spatstat routines is viable, it may be better at this point if we transform the ppp point pattern object into something more familiar, say a spatial point dataframe. This can be done using the SpatialPointsDataFrame() function (sp library). This function requires the coordinates of points, any data that may be related to the points (if any), the proj4string CRS info, as well as a defined bounding box.\n",
    "\n",
    "After this conversion is complete, the point data can be plotted as we have done before."
   ]
  },
  {
   "cell_type": "code",
   "execution_count": 22,
   "metadata": {},
   "outputs": [
    {
     "data": {
      "text/plain": [
       "Marked planar point pattern: 20 points\n",
       "Multitype, with levels = 1, 2, 3 \n",
       "window: rectangle = [265131.4, 847373] x [3986650, 4496645] units"
      ]
     },
     "metadata": {},
     "output_type": "display_data"
    }
   ],
   "source": [
    "point.pattern"
   ]
  },
  {
   "cell_type": "code",
   "execution_count": 23,
   "metadata": {},
   "outputs": [
    {
     "data": {
      "text/html": [
       "<table>\n",
       "<thead><tr><th scope=col>point.pattern.x</th></tr></thead>\n",
       "<tbody>\n",
       "\t<tr><td>437018.6</td></tr>\n",
       "\t<tr><td>472118.4</td></tr>\n",
       "\t<tr><td>810366.7</td></tr>\n",
       "\t<tr><td>743610.4</td></tr>\n",
       "\t<tr><td>289343.3</td></tr>\n",
       "\t<tr><td>616718.2</td></tr>\n",
       "\t<tr><td>646337.9</td></tr>\n",
       "\t<tr><td>600340.5</td></tr>\n",
       "\t<tr><td>306102.3</td></tr>\n",
       "\t<tr><td>362532.0</td></tr>\n",
       "\t<tr><td>328169.9</td></tr>\n",
       "\t<tr><td>654625.0</td></tr>\n",
       "\t<tr><td>740337.6</td></tr>\n",
       "\t<tr><td>459167.3</td></tr>\n",
       "\t<tr><td>692228.3</td></tr>\n",
       "\t<tr><td>580549.9</td></tr>\n",
       "\t<tr><td>573825.2</td></tr>\n",
       "\t<tr><td>597614.6</td></tr>\n",
       "\t<tr><td>579330.4</td></tr>\n",
       "\t<tr><td>328158.3</td></tr>\n",
       "</tbody>\n",
       "</table>\n"
      ],
      "text/latex": [
       "\\begin{tabular}{r|l}\n",
       " point.pattern.x\\\\\n",
       "\\hline\n",
       "\t 437018.6\\\\\n",
       "\t 472118.4\\\\\n",
       "\t 810366.7\\\\\n",
       "\t 743610.4\\\\\n",
       "\t 289343.3\\\\\n",
       "\t 616718.2\\\\\n",
       "\t 646337.9\\\\\n",
       "\t 600340.5\\\\\n",
       "\t 306102.3\\\\\n",
       "\t 362532.0\\\\\n",
       "\t 328169.9\\\\\n",
       "\t 654625.0\\\\\n",
       "\t 740337.6\\\\\n",
       "\t 459167.3\\\\\n",
       "\t 692228.3\\\\\n",
       "\t 580549.9\\\\\n",
       "\t 573825.2\\\\\n",
       "\t 597614.6\\\\\n",
       "\t 579330.4\\\\\n",
       "\t 328158.3\\\\\n",
       "\\end{tabular}\n"
      ],
      "text/markdown": [
       "\n",
       "point.pattern.x | \n",
       "|---|---|---|---|---|---|---|---|---|---|---|---|---|---|---|---|---|---|---|---|\n",
       "| 437018.6 | \n",
       "| 472118.4 | \n",
       "| 810366.7 | \n",
       "| 743610.4 | \n",
       "| 289343.3 | \n",
       "| 616718.2 | \n",
       "| 646337.9 | \n",
       "| 600340.5 | \n",
       "| 306102.3 | \n",
       "| 362532.0 | \n",
       "| 328169.9 | \n",
       "| 654625.0 | \n",
       "| 740337.6 | \n",
       "| 459167.3 | \n",
       "| 692228.3 | \n",
       "| 580549.9 | \n",
       "| 573825.2 | \n",
       "| 597614.6 | \n",
       "| 579330.4 | \n",
       "| 328158.3 | \n",
       "\n",
       "\n"
      ],
      "text/plain": [
       "   point.pattern.x\n",
       "1  437018.6       \n",
       "2  472118.4       \n",
       "3  810366.7       \n",
       "4  743610.4       \n",
       "5  289343.3       \n",
       "6  616718.2       \n",
       "7  646337.9       \n",
       "8  600340.5       \n",
       "9  306102.3       \n",
       "10 362532.0       \n",
       "11 328169.9       \n",
       "12 654625.0       \n",
       "13 740337.6       \n",
       "14 459167.3       \n",
       "15 692228.3       \n",
       "16 580549.9       \n",
       "17 573825.2       \n",
       "18 597614.6       \n",
       "19 579330.4       \n",
       "20 328158.3       "
      ]
     },
     "metadata": {},
     "output_type": "display_data"
    }
   ],
   "source": [
    "xDF <- data.frame(point.pattern$x)\n",
    "\n",
    "xDF"
   ]
  },
  {
   "cell_type": "code",
   "execution_count": 24,
   "metadata": {},
   "outputs": [
    {
     "data": {
      "text/html": [
       "<table>\n",
       "<thead><tr><th scope=col>point.pattern.y</th></tr></thead>\n",
       "<tbody>\n",
       "\t<tr><td>4070134</td></tr>\n",
       "\t<tr><td>4410688</td></tr>\n",
       "\t<tr><td>4173764</td></tr>\n",
       "\t<tr><td>4371201</td></tr>\n",
       "\t<tr><td>4421649</td></tr>\n",
       "\t<tr><td>4332815</td></tr>\n",
       "\t<tr><td>4375074</td></tr>\n",
       "\t<tr><td>4091944</td></tr>\n",
       "\t<tr><td>4344578</td></tr>\n",
       "\t<tr><td>4444171</td></tr>\n",
       "\t<tr><td>4065661</td></tr>\n",
       "\t<tr><td>4425280</td></tr>\n",
       "\t<tr><td>4174265</td></tr>\n",
       "\t<tr><td>4452254</td></tr>\n",
       "\t<tr><td>4373740</td></tr>\n",
       "\t<tr><td>4059602</td></tr>\n",
       "\t<tr><td>4046645</td></tr>\n",
       "\t<tr><td>4104243</td></tr>\n",
       "\t<tr><td>4359658</td></tr>\n",
       "\t<tr><td>4189003</td></tr>\n",
       "</tbody>\n",
       "</table>\n"
      ],
      "text/latex": [
       "\\begin{tabular}{r|l}\n",
       " point.pattern.y\\\\\n",
       "\\hline\n",
       "\t 4070134\\\\\n",
       "\t 4410688\\\\\n",
       "\t 4173764\\\\\n",
       "\t 4371201\\\\\n",
       "\t 4421649\\\\\n",
       "\t 4332815\\\\\n",
       "\t 4375074\\\\\n",
       "\t 4091944\\\\\n",
       "\t 4344578\\\\\n",
       "\t 4444171\\\\\n",
       "\t 4065661\\\\\n",
       "\t 4425280\\\\\n",
       "\t 4174265\\\\\n",
       "\t 4452254\\\\\n",
       "\t 4373740\\\\\n",
       "\t 4059602\\\\\n",
       "\t 4046645\\\\\n",
       "\t 4104243\\\\\n",
       "\t 4359658\\\\\n",
       "\t 4189003\\\\\n",
       "\\end{tabular}\n"
      ],
      "text/markdown": [
       "\n",
       "point.pattern.y | \n",
       "|---|---|---|---|---|---|---|---|---|---|---|---|---|---|---|---|---|---|---|---|\n",
       "| 4070134 | \n",
       "| 4410688 | \n",
       "| 4173764 | \n",
       "| 4371201 | \n",
       "| 4421649 | \n",
       "| 4332815 | \n",
       "| 4375074 | \n",
       "| 4091944 | \n",
       "| 4344578 | \n",
       "| 4444171 | \n",
       "| 4065661 | \n",
       "| 4425280 | \n",
       "| 4174265 | \n",
       "| 4452254 | \n",
       "| 4373740 | \n",
       "| 4059602 | \n",
       "| 4046645 | \n",
       "| 4104243 | \n",
       "| 4359658 | \n",
       "| 4189003 | \n",
       "\n",
       "\n"
      ],
      "text/plain": [
       "   point.pattern.y\n",
       "1  4070134        \n",
       "2  4410688        \n",
       "3  4173764        \n",
       "4  4371201        \n",
       "5  4421649        \n",
       "6  4332815        \n",
       "7  4375074        \n",
       "8  4091944        \n",
       "9  4344578        \n",
       "10 4444171        \n",
       "11 4065661        \n",
       "12 4425280        \n",
       "13 4174265        \n",
       "14 4452254        \n",
       "15 4373740        \n",
       "16 4059602        \n",
       "17 4046645        \n",
       "18 4104243        \n",
       "19 4359658        \n",
       "20 4189003        "
      ]
     },
     "metadata": {},
     "output_type": "display_data"
    }
   ],
   "source": [
    "yDF <- data.frame(point.pattern$y)\n",
    "\n",
    "yDF"
   ]
  },
  {
   "cell_type": "code",
   "execution_count": 25,
   "metadata": {},
   "outputs": [
    {
     "data": {
      "text/html": [
       "<table>\n",
       "<thead><tr><th scope=col>point.pattern.x</th><th scope=col>point.pattern.y</th></tr></thead>\n",
       "<tbody>\n",
       "\t<tr><td>437018.6</td><td>4070134 </td></tr>\n",
       "\t<tr><td>472118.4</td><td>4410688 </td></tr>\n",
       "\t<tr><td>810366.7</td><td>4173764 </td></tr>\n",
       "\t<tr><td>743610.4</td><td>4371201 </td></tr>\n",
       "\t<tr><td>289343.3</td><td>4421649 </td></tr>\n",
       "\t<tr><td>616718.2</td><td>4332815 </td></tr>\n",
       "\t<tr><td>646337.9</td><td>4375074 </td></tr>\n",
       "\t<tr><td>600340.5</td><td>4091944 </td></tr>\n",
       "\t<tr><td>306102.3</td><td>4344578 </td></tr>\n",
       "\t<tr><td>362532.0</td><td>4444171 </td></tr>\n",
       "\t<tr><td>328169.9</td><td>4065661 </td></tr>\n",
       "\t<tr><td>654625.0</td><td>4425280 </td></tr>\n",
       "\t<tr><td>740337.6</td><td>4174265 </td></tr>\n",
       "\t<tr><td>459167.3</td><td>4452254 </td></tr>\n",
       "\t<tr><td>692228.3</td><td>4373740 </td></tr>\n",
       "\t<tr><td>580549.9</td><td>4059602 </td></tr>\n",
       "\t<tr><td>573825.2</td><td>4046645 </td></tr>\n",
       "\t<tr><td>597614.6</td><td>4104243 </td></tr>\n",
       "\t<tr><td>579330.4</td><td>4359658 </td></tr>\n",
       "\t<tr><td>328158.3</td><td>4189003 </td></tr>\n",
       "</tbody>\n",
       "</table>\n"
      ],
      "text/latex": [
       "\\begin{tabular}{r|ll}\n",
       " point.pattern.x & point.pattern.y\\\\\n",
       "\\hline\n",
       "\t 437018.6 & 4070134 \\\\\n",
       "\t 472118.4 & 4410688 \\\\\n",
       "\t 810366.7 & 4173764 \\\\\n",
       "\t 743610.4 & 4371201 \\\\\n",
       "\t 289343.3 & 4421649 \\\\\n",
       "\t 616718.2 & 4332815 \\\\\n",
       "\t 646337.9 & 4375074 \\\\\n",
       "\t 600340.5 & 4091944 \\\\\n",
       "\t 306102.3 & 4344578 \\\\\n",
       "\t 362532.0 & 4444171 \\\\\n",
       "\t 328169.9 & 4065661 \\\\\n",
       "\t 654625.0 & 4425280 \\\\\n",
       "\t 740337.6 & 4174265 \\\\\n",
       "\t 459167.3 & 4452254 \\\\\n",
       "\t 692228.3 & 4373740 \\\\\n",
       "\t 580549.9 & 4059602 \\\\\n",
       "\t 573825.2 & 4046645 \\\\\n",
       "\t 597614.6 & 4104243 \\\\\n",
       "\t 579330.4 & 4359658 \\\\\n",
       "\t 328158.3 & 4189003 \\\\\n",
       "\\end{tabular}\n"
      ],
      "text/markdown": [
       "\n",
       "point.pattern.x | point.pattern.y | \n",
       "|---|---|---|---|---|---|---|---|---|---|---|---|---|---|---|---|---|---|---|---|\n",
       "| 437018.6 | 4070134  | \n",
       "| 472118.4 | 4410688  | \n",
       "| 810366.7 | 4173764  | \n",
       "| 743610.4 | 4371201  | \n",
       "| 289343.3 | 4421649  | \n",
       "| 616718.2 | 4332815  | \n",
       "| 646337.9 | 4375074  | \n",
       "| 600340.5 | 4091944  | \n",
       "| 306102.3 | 4344578  | \n",
       "| 362532.0 | 4444171  | \n",
       "| 328169.9 | 4065661  | \n",
       "| 654625.0 | 4425280  | \n",
       "| 740337.6 | 4174265  | \n",
       "| 459167.3 | 4452254  | \n",
       "| 692228.3 | 4373740  | \n",
       "| 580549.9 | 4059602  | \n",
       "| 573825.2 | 4046645  | \n",
       "| 597614.6 | 4104243  | \n",
       "| 579330.4 | 4359658  | \n",
       "| 328158.3 | 4189003  | \n",
       "\n",
       "\n"
      ],
      "text/plain": [
       "   point.pattern.x point.pattern.y\n",
       "1  437018.6        4070134        \n",
       "2  472118.4        4410688        \n",
       "3  810366.7        4173764        \n",
       "4  743610.4        4371201        \n",
       "5  289343.3        4421649        \n",
       "6  616718.2        4332815        \n",
       "7  646337.9        4375074        \n",
       "8  600340.5        4091944        \n",
       "9  306102.3        4344578        \n",
       "10 362532.0        4444171        \n",
       "11 328169.9        4065661        \n",
       "12 654625.0        4425280        \n",
       "13 740337.6        4174265        \n",
       "14 459167.3        4452254        \n",
       "15 692228.3        4373740        \n",
       "16 580549.9        4059602        \n",
       "17 573825.2        4046645        \n",
       "18 597614.6        4104243        \n",
       "19 579330.4        4359658        \n",
       "20 328158.3        4189003        "
      ]
     },
     "metadata": {},
     "output_type": "display_data"
    }
   ],
   "source": [
    "# extract coordinates from ppp object\n",
    "ptcoords <- cbind(xDF, yDF)\n",
    "\n",
    "ptcoords"
   ]
  },
  {
   "cell_type": "code",
   "execution_count": 26,
   "metadata": {},
   "outputs": [
    {
     "data": {
      "text/html": [
       "'+proj=utm +zone=15 +datum=NAD83 +units=m +no_defs +ellps=GRS80 +towgs84=0,0,0'"
      ],
      "text/latex": [
       "'+proj=utm +zone=15 +datum=NAD83 +units=m +no\\_defs +ellps=GRS80 +towgs84=0,0,0'"
      ],
      "text/markdown": [
       "'+proj=utm +zone=15 +datum=NAD83 +units=m +no_defs +ellps=GRS80 +towgs84=0,0,0'"
      ],
      "text/plain": [
       "[1] \"+proj=utm +zone=15 +datum=NAD83 +units=m +no_defs +ellps=GRS80 +towgs84=0,0,0\""
      ]
     },
     "metadata": {},
     "output_type": "display_data"
    }
   ],
   "source": [
    "#get projection of input data\n",
    "\n",
    "prj <- proj4string(counties)\n",
    "\n",
    "prj"
   ]
  },
  {
   "cell_type": "code",
   "execution_count": 27,
   "metadata": {},
   "outputs": [
    {
     "data": {
      "text/html": [
       "<table>\n",
       "<thead><tr><th></th><th scope=col>min</th><th scope=col>max</th></tr></thead>\n",
       "<tbody>\n",
       "\t<tr><th scope=row>x</th><td> 265131.4</td><td> 847373  </td></tr>\n",
       "\t<tr><th scope=row>y</th><td>3986649.6</td><td>4496645  </td></tr>\n",
       "</tbody>\n",
       "</table>\n"
      ],
      "text/latex": [
       "\\begin{tabular}{r|ll}\n",
       "  & min & max\\\\\n",
       "\\hline\n",
       "\tx &  265131.4 &  847373  \\\\\n",
       "\ty & 3986649.6 & 4496645  \\\\\n",
       "\\end{tabular}\n"
      ],
      "text/markdown": [
       "\n",
       "| <!--/--> | min | max | \n",
       "|---|---|\n",
       "| x |  265131.4 |  847373   | \n",
       "| y | 3986649.6 | 4496645   | \n",
       "\n",
       "\n"
      ],
      "text/plain": [
       "  min       max    \n",
       "x  265131.4  847373\n",
       "y 3986649.6 4496645"
      ]
     },
     "metadata": {},
     "output_type": "display_data"
    }
   ],
   "source": [
    "#get bounding box of input data\n",
    "\n",
    "bb <- bbox(counties)\n",
    "\n",
    "bb"
   ]
  },
  {
   "cell_type": "code",
   "execution_count": 28,
   "metadata": {},
   "outputs": [
    {
     "data": {
      "text/plain": [
       "          coordinates        x       y marks\n",
       "1 (437018.6, 4070134) 437018.6 4070134     2\n",
       "2 (472118.4, 4410688) 472118.4 4410688     1\n",
       "3 (810366.7, 4173764) 810366.7 4173764     1\n",
       "4 (743610.4, 4371201) 743610.4 4371201     2\n",
       "5 (289343.3, 4421649) 289343.3 4421649     3\n",
       "6 (616718.2, 4332815) 616718.2 4332815     1"
      ]
     },
     "metadata": {},
     "output_type": "display_data"
    }
   ],
   "source": [
    "# create to spatial points data frame\n",
    "\n",
    "spts <- SpatialPointsDataFrame(ptcoords, \n",
    "                                   data = data.frame(point.pattern), \n",
    "                                   proj4string = CRS(prj), \n",
    "                                   bbox = bb)\n",
    "\n",
    "head(spts)"
   ]
  },
  {
   "cell_type": "code",
   "execution_count": 29,
   "metadata": {},
   "outputs": [
    {
     "data": {
      "text/html": [
       "<ol class=list-inline>\n",
       "\t<li>20</li>\n",
       "\t<li>3</li>\n",
       "</ol>\n"
      ],
      "text/latex": [
       "\\begin{enumerate*}\n",
       "\\item 20\n",
       "\\item 3\n",
       "\\end{enumerate*}\n"
      ],
      "text/markdown": [
       "1. 20\n",
       "2. 3\n",
       "\n",
       "\n"
      ],
      "text/plain": [
       "[1] 20  3"
      ]
     },
     "metadata": {},
     "output_type": "display_data"
    }
   ],
   "source": [
    "dim(spts)"
   ]
  },
  {
   "cell_type": "code",
   "execution_count": 30,
   "metadata": {
    "collapsed": true
   },
   "outputs": [],
   "source": [
    "#assign colors to categories\n",
    "pal <- c(\"blue\",\"red\",\"green\")\n",
    "val <- as.numeric(spts@data$marks)\n",
    "cols <- pal[val]"
   ]
  },
  {
   "cell_type": "code",
   "execution_count": 31,
   "metadata": {},
   "outputs": [
    {
     "data": {
      "text/html": [
       "<ol class=list-inline>\n",
       "\t<li>'blue'</li>\n",
       "\t<li>'red'</li>\n",
       "\t<li>'green'</li>\n",
       "</ol>\n"
      ],
      "text/latex": [
       "\\begin{enumerate*}\n",
       "\\item 'blue'\n",
       "\\item 'red'\n",
       "\\item 'green'\n",
       "\\end{enumerate*}\n"
      ],
      "text/markdown": [
       "1. 'blue'\n",
       "2. 'red'\n",
       "3. 'green'\n",
       "\n",
       "\n"
      ],
      "text/plain": [
       "[1] \"blue\"  \"red\"   \"green\""
      ]
     },
     "metadata": {},
     "output_type": "display_data"
    }
   ],
   "source": [
    "pal"
   ]
  },
  {
   "cell_type": "code",
   "execution_count": 32,
   "metadata": {},
   "outputs": [
    {
     "data": {
      "text/html": [
       "<ol class=list-inline>\n",
       "\t<li>2</li>\n",
       "\t<li>1</li>\n",
       "\t<li>1</li>\n",
       "\t<li>2</li>\n",
       "\t<li>3</li>\n",
       "\t<li>1</li>\n",
       "\t<li>1</li>\n",
       "\t<li>2</li>\n",
       "\t<li>3</li>\n",
       "\t<li>1</li>\n",
       "\t<li>2</li>\n",
       "\t<li>1</li>\n",
       "\t<li>1</li>\n",
       "\t<li>1</li>\n",
       "\t<li>1</li>\n",
       "\t<li>1</li>\n",
       "\t<li>3</li>\n",
       "\t<li>1</li>\n",
       "\t<li>1</li>\n",
       "\t<li>1</li>\n",
       "</ol>\n"
      ],
      "text/latex": [
       "\\begin{enumerate*}\n",
       "\\item 2\n",
       "\\item 1\n",
       "\\item 1\n",
       "\\item 2\n",
       "\\item 3\n",
       "\\item 1\n",
       "\\item 1\n",
       "\\item 2\n",
       "\\item 3\n",
       "\\item 1\n",
       "\\item 2\n",
       "\\item 1\n",
       "\\item 1\n",
       "\\item 1\n",
       "\\item 1\n",
       "\\item 1\n",
       "\\item 3\n",
       "\\item 1\n",
       "\\item 1\n",
       "\\item 1\n",
       "\\end{enumerate*}\n"
      ],
      "text/markdown": [
       "1. 2\n",
       "2. 1\n",
       "3. 1\n",
       "4. 2\n",
       "5. 3\n",
       "6. 1\n",
       "7. 1\n",
       "8. 2\n",
       "9. 3\n",
       "10. 1\n",
       "11. 2\n",
       "12. 1\n",
       "13. 1\n",
       "14. 1\n",
       "15. 1\n",
       "16. 1\n",
       "17. 3\n",
       "18. 1\n",
       "19. 1\n",
       "20. 1\n",
       "\n",
       "\n"
      ],
      "text/plain": [
       " [1] 2 1 1 2 3 1 1 2 3 1 2 1 1 1 1 1 3 1 1 1"
      ]
     },
     "metadata": {},
     "output_type": "display_data"
    }
   ],
   "source": [
    "val"
   ]
  },
  {
   "cell_type": "code",
   "execution_count": 33,
   "metadata": {},
   "outputs": [
    {
     "data": {
      "text/html": [
       "<ol class=list-inline>\n",
       "\t<li>'red'</li>\n",
       "\t<li>'blue'</li>\n",
       "\t<li>'blue'</li>\n",
       "\t<li>'red'</li>\n",
       "\t<li>'green'</li>\n",
       "\t<li>'blue'</li>\n",
       "\t<li>'blue'</li>\n",
       "\t<li>'red'</li>\n",
       "\t<li>'green'</li>\n",
       "\t<li>'blue'</li>\n",
       "</ol>\n"
      ],
      "text/latex": [
       "\\begin{enumerate*}\n",
       "\\item 'red'\n",
       "\\item 'blue'\n",
       "\\item 'blue'\n",
       "\\item 'red'\n",
       "\\item 'green'\n",
       "\\item 'blue'\n",
       "\\item 'blue'\n",
       "\\item 'red'\n",
       "\\item 'green'\n",
       "\\item 'blue'\n",
       "\\end{enumerate*}\n"
      ],
      "text/markdown": [
       "1. 'red'\n",
       "2. 'blue'\n",
       "3. 'blue'\n",
       "4. 'red'\n",
       "5. 'green'\n",
       "6. 'blue'\n",
       "7. 'blue'\n",
       "8. 'red'\n",
       "9. 'green'\n",
       "10. 'blue'\n",
       "\n",
       "\n"
      ],
      "text/plain": [
       " [1] \"red\"   \"blue\"  \"blue\"  \"red\"   \"green\" \"blue\"  \"blue\"  \"red\"   \"green\"\n",
       "[10] \"blue\" "
      ]
     },
     "metadata": {},
     "output_type": "display_data"
    }
   ],
   "source": [
    "cols[1:10]"
   ]
  },
  {
   "cell_type": "code",
   "execution_count": 34,
   "metadata": {},
   "outputs": [
    {
     "data": {
      "image/png": "[encoded data removed]",
      "text/plain": [
       "Plot with title \"Uniformly Distributed Points\""
      ]
     },
     "metadata": {},
     "output_type": "display_data"
    }
   ],
   "source": [
    "#plot the points\n",
    "plot(spts, col = cols, pch = 20, cex = 3, \n",
    "         lwd = 0.2, \n",
    "         main = \"Uniformly Distributed Points\", \n",
    "         cex.main = 0.8)\n",
    "\n",
    "leg <- c(\"1\", \"2\",\"3\")\n",
    "\n",
    "legend(\"bottomleft\", fill = pal, legend = leg, bty = \"n\")\n",
    "\n",
    "plot(counties, add = TRUE)\n",
    "\n",
    "centroids <- gCentroid(spts, byid = TRUE)\n",
    "\n",
    "centroidLons <- coordinates(spts)[,1]\n",
    "\n",
    "centroidLats <- coordinates(spts)[,2]\n",
    "\n",
    "\n",
    "#label points\n",
    "text(centroidLons, centroidLats, labels = spts@data$mark,cex = 0.4)"
   ]
  },
  {
   "cell_type": "markdown",
   "metadata": {},
   "source": [
    "## Stratified Random Distribution"
   ]
  },
  {
   "cell_type": "markdown",
   "metadata": {},
   "source": [
    "Given an extent window, a stratified random point pattern can be implemented using the rstrat() function. This function divides the extent window into a set of rectangular grid tiles and places k random points independently within each tile. In this example, nx and ny control the number of grid tiles that are used to subdivide the region. \n",
    "\n",
    "Experiment with this function - i.e. change nx, ny, k and observe what happens. Keep in mind though that larger nx and ny and k can result in voluminous results."
   ]
  },
  {
   "cell_type": "code",
   "execution_count": 36,
   "metadata": {},
   "outputs": [
    {
     "data": {
      "text/plain": [
       "window: rectangle = [265131.4, 847373] x [3986650, 4496645] units"
      ]
     },
     "metadata": {},
     "output_type": "display_data"
    }
   ],
   "source": [
    "# Create an extent window object\n",
    "window.obj <- owin(xrange, yrange)\n",
    "\n",
    "window.obj"
   ]
  },
  {
   "cell_type": "code",
   "execution_count": 37,
   "metadata": {},
   "outputs": [
    {
     "data": {
      "text/plain": [
       "Planar point pattern: 100 points\n",
       "window: rectangle = [265131.4, 847373] x [3986650, 4496645] units"
      ]
     },
     "metadata": {},
     "output_type": "display_data"
    }
   ],
   "source": [
    "# Simulate stratified point pattern\n",
    "point.strat.pattern <- rstrat(window.obj, nx = 10, ny = 10, k = 1)\n",
    "\n",
    "point.strat.pattern"
   ]
  },
  {
   "cell_type": "code",
   "execution_count": 38,
   "metadata": {},
   "outputs": [
    {
     "data": {
      "text/html": [
       "<table>\n",
       "<thead><tr><th scope=col>point.strat.pattern.x</th><th scope=col>point.strat.pattern.y</th></tr></thead>\n",
       "<tbody>\n",
       "\t<tr><td>297774.9</td><td>4021837 </td></tr>\n",
       "\t<tr><td>324608.1</td><td>3999465 </td></tr>\n",
       "\t<tr><td>435445.6</td><td>4011586 </td></tr>\n",
       "\t<tr><td>488879.7</td><td>3996966 </td></tr>\n",
       "\t<tr><td>529141.2</td><td>4010051 </td></tr>\n",
       "\t<tr><td>556500.7</td><td>4007815 </td></tr>\n",
       "</tbody>\n",
       "</table>\n"
      ],
      "text/latex": [
       "\\begin{tabular}{r|ll}\n",
       " point.strat.pattern.x & point.strat.pattern.y\\\\\n",
       "\\hline\n",
       "\t 297774.9 & 4021837 \\\\\n",
       "\t 324608.1 & 3999465 \\\\\n",
       "\t 435445.6 & 4011586 \\\\\n",
       "\t 488879.7 & 3996966 \\\\\n",
       "\t 529141.2 & 4010051 \\\\\n",
       "\t 556500.7 & 4007815 \\\\\n",
       "\\end{tabular}\n"
      ],
      "text/markdown": [
       "\n",
       "point.strat.pattern.x | point.strat.pattern.y | \n",
       "|---|---|---|---|---|---|\n",
       "| 297774.9 | 4021837  | \n",
       "| 324608.1 | 3999465  | \n",
       "| 435445.6 | 4011586  | \n",
       "| 488879.7 | 3996966  | \n",
       "| 529141.2 | 4010051  | \n",
       "| 556500.7 | 4007815  | \n",
       "\n",
       "\n"
      ],
      "text/plain": [
       "  point.strat.pattern.x point.strat.pattern.y\n",
       "1 297774.9              4021837              \n",
       "2 324608.1              3999465              \n",
       "3 435445.6              4011586              \n",
       "4 488879.7              3996966              \n",
       "5 529141.2              4010051              \n",
       "6 556500.7              4007815              "
      ]
     },
     "metadata": {},
     "output_type": "display_data"
    }
   ],
   "source": [
    "xDF <- data.frame(point.strat.pattern$x)\n",
    "yDF <- data.frame(point.strat.pattern$y)\n",
    "\n",
    "# extract coordinates from ppp object\n",
    "ptcoords <- cbind(xDF, yDF)\n",
    "\n",
    "head(ptcoords)"
   ]
  },
  {
   "cell_type": "code",
   "execution_count": 39,
   "metadata": {},
   "outputs": [
    {
     "data": {
      "text/plain": [
       "          coordinates        x       y\n",
       "1 (297774.9, 4021837) 297774.9 4021837\n",
       "2 (324608.1, 3999465) 324608.1 3999465\n",
       "3 (435445.6, 4011586) 435445.6 4011586\n",
       "4 (488879.7, 3996966) 488879.7 3996966\n",
       "5 (529141.2, 4010051) 529141.2 4010051\n",
       "6 (556500.7, 4007815) 556500.7 4007815"
      ]
     },
     "metadata": {},
     "output_type": "display_data"
    }
   ],
   "source": [
    "# create to spatial points data frame\n",
    "spts <- SpatialPointsDataFrame(ptcoords, \n",
    "                                   data = data.frame(point.strat.pattern), \n",
    "                                   proj4string = CRS(prj),\n",
    "                                   bbox = bb)\n",
    "\n",
    "head(spts)"
   ]
  },
  {
   "cell_type": "code",
   "execution_count": 40,
   "metadata": {},
   "outputs": [
    {
     "data": {
      "image/png": "[encoded data removed]",
      "text/plain": [
       "Plot with title \"Stratified Random Distribution\""
      ]
     },
     "metadata": {},
     "output_type": "display_data"
    }
   ],
   "source": [
    "#plot the points\n",
    "cols <- c(\"red\")\n",
    "\n",
    "plot(spts, col = cols, pch = 20, \n",
    "         cex = 3, lwd = 0.2, \n",
    "         main=\"Stratified Random Distribution\", \n",
    "         cex.main = 0.8)\n",
    "\n",
    "plot(counties, add = TRUE, lwd = 0.5)"
   ]
  },
  {
   "cell_type": "markdown",
   "metadata": {},
   "source": [
    "## Randomly Distributed Points\n",
    "\n",
    "Here, rpoint() function is applied to retrieve a random independent, identically distributed point pattern for a specified distribution. In this case, the probability density is proportional to x^2 + y^2. However, this function allows any distribution function to be entered."
   ]
  },
  {
   "cell_type": "code",
   "execution_count": 41,
   "metadata": {},
   "outputs": [
    {
     "data": {
      "text/html": [
       "<ol class=list-inline>\n",
       "\t<li>265131.372014953</li>\n",
       "\t<li>847373.048276251</li>\n",
       "</ol>\n"
      ],
      "text/latex": [
       "\\begin{enumerate*}\n",
       "\\item 265131.372014953\n",
       "\\item 847373.048276251\n",
       "\\end{enumerate*}\n"
      ],
      "text/markdown": [
       "1. 265131.372014953\n",
       "2. 847373.048276251\n",
       "\n",
       "\n"
      ],
      "text/plain": [
       "[1] 265131.4 847373.0"
      ]
     },
     "metadata": {},
     "output_type": "display_data"
    }
   ],
   "source": [
    "xrange"
   ]
  },
  {
   "cell_type": "code",
   "execution_count": 42,
   "metadata": {},
   "outputs": [
    {
     "data": {
      "text/html": [
       "<ol class=list-inline>\n",
       "\t<li>3986649.64365712</li>\n",
       "\t<li>4496645.08505634</li>\n",
       "</ol>\n"
      ],
      "text/latex": [
       "\\begin{enumerate*}\n",
       "\\item 3986649.64365712\n",
       "\\item 4496645.08505634\n",
       "\\end{enumerate*}\n"
      ],
      "text/markdown": [
       "1. 3986649.64365712\n",
       "2. 4496645.08505634\n",
       "\n",
       "\n"
      ],
      "text/plain": [
       "[1] 3986650 4496645"
      ]
     },
     "metadata": {},
     "output_type": "display_data"
    }
   ],
   "source": [
    "yrange"
   ]
  },
  {
   "cell_type": "code",
   "execution_count": 43,
   "metadata": {},
   "outputs": [
    {
     "data": {
      "text/plain": [
       "window: rectangle = [265131.4, 847373] x [3986650, 4496645] units"
      ]
     },
     "metadata": {},
     "output_type": "display_data"
    }
   ],
   "source": [
    "# Create an extent window object\n",
    "window.obj <- owin(xrange, yrange)\n",
    "\n",
    "window.obj"
   ]
  },
  {
   "cell_type": "code",
   "execution_count": 44,
   "metadata": {
    "collapsed": true
   },
   "outputs": [],
   "source": [
    "# Set number of points to be sampled\n",
    "n <- 20\n",
    "\n",
    "fun <- function(x, y) { \n",
    "    x^2 + y^2\n",
    "}\n",
    "\n",
    "# Random points with probability density proportional to x^2 + y^2\n",
    "random.point.pattern <- rpoint(n, win = window.obj, fun, 1)"
   ]
  },
  {
   "cell_type": "code",
   "execution_count": 45,
   "metadata": {},
   "outputs": [
    {
     "data": {
      "text/plain": [
       "Planar point pattern: 20 points\n",
       "window: rectangle = [265131.4, 847373] x [3986650, 4496645] units"
      ]
     },
     "metadata": {},
     "output_type": "display_data"
    }
   ],
   "source": [
    "random.point.pattern"
   ]
  },
  {
   "cell_type": "code",
   "execution_count": 46,
   "metadata": {},
   "outputs": [
    {
     "data": {
      "text/html": [
       "<table>\n",
       "<thead><tr><th scope=col>xDF</th><th scope=col>random.point.pattern.y</th></tr></thead>\n",
       "<tbody>\n",
       "\t<tr><td>300599.6</td><td>4427970 </td></tr>\n",
       "\t<tr><td>347609.6</td><td>4340011 </td></tr>\n",
       "\t<tr><td>774410.0</td><td>4229092 </td></tr>\n",
       "\t<tr><td>309708.5</td><td>4450147 </td></tr>\n",
       "\t<tr><td>503752.1</td><td>4317454 </td></tr>\n",
       "\t<tr><td>414682.4</td><td>4416140 </td></tr>\n",
       "</tbody>\n",
       "</table>\n"
      ],
      "text/latex": [
       "\\begin{tabular}{r|ll}\n",
       " xDF & random.point.pattern.y\\\\\n",
       "\\hline\n",
       "\t 300599.6 & 4427970 \\\\\n",
       "\t 347609.6 & 4340011 \\\\\n",
       "\t 774410.0 & 4229092 \\\\\n",
       "\t 309708.5 & 4450147 \\\\\n",
       "\t 503752.1 & 4317454 \\\\\n",
       "\t 414682.4 & 4416140 \\\\\n",
       "\\end{tabular}\n"
      ],
      "text/markdown": [
       "\n",
       "xDF | random.point.pattern.y | \n",
       "|---|---|---|---|---|---|\n",
       "| 300599.6 | 4427970  | \n",
       "| 347609.6 | 4340011  | \n",
       "| 774410.0 | 4229092  | \n",
       "| 309708.5 | 4450147  | \n",
       "| 503752.1 | 4317454  | \n",
       "| 414682.4 | 4416140  | \n",
       "\n",
       "\n"
      ],
      "text/plain": [
       "  xDF      random.point.pattern.y\n",
       "1 300599.6 4427970               \n",
       "2 347609.6 4340011               \n",
       "3 774410.0 4229092               \n",
       "4 309708.5 4450147               \n",
       "5 503752.1 4317454               \n",
       "6 414682.4 4416140               "
      ]
     },
     "metadata": {},
     "output_type": "display_data"
    }
   ],
   "source": [
    "xDF <- data.frame(random.point.pattern)$x\n",
    "yDF <- data.frame(random.point.pattern$y)\n",
    "\n",
    "# extract coordinates from ppp object\n",
    "ptcoords <- cbind(xDF, yDF)\n",
    "\n",
    "head(ptcoords)"
   ]
  },
  {
   "cell_type": "code",
   "execution_count": 47,
   "metadata": {},
   "outputs": [
    {
     "data": {
      "text/plain": [
       "          coordinates        x       y\n",
       "1 (300599.6, 4427970) 300599.6 4427970\n",
       "2 (347609.6, 4340011) 347609.6 4340011\n",
       "3   (774410, 4229092) 774410.0 4229092\n",
       "4 (309708.5, 4450147) 309708.5 4450147\n",
       "5 (503752.1, 4317454) 503752.1 4317454\n",
       "6 (414682.4, 4416140) 414682.4 4416140"
      ]
     },
     "metadata": {},
     "output_type": "display_data"
    }
   ],
   "source": [
    "# create to spatial points data frame\n",
    "spts <- SpatialPointsDataFrame(ptcoords, \n",
    "                                   data = data.frame(random.point.pattern), \n",
    "                                   proj4string = CRS(prj), \n",
    "                                   bbox = bb)\n",
    "\n",
    "\n",
    "head(spts)"
   ]
  },
  {
   "cell_type": "code",
   "execution_count": 48,
   "metadata": {},
   "outputs": [
    {
     "data": {
      "image/png": "[encoded data removed]",
      "text/plain": [
       "Plot with title \"Random Point Distribution (proportional probability density)\""
      ]
     },
     "metadata": {},
     "output_type": "display_data"
    }
   ],
   "source": [
    "#plot the points\n",
    "\n",
    "cols <- c(\"red\")\n",
    "\n",
    "plot(spts, col = cols, pch = 20, cex = 3, lwd = 0.2, \n",
    "         main = \"Random Point Distribution (proportional probability density)\", \n",
    "         cex.main = 0.8)\n",
    "\n",
    "plot(counties, add = TRUE)"
   ]
  },
  {
   "cell_type": "markdown",
   "metadata": {},
   "source": [
    "## Quasi-Random Distributed Points\n",
    "\n",
    "Here, the quasirandom() function is used to simulate a quasi-random independent, identically distributed point pattern for a specified distribution. In this case, the Halton quasi-random number generator is applied."
   ]
  },
  {
   "cell_type": "code",
   "execution_count": 49,
   "metadata": {
    "collapsed": true
   },
   "outputs": [],
   "source": [
    "# Create an extent window object\n",
    "window.obj <- owin(xrange,yrange)\n",
    "\n",
    "# Set number of points to be sampled\n",
    "n <- 20\n",
    "\n",
    "# quasi random point distribution\n",
    "quasirandom.pt.pattern <- rQuasi(n, W=window.obj, type = c(\"Halton\"))"
   ]
  },
  {
   "cell_type": "code",
   "execution_count": 50,
   "metadata": {},
   "outputs": [
    {
     "data": {
      "text/plain": [
       "Planar point pattern: 20 points\n",
       "window: rectangle = [265131.4, 847373] x [3986650, 4496645] units"
      ]
     },
     "metadata": {},
     "output_type": "display_data"
    }
   ],
   "source": [
    "quasirandom.pt.pattern"
   ]
  },
  {
   "cell_type": "code",
   "execution_count": 51,
   "metadata": {},
   "outputs": [
    {
     "data": {
      "text/html": [
       "<table>\n",
       "<thead><tr><th scope=col>data.frame(quasirandom.pt.pattern)$x</th><th scope=col>quasirandom.pt.pattern.y</th></tr></thead>\n",
       "<tbody>\n",
       "\t<tr><td>556252.2</td><td>4156648 </td></tr>\n",
       "\t<tr><td>410691.8</td><td>4326647 </td></tr>\n",
       "\t<tr><td>701812.6</td><td>4043316 </td></tr>\n",
       "\t<tr><td>337911.6</td><td>4213314 </td></tr>\n",
       "\t<tr><td>629032.4</td><td>4383313 </td></tr>\n",
       "\t<tr><td>483472.0</td><td>4099982 </td></tr>\n",
       "</tbody>\n",
       "</table>\n"
      ],
      "text/latex": [
       "\\begin{tabular}{r|ll}\n",
       " data.frame(quasirandom.pt.pattern)\\$x & quasirandom.pt.pattern.y\\\\\n",
       "\\hline\n",
       "\t 556252.2 & 4156648 \\\\\n",
       "\t 410691.8 & 4326647 \\\\\n",
       "\t 701812.6 & 4043316 \\\\\n",
       "\t 337911.6 & 4213314 \\\\\n",
       "\t 629032.4 & 4383313 \\\\\n",
       "\t 483472.0 & 4099982 \\\\\n",
       "\\end{tabular}\n"
      ],
      "text/markdown": [
       "\n",
       "data.frame(quasirandom.pt.pattern)$x | quasirandom.pt.pattern.y | \n",
       "|---|---|---|---|---|---|\n",
       "| 556252.2 | 4156648  | \n",
       "| 410691.8 | 4326647  | \n",
       "| 701812.6 | 4043316  | \n",
       "| 337911.6 | 4213314  | \n",
       "| 629032.4 | 4383313  | \n",
       "| 483472.0 | 4099982  | \n",
       "\n",
       "\n"
      ],
      "text/plain": [
       "  data.frame(quasirandom.pt.pattern)$x quasirandom.pt.pattern.y\n",
       "1 556252.2                             4156648                 \n",
       "2 410691.8                             4326647                 \n",
       "3 701812.6                             4043316                 \n",
       "4 337911.6                             4213314                 \n",
       "5 629032.4                             4383313                 \n",
       "6 483472.0                             4099982                 "
      ]
     },
     "metadata": {},
     "output_type": "display_data"
    }
   ],
   "source": [
    "# extract coordinates from ppp object\n",
    "ptcoords <- cbind(data.frame(quasirandom.pt.pattern)$x, \n",
    "                      data.frame(quasirandom.pt.pattern$y))\n",
    "\n",
    "head(ptcoords)"
   ]
  },
  {
   "cell_type": "code",
   "execution_count": 52,
   "metadata": {},
   "outputs": [
    {
     "data": {
      "text/plain": [
       "          coordinates        x       y\n",
       "1 (556252.2, 4156648) 556252.2 4156648\n",
       "2 (410691.8, 4326647) 410691.8 4326647\n",
       "3 (701812.6, 4043316) 701812.6 4043316\n",
       "4 (337911.6, 4213314) 337911.6 4213314\n",
       "5 (629032.4, 4383313) 629032.4 4383313\n",
       "6   (483472, 4099982) 483472.0 4099982"
      ]
     },
     "metadata": {},
     "output_type": "display_data"
    }
   ],
   "source": [
    "# create to spatial points data frame\n",
    "spts <- SpatialPointsDataFrame(ptcoords, \n",
    "                                   data = data.frame(quasirandom.pt.pattern),\n",
    "                                   proj4string = CRS(prj), \n",
    "                                   bbox = bb)\n",
    "\n",
    "head(spts)"
   ]
  },
  {
   "cell_type": "code",
   "execution_count": 53,
   "metadata": {},
   "outputs": [
    {
     "data": {
      "image/png": "[encoded data removed]",
      "text/plain": [
       "Plot with title \"Quasi-Random Point Distribution (Halton)\""
      ]
     },
     "metadata": {},
     "output_type": "display_data"
    }
   ],
   "source": [
    "#plot the points\n",
    "cols <- c(\"red\")\n",
    "plot(spts, col=cols, pch=20,cex=3,lwd=.2,main=\"Quasi-Random Point Distribution (Halton)\",cex.main=.8)\n",
    "plot(counties,add=TRUE)"
   ]
  },
  {
   "cell_type": "markdown",
   "metadata": {},
   "source": [
    "## Randomly Shift Distributed Points\n",
    "\n",
    "Have you ever been perturbed? Well, it turns out that it is quite easy to perturb a point distribution. Sometimes, it is desirable to slightly perturb the points, something termed jittering. In other cases, one might wish to throw the points into a completely new unfamiliar state. One way to accomplish this is via the rshift() function. This function can be used to apply a random shift to a set of features. Here, it is applied to the quasi-random distribution generated earlier. Observe how the distribution changes."
   ]
  },
  {
   "cell_type": "code",
   "execution_count": 54,
   "metadata": {},
   "outputs": [
    {
     "data": {
      "image/png": "[encoded data removed]",
      "text/plain": [
       "Plot with title \"Shifted Quasi-Random Point Distribution (Halton)\""
      ]
     },
     "metadata": {},
     "output_type": "display_data"
    }
   ],
   "source": [
    "# Create an extent window object\n",
    "window.obj <- owin(xrange,yrange)\n",
    "\n",
    "# Set number of points to be sampled\n",
    "n <- 20\n",
    "\n",
    "# apply random shift to quasi random point distribution\n",
    "shiftrandom.pt.pattern <- rshift(quasirandom.pt.pattern)\n",
    "\n",
    "# extract coordinates from ppp object\n",
    "ptcoords <- cbind(data.frame(shiftrandom.pt.pattern)$x, \n",
    "                          data.frame(shiftrandom.pt.pattern$y))\n",
    "\n",
    "# create to spatial points data frame\n",
    "spts <- SpatialPointsDataFrame(ptcoords, \n",
    "                                   data = data.frame(shiftrandom.pt.pattern), \n",
    "                                   proj4string = CRS(prj),\n",
    "                                   bbox = bb)\n",
    "\n",
    "#plot the points\n",
    "cols <- c(\"red\")\n",
    "plot(spts, col=cols, pch=20,cex=3,lwd=.2,main=\"Shifted Quasi-Random Point Distribution (Halton)\",cex.main=.8)\n",
    "plot(counties,add=TRUE)"
   ]
  },
  {
   "cell_type": "markdown",
   "metadata": {},
   "source": [
    "## Assessing Correspondence among Point Distributions"
   ]
  },
  {
   "cell_type": "markdown",
   "metadata": {},
   "source": [
    "Given two point distributions with the same number of points, one might wish to match each point in one distribution with a point in the other such that the average distances are minimized. This can help when reasoning about the level of spatial correspondence between two point distributions.  The pppdist() function (spatstat library) can assist with this task. First, to random, uniformly distributed sets of 50 points are generated. Then the pppdist() function is applied. "
   ]
  },
  {
   "cell_type": "code",
   "execution_count": 55,
   "metadata": {
    "collapsed": true
   },
   "outputs": [],
   "source": [
    "# Create an extent window object\n",
    "window.obj <- owin(xrange,yrange)\n",
    "\n",
    "# number of point patterns to be simulated \n",
    "n <- 50\n",
    "\n",
    "# Generate two point patterns\n",
    "point.pattern.1 <- runifpoint(n, win = window.obj)\n",
    "point.pattern.2 <- runifpoint(n, win = window.obj)"
   ]
  },
  {
   "cell_type": "code",
   "execution_count": 56,
   "metadata": {},
   "outputs": [
    {
     "data": {
      "text/plain": [
       "Planar point pattern: 50 points\n",
       "window: rectangle = [265131.4, 847373] x [3986650, 4496645] units"
      ]
     },
     "metadata": {},
     "output_type": "display_data"
    }
   ],
   "source": [
    "point.pattern.1"
   ]
  },
  {
   "cell_type": "code",
   "execution_count": 57,
   "metadata": {},
   "outputs": [
    {
     "data": {
      "text/plain": [
       "Planar point pattern: 50 points\n",
       "window: rectangle = [265131.4, 847373] x [3986650, 4496645] units"
      ]
     },
     "metadata": {},
     "output_type": "display_data"
    }
   ],
   "source": [
    "point.pattern.2"
   ]
  },
  {
   "cell_type": "code",
   "execution_count": 58,
   "metadata": {},
   "outputs": [
    {
     "data": {
      "text/plain": [
       "spa-1 matching of two planar point patterns (cutoff = 1) \n",
       "pp1: 50 points \n",
       "pp2: 50 points \n",
       "window: rectangle = [265131.4, 847373] x [3986650, 4496645] units\n",
       "point matching, 50 lines \n",
       "distance: 1 "
      ]
     },
     "metadata": {},
     "output_type": "display_data"
    }
   ],
   "source": [
    "# Conduct optimal point matching\n",
    "matching <- pppdist(point.pattern.1, point.pattern.2)\n",
    "\n",
    "matching"
   ]
  },
  {
   "cell_type": "code",
   "execution_count": 59,
   "metadata": {},
   "outputs": [
    {
     "data": {
      "image/png": "[encoded data removed]",
      "text/plain": [
       "Plot with title \"Optimal Point Matching\""
      ]
     },
     "metadata": {},
     "output_type": "display_data"
    }
   ],
   "source": [
    "# plot\n",
    "plot(matching, main = \"Optimal Point Matching\")"
   ]
  },
  {
   "cell_type": "markdown",
   "metadata": {},
   "source": [
    "## Random, Uniform 3-D Point Distributions"
   ]
  },
  {
   "cell_type": "markdown",
   "metadata": {},
   "source": [
    "The runifpoint3() function (spatstat library) can be used to generate n indpendent random points uniformly distributed in a three dimensional space. The arguments to the function are number of points to be generated and box domain. The box domain can be set by box3 object representing a three dimensional box."
   ]
  },
  {
   "cell_type": "code",
   "execution_count": 60,
   "metadata": {
    "collapsed": true
   },
   "outputs": [],
   "source": [
    "# Set number of points to be sampled\n",
    "n <- 20\n",
    "\n",
    "# Create box object \n",
    "box.3 <- box3(xrange, \n",
    "                  yrange, \n",
    "                  zrange = c(0,200000), \n",
    "                  unitname = c(\"metre\",\"metres\"))\n",
    "\n"
   ]
  },
  {
   "cell_type": "code",
   "execution_count": 61,
   "metadata": {},
   "outputs": [
    {
     "data": {
      "text/plain": [
       "Box: [265130, 847370] x [3986600, 4496600] x [0, 2e+05] metres"
      ]
     },
     "metadata": {},
     "output_type": "display_data"
    }
   ],
   "source": [
    "box.3"
   ]
  },
  {
   "cell_type": "code",
   "execution_count": 62,
   "metadata": {},
   "outputs": [
    {
     "data": {
      "text/html": [
       "<ol class=list-inline>\n",
       "\t<li>'xrange'</li>\n",
       "\t<li>'yrange'</li>\n",
       "\t<li>'zrange'</li>\n",
       "\t<li>'units'</li>\n",
       "</ol>\n"
      ],
      "text/latex": [
       "\\begin{enumerate*}\n",
       "\\item 'xrange'\n",
       "\\item 'yrange'\n",
       "\\item 'zrange'\n",
       "\\item 'units'\n",
       "\\end{enumerate*}\n"
      ],
      "text/markdown": [
       "1. 'xrange'\n",
       "2. 'yrange'\n",
       "3. 'zrange'\n",
       "4. 'units'\n",
       "\n",
       "\n"
      ],
      "text/plain": [
       "[1] \"xrange\" \"yrange\" \"zrange\" \"units\" "
      ]
     },
     "metadata": {},
     "output_type": "display_data"
    }
   ],
   "source": [
    "names(box.3)"
   ]
  },
  {
   "cell_type": "code",
   "execution_count": 63,
   "metadata": {},
   "outputs": [
    {
     "data": {
      "text/html": [
       "<ol class=list-inline>\n",
       "\t<li>265131.372014953</li>\n",
       "\t<li>847373.048276251</li>\n",
       "</ol>\n"
      ],
      "text/latex": [
       "\\begin{enumerate*}\n",
       "\\item 265131.372014953\n",
       "\\item 847373.048276251\n",
       "\\end{enumerate*}\n"
      ],
      "text/markdown": [
       "1. 265131.372014953\n",
       "2. 847373.048276251\n",
       "\n",
       "\n"
      ],
      "text/plain": [
       "[1] 265131.4 847373.0"
      ]
     },
     "metadata": {},
     "output_type": "display_data"
    }
   ],
   "source": [
    "head(box.3$xrange)"
   ]
  },
  {
   "cell_type": "code",
   "execution_count": 64,
   "metadata": {},
   "outputs": [
    {
     "data": {
      "text/plain": [
       "Three-dimensional point pattern\n",
       "20 points\n",
       "Box: [265130, 847370] x [3986600, 4496600] x [0, 2e+05] metres"
      ]
     },
     "metadata": {},
     "output_type": "display_data"
    }
   ],
   "source": [
    "# Generate point pattern\n",
    "point.pattern.3 <- runifpoint3(n, box.3)\n",
    "\n",
    "point.pattern.3"
   ]
  },
  {
   "cell_type": "code",
   "execution_count": 65,
   "metadata": {},
   "outputs": [
    {
     "data": {
      "image/png": "[encoded data removed]",
      "text/plain": [
       "Plot with title \"Random, Uniform 3-D Point Distribution\""
      ]
     },
     "metadata": {},
     "output_type": "display_data"
    }
   ],
   "source": [
    "# Plot generated point pattern\n",
    "plot(point.pattern.3, \n",
    "              main=\"Random, Uniform 3-D Point Distribution\", \n",
    "              box.back = list(lty = 3))"
   ]
  },
  {
   "cell_type": "code",
   "execution_count": 66,
   "metadata": {},
   "outputs": [
    {
     "data": {
      "text/html": [
       "<table>\n",
       "<thead><tr><th scope=col>x</th><th scope=col>y</th><th scope=col>z</th></tr></thead>\n",
       "<tbody>\n",
       "\t<tr><td>389355.3 </td><td>4379335  </td><td> 72138.82</td></tr>\n",
       "\t<tr><td>466790.3 </td><td>4463916  </td><td> 30135.27</td></tr>\n",
       "\t<tr><td>768247.3 </td><td>4419919  </td><td>121450.00</td></tr>\n",
       "\t<tr><td>655857.0 </td><td>4165938  </td><td> 31008.36</td></tr>\n",
       "\t<tr><td>581191.3 </td><td>4022672  </td><td>187894.87</td></tr>\n",
       "\t<tr><td>390258.0 </td><td>4364061  </td><td>135707.67</td></tr>\n",
       "</tbody>\n",
       "</table>\n"
      ],
      "text/latex": [
       "\\begin{tabular}{r|lll}\n",
       " x & y & z\\\\\n",
       "\\hline\n",
       "\t 389355.3  & 4379335   &  72138.82\\\\\n",
       "\t 466790.3  & 4463916   &  30135.27\\\\\n",
       "\t 768247.3  & 4419919   & 121450.00\\\\\n",
       "\t 655857.0  & 4165938   &  31008.36\\\\\n",
       "\t 581191.3  & 4022672   & 187894.87\\\\\n",
       "\t 390258.0  & 4364061   & 135707.67\\\\\n",
       "\\end{tabular}\n"
      ],
      "text/markdown": [
       "\n",
       "x | y | z | \n",
       "|---|---|---|---|---|---|\n",
       "| 389355.3  | 4379335   |  72138.82 | \n",
       "| 466790.3  | 4463916   |  30135.27 | \n",
       "| 768247.3  | 4419919   | 121450.00 | \n",
       "| 655857.0  | 4165938   |  31008.36 | \n",
       "| 581191.3  | 4022672   | 187894.87 | \n",
       "| 390258.0  | 4364061   | 135707.67 | \n",
       "\n",
       "\n"
      ],
      "text/plain": [
       "  x        y       z        \n",
       "1 389355.3 4379335  72138.82\n",
       "2 466790.3 4463916  30135.27\n",
       "3 768247.3 4419919 121450.00\n",
       "4 655857.0 4165938  31008.36\n",
       "5 581191.3 4022672 187894.87\n",
       "6 390258.0 4364061 135707.67"
      ]
     },
     "metadata": {},
     "output_type": "display_data"
    }
   ],
   "source": [
    "# Print point coordinates\n",
    "df3d <- data.frame(point.pattern.3)\n",
    "\n",
    "head(df3d)"
   ]
  },
  {
   "cell_type": "markdown",
   "metadata": {},
   "source": [
    "## Random, Uniform n-Dimensional Point Distributions"
   ]
  },
  {
   "cell_type": "markdown",
   "metadata": {},
   "source": [
    "Random points can be generated in any number of dimensions by function runifpointx(). The number of points to be generated and multi-dimensional box need to be specified for the function. Obviously, objects on more than three dimensions cannot be plotted so the coordinates of generated points can be accessed as below."
   ]
  },
  {
   "cell_type": "code",
   "execution_count": 67,
   "metadata": {},
   "outputs": [
    {
     "data": {
      "text/plain": [
       "4-dimensional box:\n",
       "[265130, 847370] x [3986600, 4496600] x [0, 50000] x [0, 70000] metres  "
      ]
     },
     "metadata": {},
     "output_type": "display_data"
    }
   ],
   "source": [
    "# Set number of points to be sampled\n",
    "n <- 30\n",
    "\n",
    "box.m <- boxx(xrange, \n",
    "                  yrange, \n",
    "                  c(0,50000), \n",
    "                  c(0,70000), \n",
    "                  unitname = c(\"metre\",\"metres\"))\n",
    "\n",
    "box.m"
   ]
  },
  {
   "cell_type": "code",
   "execution_count": 68,
   "metadata": {},
   "outputs": [
    {
     "data": {
      "text/plain": [
       "Multidimensional point pattern\n",
       "30 points \n",
       "4-dimensional space coordinates (x1,x2,x3,x4)\n",
       "Domain:\n",
       "\t4-dimensional box:\n",
       "[265130, 847370] x [3986600, 4496600] x [0, 50000] x [0, 70000] metres  "
      ]
     },
     "metadata": {},
     "output_type": "display_data"
    }
   ],
   "source": [
    "points.multi <- runifpointx(n, box.m)\n",
    "\n",
    "points.multi"
   ]
  },
  {
   "cell_type": "code",
   "execution_count": 69,
   "metadata": {},
   "outputs": [
    {
     "data": {
      "text/html": [
       "<table>\n",
       "<thead><tr><th scope=col>x1</th><th scope=col>x2</th><th scope=col>x3</th><th scope=col>x4</th></tr></thead>\n",
       "<tbody>\n",
       "\t<tr><td>498059.7 </td><td>4444249  </td><td>23368.407</td><td>56314.88 </td></tr>\n",
       "\t<tr><td>522173.6 </td><td>4162018  </td><td>15465.477</td><td>46344.16 </td></tr>\n",
       "\t<tr><td>415067.1 </td><td>4469383  </td><td>10273.677</td><td>59143.33 </td></tr>\n",
       "\t<tr><td>393518.7 </td><td>4451038  </td><td>23314.812</td><td>23683.91 </td></tr>\n",
       "\t<tr><td>803416.9 </td><td>4157266  </td><td>17719.712</td><td>64691.43 </td></tr>\n",
       "\t<tr><td>366559.4 </td><td>4006951  </td><td> 3831.367</td><td>14523.53 </td></tr>\n",
       "</tbody>\n",
       "</table>\n"
      ],
      "text/latex": [
       "\\begin{tabular}{r|llll}\n",
       " x1 & x2 & x3 & x4\\\\\n",
       "\\hline\n",
       "\t 498059.7  & 4444249   & 23368.407 & 56314.88 \\\\\n",
       "\t 522173.6  & 4162018   & 15465.477 & 46344.16 \\\\\n",
       "\t 415067.1  & 4469383   & 10273.677 & 59143.33 \\\\\n",
       "\t 393518.7  & 4451038   & 23314.812 & 23683.91 \\\\\n",
       "\t 803416.9  & 4157266   & 17719.712 & 64691.43 \\\\\n",
       "\t 366559.4  & 4006951   &  3831.367 & 14523.53 \\\\\n",
       "\\end{tabular}\n"
      ],
      "text/markdown": [
       "\n",
       "x1 | x2 | x3 | x4 | \n",
       "|---|---|---|---|---|---|\n",
       "| 498059.7  | 4444249   | 23368.407 | 56314.88  | \n",
       "| 522173.6  | 4162018   | 15465.477 | 46344.16  | \n",
       "| 415067.1  | 4469383   | 10273.677 | 59143.33  | \n",
       "| 393518.7  | 4451038   | 23314.812 | 23683.91  | \n",
       "| 803416.9  | 4157266   | 17719.712 | 64691.43  | \n",
       "| 366559.4  | 4006951   |  3831.367 | 14523.53  | \n",
       "\n",
       "\n"
      ],
      "text/plain": [
       "  x1       x2      x3        x4      \n",
       "1 498059.7 4444249 23368.407 56314.88\n",
       "2 522173.6 4162018 15465.477 46344.16\n",
       "3 415067.1 4469383 10273.677 59143.33\n",
       "4 393518.7 4451038 23314.812 23683.91\n",
       "5 803416.9 4157266 17719.712 64691.43\n",
       "6 366559.4 4006951  3831.367 14523.53"
      ]
     },
     "metadata": {},
     "output_type": "display_data"
    }
   ],
   "source": [
    "head(data.frame(points.multi))"
   ]
  },
  {
   "cell_type": "markdown",
   "metadata": {},
   "source": [
    "## Random Line Distribution"
   ]
  },
  {
   "cell_type": "markdown",
   "metadata": {},
   "source": [
    "The psp() function (spdep library) can be used to create line segment patterns in a two-dimensional plane. The arguments include vectors of cartesian coordinates of endpoints, and window of observations, an object of class \"owin\". Here, we create n random segments and the window argument is set by observations."
   ]
  },
  {
   "cell_type": "code",
   "execution_count": 70,
   "metadata": {},
   "outputs": [
    {
     "data": {
      "text/html": [
       "<table>\n",
       "<thead><tr><th scope=col>A</th><th scope=col>B</th></tr></thead>\n",
       "<tbody>\n",
       "\t<tr><td> 1</td><td>a </td></tr>\n",
       "\t<tr><td> 2</td><td>b </td></tr>\n",
       "\t<tr><td> 3</td><td>c </td></tr>\n",
       "\t<tr><td> 4</td><td>d </td></tr>\n",
       "\t<tr><td> 5</td><td>e </td></tr>\n",
       "\t<tr><td> 6</td><td>f </td></tr>\n",
       "\t<tr><td> 7</td><td>g </td></tr>\n",
       "\t<tr><td> 8</td><td>h </td></tr>\n",
       "\t<tr><td> 9</td><td>i </td></tr>\n",
       "\t<tr><td>10</td><td>j </td></tr>\n",
       "</tbody>\n",
       "</table>\n"
      ],
      "text/latex": [
       "\\begin{tabular}{r|ll}\n",
       " A & B\\\\\n",
       "\\hline\n",
       "\t  1 & a \\\\\n",
       "\t  2 & b \\\\\n",
       "\t  3 & c \\\\\n",
       "\t  4 & d \\\\\n",
       "\t  5 & e \\\\\n",
       "\t  6 & f \\\\\n",
       "\t  7 & g \\\\\n",
       "\t  8 & h \\\\\n",
       "\t  9 & i \\\\\n",
       "\t 10 & j \\\\\n",
       "\\end{tabular}\n"
      ],
      "text/markdown": [
       "\n",
       "A | B | \n",
       "|---|---|---|---|---|---|---|---|---|---|\n",
       "|  1 | a  | \n",
       "|  2 | b  | \n",
       "|  3 | c  | \n",
       "|  4 | d  | \n",
       "|  5 | e  | \n",
       "|  6 | f  | \n",
       "|  7 | g  | \n",
       "|  8 | h  | \n",
       "|  9 | i  | \n",
       "| 10 | j  | \n",
       "\n",
       "\n"
      ],
      "text/plain": [
       "   A  B\n",
       "1   1 a\n",
       "2   2 b\n",
       "3   3 c\n",
       "4   4 d\n",
       "5   5 e\n",
       "6   6 f\n",
       "7   7 g\n",
       "8   8 h\n",
       "9   9 i\n",
       "10 10 j"
      ]
     },
     "metadata": {},
     "output_type": "display_data"
    }
   ],
   "source": [
    "# Create an extent window object\n",
    "window.obj <- owin(xrange, yrange)\n",
    "\n",
    "# Set number of line segments to be sampled\n",
    "n <- 20\n",
    "\n",
    "# Create a label dataframe\n",
    "m <- data.frame(A = 1:n, \n",
    "                    B = letters[1:n])\n",
    "\n",
    "head(m, 10)"
   ]
  },
  {
   "cell_type": "code",
   "execution_count": 71,
   "metadata": {},
   "outputs": [
    {
     "data": {
      "text/plain": [
       "marked planar line segment pattern: 20 line segments\n",
       "Mark variables:  A, B\n",
       "window: rectangle = [265131.4, 847373] x [3986650, 4496645] units"
      ]
     },
     "metadata": {},
     "output_type": "display_data"
    }
   ],
   "source": [
    "# Generate segment pattern\n",
    "line.pattern <- psp(runif(n,xmin,xmax), \n",
    "                        runif(n,ymin,ymax), \n",
    "                        runif(n,xmin,xmax), \n",
    "                        runif(n,ymin,ymax), \n",
    "                        window = window.obj,\n",
    "                        marks = m)\n",
    "\n",
    "line.pattern"
   ]
  },
  {
   "cell_type": "code",
   "execution_count": 72,
   "metadata": {},
   "outputs": [
    {
     "data": {
      "image/png": "[encoded data removed]",
      "text/plain": [
       "Plot with title \"Random, Uniform Line Distribution\""
      ]
     },
     "metadata": {},
     "output_type": "display_data"
    }
   ],
   "source": [
    "# Plot generated segment pattern\n",
    "plot.psp(line.pattern, \n",
    "             main = \"Random, Uniform Line Distribution\")\n",
    "\n",
    "plot(counties, add = TRUE)"
   ]
  },
  {
   "cell_type": "markdown",
   "metadata": {},
   "source": [
    "#### Extracting Line Characteristics\n",
    "Once the line pattern has been generated, the characteristics of line segments can be accessed as follows."
   ]
  },
  {
   "cell_type": "code",
   "execution_count": 73,
   "metadata": {},
   "outputs": [
    {
     "name": "stdout",
     "output_type": "stream",
     "text": [
      "[1] \"length of lines\"\n"
     ]
    },
    {
     "data": {
      "text/html": [
       "<ol class=list-inline>\n",
       "\t<li>103008.483149914</li>\n",
       "\t<li>116944.495888145</li>\n",
       "\t<li>442249.45165604</li>\n",
       "\t<li>226928.831991409</li>\n",
       "\t<li>209000.711628979</li>\n",
       "\t<li>334630.830870361</li>\n",
       "\t<li>233568.36685709</li>\n",
       "\t<li>128373.693821952</li>\n",
       "\t<li>397648.999688337</li>\n",
       "\t<li>169115.843637218</li>\n",
       "\t<li>236221.292813729</li>\n",
       "\t<li>472446.043700296</li>\n",
       "\t<li>199676.965087085</li>\n",
       "\t<li>139518.198440752</li>\n",
       "\t<li>227450.349579044</li>\n",
       "\t<li>283672.936001741</li>\n",
       "\t<li>329586.314239476</li>\n",
       "\t<li>481215.697947083</li>\n",
       "\t<li>221908.62790281</li>\n",
       "\t<li>147473.846630092</li>\n",
       "</ol>\n"
      ],
      "text/latex": [
       "\\begin{enumerate*}\n",
       "\\item 103008.483149914\n",
       "\\item 116944.495888145\n",
       "\\item 442249.45165604\n",
       "\\item 226928.831991409\n",
       "\\item 209000.711628979\n",
       "\\item 334630.830870361\n",
       "\\item 233568.36685709\n",
       "\\item 128373.693821952\n",
       "\\item 397648.999688337\n",
       "\\item 169115.843637218\n",
       "\\item 236221.292813729\n",
       "\\item 472446.043700296\n",
       "\\item 199676.965087085\n",
       "\\item 139518.198440752\n",
       "\\item 227450.349579044\n",
       "\\item 283672.936001741\n",
       "\\item 329586.314239476\n",
       "\\item 481215.697947083\n",
       "\\item 221908.62790281\n",
       "\\item 147473.846630092\n",
       "\\end{enumerate*}\n"
      ],
      "text/markdown": [
       "1. 103008.483149914\n",
       "2. 116944.495888145\n",
       "3. 442249.45165604\n",
       "4. 226928.831991409\n",
       "5. 209000.711628979\n",
       "6. 334630.830870361\n",
       "7. 233568.36685709\n",
       "8. 128373.693821952\n",
       "9. 397648.999688337\n",
       "10. 169115.843637218\n",
       "11. 236221.292813729\n",
       "12. 472446.043700296\n",
       "13. 199676.965087085\n",
       "14. 139518.198440752\n",
       "15. 227450.349579044\n",
       "16. 283672.936001741\n",
       "17. 329586.314239476\n",
       "18. 481215.697947083\n",
       "19. 221908.62790281\n",
       "20. 147473.846630092\n",
       "\n",
       "\n"
      ],
      "text/plain": [
       " [1] 103008.5 116944.5 442249.5 226928.8 209000.7 334630.8 233568.4 128373.7\n",
       " [9] 397649.0 169115.8 236221.3 472446.0 199677.0 139518.2 227450.3 283672.9\n",
       "[17] 329586.3 481215.7 221908.6 147473.8"
      ]
     },
     "metadata": {},
     "output_type": "display_data"
    }
   ],
   "source": [
    "print (\"length of lines\")\n",
    "lengths.psp(line.pattern)"
   ]
  },
  {
   "cell_type": "code",
   "execution_count": 74,
   "metadata": {},
   "outputs": [
    {
     "name": "stdout",
     "output_type": "stream",
     "text": [
      "[1] \"Mid-points coordinate of lines\"\n"
     ]
    },
    {
     "data": {
      "text/html": [
       "<table>\n",
       "<thead><tr><th scope=col>x</th><th scope=col>y</th></tr></thead>\n",
       "<tbody>\n",
       "\t<tr><td>590564.1</td><td>4208677 </td></tr>\n",
       "\t<tr><td>634092.3</td><td>4117392 </td></tr>\n",
       "\t<tr><td>488227.1</td><td>4293173 </td></tr>\n",
       "\t<tr><td>559093.7</td><td>4345535 </td></tr>\n",
       "\t<tr><td>377384.6</td><td>4084656 </td></tr>\n",
       "\t<tr><td>443809.4</td><td>4080634 </td></tr>\n",
       "</tbody>\n",
       "</table>\n"
      ],
      "text/latex": [
       "\\begin{tabular}{r|ll}\n",
       " x & y\\\\\n",
       "\\hline\n",
       "\t 590564.1 & 4208677 \\\\\n",
       "\t 634092.3 & 4117392 \\\\\n",
       "\t 488227.1 & 4293173 \\\\\n",
       "\t 559093.7 & 4345535 \\\\\n",
       "\t 377384.6 & 4084656 \\\\\n",
       "\t 443809.4 & 4080634 \\\\\n",
       "\\end{tabular}\n"
      ],
      "text/markdown": [
       "\n",
       "x | y | \n",
       "|---|---|---|---|---|---|\n",
       "| 590564.1 | 4208677  | \n",
       "| 634092.3 | 4117392  | \n",
       "| 488227.1 | 4293173  | \n",
       "| 559093.7 | 4345535  | \n",
       "| 377384.6 | 4084656  | \n",
       "| 443809.4 | 4080634  | \n",
       "\n",
       "\n"
      ],
      "text/plain": [
       "  x        y      \n",
       "1 590564.1 4208677\n",
       "2 634092.3 4117392\n",
       "3 488227.1 4293173\n",
       "4 559093.7 4345535\n",
       "5 377384.6 4084656\n",
       "6 443809.4 4080634"
      ]
     },
     "metadata": {},
     "output_type": "display_data"
    }
   ],
   "source": [
    "print (\"Mid-points coordinate of lines\")\n",
    "head(data.frame (midpoints.psp (line.pattern)))\n"
   ]
  },
  {
   "cell_type": "code",
   "execution_count": 75,
   "metadata": {},
   "outputs": [
    {
     "name": "stdout",
     "output_type": "stream",
     "text": [
      "[1] \"End-point coordinate of lines\"\n"
     ]
    },
    {
     "data": {
      "text/html": [
       "<table>\n",
       "<thead><tr><th scope=col>x</th><th scope=col>y</th></tr></thead>\n",
       "<tbody>\n",
       "\t<tr><td>554361.6</td><td>4245312 </td></tr>\n",
       "\t<tr><td>626766.7</td><td>4172043 </td></tr>\n",
       "\t<tr><td>577438.4</td><td>4102924 </td></tr>\n",
       "\t<tr><td>690746.2</td><td>4131861 </td></tr>\n",
       "\t<tr><td>309155.5</td><td>4163445 </td></tr>\n",
       "\t<tr><td>667298.6</td><td>4422902 </td></tr>\n",
       "</tbody>\n",
       "</table>\n"
      ],
      "text/latex": [
       "\\begin{tabular}{r|ll}\n",
       " x & y\\\\\n",
       "\\hline\n",
       "\t 554361.6 & 4245312 \\\\\n",
       "\t 626766.7 & 4172043 \\\\\n",
       "\t 577438.4 & 4102924 \\\\\n",
       "\t 690746.2 & 4131861 \\\\\n",
       "\t 309155.5 & 4163445 \\\\\n",
       "\t 667298.6 & 4422902 \\\\\n",
       "\\end{tabular}\n"
      ],
      "text/markdown": [
       "\n",
       "x | y | \n",
       "|---|---|---|---|---|---|\n",
       "| 554361.6 | 4245312  | \n",
       "| 626766.7 | 4172043  | \n",
       "| 577438.4 | 4102924  | \n",
       "| 690746.2 | 4131861  | \n",
       "| 309155.5 | 4163445  | \n",
       "| 667298.6 | 4422902  | \n",
       "\n",
       "\n"
      ],
      "text/plain": [
       "  x        y      \n",
       "1 554361.6 4245312\n",
       "2 626766.7 4172043\n",
       "3 577438.4 4102924\n",
       "4 690746.2 4131861\n",
       "5 309155.5 4163445\n",
       "6 667298.6 4422902"
      ]
     },
     "metadata": {},
     "output_type": "display_data"
    }
   ],
   "source": [
    "print (\"End-point coordinate of lines\")\n",
    "head(data.frame (endpoints.psp (line.pattern)))"
   ]
  },
  {
   "cell_type": "code",
   "execution_count": 76,
   "metadata": {},
   "outputs": [
    {
     "name": "stdout",
     "output_type": "stream",
     "text": [
      "[1] \"Lines angle\"\n"
     ]
    },
    {
     "data": {
      "text/html": [
       "<table>\n",
       "<thead><tr><th scope=col>angles.psp.line.pattern.</th></tr></thead>\n",
       "<tbody>\n",
       "\t<tr><td>2.3502684</td></tr>\n",
       "\t<tr><td>0.2500403</td></tr>\n",
       "\t<tr><td>0.6269485</td></tr>\n",
       "\t<tr><td>1.5998931</td></tr>\n",
       "\t<tr><td>1.0300822</td></tr>\n",
       "\t<tr><td>0.4759278</td></tr>\n",
       "</tbody>\n",
       "</table>\n"
      ],
      "text/latex": [
       "\\begin{tabular}{r|l}\n",
       " angles.psp.line.pattern.\\\\\n",
       "\\hline\n",
       "\t 2.3502684\\\\\n",
       "\t 0.2500403\\\\\n",
       "\t 0.6269485\\\\\n",
       "\t 1.5998931\\\\\n",
       "\t 1.0300822\\\\\n",
       "\t 0.4759278\\\\\n",
       "\\end{tabular}\n"
      ],
      "text/markdown": [
       "\n",
       "angles.psp.line.pattern. | \n",
       "|---|---|---|---|---|---|\n",
       "| 2.3502684 | \n",
       "| 0.2500403 | \n",
       "| 0.6269485 | \n",
       "| 1.5998931 | \n",
       "| 1.0300822 | \n",
       "| 0.4759278 | \n",
       "\n",
       "\n"
      ],
      "text/plain": [
       "  angles.psp.line.pattern.\n",
       "1 2.3502684               \n",
       "2 0.2500403               \n",
       "3 0.6269485               \n",
       "4 1.5998931               \n",
       "5 1.0300822               \n",
       "6 0.4759278               "
      ]
     },
     "metadata": {},
     "output_type": "display_data"
    }
   ],
   "source": [
    "print (\"Lines angle\")\n",
    "head(data.frame (angles.psp (line.pattern)))"
   ]
  },
  {
   "cell_type": "markdown",
   "metadata": {},
   "source": [
    "## Random Distribution of Points on a Line\n",
    "\n",
    "A random point pattern can be generated on a line segment pattern using function runifpointOnLines(). The function arguments include number of points to be generated and also a line pattern. \n",
    "\n",
    "First, a line can be generated using psp() function. This function requires the xy coordinates of the points defining a line. So, let's just grab the xy coordinates of the first line endpoint generated in the step above and the xy coordinates of it's midpoint and create a line from that."
   ]
  },
  {
   "cell_type": "code",
   "execution_count": 77,
   "metadata": {
    "collapsed": true
   },
   "outputs": [],
   "source": [
    "# Set number of points to be generated\n",
    "n <- 50\n",
    "\n",
    "#get end point of first line\n",
    "ept <- data.frame (endpoints.psp (line.pattern))[1,]\n",
    "\n",
    "#get the midpoint of the first line\n",
    "mpt <- data.frame (midpoints.psp (line.pattern))[1,]"
   ]
  },
  {
   "cell_type": "code",
   "execution_count": 78,
   "metadata": {},
   "outputs": [
    {
     "data": {
      "text/html": [
       "<table>\n",
       "<thead><tr><th scope=col>x</th><th scope=col>y</th></tr></thead>\n",
       "<tbody>\n",
       "\t<tr><td>554361.6</td><td>4245312 </td></tr>\n",
       "</tbody>\n",
       "</table>\n"
      ],
      "text/latex": [
       "\\begin{tabular}{r|ll}\n",
       " x & y\\\\\n",
       "\\hline\n",
       "\t 554361.6 & 4245312 \\\\\n",
       "\\end{tabular}\n"
      ],
      "text/markdown": [
       "\n",
       "x | y | \n",
       "|---|\n",
       "| 554361.6 | 4245312  | \n",
       "\n",
       "\n"
      ],
      "text/plain": [
       "  x        y      \n",
       "1 554361.6 4245312"
      ]
     },
     "metadata": {},
     "output_type": "display_data"
    }
   ],
   "source": [
    "ept"
   ]
  },
  {
   "cell_type": "code",
   "execution_count": 79,
   "metadata": {},
   "outputs": [
    {
     "data": {
      "text/html": [
       "<table>\n",
       "<thead><tr><th scope=col>x</th><th scope=col>y</th></tr></thead>\n",
       "<tbody>\n",
       "\t<tr><td>590564.1</td><td>4208677 </td></tr>\n",
       "</tbody>\n",
       "</table>\n"
      ],
      "text/latex": [
       "\\begin{tabular}{r|ll}\n",
       " x & y\\\\\n",
       "\\hline\n",
       "\t 590564.1 & 4208677 \\\\\n",
       "\\end{tabular}\n"
      ],
      "text/markdown": [
       "\n",
       "x | y | \n",
       "|---|\n",
       "| 590564.1 | 4208677  | \n",
       "\n",
       "\n"
      ],
      "text/plain": [
       "  x        y      \n",
       "1 590564.1 4208677"
      ]
     },
     "metadata": {},
     "output_type": "display_data"
    }
   ],
   "source": [
    "mpt"
   ]
  },
  {
   "cell_type": "code",
   "execution_count": 80,
   "metadata": {},
   "outputs": [
    {
     "data": {
      "text/plain": [
       "planar line segment pattern: 1 line segment\n",
       "window: rectangle = [265131.4, 847373] x [3986650, 4496645] units"
      ]
     },
     "metadata": {},
     "output_type": "display_data"
    }
   ],
   "source": [
    "# Create line pattern\n",
    "line.pattern <- psp(x0 = ept[[1]], \n",
    "                        y0 = ept[[2]], \n",
    "                        x1 = mpt[[1]], \n",
    "                        y1 = mpt[[2]], \n",
    "                        window = window.obj)\n",
    "\n",
    "\n",
    "line.pattern"
   ]
  },
  {
   "cell_type": "code",
   "execution_count": 81,
   "metadata": {},
   "outputs": [
    {
     "data": {
      "text/plain": [
       "Planar point pattern: 50 points\n",
       "window: rectangle = [265131.4, 847373] x [3986650, 4496645] units"
      ]
     },
     "metadata": {},
     "output_type": "display_data"
    }
   ],
   "source": [
    "# Generate point pattern on created line\n",
    "point.on.line <- runifpointOnLines(n, line.pattern, nsim = 1)\n",
    "\n",
    "point.on.line"
   ]
  },
  {
   "cell_type": "code",
   "execution_count": 82,
   "metadata": {},
   "outputs": [
    {
     "data": {
      "image/png": "[encoded data removed]",
      "text/plain": [
       "Plot with title \"Random Point Distribution on Line\""
      ]
     },
     "metadata": {},
     "output_type": "display_data"
    }
   ],
   "source": [
    "# Plot generated pattern\n",
    "plot(line.pattern, main = \"Random Point Distribution on Line\")\n",
    "plot(point.on.line, add = TRUE)"
   ]
  }
 ],
 "metadata": {
  "kernelspec": {
   "display_name": "R",
   "language": "R",
   "name": "ir"
  },
  "language_info": {
   "codemirror_mode": "r",
   "file_extension": ".r",
   "mimetype": "text/x-r-source",
   "name": "R",
   "pygments_lexer": "r",
   "version": "3.4.1"
  }
 },
 "nbformat": 4,
 "nbformat_minor": 2
}
