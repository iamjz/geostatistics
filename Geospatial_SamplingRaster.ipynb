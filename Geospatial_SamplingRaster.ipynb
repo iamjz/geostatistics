{
 "cells": [
  {
   "cell_type": "markdown",
   "metadata": {},
   "source": [
    "# Spatial Sampling Raster Data"
   ]
  },
  {
   "cell_type": "code",
   "execution_count": 4,
   "metadata": {},
   "outputs": [],
   "source": [
    "# Load relevant R packages\n",
    "inLibraries = list('repr','rgdal','sp','rgeos','raster')\n",
    "for (rpack in inLibraries) {\n",
    "  if (is.element(rpack,installed.packages()[,1])){           \n",
    "      #Load the library into R\n",
    "      suppressMessages(library(rpack,character.only = TRUE))\n",
    "    }\n",
    "    else {\n",
    "        print(paste(\"Warning:  \",rpack,\" is not an installed package\"))\n",
    "    }\n",
    "}\n",
    "#resize plot area\n",
    "options(repr.plot.width=6, repr.plot.height=6)"
   ]
  },
  {
   "cell_type": "markdown",
   "metadata": {},
   "source": [
    "The input for this exercise is a raster file representing landuse and landcover for Taney County, MO (taneycomo/lulc6.tif). Read the raster file, Output the raster dataset characteristics to the screen to examine its extent, spatial resolution, coordinate reference system, and range of values. Next, plot the raster values. Note how the forecasted probability of precipitation varies throughout the region."
   ]
  },
  {
   "cell_type": "code",
   "execution_count": 5,
   "metadata": {},
   "outputs": [],
   "source": [
    "raster <- raster(\"datasets/taneycomo/lulc6.tif\")"
   ]
  },
  {
   "cell_type": "code",
   "execution_count": 6,
   "metadata": {},
   "outputs": [
    {
     "data": {
      "image/png": "[encoded data removed]",
      "text/plain": [
       "Plot with title \"\""
      ]
     },
     "metadata": {},
     "output_type": "display_data"
    }
   ],
   "source": [
    "plot(raster)"
   ]
  },
  {
   "cell_type": "code",
   "execution_count": 7,
   "metadata": {},
   "outputs": [
    {
     "data": {
      "text/plain": [
       "class       : RasterLayer \n",
       "dimensions  : 56, 55, 3080  (nrow, ncol, ncell)\n",
       "resolution  : 30.07721, 29.65358  (x, y)\n",
       "extent      : 504490.6, 506144.9, 4059384, 4061045  (xmin, xmax, ymin, ymax)\n",
       "coord. ref. : +proj=utm +zone=15 +datum=NAD83 +units=m +no_defs +ellps=GRS80 +towgs84=0,0,0 \n",
       "data source : C:\\Users\\Jacky Zhao\\Desktop\\repos\\R-Data\\datasets\\taneycomo\\lulc6.tif \n",
       "names       : lulc6 \n",
       "values      : 1, 3  (min, max)\n"
      ]
     },
     "metadata": {},
     "output_type": "display_data"
    }
   ],
   "source": [
    "raster"
   ]
  },
  {
   "cell_type": "markdown",
   "metadata": {},
   "source": [
    "Generate 100 random samples (n=100) sucessively 10 times (m=10). Tally the number of times that each cell is sampled in the 10 trials. Plot a raster that can be used to visualize the number of times each cell is sampled."
   ]
  },
  {
   "cell_type": "code",
   "execution_count": 8,
   "metadata": {
    "collapsed": true
   },
   "outputs": [],
   "source": [
    "#### JACKY: \n",
    "\n",
    "# This was a little tricky...\n",
    "# 1) Generate 100 sample points 10 times. Put them all into allData \n",
    "# 2) Do a count on allData based on cell, row, col, x, and y\n",
    "# 3) Convert the frequency df into a spatial points dataframe\n",
    "# 4) Plot it on top of the raster and display the counts as datapoint symbols."
   ]
  },
  {
   "cell_type": "code",
   "execution_count": 9,
   "metadata": {
    "collapsed": true
   },
   "outputs": [],
   "source": [
    "n <- 100\n",
    "m <- 10\n",
    "\n",
    "allData <- data.frame()\n",
    "\n",
    "for (i in 1:m){\n",
    "    \n",
    "    sr <- sampleRandom(raster, n, \n",
    "                              rowcol = TRUE, \n",
    "                              cells = TRUE, \n",
    "                              sp = TRUE)\n",
    "    \n",
    "    sr <- data.frame(sr)    \n",
    "    allData <- rbind(allData, sr)\n",
    "}\n",
    "\n",
    "rownames(allData) <- NULL\n",
    "allData$optional <- NULL\n",
    "allData$lulc6 <- NULL"
   ]
  },
  {
   "cell_type": "code",
   "execution_count": 10,
   "metadata": {},
   "outputs": [
    {
     "data": {
      "text/html": [
       "<table>\n",
       "<thead><tr><th scope=col>cell</th><th scope=col>row</th><th scope=col>col</th><th scope=col>x</th><th scope=col>y</th></tr></thead>\n",
       "<tbody>\n",
       "\t<tr><td>2187    </td><td>40      </td><td>42      </td><td>505738.8</td><td>4059873 </td></tr>\n",
       "\t<tr><td>2721    </td><td>50      </td><td>26      </td><td>505257.6</td><td>4059577 </td></tr>\n",
       "\t<tr><td> 693    </td><td>13      </td><td>33      </td><td>505468.1</td><td>4060674 </td></tr>\n",
       "</tbody>\n",
       "</table>\n"
      ],
      "text/latex": [
       "\\begin{tabular}{r|lllll}\n",
       " cell & row & col & x & y\\\\\n",
       "\\hline\n",
       "\t 2187     & 40       & 42       & 505738.8 & 4059873 \\\\\n",
       "\t 2721     & 50       & 26       & 505257.6 & 4059577 \\\\\n",
       "\t  693     & 13       & 33       & 505468.1 & 4060674 \\\\\n",
       "\\end{tabular}\n"
      ],
      "text/markdown": [
       "\n",
       "cell | row | col | x | y | \n",
       "|---|---|---|\n",
       "| 2187     | 40       | 42       | 505738.8 | 4059873  | \n",
       "| 2721     | 50       | 26       | 505257.6 | 4059577  | \n",
       "|  693     | 13       | 33       | 505468.1 | 4060674  | \n",
       "\n",
       "\n"
      ],
      "text/plain": [
       "  cell row col x        y      \n",
       "1 2187 40  42  505738.8 4059873\n",
       "2 2721 50  26  505257.6 4059577\n",
       "3  693 13  33  505468.1 4060674"
      ]
     },
     "metadata": {},
     "output_type": "display_data"
    }
   ],
   "source": [
    "head(allData, 3)"
   ]
  },
  {
   "cell_type": "code",
   "execution_count": 11,
   "metadata": {},
   "outputs": [
    {
     "data": {
      "text/html": [
       "<ol class=list-inline>\n",
       "\t<li>1000</li>\n",
       "\t<li>5</li>\n",
       "</ol>\n"
      ],
      "text/latex": [
       "\\begin{enumerate*}\n",
       "\\item 1000\n",
       "\\item 5\n",
       "\\end{enumerate*}\n"
      ],
      "text/markdown": [
       "1. 1000\n",
       "2. 5\n",
       "\n",
       "\n"
      ],
      "text/plain": [
       "[1] 1000    5"
      ]
     },
     "metadata": {},
     "output_type": "display_data"
    }
   ],
   "source": [
    "dim(allData)"
   ]
  },
  {
   "cell_type": "code",
   "execution_count": 12,
   "metadata": {},
   "outputs": [
    {
     "name": "stderr",
     "output_type": "stream",
     "text": [
      "Warning message:\n",
      "\"package 'dplyr' was built under R version 3.4.2\"\n",
      "Attaching package: 'dplyr'\n",
      "\n",
      "The following objects are masked from 'package:raster':\n",
      "\n",
      "    intersect, select, union\n",
      "\n",
      "The following objects are masked from 'package:rgeos':\n",
      "\n",
      "    intersect, setdiff, union\n",
      "\n",
      "The following objects are masked from 'package:stats':\n",
      "\n",
      "    filter, lag\n",
      "\n",
      "The following objects are masked from 'package:base':\n",
      "\n",
      "    intersect, setdiff, setequal, union\n",
      "\n"
     ]
    }
   ],
   "source": [
    "library(dplyr)\n",
    "\n",
    "samp.counts <- allData %>%\n",
    "    group_by(cell, row, col, x, y) %>%\n",
    "    summarize(freq = n()) %>%\n",
    "    arrange(desc(freq))"
   ]
  },
  {
   "cell_type": "code",
   "execution_count": 13,
   "metadata": {},
   "outputs": [
    {
     "data": {
      "text/html": [
       "<table>\n",
       "<thead><tr><th scope=col>cell</th><th scope=col>row</th><th scope=col>col</th><th scope=col>x</th><th scope=col>y</th><th scope=col>freq</th></tr></thead>\n",
       "<tbody>\n",
       "\t<tr><td>2279    </td><td>42      </td><td>24      </td><td>505197.5</td><td>4059814 </td><td>4       </td></tr>\n",
       "\t<tr><td>3010    </td><td>55      </td><td>40      </td><td>505678.7</td><td>4059428 </td><td>4       </td></tr>\n",
       "\t<tr><td> 497    </td><td>10      </td><td> 2      </td><td>504535.8</td><td>4060763 </td><td>3       </td></tr>\n",
       "\t<tr><td> 877    </td><td>16      </td><td>52      </td><td>506039.6</td><td>4060585 </td><td>3       </td></tr>\n",
       "\t<tr><td>1132    </td><td>21      </td><td>32      </td><td>505438.1</td><td>4060437 </td><td>3       </td></tr>\n",
       "\t<tr><td>1413    </td><td>26      </td><td>38      </td><td>505618.5</td><td>4060288 </td><td>3       </td></tr>\n",
       "</tbody>\n",
       "</table>\n"
      ],
      "text/latex": [
       "\\begin{tabular}{r|llllll}\n",
       " cell & row & col & x & y & freq\\\\\n",
       "\\hline\n",
       "\t 2279     & 42       & 24       & 505197.5 & 4059814  & 4       \\\\\n",
       "\t 3010     & 55       & 40       & 505678.7 & 4059428  & 4       \\\\\n",
       "\t  497     & 10       &  2       & 504535.8 & 4060763  & 3       \\\\\n",
       "\t  877     & 16       & 52       & 506039.6 & 4060585  & 3       \\\\\n",
       "\t 1132     & 21       & 32       & 505438.1 & 4060437  & 3       \\\\\n",
       "\t 1413     & 26       & 38       & 505618.5 & 4060288  & 3       \\\\\n",
       "\\end{tabular}\n"
      ],
      "text/markdown": [
       "\n",
       "cell | row | col | x | y | freq | \n",
       "|---|---|---|---|---|---|\n",
       "| 2279     | 42       | 24       | 505197.5 | 4059814  | 4        | \n",
       "| 3010     | 55       | 40       | 505678.7 | 4059428  | 4        | \n",
       "|  497     | 10       |  2       | 504535.8 | 4060763  | 3        | \n",
       "|  877     | 16       | 52       | 506039.6 | 4060585  | 3        | \n",
       "| 1132     | 21       | 32       | 505438.1 | 4060437  | 3        | \n",
       "| 1413     | 26       | 38       | 505618.5 | 4060288  | 3        | \n",
       "\n",
       "\n"
      ],
      "text/plain": [
       "  cell row col x        y       freq\n",
       "1 2279 42  24  505197.5 4059814 4   \n",
       "2 3010 55  40  505678.7 4059428 4   \n",
       "3  497 10   2  504535.8 4060763 3   \n",
       "4  877 16  52  506039.6 4060585 3   \n",
       "5 1132 21  32  505438.1 4060437 3   \n",
       "6 1413 26  38  505618.5 4060288 3   "
      ]
     },
     "metadata": {},
     "output_type": "display_data"
    }
   ],
   "source": [
    "head(samp.counts)"
   ]
  },
  {
   "cell_type": "code",
   "execution_count": 14,
   "metadata": {},
   "outputs": [
    {
     "data": {
      "text/html": [
       "<table>\n",
       "<tbody>\n",
       "\t<tr><td>505197.5</td><td>4059814 </td></tr>\n",
       "\t<tr><td>505678.7</td><td>4059428 </td></tr>\n",
       "\t<tr><td>504535.8</td><td>4060763 </td></tr>\n",
       "\t<tr><td>506039.6</td><td>4060585 </td></tr>\n",
       "\t<tr><td>505438.1</td><td>4060437 </td></tr>\n",
       "\t<tr><td>505618.5</td><td>4060288 </td></tr>\n",
       "</tbody>\n",
       "</table>\n"
      ],
      "text/latex": [
       "\\begin{tabular}{ll}\n",
       "\t 505197.5 & 4059814 \\\\\n",
       "\t 505678.7 & 4059428 \\\\\n",
       "\t 504535.8 & 4060763 \\\\\n",
       "\t 506039.6 & 4060585 \\\\\n",
       "\t 505438.1 & 4060437 \\\\\n",
       "\t 505618.5 & 4060288 \\\\\n",
       "\\end{tabular}\n"
      ],
      "text/markdown": [
       "\n",
       "| 505197.5 | 4059814  | \n",
       "| 505678.7 | 4059428  | \n",
       "| 504535.8 | 4060763  | \n",
       "| 506039.6 | 4060585  | \n",
       "| 505438.1 | 4060437  | \n",
       "| 505618.5 | 4060288  | \n",
       "\n",
       "\n"
      ],
      "text/plain": [
       "     [,1]     [,2]   \n",
       "[1,] 505197.5 4059814\n",
       "[2,] 505678.7 4059428\n",
       "[3,] 504535.8 4060763\n",
       "[4,] 506039.6 4060585\n",
       "[5,] 505438.1 4060437\n",
       "[6,] 505618.5 4060288"
      ]
     },
     "metadata": {},
     "output_type": "display_data"
    }
   ],
   "source": [
    "ptcoords <- cbind(as.numeric(samp.counts$x), as.numeric(samp.counts$y))\n",
    "\n",
    "head(ptcoords)"
   ]
  },
  {
   "cell_type": "code",
   "execution_count": 15,
   "metadata": {},
   "outputs": [
    {
     "data": {
      "text/html": [
       "<table>\n",
       "<thead><tr><th scope=col>cell</th><th scope=col>row</th><th scope=col>col</th><th scope=col>freq</th></tr></thead>\n",
       "<tbody>\n",
       "\t<tr><td>2279</td><td>42  </td><td>24  </td><td>4   </td></tr>\n",
       "\t<tr><td>3010</td><td>55  </td><td>40  </td><td>4   </td></tr>\n",
       "\t<tr><td> 497</td><td>10  </td><td> 2  </td><td>3   </td></tr>\n",
       "\t<tr><td> 877</td><td>16  </td><td>52  </td><td>3   </td></tr>\n",
       "\t<tr><td>1132</td><td>21  </td><td>32  </td><td>3   </td></tr>\n",
       "\t<tr><td>1413</td><td>26  </td><td>38  </td><td>3   </td></tr>\n",
       "</tbody>\n",
       "</table>\n"
      ],
      "text/latex": [
       "\\begin{tabular}{r|llll}\n",
       " cell & row & col & freq\\\\\n",
       "\\hline\n",
       "\t 2279 & 42   & 24   & 4   \\\\\n",
       "\t 3010 & 55   & 40   & 4   \\\\\n",
       "\t  497 & 10   &  2   & 3   \\\\\n",
       "\t  877 & 16   & 52   & 3   \\\\\n",
       "\t 1132 & 21   & 32   & 3   \\\\\n",
       "\t 1413 & 26   & 38   & 3   \\\\\n",
       "\\end{tabular}\n"
      ],
      "text/markdown": [
       "\n",
       "cell | row | col | freq | \n",
       "|---|---|---|---|---|---|\n",
       "| 2279 | 42   | 24   | 4    | \n",
       "| 3010 | 55   | 40   | 4    | \n",
       "|  497 | 10   |  2   | 3    | \n",
       "|  877 | 16   | 52   | 3    | \n",
       "| 1132 | 21   | 32   | 3    | \n",
       "| 1413 | 26   | 38   | 3    | \n",
       "\n",
       "\n"
      ],
      "text/plain": [
       "  cell row col freq\n",
       "1 2279 42  24  4   \n",
       "2 3010 55  40  4   \n",
       "3  497 10   2  3   \n",
       "4  877 16  52  3   \n",
       "5 1132 21  32  3   \n",
       "6 1413 26  38  3   "
      ]
     },
     "metadata": {},
     "output_type": "display_data"
    }
   ],
   "source": [
    "df <- samp.counts[, c(\"cell\", \"row\", \"col\", \"freq\")]\n",
    "\n",
    "head(df)"
   ]
  },
  {
   "cell_type": "code",
   "execution_count": 16,
   "metadata": {},
   "outputs": [
    {
     "data": {
      "text/plain": [
       "          coordinates cell row col freq\n",
       "1 (505197.5, 4059814) 2279  42  24    4\n",
       "2 (505678.7, 4059428) 3010  55  40    4\n",
       "3 (504535.8, 4060763)  497  10   2    3\n",
       "4 (506039.6, 4060585)  877  16  52    3\n",
       "5 (505438.1, 4060437) 1132  21  32    3"
      ]
     },
     "metadata": {},
     "output_type": "display_data"
    }
   ],
   "source": [
    "spts <- SpatialPointsDataFrame(ptcoords, data = df)\n",
    "\n",
    "spts[1:5, ]"
   ]
  },
  {
   "cell_type": "code",
   "execution_count": 17,
   "metadata": {},
   "outputs": [
    {
     "data": {
      "image/png": "[encoded data removed]",
      "text/plain": [
       "Plot with title \"Random Sampling - Cell Frequency\""
      ]
     },
     "metadata": {},
     "output_type": "display_data"
    }
   ],
   "source": [
    "plot(raster, main = \"Random Sampling - Cell Frequency\")\n",
    "plot(spts, add = TRUE, pch = as.character(spts$freq), col = as.character(spts$freq), cex = 0.6)"
   ]
  },
  {
   "cell_type": "markdown",
   "metadata": {},
   "source": [
    "The land use land cover data represents the category of land use/land cover associated with each raster cell. That is the numbers are categorical. Given this, use these categories as strata from which to sample. For each strata, randomly sample 30 cells (n=30).  Plot a raster that can be used to visualize the cells sampled from each category."
   ]
  },
  {
   "cell_type": "code",
   "execution_count": 18,
   "metadata": {},
   "outputs": [
    {
     "data": {
      "text/plain": [
       "class       : RasterLayer \n",
       "dimensions  : 56, 55, 3080  (nrow, ncol, ncell)\n",
       "resolution  : 30.07721, 29.65358  (x, y)\n",
       "extent      : 504490.6, 506144.9, 4059384, 4061045  (xmin, xmax, ymin, ymax)\n",
       "coord. ref. : +proj=utm +zone=15 +datum=NAD83 +units=m +no_defs +ellps=GRS80 +towgs84=0,0,0 \n",
       "data source : C:\\Users\\Jacky Zhao\\Desktop\\repos\\R-Data\\datasets\\taneycomo\\lulc6.tif \n",
       "names       : lulc6 \n",
       "values      : 1, 3  (min, max)\n"
      ]
     },
     "metadata": {},
     "output_type": "display_data"
    }
   ],
   "source": [
    "raster"
   ]
  },
  {
   "cell_type": "code",
   "execution_count": 19,
   "metadata": {},
   "outputs": [
    {
     "data": {
      "text/html": [
       "<table>\n",
       "<thead><tr><th scope=col>cell</th><th scope=col>x</th><th scope=col>y</th><th scope=col>lulc6</th></tr></thead>\n",
       "<tbody>\n",
       "\t<tr><td>2072    </td><td>505588.5</td><td>4059933 </td><td>1       </td></tr>\n",
       "\t<tr><td>2400    </td><td>505528.3</td><td>4059755 </td><td>1       </td></tr>\n",
       "\t<tr><td>2119    </td><td>505347.8</td><td>4059903 </td><td>1       </td></tr>\n",
       "\t<tr><td>1736    </td><td>505408.0</td><td>4060110 </td><td>1       </td></tr>\n",
       "\t<tr><td>1846    </td><td>505408.0</td><td>4060051 </td><td>1       </td></tr>\n",
       "\t<tr><td>2349    </td><td>505648.6</td><td>4059784 </td><td>1       </td></tr>\n",
       "</tbody>\n",
       "</table>\n"
      ],
      "text/latex": [
       "\\begin{tabular}{r|llll}\n",
       " cell & x & y & lulc6\\\\\n",
       "\\hline\n",
       "\t 2072     & 505588.5 & 4059933  & 1       \\\\\n",
       "\t 2400     & 505528.3 & 4059755  & 1       \\\\\n",
       "\t 2119     & 505347.8 & 4059903  & 1       \\\\\n",
       "\t 1736     & 505408.0 & 4060110  & 1       \\\\\n",
       "\t 1846     & 505408.0 & 4060051  & 1       \\\\\n",
       "\t 2349     & 505648.6 & 4059784  & 1       \\\\\n",
       "\\end{tabular}\n"
      ],
      "text/markdown": [
       "\n",
       "cell | x | y | lulc6 | \n",
       "|---|---|---|---|---|---|\n",
       "| 2072     | 505588.5 | 4059933  | 1        | \n",
       "| 2400     | 505528.3 | 4059755  | 1        | \n",
       "| 2119     | 505347.8 | 4059903  | 1        | \n",
       "| 1736     | 505408.0 | 4060110  | 1        | \n",
       "| 1846     | 505408.0 | 4060051  | 1        | \n",
       "| 2349     | 505648.6 | 4059784  | 1        | \n",
       "\n",
       "\n"
      ],
      "text/plain": [
       "  cell x        y       lulc6\n",
       "1 2072 505588.5 4059933 1    \n",
       "2 2400 505528.3 4059755 1    \n",
       "3 2119 505347.8 4059903 1    \n",
       "4 1736 505408.0 4060110 1    \n",
       "5 1846 505408.0 4060051 1    \n",
       "6 2349 505648.6 4059784 1    "
      ]
     },
     "metadata": {},
     "output_type": "display_data"
    }
   ],
   "source": [
    "n <- 30\n",
    "\n",
    "samp.stra <- sampleStratified(raster, n, xy = TRUE, sp = TRUE)\n",
    "\n",
    "head(samp.stra)"
   ]
  },
  {
   "cell_type": "code",
   "execution_count": 20,
   "metadata": {},
   "outputs": [
    {
     "data": {
      "text/html": [
       "90"
      ],
      "text/latex": [
       "90"
      ],
      "text/markdown": [
       "90"
      ],
      "text/plain": [
       "[1] 90"
      ]
     },
     "metadata": {},
     "output_type": "display_data"
    }
   ],
   "source": [
    "length(samp.stra)"
   ]
  },
  {
   "cell_type": "code",
   "execution_count": 21,
   "metadata": {},
   "outputs": [
    {
     "data": {
      "image/png": "[encoded data removed]",
      "text/plain": [
       "Plot with title \"Stratified Sampling - 30 samples per Stratum\""
      ]
     },
     "metadata": {},
     "output_type": "display_data"
    }
   ],
   "source": [
    "plot(raster, main = \"Stratified Sampling - 30 samples per Stratum\")\n",
    "\n",
    "plot(samp.stra, \n",
    "     axes = FALSE, \n",
    "     pch = as.character(samp.stra$lulc6), \n",
    "     col = as.character(samp.stra$lulc6),\n",
    "     add = TRUE, cex = 0.5)"
   ]
  },
  {
   "cell_type": "markdown",
   "metadata": {},
   "source": [
    "Generate 100 stratified samples (n=100) sucessively 10 times (m=10). Tally the number of times that each cell is sampled in the 10 trials. Plot 3 rasters - one raster for each land use/ land cover category that summarizes the number of times that a cell from that category was sampled."
   ]
  },
  {
   "cell_type": "code",
   "execution_count": 22,
   "metadata": {},
   "outputs": [
    {
     "data": {
      "text/html": [
       "<table>\n",
       "<thead><tr><th scope=col>cell</th><th scope=col>lulc6</th><th scope=col>x</th><th scope=col>y</th></tr></thead>\n",
       "<tbody>\n",
       "\t<tr><td>2723    </td><td>1       </td><td>505317.8</td><td>4059577 </td></tr>\n",
       "\t<tr><td>2959    </td><td>1       </td><td>505799.0</td><td>4059458 </td></tr>\n",
       "\t<tr><td>2617    </td><td>1       </td><td>505438.1</td><td>4059636 </td></tr>\n",
       "\t<tr><td>2893    </td><td>1       </td><td>505468.1</td><td>4059488 </td></tr>\n",
       "\t<tr><td>2069    </td><td>1       </td><td>505498.2</td><td>4059933 </td></tr>\n",
       "\t<tr><td>1962    </td><td>1       </td><td>505588.5</td><td>4059992 </td></tr>\n",
       "</tbody>\n",
       "</table>\n"
      ],
      "text/latex": [
       "\\begin{tabular}{r|llll}\n",
       " cell & lulc6 & x & y\\\\\n",
       "\\hline\n",
       "\t 2723     & 1        & 505317.8 & 4059577 \\\\\n",
       "\t 2959     & 1        & 505799.0 & 4059458 \\\\\n",
       "\t 2617     & 1        & 505438.1 & 4059636 \\\\\n",
       "\t 2893     & 1        & 505468.1 & 4059488 \\\\\n",
       "\t 2069     & 1        & 505498.2 & 4059933 \\\\\n",
       "\t 1962     & 1        & 505588.5 & 4059992 \\\\\n",
       "\\end{tabular}\n"
      ],
      "text/markdown": [
       "\n",
       "cell | lulc6 | x | y | \n",
       "|---|---|---|---|---|---|\n",
       "| 2723     | 1        | 505317.8 | 4059577  | \n",
       "| 2959     | 1        | 505799.0 | 4059458  | \n",
       "| 2617     | 1        | 505438.1 | 4059636  | \n",
       "| 2893     | 1        | 505468.1 | 4059488  | \n",
       "| 2069     | 1        | 505498.2 | 4059933  | \n",
       "| 1962     | 1        | 505588.5 | 4059992  | \n",
       "\n",
       "\n"
      ],
      "text/plain": [
       "  cell lulc6 x        y      \n",
       "1 2723 1     505317.8 4059577\n",
       "2 2959 1     505799.0 4059458\n",
       "3 2617 1     505438.1 4059636\n",
       "4 2893 1     505468.1 4059488\n",
       "5 2069 1     505498.2 4059933\n",
       "6 1962 1     505588.5 4059992"
      ]
     },
     "metadata": {},
     "output_type": "display_data"
    }
   ],
   "source": [
    "n <- 100\n",
    "m <- 10\n",
    "\n",
    "allData <- data.frame()\n",
    "\n",
    "for (i in 1:m){\n",
    "    ss <- sampleStratified(raster, n, sp = TRUE)\n",
    "    ss <- data.frame(ss)\n",
    "    allData <- rbind(allData, ss)    \n",
    "}\n",
    "\n",
    "allData$optional <- NULL\n",
    "head(allData)"
   ]
  },
  {
   "cell_type": "code",
   "execution_count": 23,
   "metadata": {},
   "outputs": [
    {
     "data": {
      "text/html": [
       "<table>\n",
       "<thead><tr><th scope=col>cell</th><th scope=col>x</th><th scope=col>y</th><th scope=col>lulc6</th><th scope=col>freq</th></tr></thead>\n",
       "<tbody>\n",
       "\t<tr><td>1218    </td><td>504716.2</td><td>4060377 </td><td>3       </td><td>8       </td></tr>\n",
       "\t<tr><td>2238    </td><td>505618.5</td><td>4059844 </td><td>1       </td><td>7       </td></tr>\n",
       "\t<tr><td>2850    </td><td>505829.1</td><td>4059517 </td><td>1       </td><td>7       </td></tr>\n",
       "\t<tr><td>1222    </td><td>504836.5</td><td>4060377 </td><td>3       </td><td>6       </td></tr>\n",
       "\t<tr><td>1333    </td><td>504866.6</td><td>4060318 </td><td>3       </td><td>6       </td></tr>\n",
       "\t<tr><td>1543    </td><td>504565.8</td><td>4060199 </td><td>3       </td><td>6       </td></tr>\n",
       "</tbody>\n",
       "</table>\n"
      ],
      "text/latex": [
       "\\begin{tabular}{r|lllll}\n",
       " cell & x & y & lulc6 & freq\\\\\n",
       "\\hline\n",
       "\t 1218     & 504716.2 & 4060377  & 3        & 8       \\\\\n",
       "\t 2238     & 505618.5 & 4059844  & 1        & 7       \\\\\n",
       "\t 2850     & 505829.1 & 4059517  & 1        & 7       \\\\\n",
       "\t 1222     & 504836.5 & 4060377  & 3        & 6       \\\\\n",
       "\t 1333     & 504866.6 & 4060318  & 3        & 6       \\\\\n",
       "\t 1543     & 504565.8 & 4060199  & 3        & 6       \\\\\n",
       "\\end{tabular}\n"
      ],
      "text/markdown": [
       "\n",
       "cell | x | y | lulc6 | freq | \n",
       "|---|---|---|---|---|---|\n",
       "| 1218     | 504716.2 | 4060377  | 3        | 8        | \n",
       "| 2238     | 505618.5 | 4059844  | 1        | 7        | \n",
       "| 2850     | 505829.1 | 4059517  | 1        | 7        | \n",
       "| 1222     | 504836.5 | 4060377  | 3        | 6        | \n",
       "| 1333     | 504866.6 | 4060318  | 3        | 6        | \n",
       "| 1543     | 504565.8 | 4060199  | 3        | 6        | \n",
       "\n",
       "\n"
      ],
      "text/plain": [
       "  cell x        y       lulc6 freq\n",
       "1 1218 504716.2 4060377 3     8   \n",
       "2 2238 505618.5 4059844 1     7   \n",
       "3 2850 505829.1 4059517 1     7   \n",
       "4 1222 504836.5 4060377 3     6   \n",
       "5 1333 504866.6 4060318 3     6   \n",
       "6 1543 504565.8 4060199 3     6   "
      ]
     },
     "metadata": {},
     "output_type": "display_data"
    }
   ],
   "source": [
    "counts <- allData %>%\n",
    "    group_by(cell, x, y, lulc6) %>%\n",
    "    summarize(freq = n()) %>%\n",
    "    arrange(desc(freq))\n",
    "\n",
    "head(counts)"
   ]
  },
  {
   "cell_type": "code",
   "execution_count": 24,
   "metadata": {
    "collapsed": true
   },
   "outputs": [],
   "source": [
    "samp1 <- counts[counts$lulc6 == 1, ]\n",
    "samp2 <- counts[counts$lulc6 == 2, ]\n",
    "samp3 <- counts[counts$lulc6 == 3, ]"
   ]
  },
  {
   "cell_type": "code",
   "execution_count": 25,
   "metadata": {},
   "outputs": [
    {
     "data": {
      "text/html": [
       "<table>\n",
       "<thead><tr><th scope=col>cell</th><th scope=col>x</th><th scope=col>y</th><th scope=col>lulc6</th><th scope=col>freq</th></tr></thead>\n",
       "<tbody>\n",
       "\t<tr><td>2238    </td><td>505618.5</td><td>4059844 </td><td>1       </td><td>7       </td></tr>\n",
       "\t<tr><td>2850    </td><td>505829.1</td><td>4059517 </td><td>1       </td><td>7       </td></tr>\n",
       "\t<tr><td>1796    </td><td>505558.4</td><td>4060081 </td><td>1       </td><td>6       </td></tr>\n",
       "</tbody>\n",
       "</table>\n"
      ],
      "text/latex": [
       "\\begin{tabular}{r|lllll}\n",
       " cell & x & y & lulc6 & freq\\\\\n",
       "\\hline\n",
       "\t 2238     & 505618.5 & 4059844  & 1        & 7       \\\\\n",
       "\t 2850     & 505829.1 & 4059517  & 1        & 7       \\\\\n",
       "\t 1796     & 505558.4 & 4060081  & 1        & 6       \\\\\n",
       "\\end{tabular}\n"
      ],
      "text/markdown": [
       "\n",
       "cell | x | y | lulc6 | freq | \n",
       "|---|---|---|\n",
       "| 2238     | 505618.5 | 4059844  | 1        | 7        | \n",
       "| 2850     | 505829.1 | 4059517  | 1        | 7        | \n",
       "| 1796     | 505558.4 | 4060081  | 1        | 6        | \n",
       "\n",
       "\n"
      ],
      "text/plain": [
       "  cell x        y       lulc6 freq\n",
       "1 2238 505618.5 4059844 1     7   \n",
       "2 2850 505829.1 4059517 1     7   \n",
       "3 1796 505558.4 4060081 1     6   "
      ]
     },
     "metadata": {},
     "output_type": "display_data"
    }
   ],
   "source": [
    "head(samp1, 3)"
   ]
  },
  {
   "cell_type": "code",
   "execution_count": 26,
   "metadata": {},
   "outputs": [
    {
     "data": {
      "text/html": [
       "<table>\n",
       "<thead><tr><th scope=col>cell</th><th scope=col>x</th><th scope=col>y</th><th scope=col>lulc6</th><th scope=col>freq</th></tr></thead>\n",
       "<tbody>\n",
       "\t<tr><td>1209    </td><td>506099.8</td><td>4060407 </td><td>2       </td><td>4       </td></tr>\n",
       "\t<tr><td>1578    </td><td>505618.5</td><td>4060199 </td><td>2       </td><td>4       </td></tr>\n",
       "\t<tr><td>2365    </td><td>506129.8</td><td>4059784 </td><td>2       </td><td>4       </td></tr>\n",
       "</tbody>\n",
       "</table>\n"
      ],
      "text/latex": [
       "\\begin{tabular}{r|lllll}\n",
       " cell & x & y & lulc6 & freq\\\\\n",
       "\\hline\n",
       "\t 1209     & 506099.8 & 4060407  & 2        & 4       \\\\\n",
       "\t 1578     & 505618.5 & 4060199  & 2        & 4       \\\\\n",
       "\t 2365     & 506129.8 & 4059784  & 2        & 4       \\\\\n",
       "\\end{tabular}\n"
      ],
      "text/markdown": [
       "\n",
       "cell | x | y | lulc6 | freq | \n",
       "|---|---|---|\n",
       "| 1209     | 506099.8 | 4060407  | 2        | 4        | \n",
       "| 1578     | 505618.5 | 4060199  | 2        | 4        | \n",
       "| 2365     | 506129.8 | 4059784  | 2        | 4        | \n",
       "\n",
       "\n"
      ],
      "text/plain": [
       "  cell x        y       lulc6 freq\n",
       "1 1209 506099.8 4060407 2     4   \n",
       "2 1578 505618.5 4060199 2     4   \n",
       "3 2365 506129.8 4059784 2     4   "
      ]
     },
     "metadata": {},
     "output_type": "display_data"
    }
   ],
   "source": [
    "head(samp2, 3)"
   ]
  },
  {
   "cell_type": "code",
   "execution_count": 27,
   "metadata": {},
   "outputs": [
    {
     "data": {
      "text/html": [
       "<table>\n",
       "<thead><tr><th scope=col>cell</th><th scope=col>x</th><th scope=col>y</th><th scope=col>lulc6</th><th scope=col>freq</th></tr></thead>\n",
       "<tbody>\n",
       "\t<tr><td>1218    </td><td>504716.2</td><td>4060377 </td><td>3       </td><td>8       </td></tr>\n",
       "\t<tr><td>1222    </td><td>504836.5</td><td>4060377 </td><td>3       </td><td>6       </td></tr>\n",
       "\t<tr><td>1333    </td><td>504866.6</td><td>4060318 </td><td>3       </td><td>6       </td></tr>\n",
       "</tbody>\n",
       "</table>\n"
      ],
      "text/latex": [
       "\\begin{tabular}{r|lllll}\n",
       " cell & x & y & lulc6 & freq\\\\\n",
       "\\hline\n",
       "\t 1218     & 504716.2 & 4060377  & 3        & 8       \\\\\n",
       "\t 1222     & 504836.5 & 4060377  & 3        & 6       \\\\\n",
       "\t 1333     & 504866.6 & 4060318  & 3        & 6       \\\\\n",
       "\\end{tabular}\n"
      ],
      "text/markdown": [
       "\n",
       "cell | x | y | lulc6 | freq | \n",
       "|---|---|---|\n",
       "| 1218     | 504716.2 | 4060377  | 3        | 8        | \n",
       "| 1222     | 504836.5 | 4060377  | 3        | 6        | \n",
       "| 1333     | 504866.6 | 4060318  | 3        | 6        | \n",
       "\n",
       "\n"
      ],
      "text/plain": [
       "  cell x        y       lulc6 freq\n",
       "1 1218 504716.2 4060377 3     8   \n",
       "2 1222 504836.5 4060377 3     6   \n",
       "3 1333 504866.6 4060318 3     6   "
      ]
     },
     "metadata": {},
     "output_type": "display_data"
    }
   ],
   "source": [
    "head(samp3, 3)"
   ]
  },
  {
   "cell_type": "code",
   "execution_count": 28,
   "metadata": {
    "collapsed": true
   },
   "outputs": [],
   "source": [
    "pt1 <- cbind(as.numeric(samp1$x), as.numeric(samp1$y))\n",
    "pt2 <- cbind(as.numeric(samp2$x), as.numeric(samp2$y))\n",
    "pt3 <- cbind(as.numeric(samp3$x), as.numeric(samp3$y))"
   ]
  },
  {
   "cell_type": "code",
   "execution_count": 29,
   "metadata": {
    "collapsed": true
   },
   "outputs": [],
   "source": [
    "df1 <- samp1[, c(\"cell\", \"freq\")]\n",
    "df2 <- samp2[, c(\"cell\", \"freq\")]\n",
    "df3 <- samp3[, c(\"cell\", \"freq\")]"
   ]
  },
  {
   "cell_type": "code",
   "execution_count": 30,
   "metadata": {
    "collapsed": true
   },
   "outputs": [],
   "source": [
    "sp1 <- SpatialPointsDataFrame(pt1, data = df1)\n",
    "sp2 <- SpatialPointsDataFrame(pt2, data = df2)\n",
    "sp3 <- SpatialPointsDataFrame(pt3, data = df3)"
   ]
  },
  {
   "cell_type": "code",
   "execution_count": 31,
   "metadata": {},
   "outputs": [
    {
     "data": {
      "image/png": "[encoded data removed]",
      "text/plain": [
       "Plot with title \"Stratified Sampling - Cell Frequency - Stratum 1\""
      ]
     },
     "metadata": {},
     "output_type": "display_data"
    }
   ],
   "source": [
    "plot(raster, main = \"Stratified Sampling - Cell Frequency - Stratum 1\")\n",
    "plot(sp1, add = TRUE, pch = as.character(sp1$freq), col = as.character(sp1$freq), cex = 0.5)"
   ]
  },
  {
   "cell_type": "code",
   "execution_count": 32,
   "metadata": {},
   "outputs": [
    {
     "data": {
      "image/png": "[encoded data removed]",
      "text/plain": [
       "Plot with title \"Stratified Sampling - Cell Frequency - Stratum 2\""
      ]
     },
     "metadata": {},
     "output_type": "display_data"
    }
   ],
   "source": [
    "plot(raster, main = \"Stratified Sampling - Cell Frequency - Stratum 2\")\n",
    "plot(sp2, add = TRUE, pch = as.character(sp2$freq), col = as.character(sp2$freq), cex = 0.5)"
   ]
  },
  {
   "cell_type": "code",
   "execution_count": 33,
   "metadata": {},
   "outputs": [
    {
     "data": {
      "image/png": "[encoded data removed]",
      "text/plain": [
       "Plot with title \"Stratified Sampling - Cell Frequency - Stratum 3\""
      ]
     },
     "metadata": {},
     "output_type": "display_data"
    }
   ],
   "source": [
    "plot(raster, main = \"Stratified Sampling - Cell Frequency - Stratum 3\")\n",
    "plot(sp3, add = TRUE, pch = as.character(sp3$freq), col = as.character(sp3$freq), cex = 0.5)"
   ]
  },
  {
   "cell_type": "markdown",
   "metadata": {},
   "source": [
    "Conduct a regular sample of 100 cells (n=100). Plot a raster that can be used to visualize the cells sampled from each land use land cover category."
   ]
  },
  {
   "cell_type": "code",
   "execution_count": 34,
   "metadata": {
    "collapsed": true
   },
   "outputs": [],
   "source": [
    "n <- 100\n",
    "\n",
    "samp.reg <- sampleRegular(raster, n, cells = TRUE, sp = TRUE)"
   ]
  },
  {
   "cell_type": "code",
   "execution_count": 35,
   "metadata": {},
   "outputs": [
    {
     "data": {
      "text/html": [
       "<table>\n",
       "<thead><tr><th scope=col>cell</th><th scope=col>lulc6</th></tr></thead>\n",
       "<tbody>\n",
       "\t<tr><td>113</td><td>2  </td></tr>\n",
       "\t<tr><td>119</td><td>2  </td></tr>\n",
       "\t<tr><td>125</td><td>2  </td></tr>\n",
       "\t<tr><td>131</td><td>3  </td></tr>\n",
       "\t<tr><td>138</td><td>3  </td></tr>\n",
       "\t<tr><td>144</td><td>2  </td></tr>\n",
       "</tbody>\n",
       "</table>\n"
      ],
      "text/latex": [
       "\\begin{tabular}{r|ll}\n",
       " cell & lulc6\\\\\n",
       "\\hline\n",
       "\t 113 & 2  \\\\\n",
       "\t 119 & 2  \\\\\n",
       "\t 125 & 2  \\\\\n",
       "\t 131 & 3  \\\\\n",
       "\t 138 & 3  \\\\\n",
       "\t 144 & 2  \\\\\n",
       "\\end{tabular}\n"
      ],
      "text/markdown": [
       "\n",
       "cell | lulc6 | \n",
       "|---|---|---|---|---|---|\n",
       "| 113 | 2   | \n",
       "| 119 | 2   | \n",
       "| 125 | 2   | \n",
       "| 131 | 3   | \n",
       "| 138 | 3   | \n",
       "| 144 | 2   | \n",
       "\n",
       "\n"
      ],
      "text/plain": [
       "  cell lulc6\n",
       "1 113  2    \n",
       "2 119  2    \n",
       "3 125  2    \n",
       "4 131  3    \n",
       "5 138  3    \n",
       "6 144  2    "
      ]
     },
     "metadata": {},
     "output_type": "display_data"
    }
   ],
   "source": [
    "head(samp.reg)"
   ]
  },
  {
   "cell_type": "code",
   "execution_count": 36,
   "metadata": {},
   "outputs": [
    {
     "data": {
      "image/png": "[encoded data removed]",
      "text/plain": [
       "Plot with title \"Regular Sampling\""
      ]
     },
     "metadata": {},
     "output_type": "display_data"
    }
   ],
   "source": [
    "plot(raster, main = \"Regular Sampling\")\n",
    "plot(samp.reg, add = TRUE, col = samp.reg$lulc6, pch = as.character(samp.reg$lulc6), cex = 0.6)"
   ]
  }
 ],
 "metadata": {
  "kernelspec": {
   "display_name": "R",
   "language": "R",
   "name": "ir"
  },
  "language_info": {
   "codemirror_mode": "r",
   "file_extension": ".r",
   "mimetype": "text/x-r-source",
   "name": "R",
   "pygments_lexer": "r",
   "version": "3.4.1"
  }
 },
 "nbformat": 4,
 "nbformat_minor": 2
}
