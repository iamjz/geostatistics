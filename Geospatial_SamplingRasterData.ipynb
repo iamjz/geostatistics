{
 "cells": [
  {
   "cell_type": "code",
   "execution_count": 1,
   "metadata": {},
   "outputs": [
    {
     "name": "stderr",
     "output_type": "stream",
     "text": [
      "Warning message:\n",
      "\"package 'rgdal' was built under R version 3.4.2\"Warning message:\n",
      "\"package 'sp' was built under R version 3.4.2\"Warning message:\n",
      "\"package 'rgeos' was built under R version 3.4.2\"Warning message:\n",
      "\"package 'raster' was built under R version 3.4.2\""
     ]
    }
   ],
   "source": [
    "# Load relevant R packages\n",
    "inLibraries = list('repr','rgdal','sp','rgeos','raster')\n",
    "for (rpack in inLibraries) {\n",
    "  if (is.element(rpack,installed.packages()[,1])){           \n",
    "      #Load the library into R\n",
    "      suppressMessages(library(rpack,character.only = TRUE))\n",
    "    }\n",
    "    else {\n",
    "        print(paste(\"Warning:  \",rpack,\" is not an installed package\"))\n",
    "    }\n",
    "}\n",
    "#resize plot area\n",
    "options(repr.plot.width=6, repr.plot.height=6)"
   ]
  },
  {
   "cell_type": "code",
   "execution_count": 2,
   "metadata": {
    "collapsed": true
   },
   "outputs": [],
   "source": [
    "# Read in a raster file\n",
    "rasterFile <- raster('datasets/nemo_weather/nemowx3.tif')"
   ]
  },
  {
   "cell_type": "code",
   "execution_count": 3,
   "metadata": {},
   "outputs": [
    {
     "data": {
      "text/plain": [
       "class       : RasterLayer \n",
       "dimensions  : 35, 41, 1435  (nrow, ncol, ncell)\n",
       "resolution  : 5000, 5000  (x, y)\n",
       "extent      : 462749.5, 667749.5, 4332713, 4507713  (xmin, xmax, ymin, ymax)\n",
       "coord. ref. : +proj=utm +zone=15 +datum=NAD83 +units=m +no_defs +ellps=GRS80 +towgs84=0,0,0 \n",
       "data source : C:\\Users\\Jacky Zhao\\Desktop\\repos\\R-Data\\datasets\\nemo_weather\\nemowx3.tif \n",
       "names       : nemowx3 \n"
      ]
     },
     "metadata": {},
     "output_type": "display_data"
    }
   ],
   "source": [
    "# print raster info\n",
    "rasterFile"
   ]
  },
  {
   "cell_type": "code",
   "execution_count": 4,
   "metadata": {},
   "outputs": [
    {
     "data": {
      "image/png": "[encoded data removed]",
      "text/plain": [
       "Plot with title \"\""
      ]
     },
     "metadata": {},
     "output_type": "display_data"
    }
   ],
   "source": [
    "# Map raster data\n",
    "plot(rasterFile)"
   ]
  },
  {
   "cell_type": "markdown",
   "metadata": {},
   "source": [
    "### Random Sampling\n",
    "\n",
    "In order to apply random sampling to a raster dataset, the function sampleRandom() (raster library) can be used. The inputs to the function include a raster layer and the number of samples. The output of this function is is configured to be a  spatialpoints dataframe by setting sp=TRUE. Refer to the documentation to see the other optional arguments that can be applied. Below, the sampled points are overlaid with the raster layer and the attributes of the sampled points are also printed to the screen."
   ]
  },
  {
   "cell_type": "code",
   "execution_count": 5,
   "metadata": {
    "collapsed": true
   },
   "outputs": [],
   "source": [
    "# specify number of samples to take\n",
    "n <- 50\n",
    "\n",
    "# Conduct random sampling, also return sampled row, column and cell number and a spatial points data frame\n",
    "samp.rand <- sampleRandom(rasterFile, n, \n",
    "                              rowcol = TRUE, \n",
    "                              cells = TRUE, sp = TRUE)"
   ]
  },
  {
   "cell_type": "code",
   "execution_count": 6,
   "metadata": {},
   "outputs": [
    {
     "data": {
      "text/html": [
       "<table>\n",
       "<thead><tr><th scope=col>cell</th><th scope=col>row</th><th scope=col>col</th><th scope=col>nemowx3</th></tr></thead>\n",
       "<tbody>\n",
       "\t<tr><td> 411</td><td>11  </td><td> 1  </td><td>41  </td></tr>\n",
       "\t<tr><td>1176</td><td>29  </td><td>28  </td><td>24  </td></tr>\n",
       "\t<tr><td>1201</td><td>30  </td><td>12  </td><td>26  </td></tr>\n",
       "\t<tr><td>1414</td><td>35  </td><td>20  </td><td>22  </td></tr>\n",
       "\t<tr><td> 730</td><td>18  </td><td>33  </td><td>35  </td></tr>\n",
       "\t<tr><td> 747</td><td>19  </td><td> 9  </td><td>39  </td></tr>\n",
       "</tbody>\n",
       "</table>\n"
      ],
      "text/latex": [
       "\\begin{tabular}{r|llll}\n",
       " cell & row & col & nemowx3\\\\\n",
       "\\hline\n",
       "\t  411 & 11   &  1   & 41  \\\\\n",
       "\t 1176 & 29   & 28   & 24  \\\\\n",
       "\t 1201 & 30   & 12   & 26  \\\\\n",
       "\t 1414 & 35   & 20   & 22  \\\\\n",
       "\t  730 & 18   & 33   & 35  \\\\\n",
       "\t  747 & 19   &  9   & 39  \\\\\n",
       "\\end{tabular}\n"
      ],
      "text/markdown": [
       "\n",
       "cell | row | col | nemowx3 | \n",
       "|---|---|---|---|---|---|\n",
       "|  411 | 11   |  1   | 41   | \n",
       "| 1176 | 29   | 28   | 24   | \n",
       "| 1201 | 30   | 12   | 26   | \n",
       "| 1414 | 35   | 20   | 22   | \n",
       "|  730 | 18   | 33   | 35   | \n",
       "|  747 | 19   |  9   | 39   | \n",
       "\n",
       "\n"
      ],
      "text/plain": [
       "  cell row col nemowx3\n",
       "1  411 11   1  41     \n",
       "2 1176 29  28  24     \n",
       "3 1201 30  12  26     \n",
       "4 1414 35  20  22     \n",
       "5  730 18  33  35     \n",
       "6  747 19   9  39     "
      ]
     },
     "metadata": {},
     "output_type": "display_data"
    }
   ],
   "source": [
    "head(samp.rand)"
   ]
  },
  {
   "cell_type": "code",
   "execution_count": 7,
   "metadata": {},
   "outputs": [
    {
     "data": {
      "image/png": "[encoded data removed]",
      "text/plain": [
       "Plot with title \"Random Sample\""
      ]
     },
     "metadata": {},
     "output_type": "display_data"
    }
   ],
   "source": [
    "# Map raster file\n",
    "plot(rasterFile, main = \"Random Sample\", cex.main = 0.8)\n",
    "\n",
    "# add sampled points to the map\n",
    "plot(samp.rand, pch = 20, add = TRUE)"
   ]
  },
  {
   "cell_type": "code",
   "execution_count": 8,
   "metadata": {},
   "outputs": [
    {
     "data": {
      "text/html": [
       "<table>\n",
       "<thead><tr><th scope=col>cell</th><th scope=col>row</th><th scope=col>col</th><th scope=col>nemowx3</th></tr></thead>\n",
       "<tbody>\n",
       "\t<tr><td> 411</td><td>11  </td><td> 1  </td><td>41  </td></tr>\n",
       "\t<tr><td>1176</td><td>29  </td><td>28  </td><td>24  </td></tr>\n",
       "\t<tr><td>1201</td><td>30  </td><td>12  </td><td>26  </td></tr>\n",
       "\t<tr><td>1414</td><td>35  </td><td>20  </td><td>22  </td></tr>\n",
       "\t<tr><td> 730</td><td>18  </td><td>33  </td><td>35  </td></tr>\n",
       "\t<tr><td> 747</td><td>19  </td><td> 9  </td><td>39  </td></tr>\n",
       "\t<tr><td>1057</td><td>26  </td><td>32  </td><td>26  </td></tr>\n",
       "\t<tr><td>1196</td><td>30  </td><td> 7  </td><td>29  </td></tr>\n",
       "\t<tr><td> 746</td><td>19  </td><td> 8  </td><td>39  </td></tr>\n",
       "\t<tr><td>1031</td><td>26  </td><td> 6  </td><td>34  </td></tr>\n",
       "\t<tr><td>1348</td><td>33  </td><td>36  </td><td>19  </td></tr>\n",
       "\t<tr><td> 472</td><td>12  </td><td>21  </td><td>41  </td></tr>\n",
       "\t<tr><td>1170</td><td>29  </td><td>22  </td><td>26  </td></tr>\n",
       "\t<tr><td> 878</td><td>22  </td><td>17  </td><td>32  </td></tr>\n",
       "\t<tr><td> 640</td><td>16  </td><td>25  </td><td>39  </td></tr>\n",
       "\t<tr><td>1373</td><td>34  </td><td>20  </td><td>22  </td></tr>\n",
       "\t<tr><td> 313</td><td> 8  </td><td>26  </td><td>42  </td></tr>\n",
       "\t<tr><td>1363</td><td>34  </td><td>10  </td><td>23  </td></tr>\n",
       "\t<tr><td> 779</td><td>19  </td><td>41  </td><td>31  </td></tr>\n",
       "\t<tr><td>1358</td><td>34  </td><td> 5  </td><td>26  </td></tr>\n",
       "</tbody>\n",
       "</table>\n"
      ],
      "text/latex": [
       "\\begin{tabular}{r|llll}\n",
       " cell & row & col & nemowx3\\\\\n",
       "\\hline\n",
       "\t  411 & 11   &  1   & 41  \\\\\n",
       "\t 1176 & 29   & 28   & 24  \\\\\n",
       "\t 1201 & 30   & 12   & 26  \\\\\n",
       "\t 1414 & 35   & 20   & 22  \\\\\n",
       "\t  730 & 18   & 33   & 35  \\\\\n",
       "\t  747 & 19   &  9   & 39  \\\\\n",
       "\t 1057 & 26   & 32   & 26  \\\\\n",
       "\t 1196 & 30   &  7   & 29  \\\\\n",
       "\t  746 & 19   &  8   & 39  \\\\\n",
       "\t 1031 & 26   &  6   & 34  \\\\\n",
       "\t 1348 & 33   & 36   & 19  \\\\\n",
       "\t  472 & 12   & 21   & 41  \\\\\n",
       "\t 1170 & 29   & 22   & 26  \\\\\n",
       "\t  878 & 22   & 17   & 32  \\\\\n",
       "\t  640 & 16   & 25   & 39  \\\\\n",
       "\t 1373 & 34   & 20   & 22  \\\\\n",
       "\t  313 &  8   & 26   & 42  \\\\\n",
       "\t 1363 & 34   & 10   & 23  \\\\\n",
       "\t  779 & 19   & 41   & 31  \\\\\n",
       "\t 1358 & 34   &  5   & 26  \\\\\n",
       "\\end{tabular}\n"
      ],
      "text/markdown": [
       "\n",
       "cell | row | col | nemowx3 | \n",
       "|---|---|---|---|---|---|---|---|---|---|---|---|---|---|---|---|---|---|---|---|\n",
       "|  411 | 11   |  1   | 41   | \n",
       "| 1176 | 29   | 28   | 24   | \n",
       "| 1201 | 30   | 12   | 26   | \n",
       "| 1414 | 35   | 20   | 22   | \n",
       "|  730 | 18   | 33   | 35   | \n",
       "|  747 | 19   |  9   | 39   | \n",
       "| 1057 | 26   | 32   | 26   | \n",
       "| 1196 | 30   |  7   | 29   | \n",
       "|  746 | 19   |  8   | 39   | \n",
       "| 1031 | 26   |  6   | 34   | \n",
       "| 1348 | 33   | 36   | 19   | \n",
       "|  472 | 12   | 21   | 41   | \n",
       "| 1170 | 29   | 22   | 26   | \n",
       "|  878 | 22   | 17   | 32   | \n",
       "|  640 | 16   | 25   | 39   | \n",
       "| 1373 | 34   | 20   | 22   | \n",
       "|  313 |  8   | 26   | 42   | \n",
       "| 1363 | 34   | 10   | 23   | \n",
       "|  779 | 19   | 41   | 31   | \n",
       "| 1358 | 34   |  5   | 26   | \n",
       "\n",
       "\n"
      ],
      "text/plain": [
       "   cell row col nemowx3\n",
       "1   411 11   1  41     \n",
       "2  1176 29  28  24     \n",
       "3  1201 30  12  26     \n",
       "4  1414 35  20  22     \n",
       "5   730 18  33  35     \n",
       "6   747 19   9  39     \n",
       "7  1057 26  32  26     \n",
       "8  1196 30   7  29     \n",
       "9   746 19   8  39     \n",
       "10 1031 26   6  34     \n",
       "11 1348 33  36  19     \n",
       "12  472 12  21  41     \n",
       "13 1170 29  22  26     \n",
       "14  878 22  17  32     \n",
       "15  640 16  25  39     \n",
       "16 1373 34  20  22     \n",
       "17  313  8  26  42     \n",
       "18 1363 34  10  23     \n",
       "19  779 19  41  31     \n",
       "20 1358 34   5  26     "
      ]
     },
     "metadata": {},
     "output_type": "display_data"
    }
   ],
   "source": [
    "# print sample information\n",
    "head(samp.rand, 20)"
   ]
  },
  {
   "cell_type": "markdown",
   "metadata": {},
   "source": [
    "### Regular Sampling\n",
    "\n",
    "For regular sampling, the sampleRegular() function (raster library) can be applied. Arguments for this function somewhat similar to that of randomSampling(), but there are additional options that you should note in the documentation of the function."
   ]
  },
  {
   "cell_type": "code",
   "execution_count": 12,
   "metadata": {
    "collapsed": true
   },
   "outputs": [],
   "source": [
    "# specify number of samples to take\n",
    "n <- 50\n",
    "\n",
    "# Conduct regular sampling, also return sampled coordinates, \n",
    "# cell numbers and a spatial points data frame\n",
    "samp.reg <- sampleRegular(rasterFile, n, \n",
    "                          cells = TRUE, \n",
    "                          sp = TRUE)"
   ]
  },
  {
   "cell_type": "code",
   "execution_count": 13,
   "metadata": {},
   "outputs": [
    {
     "data": {
      "text/html": [
       "<table>\n",
       "<thead><tr><th scope=col>cell</th><th scope=col>nemowx3</th></tr></thead>\n",
       "<tbody>\n",
       "\t<tr><td> 85</td><td>43 </td></tr>\n",
       "\t<tr><td> 91</td><td>41 </td></tr>\n",
       "\t<tr><td> 97</td><td>43 </td></tr>\n",
       "\t<tr><td>102</td><td>41 </td></tr>\n",
       "\t<tr><td>108</td><td>42 </td></tr>\n",
       "\t<tr><td>114</td><td>42 </td></tr>\n",
       "</tbody>\n",
       "</table>\n"
      ],
      "text/latex": [
       "\\begin{tabular}{r|ll}\n",
       " cell & nemowx3\\\\\n",
       "\\hline\n",
       "\t  85 & 43 \\\\\n",
       "\t  91 & 41 \\\\\n",
       "\t  97 & 43 \\\\\n",
       "\t 102 & 41 \\\\\n",
       "\t 108 & 42 \\\\\n",
       "\t 114 & 42 \\\\\n",
       "\\end{tabular}\n"
      ],
      "text/markdown": [
       "\n",
       "cell | nemowx3 | \n",
       "|---|---|---|---|---|---|\n",
       "|  85 | 43  | \n",
       "|  91 | 41  | \n",
       "|  97 | 43  | \n",
       "| 102 | 41  | \n",
       "| 108 | 42  | \n",
       "| 114 | 42  | \n",
       "\n",
       "\n"
      ],
      "text/plain": [
       "  cell nemowx3\n",
       "1  85  43     \n",
       "2  91  41     \n",
       "3  97  43     \n",
       "4 102  41     \n",
       "5 108  42     \n",
       "6 114  42     "
      ]
     },
     "metadata": {},
     "output_type": "display_data"
    }
   ],
   "source": [
    "head(samp.reg)"
   ]
  },
  {
   "cell_type": "code",
   "execution_count": 11,
   "metadata": {},
   "outputs": [
    {
     "data": {
      "image/png": "[encoded data removed]",
      "text/plain": [
       "Plot with title \"Regular Sample\""
      ]
     },
     "metadata": {},
     "output_type": "display_data"
    }
   ],
   "source": [
    "# Map raster data\n",
    "plot(rasterFile, main = \"Regular Sample\", cex.main = 0.8)\n",
    "\n",
    "# add sampled points to the map\n",
    "plot(samp.reg, pch = 20, add = TRUE)"
   ]
  },
  {
   "cell_type": "markdown",
   "metadata": {},
   "source": [
    "### Stratified Sampling\n",
    "\n",
    "In stratified sampling, the samples are taken such that n cells for each unique raster value are selected. If n = 1, the sample size is equal to the number of unique values in the raster. For n > 1, if possible n*(number of uniques raster values) are taken. To examine how this works, let's apply the sampleStratified() function (raster library). After examining the results for n=1, experiment with n=2 and n=3.  How do changes in n affect the sample? What problems may arise?"
   ]
  },
  {
   "cell_type": "code",
   "execution_count": 14,
   "metadata": {
    "collapsed": true
   },
   "outputs": [],
   "source": [
    "# Take one sample for each raster unique value\n",
    "n <- 1\n",
    "\n",
    "# Also return sampled coordinates, cell numbers and \n",
    "# a spatial points data frame\n",
    "samp.stra <- sampleStratified(rasterFile, n, xy = TRUE)"
   ]
  },
  {
   "cell_type": "code",
   "execution_count": 15,
   "metadata": {},
   "outputs": [
    {
     "data": {
      "text/html": [
       "<table>\n",
       "<thead><tr><th scope=col>cell</th><th scope=col>x</th><th scope=col>y</th><th scope=col>nemowx3</th></tr></thead>\n",
       "<tbody>\n",
       "\t<tr><td>1388    </td><td>635249.5</td><td>4340213 </td><td>18      </td></tr>\n",
       "\t<tr><td>1343    </td><td>615249.5</td><td>4345213 </td><td>19      </td></tr>\n",
       "\t<tr><td>1301    </td><td>610249.5</td><td>4350213 </td><td>20      </td></tr>\n",
       "\t<tr><td>1330    </td><td>550249.5</td><td>4345213 </td><td>21      </td></tr>\n",
       "\t<tr><td>1184    </td><td>640249.5</td><td>4365213 </td><td>22      </td></tr>\n",
       "\t<tr><td>1104    </td><td>650249.5</td><td>4375213 </td><td>23      </td></tr>\n",
       "</tbody>\n",
       "</table>\n"
      ],
      "text/latex": [
       "\\begin{tabular}{llll}\n",
       " cell & x & y & nemowx3\\\\\n",
       "\\hline\n",
       "\t 1388     & 635249.5 & 4340213  & 18      \\\\\n",
       "\t 1343     & 615249.5 & 4345213  & 19      \\\\\n",
       "\t 1301     & 610249.5 & 4350213  & 20      \\\\\n",
       "\t 1330     & 550249.5 & 4345213  & 21      \\\\\n",
       "\t 1184     & 640249.5 & 4365213  & 22      \\\\\n",
       "\t 1104     & 650249.5 & 4375213  & 23      \\\\\n",
       "\\end{tabular}\n"
      ],
      "text/markdown": [
       "\n",
       "cell | x | y | nemowx3 | \n",
       "|---|---|---|---|---|---|\n",
       "| 1388     | 635249.5 | 4340213  | 18       | \n",
       "| 1343     | 615249.5 | 4345213  | 19       | \n",
       "| 1301     | 610249.5 | 4350213  | 20       | \n",
       "| 1330     | 550249.5 | 4345213  | 21       | \n",
       "| 1184     | 640249.5 | 4365213  | 22       | \n",
       "| 1104     | 650249.5 | 4375213  | 23       | \n",
       "\n",
       "\n"
      ],
      "text/plain": [
       "     cell x        y       nemowx3\n",
       "[1,] 1388 635249.5 4340213 18     \n",
       "[2,] 1343 615249.5 4345213 19     \n",
       "[3,] 1301 610249.5 4350213 20     \n",
       "[4,] 1330 550249.5 4345213 21     \n",
       "[5,] 1184 640249.5 4365213 22     \n",
       "[6,] 1104 650249.5 4375213 23     "
      ]
     },
     "metadata": {},
     "output_type": "display_data"
    }
   ],
   "source": [
    "head(samp.stra)"
   ]
  },
  {
   "cell_type": "code",
   "execution_count": 16,
   "metadata": {},
   "outputs": [
    {
     "data": {
      "image/png": "[encoded data removed]",
      "text/plain": [
       "Plot with title \"Stratified Sample\""
      ]
     },
     "metadata": {},
     "output_type": "display_data"
    }
   ],
   "source": [
    "# Map raster data\n",
    "plot (rasterFile, main = \"Stratified Sample\", cex.main = 0.8)\n",
    "\n",
    "# Keep the privious frame for next plot\n",
    "par(new = TRUE)\n",
    "\n",
    "\n",
    "# Add sampled points to the map\n",
    "plot(samp.stra[,2], samp.stra[,3], pch = 20, axes = FALSE)\n"
   ]
  },
  {
   "cell_type": "code",
   "execution_count": 17,
   "metadata": {},
   "outputs": [
    {
     "data": {
      "text/html": [
       "<table>\n",
       "<thead><tr><th scope=col>cell</th><th scope=col>x</th><th scope=col>y</th><th scope=col>nemowx3</th></tr></thead>\n",
       "<tbody>\n",
       "\t<tr><td>1388    </td><td>635249.5</td><td>4340213 </td><td>18      </td></tr>\n",
       "\t<tr><td>1343    </td><td>615249.5</td><td>4345213 </td><td>19      </td></tr>\n",
       "\t<tr><td>1301    </td><td>610249.5</td><td>4350213 </td><td>20      </td></tr>\n",
       "\t<tr><td>1330    </td><td>550249.5</td><td>4345213 </td><td>21      </td></tr>\n",
       "\t<tr><td>1184    </td><td>640249.5</td><td>4365213 </td><td>22      </td></tr>\n",
       "\t<tr><td>1104    </td><td>650249.5</td><td>4375213 </td><td>23      </td></tr>\n",
       "</tbody>\n",
       "</table>\n"
      ],
      "text/latex": [
       "\\begin{tabular}{llll}\n",
       " cell & x & y & nemowx3\\\\\n",
       "\\hline\n",
       "\t 1388     & 635249.5 & 4340213  & 18      \\\\\n",
       "\t 1343     & 615249.5 & 4345213  & 19      \\\\\n",
       "\t 1301     & 610249.5 & 4350213  & 20      \\\\\n",
       "\t 1330     & 550249.5 & 4345213  & 21      \\\\\n",
       "\t 1184     & 640249.5 & 4365213  & 22      \\\\\n",
       "\t 1104     & 650249.5 & 4375213  & 23      \\\\\n",
       "\\end{tabular}\n"
      ],
      "text/markdown": [
       "\n",
       "cell | x | y | nemowx3 | \n",
       "|---|---|---|---|---|---|\n",
       "| 1388     | 635249.5 | 4340213  | 18       | \n",
       "| 1343     | 615249.5 | 4345213  | 19       | \n",
       "| 1301     | 610249.5 | 4350213  | 20       | \n",
       "| 1330     | 550249.5 | 4345213  | 21       | \n",
       "| 1184     | 640249.5 | 4365213  | 22       | \n",
       "| 1104     | 650249.5 | 4375213  | 23       | \n",
       "\n",
       "\n"
      ],
      "text/plain": [
       "     cell x        y       nemowx3\n",
       "[1,] 1388 635249.5 4340213 18     \n",
       "[2,] 1343 615249.5 4345213 19     \n",
       "[3,] 1301 610249.5 4350213 20     \n",
       "[4,] 1330 550249.5 4345213 21     \n",
       "[5,] 1184 640249.5 4365213 22     \n",
       "[6,] 1104 650249.5 4375213 23     "
      ]
     },
     "metadata": {},
     "output_type": "display_data"
    }
   ],
   "source": [
    "# print sampled point infromation\n",
    "head(samp.stra)"
   ]
  }
 ],
 "metadata": {
  "kernelspec": {
   "display_name": "R",
   "language": "R",
   "name": "ir"
  },
  "language_info": {
   "codemirror_mode": "r",
   "file_extension": ".r",
   "mimetype": "text/x-r-source",
   "name": "R",
   "pygments_lexer": "r",
   "version": "3.4.1"
  }
 },
 "nbformat": 4,
 "nbformat_minor": 2
}
