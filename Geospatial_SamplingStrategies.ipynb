{
 "cells": [
  {
   "cell_type": "markdown",
   "metadata": {},
   "source": [
    "# Spatial Sampling Strategies\n",
    "\n",
    "We'll focus on spatial sampling methods as applied to sample from a finite set of geospatial features."
   ]
  },
  {
   "cell_type": "code",
   "execution_count": 1,
   "metadata": {},
   "outputs": [
    {
     "name": "stderr",
     "output_type": "stream",
     "text": [
      "Warning message:\n",
      "\"package 'rgdal' was built under R version 3.4.2\"Warning message:\n",
      "\"package 'sp' was built under R version 3.4.2\"Warning message:\n",
      "\"package 'rgeos' was built under R version 3.4.2\"Warning message:\n",
      "\"package 'classInt' was built under R version 3.4.2\""
     ]
    }
   ],
   "source": [
    "# Load relevant R packages\n",
    "inLibraries = list('repr','rgdal','sp','rgeos','RColorBrewer','classInt')\n",
    "for (rpack in inLibraries) {\n",
    "  if (is.element(rpack,installed.packages()[,1])){           \n",
    "      #Load the library into R\n",
    "      suppressMessages(library(rpack,character.only = TRUE))\n",
    "    }\n",
    "    else {\n",
    "        print(paste(\"Warning:  \",rpack,\" is not an installed package\"))\n",
    "    }\n",
    "}\n",
    "#resize plot area\n",
    "options(repr.plot.width=6, repr.plot.height=6)"
   ]
  },
  {
   "cell_type": "code",
   "execution_count": 3,
   "metadata": {},
   "outputs": [
    {
     "name": "stdout",
     "output_type": "stream",
     "text": [
      "OGR data source with driver: ESRI Shapefile \n",
      "Source: \"datasets/mo_counties\", layer: \"st_county10\"\n",
      "with 115 features\n",
      "It has 46 fields\n",
      "Integer64 fields read as strings:  POP90 WHITE90 BLACK90 ASIANPI90 AMIND90 OTHER90 HISP90 POP00 WHITE00 BLACK00 ASIAN00 AMIND00 HAWNPI00 OTHER00 MULTRA00 HISP00 POP10 WHITE10 BLACK10 ASIAN10 AMIND10 HAWNPI10 OTHER10 MULTRA10 HISP10 \n",
      "OGR data source with driver: ESRI Shapefile \n",
      "Source: \"datasets/mo_counties\", layer: \"railLine\"\n",
      "with 4272 features\n",
      "It has 4 fields\n",
      "OGR data source with driver: ESRI Shapefile \n",
      "Source: \"datasets/mo_counties\", layer: \"PublicSchoolsMO\"\n",
      "with 2343 features\n",
      "It has 23 fields\n"
     ]
    }
   ],
   "source": [
    "# Read in MO county polygons\n",
    "counties <- readOGR(\"datasets/mo_counties\", \"st_county10\")\n",
    "\n",
    "# Read in MO rail lines\n",
    "railLine <- readOGR(\"datasets/mo_counties\", \"railLine\")\n",
    "\n",
    "# Read in MO public school points\n",
    "publicSchool <- readOGR(\"datasets/mo_counties\", \"PublicSchoolsMO\")"
   ]
  },
  {
   "cell_type": "code",
   "execution_count": 4,
   "metadata": {},
   "outputs": [
    {
     "data": {
      "text/plain": [
       "Object of class SpatialPolygonsDataFrame\n",
       "Coordinates:\n",
       "        min     max\n",
       "x  265131.4  847373\n",
       "y 3986649.6 4496645\n",
       "Is projected: TRUE \n",
       "proj4string :\n",
       "[+proj=utm +zone=15 +datum=NAD83 +units=m +no_defs +ellps=GRS80\n",
       "+towgs84=0,0,0]\n",
       "Data attributes:\n",
       " STATEFP10   COUNTYFP10     COUNTYNS10     GEOID10          NAME10   \n",
       " 29:115    001    :  1   00758456:  1   29001  :  1   St. Louis:  2  \n",
       "           003    :  1   00758457:  1   29003  :  1   Adair    :  1  \n",
       "           005    :  1   00758458:  1   29005  :  1   Andrew   :  1  \n",
       "           007    :  1   00758459:  1   29007  :  1   Atchison :  1  \n",
       "           009    :  1   00758460:  1   29009  :  1   Audrain  :  1  \n",
       "           011    :  1   00758461:  1   29011  :  1   Barry    :  1  \n",
       "           (Other):109   (Other) :109   (Other):109   (Other)  :108  \n",
       "           NAMELSAD10  LSAD10   CLASSFP10  MTFCC10    CSAFP10      CBSAFP10 \n",
       " Adair County   :  1   06:114   C7:  1    G4020:115   164 : 3   28140  : 9  \n",
       " Andrew County  :  1   25:  1   H1:114                312 :10   41180  : 8  \n",
       " Atchison County:  1                                  476 : 9   44180  : 5  \n",
       " Audrain County :  1                                  NA's:93   27620  : 4  \n",
       " Barry County   :  1                                            41140  : 3  \n",
       " Barton County  :  1                                            (Other):29  \n",
       " (Other)        :109                                            NA's   :57  \n",
       " METDIVFP10 FUNCSTAT10    ALAND10             AWATER10        \n",
       " NA's:115   A:114      Min.   :1.603e+08   Min.   :   464007  \n",
       "            F:  1      1st Qu.:1.271e+09   1st Qu.:  6960861  \n",
       "                       Median :1.533e+09   Median : 14901513  \n",
       "                       Mean   :1.548e+09   Mean   : 21744032  \n",
       "                       3rd Qu.:1.796e+09   3rd Qu.: 27118786  \n",
       "                       Max.   :3.049e+09   Max.   :136548740  \n",
       "                                                              \n",
       "       INTPTLAT10         INTPTLON10       AREA             PERIMETER     \n",
       " +36.1530246:  1   -089.2959286:  1   Min.   :1.711e+08   Min.   : 66871  \n",
       " +36.2099162:  1   -089.5680975:  1   1st Qu.:1.295e+09   1st Qu.:159881  \n",
       " +36.5942608:  1   -089.6559485:  1   Median :1.537e+09   Median :175962  \n",
       " +36.6302180:  1   -089.6849079:  1   Mean   :1.569e+09   Mean   :181669  \n",
       " +36.6489017:  1   -089.7859419:  1   3rd Qu.:1.816e+09   3rd Qu.:204946  \n",
       " +36.6496431:  1   -089.8021249:  1   Max.   :3.052e+09   Max.   :273613  \n",
       " (Other)    :109   (Other)     :109                                       \n",
       "   COUNTY10_       COUNTY10_I        POP90        WHITE90       BLACK90  \n",
       " Min.   :  2.0   Min.   :  1.0   10233  :  1   100055 :  1   3      : 9  \n",
       " 1st Qu.: 30.5   1st Qu.: 29.5   10536  :  1   10450  :  1   1      : 4  \n",
       " Median : 59.0   Median : 58.0   10619  :  1   10487  :  1   6      : 4  \n",
       " Mean   : 59.0   Mean   : 58.0   10726  :  1   10545  :  1   11     : 3  \n",
       " 3rd Qu.: 87.5   3rd Qu.: 86.5   10748  :  1   10632  :  1   16     : 3  \n",
       " Max.   :116.0   Max.   :115.0   11127  :  1   11015  :  1   10     : 2  \n",
       "                                 (Other):109   (Other):109   (Other):90  \n",
       "   ASIANPI90     AMIND90      OTHER90       HISP90        POP00    \n",
       " 14     : 5   14     : 3   10     : 5   40     :  3   1016315:  1  \n",
       " 4      : 5   18     : 3   17     : 5   114    :  2   10212  :  1  \n",
       " 23     : 4   22     : 3   18     : 5   119    :  2   10285  :  1  \n",
       " 5      : 4   31     : 3   7      : 5   152    :  2   10344  :  1  \n",
       " 12     : 3   34     : 3   8      : 5   219    :  2   10432  :  1  \n",
       " 15     : 3   41     : 3   15     : 4   26     :  2   104686 :  1  \n",
       " (Other):91   (Other):97   (Other):86   (Other):102   (Other):109  \n",
       "    WHITE00       BLACK00      ASIAN00      AMIND00       HAWNPI00 \n",
       " 10066  :  1   10     : 3   10     : 5   118    :  3   0      :17  \n",
       " 10183  :  1   14     : 3   11     : 5   104    :  2   1      :17  \n",
       " 10332  :  1   21     : 3   4      : 4   155    :  2   2      :13  \n",
       " 10348  :  1   4      : 3   13     : 3   181    :  2   5      : 9  \n",
       " 10463  :  1   12     : 2   25     : 3   19     :  2   3      : 6  \n",
       " 115714 :  1   138    : 2   28     : 3   21     :  2   4      : 6  \n",
       " (Other):109   (Other):99   (Other):92   (Other):102   (Other):47  \n",
       "    OTHER00      MULTRA00       HISP00        POP10        WHITE10   \n",
       " 16     : 4   112    :  3   77     :  3   23370  :  2   10250  :  1  \n",
       " 7      : 4   104    :  2   132    :  2   10144  :  1   103596 :  1  \n",
       " 21     : 3   108    :  2   153    :  2   101492 :  1   10511  :  1  \n",
       " 31     : 3   155    :  2   231    :  2   10167  :  1   10633  :  1  \n",
       " 46     : 3   188    :  2   315    :  2   10211  :  1   11205  :  1  \n",
       " 8      : 3   35     :  2   42     :  2   10261  :  1   11713  :  1  \n",
       " (Other):95   (Other):102   (Other):102   (Other):108   (Other):109  \n",
       "    BLACK10       ASIAN10       AMIND10      HAWNPI10     OTHER10   \n",
       " 30     :  3   12     :  3   32     : 4   0      :13   13     :  4  \n",
       " 102    :  2   18     :  3   51     : 3   1      :11   126    :  2  \n",
       " 14     :  2   32     :  3   7      : 3   3      :10   17     :  2  \n",
       " 156    :  2   11     :  2   70     : 3   2      : 9   18     :  2  \n",
       " 17     :  2   13     :  2   77     : 3   8      : 9   24     :  2  \n",
       " 32     :  2   133    :  2   135    : 2   7      : 5   25     :  2  \n",
       " (Other):102   (Other):100   (Other):97   (Other):58   (Other):101  \n",
       "    MULTRA10       HISP10   \n",
       " 104    :  3   231    :  2  \n",
       " 102    :  2   36     :  2  \n",
       " 182    :  2   365    :  2  \n",
       " 302    :  2   98     :  2  \n",
       " 306    :  2   1014   :  1  \n",
       " 323    :  2   1032   :  1  \n",
       " (Other):102   (Other):105  "
      ]
     },
     "metadata": {},
     "output_type": "display_data"
    }
   ],
   "source": [
    "# Summarize attributes of county polygons\n",
    "summary(counties)"
   ]
  },
  {
   "cell_type": "code",
   "execution_count": 5,
   "metadata": {},
   "outputs": [
    {
     "data": {
      "text/plain": [
       "Object of class SpatialLinesDataFrame\n",
       "Coordinates:\n",
       "        min       max\n",
       "x  275117.6  837056.7\n",
       "y 3988017.9 4496014.7\n",
       "Is projected: TRUE \n",
       "proj4string :\n",
       "[+proj=utm +zone=15 +datum=NAD83 +units=m +no_defs +ellps=GRS80\n",
       "+towgs84=0,0,0]\n",
       "Data attributes:\n",
       "          LINEARID                               FULLNAME      MTFCC     \n",
       " 1101052686927:   1   Missouri Pacific RR            : 485   R1011:4257  \n",
       " 1101052686928:   1   St Louis-San Francisco Rlwy    : 340   R1051:  15  \n",
       " 1101052686929:   1   Norfolk Southern RR            : 335               \n",
       " 1101052686930:   1   Burlington Northern Santa Fe RR: 284               \n",
       " 1101052686931:   1   Burlington Northern RR         : 198               \n",
       " 1101052686932:   1   (Other)                        :1515               \n",
       " (Other)      :4266   NA's                           :1115               \n",
       "     length        \n",
       " Min.   :    0.69  \n",
       " 1st Qu.:  185.40  \n",
       " Median :  530.93  \n",
       " Mean   : 2209.60  \n",
       " 3rd Qu.: 1758.99  \n",
       " Max.   :57773.00  \n",
       "                   "
      ]
     },
     "metadata": {},
     "output_type": "display_data"
    }
   ],
   "source": [
    "# Summarize attributes of railway line features\n",
    "summary(railLine)"
   ]
  },
  {
   "cell_type": "code",
   "execution_count": 6,
   "metadata": {},
   "outputs": [
    {
     "data": {
      "text/plain": [
       "Object of class SpatialPointsDataFrame\n",
       "Coordinates:\n",
       "                min       max\n",
       "coords.x1  286343.7  826422.2\n",
       "coords.x2 3992133.4 4490536.0\n",
       "Is projected: TRUE \n",
       "proj4string :\n",
       "[+proj=utm +zone=15 +datum=NAD83 +units=m +no_defs +ellps=GRS80\n",
       "+towgs84=0,0,0]\n",
       "Number of points: 2343\n",
       "Data attributes:\n",
       "    CtyDist         SchNum            SchID                        Facility   \n",
       " 115115 :  76   4020   :451   024090-3090:   2   Central Elem.         :  10  \n",
       " 039141 :  55   1050   :445   049148-1050:   2   Early Childhood Center:   8  \n",
       " 201201 :  35   3000   :197   078005-4020:   2   Mark Twain Elem.      :   8  \n",
       " 048078 :  33   4040   :131   115906-6932:   2   South Elem.           :   7  \n",
       " 096088 :  33   4060   : 84   001090-1050:   1   Central High          :   6  \n",
       " 024093 :  32   4080   : 55   001090-4020:   1   Jefferson Elem.       :   6  \n",
       " (Other):2079   (Other):980   (Other)    :2333   (Other)               :2298  \n",
       "              Address                                    Address2   \n",
       " 2101 N Twyman Rd :  11   175 N School Ave                   :   2  \n",
       " 301 S Main Street:   9   PO Box 370                         :   2  \n",
       " 119 Service Rd   :   6   #1 Bulldog Lane                    :   1  \n",
       " 206 S Roney      :   6   013 S. Sibley Street, Buckner 64016:   1  \n",
       " 326 College St   :   5   105 Eighth Street                  :   1  \n",
       " 10047 Diamond Rd :   4   (Other)                            :  51  \n",
       " (Other)          :2302   NA's                               :2285  \n",
       "           City      State            ZIP                  County    \n",
       " St. Louis   : 196   MO:2343   648020128:  18   St. Louis     : 261  \n",
       " Kansas City : 148             640583200:  11   Jackson       : 224  \n",
       " Springfield :  58             657148663:  10   St. Louis City: 104  \n",
       " Independence:  40             640290304:   8   Greene        :  88  \n",
       " St. Charles :  34             640240248:   7   St. Charles   :  80  \n",
       " Columbia    :  33             657210166:   7   Clay          :  74  \n",
       " (Other)     :1834             (Other)  :2282   (Other)       :1512  \n",
       "     Phone                FAX                BGrade        EGrade   \n",
       " Min.   :3.142e+09   Min.   :0.000e+00   K      :815   12     :676  \n",
       " 1st Qu.:4.176e+09   1st Qu.:4.176e+09   PK     :435   05     :548  \n",
       " Median :5.737e+09   Median :5.737e+09   09     :368   08     :451  \n",
       " Mean   :5.737e+09   Mean   :5.718e+09   06     :258   06     :342  \n",
       " 3rd Qu.:6.607e+09   3rd Qu.:6.607e+09   07     :241   04     :138  \n",
       " Max.   :8.170e+09   Max.   :8.170e+09   05     : 81   02     : 56  \n",
       "                                         (Other):145   (Other):132  \n",
       "                Principal         PrinTitle       Teachers     \n",
       " Mr. Stanley Elliott :   3   Prin.     :2047   Min.   :  0.00  \n",
       " Mrs. Krissy Friedman:   3   Dir.      :  93   1st Qu.: 21.00  \n",
       " Ms. Dee Peneston    :   3   Supt.     :  53   Median : 30.00  \n",
       " Dr. Ashley Krause   :   2   Prin      :  45   Mean   : 35.21  \n",
       " Dr. Daniel Johnson  :   2   Build Adm.:  32   3rd Qu.: 42.00  \n",
       " (Other)             :2328   Admin.    :  12   Max.   :203.00  \n",
       " NA's                :   2   (Other)   :  61                   \n",
       "   Enrollment                              SchEmail       Latitude    \n",
       " Min.   :   0.0   dee.peneston@msd.dese.mo.gov :   3   Min.   :36.04  \n",
       " 1st Qu.: 170.0   kfriedman@hermitage.k12.mo.us:   3   1st Qu.:37.59  \n",
       " Median : 333.0   aburton@neelyville.k12.mo.us :   2   Median :38.64  \n",
       " Mean   : 391.9   amber_miller@isdschools.org  :   2   Mean   :38.41  \n",
       " 3rd Qu.: 505.0   ANGELE.BURNS@SLPS.ORG        :   2   3rd Qu.:39.03  \n",
       " Max.   :2618.0   (Other)                      :2329   Max.   :40.55  \n",
       "                  NA's                         :   2                  \n",
       "   Longitude        Loc_Code   \n",
       " Min.   :-95.52   MAP   : 332  \n",
       " 1st Qu.:-94.14   MAP-MU:   6  \n",
       " Median :-92.56   MAP_MU:1825  \n",
       " Mean   :-92.40   RPC   : 180  \n",
       " 3rd Qu.:-90.54                \n",
       " Max.   :-89.34                \n",
       "                               \n",
       "                                                                             Comments   \n",
       " Also known as the Reese Education Center                                        :   1  \n",
       " Formerly known as Swinney Elementary                                            :   1  \n",
       " Temporary location for grades 11-12. Will return to 2104 Indiana in August 2014.:   1  \n",
       " Temporary location for grades 9-10. Will return to 2104 Indiana in August 2014. :   1  \n",
       " Temporary location. Will become part of new Joplin High School in August 2014.  :   1  \n",
       " NA's                                                                            :2338  \n",
       "                                                                                        "
      ]
     },
     "metadata": {},
     "output_type": "display_data"
    }
   ],
   "source": [
    "# Summarize attributes of public school point features\n",
    "summary(publicSchool)"
   ]
  },
  {
   "cell_type": "code",
   "execution_count": 7,
   "metadata": {},
   "outputs": [
    {
     "data": {
      "text/html": [
       "<table>\n",
       "<thead><tr><th></th><th scope=col>0</th><th scope=col>1</th><th scope=col>2</th></tr></thead>\n",
       "<tbody>\n",
       "\t<tr><th scope=row>STATEFP10</th><td>29             </td><td>29             </td><td>29             </td></tr>\n",
       "\t<tr><th scope=row>COUNTYFP10</th><td>045            </td><td>005            </td><td>199            </td></tr>\n",
       "\t<tr><th scope=row>COUNTYNS10</th><td>00758477       </td><td>00758457       </td><td>00758552       </td></tr>\n",
       "\t<tr><th scope=row>GEOID10</th><td>29045          </td><td>29005          </td><td>29199          </td></tr>\n",
       "\t<tr><th scope=row>NAME10</th><td>Clark          </td><td>Atchison       </td><td>Scotland       </td></tr>\n",
       "\t<tr><th scope=row>NAMELSAD10</th><td>Clark County   </td><td>Atchison County</td><td>Scotland County</td></tr>\n",
       "\t<tr><th scope=row>LSAD10</th><td>06             </td><td>06             </td><td>06             </td></tr>\n",
       "\t<tr><th scope=row>CLASSFP10</th><td>H1             </td><td>H1             </td><td>H1             </td></tr>\n",
       "\t<tr><th scope=row>MTFCC10</th><td>G4020          </td><td>G4020          </td><td>G4020          </td></tr>\n",
       "\t<tr><th scope=row>CSAFP10</th><td>NA             </td><td>NA             </td><td>NA             </td></tr>\n",
       "\t<tr><th scope=row>CBSAFP10</th><td>22800          </td><td>NA             </td><td>NA             </td></tr>\n",
       "\t<tr><th scope=row>METDIVFP10</th><td>NA             </td><td>NA             </td><td>NA             </td></tr>\n",
       "\t<tr><th scope=row>FUNCSTAT10</th><td>A              </td><td>A              </td><td>A              </td></tr>\n",
       "\t<tr><th scope=row>ALAND10</th><td>1307146971     </td><td>1417505255     </td><td>1130971492     </td></tr>\n",
       "\t<tr><th scope=row>AWATER10</th><td>18473547       </td><td> 7319663       </td><td> 6798720       </td></tr>\n",
       "\t<tr><th scope=row>INTPTLAT10</th><td>+40.4072748    </td><td>+40.4318460    </td><td>+40.4476855    </td></tr>\n",
       "\t<tr><th scope=row>INTPTLON10</th><td>-091.7294720   </td><td>-095.4375546   </td><td>-092.1428235   </td></tr>\n",
       "\t<tr><th scope=row>AREA</th><td>1324937990     </td><td>1425178329     </td><td>1137009406     </td></tr>\n",
       "\t<tr><th scope=row>PERIMETER</th><td>161503.6       </td><td>183878.0       </td><td>135298.6       </td></tr>\n",
       "\t<tr><th scope=row>COUNTY10_</th><td>2              </td><td>3              </td><td>4              </td></tr>\n",
       "\t<tr><th scope=row>COUNTY10_I</th><td>115            </td><td>111            </td><td>114            </td></tr>\n",
       "\t<tr><th scope=row>POP90</th><td>7547           </td><td>7457           </td><td>4822           </td></tr>\n",
       "\t<tr><th scope=row>WHITE90</th><td>7528           </td><td>7280           </td><td>4808           </td></tr>\n",
       "\t<tr><th scope=row>BLACK90</th><td>3              </td><td>83             </td><td>3              </td></tr>\n",
       "\t<tr><th scope=row>ASIANPI90</th><td>4              </td><td>14             </td><td>0              </td></tr>\n",
       "\t<tr><th scope=row>AMIND90</th><td>7              </td><td>15             </td><td>10             </td></tr>\n",
       "\t<tr><th scope=row>OTHER90</th><td>5              </td><td>65             </td><td>1              </td></tr>\n",
       "\t<tr><th scope=row>HISP90</th><td>26             </td><td>104            </td><td>12             </td></tr>\n",
       "\t<tr><th scope=row>POP00</th><td>7416           </td><td>6430           </td><td>4983           </td></tr>\n",
       "\t<tr><th scope=row>WHITE00</th><td>7329           </td><td>6237           </td><td>4924           </td></tr>\n",
       "\t<tr><th scope=row>BLACK00</th><td>5              </td><td>132            </td><td>10             </td></tr>\n",
       "\t<tr><th scope=row>ASIAN00</th><td>5              </td><td>9              </td><td>4              </td></tr>\n",
       "\t<tr><th scope=row>AMIND00</th><td>15             </td><td>12             </td><td>7              </td></tr>\n",
       "\t<tr><th scope=row>HAWNPI00</th><td>1              </td><td>0              </td><td>1              </td></tr>\n",
       "\t<tr><th scope=row>OTHER00</th><td>16             </td><td>20             </td><td>8              </td></tr>\n",
       "\t<tr><th scope=row>MULTRA00</th><td>45             </td><td>20             </td><td>29             </td></tr>\n",
       "\t<tr><th scope=row>HISP00</th><td>52             </td><td>43             </td><td>42             </td></tr>\n",
       "\t<tr><th scope=row>POP10</th><td>7139           </td><td>5685           </td><td>4843           </td></tr>\n",
       "\t<tr><th scope=row>WHITE10</th><td>7011           </td><td>5600           </td><td>4776           </td></tr>\n",
       "\t<tr><th scope=row>BLACK10</th><td>19             </td><td>17             </td><td>3              </td></tr>\n",
       "\t<tr><th scope=row>ASIAN10</th><td>23             </td><td>9              </td><td>11             </td></tr>\n",
       "\t<tr><th scope=row>AMIND10</th><td>9              </td><td>10             </td><td>12             </td></tr>\n",
       "\t<tr><th scope=row>HAWNPI10</th><td>0              </td><td>3              </td><td>0              </td></tr>\n",
       "\t<tr><th scope=row>OTHER10</th><td>5              </td><td>5              </td><td>18             </td></tr>\n",
       "\t<tr><th scope=row>MULTRA10</th><td>72             </td><td>41             </td><td>23             </td></tr>\n",
       "\t<tr><th scope=row>HISP10</th><td>42             </td><td>55             </td><td>33             </td></tr>\n",
       "</tbody>\n",
       "</table>\n"
      ],
      "text/latex": [
       "\\begin{tabular}{r|lll}\n",
       "  & 0 & 1 & 2\\\\\n",
       "\\hline\n",
       "\tSTATEFP10 & 29              & 29              & 29             \\\\\n",
       "\tCOUNTYFP10 & 045             & 005             & 199            \\\\\n",
       "\tCOUNTYNS10 & 00758477        & 00758457        & 00758552       \\\\\n",
       "\tGEOID10 & 29045           & 29005           & 29199          \\\\\n",
       "\tNAME10 & Clark           & Atchison        & Scotland       \\\\\n",
       "\tNAMELSAD10 & Clark County    & Atchison County & Scotland County\\\\\n",
       "\tLSAD10 & 06              & 06              & 06             \\\\\n",
       "\tCLASSFP10 & H1              & H1              & H1             \\\\\n",
       "\tMTFCC10 & G4020           & G4020           & G4020          \\\\\n",
       "\tCSAFP10 & NA              & NA              & NA             \\\\\n",
       "\tCBSAFP10 & 22800           & NA              & NA             \\\\\n",
       "\tMETDIVFP10 & NA              & NA              & NA             \\\\\n",
       "\tFUNCSTAT10 & A               & A               & A              \\\\\n",
       "\tALAND10 & 1307146971      & 1417505255      & 1130971492     \\\\\n",
       "\tAWATER10 & 18473547        &  7319663        &  6798720       \\\\\n",
       "\tINTPTLAT10 & +40.4072748     & +40.4318460     & +40.4476855    \\\\\n",
       "\tINTPTLON10 & -091.7294720    & -095.4375546    & -092.1428235   \\\\\n",
       "\tAREA & 1324937990      & 1425178329      & 1137009406     \\\\\n",
       "\tPERIMETER & 161503.6        & 183878.0        & 135298.6       \\\\\n",
       "\tCOUNTY10\\_ & 2               & 3               & 4              \\\\\n",
       "\tCOUNTY10\\_I & 115             & 111             & 114            \\\\\n",
       "\tPOP90 & 7547            & 7457            & 4822           \\\\\n",
       "\tWHITE90 & 7528            & 7280            & 4808           \\\\\n",
       "\tBLACK90 & 3               & 83              & 3              \\\\\n",
       "\tASIANPI90 & 4               & 14              & 0              \\\\\n",
       "\tAMIND90 & 7               & 15              & 10             \\\\\n",
       "\tOTHER90 & 5               & 65              & 1              \\\\\n",
       "\tHISP90 & 26              & 104             & 12             \\\\\n",
       "\tPOP00 & 7416            & 6430            & 4983           \\\\\n",
       "\tWHITE00 & 7329            & 6237            & 4924           \\\\\n",
       "\tBLACK00 & 5               & 132             & 10             \\\\\n",
       "\tASIAN00 & 5               & 9               & 4              \\\\\n",
       "\tAMIND00 & 15              & 12              & 7              \\\\\n",
       "\tHAWNPI00 & 1               & 0               & 1              \\\\\n",
       "\tOTHER00 & 16              & 20              & 8              \\\\\n",
       "\tMULTRA00 & 45              & 20              & 29             \\\\\n",
       "\tHISP00 & 52              & 43              & 42             \\\\\n",
       "\tPOP10 & 7139            & 5685            & 4843           \\\\\n",
       "\tWHITE10 & 7011            & 5600            & 4776           \\\\\n",
       "\tBLACK10 & 19              & 17              & 3              \\\\\n",
       "\tASIAN10 & 23              & 9               & 11             \\\\\n",
       "\tAMIND10 & 9               & 10              & 12             \\\\\n",
       "\tHAWNPI10 & 0               & 3               & 0              \\\\\n",
       "\tOTHER10 & 5               & 5               & 18             \\\\\n",
       "\tMULTRA10 & 72              & 41              & 23             \\\\\n",
       "\tHISP10 & 42              & 55              & 33             \\\\\n",
       "\\end{tabular}\n"
      ],
      "text/markdown": [
       "\n",
       "| <!--/--> | 0 | 1 | 2 | \n",
       "|---|---|---|---|---|---|---|---|---|---|---|---|---|---|---|---|---|---|---|---|---|---|---|---|---|---|---|---|---|---|---|---|---|---|---|---|---|---|---|---|---|---|---|---|---|---|\n",
       "| STATEFP10 | 29              | 29              | 29              | \n",
       "| COUNTYFP10 | 045             | 005             | 199             | \n",
       "| COUNTYNS10 | 00758477        | 00758457        | 00758552        | \n",
       "| GEOID10 | 29045           | 29005           | 29199           | \n",
       "| NAME10 | Clark           | Atchison        | Scotland        | \n",
       "| NAMELSAD10 | Clark County    | Atchison County | Scotland County | \n",
       "| LSAD10 | 06              | 06              | 06              | \n",
       "| CLASSFP10 | H1              | H1              | H1              | \n",
       "| MTFCC10 | G4020           | G4020           | G4020           | \n",
       "| CSAFP10 | NA              | NA              | NA              | \n",
       "| CBSAFP10 | 22800           | NA              | NA              | \n",
       "| METDIVFP10 | NA              | NA              | NA              | \n",
       "| FUNCSTAT10 | A               | A               | A               | \n",
       "| ALAND10 | 1307146971      | 1417505255      | 1130971492      | \n",
       "| AWATER10 | 18473547        |  7319663        |  6798720        | \n",
       "| INTPTLAT10 | +40.4072748     | +40.4318460     | +40.4476855     | \n",
       "| INTPTLON10 | -091.7294720    | -095.4375546    | -092.1428235    | \n",
       "| AREA | 1324937990      | 1425178329      | 1137009406      | \n",
       "| PERIMETER | 161503.6        | 183878.0        | 135298.6        | \n",
       "| COUNTY10_ | 2               | 3               | 4               | \n",
       "| COUNTY10_I | 115             | 111             | 114             | \n",
       "| POP90 | 7547            | 7457            | 4822            | \n",
       "| WHITE90 | 7528            | 7280            | 4808            | \n",
       "| BLACK90 | 3               | 83              | 3               | \n",
       "| ASIANPI90 | 4               | 14              | 0               | \n",
       "| AMIND90 | 7               | 15              | 10              | \n",
       "| OTHER90 | 5               | 65              | 1               | \n",
       "| HISP90 | 26              | 104             | 12              | \n",
       "| POP00 | 7416            | 6430            | 4983            | \n",
       "| WHITE00 | 7329            | 6237            | 4924            | \n",
       "| BLACK00 | 5               | 132             | 10              | \n",
       "| ASIAN00 | 5               | 9               | 4               | \n",
       "| AMIND00 | 15              | 12              | 7               | \n",
       "| HAWNPI00 | 1               | 0               | 1               | \n",
       "| OTHER00 | 16              | 20              | 8               | \n",
       "| MULTRA00 | 45              | 20              | 29              | \n",
       "| HISP00 | 52              | 43              | 42              | \n",
       "| POP10 | 7139            | 5685            | 4843            | \n",
       "| WHITE10 | 7011            | 5600            | 4776            | \n",
       "| BLACK10 | 19              | 17              | 3               | \n",
       "| ASIAN10 | 23              | 9               | 11              | \n",
       "| AMIND10 | 9               | 10              | 12              | \n",
       "| HAWNPI10 | 0               | 3               | 0               | \n",
       "| OTHER10 | 5               | 5               | 18              | \n",
       "| MULTRA10 | 72              | 41              | 23              | \n",
       "| HISP10 | 42              | 55              | 33              | \n",
       "\n",
       "\n"
      ],
      "text/plain": [
       "           0            1               2              \n",
       "STATEFP10  29           29              29             \n",
       "COUNTYFP10 045          005             199            \n",
       "COUNTYNS10 00758477     00758457        00758552       \n",
       "GEOID10    29045        29005           29199          \n",
       "NAME10     Clark        Atchison        Scotland       \n",
       "NAMELSAD10 Clark County Atchison County Scotland County\n",
       "LSAD10     06           06              06             \n",
       "CLASSFP10  H1           H1              H1             \n",
       "MTFCC10    G4020        G4020           G4020          \n",
       "CSAFP10    NA           NA              NA             \n",
       "CBSAFP10   22800        NA              NA             \n",
       "METDIVFP10 NA           NA              NA             \n",
       "FUNCSTAT10 A            A               A              \n",
       "ALAND10    1307146971   1417505255      1130971492     \n",
       "AWATER10   18473547      7319663         6798720       \n",
       "INTPTLAT10 +40.4072748  +40.4318460     +40.4476855    \n",
       "INTPTLON10 -091.7294720 -095.4375546    -092.1428235   \n",
       "AREA       1324937990   1425178329      1137009406     \n",
       "PERIMETER  161503.6     183878.0        135298.6       \n",
       "COUNTY10_  2            3               4              \n",
       "COUNTY10_I 115          111             114            \n",
       "POP90      7547         7457            4822           \n",
       "WHITE90    7528         7280            4808           \n",
       "BLACK90    3            83              3              \n",
       "ASIANPI90  4            14              0              \n",
       "AMIND90    7            15              10             \n",
       "OTHER90    5            65              1              \n",
       "HISP90     26           104             12             \n",
       "POP00      7416         6430            4983           \n",
       "WHITE00    7329         6237            4924           \n",
       "BLACK00    5            132             10             \n",
       "ASIAN00    5            9               4              \n",
       "AMIND00    15           12              7              \n",
       "HAWNPI00   1            0               1              \n",
       "OTHER00    16           20              8              \n",
       "MULTRA00   45           20              29             \n",
       "HISP00     52           43              42             \n",
       "POP10      7139         5685            4843           \n",
       "WHITE10    7011         5600            4776           \n",
       "BLACK10    19           17              3              \n",
       "ASIAN10    23           9               11             \n",
       "AMIND10    9            10              12             \n",
       "HAWNPI10   0            3               0              \n",
       "OTHER10    5            5               18             \n",
       "MULTRA10   72           41              23             \n",
       "HISP10     42           55              33             "
      ]
     },
     "metadata": {},
     "output_type": "display_data"
    }
   ],
   "source": [
    "peek_counties <- head(counties@data, 3)\n",
    "\n",
    "t(peek_counties)"
   ]
  },
  {
   "cell_type": "code",
   "execution_count": 8,
   "metadata": {},
   "outputs": [
    {
     "data": {
      "text/html": [
       "<table>\n",
       "<thead><tr><th></th><th scope=col>0</th><th scope=col>1</th><th scope=col>2</th></tr></thead>\n",
       "<tbody>\n",
       "\t<tr><th scope=row>LINEARID</th><td>11051005878   </td><td>11051005879   </td><td>11051005880   </td></tr>\n",
       "\t<tr><th scope=row>FULLNAME</th><td>at and Sf Rlwy</td><td>at and Sf Rlwy</td><td>at and Sf Rlwy</td></tr>\n",
       "\t<tr><th scope=row>MTFCC</th><td>R1011         </td><td>R1011         </td><td>R1011         </td></tr>\n",
       "\t<tr><th scope=row>length</th><td> 679.924      </td><td> 426.020      </td><td>3208.210      </td></tr>\n",
       "</tbody>\n",
       "</table>\n"
      ],
      "text/latex": [
       "\\begin{tabular}{r|lll}\n",
       "  & 0 & 1 & 2\\\\\n",
       "\\hline\n",
       "\tLINEARID & 11051005878    & 11051005879    & 11051005880   \\\\\n",
       "\tFULLNAME & at and Sf Rlwy & at and Sf Rlwy & at and Sf Rlwy\\\\\n",
       "\tMTFCC & R1011          & R1011          & R1011         \\\\\n",
       "\tlength &  679.924       &  426.020       & 3208.210      \\\\\n",
       "\\end{tabular}\n"
      ],
      "text/markdown": [
       "\n",
       "| <!--/--> | 0 | 1 | 2 | \n",
       "|---|---|---|---|\n",
       "| LINEARID | 11051005878    | 11051005879    | 11051005880    | \n",
       "| FULLNAME | at and Sf Rlwy | at and Sf Rlwy | at and Sf Rlwy | \n",
       "| MTFCC | R1011          | R1011          | R1011          | \n",
       "| length |  679.924       |  426.020       | 3208.210       | \n",
       "\n",
       "\n"
      ],
      "text/plain": [
       "         0              1              2             \n",
       "LINEARID 11051005878    11051005879    11051005880   \n",
       "FULLNAME at and Sf Rlwy at and Sf Rlwy at and Sf Rlwy\n",
       "MTFCC    R1011          R1011          R1011         \n",
       "length    679.924        426.020       3208.210      "
      ]
     },
     "metadata": {},
     "output_type": "display_data"
    }
   ],
   "source": [
    "peek_railLine <- head(railLine@data, 3)\n",
    "\n",
    "t(peek_railLine)"
   ]
  },
  {
   "cell_type": "code",
   "execution_count": 9,
   "metadata": {},
   "outputs": [
    {
     "data": {
      "text/html": [
       "<table>\n",
       "<thead><tr><th></th><th scope=col>1</th><th scope=col>2</th><th scope=col>3</th></tr></thead>\n",
       "<tbody>\n",
       "\t<tr><th scope=row>CtyDist</th><td>001090                      </td><td>001090                      </td><td>001091                      </td></tr>\n",
       "\t<tr><th scope=row>SchNum</th><td>1050                        </td><td>4020                        </td><td>1050                        </td></tr>\n",
       "\t<tr><th scope=row>SchID</th><td>001090-1050                 </td><td>001090-4020                 </td><td>001091-1050                 </td></tr>\n",
       "\t<tr><th scope=row>Facility</th><td>Adair Co. High              </td><td>Adair Co. Elem.             </td><td>Kirksville Sr. High         </td></tr>\n",
       "\t<tr><th scope=row>Address</th><td>600 Rombauer Ave            </td><td>600 Rombauer Ave            </td><td>1300 S Cottage Grove        </td></tr>\n",
       "\t<tr><th scope=row>Address2</th><td>NA                          </td><td>NA                          </td><td>NA                          </td></tr>\n",
       "\t<tr><th scope=row>City</th><td>Novinger                    </td><td>Novinger                    </td><td>Kirksville                  </td></tr>\n",
       "\t<tr><th scope=row>State</th><td>MO                          </td><td>MO                          </td><td>MO                          </td></tr>\n",
       "\t<tr><th scope=row>ZIP</th><td>635592477                   </td><td>635592477                   </td><td>635013910                   </td></tr>\n",
       "\t<tr><th scope=row>County</th><td>Adair                       </td><td>Adair                       </td><td>Adair                       </td></tr>\n",
       "\t<tr><th scope=row>Phone</th><td>6604886411                  </td><td>6604886412                  </td><td>6606654631                  </td></tr>\n",
       "\t<tr><th scope=row>FAX</th><td>6604885400                  </td><td>6604885400                  </td><td>6606261439                  </td></tr>\n",
       "\t<tr><th scope=row>BGrade</th><td>07                          </td><td>K                           </td><td>09                          </td></tr>\n",
       "\t<tr><th scope=row>EGrade</th><td>12                          </td><td>06                          </td><td>12                          </td></tr>\n",
       "\t<tr><th scope=row>Principal</th><td>Ms. Robin Carter            </td><td>Ms. Robin Carter            </td><td>Mr. Randy Mikel             </td></tr>\n",
       "\t<tr><th scope=row>PrinTitle</th><td>Prin.                       </td><td>Prin.                       </td><td>Prin.                       </td></tr>\n",
       "\t<tr><th scope=row>Teachers</th><td>19                          </td><td>17                          </td><td>61                          </td></tr>\n",
       "\t<tr><th scope=row>Enrollment</th><td>122                         </td><td>141                         </td><td>775                         </td></tr>\n",
       "\t<tr><th scope=row>SchEmail</th><td>rcarter@novinger.k12.mo.us  </td><td>rcarter@novinger.k12.mo.us  </td><td>RANDY_M@kirksville.k12.mo.us</td></tr>\n",
       "\t<tr><th scope=row>Latitude</th><td>40.23467                    </td><td>40.23472                    </td><td>40.18549                    </td></tr>\n",
       "\t<tr><th scope=row>Longitude</th><td>-92.70365                   </td><td>-92.70366                   </td><td>-92.56610                   </td></tr>\n",
       "\t<tr><th scope=row>Loc_Code</th><td>MAP_MU                      </td><td>MAP_MU                      </td><td>MAP_MU                      </td></tr>\n",
       "\t<tr><th scope=row>Comments</th><td>NA                          </td><td>NA                          </td><td>NA                          </td></tr>\n",
       "</tbody>\n",
       "</table>\n"
      ],
      "text/latex": [
       "\\begin{tabular}{r|lll}\n",
       "  & 1 & 2 & 3\\\\\n",
       "\\hline\n",
       "\tCtyDist & 001090                       & 001090                       & 001091                      \\\\\n",
       "\tSchNum & 1050                         & 4020                         & 1050                        \\\\\n",
       "\tSchID & 001090-1050                  & 001090-4020                  & 001091-1050                 \\\\\n",
       "\tFacility & Adair Co. High               & Adair Co. Elem.              & Kirksville Sr. High         \\\\\n",
       "\tAddress & 600 Rombauer Ave             & 600 Rombauer Ave             & 1300 S Cottage Grove        \\\\\n",
       "\tAddress2 & NA                           & NA                           & NA                          \\\\\n",
       "\tCity & Novinger                     & Novinger                     & Kirksville                  \\\\\n",
       "\tState & MO                           & MO                           & MO                          \\\\\n",
       "\tZIP & 635592477                    & 635592477                    & 635013910                   \\\\\n",
       "\tCounty & Adair                        & Adair                        & Adair                       \\\\\n",
       "\tPhone & 6604886411                   & 6604886412                   & 6606654631                  \\\\\n",
       "\tFAX & 6604885400                   & 6604885400                   & 6606261439                  \\\\\n",
       "\tBGrade & 07                           & K                            & 09                          \\\\\n",
       "\tEGrade & 12                           & 06                           & 12                          \\\\\n",
       "\tPrincipal & Ms. Robin Carter             & Ms. Robin Carter             & Mr. Randy Mikel             \\\\\n",
       "\tPrinTitle & Prin.                        & Prin.                        & Prin.                       \\\\\n",
       "\tTeachers & 19                           & 17                           & 61                          \\\\\n",
       "\tEnrollment & 122                          & 141                          & 775                         \\\\\n",
       "\tSchEmail & rcarter@novinger.k12.mo.us     & rcarter@novinger.k12.mo.us     & RANDY\\_M@kirksville.k12.mo.us\\\\\n",
       "\tLatitude & 40.23467                     & 40.23472                     & 40.18549                    \\\\\n",
       "\tLongitude & -92.70365                    & -92.70366                    & -92.56610                   \\\\\n",
       "\tLoc\\_Code & MAP\\_MU                       & MAP\\_MU                       & MAP\\_MU                      \\\\\n",
       "\tComments & NA                           & NA                           & NA                          \\\\\n",
       "\\end{tabular}\n"
      ],
      "text/markdown": [
       "\n",
       "| <!--/--> | 1 | 2 | 3 | \n",
       "|---|---|---|---|---|---|---|---|---|---|---|---|---|---|---|---|---|---|---|---|---|---|---|\n",
       "| CtyDist | 001090                       | 001090                       | 001091                       | \n",
       "| SchNum | 1050                         | 4020                         | 1050                         | \n",
       "| SchID | 001090-1050                  | 001090-4020                  | 001091-1050                  | \n",
       "| Facility | Adair Co. High               | Adair Co. Elem.              | Kirksville Sr. High          | \n",
       "| Address | 600 Rombauer Ave             | 600 Rombauer Ave             | 1300 S Cottage Grove         | \n",
       "| Address2 | NA                           | NA                           | NA                           | \n",
       "| City | Novinger                     | Novinger                     | Kirksville                   | \n",
       "| State | MO                           | MO                           | MO                           | \n",
       "| ZIP | 635592477                    | 635592477                    | 635013910                    | \n",
       "| County | Adair                        | Adair                        | Adair                        | \n",
       "| Phone | 6604886411                   | 6604886412                   | 6606654631                   | \n",
       "| FAX | 6604885400                   | 6604885400                   | 6606261439                   | \n",
       "| BGrade | 07                           | K                            | 09                           | \n",
       "| EGrade | 12                           | 06                           | 12                           | \n",
       "| Principal | Ms. Robin Carter             | Ms. Robin Carter             | Mr. Randy Mikel              | \n",
       "| PrinTitle | Prin.                        | Prin.                        | Prin.                        | \n",
       "| Teachers | 19                           | 17                           | 61                           | \n",
       "| Enrollment | 122                          | 141                          | 775                          | \n",
       "| SchEmail | rcarter@novinger.k12.mo.us   | rcarter@novinger.k12.mo.us   | RANDY_M@kirksville.k12.mo.us | \n",
       "| Latitude | 40.23467                     | 40.23472                     | 40.18549                     | \n",
       "| Longitude | -92.70365                    | -92.70366                    | -92.56610                    | \n",
       "| Loc_Code | MAP_MU                       | MAP_MU                       | MAP_MU                       | \n",
       "| Comments | NA                           | NA                           | NA                           | \n",
       "\n",
       "\n"
      ],
      "text/plain": [
       "           1                          2                         \n",
       "CtyDist    001090                     001090                    \n",
       "SchNum     1050                       4020                      \n",
       "SchID      001090-1050                001090-4020               \n",
       "Facility   Adair Co. High             Adair Co. Elem.           \n",
       "Address    600 Rombauer Ave           600 Rombauer Ave          \n",
       "Address2   NA                         NA                        \n",
       "City       Novinger                   Novinger                  \n",
       "State      MO                         MO                        \n",
       "ZIP        635592477                  635592477                 \n",
       "County     Adair                      Adair                     \n",
       "Phone      6604886411                 6604886412                \n",
       "FAX        6604885400                 6604885400                \n",
       "BGrade     07                         K                         \n",
       "EGrade     12                         06                        \n",
       "Principal  Ms. Robin Carter           Ms. Robin Carter          \n",
       "PrinTitle  Prin.                      Prin.                     \n",
       "Teachers   19                         17                        \n",
       "Enrollment 122                        141                       \n",
       "SchEmail   rcarter@novinger.k12.mo.us rcarter@novinger.k12.mo.us\n",
       "Latitude   40.23467                   40.23472                  \n",
       "Longitude  -92.70365                  -92.70366                 \n",
       "Loc_Code   MAP_MU                     MAP_MU                    \n",
       "Comments   NA                         NA                        \n",
       "           3                           \n",
       "CtyDist    001091                      \n",
       "SchNum     1050                        \n",
       "SchID      001091-1050                 \n",
       "Facility   Kirksville Sr. High         \n",
       "Address    1300 S Cottage Grove        \n",
       "Address2   NA                          \n",
       "City       Kirksville                  \n",
       "State      MO                          \n",
       "ZIP        635013910                   \n",
       "County     Adair                       \n",
       "Phone      6606654631                  \n",
       "FAX        6606261439                  \n",
       "BGrade     09                          \n",
       "EGrade     12                          \n",
       "Principal  Mr. Randy Mikel             \n",
       "PrinTitle  Prin.                       \n",
       "Teachers   61                          \n",
       "Enrollment 775                         \n",
       "SchEmail   RANDY_M@kirksville.k12.mo.us\n",
       "Latitude   40.18549                    \n",
       "Longitude  -92.56610                   \n",
       "Loc_Code   MAP_MU                      \n",
       "Comments   NA                          "
      ]
     },
     "metadata": {},
     "output_type": "display_data"
    }
   ],
   "source": [
    "peek_publicSchool <- head(publicSchool@data, 3)\n",
    "\n",
    "t(peek_publicSchool)"
   ]
  },
  {
   "cell_type": "markdown",
   "metadata": {},
   "source": [
    "## Visualize the Spatial Features"
   ]
  },
  {
   "cell_type": "code",
   "execution_count": 10,
   "metadata": {},
   "outputs": [
    {
     "data": {
      "image/png": "[encoded data removed]",
      "text/plain": [
       "Plot with title \"MO Counties\""
      ]
     },
     "metadata": {},
     "output_type": "display_data"
    }
   ],
   "source": [
    "# Map county data\n",
    "plot(counties, col = \"white\", border = \"gray\", \n",
    "         main = \"MO Counties\", cex.main = 0.8)\n",
    "\n",
    "# Get centroid of polygons\n",
    "centroids <- gCentroid(counties, byid = TRUE)\n",
    "centroidLons <- coordinates(centroids)[,1]\n",
    "centroidLats <- coordinates(centroids)[,2]\n",
    "\n",
    "#label with county name\n",
    "text(centroidLons, centroidLats, labels=counties$NAME10,cex=0.5)"
   ]
  },
  {
   "cell_type": "markdown",
   "metadata": {},
   "source": [
    "### Visualize the Rail Lines"
   ]
  },
  {
   "cell_type": "code",
   "execution_count": 11,
   "metadata": {},
   "outputs": [
    {
     "data": {
      "image/png": "[encoded data removed]",
      "text/plain": [
       "Plot with title \"MO Railways\""
      ]
     },
     "metadata": {},
     "output_type": "display_data"
    }
   ],
   "source": [
    "# Map rail line features\n",
    "plot(railLine, col = \"brown\", \n",
    "         main = \"MO Railways\", cex.main = 0.8)"
   ]
  },
  {
   "cell_type": "markdown",
   "metadata": {},
   "source": [
    "### Visualize the Public Schools"
   ]
  },
  {
   "cell_type": "code",
   "execution_count": 12,
   "metadata": {},
   "outputs": [
    {
     "data": {
      "image/png": "[encoded data removed]",
      "text/plain": [
       "Plot with title \"MO Public Schools\""
      ]
     },
     "metadata": {},
     "output_type": "display_data"
    }
   ],
   "source": [
    "# Map school point features\n",
    "plot(publicSchool, pch=20, col = \"green\",\n",
    "             cex = 0.2, main = \"MO Public Schools\", cex.main = 0.8)"
   ]
  },
  {
   "cell_type": "code",
   "execution_count": 13,
   "metadata": {},
   "outputs": [
    {
     "data": {
      "image/png": "[encoded data removed]",
      "text/plain": [
       "plot without title"
      ]
     },
     "metadata": {},
     "output_type": "display_data"
    }
   ],
   "source": [
    "plot(counties, col = \"white\", lwd = 0.2)\n",
    "plot(publicSchool, col = \"green\", add = TRUE, pch = 20, lwd = 0.2)\n",
    "plot(railLine, col = \"brown\", add = TRUE)"
   ]
  },
  {
   "cell_type": "markdown",
   "metadata": {},
   "source": [
    "## Spatial Sampling Strategies\n",
    "\n",
    "Now that the data has been imported and examined, let's experiment with different methods for sampling from a set of geospatial features. "
   ]
  },
  {
   "cell_type": "markdown",
   "metadata": {},
   "source": [
    "### Random Sampling \n",
    "\n",
    "Random sampling involves selecting features from a set without any systematic influence. To do this, the standard R sample() function can be applied. This function requires the number of samples n to be drawn from a set of alternatives N. In this case, the set of alternatives is just a set of numbers less than or equal to the size of the input featureclass."
   ]
  },
  {
   "cell_type": "markdown",
   "metadata": {},
   "source": [
    "#### Point features\n",
    "\n",
    "Randomly select 50 public schools within the state."
   ]
  },
  {
   "cell_type": "code",
   "execution_count": 14,
   "metadata": {
    "collapsed": true
   },
   "outputs": [],
   "source": [
    "# Specify sample size\n",
    "n <- 50\n",
    "\n",
    "#get number of school features in dataset\n",
    "N <- length(publicSchool)"
   ]
  },
  {
   "cell_type": "code",
   "execution_count": 15,
   "metadata": {},
   "outputs": [
    {
     "data": {
      "text/html": [
       "2343"
      ],
      "text/latex": [
       "2343"
      ],
      "text/markdown": [
       "2343"
      ],
      "text/plain": [
       "[1] 2343"
      ]
     },
     "metadata": {},
     "output_type": "display_data"
    }
   ],
   "source": [
    "N"
   ]
  },
  {
   "cell_type": "code",
   "execution_count": 16,
   "metadata": {},
   "outputs": [
    {
     "data": {
      "text/html": [
       "<ol class=list-inline>\n",
       "\t<li>4</li>\n",
       "\t<li>10</li>\n",
       "\t<li>2</li>\n",
       "\t<li>5</li>\n",
       "\t<li>8</li>\n",
       "</ol>\n"
      ],
      "text/latex": [
       "\\begin{enumerate*}\n",
       "\\item 4\n",
       "\\item 10\n",
       "\\item 2\n",
       "\\item 5\n",
       "\\item 8\n",
       "\\end{enumerate*}\n"
      ],
      "text/markdown": [
       "1. 4\n",
       "2. 10\n",
       "3. 2\n",
       "4. 5\n",
       "5. 8\n",
       "\n",
       "\n"
      ],
      "text/plain": [
       "[1]  4 10  2  5  8"
      ]
     },
     "metadata": {},
     "output_type": "display_data"
    }
   ],
   "source": [
    "sample(10, 5) # out of 10, draw 5 randomly"
   ]
  },
  {
   "cell_type": "code",
   "execution_count": 17,
   "metadata": {},
   "outputs": [
    {
     "data": {
      "text/html": [
       "<ol class=list-inline>\n",
       "\t<li>50</li>\n",
       "\t<li>23</li>\n",
       "</ol>\n"
      ],
      "text/latex": [
       "\\begin{enumerate*}\n",
       "\\item 50\n",
       "\\item 23\n",
       "\\end{enumerate*}\n"
      ],
      "text/markdown": [
       "1. 50\n",
       "2. 23\n",
       "\n",
       "\n"
      ],
      "text/plain": [
       "[1] 50 23"
      ]
     },
     "metadata": {},
     "output_type": "display_data"
    }
   ],
   "source": [
    "# Draw samples randomly\n",
    "randomIndices <- sample(N, n)\n",
    "\n",
    "samp.rand <- publicSchool[randomIndices,]\n",
    "\n",
    "dim(samp.rand@data)"
   ]
  },
  {
   "cell_type": "code",
   "execution_count": 18,
   "metadata": {},
   "outputs": [
    {
     "data": {
      "image/png": "[encoded data removed]",
      "text/plain": [
       "Plot with title \"Randomly Selected Schools\""
      ]
     },
     "metadata": {},
     "output_type": "display_data"
    }
   ],
   "source": [
    "#Draw the sampled region and the selected points\n",
    "plot(publicSchool, pch = 20, col = \"gray\", \n",
    "     main = \"Randomly Selected Schools\", cex.main = 0.8)\n",
    "\n",
    "plot(samp.rand, col = \"red\", pch = 20, add = TRUE)"
   ]
  },
  {
   "cell_type": "markdown",
   "metadata": {},
   "source": [
    "#### Line features\n",
    "\n",
    "Similarly, randomly sample from a set of line features - in this case, select 100 rail line features within the state."
   ]
  },
  {
   "cell_type": "code",
   "execution_count": 19,
   "metadata": {},
   "outputs": [
    {
     "data": {
      "image/png": "[encoded data removed]",
      "text/plain": [
       "Plot with title \"Random Sample of Rail Lines\""
      ]
     },
     "metadata": {},
     "output_type": "display_data"
    }
   ],
   "source": [
    "# Specify sample size\n",
    "n <- 100\n",
    "\n",
    "#get number of rail line features in dataset\n",
    "N <- length(railLine)\n",
    "\n",
    "# Draw samples randomly\n",
    "samp.rand <- railLine[sample(N,n),]\n",
    "\n",
    "#Draw the sampled region and the selected lines\n",
    "plot(railLine,col=\"gray\",main=\"Random Sample of Rail Lines\",cex.main=.8)\n",
    "plot(samp.rand,col=\"red\",add=TRUE)"
   ]
  },
  {
   "cell_type": "markdown",
   "metadata": {},
   "source": [
    "#### Polygon features\n",
    "\n",
    "Randomly select from a set of polygon features - in this example, select 30 counties within the state."
   ]
  },
  {
   "cell_type": "code",
   "execution_count": 20,
   "metadata": {},
   "outputs": [
    {
     "data": {
      "image/png": "[encoded data removed]",
      "text/plain": [
       "Plot with title \"Random Selection of Counties\""
      ]
     },
     "metadata": {},
     "output_type": "display_data"
    }
   ],
   "source": [
    "# Specify sample size\n",
    "n <- 30\n",
    "\n",
    "#get number of counties in dataset\n",
    "N <- length(counties)\n",
    "\n",
    "# Draw samples randomly\n",
    "samp.rand <- counties[sample(N,n),]\n",
    "\n",
    "#Draw the sampled region and the selected polygons\n",
    "plot(counties,border=\"gray\",main=\"Random Selection of Counties\",cex.main=.8)\n",
    "plot(samp.rand,border=\"red\",add=TRUE)"
   ]
  },
  {
   "cell_type": "markdown",
   "metadata": {},
   "source": [
    "## Biasing Sampling Representation\n",
    "\n",
    "What if one wanted to skew the representation of certain groups of observations in the sample? Who on Earth would want to do this?  As an example, one might wish to have longer rail segments to be more prevalent in a sample of the railways.  To place more sampling emphasis on a feature of a certain type, the \"prob\" argument of the sample() function can be supplied such that each observation is assigned a probabililty value representing its chance of selection. The probability values should be supplied as a vector and the values should be non-negative. "
   ]
  },
  {
   "cell_type": "markdown",
   "metadata": {},
   "source": [
    "### Manipulation based on length\n",
    "\n",
    "In the example below, the 'length' attribute reflects the length of each rail segment. The rail segments are first sampled such that longer segments have a higher probability of being sampled. The probabilities are computed as the length of a segment divided by the longest segment in the dataset.   Then, the rail segments are sampled such that shorter segments have a higher probability of being sampled."
   ]
  },
  {
   "cell_type": "code",
   "execution_count": 21,
   "metadata": {},
   "outputs": [
    {
     "data": {
      "text/html": [
       "<table>\n",
       "<thead><tr><th></th><th scope=col>LINEARID</th><th scope=col>FULLNAME</th><th scope=col>MTFCC</th><th scope=col>length</th></tr></thead>\n",
       "<tbody>\n",
       "\t<tr><th scope=row>0</th><td>11051005878   </td><td>at and Sf Rlwy</td><td>R1011         </td><td> 679.924      </td></tr>\n",
       "\t<tr><th scope=row>1</th><td>11051005879   </td><td>at and Sf Rlwy</td><td>R1011         </td><td> 426.020      </td></tr>\n",
       "\t<tr><th scope=row>2</th><td>11051005880   </td><td>at and Sf Rlwy</td><td>R1011         </td><td>3208.210      </td></tr>\n",
       "</tbody>\n",
       "</table>\n"
      ],
      "text/latex": [
       "\\begin{tabular}{r|llll}\n",
       "  & LINEARID & FULLNAME & MTFCC & length\\\\\n",
       "\\hline\n",
       "\t0 & 11051005878    & at and Sf Rlwy & R1011          &  679.924      \\\\\n",
       "\t1 & 11051005879    & at and Sf Rlwy & R1011          &  426.020      \\\\\n",
       "\t2 & 11051005880    & at and Sf Rlwy & R1011          & 3208.210      \\\\\n",
       "\\end{tabular}\n"
      ],
      "text/markdown": [
       "\n",
       "| <!--/--> | LINEARID | FULLNAME | MTFCC | length | \n",
       "|---|---|---|\n",
       "| 0 | 11051005878    | at and Sf Rlwy | R1011          |  679.924       | \n",
       "| 1 | 11051005879    | at and Sf Rlwy | R1011          |  426.020       | \n",
       "| 2 | 11051005880    | at and Sf Rlwy | R1011          | 3208.210       | \n",
       "\n",
       "\n"
      ],
      "text/plain": [
       "  LINEARID    FULLNAME       MTFCC length  \n",
       "0 11051005878 at and Sf Rlwy R1011  679.924\n",
       "1 11051005879 at and Sf Rlwy R1011  426.020\n",
       "2 11051005880 at and Sf Rlwy R1011 3208.210"
      ]
     },
     "metadata": {},
     "output_type": "display_data"
    }
   ],
   "source": [
    "peek_railLine"
   ]
  },
  {
   "cell_type": "code",
   "execution_count": 22,
   "metadata": {
    "collapsed": true
   },
   "outputs": [],
   "source": [
    "# Specify sample size\n",
    "n <- 100\n",
    "\n",
    "#get number of rail line features in dataset\n",
    "N <- length(railLine)\n",
    "\n",
    "# Assign higher probability to longer lines\n",
    "pr1 <- c(railLine$length)/max(railLine$length)"
   ]
  },
  {
   "cell_type": "code",
   "execution_count": 23,
   "metadata": {},
   "outputs": [
    {
     "data": {
      "text/html": [
       "<ol class=list-inline>\n",
       "\t<li>679.924</li>\n",
       "\t<li>426.02</li>\n",
       "\t<li>3208.21</li>\n",
       "\t<li>6140.46</li>\n",
       "\t<li>7084.43</li>\n",
       "\t<li>680.197</li>\n",
       "\t<li>3037.61</li>\n",
       "\t<li>6728.01</li>\n",
       "\t<li>443.037</li>\n",
       "\t<li>234.982</li>\n",
       "\t<li>970.865</li>\n",
       "\t<li>1063.64</li>\n",
       "\t<li>1962.11</li>\n",
       "\t<li>382.913</li>\n",
       "\t<li>2100.44</li>\n",
       "\t<li>1234.39</li>\n",
       "\t<li>1155.61</li>\n",
       "\t<li>115.825</li>\n",
       "\t<li>607.558</li>\n",
       "\t<li>603.957</li>\n",
       "</ol>\n"
      ],
      "text/latex": [
       "\\begin{enumerate*}\n",
       "\\item 679.924\n",
       "\\item 426.02\n",
       "\\item 3208.21\n",
       "\\item 6140.46\n",
       "\\item 7084.43\n",
       "\\item 680.197\n",
       "\\item 3037.61\n",
       "\\item 6728.01\n",
       "\\item 443.037\n",
       "\\item 234.982\n",
       "\\item 970.865\n",
       "\\item 1063.64\n",
       "\\item 1962.11\n",
       "\\item 382.913\n",
       "\\item 2100.44\n",
       "\\item 1234.39\n",
       "\\item 1155.61\n",
       "\\item 115.825\n",
       "\\item 607.558\n",
       "\\item 603.957\n",
       "\\end{enumerate*}\n"
      ],
      "text/markdown": [
       "1. 679.924\n",
       "2. 426.02\n",
       "3. 3208.21\n",
       "4. 6140.46\n",
       "5. 7084.43\n",
       "6. 680.197\n",
       "7. 3037.61\n",
       "8. 6728.01\n",
       "9. 443.037\n",
       "10. 234.982\n",
       "11. 970.865\n",
       "12. 1063.64\n",
       "13. 1962.11\n",
       "14. 382.913\n",
       "15. 2100.44\n",
       "16. 1234.39\n",
       "17. 1155.61\n",
       "18. 115.825\n",
       "19. 607.558\n",
       "20. 603.957\n",
       "\n",
       "\n"
      ],
      "text/plain": [
       " [1]  679.924  426.020 3208.210 6140.460 7084.430  680.197 3037.610 6728.010\n",
       " [9]  443.037  234.982  970.865 1063.640 1962.110  382.913 2100.440 1234.390\n",
       "[17] 1155.610  115.825  607.558  603.957"
      ]
     },
     "metadata": {},
     "output_type": "display_data"
    }
   ],
   "source": [
    "railLine$length[1:20]"
   ]
  },
  {
   "cell_type": "code",
   "execution_count": 24,
   "metadata": {},
   "outputs": [
    {
     "data": {
      "text/html": [
       "<ol class=list-inline>\n",
       "\t<li>0.0117688885811711</li>\n",
       "\t<li>0.00737403285271667</li>\n",
       "\t<li>0.0555313035501013</li>\n",
       "\t<li>0.106285981340765</li>\n",
       "\t<li>0.122625274782338</li>\n",
       "\t<li>0.0117736139719246</li>\n",
       "\t<li>0.0525783670572759</li>\n",
       "\t<li>0.1164559569349</li>\n",
       "\t<li>0.00766858220968272</li>\n",
       "\t<li>0.00406733249095598</li>\n",
       "\t<li>0.0168048223218458</li>\n",
       "\t<li>0.0184106762674606</li>\n",
       "\t<li>0.0339624045834559</li>\n",
       "\t<li>0.00662788846000727</li>\n",
       "\t<li>0.0363567756564485</li>\n",
       "\t<li>0.0213662091288318</li>\n",
       "\t<li>0.0200025963685459</li>\n",
       "\t<li>0.0020048292454953</li>\n",
       "\t<li>0.0105162965399062</li>\n",
       "\t<li>0.0104539663856819</li>\n",
       "</ol>\n"
      ],
      "text/latex": [
       "\\begin{enumerate*}\n",
       "\\item 0.0117688885811711\n",
       "\\item 0.00737403285271667\n",
       "\\item 0.0555313035501013\n",
       "\\item 0.106285981340765\n",
       "\\item 0.122625274782338\n",
       "\\item 0.0117736139719246\n",
       "\\item 0.0525783670572759\n",
       "\\item 0.1164559569349\n",
       "\\item 0.00766858220968272\n",
       "\\item 0.00406733249095598\n",
       "\\item 0.0168048223218458\n",
       "\\item 0.0184106762674606\n",
       "\\item 0.0339624045834559\n",
       "\\item 0.00662788846000727\n",
       "\\item 0.0363567756564485\n",
       "\\item 0.0213662091288318\n",
       "\\item 0.0200025963685459\n",
       "\\item 0.0020048292454953\n",
       "\\item 0.0105162965399062\n",
       "\\item 0.0104539663856819\n",
       "\\end{enumerate*}\n"
      ],
      "text/markdown": [
       "1. 0.0117688885811711\n",
       "2. 0.00737403285271667\n",
       "3. 0.0555313035501013\n",
       "4. 0.106285981340765\n",
       "5. 0.122625274782338\n",
       "6. 0.0117736139719246\n",
       "7. 0.0525783670572759\n",
       "8. 0.1164559569349\n",
       "9. 0.00766858220968272\n",
       "10. 0.00406733249095598\n",
       "11. 0.0168048223218458\n",
       "12. 0.0184106762674606\n",
       "13. 0.0339624045834559\n",
       "14. 0.00662788846000727\n",
       "15. 0.0363567756564485\n",
       "16. 0.0213662091288318\n",
       "17. 0.0200025963685459\n",
       "18. 0.0020048292454953\n",
       "19. 0.0105162965399062\n",
       "20. 0.0104539663856819\n",
       "\n",
       "\n"
      ],
      "text/plain": [
       " [1] 0.011768889 0.007374033 0.055531304 0.106285981 0.122625275 0.011773614\n",
       " [7] 0.052578367 0.116455957 0.007668582 0.004067332 0.016804822 0.018410676\n",
       "[13] 0.033962405 0.006627888 0.036356776 0.021366209 0.020002596 0.002004829\n",
       "[19] 0.010516297 0.010453966"
      ]
     },
     "metadata": {},
     "output_type": "display_data"
    }
   ],
   "source": [
    "pr1[1:20]"
   ]
  },
  {
   "cell_type": "code",
   "execution_count": 25,
   "metadata": {},
   "outputs": [
    {
     "data": {
      "text/html": [
       "57773"
      ],
      "text/latex": [
       "57773"
      ],
      "text/markdown": [
       "57773"
      ],
      "text/plain": [
       "[1] 57773"
      ]
     },
     "metadata": {},
     "output_type": "display_data"
    }
   ],
   "source": [
    "max(railLine$length)"
   ]
  },
  {
   "cell_type": "code",
   "execution_count": 26,
   "metadata": {},
   "outputs": [
    {
     "data": {
      "image/png": "[encoded data removed]",
      "text/plain": [
       "Plot with title \"Random Sample of Rail Segments (longer segments have higher probability)\""
      ]
     },
     "metadata": {},
     "output_type": "display_data"
    }
   ],
   "source": [
    "# Draw samples randomly\n",
    "samp.rand <- railLine[sample(N, n, replace = TRUE, prob = pr1),]\n",
    "\n",
    "#Draw the sampled region and the selected lines\n",
    "plot(railLine, col = \"gray\", \n",
    "     main = \"Random Sample of Rail Segments (longer segments have higher probability)\", \n",
    "     cex.main = 0.8)\n",
    "\n",
    "plot(samp.rand, col = \"red\", add = TRUE)"
   ]
  },
  {
   "cell_type": "code",
   "execution_count": 27,
   "metadata": {},
   "outputs": [
    {
     "data": {
      "image/png": "[encoded data removed]",
      "text/plain": [
       "Plot with title \"Random Sample of Rail Segments (shorter segments have higher probability)\""
      ]
     },
     "metadata": {},
     "output_type": "display_data"
    }
   ],
   "source": [
    "# Assign higher probability to shorter lines\n",
    "pr2 <- c(1/railLine$length)\n",
    "\n",
    "# Draw samples randomly\n",
    "samp.rand <- railLine[sample(N, n, replace = TRUE, prob = pr2),]\n",
    "\n",
    "#Draw the sampled region and the selected lines\n",
    "plot(railLine, col = \"gray\", \n",
    "         main=\"Random Sample of Rail Segments (shorter segments have higher probability)\", \n",
    "         cex.main = 0.8)\n",
    "\n",
    "plot(samp.rand, col = \"red\", add = TRUE)"
   ]
  },
  {
   "cell_type": "markdown",
   "metadata": {},
   "source": [
    "### Manipulation based on population\n",
    "\n",
    "In the case of the polygon county features, a population field (i.e. POP90) could be used to assign a probability of selection to features. First, let's visualize the 1990 population distribution in the state."
   ]
  },
  {
   "cell_type": "code",
   "execution_count": 29,
   "metadata": {
    "collapsed": true
   },
   "outputs": [],
   "source": [
    "counties$POP90 <- as.numeric(as.character(counties$POP90))"
   ]
  },
  {
   "cell_type": "code",
   "execution_count": 31,
   "metadata": {},
   "outputs": [],
   "source": [
    "#plot the 1990 population of each county\n",
    "numcat <- 5\n",
    "\n",
    "q <- classIntervals(counties$POP90, numcat, style = \"kmeans\")\n",
    "\n",
    "pal <- brewer.pal(numcat, \"Reds\")\n",
    "\n",
    "cols <- findColours(q, pal)"
   ]
  },
  {
   "cell_type": "code",
   "execution_count": 32,
   "metadata": {},
   "outputs": [
    {
     "data": {
      "text/plain": [
       "style: kmeans\n",
       "  one of 6,672,876 possible partitions of this variable into 5 classes\n",
       "     [2440,26359.5)   [26359.5,72205.5)  [72205.5,189664.5) [189664.5,514958.5) \n",
       "                 80                  24                   6                   3 \n",
       "  [514958.5,993529] \n",
       "                  2 "
      ]
     },
     "metadata": {},
     "output_type": "display_data"
    }
   ],
   "source": [
    "q"
   ]
  },
  {
   "cell_type": "code",
   "execution_count": 33,
   "metadata": {},
   "outputs": [
    {
     "data": {
      "text/html": [
       "<ol class=list-inline>\n",
       "\t<li>'#FEE5D9'</li>\n",
       "\t<li>'#FCAE91'</li>\n",
       "\t<li>'#FB6A4A'</li>\n",
       "\t<li>'#DE2D26'</li>\n",
       "\t<li>'#A50F15'</li>\n",
       "</ol>\n"
      ],
      "text/latex": [
       "\\begin{enumerate*}\n",
       "\\item '\\#FEE5D9'\n",
       "\\item '\\#FCAE91'\n",
       "\\item '\\#FB6A4A'\n",
       "\\item '\\#DE2D26'\n",
       "\\item '\\#A50F15'\n",
       "\\end{enumerate*}\n"
      ],
      "text/markdown": [
       "1. '#FEE5D9'\n",
       "2. '#FCAE91'\n",
       "3. '#FB6A4A'\n",
       "4. '#DE2D26'\n",
       "5. '#A50F15'\n",
       "\n",
       "\n"
      ],
      "text/plain": [
       "[1] \"#FEE5D9\" \"#FCAE91\" \"#FB6A4A\" \"#DE2D26\" \"#A50F15\""
      ]
     },
     "metadata": {},
     "output_type": "display_data"
    }
   ],
   "source": [
    "pal"
   ]
  },
  {
   "cell_type": "code",
   "execution_count": 34,
   "metadata": {},
   "outputs": [
    {
     "data": {
      "text/html": [
       "<ol class=list-inline>\n",
       "\t<li>'#FEE5D9'</li>\n",
       "\t<li>'#FEE5D9'</li>\n",
       "\t<li>'#FEE5D9'</li>\n",
       "\t<li>'#FEE5D9'</li>\n",
       "\t<li>'#FEE5D9'</li>\n",
       "\t<li>'#FEE5D9'</li>\n",
       "\t<li>'#FEE5D9'</li>\n",
       "\t<li>'#FEE5D9'</li>\n",
       "\t<li>'#FEE5D9'</li>\n",
       "\t<li>'#FEE5D9'</li>\n",
       "\t<li>'#FEE5D9'</li>\n",
       "\t<li>'#FEE5D9'</li>\n",
       "\t<li>'#FEE5D9'</li>\n",
       "\t<li>'#FEE5D9'</li>\n",
       "\t<li>'#FEE5D9'</li>\n",
       "\t<li>'#FEE5D9'</li>\n",
       "\t<li>'#FEE5D9'</li>\n",
       "\t<li>'#FEE5D9'</li>\n",
       "\t<li>'#FEE5D9'</li>\n",
       "\t<li>'#FEE5D9'</li>\n",
       "</ol>\n"
      ],
      "text/latex": [
       "\\begin{enumerate*}\n",
       "\\item '\\#FEE5D9'\n",
       "\\item '\\#FEE5D9'\n",
       "\\item '\\#FEE5D9'\n",
       "\\item '\\#FEE5D9'\n",
       "\\item '\\#FEE5D9'\n",
       "\\item '\\#FEE5D9'\n",
       "\\item '\\#FEE5D9'\n",
       "\\item '\\#FEE5D9'\n",
       "\\item '\\#FEE5D9'\n",
       "\\item '\\#FEE5D9'\n",
       "\\item '\\#FEE5D9'\n",
       "\\item '\\#FEE5D9'\n",
       "\\item '\\#FEE5D9'\n",
       "\\item '\\#FEE5D9'\n",
       "\\item '\\#FEE5D9'\n",
       "\\item '\\#FEE5D9'\n",
       "\\item '\\#FEE5D9'\n",
       "\\item '\\#FEE5D9'\n",
       "\\item '\\#FEE5D9'\n",
       "\\item '\\#FEE5D9'\n",
       "\\end{enumerate*}\n"
      ],
      "text/markdown": [
       "1. '#FEE5D9'\n",
       "2. '#FEE5D9'\n",
       "3. '#FEE5D9'\n",
       "4. '#FEE5D9'\n",
       "5. '#FEE5D9'\n",
       "6. '#FEE5D9'\n",
       "7. '#FEE5D9'\n",
       "8. '#FEE5D9'\n",
       "9. '#FEE5D9'\n",
       "10. '#FEE5D9'\n",
       "11. '#FEE5D9'\n",
       "12. '#FEE5D9'\n",
       "13. '#FEE5D9'\n",
       "14. '#FEE5D9'\n",
       "15. '#FEE5D9'\n",
       "16. '#FEE5D9'\n",
       "17. '#FEE5D9'\n",
       "18. '#FEE5D9'\n",
       "19. '#FEE5D9'\n",
       "20. '#FEE5D9'\n",
       "\n",
       "\n"
      ],
      "text/plain": [
       " [1] \"#FEE5D9\" \"#FEE5D9\" \"#FEE5D9\" \"#FEE5D9\" \"#FEE5D9\" \"#FEE5D9\" \"#FEE5D9\"\n",
       " [8] \"#FEE5D9\" \"#FEE5D9\" \"#FEE5D9\" \"#FEE5D9\" \"#FEE5D9\" \"#FEE5D9\" \"#FEE5D9\"\n",
       "[15] \"#FEE5D9\" \"#FEE5D9\" \"#FEE5D9\" \"#FEE5D9\" \"#FEE5D9\" \"#FEE5D9\""
      ]
     },
     "metadata": {},
     "output_type": "display_data"
    }
   ],
   "source": [
    "cols[1:20]"
   ]
  },
  {
   "cell_type": "code",
   "execution_count": 35,
   "metadata": {},
   "outputs": [
    {
     "data": {
      "image/png": "[encoded data removed]",
      "text/plain": [
       "Plot with title \"1990 County Population\""
      ]
     },
     "metadata": {},
     "output_type": "display_data"
    }
   ],
   "source": [
    "plot(counties, col = cols, lwd = 0.2, \n",
    "         main = \"1990 County Population\", cex.main = 0.8)\n",
    "\n",
    "brks <- round(q$brks,3)\n",
    "\n",
    "leg <- paste(brks[-numcat], brks[-1], sep = \" - \")\n",
    "\n",
    "legend(\"topright\", fill = pal, legend = leg, \n",
    "           bty = \"n\", \n",
    "           title = \"Population\", \n",
    "           cex = 0.7)"
   ]
  },
  {
   "cell_type": "markdown",
   "metadata": {},
   "source": [
    "Next, assign a higher probability of being sampled to counties with greater population. This is done by dividing population of each county by the maximum county population within the state (using the max() function)."
   ]
  },
  {
   "cell_type": "code",
   "execution_count": 36,
   "metadata": {},
   "outputs": [
    {
     "data": {
      "image/png": "[encoded data removed]",
      "text/plain": [
       "Plot with title \"Larger Population has Higher Prob. of Being Sampled\""
      ]
     },
     "metadata": {},
     "output_type": "display_data"
    }
   ],
   "source": [
    "# Specify sample size\n",
    "n <- 30\n",
    "\n",
    "#get number of counties in dataset\n",
    "N <- length(counties)\n",
    "\n",
    "# Assign higher probability to populated counties\n",
    "pr1 <- c(counties$POP90)/max (counties$POP90)\n",
    "\n",
    "# Draw samples randomly\n",
    "samp.rand <- counties[sample(N, n, prob = pr1),]\n",
    "\n",
    "#Draw the sampled region and the selected polygons\n",
    "plot(counties, border = \"gray\", \n",
    "             main = \"Larger Population has Higher Prob. of Being Sampled\", \n",
    "             cex.main = 0.8)\n",
    " \n",
    "plot(samp.rand, border = \"red\", add = TRUE)"
   ]
  },
  {
   "cell_type": "markdown",
   "metadata": {},
   "source": [
    "Now, assign higher probability of being sampled to counties with less population. This can be done by taking the inverse of population for each county."
   ]
  },
  {
   "cell_type": "code",
   "execution_count": 37,
   "metadata": {},
   "outputs": [
    {
     "data": {
      "image/png": "[encoded data removed]",
      "text/plain": [
       "Plot with title \"Smaller Population has Higher Prob. of Being Sampled\""
      ]
     },
     "metadata": {},
     "output_type": "display_data"
    }
   ],
   "source": [
    "# Specify sample size\n",
    "n <- 30\n",
    "\n",
    "#get number of counties in dataset\n",
    "N <- length(counties)\n",
    "\n",
    "# Assign lower probability to populated counties\n",
    "pr2 <- c(1/counties$POP90)\n",
    "\n",
    "# Draw samples randomly\n",
    "samp.rand <- counties[sample(N, n, prob = pr2),]\n",
    "\n",
    "#Draw the sampled region and the selected polygons\n",
    "plot(counties, border = \"gray\", \n",
    "             main = \"Smaller Population has Higher Prob. of Being Sampled\", \n",
    "             cex.main = 0.8)\n",
    "\n",
    "plot(samp.rand, border = \"red\", add = TRUE)"
   ]
  },
  {
   "cell_type": "markdown",
   "metadata": {},
   "source": [
    "### Stratified Sampling\n",
    "\n",
    "Note how the selected polygons are randomly distributed throughout the county in the previous output. If we wanted the samples to be randomly drawn from sectors of the state, a stratified approach may be warranted. In stratified sampling, the region is first divided into a set of strata (subareas) and then random samples are drawn from each of those subareas. spsample() is only configured to return a single random point from within each strata and the strata are defined based on a regular grid. Thus, in order to select a polygon within each strata, one approach is to apply spsample() and intersect the points returned with the polygon layer to obtain the sampled polygons.   \n",
    "\n",
    "Therefore, some problems could arise with this hack. For example, what if a polygon were to appear in two or more strata given the strata are simply defined by a regular grid and not the polygon boundaries? A better way would be to define strata based on some polygon attribute and then sample from within those polygon strata. "
   ]
  },
  {
   "cell_type": "code",
   "execution_count": 38,
   "metadata": {},
   "outputs": [
    {
     "data": {
      "text/html": [
       "<table>\n",
       "<thead><tr><th></th><th scope=col>STATEFP10</th><th scope=col>COUNTYFP10</th><th scope=col>COUNTYNS10</th><th scope=col>GEOID10</th><th scope=col>NAME10</th><th scope=col>NAMELSAD10</th><th scope=col>LSAD10</th><th scope=col>CLASSFP10</th><th scope=col>MTFCC10</th><th scope=col>CSAFP10</th><th scope=col>...</th><th scope=col>HISP00</th><th scope=col>POP10</th><th scope=col>WHITE10</th><th scope=col>BLACK10</th><th scope=col>ASIAN10</th><th scope=col>AMIND10</th><th scope=col>HAWNPI10</th><th scope=col>OTHER10</th><th scope=col>MULTRA10</th><th scope=col>HISP10</th></tr></thead>\n",
       "<tbody>\n",
       "\t<tr><th scope=row>0</th><td>29             </td><td>045            </td><td>00758477       </td><td>29045          </td><td>Clark          </td><td>Clark County   </td><td>06             </td><td>H1             </td><td>G4020          </td><td>NA             </td><td>...            </td><td>52             </td><td>7139           </td><td>7011           </td><td>19             </td><td>23             </td><td>9              </td><td>0              </td><td>5              </td><td>72             </td><td>42             </td></tr>\n",
       "\t<tr><th scope=row>1</th><td>29             </td><td>005            </td><td>00758457       </td><td>29005          </td><td>Atchison       </td><td>Atchison County</td><td>06             </td><td>H1             </td><td>G4020          </td><td>NA             </td><td>...            </td><td>43             </td><td>5685           </td><td>5600           </td><td>17             </td><td>9              </td><td>10             </td><td>3              </td><td>5              </td><td>41             </td><td>55             </td></tr>\n",
       "\t<tr><th scope=row>2</th><td>29             </td><td>199            </td><td>00758552       </td><td>29199          </td><td>Scotland       </td><td>Scotland County</td><td>06             </td><td>H1             </td><td>G4020          </td><td>NA             </td><td>...            </td><td>42             </td><td>4843           </td><td>4776           </td><td>3              </td><td>11             </td><td>12             </td><td>0              </td><td>18             </td><td>23             </td><td>33             </td></tr>\n",
       "</tbody>\n",
       "</table>\n"
      ],
      "text/latex": [
       "\\begin{tabular}{r|llllllllllllllllllllllllllllllllllllllllllllll}\n",
       "  & STATEFP10 & COUNTYFP10 & COUNTYNS10 & GEOID10 & NAME10 & NAMELSAD10 & LSAD10 & CLASSFP10 & MTFCC10 & CSAFP10 & ... & HISP00 & POP10 & WHITE10 & BLACK10 & ASIAN10 & AMIND10 & HAWNPI10 & OTHER10 & MULTRA10 & HISP10\\\\\n",
       "\\hline\n",
       "\t0 & 29              & 045             & 00758477        & 29045           & Clark           & Clark County    & 06              & H1              & G4020           & NA              & ...             & 52              & 7139            & 7011            & 19              & 23              & 9               & 0               & 5               & 72              & 42             \\\\\n",
       "\t1 & 29              & 005             & 00758457        & 29005           & Atchison        & Atchison County & 06              & H1              & G4020           & NA              & ...             & 43              & 5685            & 5600            & 17              & 9               & 10              & 3               & 5               & 41              & 55             \\\\\n",
       "\t2 & 29              & 199             & 00758552        & 29199           & Scotland        & Scotland County & 06              & H1              & G4020           & NA              & ...             & 42              & 4843            & 4776            & 3               & 11              & 12              & 0               & 18              & 23              & 33             \\\\\n",
       "\\end{tabular}\n"
      ],
      "text/markdown": [
       "\n",
       "| <!--/--> | STATEFP10 | COUNTYFP10 | COUNTYNS10 | GEOID10 | NAME10 | NAMELSAD10 | LSAD10 | CLASSFP10 | MTFCC10 | CSAFP10 | ... | HISP00 | POP10 | WHITE10 | BLACK10 | ASIAN10 | AMIND10 | HAWNPI10 | OTHER10 | MULTRA10 | HISP10 | \n",
       "|---|---|---|\n",
       "| 0 | 29              | 045             | 00758477        | 29045           | Clark           | Clark County    | 06              | H1              | G4020           | NA              | ...             | 52              | 7139            | 7011            | 19              | 23              | 9               | 0               | 5               | 72              | 42              | \n",
       "| 1 | 29              | 005             | 00758457        | 29005           | Atchison        | Atchison County | 06              | H1              | G4020           | NA              | ...             | 43              | 5685            | 5600            | 17              | 9               | 10              | 3               | 5               | 41              | 55              | \n",
       "| 2 | 29              | 199             | 00758552        | 29199           | Scotland        | Scotland County | 06              | H1              | G4020           | NA              | ...             | 42              | 4843            | 4776            | 3               | 11              | 12              | 0               | 18              | 23              | 33              | \n",
       "\n",
       "\n"
      ],
      "text/plain": [
       "  STATEFP10 COUNTYFP10 COUNTYNS10 GEOID10 NAME10   NAMELSAD10      LSAD10\n",
       "0 29        045        00758477   29045   Clark    Clark County    06    \n",
       "1 29        005        00758457   29005   Atchison Atchison County 06    \n",
       "2 29        199        00758552   29199   Scotland Scotland County 06    \n",
       "  CLASSFP10 MTFCC10 CSAFP10 ... HISP00 POP10 WHITE10 BLACK10 ASIAN10 AMIND10\n",
       "0 H1        G4020   NA      ... 52     7139  7011    19      23      9      \n",
       "1 H1        G4020   NA      ... 43     5685  5600    17      9       10     \n",
       "2 H1        G4020   NA      ... 42     4843  4776    3       11      12     \n",
       "  HAWNPI10 OTHER10 MULTRA10 HISP10\n",
       "0 0        5       72       42    \n",
       "1 3        5       41       55    \n",
       "2 0        18      23       33    "
      ]
     },
     "metadata": {},
     "output_type": "display_data"
    }
   ],
   "source": [
    "peek_counties"
   ]
  },
  {
   "cell_type": "code",
   "execution_count": 39,
   "metadata": {},
   "outputs": [
    {
     "data": {
      "text/plain": [
       "Object of class SpatialPoints\n",
       "Coordinates:\n",
       "         min       max\n",
       "x1  362893.3  834940.3\n",
       "x2 4078625.7 4476072.7\n",
       "Is projected: TRUE \n",
       "proj4string :\n",
       "[+proj=utm +zone=15 +datum=NAD83 +units=m +no_defs +ellps=GRS80\n",
       "+towgs84=0,0,0]\n",
       "Number of points: 19"
      ]
     },
     "metadata": {},
     "output_type": "display_data"
    }
   ],
   "source": [
    "# draw stratified sample\n",
    "samp.reg <- spsample(counties, \n",
    "                         type = \"stratified\", \n",
    "                         cellsize = 100000)\n",
    "\n",
    "summary(samp.reg)"
   ]
  },
  {
   "cell_type": "code",
   "execution_count": 40,
   "metadata": {
    "collapsed": true
   },
   "outputs": [],
   "source": [
    "#Identify features that INTERSECT the sampled feature\n",
    "selFeat <- overGeomGeom(samp.reg, counties, \n",
    "                            returnList = TRUE, \n",
    "                            fn = NULL)"
   ]
  },
  {
   "cell_type": "code",
   "execution_count": 41,
   "metadata": {
    "collapsed": true
   },
   "outputs": [],
   "source": [
    "#Select the intersecting features from the featureclass\n",
    "intSet <- unlist(selFeat)\n",
    "intFeat <- counties[intSet, ]"
   ]
  },
  {
   "cell_type": "code",
   "execution_count": 42,
   "metadata": {},
   "outputs": [
    {
     "data": {
      "image/png": "[encoded data removed]",
      "text/plain": [
       "Plot with title \"Stratified Sample of Counties\""
      ]
     },
     "metadata": {},
     "output_type": "display_data"
    }
   ],
   "source": [
    "# Draw the sampling area and sampled locations\n",
    "plot(counties, border = \"gray\", \n",
    "             main = \"Stratified Sample of Counties\", \n",
    "             cex.main = 0.8)\n",
    "\n",
    "plot(intFeat, border = \"red\", add = TRUE)\n",
    "\n",
    "points(samp.reg, pch = 20, col = \"orange\")"
   ]
  }
 ],
 "metadata": {
  "kernelspec": {
   "display_name": "R",
   "language": "R",
   "name": "ir"
  },
  "language_info": {
   "codemirror_mode": "r",
   "file_extension": ".r",
   "mimetype": "text/x-r-source",
   "name": "R",
   "pygments_lexer": "r",
   "version": "3.4.1"
  }
 },
 "nbformat": 4,
 "nbformat_minor": 2
}
