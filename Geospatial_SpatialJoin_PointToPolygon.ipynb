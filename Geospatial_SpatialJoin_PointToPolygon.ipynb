{
 "cells": [
  {
   "cell_type": "markdown",
   "metadata": {},
   "source": [
    "# Spatial Join (Points to Polygons)\n",
    "\n",
    "Point features can be aggregated to the polygon level. "
   ]
  },
  {
   "cell_type": "code",
   "execution_count": 1,
   "metadata": {
    "collapsed": true
   },
   "outputs": [],
   "source": [
    "# Load relevant R packages\n",
    "inLibraries = list('rgdal','raster','spdep','classInt','rgeos','repr','sp')\n",
    "for (rpack in inLibraries) {\n",
    "  if (is.element(rpack,installed.packages()[,1])){           \n",
    "      #Load the library into R\n",
    "      suppressMessages(library(rpack,character.only = TRUE))    }\n",
    "    else {\n",
    "        print(paste(\"Warning:  \",rpack,\" is not an installed package\"))\n",
    "    }\n",
    "}\n",
    "#resize plot area\n",
    "options(repr.plot.width=6, repr.plot.height=6)"
   ]
  },
  {
   "cell_type": "markdown",
   "metadata": {},
   "source": [
    "## Crime Analysis\n",
    "\n",
    "This time, let's look at some crime data. There are a wide variety of sources of crime data that are publically available and easy to access. For instance, I did a websearch for crime data and found the city of Chicago posts current crimes in a .csv file format (Chicago Crime data https://catalog.data.gov/dataset/crimes-one-year-prior-to-present-e171f). There are actually a large amount of crimes in this dataset, so I took a subset (those reported for Oct. 2016). I created a point featureclass from the .csv file given it contained latitude/longitude fields (chicago/ChicagoCrimeOct2016.shp)\n",
    "\n",
    "Let's associate a polygon topology with the point crime data... US Census Tracts for the state of Illinois (https://www.census.gov/geo/maps-data/data) (chicago/centracts.shp) in this case. Also a boundary file for the study area is included (chicago/ChicagoOutlineB).\n",
    "\n",
    "In practice, there are many workflows that can be used to aggregate point data to polygons. There are likely some R libraries that have tools that can accomplish this task rather easily.  However, it's really not a difficult task to implement and just requires understanding all of the steps invovled.  As such, let's work through this process using a logical workflow."
   ]
  },
  {
   "cell_type": "markdown",
   "metadata": {},
   "source": [
    "### Read in the crime points, tract polygons, boundary polygon featureclasses\n",
    "\n",
    "Note the number of features of each type."
   ]
  },
  {
   "cell_type": "code",
   "execution_count": 2,
   "metadata": {},
   "outputs": [
    {
     "name": "stdout",
     "output_type": "stream",
     "text": [
      "OGR data source with driver: ESRI Shapefile \n",
      "Source: \"/dsa/data/geospatial/DS8612/chicago\", layer: \"ChicagoCrimeOct2016\"\n",
      "with 21679 features\n",
      "It has 16 fields\n",
      "OGR data source with driver: ESRI Shapefile \n",
      "Source: \"/dsa/data/geospatial/DS8612/chicago\", layer: \"centracts\"\n",
      "with 1085 features\n",
      "It has 194 fields\n",
      "OGR data source with driver: ESRI Shapefile \n",
      "Source: \"/dsa/data/geospatial/DS8612/chicago\", layer: \"ChicagoOutlineB\"\n",
      "with 1 features\n",
      "It has 1 fields\n"
     ]
    }
   ],
   "source": [
    "#Read in the crime points\n",
    "inPtFeatures <- readOGR(\"/dsa/data/geospatial/DS8612/chicago\",\"ChicagoCrimeOct2016\")\n",
    "\n",
    "#read in the tract polygons\n",
    "inTracts <- readOGR(\"/dsa/data/geospatial/DS8612/chicago\",\"centracts\")\n",
    "\n",
    "#Read in the city boundary polygons\n",
    "inBoundary <- readOGR(\"/dsa/data/geospatial/DS8612/chicago\",\"ChicagoOutlineB\")"
   ]
  },
  {
   "cell_type": "code",
   "execution_count": 4,
   "metadata": {},
   "outputs": [
    {
     "data": {
      "text/html": [
       "<table>\n",
       "<thead><tr><th scope=col>CASE_</th><th scope=col>DATE__OF_O</th><th scope=col>BLOCK</th><th scope=col>IUCR</th><th scope=col>PRIMARY_DE</th><th scope=col>SECONDARY</th><th scope=col>LOCATION_D</th><th scope=col>ARREST</th><th scope=col>DOMESTIC</th><th scope=col>BEAT</th><th scope=col>WARD</th><th scope=col>FBI_CD</th><th scope=col>X_COORDINA</th><th scope=col>Y_COORDINA</th><th scope=col>LATITUDE</th><th scope=col>LONGITUDE</th></tr></thead>\n",
       "<tbody>\n",
       "\t<tr><td>HZ472453                                       </td><td>2016/10/12                                     </td><td>007XX W OHARE ST                               </td><td>1320                                           </td><td>CRIMINAL DAMAGE                                </td><td>TO VEHICLE                                     </td><td>AIRPORT EXTERIOR - SECURE AREA                 </td><td>N                                              </td><td>N                                              </td><td>1654                                           </td><td>41                                             </td><td>14                                             </td><td>1096020                                        </td><td>1938449                                        </td><td>41.98790                                       </td><td>-87.92221                                      </td></tr>\n",
       "\t<tr><td>HZ463490                                       </td><td>2016/10/06                                     </td><td>0000X W C17 ST                                 </td><td> 860                                           </td><td>THEFT                                          </td><td>RETAIL THEFT                                   </td><td>SMALL RETAIL STORE                             </td><td>N                                              </td><td>N                                              </td><td>1651                                           </td><td>41                                             </td><td> 6                                             </td><td>1099330                                        </td><td>1935025                                        </td><td>41.97846                                       </td><td>-87.91010                                      </td></tr>\n",
       "\t<tr><td>HZ491339                                       </td><td>2016/10/27                                     </td><td>006XX W OHARE ST                               </td><td>1812                                           </td><td>NARCOTICS                                      </td><td>POSS: CANNABIS MORE THAN 30GMS                 </td><td>AIRPORT EXTERIOR - NON-SECURE AREA             </td><td>Y                                              </td><td>N                                              </td><td>1654                                           </td><td>41                                             </td><td>18                                             </td><td>1100088                                        </td><td>1926079                                        </td><td>41.95390                                       </td><td>-87.90747                                      </td></tr>\n",
       "\t<tr><td>HZ494135                                       </td><td>2016/10/29                                     </td><td>006XX W OHARE ST                               </td><td> 460                                           </td><td>BATTERY                                        </td><td>SIMPLE                                         </td><td>AIRPORT BUILDING NON-TERMINAL - NON-SECURE AREA</td><td>N                                              </td><td>N                                              </td><td>1654                                           </td><td>41                                             </td><td> 0                                             </td><td>1100088                                        </td><td>1926079                                        </td><td>41.95390                                       </td><td>-87.90747                                      </td></tr>\n",
       "\t<tr><td>HZ479122                                       </td><td>2016/10/08                                     </td><td>115XX W TOUHY AVE                              </td><td> 890                                           </td><td>THEFT                                          </td><td>FROM BUILDING                                  </td><td>AIRPORT BUILDING NON-TERMINAL - NON-SECURE AREA</td><td>N                                              </td><td>N                                              </td><td>1654                                           </td><td>41                                             </td><td> 6                                             </td><td>1100260                                        </td><td>1946117                                        </td><td>42.00889                                       </td><td>-87.90647                                      </td></tr>\n",
       "\t<tr><td>HZ464488                                       </td><td>2016/10/02                                     </td><td>0000X W TERMINAL ST                            </td><td> 810                                           </td><td>THEFT                                          </td><td>OVER $500                                      </td><td>AIRPORT BUILDING NON-TERMINAL - SECURE AREA    </td><td>N                                              </td><td>N                                              </td><td>1651                                           </td><td>41                                             </td><td> 6                                             </td><td>1100317                                        </td><td>1935229                                        </td><td>41.97901                                       </td><td>-87.90646                                      </td></tr>\n",
       "</tbody>\n",
       "</table>\n"
      ],
      "text/latex": [
       "\\begin{tabular}{r|llllllllllllllll}\n",
       " CASE\\_ & DATE\\_\\_OF\\_O & BLOCK & IUCR & PRIMARY\\_DE & SECONDARY & LOCATION\\_D & ARREST & DOMESTIC & BEAT & WARD & FBI\\_CD & X\\_COORDINA & Y\\_COORDINA & LATITUDE & LONGITUDE\\\\\n",
       "\\hline\n",
       "\t HZ472453                                        & 2016/10/12                                      & 007XX W OHARE ST                                & 1320                                            & CRIMINAL DAMAGE                                 & TO VEHICLE                                      & AIRPORT EXTERIOR - SECURE AREA                  & N                                               & N                                               & 1654                                            & 41                                              & 14                                              & 1096020                                         & 1938449                                         & 41.98790                                        & -87.92221                                      \\\\\n",
       "\t HZ463490                                        & 2016/10/06                                      & 0000X W C17 ST                                  &  860                                            & THEFT                                           & RETAIL THEFT                                    & SMALL RETAIL STORE                              & N                                               & N                                               & 1651                                            & 41                                              &  6                                              & 1099330                                         & 1935025                                         & 41.97846                                        & -87.91010                                      \\\\\n",
       "\t HZ491339                                        & 2016/10/27                                      & 006XX W OHARE ST                                & 1812                                            & NARCOTICS                                       & POSS: CANNABIS MORE THAN 30GMS                  & AIRPORT EXTERIOR - NON-SECURE AREA              & Y                                               & N                                               & 1654                                            & 41                                              & 18                                              & 1100088                                         & 1926079                                         & 41.95390                                        & -87.90747                                      \\\\\n",
       "\t HZ494135                                        & 2016/10/29                                      & 006XX W OHARE ST                                &  460                                            & BATTERY                                         & SIMPLE                                          & AIRPORT BUILDING NON-TERMINAL - NON-SECURE AREA & N                                               & N                                               & 1654                                            & 41                                              &  0                                              & 1100088                                         & 1926079                                         & 41.95390                                        & -87.90747                                      \\\\\n",
       "\t HZ479122                                        & 2016/10/08                                      & 115XX W TOUHY AVE                               &  890                                            & THEFT                                           & FROM BUILDING                                   & AIRPORT BUILDING NON-TERMINAL - NON-SECURE AREA & N                                               & N                                               & 1654                                            & 41                                              &  6                                              & 1100260                                         & 1946117                                         & 42.00889                                        & -87.90647                                      \\\\\n",
       "\t HZ464488                                        & 2016/10/02                                      & 0000X W TERMINAL ST                             &  810                                            & THEFT                                           & OVER \\$500                                     & AIRPORT BUILDING NON-TERMINAL - SECURE AREA     & N                                               & N                                               & 1651                                            & 41                                              &  6                                              & 1100317                                         & 1935229                                         & 41.97901                                        & -87.90646                                      \\\\\n",
       "\\end{tabular}\n"
      ],
      "text/markdown": [
       "\n",
       "CASE_ | DATE__OF_O | BLOCK | IUCR | PRIMARY_DE | SECONDARY | LOCATION_D | ARREST | DOMESTIC | BEAT | WARD | FBI_CD | X_COORDINA | Y_COORDINA | LATITUDE | LONGITUDE | \n",
       "|---|---|---|---|---|---|\n",
       "| HZ472453                                        | 2016/10/12                                      | 007XX W OHARE ST                                | 1320                                            | CRIMINAL DAMAGE                                 | TO VEHICLE                                      | AIRPORT EXTERIOR - SECURE AREA                  | N                                               | N                                               | 1654                                            | 41                                              | 14                                              | 1096020                                         | 1938449                                         | 41.98790                                        | -87.92221                                       | \n",
       "| HZ463490                                        | 2016/10/06                                      | 0000X W C17 ST                                  |  860                                            | THEFT                                           | RETAIL THEFT                                    | SMALL RETAIL STORE                              | N                                               | N                                               | 1651                                            | 41                                              |  6                                              | 1099330                                         | 1935025                                         | 41.97846                                        | -87.91010                                       | \n",
       "| HZ491339                                        | 2016/10/27                                      | 006XX W OHARE ST                                | 1812                                            | NARCOTICS                                       | POSS: CANNABIS MORE THAN 30GMS                  | AIRPORT EXTERIOR - NON-SECURE AREA              | Y                                               | N                                               | 1654                                            | 41                                              | 18                                              | 1100088                                         | 1926079                                         | 41.95390                                        | -87.90747                                       | \n",
       "| HZ494135                                        | 2016/10/29                                      | 006XX W OHARE ST                                |  460                                            | BATTERY                                         | SIMPLE                                          | AIRPORT BUILDING NON-TERMINAL - NON-SECURE AREA | N                                               | N                                               | 1654                                            | 41                                              |  0                                              | 1100088                                         | 1926079                                         | 41.95390                                        | -87.90747                                       | \n",
       "| HZ479122                                        | 2016/10/08                                      | 115XX W TOUHY AVE                               |  890                                            | THEFT                                           | FROM BUILDING                                   | AIRPORT BUILDING NON-TERMINAL - NON-SECURE AREA | N                                               | N                                               | 1654                                            | 41                                              |  6                                              | 1100260                                         | 1946117                                         | 42.00889                                        | -87.90647                                       | \n",
       "| HZ464488                                        | 2016/10/02                                      | 0000X W TERMINAL ST                             |  810                                            | THEFT                                           | OVER $500                                       | AIRPORT BUILDING NON-TERMINAL - SECURE AREA     | N                                               | N                                               | 1651                                            | 41                                              |  6                                              | 1100317                                         | 1935229                                         | 41.97901                                        | -87.90646                                       | \n",
       "\n",
       "\n"
      ],
      "text/plain": [
       "  CASE_    DATE__OF_O BLOCK               IUCR PRIMARY_DE     \n",
       "1 HZ472453 2016/10/12 007XX W OHARE ST    1320 CRIMINAL DAMAGE\n",
       "2 HZ463490 2016/10/06 0000X W C17 ST       860 THEFT          \n",
       "3 HZ491339 2016/10/27 006XX W OHARE ST    1812 NARCOTICS      \n",
       "4 HZ494135 2016/10/29 006XX W OHARE ST     460 BATTERY        \n",
       "5 HZ479122 2016/10/08 115XX W TOUHY AVE    890 THEFT          \n",
       "6 HZ464488 2016/10/02 0000X W TERMINAL ST  810 THEFT          \n",
       "  SECONDARY                     \n",
       "1 TO VEHICLE                    \n",
       "2 RETAIL THEFT                  \n",
       "3 POSS: CANNABIS MORE THAN 30GMS\n",
       "4 SIMPLE                        \n",
       "5 FROM BUILDING                 \n",
       "6 OVER $500                     \n",
       "  LOCATION_D                                      ARREST DOMESTIC BEAT WARD\n",
       "1 AIRPORT EXTERIOR - SECURE AREA                  N      N        1654 41  \n",
       "2 SMALL RETAIL STORE                              N      N        1651 41  \n",
       "3 AIRPORT EXTERIOR - NON-SECURE AREA              Y      N        1654 41  \n",
       "4 AIRPORT BUILDING NON-TERMINAL - NON-SECURE AREA N      N        1654 41  \n",
       "5 AIRPORT BUILDING NON-TERMINAL - NON-SECURE AREA N      N        1654 41  \n",
       "6 AIRPORT BUILDING NON-TERMINAL - SECURE AREA     N      N        1651 41  \n",
       "  FBI_CD X_COORDINA Y_COORDINA LATITUDE LONGITUDE\n",
       "1 14     1096020    1938449    41.98790 -87.92221\n",
       "2  6     1099330    1935025    41.97846 -87.91010\n",
       "3 18     1100088    1926079    41.95390 -87.90747\n",
       "4  0     1100088    1926079    41.95390 -87.90747\n",
       "5  6     1100260    1946117    42.00889 -87.90647\n",
       "6  6     1100317    1935229    41.97901 -87.90646"
      ]
     },
     "metadata": {},
     "output_type": "display_data"
    }
   ],
   "source": [
    "head(inPtFeatures@data)"
   ]
  },
  {
   "cell_type": "code",
   "execution_count": 6,
   "metadata": {},
   "outputs": [
    {
     "data": {
      "text/html": [
       "<table>\n",
       "<thead><tr><th></th><th scope=col>GEOID10</th><th scope=col>NAMELSAD10</th><th scope=col>ALAND10</th><th scope=col>AWATER10</th><th scope=col>INTPTLAT10</th><th scope=col>INTPTLON10</th><th scope=col>DP0010001</th><th scope=col>DP0010002</th><th scope=col>DP0010003</th><th scope=col>DP0010004</th><th scope=col>⋯</th><th scope=col>DP0200001</th><th scope=col>DP0210001</th><th scope=col>DP0210002</th><th scope=col>DP0210003</th><th scope=col>DP0220001</th><th scope=col>DP0220002</th><th scope=col>DP0230001</th><th scope=col>DP0230002</th><th scope=col>Shape_Leng</th><th scope=col>Shape_Area</th></tr></thead>\n",
       "<tbody>\n",
       "\t<tr><th scope=row>0</th><td>17043842800         </td><td>Census Tract 8428   </td><td> 2426524            </td><td>  6842              </td><td>+41.8969327         </td><td>-087.9271276        </td><td>4503                </td><td>287                 </td><td>356                 </td><td>378                 </td><td>⋯                   </td><td>5.4                 </td><td>1592                </td><td>1368                </td><td>224                 </td><td>4001                </td><td> 465                </td><td>2.92                </td><td>2.08                </td><td>0.09077950          </td><td>0.0002640016        </td></tr>\n",
       "\t<tr><th scope=row>1</th><td>17043840703         </td><td>Census Tract 8407.03</td><td> 2526939            </td><td> 83920              </td><td>+41.9372257         </td><td>-087.9300599        </td><td>3898                </td><td>236                 </td><td>224                 </td><td>225                 </td><td>⋯                   </td><td>5.9                 </td><td>1644                </td><td> 669                </td><td>975                 </td><td>1856                </td><td>2042                </td><td>2.77                </td><td>2.09                </td><td>0.06856793          </td><td>0.0002834433        </td></tr>\n",
       "\t<tr><th scope=row>2</th><td>17043840706         </td><td>Census Tract 8407.06</td><td> 3215956            </td><td>140418              </td><td>+41.9181215         </td><td>-087.9250012        </td><td>3307                </td><td>185                 </td><td>222                 </td><td>229                 </td><td>⋯                   </td><td>0.9                 </td><td>1095                </td><td> 985                </td><td>110                 </td><td>2903                </td><td> 404                </td><td>2.95                </td><td>3.67                </td><td>0.08234755          </td><td>0.0003642677        </td></tr>\n",
       "\t<tr><th scope=row>3</th><td>17043840705         </td><td>Census Tract 8407.05</td><td> 4880003            </td><td> 12123              </td><td>+41.9216340         </td><td>-087.9518395        </td><td>3837                </td><td>263                 </td><td>298                 </td><td>251                 </td><td>⋯                   </td><td>3.4                 </td><td>1234                </td><td>1062                </td><td>172                 </td><td>3086                </td><td> 591                </td><td>2.91                </td><td>3.44                </td><td>0.10618516          </td><td>0.0005309730        </td></tr>\n",
       "\t<tr><th scope=row>4</th><td>17043840704         </td><td>Census Tract 8407.04</td><td> 3357971            </td><td> 52062              </td><td>+41.9411814         </td><td>-087.9472043        </td><td>3258                </td><td>252                 </td><td>229                 </td><td>166                 </td><td>⋯                   </td><td>9.4                 </td><td>1117                </td><td> 497                </td><td>620                 </td><td>1345                </td><td>1908                </td><td>2.71                </td><td>3.08                </td><td>0.07947556          </td><td>0.0003701992        </td></tr>\n",
       "\t<tr><th scope=row>5</th><td>17043840000         </td><td>Census Tract 8400   </td><td>11754772            </td><td>124997              </td><td>+41.9784876         </td><td>-087.9395607        </td><td>2999                </td><td>236                 </td><td>220                 </td><td>234                 </td><td>⋯                   </td><td>2.5                 </td><td> 867                </td><td> 599                </td><td>268                 </td><td>2058                </td><td> 941                </td><td>3.44                </td><td>3.51                </td><td>0.14646122          </td><td>0.0012904647        </td></tr>\n",
       "</tbody>\n",
       "</table>\n"
      ],
      "text/latex": [
       "\\begin{tabular}{r|llllllllllllllllllllllllllllllllllllllllllllllllllllllllllllllllllllllllllllllllllllllllllllllllllllllllllllllllllllllllllllllllllllllllllllllllllllllllllllllllllllllllllllllllllllllllllllllllll}\n",
       "  & GEOID10 & NAMELSAD10 & ALAND10 & AWATER10 & INTPTLAT10 & INTPTLON10 & DP0010001 & DP0010002 & DP0010003 & DP0010004 & ⋯ & DP0200001 & DP0210001 & DP0210002 & DP0210003 & DP0220001 & DP0220002 & DP0230001 & DP0230002 & Shape\\_Leng & Shape\\_Area\\\\\n",
       "\\hline\n",
       "\t0 & 17043842800          & Census Tract 8428    &  2426524             &   6842               & +41.8969327          & -087.9271276         & 4503                 & 287                  & 356                  & 378                  & ⋯                    & 5.4                  & 1592                 & 1368                 & 224                  & 4001                 &  465                 & 2.92                 & 2.08                 & 0.09077950           & 0.0002640016        \\\\\n",
       "\t1 & 17043840703          & Census Tract 8407.03 &  2526939             &  83920               & +41.9372257          & -087.9300599         & 3898                 & 236                  & 224                  & 225                  & ⋯                    & 5.9                  & 1644                 &  669                 & 975                  & 1856                 & 2042                 & 2.77                 & 2.09                 & 0.06856793           & 0.0002834433        \\\\\n",
       "\t2 & 17043840706          & Census Tract 8407.06 &  3215956             & 140418               & +41.9181215          & -087.9250012         & 3307                 & 185                  & 222                  & 229                  & ⋯                    & 0.9                  & 1095                 &  985                 & 110                  & 2903                 &  404                 & 2.95                 & 3.67                 & 0.08234755           & 0.0003642677        \\\\\n",
       "\t3 & 17043840705          & Census Tract 8407.05 &  4880003             &  12123               & +41.9216340          & -087.9518395         & 3837                 & 263                  & 298                  & 251                  & ⋯                    & 3.4                  & 1234                 & 1062                 & 172                  & 3086                 &  591                 & 2.91                 & 3.44                 & 0.10618516           & 0.0005309730        \\\\\n",
       "\t4 & 17043840704          & Census Tract 8407.04 &  3357971             &  52062               & +41.9411814          & -087.9472043         & 3258                 & 252                  & 229                  & 166                  & ⋯                    & 9.4                  & 1117                 &  497                 & 620                  & 1345                 & 1908                 & 2.71                 & 3.08                 & 0.07947556           & 0.0003701992        \\\\\n",
       "\t5 & 17043840000          & Census Tract 8400    & 11754772             & 124997               & +41.9784876          & -087.9395607         & 2999                 & 236                  & 220                  & 234                  & ⋯                    & 2.5                  &  867                 &  599                 & 268                  & 2058                 &  941                 & 3.44                 & 3.51                 & 0.14646122           & 0.0012904647        \\\\\n",
       "\\end{tabular}\n"
      ],
      "text/markdown": [
       "\n",
       "| <!--/--> | GEOID10 | NAMELSAD10 | ALAND10 | AWATER10 | INTPTLAT10 | INTPTLON10 | DP0010001 | DP0010002 | DP0010003 | DP0010004 | ⋯ | DP0200001 | DP0210001 | DP0210002 | DP0210003 | DP0220001 | DP0220002 | DP0230001 | DP0230002 | Shape_Leng | Shape_Area | \n",
       "|---|---|---|---|---|---|\n",
       "| 0 | 17043842800          | Census Tract 8428    |  2426524             |   6842               | +41.8969327          | -087.9271276         | 4503                 | 287                  | 356                  | 378                  | ⋯                    | 5.4                  | 1592                 | 1368                 | 224                  | 4001                 |  465                 | 2.92                 | 2.08                 | 0.09077950           | 0.0002640016         | \n",
       "| 1 | 17043840703          | Census Tract 8407.03 |  2526939             |  83920               | +41.9372257          | -087.9300599         | 3898                 | 236                  | 224                  | 225                  | ⋯                    | 5.9                  | 1644                 |  669                 | 975                  | 1856                 | 2042                 | 2.77                 | 2.09                 | 0.06856793           | 0.0002834433         | \n",
       "| 2 | 17043840706          | Census Tract 8407.06 |  3215956             | 140418               | +41.9181215          | -087.9250012         | 3307                 | 185                  | 222                  | 229                  | ⋯                    | 0.9                  | 1095                 |  985                 | 110                  | 2903                 |  404                 | 2.95                 | 3.67                 | 0.08234755           | 0.0003642677         | \n",
       "| 3 | 17043840705          | Census Tract 8407.05 |  4880003             |  12123               | +41.9216340          | -087.9518395         | 3837                 | 263                  | 298                  | 251                  | ⋯                    | 3.4                  | 1234                 | 1062                 | 172                  | 3086                 |  591                 | 2.91                 | 3.44                 | 0.10618516           | 0.0005309730         | \n",
       "| 4 | 17043840704          | Census Tract 8407.04 |  3357971             |  52062               | +41.9411814          | -087.9472043         | 3258                 | 252                  | 229                  | 166                  | ⋯                    | 9.4                  | 1117                 |  497                 | 620                  | 1345                 | 1908                 | 2.71                 | 3.08                 | 0.07947556           | 0.0003701992         | \n",
       "| 5 | 17043840000          | Census Tract 8400    | 11754772             | 124997               | +41.9784876          | -087.9395607         | 2999                 | 236                  | 220                  | 234                  | ⋯                    | 2.5                  |  867                 |  599                 | 268                  | 2058                 |  941                 | 3.44                 | 3.51                 | 0.14646122           | 0.0012904647         | \n",
       "\n",
       "\n"
      ],
      "text/plain": [
       "  GEOID10     NAMELSAD10           ALAND10  AWATER10 INTPTLAT10  INTPTLON10  \n",
       "0 17043842800 Census Tract 8428     2426524   6842   +41.8969327 -087.9271276\n",
       "1 17043840703 Census Tract 8407.03  2526939  83920   +41.9372257 -087.9300599\n",
       "2 17043840706 Census Tract 8407.06  3215956 140418   +41.9181215 -087.9250012\n",
       "3 17043840705 Census Tract 8407.05  4880003  12123   +41.9216340 -087.9518395\n",
       "4 17043840704 Census Tract 8407.04  3357971  52062   +41.9411814 -087.9472043\n",
       "5 17043840000 Census Tract 8400    11754772 124997   +41.9784876 -087.9395607\n",
       "  DP0010001 DP0010002 DP0010003 DP0010004 ⋯ DP0200001 DP0210001 DP0210002\n",
       "0 4503      287       356       378       ⋯ 5.4       1592      1368     \n",
       "1 3898      236       224       225       ⋯ 5.9       1644       669     \n",
       "2 3307      185       222       229       ⋯ 0.9       1095       985     \n",
       "3 3837      263       298       251       ⋯ 3.4       1234      1062     \n",
       "4 3258      252       229       166       ⋯ 9.4       1117       497     \n",
       "5 2999      236       220       234       ⋯ 2.5        867       599     \n",
       "  DP0210003 DP0220001 DP0220002 DP0230001 DP0230002 Shape_Leng Shape_Area  \n",
       "0 224       4001       465      2.92      2.08      0.09077950 0.0002640016\n",
       "1 975       1856      2042      2.77      2.09      0.06856793 0.0002834433\n",
       "2 110       2903       404      2.95      3.67      0.08234755 0.0003642677\n",
       "3 172       3086       591      2.91      3.44      0.10618516 0.0005309730\n",
       "4 620       1345      1908      2.71      3.08      0.07947556 0.0003701992\n",
       "5 268       2058       941      3.44      3.51      0.14646122 0.0012904647"
      ]
     },
     "metadata": {},
     "output_type": "display_data"
    }
   ],
   "source": [
    "head(inTracts@data)"
   ]
  },
  {
   "cell_type": "code",
   "execution_count": 7,
   "metadata": {},
   "outputs": [
    {
     "data": {
      "text/html": [
       "<table>\n",
       "<thead><tr><th></th><th scope=col>Id</th></tr></thead>\n",
       "<tbody>\n",
       "\t<tr><th scope=row>0</th><td>0</td></tr>\n",
       "</tbody>\n",
       "</table>\n"
      ],
      "text/latex": [
       "\\begin{tabular}{r|l}\n",
       "  & Id\\\\\n",
       "\\hline\n",
       "\t0 & 0\\\\\n",
       "\\end{tabular}\n"
      ],
      "text/markdown": [
       "\n",
       "| <!--/--> | Id | \n",
       "|---|\n",
       "| 0 | 0 | \n",
       "\n",
       "\n"
      ],
      "text/plain": [
       "  Id\n",
       "0 0 "
      ]
     },
     "metadata": {},
     "output_type": "display_data"
    }
   ],
   "source": [
    "head(inBoundary@data)"
   ]
  },
  {
   "cell_type": "markdown",
   "metadata": {},
   "source": [
    "### Subset the Tract Polygons\n",
    "\n",
    "There are many tracts that fall outside the Chicago area.  As such, select only those tracts within the bounds of Chicago to use for subsequent analysis. "
   ]
  },
  {
   "cell_type": "code",
   "execution_count": 12,
   "metadata": {
    "collapsed": true
   },
   "outputs": [],
   "source": [
    "#Identify features that CONTAINED WITHIN Afeature\n",
    "i <- 1\n",
    "containedList <- list()\n",
    "   \n",
    "for (ele in 1:length(inTracts)){\n",
    "        \n",
    "    if (gContains(inBoundary, inTracts[ele,],\n",
    "                      byid = FALSE, \n",
    "                      prepared = TRUE, \n",
    "                      returnDense = TRUE, \n",
    "                      STRsubset = FALSE, \n",
    "                      checkValidity = FALSE)){\n",
    "        \n",
    "            containedList[[i]] <- ele\n",
    "            i <- i+1\n",
    "        }\n",
    "    }\n",
    "  \n",
    "contSet <- unlist(containedList)\n",
    "\n",
    "#select the features\n",
    "subTracts <- inTracts[contSet, ]"
   ]
  },
  {
   "cell_type": "code",
   "execution_count": 13,
   "metadata": {},
   "outputs": [
    {
     "data": {
      "text/html": [
       "<table>\n",
       "<thead><tr><th></th><th scope=col>GEOID10</th><th scope=col>NAMELSAD10</th><th scope=col>ALAND10</th><th scope=col>AWATER10</th><th scope=col>INTPTLAT10</th><th scope=col>INTPTLON10</th><th scope=col>DP0010001</th><th scope=col>DP0010002</th><th scope=col>DP0010003</th><th scope=col>DP0010004</th><th scope=col>⋯</th><th scope=col>DP0200001</th><th scope=col>DP0210001</th><th scope=col>DP0210002</th><th scope=col>DP0210003</th><th scope=col>DP0220001</th><th scope=col>DP0220002</th><th scope=col>DP0230001</th><th scope=col>DP0230002</th><th scope=col>Shape_Leng</th><th scope=col>Shape_Area</th></tr></thead>\n",
       "<tbody>\n",
       "\t<tr><th scope=row>13</th><td>17031840300         </td><td>Census Tract 8403   </td><td> 831224             </td><td>0                   </td><td>+41.8320943         </td><td>-087.6818822        </td><td>3950                </td><td>289                 </td><td>281                 </td><td>299                 </td><td>⋯                   </td><td>6.0                 </td><td>1173                </td><td> 700                </td><td> 473                </td><td>2456                </td><td>1494                </td><td>3.51                </td><td>3.16                </td><td>0.05000424          </td><td>9.009214e-05        </td></tr>\n",
       "\t<tr><th scope=row>14</th><td>17031840200         </td><td>Census Tract 8402   </td><td> 831087             </td><td>0                   </td><td>+41.8445748         </td><td>-087.6491915        </td><td>2338                </td><td>166                 </td><td>148                 </td><td>131                 </td><td>⋯                   </td><td>7.8                 </td><td> 771                </td><td> 408                </td><td> 363                </td><td>1338                </td><td> 997                </td><td>3.28                </td><td>2.75                </td><td>0.04752789          </td><td>9.009521e-05        </td></tr>\n",
       "\t<tr><th scope=row>15</th><td>17031841100         </td><td>Census Tract 8411   </td><td>1143247             </td><td>0                   </td><td>+41.8510058         </td><td>-087.6350978        </td><td>7254                </td><td>349                 </td><td>316                 </td><td>369                 </td><td>⋯                   </td><td>4.8                 </td><td>2621                </td><td>1039                </td><td>1582                </td><td>3001                </td><td>4251                </td><td>2.89                </td><td>2.69                </td><td>0.04833201          </td><td>1.239465e-04        </td></tr>\n",
       "\t<tr><th scope=row>16</th><td>17031841200         </td><td>Census Tract 8412   </td><td> 625405             </td><td>0                   </td><td>+41.8555618         </td><td>-087.6833420        </td><td>5262                </td><td>447                 </td><td>469                 </td><td>422                 </td><td>⋯                   </td><td>6.9                 </td><td>1639                </td><td> 444                </td><td>1195                </td><td>1479                </td><td>3782                </td><td>3.33                </td><td>3.16                </td><td>0.03363699          </td><td>6.780896e-05        </td></tr>\n",
       "\t<tr><th scope=row>17</th><td>17031838200         </td><td>Census Tract 8382   </td><td>1157564             </td><td>0                   </td><td>+41.8704157         </td><td>-087.6750794        </td><td>1578                </td><td> 57                 </td><td> 54                 </td><td> 38                 </td><td>⋯                   </td><td>8.0                 </td><td> 441                </td><td> 143                </td><td> 298                </td><td> 374                </td><td> 649                </td><td>2.62                </td><td>2.18                </td><td>0.04907786          </td><td>1.255364e-04        </td></tr>\n",
       "\t<tr><th scope=row>18</th><td>17031650301         </td><td>Census Tract 6503.01</td><td> 985559             </td><td>0                   </td><td>+41.7749275         </td><td>-087.7299916        </td><td>5711                </td><td>464                 </td><td>511                 </td><td>543                 </td><td>⋯                   </td><td>3.0                 </td><td>1501                </td><td>1176                </td><td> 325                </td><td>4600                </td><td>1104                </td><td>3.91                </td><td>3.40                </td><td>0.04386377          </td><td>1.067251e-04        </td></tr>\n",
       "</tbody>\n",
       "</table>\n"
      ],
      "text/latex": [
       "\\begin{tabular}{r|llllllllllllllllllllllllllllllllllllllllllllllllllllllllllllllllllllllllllllllllllllllllllllllllllllllllllllllllllllllllllllllllllllllllllllllllllllllllllllllllllllllllllllllllllllllllllllllllll}\n",
       "  & GEOID10 & NAMELSAD10 & ALAND10 & AWATER10 & INTPTLAT10 & INTPTLON10 & DP0010001 & DP0010002 & DP0010003 & DP0010004 & ⋯ & DP0200001 & DP0210001 & DP0210002 & DP0210003 & DP0220001 & DP0220002 & DP0230001 & DP0230002 & Shape\\_Leng & Shape\\_Area\\\\\n",
       "\\hline\n",
       "\t13 & 17031840300          & Census Tract 8403    &  831224              & 0                    & +41.8320943          & -087.6818822         & 3950                 & 289                  & 281                  & 299                  & ⋯                    & 6.0                  & 1173                 &  700                 &  473                 & 2456                 & 1494                 & 3.51                 & 3.16                 & 0.05000424           & 9.009214e-05        \\\\\n",
       "\t14 & 17031840200          & Census Tract 8402    &  831087              & 0                    & +41.8445748          & -087.6491915         & 2338                 & 166                  & 148                  & 131                  & ⋯                    & 7.8                  &  771                 &  408                 &  363                 & 1338                 &  997                 & 3.28                 & 2.75                 & 0.04752789           & 9.009521e-05        \\\\\n",
       "\t15 & 17031841100          & Census Tract 8411    & 1143247              & 0                    & +41.8510058          & -087.6350978         & 7254                 & 349                  & 316                  & 369                  & ⋯                    & 4.8                  & 2621                 & 1039                 & 1582                 & 3001                 & 4251                 & 2.89                 & 2.69                 & 0.04833201           & 1.239465e-04        \\\\\n",
       "\t16 & 17031841200          & Census Tract 8412    &  625405              & 0                    & +41.8555618          & -087.6833420         & 5262                 & 447                  & 469                  & 422                  & ⋯                    & 6.9                  & 1639                 &  444                 & 1195                 & 1479                 & 3782                 & 3.33                 & 3.16                 & 0.03363699           & 6.780896e-05        \\\\\n",
       "\t17 & 17031838200          & Census Tract 8382    & 1157564              & 0                    & +41.8704157          & -087.6750794         & 1578                 &  57                  &  54                  &  38                  & ⋯                    & 8.0                  &  441                 &  143                 &  298                 &  374                 &  649                 & 2.62                 & 2.18                 & 0.04907786           & 1.255364e-04        \\\\\n",
       "\t18 & 17031650301          & Census Tract 6503.01 &  985559              & 0                    & +41.7749275          & -087.7299916         & 5711                 & 464                  & 511                  & 543                  & ⋯                    & 3.0                  & 1501                 & 1176                 &  325                 & 4600                 & 1104                 & 3.91                 & 3.40                 & 0.04386377           & 1.067251e-04        \\\\\n",
       "\\end{tabular}\n"
      ],
      "text/markdown": [
       "\n",
       "| <!--/--> | GEOID10 | NAMELSAD10 | ALAND10 | AWATER10 | INTPTLAT10 | INTPTLON10 | DP0010001 | DP0010002 | DP0010003 | DP0010004 | ⋯ | DP0200001 | DP0210001 | DP0210002 | DP0210003 | DP0220001 | DP0220002 | DP0230001 | DP0230002 | Shape_Leng | Shape_Area | \n",
       "|---|---|---|---|---|---|\n",
       "| 13 | 17031840300          | Census Tract 8403    |  831224              | 0                    | +41.8320943          | -087.6818822         | 3950                 | 289                  | 281                  | 299                  | ⋯                    | 6.0                  | 1173                 |  700                 |  473                 | 2456                 | 1494                 | 3.51                 | 3.16                 | 0.05000424           | 9.009214e-05         | \n",
       "| 14 | 17031840200          | Census Tract 8402    |  831087              | 0                    | +41.8445748          | -087.6491915         | 2338                 | 166                  | 148                  | 131                  | ⋯                    | 7.8                  |  771                 |  408                 |  363                 | 1338                 |  997                 | 3.28                 | 2.75                 | 0.04752789           | 9.009521e-05         | \n",
       "| 15 | 17031841100          | Census Tract 8411    | 1143247              | 0                    | +41.8510058          | -087.6350978         | 7254                 | 349                  | 316                  | 369                  | ⋯                    | 4.8                  | 2621                 | 1039                 | 1582                 | 3001                 | 4251                 | 2.89                 | 2.69                 | 0.04833201           | 1.239465e-04         | \n",
       "| 16 | 17031841200          | Census Tract 8412    |  625405              | 0                    | +41.8555618          | -087.6833420         | 5262                 | 447                  | 469                  | 422                  | ⋯                    | 6.9                  | 1639                 |  444                 | 1195                 | 1479                 | 3782                 | 3.33                 | 3.16                 | 0.03363699           | 6.780896e-05         | \n",
       "| 17 | 17031838200          | Census Tract 8382    | 1157564              | 0                    | +41.8704157          | -087.6750794         | 1578                 |  57                  |  54                  |  38                  | ⋯                    | 8.0                  |  441                 |  143                 |  298                 |  374                 |  649                 | 2.62                 | 2.18                 | 0.04907786           | 1.255364e-04         | \n",
       "| 18 | 17031650301          | Census Tract 6503.01 |  985559              | 0                    | +41.7749275          | -087.7299916         | 5711                 | 464                  | 511                  | 543                  | ⋯                    | 3.0                  | 1501                 | 1176                 |  325                 | 4600                 | 1104                 | 3.91                 | 3.40                 | 0.04386377           | 1.067251e-04         | \n",
       "\n",
       "\n"
      ],
      "text/plain": [
       "   GEOID10     NAMELSAD10           ALAND10 AWATER10 INTPTLAT10  INTPTLON10  \n",
       "13 17031840300 Census Tract 8403     831224 0        +41.8320943 -087.6818822\n",
       "14 17031840200 Census Tract 8402     831087 0        +41.8445748 -087.6491915\n",
       "15 17031841100 Census Tract 8411    1143247 0        +41.8510058 -087.6350978\n",
       "16 17031841200 Census Tract 8412     625405 0        +41.8555618 -087.6833420\n",
       "17 17031838200 Census Tract 8382    1157564 0        +41.8704157 -087.6750794\n",
       "18 17031650301 Census Tract 6503.01  985559 0        +41.7749275 -087.7299916\n",
       "   DP0010001 DP0010002 DP0010003 DP0010004 ⋯ DP0200001 DP0210001 DP0210002\n",
       "13 3950      289       281       299       ⋯ 6.0       1173       700     \n",
       "14 2338      166       148       131       ⋯ 7.8        771       408     \n",
       "15 7254      349       316       369       ⋯ 4.8       2621      1039     \n",
       "16 5262      447       469       422       ⋯ 6.9       1639       444     \n",
       "17 1578       57        54        38       ⋯ 8.0        441       143     \n",
       "18 5711      464       511       543       ⋯ 3.0       1501      1176     \n",
       "   DP0210003 DP0220001 DP0220002 DP0230001 DP0230002 Shape_Leng Shape_Area  \n",
       "13  473      2456      1494      3.51      3.16      0.05000424 9.009214e-05\n",
       "14  363      1338       997      3.28      2.75      0.04752789 9.009521e-05\n",
       "15 1582      3001      4251      2.89      2.69      0.04833201 1.239465e-04\n",
       "16 1195      1479      3782      3.33      3.16      0.03363699 6.780896e-05\n",
       "17  298       374       649      2.62      2.18      0.04907786 1.255364e-04\n",
       "18  325      4600      1104      3.91      3.40      0.04386377 1.067251e-04"
      ]
     },
     "metadata": {},
     "output_type": "display_data"
    }
   ],
   "source": [
    "head(subTracts)"
   ]
  },
  {
   "cell_type": "markdown",
   "metadata": {},
   "source": [
    "### Assign Tract Polygons a Unique ID\n",
    "\n",
    "In order to better organize the tract polygon data, it is a good idea to assign a unique index to each row of the polygon attribute dataframe. Yes, there is likely already an unique attribute for each polygon, but doing this on our own gives us more control of the process."
   ]
  },
  {
   "cell_type": "code",
   "execution_count": 14,
   "metadata": {
    "collapsed": true
   },
   "outputs": [],
   "source": [
    "subTracts@data$uniqueid <- seq.int(nrow(subTracts@data))"
   ]
  },
  {
   "cell_type": "code",
   "execution_count": 15,
   "metadata": {},
   "outputs": [
    {
     "data": {
      "text/html": [
       "<ol class=list-inline>\n",
       "\t<li>1</li>\n",
       "\t<li>2</li>\n",
       "\t<li>3</li>\n",
       "\t<li>4</li>\n",
       "\t<li>5</li>\n",
       "</ol>\n"
      ],
      "text/latex": [
       "\\begin{enumerate*}\n",
       "\\item 1\n",
       "\\item 2\n",
       "\\item 3\n",
       "\\item 4\n",
       "\\item 5\n",
       "\\end{enumerate*}\n"
      ],
      "text/markdown": [
       "1. 1\n",
       "2. 2\n",
       "3. 3\n",
       "4. 4\n",
       "5. 5\n",
       "\n",
       "\n"
      ],
      "text/plain": [
       "[1] 1 2 3 4 5"
      ]
     },
     "metadata": {},
     "output_type": "display_data"
    }
   ],
   "source": [
    "subTracts@data$uniqueid[1:5]"
   ]
  },
  {
   "cell_type": "markdown",
   "metadata": {},
   "source": [
    "### Create Aggregation Attributes for Burglaries and All Crime\n",
    "\n",
    "When aggregating point data to polygons, a variable to be aggregated is required.  As the point data exist, aggregation of many of the variables would be nonsense.  For example, consider the aggregation of CASE which is the case number.  If you aggregate case number HZ472453 and HZ463490 by taking their mean value what does that give you?  What if you aggregate them by taking the first value only (i.e. HZ472453)? Exactly....doesn't help us out much right? What we'd like is the number of burglaries that occured within each tract and the number of crimes of any type that occurred within each tract.\n",
    "\n",
    "To do this, let's create two new fields in the crime dataframe: \n",
    "\n",
    "a) 'NumEvent' which will be set to 1 if the crime was a burglary and 0 otherwise, and \n",
    "\n",
    "b) 'NumCrimes' which will be set to 1 indicating a crime was observed at that point.  \n",
    "\n",
    "In the crime points data, there is a field 'PRIMARY_DE' which is a string attribute conveying the type of crime.  Given this field, we can select crimes classified as burglary and set the new field 'NumEvents' = 1 in those cases."
   ]
  },
  {
   "cell_type": "code",
   "execution_count": 16,
   "metadata": {},
   "outputs": [
    {
     "data": {
      "text/html": [
       "<table>\n",
       "<thead><tr><th scope=col>CASE_</th><th scope=col>DATE__OF_O</th><th scope=col>BLOCK</th><th scope=col>IUCR</th><th scope=col>PRIMARY_DE</th><th scope=col>SECONDARY</th><th scope=col>LOCATION_D</th><th scope=col>ARREST</th><th scope=col>DOMESTIC</th><th scope=col>BEAT</th><th scope=col>WARD</th><th scope=col>FBI_CD</th><th scope=col>X_COORDINA</th><th scope=col>Y_COORDINA</th><th scope=col>LATITUDE</th><th scope=col>LONGITUDE</th></tr></thead>\n",
       "<tbody>\n",
       "\t<tr><td>HZ472453                                       </td><td>2016/10/12                                     </td><td>007XX W OHARE ST                               </td><td>1320                                           </td><td>CRIMINAL DAMAGE                                </td><td>TO VEHICLE                                     </td><td>AIRPORT EXTERIOR - SECURE AREA                 </td><td>N                                              </td><td>N                                              </td><td>1654                                           </td><td>41                                             </td><td>14                                             </td><td>1096020                                        </td><td>1938449                                        </td><td>41.98790                                       </td><td>-87.92221                                      </td></tr>\n",
       "\t<tr><td>HZ463490                                       </td><td>2016/10/06                                     </td><td>0000X W C17 ST                                 </td><td> 860                                           </td><td>THEFT                                          </td><td>RETAIL THEFT                                   </td><td>SMALL RETAIL STORE                             </td><td>N                                              </td><td>N                                              </td><td>1651                                           </td><td>41                                             </td><td> 6                                             </td><td>1099330                                        </td><td>1935025                                        </td><td>41.97846                                       </td><td>-87.91010                                      </td></tr>\n",
       "\t<tr><td>HZ491339                                       </td><td>2016/10/27                                     </td><td>006XX W OHARE ST                               </td><td>1812                                           </td><td>NARCOTICS                                      </td><td>POSS: CANNABIS MORE THAN 30GMS                 </td><td>AIRPORT EXTERIOR - NON-SECURE AREA             </td><td>Y                                              </td><td>N                                              </td><td>1654                                           </td><td>41                                             </td><td>18                                             </td><td>1100088                                        </td><td>1926079                                        </td><td>41.95390                                       </td><td>-87.90747                                      </td></tr>\n",
       "\t<tr><td>HZ494135                                       </td><td>2016/10/29                                     </td><td>006XX W OHARE ST                               </td><td> 460                                           </td><td>BATTERY                                        </td><td>SIMPLE                                         </td><td>AIRPORT BUILDING NON-TERMINAL - NON-SECURE AREA</td><td>N                                              </td><td>N                                              </td><td>1654                                           </td><td>41                                             </td><td> 0                                             </td><td>1100088                                        </td><td>1926079                                        </td><td>41.95390                                       </td><td>-87.90747                                      </td></tr>\n",
       "\t<tr><td>HZ479122                                       </td><td>2016/10/08                                     </td><td>115XX W TOUHY AVE                              </td><td> 890                                           </td><td>THEFT                                          </td><td>FROM BUILDING                                  </td><td>AIRPORT BUILDING NON-TERMINAL - NON-SECURE AREA</td><td>N                                              </td><td>N                                              </td><td>1654                                           </td><td>41                                             </td><td> 6                                             </td><td>1100260                                        </td><td>1946117                                        </td><td>42.00889                                       </td><td>-87.90647                                      </td></tr>\n",
       "\t<tr><td>HZ464488                                       </td><td>2016/10/02                                     </td><td>0000X W TERMINAL ST                            </td><td> 810                                           </td><td>THEFT                                          </td><td>OVER $500                                      </td><td>AIRPORT BUILDING NON-TERMINAL - SECURE AREA    </td><td>N                                              </td><td>N                                              </td><td>1651                                           </td><td>41                                             </td><td> 6                                             </td><td>1100317                                        </td><td>1935229                                        </td><td>41.97901                                       </td><td>-87.90646                                      </td></tr>\n",
       "</tbody>\n",
       "</table>\n"
      ],
      "text/latex": [
       "\\begin{tabular}{r|llllllllllllllll}\n",
       " CASE\\_ & DATE\\_\\_OF\\_O & BLOCK & IUCR & PRIMARY\\_DE & SECONDARY & LOCATION\\_D & ARREST & DOMESTIC & BEAT & WARD & FBI\\_CD & X\\_COORDINA & Y\\_COORDINA & LATITUDE & LONGITUDE\\\\\n",
       "\\hline\n",
       "\t HZ472453                                        & 2016/10/12                                      & 007XX W OHARE ST                                & 1320                                            & CRIMINAL DAMAGE                                 & TO VEHICLE                                      & AIRPORT EXTERIOR - SECURE AREA                  & N                                               & N                                               & 1654                                            & 41                                              & 14                                              & 1096020                                         & 1938449                                         & 41.98790                                        & -87.92221                                      \\\\\n",
       "\t HZ463490                                        & 2016/10/06                                      & 0000X W C17 ST                                  &  860                                            & THEFT                                           & RETAIL THEFT                                    & SMALL RETAIL STORE                              & N                                               & N                                               & 1651                                            & 41                                              &  6                                              & 1099330                                         & 1935025                                         & 41.97846                                        & -87.91010                                      \\\\\n",
       "\t HZ491339                                        & 2016/10/27                                      & 006XX W OHARE ST                                & 1812                                            & NARCOTICS                                       & POSS: CANNABIS MORE THAN 30GMS                  & AIRPORT EXTERIOR - NON-SECURE AREA              & Y                                               & N                                               & 1654                                            & 41                                              & 18                                              & 1100088                                         & 1926079                                         & 41.95390                                        & -87.90747                                      \\\\\n",
       "\t HZ494135                                        & 2016/10/29                                      & 006XX W OHARE ST                                &  460                                            & BATTERY                                         & SIMPLE                                          & AIRPORT BUILDING NON-TERMINAL - NON-SECURE AREA & N                                               & N                                               & 1654                                            & 41                                              &  0                                              & 1100088                                         & 1926079                                         & 41.95390                                        & -87.90747                                      \\\\\n",
       "\t HZ479122                                        & 2016/10/08                                      & 115XX W TOUHY AVE                               &  890                                            & THEFT                                           & FROM BUILDING                                   & AIRPORT BUILDING NON-TERMINAL - NON-SECURE AREA & N                                               & N                                               & 1654                                            & 41                                              &  6                                              & 1100260                                         & 1946117                                         & 42.00889                                        & -87.90647                                      \\\\\n",
       "\t HZ464488                                        & 2016/10/02                                      & 0000X W TERMINAL ST                             &  810                                            & THEFT                                           & OVER \\$500                                     & AIRPORT BUILDING NON-TERMINAL - SECURE AREA     & N                                               & N                                               & 1651                                            & 41                                              &  6                                              & 1100317                                         & 1935229                                         & 41.97901                                        & -87.90646                                      \\\\\n",
       "\\end{tabular}\n"
      ],
      "text/markdown": [
       "\n",
       "CASE_ | DATE__OF_O | BLOCK | IUCR | PRIMARY_DE | SECONDARY | LOCATION_D | ARREST | DOMESTIC | BEAT | WARD | FBI_CD | X_COORDINA | Y_COORDINA | LATITUDE | LONGITUDE | \n",
       "|---|---|---|---|---|---|\n",
       "| HZ472453                                        | 2016/10/12                                      | 007XX W OHARE ST                                | 1320                                            | CRIMINAL DAMAGE                                 | TO VEHICLE                                      | AIRPORT EXTERIOR - SECURE AREA                  | N                                               | N                                               | 1654                                            | 41                                              | 14                                              | 1096020                                         | 1938449                                         | 41.98790                                        | -87.92221                                       | \n",
       "| HZ463490                                        | 2016/10/06                                      | 0000X W C17 ST                                  |  860                                            | THEFT                                           | RETAIL THEFT                                    | SMALL RETAIL STORE                              | N                                               | N                                               | 1651                                            | 41                                              |  6                                              | 1099330                                         | 1935025                                         | 41.97846                                        | -87.91010                                       | \n",
       "| HZ491339                                        | 2016/10/27                                      | 006XX W OHARE ST                                | 1812                                            | NARCOTICS                                       | POSS: CANNABIS MORE THAN 30GMS                  | AIRPORT EXTERIOR - NON-SECURE AREA              | Y                                               | N                                               | 1654                                            | 41                                              | 18                                              | 1100088                                         | 1926079                                         | 41.95390                                        | -87.90747                                       | \n",
       "| HZ494135                                        | 2016/10/29                                      | 006XX W OHARE ST                                |  460                                            | BATTERY                                         | SIMPLE                                          | AIRPORT BUILDING NON-TERMINAL - NON-SECURE AREA | N                                               | N                                               | 1654                                            | 41                                              |  0                                              | 1100088                                         | 1926079                                         | 41.95390                                        | -87.90747                                       | \n",
       "| HZ479122                                        | 2016/10/08                                      | 115XX W TOUHY AVE                               |  890                                            | THEFT                                           | FROM BUILDING                                   | AIRPORT BUILDING NON-TERMINAL - NON-SECURE AREA | N                                               | N                                               | 1654                                            | 41                                              |  6                                              | 1100260                                         | 1946117                                         | 42.00889                                        | -87.90647                                       | \n",
       "| HZ464488                                        | 2016/10/02                                      | 0000X W TERMINAL ST                             |  810                                            | THEFT                                           | OVER $500                                       | AIRPORT BUILDING NON-TERMINAL - SECURE AREA     | N                                               | N                                               | 1651                                            | 41                                              |  6                                              | 1100317                                         | 1935229                                         | 41.97901                                        | -87.90646                                       | \n",
       "\n",
       "\n"
      ],
      "text/plain": [
       "  CASE_    DATE__OF_O BLOCK               IUCR PRIMARY_DE     \n",
       "1 HZ472453 2016/10/12 007XX W OHARE ST    1320 CRIMINAL DAMAGE\n",
       "2 HZ463490 2016/10/06 0000X W C17 ST       860 THEFT          \n",
       "3 HZ491339 2016/10/27 006XX W OHARE ST    1812 NARCOTICS      \n",
       "4 HZ494135 2016/10/29 006XX W OHARE ST     460 BATTERY        \n",
       "5 HZ479122 2016/10/08 115XX W TOUHY AVE    890 THEFT          \n",
       "6 HZ464488 2016/10/02 0000X W TERMINAL ST  810 THEFT          \n",
       "  SECONDARY                     \n",
       "1 TO VEHICLE                    \n",
       "2 RETAIL THEFT                  \n",
       "3 POSS: CANNABIS MORE THAN 30GMS\n",
       "4 SIMPLE                        \n",
       "5 FROM BUILDING                 \n",
       "6 OVER $500                     \n",
       "  LOCATION_D                                      ARREST DOMESTIC BEAT WARD\n",
       "1 AIRPORT EXTERIOR - SECURE AREA                  N      N        1654 41  \n",
       "2 SMALL RETAIL STORE                              N      N        1651 41  \n",
       "3 AIRPORT EXTERIOR - NON-SECURE AREA              Y      N        1654 41  \n",
       "4 AIRPORT BUILDING NON-TERMINAL - NON-SECURE AREA N      N        1654 41  \n",
       "5 AIRPORT BUILDING NON-TERMINAL - NON-SECURE AREA N      N        1654 41  \n",
       "6 AIRPORT BUILDING NON-TERMINAL - SECURE AREA     N      N        1651 41  \n",
       "  FBI_CD X_COORDINA Y_COORDINA LATITUDE LONGITUDE\n",
       "1 14     1096020    1938449    41.98790 -87.92221\n",
       "2  6     1099330    1935025    41.97846 -87.91010\n",
       "3 18     1100088    1926079    41.95390 -87.90747\n",
       "4  0     1100088    1926079    41.95390 -87.90747\n",
       "5  6     1100260    1946117    42.00889 -87.90647\n",
       "6  6     1100317    1935229    41.97901 -87.90646"
      ]
     },
     "metadata": {},
     "output_type": "display_data"
    }
   ],
   "source": [
    "head(inPtFeatures@data)"
   ]
  },
  {
   "cell_type": "code",
   "execution_count": 17,
   "metadata": {},
   "outputs": [
    {
     "data": {
      "text/html": [
       "<table>\n",
       "<thead><tr><th scope=col>CASE_</th><th scope=col>DATE__OF_O</th><th scope=col>BLOCK</th><th scope=col>IUCR</th><th scope=col>PRIMARY_DE</th><th scope=col>SECONDARY</th><th scope=col>LOCATION_D</th><th scope=col>ARREST</th><th scope=col>DOMESTIC</th><th scope=col>BEAT</th><th scope=col>WARD</th><th scope=col>FBI_CD</th><th scope=col>X_COORDINA</th><th scope=col>Y_COORDINA</th><th scope=col>LATITUDE</th><th scope=col>LONGITUDE</th><th scope=col>NumEvents</th><th scope=col>NumCrimes</th></tr></thead>\n",
       "<tbody>\n",
       "\t<tr><td>HZ472453                          </td><td>2016/10/12                        </td><td>007XX W OHARE ST                  </td><td>1320                              </td><td>CRIMINAL DAMAGE                   </td><td>TO VEHICLE                        </td><td>AIRPORT EXTERIOR - SECURE AREA    </td><td>N                                 </td><td>N                                 </td><td>1654                              </td><td>41                                </td><td>14                                </td><td>1096020                           </td><td>1938449                           </td><td>41.98790                          </td><td>-87.92221                         </td><td>0                                 </td><td>1                                 </td></tr>\n",
       "\t<tr><td>HZ463490                          </td><td>2016/10/06                        </td><td>0000X W C17 ST                    </td><td> 860                              </td><td>THEFT                             </td><td>RETAIL THEFT                      </td><td>SMALL RETAIL STORE                </td><td>N                                 </td><td>N                                 </td><td>1651                              </td><td>41                                </td><td> 6                                </td><td>1099330                           </td><td>1935025                           </td><td>41.97846                          </td><td>-87.91010                         </td><td>0                                 </td><td>1                                 </td></tr>\n",
       "\t<tr><td>HZ491339                          </td><td>2016/10/27                        </td><td>006XX W OHARE ST                  </td><td>1812                              </td><td>NARCOTICS                         </td><td>POSS: CANNABIS MORE THAN 30GMS    </td><td>AIRPORT EXTERIOR - NON-SECURE AREA</td><td>Y                                 </td><td>N                                 </td><td>1654                              </td><td>41                                </td><td>18                                </td><td>1100088                           </td><td>1926079                           </td><td>41.95390                          </td><td>-87.90747                         </td><td>0                                 </td><td>1                                 </td></tr>\n",
       "</tbody>\n",
       "</table>\n"
      ],
      "text/latex": [
       "\\begin{tabular}{r|llllllllllllllllll}\n",
       " CASE\\_ & DATE\\_\\_OF\\_O & BLOCK & IUCR & PRIMARY\\_DE & SECONDARY & LOCATION\\_D & ARREST & DOMESTIC & BEAT & WARD & FBI\\_CD & X\\_COORDINA & Y\\_COORDINA & LATITUDE & LONGITUDE & NumEvents & NumCrimes\\\\\n",
       "\\hline\n",
       "\t HZ472453                           & 2016/10/12                         & 007XX W OHARE ST                   & 1320                               & CRIMINAL DAMAGE                    & TO VEHICLE                         & AIRPORT EXTERIOR - SECURE AREA     & N                                  & N                                  & 1654                               & 41                                 & 14                                 & 1096020                            & 1938449                            & 41.98790                           & -87.92221                          & 0                                  & 1                                 \\\\\n",
       "\t HZ463490                           & 2016/10/06                         & 0000X W C17 ST                     &  860                               & THEFT                              & RETAIL THEFT                       & SMALL RETAIL STORE                 & N                                  & N                                  & 1651                               & 41                                 &  6                                 & 1099330                            & 1935025                            & 41.97846                           & -87.91010                          & 0                                  & 1                                 \\\\\n",
       "\t HZ491339                           & 2016/10/27                         & 006XX W OHARE ST                   & 1812                               & NARCOTICS                          & POSS: CANNABIS MORE THAN 30GMS     & AIRPORT EXTERIOR - NON-SECURE AREA & Y                                  & N                                  & 1654                               & 41                                 & 18                                 & 1100088                            & 1926079                            & 41.95390                           & -87.90747                          & 0                                  & 1                                 \\\\\n",
       "\\end{tabular}\n"
      ],
      "text/markdown": [
       "\n",
       "CASE_ | DATE__OF_O | BLOCK | IUCR | PRIMARY_DE | SECONDARY | LOCATION_D | ARREST | DOMESTIC | BEAT | WARD | FBI_CD | X_COORDINA | Y_COORDINA | LATITUDE | LONGITUDE | NumEvents | NumCrimes | \n",
       "|---|---|---|\n",
       "| HZ472453                           | 2016/10/12                         | 007XX W OHARE ST                   | 1320                               | CRIMINAL DAMAGE                    | TO VEHICLE                         | AIRPORT EXTERIOR - SECURE AREA     | N                                  | N                                  | 1654                               | 41                                 | 14                                 | 1096020                            | 1938449                            | 41.98790                           | -87.92221                          | 0                                  | 1                                  | \n",
       "| HZ463490                           | 2016/10/06                         | 0000X W C17 ST                     |  860                               | THEFT                              | RETAIL THEFT                       | SMALL RETAIL STORE                 | N                                  | N                                  | 1651                               | 41                                 |  6                                 | 1099330                            | 1935025                            | 41.97846                           | -87.91010                          | 0                                  | 1                                  | \n",
       "| HZ491339                           | 2016/10/27                         | 006XX W OHARE ST                   | 1812                               | NARCOTICS                          | POSS: CANNABIS MORE THAN 30GMS     | AIRPORT EXTERIOR - NON-SECURE AREA | Y                                  | N                                  | 1654                               | 41                                 | 18                                 | 1100088                            | 1926079                            | 41.95390                           | -87.90747                          | 0                                  | 1                                  | \n",
       "\n",
       "\n"
      ],
      "text/plain": [
       "  CASE_    DATE__OF_O BLOCK            IUCR PRIMARY_DE     \n",
       "1 HZ472453 2016/10/12 007XX W OHARE ST 1320 CRIMINAL DAMAGE\n",
       "2 HZ463490 2016/10/06 0000X W C17 ST    860 THEFT          \n",
       "3 HZ491339 2016/10/27 006XX W OHARE ST 1812 NARCOTICS      \n",
       "  SECONDARY                      LOCATION_D                         ARREST\n",
       "1 TO VEHICLE                     AIRPORT EXTERIOR - SECURE AREA     N     \n",
       "2 RETAIL THEFT                   SMALL RETAIL STORE                 N     \n",
       "3 POSS: CANNABIS MORE THAN 30GMS AIRPORT EXTERIOR - NON-SECURE AREA Y     \n",
       "  DOMESTIC BEAT WARD FBI_CD X_COORDINA Y_COORDINA LATITUDE LONGITUDE NumEvents\n",
       "1 N        1654 41   14     1096020    1938449    41.98790 -87.92221 0        \n",
       "2 N        1651 41    6     1099330    1935025    41.97846 -87.91010 0        \n",
       "3 N        1654 41   18     1100088    1926079    41.95390 -87.90747 0        \n",
       "  NumCrimes\n",
       "1 1        \n",
       "2 1        \n",
       "3 1        "
      ]
     },
     "metadata": {},
     "output_type": "display_data"
    }
   ],
   "source": [
    "#create two new variables for the point data\n",
    "inPtFeatures@data$NumEvents <- ifelse(inPtFeatures@data$PRIMARY_DE == 'BURGLARY', 1, 0)\n",
    "inPtFeatures@data$NumCrimes <- 1\n",
    "\n",
    "head(inPtFeatures@data, n = 3)"
   ]
  },
  {
   "cell_type": "markdown",
   "metadata": {},
   "source": [
    "### Associate Crime Points with a Polygon\n",
    "\n",
    "Next, let's tag each point with the polygon in which it falls.  The over() function we have used before can be used to accomplish this task. Note the format of the output of this function...what is it exactly?  It's not spatialpoints, but rather a list of the attributes of the polygons feature associated with each point.  See how the number of resulting rows is equal to the number of point features? So now, we know the polygon that is associated with each point!"
   ]
  },
  {
   "cell_type": "code",
   "execution_count": 18,
   "metadata": {},
   "outputs": [
    {
     "data": {
      "text/html": [
       "21679"
      ],
      "text/latex": [
       "21679"
      ],
      "text/markdown": [
       "21679"
      ],
      "text/plain": [
       "[1] 21679"
      ]
     },
     "metadata": {},
     "output_type": "display_data"
    },
    {
     "data": {
      "text/html": [
       "<table>\n",
       "<thead><tr><th scope=col>GEOID10</th><th scope=col>NAMELSAD10</th><th scope=col>ALAND10</th><th scope=col>AWATER10</th><th scope=col>INTPTLAT10</th><th scope=col>INTPTLON10</th><th scope=col>DP0010001</th><th scope=col>DP0010002</th><th scope=col>DP0010003</th><th scope=col>DP0010004</th><th scope=col>⋯</th><th scope=col>DP0210001</th><th scope=col>DP0210002</th><th scope=col>DP0210003</th><th scope=col>DP0220001</th><th scope=col>DP0220002</th><th scope=col>DP0230001</th><th scope=col>DP0230002</th><th scope=col>Shape_Leng</th><th scope=col>Shape_Area</th><th scope=col>uniqueid</th></tr></thead>\n",
       "<tbody>\n",
       "\t<tr><td>NA               </td><td>NA               </td><td>      NA         </td><td>    NA           </td><td>NA               </td><td>NA               </td><td>NA               </td><td>NA               </td><td>NA               </td><td>NA               </td><td>⋯                </td><td>NA               </td><td>NA               </td><td>NA               </td><td>NA               </td><td>NA               </td><td>NA               </td><td>NA               </td><td>       NA        </td><td>         NA      </td><td> NA              </td></tr>\n",
       "\t<tr><td>17031980000      </td><td>Census Tract 9800</td><td>19680343         </td><td>360284           </td><td>+41.9794881      </td><td>-087.9024050     </td><td> 0               </td><td> 0               </td><td> 0               </td><td> 0               </td><td>⋯                </td><td> 0               </td><td> 0               </td><td> 0               </td><td> 0               </td><td> 0               </td><td> 0               </td><td> 0               </td><td>0.2226799        </td><td>0.002177072      </td><td>641              </td></tr>\n",
       "\t<tr><td>17031980000      </td><td>Census Tract 9800</td><td>19680343         </td><td>360284           </td><td>+41.9794881      </td><td>-087.9024050     </td><td> 0               </td><td> 0               </td><td> 0               </td><td> 0               </td><td>⋯                </td><td> 0               </td><td> 0               </td><td> 0               </td><td> 0               </td><td> 0               </td><td> 0               </td><td> 0               </td><td>0.2226799        </td><td>0.002177072      </td><td>641              </td></tr>\n",
       "</tbody>\n",
       "</table>\n"
      ],
      "text/latex": [
       "\\begin{tabular}{r|lllllllllllllllllllllllllllllllllllllllllllllllllllllllllllllllllllllllllllllllllllllllllllllllllllllllllllllllllllllllllllllllllllllllllllllllllllllllllllllllllllllllllllllllllllllllllllllllllll}\n",
       " GEOID10 & NAMELSAD10 & ALAND10 & AWATER10 & INTPTLAT10 & INTPTLON10 & DP0010001 & DP0010002 & DP0010003 & DP0010004 & ⋯ & DP0210001 & DP0210002 & DP0210003 & DP0220001 & DP0220002 & DP0230001 & DP0230002 & Shape\\_Leng & Shape\\_Area & uniqueid\\\\\n",
       "\\hline\n",
       "\t NA                & NA                &       NA          &     NA            & NA                & NA                & NA                & NA                & NA                & NA                & ⋯                 & NA                & NA                & NA                & NA                & NA                & NA                & NA                &        NA         &          NA       &  NA              \\\\\n",
       "\t 17031980000       & Census Tract 9800 & 19680343          & 360284            & +41.9794881       & -087.9024050      &  0                &  0                &  0                &  0                & ⋯                 &  0                &  0                &  0                &  0                &  0                &  0                &  0                & 0.2226799         & 0.002177072       & 641              \\\\\n",
       "\t 17031980000       & Census Tract 9800 & 19680343          & 360284            & +41.9794881       & -087.9024050      &  0                &  0                &  0                &  0                & ⋯                 &  0                &  0                &  0                &  0                &  0                &  0                &  0                & 0.2226799         & 0.002177072       & 641              \\\\\n",
       "\\end{tabular}\n"
      ],
      "text/markdown": [
       "\n",
       "GEOID10 | NAMELSAD10 | ALAND10 | AWATER10 | INTPTLAT10 | INTPTLON10 | DP0010001 | DP0010002 | DP0010003 | DP0010004 | ⋯ | DP0210001 | DP0210002 | DP0210003 | DP0220001 | DP0220002 | DP0230001 | DP0230002 | Shape_Leng | Shape_Area | uniqueid | \n",
       "|---|---|---|\n",
       "| NA                | NA                |       NA          |     NA            | NA                | NA                | NA                | NA                | NA                | NA                | ⋯                 | NA                | NA                | NA                | NA                | NA                | NA                | NA                |        NA         |          NA       |  NA               | \n",
       "| 17031980000       | Census Tract 9800 | 19680343          | 360284            | +41.9794881       | -087.9024050      |  0                |  0                |  0                |  0                | ⋯                 |  0                |  0                |  0                |  0                |  0                |  0                |  0                | 0.2226799         | 0.002177072       | 641               | \n",
       "| 17031980000       | Census Tract 9800 | 19680343          | 360284            | +41.9794881       | -087.9024050      |  0                |  0                |  0                |  0                | ⋯                 |  0                |  0                |  0                |  0                |  0                |  0                |  0                | 0.2226799         | 0.002177072       | 641               | \n",
       "\n",
       "\n"
      ],
      "text/plain": [
       "  GEOID10     NAMELSAD10        ALAND10  AWATER10 INTPTLAT10  INTPTLON10  \n",
       "1 NA          NA                      NA     NA   NA          NA          \n",
       "2 17031980000 Census Tract 9800 19680343 360284   +41.9794881 -087.9024050\n",
       "3 17031980000 Census Tract 9800 19680343 360284   +41.9794881 -087.9024050\n",
       "  DP0010001 DP0010002 DP0010003 DP0010004 ⋯ DP0210001 DP0210002 DP0210003\n",
       "1 NA        NA        NA        NA        ⋯ NA        NA        NA       \n",
       "2  0         0         0         0        ⋯  0         0         0       \n",
       "3  0         0         0         0        ⋯  0         0         0       \n",
       "  DP0220001 DP0220002 DP0230001 DP0230002 Shape_Leng Shape_Area  uniqueid\n",
       "1 NA        NA        NA        NA               NA           NA  NA     \n",
       "2  0         0         0         0        0.2226799  0.002177072 641     \n",
       "3  0         0         0         0        0.2226799  0.002177072 641     "
      ]
     },
     "metadata": {},
     "output_type": "display_data"
    }
   ],
   "source": [
    "#Identify features that INTERSECT the selected feature\n",
    "BurglaryTracts <- over(inPtFeatures, subTracts)\n",
    "nrow(BurglaryTracts)\n",
    "head(BurglaryTracts, n = 3)"
   ]
  },
  {
   "cell_type": "markdown",
   "metadata": {},
   "source": [
    "### Linking Points with Polygons\n",
    "\n",
    "While in the previous step, we derived a table that associates the point features with a polygon, we still need to actually link the point dataset with the polygon attribute.  \n",
    "\n",
    "For each point feature, we can now create two new attributes. \n",
    "\n",
    "1) 'tractid' which will be set to the id of the associated Census tract that was linked to the point. \n",
    "\n",
    "2) 'uniqueid' which will be set to the 'uniqueid' that we attributed to the tract polygons earlier on. \n",
    "\n",
    "Examine the attributes of the updated point dataset."
   ]
  },
  {
   "cell_type": "code",
   "execution_count": 19,
   "metadata": {},
   "outputs": [
    {
     "data": {
      "text/html": [
       "<table>\n",
       "<thead><tr><th scope=col>CASE_</th><th scope=col>DATE__OF_O</th><th scope=col>BLOCK</th><th scope=col>IUCR</th><th scope=col>PRIMARY_DE</th><th scope=col>SECONDARY</th><th scope=col>LOCATION_D</th><th scope=col>ARREST</th><th scope=col>DOMESTIC</th><th scope=col>BEAT</th><th scope=col>WARD</th><th scope=col>FBI_CD</th><th scope=col>X_COORDINA</th><th scope=col>Y_COORDINA</th><th scope=col>LATITUDE</th><th scope=col>LONGITUDE</th><th scope=col>NumEvents</th><th scope=col>NumCrimes</th><th scope=col>utrackid</th></tr></thead>\n",
       "<tbody>\n",
       "\t<tr><td>HZ472453                          </td><td>2016/10/12                        </td><td>007XX W OHARE ST                  </td><td>1320                              </td><td>CRIMINAL DAMAGE                   </td><td>TO VEHICLE                        </td><td>AIRPORT EXTERIOR - SECURE AREA    </td><td>N                                 </td><td>N                                 </td><td>1654                              </td><td>41                                </td><td>14                                </td><td>1096020                           </td><td>1938449                           </td><td>41.98790                          </td><td>-87.92221                         </td><td>0                                 </td><td>1                                 </td><td> NA                               </td></tr>\n",
       "\t<tr><td>HZ463490                          </td><td>2016/10/06                        </td><td>0000X W C17 ST                    </td><td> 860                              </td><td>THEFT                             </td><td>RETAIL THEFT                      </td><td>SMALL RETAIL STORE                </td><td>N                                 </td><td>N                                 </td><td>1651                              </td><td>41                                </td><td> 6                                </td><td>1099330                           </td><td>1935025                           </td><td>41.97846                          </td><td>-87.91010                         </td><td>0                                 </td><td>1                                 </td><td>641                               </td></tr>\n",
       "\t<tr><td>HZ491339                          </td><td>2016/10/27                        </td><td>006XX W OHARE ST                  </td><td>1812                              </td><td>NARCOTICS                         </td><td>POSS: CANNABIS MORE THAN 30GMS    </td><td>AIRPORT EXTERIOR - NON-SECURE AREA</td><td>Y                                 </td><td>N                                 </td><td>1654                              </td><td>41                                </td><td>18                                </td><td>1100088                           </td><td>1926079                           </td><td>41.95390                          </td><td>-87.90747                         </td><td>0                                 </td><td>1                                 </td><td>641                               </td></tr>\n",
       "</tbody>\n",
       "</table>\n"
      ],
      "text/latex": [
       "\\begin{tabular}{r|lllllllllllllllllll}\n",
       " CASE\\_ & DATE\\_\\_OF\\_O & BLOCK & IUCR & PRIMARY\\_DE & SECONDARY & LOCATION\\_D & ARREST & DOMESTIC & BEAT & WARD & FBI\\_CD & X\\_COORDINA & Y\\_COORDINA & LATITUDE & LONGITUDE & NumEvents & NumCrimes & utrackid\\\\\n",
       "\\hline\n",
       "\t HZ472453                           & 2016/10/12                         & 007XX W OHARE ST                   & 1320                               & CRIMINAL DAMAGE                    & TO VEHICLE                         & AIRPORT EXTERIOR - SECURE AREA     & N                                  & N                                  & 1654                               & 41                                 & 14                                 & 1096020                            & 1938449                            & 41.98790                           & -87.92221                          & 0                                  & 1                                  &  NA                               \\\\\n",
       "\t HZ463490                           & 2016/10/06                         & 0000X W C17 ST                     &  860                               & THEFT                              & RETAIL THEFT                       & SMALL RETAIL STORE                 & N                                  & N                                  & 1651                               & 41                                 &  6                                 & 1099330                            & 1935025                            & 41.97846                           & -87.91010                          & 0                                  & 1                                  & 641                               \\\\\n",
       "\t HZ491339                           & 2016/10/27                         & 006XX W OHARE ST                   & 1812                               & NARCOTICS                          & POSS: CANNABIS MORE THAN 30GMS     & AIRPORT EXTERIOR - NON-SECURE AREA & Y                                  & N                                  & 1654                               & 41                                 & 18                                 & 1100088                            & 1926079                            & 41.95390                           & -87.90747                          & 0                                  & 1                                  & 641                               \\\\\n",
       "\\end{tabular}\n"
      ],
      "text/markdown": [
       "\n",
       "CASE_ | DATE__OF_O | BLOCK | IUCR | PRIMARY_DE | SECONDARY | LOCATION_D | ARREST | DOMESTIC | BEAT | WARD | FBI_CD | X_COORDINA | Y_COORDINA | LATITUDE | LONGITUDE | NumEvents | NumCrimes | utrackid | \n",
       "|---|---|---|\n",
       "| HZ472453                           | 2016/10/12                         | 007XX W OHARE ST                   | 1320                               | CRIMINAL DAMAGE                    | TO VEHICLE                         | AIRPORT EXTERIOR - SECURE AREA     | N                                  | N                                  | 1654                               | 41                                 | 14                                 | 1096020                            | 1938449                            | 41.98790                           | -87.92221                          | 0                                  | 1                                  |  NA                                | \n",
       "| HZ463490                           | 2016/10/06                         | 0000X W C17 ST                     |  860                               | THEFT                              | RETAIL THEFT                       | SMALL RETAIL STORE                 | N                                  | N                                  | 1651                               | 41                                 |  6                                 | 1099330                            | 1935025                            | 41.97846                           | -87.91010                          | 0                                  | 1                                  | 641                                | \n",
       "| HZ491339                           | 2016/10/27                         | 006XX W OHARE ST                   | 1812                               | NARCOTICS                          | POSS: CANNABIS MORE THAN 30GMS     | AIRPORT EXTERIOR - NON-SECURE AREA | Y                                  | N                                  | 1654                               | 41                                 | 18                                 | 1100088                            | 1926079                            | 41.95390                           | -87.90747                          | 0                                  | 1                                  | 641                                | \n",
       "\n",
       "\n"
      ],
      "text/plain": [
       "  CASE_    DATE__OF_O BLOCK            IUCR PRIMARY_DE     \n",
       "1 HZ472453 2016/10/12 007XX W OHARE ST 1320 CRIMINAL DAMAGE\n",
       "2 HZ463490 2016/10/06 0000X W C17 ST    860 THEFT          \n",
       "3 HZ491339 2016/10/27 006XX W OHARE ST 1812 NARCOTICS      \n",
       "  SECONDARY                      LOCATION_D                         ARREST\n",
       "1 TO VEHICLE                     AIRPORT EXTERIOR - SECURE AREA     N     \n",
       "2 RETAIL THEFT                   SMALL RETAIL STORE                 N     \n",
       "3 POSS: CANNABIS MORE THAN 30GMS AIRPORT EXTERIOR - NON-SECURE AREA Y     \n",
       "  DOMESTIC BEAT WARD FBI_CD X_COORDINA Y_COORDINA LATITUDE LONGITUDE NumEvents\n",
       "1 N        1654 41   14     1096020    1938449    41.98790 -87.92221 0        \n",
       "2 N        1651 41    6     1099330    1935025    41.97846 -87.91010 0        \n",
       "3 N        1654 41   18     1100088    1926079    41.95390 -87.90747 0        \n",
       "  NumCrimes utrackid\n",
       "1 1          NA     \n",
       "2 1         641     \n",
       "3 1         641     "
      ]
     },
     "metadata": {},
     "output_type": "display_data"
    }
   ],
   "source": [
    "#configure new variables\n",
    "inPtFeatures@data$utrackid <- BurglaryTracts$uniqueid\n",
    "head(inPtFeatures@data, n = 3)"
   ]
  },
  {
   "cell_type": "markdown",
   "metadata": {},
   "source": [
    "### Configure Data for Aggregation\n",
    "\n",
    "Now that the point data has been attributed with the associated polygons, we can begin to think about the aggregation process. We could proceed with aggregating the point featureclass data directly, but it contains a lot of different variables that are not really important for aggregation. As such, let's first select only a subset of attributes of the point dataframe that we can use in the aggregation process.  In this case, only the tractid, NumEvents, NumCrimes, and uniqueid fields are retained."
   ]
  },
  {
   "cell_type": "code",
   "execution_count": 20,
   "metadata": {},
   "outputs": [
    {
     "data": {
      "text/html": [
       "21679"
      ],
      "text/latex": [
       "21679"
      ],
      "text/markdown": [
       "21679"
      ],
      "text/plain": [
       "[1] 21679"
      ]
     },
     "metadata": {},
     "output_type": "display_data"
    },
    {
     "data": {
      "text/html": [
       "<table>\n",
       "<thead><tr><th scope=col>NumEvents</th><th scope=col>NumCrimes</th><th scope=col>utrackid</th></tr></thead>\n",
       "<tbody>\n",
       "\t<tr><td>0  </td><td>1  </td><td> NA</td></tr>\n",
       "\t<tr><td>0  </td><td>1  </td><td>641</td></tr>\n",
       "\t<tr><td>0  </td><td>1  </td><td>641</td></tr>\n",
       "\t<tr><td>0  </td><td>1  </td><td>641</td></tr>\n",
       "\t<tr><td>0  </td><td>1  </td><td> NA</td></tr>\n",
       "\t<tr><td>0  </td><td>1  </td><td>641</td></tr>\n",
       "</tbody>\n",
       "</table>\n"
      ],
      "text/latex": [
       "\\begin{tabular}{r|lll}\n",
       " NumEvents & NumCrimes & utrackid\\\\\n",
       "\\hline\n",
       "\t 0   & 1   &  NA\\\\\n",
       "\t 0   & 1   & 641\\\\\n",
       "\t 0   & 1   & 641\\\\\n",
       "\t 0   & 1   & 641\\\\\n",
       "\t 0   & 1   &  NA\\\\\n",
       "\t 0   & 1   & 641\\\\\n",
       "\\end{tabular}\n"
      ],
      "text/markdown": [
       "\n",
       "NumEvents | NumCrimes | utrackid | \n",
       "|---|---|---|---|---|---|\n",
       "| 0   | 1   |  NA | \n",
       "| 0   | 1   | 641 | \n",
       "| 0   | 1   | 641 | \n",
       "| 0   | 1   | 641 | \n",
       "| 0   | 1   |  NA | \n",
       "| 0   | 1   | 641 | \n",
       "\n",
       "\n"
      ],
      "text/plain": [
       "  NumEvents NumCrimes utrackid\n",
       "1 0         1          NA     \n",
       "2 0         1         641     \n",
       "3 0         1         641     \n",
       "4 0         1         641     \n",
       "5 0         1          NA     \n",
       "6 0         1         641     "
      ]
     },
     "metadata": {},
     "output_type": "display_data"
    }
   ],
   "source": [
    "#create a simplified dataset\n",
    "retainedvariables <- c(\"NumEvents\", \"NumCrimes\", \"utrackid\")\n",
    "polyevents <- inPtFeatures@data[retainedvariables]\n",
    "nrow(polyevents)\n",
    "head(polyevents)\n",
    "\n",
    "polyevents[] <- lapply(polyevents, function(x) type.convert(as.character(x)))"
   ]
  },
  {
   "cell_type": "markdown",
   "metadata": {},
   "source": [
    "### Aggregate Dataframe\n",
    "\n",
    "Now we can aggregate the simplified dataframe based on the tract associated with the point features using the aggregate() function. The field utractid references the id for the tract. Thus, points having the same utrackid value can be aggregated.  In this case, the sum function is applied to all other attributes. Thus, aggregating NumCrime will result in the total sum of the crimes in each polygon and NumEvents will be the total number of burglaries in each polygon. Examine the structure of the output of this proceedure. Note the Group.1 column will reflect the unique tract to which the points were aggregated and you should be able to relate it back with the uniqueid of the relative tract."
   ]
  },
  {
   "cell_type": "code",
   "execution_count": 21,
   "metadata": {},
   "outputs": [
    {
     "data": {
      "text/html": [
       "<table>\n",
       "<thead><tr><th scope=col>Group.1</th><th scope=col>NumEvents</th><th scope=col>NumCrimes</th><th scope=col>utrackid</th></tr></thead>\n",
       "<tbody>\n",
       "\t<tr><td>1  </td><td>0  </td><td>17 </td><td> 17</td></tr>\n",
       "\t<tr><td>2  </td><td>0  </td><td> 9 </td><td> 18</td></tr>\n",
       "\t<tr><td>3  </td><td>0  </td><td>37 </td><td>111</td></tr>\n",
       "</tbody>\n",
       "</table>\n"
      ],
      "text/latex": [
       "\\begin{tabular}{r|llll}\n",
       " Group.1 & NumEvents & NumCrimes & utrackid\\\\\n",
       "\\hline\n",
       "\t 1   & 0   & 17  &  17\\\\\n",
       "\t 2   & 0   &  9  &  18\\\\\n",
       "\t 3   & 0   & 37  & 111\\\\\n",
       "\\end{tabular}\n"
      ],
      "text/markdown": [
       "\n",
       "Group.1 | NumEvents | NumCrimes | utrackid | \n",
       "|---|---|---|\n",
       "| 1   | 0   | 17  |  17 | \n",
       "| 2   | 0   |  9  |  18 | \n",
       "| 3   | 0   | 37  | 111 | \n",
       "\n",
       "\n"
      ],
      "text/plain": [
       "  Group.1 NumEvents NumCrimes utrackid\n",
       "1 1       0         17         17     \n",
       "2 2       0          9         18     \n",
       "3 3       0         37        111     "
      ]
     },
     "metadata": {},
     "output_type": "display_data"
    }
   ],
   "source": [
    "#aggregate data\n",
    "aggregateevents <- aggregate(polyevents, by = list(polyevents$utrackid), FUN = sum)\n",
    "head(aggregateevents, n = 3)"
   ]
  },
  {
   "cell_type": "markdown",
   "metadata": {},
   "source": [
    "### Linking the Aggregate Data to the Tract Data\n",
    "\n",
    "At this point, the aggregated data need to be linked back to the appropriate tract. In this case, the merge() function is used to associate the Group.1 column of the aggregated data to the GEOID10 column of the tract polygons. Examine the structure of the output."
   ]
  },
  {
   "cell_type": "code",
   "execution_count": 22,
   "metadata": {},
   "outputs": [
    {
     "data": {
      "text/html": [
       "<table>\n",
       "<thead><tr><th scope=col>uniqueid</th><th scope=col>GEOID10</th><th scope=col>NAMELSAD10</th><th scope=col>ALAND10</th><th scope=col>AWATER10</th><th scope=col>INTPTLAT10</th><th scope=col>INTPTLON10</th><th scope=col>DP0010001</th><th scope=col>DP0010002</th><th scope=col>DP0010003</th><th scope=col>⋯</th><th scope=col>DP0210003</th><th scope=col>DP0220001</th><th scope=col>DP0220002</th><th scope=col>DP0230001</th><th scope=col>DP0230002</th><th scope=col>Shape_Leng</th><th scope=col>Shape_Area</th><th scope=col>NumEvents</th><th scope=col>NumCrimes</th><th scope=col>utrackid</th></tr></thead>\n",
       "<tbody>\n",
       "\t<tr><td>1                </td><td>17031840300      </td><td>Census Tract 8403</td><td> 831224          </td><td>0                </td><td>+41.8320943      </td><td>-087.6818822     </td><td>3950             </td><td>289              </td><td>281              </td><td>⋯                </td><td> 473             </td><td>2456             </td><td>1494             </td><td>3.51             </td><td>3.16             </td><td>0.05000424       </td><td>9.009214e-05     </td><td>0                </td><td>17               </td><td> 17              </td></tr>\n",
       "\t<tr><td>2                </td><td>17031840200      </td><td>Census Tract 8402</td><td> 831087          </td><td>0                </td><td>+41.8445748      </td><td>-087.6491915     </td><td>2338             </td><td>166              </td><td>148              </td><td>⋯                </td><td> 363             </td><td>1338             </td><td> 997             </td><td>3.28             </td><td>2.75             </td><td>0.04752789       </td><td>9.009521e-05     </td><td>0                </td><td> 9               </td><td> 18              </td></tr>\n",
       "\t<tr><td>3                </td><td>17031841100      </td><td>Census Tract 8411</td><td>1143247          </td><td>0                </td><td>+41.8510058      </td><td>-087.6350978     </td><td>7254             </td><td>349              </td><td>316              </td><td>⋯                </td><td>1582             </td><td>3001             </td><td>4251             </td><td>2.89             </td><td>2.69             </td><td>0.04833201       </td><td>1.239465e-04     </td><td>0                </td><td>37               </td><td>111              </td></tr>\n",
       "</tbody>\n",
       "</table>\n"
      ],
      "text/latex": [
       "\\begin{tabular}{r|llllllllllllllllllllllllllllllllllllllllllllllllllllllllllllllllllllllllllllllllllllllllllllllllllllllllllllllllllllllllllllllllllllllllllllllllllllllllllllllllllllllllllllllllllllllllllllllllllllll}\n",
       " uniqueid & GEOID10 & NAMELSAD10 & ALAND10 & AWATER10 & INTPTLAT10 & INTPTLON10 & DP0010001 & DP0010002 & DP0010003 & ⋯ & DP0210003 & DP0220001 & DP0220002 & DP0230001 & DP0230002 & Shape\\_Leng & Shape\\_Area & NumEvents & NumCrimes & utrackid\\\\\n",
       "\\hline\n",
       "\t 1                 & 17031840300       & Census Tract 8403 &  831224           & 0                 & +41.8320943       & -087.6818822      & 3950              & 289               & 281               & ⋯                 &  473              & 2456              & 1494              & 3.51              & 3.16              & 0.05000424        & 9.009214e-05      & 0                 & 17                &  17              \\\\\n",
       "\t 2                 & 17031840200       & Census Tract 8402 &  831087           & 0                 & +41.8445748       & -087.6491915      & 2338              & 166               & 148               & ⋯                 &  363              & 1338              &  997              & 3.28              & 2.75              & 0.04752789        & 9.009521e-05      & 0                 &  9                &  18              \\\\\n",
       "\t 3                 & 17031841100       & Census Tract 8411 & 1143247           & 0                 & +41.8510058       & -087.6350978      & 7254              & 349               & 316               & ⋯                 & 1582              & 3001              & 4251              & 2.89              & 2.69              & 0.04833201        & 1.239465e-04      & 0                 & 37                & 111              \\\\\n",
       "\\end{tabular}\n"
      ],
      "text/markdown": [
       "\n",
       "uniqueid | GEOID10 | NAMELSAD10 | ALAND10 | AWATER10 | INTPTLAT10 | INTPTLON10 | DP0010001 | DP0010002 | DP0010003 | ⋯ | DP0210003 | DP0220001 | DP0220002 | DP0230001 | DP0230002 | Shape_Leng | Shape_Area | NumEvents | NumCrimes | utrackid | \n",
       "|---|---|---|\n",
       "| 1                 | 17031840300       | Census Tract 8403 |  831224           | 0                 | +41.8320943       | -087.6818822      | 3950              | 289               | 281               | ⋯                 |  473              | 2456              | 1494              | 3.51              | 3.16              | 0.05000424        | 9.009214e-05      | 0                 | 17                |  17               | \n",
       "| 2                 | 17031840200       | Census Tract 8402 |  831087           | 0                 | +41.8445748       | -087.6491915      | 2338              | 166               | 148               | ⋯                 |  363              | 1338              |  997              | 3.28              | 2.75              | 0.04752789        | 9.009521e-05      | 0                 |  9                |  18               | \n",
       "| 3                 | 17031841100       | Census Tract 8411 | 1143247           | 0                 | +41.8510058       | -087.6350978      | 7254              | 349               | 316               | ⋯                 | 1582              | 3001              | 4251              | 2.89              | 2.69              | 0.04833201        | 1.239465e-04      | 0                 | 37                | 111               | \n",
       "\n",
       "\n"
      ],
      "text/plain": [
       "  uniqueid GEOID10     NAMELSAD10        ALAND10 AWATER10 INTPTLAT10 \n",
       "1 1        17031840300 Census Tract 8403  831224 0        +41.8320943\n",
       "2 2        17031840200 Census Tract 8402  831087 0        +41.8445748\n",
       "3 3        17031841100 Census Tract 8411 1143247 0        +41.8510058\n",
       "  INTPTLON10   DP0010001 DP0010002 DP0010003 ⋯ DP0210003 DP0220001 DP0220002\n",
       "1 -087.6818822 3950      289       281       ⋯  473      2456      1494     \n",
       "2 -087.6491915 2338      166       148       ⋯  363      1338       997     \n",
       "3 -087.6350978 7254      349       316       ⋯ 1582      3001      4251     \n",
       "  DP0230001 DP0230002 Shape_Leng Shape_Area   NumEvents NumCrimes utrackid\n",
       "1 3.51      3.16      0.05000424 9.009214e-05 0         17         17     \n",
       "2 3.28      2.75      0.04752789 9.009521e-05 0          9         18     \n",
       "3 2.89      2.69      0.04833201 1.239465e-04 0         37        111     "
      ]
     },
     "metadata": {},
     "output_type": "display_data"
    }
   ],
   "source": [
    "#merge aggregate data to tract polygons\n",
    "BTracts <- merge(subTracts@data, aggregateevents, by.x = \"uniqueid\", by.y = \"Group.1\", all = TRUE)\n",
    "head(BTracts, n = 3)"
   ]
  },
  {
   "cell_type": "markdown",
   "metadata": {},
   "source": [
    "### Sort the Merged Data\n",
    "\n",
    "Personally, I don't care for the merge() function given that it's output can be re-organized differently from the input. That is, the order of the merged tracts is different from the order of the tracts in the polygon dataset which makes directly linking them difficult.  However, this issue is easy to solve by sorting the output. Let's sort the output using the order() function based on the uniqueid attribute that we gave the tracts earlier."
   ]
  },
  {
   "cell_type": "code",
   "execution_count": 23,
   "metadata": {},
   "outputs": [
    {
     "data": {
      "text/html": [
       "<table>\n",
       "<thead><tr><th scope=col>uniqueid</th><th scope=col>GEOID10</th><th scope=col>NAMELSAD10</th><th scope=col>ALAND10</th><th scope=col>AWATER10</th><th scope=col>INTPTLAT10</th><th scope=col>INTPTLON10</th><th scope=col>DP0010001</th><th scope=col>DP0010002</th><th scope=col>DP0010003</th><th scope=col>⋯</th><th scope=col>DP0210003</th><th scope=col>DP0220001</th><th scope=col>DP0220002</th><th scope=col>DP0230001</th><th scope=col>DP0230002</th><th scope=col>Shape_Leng</th><th scope=col>Shape_Area</th><th scope=col>NumEvents</th><th scope=col>NumCrimes</th><th scope=col>utrackid</th></tr></thead>\n",
       "<tbody>\n",
       "\t<tr><td>1                </td><td>17031840300      </td><td>Census Tract 8403</td><td> 831224          </td><td>0                </td><td>+41.8320943      </td><td>-087.6818822     </td><td>3950             </td><td>289              </td><td>281              </td><td>⋯                </td><td> 473             </td><td>2456             </td><td>1494             </td><td>3.51             </td><td>3.16             </td><td>0.05000424       </td><td>9.009214e-05     </td><td>0                </td><td>17               </td><td> 17              </td></tr>\n",
       "\t<tr><td>2                </td><td>17031840200      </td><td>Census Tract 8402</td><td> 831087          </td><td>0                </td><td>+41.8445748      </td><td>-087.6491915     </td><td>2338             </td><td>166              </td><td>148              </td><td>⋯                </td><td> 363             </td><td>1338             </td><td> 997             </td><td>3.28             </td><td>2.75             </td><td>0.04752789       </td><td>9.009521e-05     </td><td>0                </td><td> 9               </td><td> 18              </td></tr>\n",
       "\t<tr><td>3                </td><td>17031841100      </td><td>Census Tract 8411</td><td>1143247          </td><td>0                </td><td>+41.8510058      </td><td>-087.6350978     </td><td>7254             </td><td>349              </td><td>316              </td><td>⋯                </td><td>1582             </td><td>3001             </td><td>4251             </td><td>2.89             </td><td>2.69             </td><td>0.04833201       </td><td>1.239465e-04     </td><td>0                </td><td>37               </td><td>111              </td></tr>\n",
       "</tbody>\n",
       "</table>\n"
      ],
      "text/latex": [
       "\\begin{tabular}{r|llllllllllllllllllllllllllllllllllllllllllllllllllllllllllllllllllllllllllllllllllllllllllllllllllllllllllllllllllllllllllllllllllllllllllllllllllllllllllllllllllllllllllllllllllllllllllllllllllllll}\n",
       " uniqueid & GEOID10 & NAMELSAD10 & ALAND10 & AWATER10 & INTPTLAT10 & INTPTLON10 & DP0010001 & DP0010002 & DP0010003 & ⋯ & DP0210003 & DP0220001 & DP0220002 & DP0230001 & DP0230002 & Shape\\_Leng & Shape\\_Area & NumEvents & NumCrimes & utrackid\\\\\n",
       "\\hline\n",
       "\t 1                 & 17031840300       & Census Tract 8403 &  831224           & 0                 & +41.8320943       & -087.6818822      & 3950              & 289               & 281               & ⋯                 &  473              & 2456              & 1494              & 3.51              & 3.16              & 0.05000424        & 9.009214e-05      & 0                 & 17                &  17              \\\\\n",
       "\t 2                 & 17031840200       & Census Tract 8402 &  831087           & 0                 & +41.8445748       & -087.6491915      & 2338              & 166               & 148               & ⋯                 &  363              & 1338              &  997              & 3.28              & 2.75              & 0.04752789        & 9.009521e-05      & 0                 &  9                &  18              \\\\\n",
       "\t 3                 & 17031841100       & Census Tract 8411 & 1143247           & 0                 & +41.8510058       & -087.6350978      & 7254              & 349               & 316               & ⋯                 & 1582              & 3001              & 4251              & 2.89              & 2.69              & 0.04833201        & 1.239465e-04      & 0                 & 37                & 111              \\\\\n",
       "\\end{tabular}\n"
      ],
      "text/markdown": [
       "\n",
       "uniqueid | GEOID10 | NAMELSAD10 | ALAND10 | AWATER10 | INTPTLAT10 | INTPTLON10 | DP0010001 | DP0010002 | DP0010003 | ⋯ | DP0210003 | DP0220001 | DP0220002 | DP0230001 | DP0230002 | Shape_Leng | Shape_Area | NumEvents | NumCrimes | utrackid | \n",
       "|---|---|---|\n",
       "| 1                 | 17031840300       | Census Tract 8403 |  831224           | 0                 | +41.8320943       | -087.6818822      | 3950              | 289               | 281               | ⋯                 |  473              | 2456              | 1494              | 3.51              | 3.16              | 0.05000424        | 9.009214e-05      | 0                 | 17                |  17               | \n",
       "| 2                 | 17031840200       | Census Tract 8402 |  831087           | 0                 | +41.8445748       | -087.6491915      | 2338              | 166               | 148               | ⋯                 |  363              | 1338              |  997              | 3.28              | 2.75              | 0.04752789        | 9.009521e-05      | 0                 |  9                |  18               | \n",
       "| 3                 | 17031841100       | Census Tract 8411 | 1143247           | 0                 | +41.8510058       | -087.6350978      | 7254              | 349               | 316               | ⋯                 | 1582              | 3001              | 4251              | 2.89              | 2.69              | 0.04833201        | 1.239465e-04      | 0                 | 37                | 111               | \n",
       "\n",
       "\n"
      ],
      "text/plain": [
       "  uniqueid GEOID10     NAMELSAD10        ALAND10 AWATER10 INTPTLAT10 \n",
       "1 1        17031840300 Census Tract 8403  831224 0        +41.8320943\n",
       "2 2        17031840200 Census Tract 8402  831087 0        +41.8445748\n",
       "3 3        17031841100 Census Tract 8411 1143247 0        +41.8510058\n",
       "  INTPTLON10   DP0010001 DP0010002 DP0010003 ⋯ DP0210003 DP0220001 DP0220002\n",
       "1 -087.6818822 3950      289       281       ⋯  473      2456      1494     \n",
       "2 -087.6491915 2338      166       148       ⋯  363      1338       997     \n",
       "3 -087.6350978 7254      349       316       ⋯ 1582      3001      4251     \n",
       "  DP0230001 DP0230002 Shape_Leng Shape_Area   NumEvents NumCrimes utrackid\n",
       "1 3.51      3.16      0.05000424 9.009214e-05 0         17         17     \n",
       "2 3.28      2.75      0.04752789 9.009521e-05 0          9         18     \n",
       "3 2.89      2.69      0.04833201 1.239465e-04 0         37        111     "
      ]
     },
     "metadata": {},
     "output_type": "display_data"
    }
   ],
   "source": [
    "#sort the merged data so it aligns with the order of the tract polygons.\n",
    "orderedTracts <- BTracts[order(BTracts$uniqueid), ]\n",
    "head(orderedTracts, n = 3)"
   ]
  },
  {
   "cell_type": "markdown",
   "metadata": {},
   "source": [
    "### Add Aggregated Attributes to Tract Polygons\n",
    "\n",
    "Now that the aggregated data has been linked back to each tract, let's create a new variable in the tract dataset to reflect the number of burglaries and number of total crimes that occured within each tract.  We can also add another variable that reflects the burglary rate per tract (burglaries in tract /total number of crimes in tract). Note that division by zero or null values was not an issue here, but could be if this task was implemented as part of a larger workflow. For example what might happen if some of the rows were set to NA (a logical value) in one iteration and then were to be set to a number in another iteration...R probably wouln't care for that I'm guessing."
   ]
  },
  {
   "cell_type": "code",
   "execution_count": 24,
   "metadata": {
    "collapsed": true
   },
   "outputs": [],
   "source": [
    "#compute new variables\n",
    "subTracts@data$NumBurglary <- orderedTracts$NumEvents\n",
    "subTracts@data$NumCrimes <- orderedTracts$NumCrimes\n",
    "subTracts@data$BurglaryRate <- subTracts@data$NumBurglary/subTracts@data$NumCrimes"
   ]
  },
  {
   "cell_type": "markdown",
   "metadata": {},
   "source": [
    "### Visualize the Aggregate Data\n",
    "\n",
    "Map the computed burglary rate."
   ]
  },
  {
   "cell_type": "code",
   "execution_count": 26,
   "metadata": {},
   "outputs": [
    {
     "name": "stderr",
     "output_type": "stream",
     "text": [
      "Warning message in classIntervals(subTracts@data$BurglaryRate, numcat, style = \"kmeans\"):\n",
      "“var has missing values, omitted in finding classes”"
     ]
    },
    {
     "data": {
      "image/png": "[encoded data removed]",
      "text/plain": [
       "Plot with title “Chicago Burglary Oct. 2016”"
      ]
     },
     "metadata": {},
     "output_type": "display_data"
    }
   ],
   "source": [
    "#classify the variable\n",
    "numcat <- 5\n",
    "cate <- classIntervals(subTracts@data$BurglaryRate, numcat, style=\"kmeans\")\n",
    "\n",
    "#plot the variable\n",
    "pal1 <- gray.colors(numcat)\n",
    "cols <- findColours(cate, pal1)\n",
    "plot(subTracts, col = cols, lwd = 0.2, main = \"Chicago Burglary Oct. 2016\", cex.main = 0.8)\n",
    "brks <- round(cate$brks, 3)\n",
    "leg.text <- paste(brks[-numcat], brks[-1], sep = \" - \")\n",
    "legend(\"bottomleft\", fill = attr(cols,\"palette\"), legend = leg.text, bty = \"n\", title = \"Burglary Rate\", cex = 0.7)"
   ]
  }
 ],
 "metadata": {
  "kernelspec": {
   "display_name": "R",
   "language": "R",
   "name": "ir"
  },
  "language_info": {
   "codemirror_mode": "r",
   "file_extension": ".r",
   "mimetype": "text/x-r-source",
   "name": "R",
   "pygments_lexer": "r",
   "version": "3.4.1"
  }
 },
 "nbformat": 4,
 "nbformat_minor": 2
}
