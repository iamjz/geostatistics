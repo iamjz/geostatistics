{
 "cells": [
  {
   "cell_type": "code",
   "execution_count": 1,
   "metadata": {},
   "outputs": [
    {
     "name": "stderr",
     "output_type": "stream",
     "text": [
      "Warning message:\n",
      "\"package 'rgdal' was built under R version 3.4.2\"Warning message:\n",
      "\"package 'sp' was built under R version 3.4.2\"Warning message:\n",
      "\"package 'spdep' was built under R version 3.4.2\"Warning message:\n",
      "\"package 'classInt' was built under R version 3.4.2\"Warning message:\n",
      "\"package 'GISTools' was built under R version 3.4.2\"Warning message:\n",
      "\"package 'maptools' was built under R version 3.4.2\"Warning message:\n",
      "\"package 'rgeos' was built under R version 3.4.2\""
     ]
    }
   ],
   "source": [
    "# Load relevant R packages\n",
    "inLibraries = list('repr','rgdal','spdep','classInt','GISTools','maptools','RColorBrewer')\n",
    "for (rpack in inLibraries) {\n",
    "  if (is.element(rpack,installed.packages()[,1])){           \n",
    "      #Load the library into R\n",
    "      suppressMessages(library(rpack,character.only = TRUE))      \n",
    "    }\n",
    "    else {\n",
    "        print(paste(\"Warning:  \",rpack,\" is not an installed package\"))\n",
    "    }\n",
    "}\n",
    "#resize plot area\n",
    "options(repr.plot.width=6, repr.plot.height=6)"
   ]
  },
  {
   "cell_type": "code",
   "execution_count": 2,
   "metadata": {},
   "outputs": [
    {
     "name": "stdout",
     "output_type": "stream",
     "text": [
      "OGR data source with driver: ESRI Shapefile \n",
      "Source: \"datasets/newyork_cancer\", layer: \"NYzipUTM\"\n",
      "with 1384 features\n",
      "It has 8 fields\n",
      "Integer64 fields read as strings:  PRIMARY ObsIncid \n"
     ]
    }
   ],
   "source": [
    "#Read in the featureclass\n",
    "polyFeatures <- readOGR(\"datasets/newyork_cancer\", \"NYzipUTM\")"
   ]
  },
  {
   "cell_type": "code",
   "execution_count": 3,
   "metadata": {},
   "outputs": [
    {
     "data": {
      "text/html": [
       "<table>\n",
       "<thead><tr><th></th><th scope=col>PRIMARY</th><th scope=col>COUNT</th><th scope=col>MalePop</th><th scope=col>ObsIncid</th><th scope=col>CRate</th><th scope=col>test</th><th scope=col>CRate2</th><th scope=col>crate3</th></tr></thead>\n",
       "<tbody>\n",
       "\t<tr><th scope=row>0</th><td>0          </td><td>3          </td><td>    0      </td><td>0          </td><td>0.000000000</td><td>0          </td><td>        NA </td><td>        NA </td></tr>\n",
       "\t<tr><th scope=row>1</th><td>10001      </td><td>1          </td><td> 9570      </td><td>54         </td><td>0.005642633</td><td>0          </td><td>0.00564263 </td><td>0.00564263 </td></tr>\n",
       "\t<tr><th scope=row>2</th><td>10002      </td><td>1          </td><td>37830      </td><td>190        </td><td>0.005022469</td><td>0          </td><td>0.00502247 </td><td>0.00502247 </td></tr>\n",
       "\t<tr><th scope=row>3</th><td>10003      </td><td>1          </td><td>25524      </td><td>160        </td><td>0.006268610</td><td>0          </td><td>0.00626861 </td><td>0.00626861 </td></tr>\n",
       "\t<tr><th scope=row>4</th><td>10005      </td><td>3          </td><td> 2283      </td><td>9          </td><td>0.003942181</td><td>0          </td><td>0.00394218 </td><td>0.00394218 </td></tr>\n",
       "\t<tr><th scope=row>5</th><td>10007      </td><td>1          </td><td> 5256      </td><td>13         </td><td>0.002473364</td><td>0          </td><td>0.00247336 </td><td>0.00247336 </td></tr>\n",
       "</tbody>\n",
       "</table>\n"
      ],
      "text/latex": [
       "\\begin{tabular}{r|llllllll}\n",
       "  & PRIMARY & COUNT & MalePop & ObsIncid & CRate & test & CRate2 & crate3\\\\\n",
       "\\hline\n",
       "\t0 & 0           & 3           &     0       & 0           & 0.000000000 & 0           &         NA  &         NA \\\\\n",
       "\t1 & 10001       & 1           &  9570       & 54          & 0.005642633 & 0           & 0.00564263  & 0.00564263 \\\\\n",
       "\t2 & 10002       & 1           & 37830       & 190         & 0.005022469 & 0           & 0.00502247  & 0.00502247 \\\\\n",
       "\t3 & 10003       & 1           & 25524       & 160         & 0.006268610 & 0           & 0.00626861  & 0.00626861 \\\\\n",
       "\t4 & 10005       & 3           &  2283       & 9           & 0.003942181 & 0           & 0.00394218  & 0.00394218 \\\\\n",
       "\t5 & 10007       & 1           &  5256       & 13          & 0.002473364 & 0           & 0.00247336  & 0.00247336 \\\\\n",
       "\\end{tabular}\n"
      ],
      "text/markdown": [
       "\n",
       "| <!--/--> | PRIMARY | COUNT | MalePop | ObsIncid | CRate | test | CRate2 | crate3 | \n",
       "|---|---|---|---|---|---|\n",
       "| 0 | 0           | 3           |     0       | 0           | 0.000000000 | 0           |         NA  |         NA  | \n",
       "| 1 | 10001       | 1           |  9570       | 54          | 0.005642633 | 0           | 0.00564263  | 0.00564263  | \n",
       "| 2 | 10002       | 1           | 37830       | 190         | 0.005022469 | 0           | 0.00502247  | 0.00502247  | \n",
       "| 3 | 10003       | 1           | 25524       | 160         | 0.006268610 | 0           | 0.00626861  | 0.00626861  | \n",
       "| 4 | 10005       | 3           |  2283       | 9           | 0.003942181 | 0           | 0.00394218  | 0.00394218  | \n",
       "| 5 | 10007       | 1           |  5256       | 13          | 0.002473364 | 0           | 0.00247336  | 0.00247336  | \n",
       "\n",
       "\n"
      ],
      "text/plain": [
       "  PRIMARY COUNT MalePop ObsIncid CRate       test CRate2     crate3    \n",
       "0 0       3         0   0        0.000000000 0            NA         NA\n",
       "1 10001   1      9570   54       0.005642633 0    0.00564263 0.00564263\n",
       "2 10002   1     37830   190      0.005022469 0    0.00502247 0.00502247\n",
       "3 10003   1     25524   160      0.006268610 0    0.00626861 0.00626861\n",
       "4 10005   3      2283   9        0.003942181 0    0.00394218 0.00394218\n",
       "5 10007   1      5256   13       0.002473364 0    0.00247336 0.00247336"
      ]
     },
     "metadata": {},
     "output_type": "display_data"
    }
   ],
   "source": [
    "peek <- head(polyFeatures@data)\n",
    "peek"
   ]
  },
  {
   "cell_type": "code",
   "execution_count": 4,
   "metadata": {
    "collapsed": true
   },
   "outputs": [],
   "source": [
    "data <- polyFeatures@data"
   ]
  },
  {
   "cell_type": "markdown",
   "metadata": {},
   "source": [
    "### Visualize the Zip Code Areas\n",
    "\n",
    "Map the zip code polygons so that you can visualize the features. Add a north arrow and scale bar for perspective. There are a variety of R libraries that can be used to add such map elements. For example, the sp library has some basic functions. Prettymapr has some quick and easy options, but doesn't offer much flexibility for positioning the elements. GISTools allows for more precise positioning, but requires specification of position in terms of map units (vs plot units) which can be more tedious. Regardless of the library used, the outputs are still a bit cheesy. In this case, the use of GISTools library is demonstrated. GISTools also needs to access function in the maptools and RColorBrewer libraries so those need to be added as well.  \n",
    "\n",
    "To add a north arrow and scale bar, a reference point is needed to position the element. In the example below, the extent (bounding box) of the polygons is used to retrieve the lower left coordinate of the bounding box. To add the north arrow, the north.arrow() function (GISTools library) can be used. To add the scale bar, the map.scale() function (GISTools library) can be used. Since the CRS is in meters, the positional,size arguements in the north arrow and scale bar must also be in meters. As you will see, the x and y anchor points for these elements were adjusted by some number so that they were positioned where I wanted them."
   ]
  },
  {
   "cell_type": "code",
   "execution_count": 5,
   "metadata": {},
   "outputs": [
    {
     "data": {
      "image/png": "[encoded data removed]",
      "text/plain": [
       "Plot with title \"NY Zip Code Areas\""
      ]
     },
     "metadata": {},
     "output_type": "display_data"
    }
   ],
   "source": [
    "#plot the zip code polygon features\n",
    "plot(polyFeatures, col = 'lightblue', lwd = 0.2, main = \"NY Zip Code Areas\", cex.main = 0.8)\n",
    "\n",
    "#add north arrow\n",
    "ext <- bbox(polyFeatures)\n",
    "xb <- ext[1,1]\n",
    "yb <- ext[2,1]\n",
    "north.arrow(xb + 100000, yb + 100000, len = 6000, lab = 'NORTH', cex.lab = .3, tcol = 'black', col = 'black')\n",
    "\n",
    "#add scale bar\n",
    "xc <- xb\n",
    "yc <- yb\n",
    "len <- 250000\n",
    "ndivs <- 4\n",
    "subdiv <- (len/1000)/ndivs\n",
    "map.scale(xc + 200000, yc + 50000, len, units = 'km', ndivs, subdiv, tcol = 'black', scol = 'black', sfcol = 'black')"
   ]
  },
  {
   "cell_type": "markdown",
   "metadata": {},
   "source": [
    "## Feature Attribute to Analyze\n",
    "\n",
    "In most geostatistical methods, an attribute(s) of a feature is to be analysed/displayed. For the New York dataset, we are evaluating prostate cancer incidence 'ObsIncid' which is the number of recorded occurences in the resident population. Given that the population can vary among the reporting areas (zip code areas in this case), it might be good to normalize the observations of cancer by the population of each area....something known as population density. However, since prostate cancer is likely limited to males, we can limit the population to the male population 'MalePop'.\n",
    "\n",
    "Note: If there are any cases where no male population exists in an area, then a division by zero problem could be encountered. To avoid this, NA values can be tested for in the result and replaced with zeros."
   ]
  },
  {
   "cell_type": "code",
   "execution_count": 6,
   "metadata": {},
   "outputs": [
    {
     "data": {
      "text/html": [
       "<table>\n",
       "<thead><tr><th></th><th scope=col>PRIMARY</th><th scope=col>COUNT</th><th scope=col>MalePop</th><th scope=col>ObsIncid</th><th scope=col>CRate</th><th scope=col>test</th><th scope=col>CRate2</th><th scope=col>crate3</th></tr></thead>\n",
       "<tbody>\n",
       "\t<tr><th scope=row>0</th><td>0          </td><td>3          </td><td>    0      </td><td>0          </td><td>0.000000000</td><td>0          </td><td>        NA </td><td>        NA </td></tr>\n",
       "\t<tr><th scope=row>1</th><td>10001      </td><td>1          </td><td> 9570      </td><td>54         </td><td>0.005642633</td><td>0          </td><td>0.00564263 </td><td>0.00564263 </td></tr>\n",
       "\t<tr><th scope=row>2</th><td>10002      </td><td>1          </td><td>37830      </td><td>190        </td><td>0.005022469</td><td>0          </td><td>0.00502247 </td><td>0.00502247 </td></tr>\n",
       "\t<tr><th scope=row>3</th><td>10003      </td><td>1          </td><td>25524      </td><td>160        </td><td>0.006268610</td><td>0          </td><td>0.00626861 </td><td>0.00626861 </td></tr>\n",
       "\t<tr><th scope=row>4</th><td>10005      </td><td>3          </td><td> 2283      </td><td>9          </td><td>0.003942181</td><td>0          </td><td>0.00394218 </td><td>0.00394218 </td></tr>\n",
       "\t<tr><th scope=row>5</th><td>10007      </td><td>1          </td><td> 5256      </td><td>13         </td><td>0.002473364</td><td>0          </td><td>0.00247336 </td><td>0.00247336 </td></tr>\n",
       "</tbody>\n",
       "</table>\n"
      ],
      "text/latex": [
       "\\begin{tabular}{r|llllllll}\n",
       "  & PRIMARY & COUNT & MalePop & ObsIncid & CRate & test & CRate2 & crate3\\\\\n",
       "\\hline\n",
       "\t0 & 0           & 3           &     0       & 0           & 0.000000000 & 0           &         NA  &         NA \\\\\n",
       "\t1 & 10001       & 1           &  9570       & 54          & 0.005642633 & 0           & 0.00564263  & 0.00564263 \\\\\n",
       "\t2 & 10002       & 1           & 37830       & 190         & 0.005022469 & 0           & 0.00502247  & 0.00502247 \\\\\n",
       "\t3 & 10003       & 1           & 25524       & 160         & 0.006268610 & 0           & 0.00626861  & 0.00626861 \\\\\n",
       "\t4 & 10005       & 3           &  2283       & 9           & 0.003942181 & 0           & 0.00394218  & 0.00394218 \\\\\n",
       "\t5 & 10007       & 1           &  5256       & 13          & 0.002473364 & 0           & 0.00247336  & 0.00247336 \\\\\n",
       "\\end{tabular}\n"
      ],
      "text/markdown": [
       "\n",
       "| <!--/--> | PRIMARY | COUNT | MalePop | ObsIncid | CRate | test | CRate2 | crate3 | \n",
       "|---|---|---|---|---|---|\n",
       "| 0 | 0           | 3           |     0       | 0           | 0.000000000 | 0           |         NA  |         NA  | \n",
       "| 1 | 10001       | 1           |  9570       | 54          | 0.005642633 | 0           | 0.00564263  | 0.00564263  | \n",
       "| 2 | 10002       | 1           | 37830       | 190         | 0.005022469 | 0           | 0.00502247  | 0.00502247  | \n",
       "| 3 | 10003       | 1           | 25524       | 160         | 0.006268610 | 0           | 0.00626861  | 0.00626861  | \n",
       "| 4 | 10005       | 3           |  2283       | 9           | 0.003942181 | 0           | 0.00394218  | 0.00394218  | \n",
       "| 5 | 10007       | 1           |  5256       | 13          | 0.002473364 | 0           | 0.00247336  | 0.00247336  | \n",
       "\n",
       "\n"
      ],
      "text/plain": [
       "  PRIMARY COUNT MalePop ObsIncid CRate       test CRate2     crate3    \n",
       "0 0       3         0   0        0.000000000 0            NA         NA\n",
       "1 10001   1      9570   54       0.005642633 0    0.00564263 0.00564263\n",
       "2 10002   1     37830   190      0.005022469 0    0.00502247 0.00502247\n",
       "3 10003   1     25524   160      0.006268610 0    0.00626861 0.00626861\n",
       "4 10005   3      2283   9        0.003942181 0    0.00394218 0.00394218\n",
       "5 10007   1      5256   13       0.002473364 0    0.00247336 0.00247336"
      ]
     },
     "metadata": {},
     "output_type": "display_data"
    }
   ],
   "source": [
    "peek"
   ]
  },
  {
   "cell_type": "code",
   "execution_count": 7,
   "metadata": {},
   "outputs": [
    {
     "name": "stdout",
     "output_type": "stream",
     "text": [
      "'data.frame':\t6 obs. of  8 variables:\n",
      " $ PRIMARY : Factor w/ 1384 levels \"0\",\"10001\",\"10002\",..: 1 2 3 4 5 6\n",
      " $ COUNT   : num  3 1 1 1 3 1\n",
      " $ MalePop : num  0 9570 37830 25524 2283 ...\n",
      " $ ObsIncid: Factor w/ 236 levels \"0\",\"1\",\"10\",\"100\",..: 1 188 95 68 227 36\n",
      " $ CRate   : num  0 0.00564 0.00502 0.00627 0.00394 ...\n",
      " $ test    : num  0 0 0 0 0 0\n",
      " $ CRate2  : num  NA 0.00564 0.00502 0.00627 0.00394 ...\n",
      " $ crate3  : num  NA 0.00564 0.00502 0.00627 0.00394 ...\n"
     ]
    }
   ],
   "source": [
    "str(peek)"
   ]
  },
  {
   "cell_type": "code",
   "execution_count": 8,
   "metadata": {
    "collapsed": true
   },
   "outputs": [],
   "source": [
    "# retrieve variables\n",
    "inVa <- as.numeric(as.character(polyFeatures$ObsIncid)) # number of recorded occurences in the resident population\n",
    "inVb <- as.numeric(as.character(polyFeatures$MalePop)) # male population"
   ]
  },
  {
   "cell_type": "code",
   "execution_count": 9,
   "metadata": {
    "collapsed": true
   },
   "outputs": [],
   "source": [
    "#incident rate variables\n",
    "VarA <- (inVa/inVb)\n",
    "\n",
    "#if a variable is Null/NaN, set to zero so there are no missing values\n",
    "VarA[is.nan(VarA)] <- 0\n",
    "VarA[!is.finite(VarA)] <- 0"
   ]
  },
  {
   "cell_type": "code",
   "execution_count": 10,
   "metadata": {},
   "outputs": [
    {
     "data": {
      "text/html": [
       "<ol class=list-inline>\n",
       "\t<li>0</li>\n",
       "\t<li>0.00564263322884012</li>\n",
       "\t<li>0.00502246893999471</li>\n",
       "\t<li>0.00626860993574675</li>\n",
       "\t<li>0.00394218134034166</li>\n",
       "\t<li>0.00247336377473364</li>\n",
       "\t<li>0.00578651454836459</li>\n",
       "\t<li>0.0075187969924812</li>\n",
       "\t<li>0.00585504579482247</li>\n",
       "\t<li>0.00517088147370122</li>\n",
       "</ol>\n"
      ],
      "text/latex": [
       "\\begin{enumerate*}\n",
       "\\item 0\n",
       "\\item 0.00564263322884012\n",
       "\\item 0.00502246893999471\n",
       "\\item 0.00626860993574675\n",
       "\\item 0.00394218134034166\n",
       "\\item 0.00247336377473364\n",
       "\\item 0.00578651454836459\n",
       "\\item 0.0075187969924812\n",
       "\\item 0.00585504579482247\n",
       "\\item 0.00517088147370122\n",
       "\\end{enumerate*}\n"
      ],
      "text/markdown": [
       "1. 0\n",
       "2. 0.00564263322884012\n",
       "3. 0.00502246893999471\n",
       "4. 0.00626860993574675\n",
       "5. 0.00394218134034166\n",
       "6. 0.00247336377473364\n",
       "7. 0.00578651454836459\n",
       "8. 0.0075187969924812\n",
       "9. 0.00585504579482247\n",
       "10. 0.00517088147370122\n",
       "\n",
       "\n"
      ],
      "text/plain": [
       " [1] 0.000000000 0.005642633 0.005022469 0.006268610 0.003942181 0.002473364\n",
       " [7] 0.005786515 0.007518797 0.005855046 0.005170881"
      ]
     },
     "metadata": {},
     "output_type": "display_data"
    }
   ],
   "source": [
    "VarA[1:10]"
   ]
  },
  {
   "cell_type": "code",
   "execution_count": 11,
   "metadata": {},
   "outputs": [
    {
     "data": {
      "text/html": [
       "1384"
      ],
      "text/latex": [
       "1384"
      ],
      "text/markdown": [
       "1384"
      ],
      "text/plain": [
       "[1] 1384"
      ]
     },
     "metadata": {},
     "output_type": "display_data"
    }
   ],
   "source": [
    "length(VarA)"
   ]
  },
  {
   "cell_type": "code",
   "execution_count": 12,
   "metadata": {},
   "outputs": [
    {
     "data": {
      "text/html": [
       "1384"
      ],
      "text/latex": [
       "1384"
      ],
      "text/markdown": [
       "1384"
      ],
      "text/plain": [
       "[1] 1384"
      ]
     },
     "metadata": {},
     "output_type": "display_data"
    }
   ],
   "source": [
    "length(data$MalePop)"
   ]
  },
  {
   "cell_type": "markdown",
   "metadata": {},
   "source": [
    "## Data Classification\n",
    "\n",
    "Given a continuous numerical variable, any number of categorization schemes can be applied. Each categorization scheme can convey a different message. As such, it is important to consider the alternatives and choose the one that best renders the variable of interest. The classIntervals library provides a range of data classification techniques that can be easily applied to your data.  \n",
    "\n",
    "\n",
    "Let's consider a few for mapping data. The classIntervals() function requires the name of the variable, the desired number of classes, and the style or type of classification. After the classInterval() function is applied, then findColours() (classIntervals library) can be called to assign a color scheme from 'colorRampPalette' to the classes identified.\n",
    "\n",
    "One of the variable returned by classIntervals() is 'brks', a vector of the values used to define breaks in the classification scheme. The paste() function can be used to generate a table of text break ranges. You might ask yourself how paste(brks.dec[-numcat], brks.dec[-1], sep=\" - \") is able to accomplish this. The key is the - argument in [-numcat] and [-1]. A good resource for referencing tricks like this is: https://cran.r-project.org/doc/contrib/Short-refcard.pdf"
   ]
  },
  {
   "cell_type": "code",
   "execution_count": 13,
   "metadata": {
    "collapsed": true
   },
   "outputs": [],
   "source": [
    "#Configure classification parameters\n",
    "numcat <- 6\n",
    "cate <- classIntervals(VarA, numcat, style=\"equal\")"
   ]
  },
  {
   "cell_type": "code",
   "execution_count": 14,
   "metadata": {},
   "outputs": [
    {
     "data": {
      "text/html": [
       "<ol class=list-inline>\n",
       "\t<li>'var'</li>\n",
       "\t<li>'brks'</li>\n",
       "</ol>\n"
      ],
      "text/latex": [
       "\\begin{enumerate*}\n",
       "\\item 'var'\n",
       "\\item 'brks'\n",
       "\\end{enumerate*}\n"
      ],
      "text/markdown": [
       "1. 'var'\n",
       "2. 'brks'\n",
       "\n",
       "\n"
      ],
      "text/plain": [
       "[1] \"var\"  \"brks\""
      ]
     },
     "metadata": {},
     "output_type": "display_data"
    }
   ],
   "source": [
    "names(cate)"
   ]
  },
  {
   "cell_type": "code",
   "execution_count": 15,
   "metadata": {},
   "outputs": [
    {
     "data": {
      "text/html": [
       "1384"
      ],
      "text/latex": [
       "1384"
      ],
      "text/markdown": [
       "1384"
      ],
      "text/plain": [
       "[1] 1384"
      ]
     },
     "metadata": {},
     "output_type": "display_data"
    }
   ],
   "source": [
    "length(cate$var)"
   ]
  },
  {
   "cell_type": "code",
   "execution_count": 16,
   "metadata": {},
   "outputs": [
    {
     "data": {
      "text/html": [
       "<ol class=list-inline>\n",
       "\t<li>0</li>\n",
       "\t<li>0.0190058479532164</li>\n",
       "\t<li>0.0380116959064327</li>\n",
       "\t<li>0.0570175438596491</li>\n",
       "\t<li>0.0760233918128655</li>\n",
       "\t<li>0.0950292397660819</li>\n",
       "\t<li>0.114035087719298</li>\n",
       "</ol>\n"
      ],
      "text/latex": [
       "\\begin{enumerate*}\n",
       "\\item 0\n",
       "\\item 0.0190058479532164\n",
       "\\item 0.0380116959064327\n",
       "\\item 0.0570175438596491\n",
       "\\item 0.0760233918128655\n",
       "\\item 0.0950292397660819\n",
       "\\item 0.114035087719298\n",
       "\\end{enumerate*}\n"
      ],
      "text/markdown": [
       "1. 0\n",
       "2. 0.0190058479532164\n",
       "3. 0.0380116959064327\n",
       "4. 0.0570175438596491\n",
       "5. 0.0760233918128655\n",
       "6. 0.0950292397660819\n",
       "7. 0.114035087719298\n",
       "\n",
       "\n"
      ],
      "text/plain": [
       "[1] 0.00000000 0.01900585 0.03801170 0.05701754 0.07602339 0.09502924 0.11403509"
      ]
     },
     "metadata": {},
     "output_type": "display_data"
    }
   ],
   "source": [
    "cate$brks"
   ]
  },
  {
   "cell_type": "code",
   "execution_count": 17,
   "metadata": {
    "collapsed": true
   },
   "outputs": [],
   "source": [
    "#assign colors to categories\n",
    "pal <- gray.colors(numcat)\n",
    "cols <- findColours(cate, pal)"
   ]
  },
  {
   "cell_type": "code",
   "execution_count": 18,
   "metadata": {},
   "outputs": [
    {
     "data": {
      "text/html": [
       "<ol class=list-inline>\n",
       "\t<li>'#4D4D4D'</li>\n",
       "\t<li>'#7F7F7F'</li>\n",
       "\t<li>'#A0A0A0'</li>\n",
       "\t<li>'#BBBBBB'</li>\n",
       "\t<li>'#D1D1D1'</li>\n",
       "\t<li>'#E6E6E6'</li>\n",
       "</ol>\n"
      ],
      "text/latex": [
       "\\begin{enumerate*}\n",
       "\\item '\\#4D4D4D'\n",
       "\\item '\\#7F7F7F'\n",
       "\\item '\\#A0A0A0'\n",
       "\\item '\\#BBBBBB'\n",
       "\\item '\\#D1D1D1'\n",
       "\\item '\\#E6E6E6'\n",
       "\\end{enumerate*}\n"
      ],
      "text/markdown": [
       "1. '#4D4D4D'\n",
       "2. '#7F7F7F'\n",
       "3. '#A0A0A0'\n",
       "4. '#BBBBBB'\n",
       "5. '#D1D1D1'\n",
       "6. '#E6E6E6'\n",
       "\n",
       "\n"
      ],
      "text/plain": [
       "[1] \"#4D4D4D\" \"#7F7F7F\" \"#A0A0A0\" \"#BBBBBB\" \"#D1D1D1\" \"#E6E6E6\""
      ]
     },
     "metadata": {},
     "output_type": "display_data"
    }
   ],
   "source": [
    "pal"
   ]
  },
  {
   "cell_type": "code",
   "execution_count": 19,
   "metadata": {},
   "outputs": [
    {
     "data": {
      "text/html": [
       "<ol class=list-inline>\n",
       "\t<li>'#4D4D4D'</li>\n",
       "\t<li>'#4D4D4D'</li>\n",
       "\t<li>'#4D4D4D'</li>\n",
       "\t<li>'#4D4D4D'</li>\n",
       "\t<li>'#4D4D4D'</li>\n",
       "\t<li>'#4D4D4D'</li>\n",
       "\t<li>'#4D4D4D'</li>\n",
       "\t<li>'#4D4D4D'</li>\n",
       "\t<li>'#4D4D4D'</li>\n",
       "\t<li>'#4D4D4D'</li>\n",
       "\t<li>'#4D4D4D'</li>\n",
       "\t<li>'#4D4D4D'</li>\n",
       "\t<li>'#4D4D4D'</li>\n",
       "\t<li>'#4D4D4D'</li>\n",
       "\t<li>'#4D4D4D'</li>\n",
       "\t<li>'#4D4D4D'</li>\n",
       "\t<li>'#7F7F7F'</li>\n",
       "\t<li>'#4D4D4D'</li>\n",
       "\t<li>'#4D4D4D'</li>\n",
       "\t<li>'#4D4D4D'</li>\n",
       "</ol>\n"
      ],
      "text/latex": [
       "\\begin{enumerate*}\n",
       "\\item '\\#4D4D4D'\n",
       "\\item '\\#4D4D4D'\n",
       "\\item '\\#4D4D4D'\n",
       "\\item '\\#4D4D4D'\n",
       "\\item '\\#4D4D4D'\n",
       "\\item '\\#4D4D4D'\n",
       "\\item '\\#4D4D4D'\n",
       "\\item '\\#4D4D4D'\n",
       "\\item '\\#4D4D4D'\n",
       "\\item '\\#4D4D4D'\n",
       "\\item '\\#4D4D4D'\n",
       "\\item '\\#4D4D4D'\n",
       "\\item '\\#4D4D4D'\n",
       "\\item '\\#4D4D4D'\n",
       "\\item '\\#4D4D4D'\n",
       "\\item '\\#4D4D4D'\n",
       "\\item '\\#7F7F7F'\n",
       "\\item '\\#4D4D4D'\n",
       "\\item '\\#4D4D4D'\n",
       "\\item '\\#4D4D4D'\n",
       "\\end{enumerate*}\n"
      ],
      "text/markdown": [
       "1. '#4D4D4D'\n",
       "2. '#4D4D4D'\n",
       "3. '#4D4D4D'\n",
       "4. '#4D4D4D'\n",
       "5. '#4D4D4D'\n",
       "6. '#4D4D4D'\n",
       "7. '#4D4D4D'\n",
       "8. '#4D4D4D'\n",
       "9. '#4D4D4D'\n",
       "10. '#4D4D4D'\n",
       "11. '#4D4D4D'\n",
       "12. '#4D4D4D'\n",
       "13. '#4D4D4D'\n",
       "14. '#4D4D4D'\n",
       "15. '#4D4D4D'\n",
       "16. '#4D4D4D'\n",
       "17. '#7F7F7F'\n",
       "18. '#4D4D4D'\n",
       "19. '#4D4D4D'\n",
       "20. '#4D4D4D'\n",
       "\n",
       "\n"
      ],
      "text/plain": [
       " [1] \"#4D4D4D\" \"#4D4D4D\" \"#4D4D4D\" \"#4D4D4D\" \"#4D4D4D\" \"#4D4D4D\" \"#4D4D4D\"\n",
       " [8] \"#4D4D4D\" \"#4D4D4D\" \"#4D4D4D\" \"#4D4D4D\" \"#4D4D4D\" \"#4D4D4D\" \"#4D4D4D\"\n",
       "[15] \"#4D4D4D\" \"#4D4D4D\" \"#7F7F7F\" \"#4D4D4D\" \"#4D4D4D\" \"#4D4D4D\""
      ]
     },
     "metadata": {},
     "output_type": "display_data"
    }
   ],
   "source": [
    "cols[1:20]"
   ]
  },
  {
   "cell_type": "code",
   "execution_count": 20,
   "metadata": {},
   "outputs": [
    {
     "data": {
      "text/html": [
       "<ol class=list-inline>\n",
       "\t<li>0</li>\n",
       "\t<li>0.00564263322884012</li>\n",
       "\t<li>0.00502246893999471</li>\n",
       "\t<li>0.00626860993574675</li>\n",
       "\t<li>0.00394218134034166</li>\n",
       "\t<li>0.00247336377473364</li>\n",
       "\t<li>0.00578651454836459</li>\n",
       "\t<li>0.0075187969924812</li>\n",
       "\t<li>0.00585504579482247</li>\n",
       "\t<li>0.00517088147370122</li>\n",
       "\t<li>0.00505545914132649</li>\n",
       "\t<li>0.0072007200720072</li>\n",
       "\t<li>0.00619208087615838</li>\n",
       "\t<li>0.00919507709718489</li>\n",
       "\t<li>0.00344036697247706</li>\n",
       "\t<li>0.00638266290633813</li>\n",
       "\t<li>0.0247116968698517</li>\n",
       "\t<li>0.0134318811740459</li>\n",
       "\t<li>0.00719146846277977</li>\n",
       "\t<li>0.0102151618741202</li>\n",
       "</ol>\n"
      ],
      "text/latex": [
       "\\begin{enumerate*}\n",
       "\\item 0\n",
       "\\item 0.00564263322884012\n",
       "\\item 0.00502246893999471\n",
       "\\item 0.00626860993574675\n",
       "\\item 0.00394218134034166\n",
       "\\item 0.00247336377473364\n",
       "\\item 0.00578651454836459\n",
       "\\item 0.0075187969924812\n",
       "\\item 0.00585504579482247\n",
       "\\item 0.00517088147370122\n",
       "\\item 0.00505545914132649\n",
       "\\item 0.0072007200720072\n",
       "\\item 0.00619208087615838\n",
       "\\item 0.00919507709718489\n",
       "\\item 0.00344036697247706\n",
       "\\item 0.00638266290633813\n",
       "\\item 0.0247116968698517\n",
       "\\item 0.0134318811740459\n",
       "\\item 0.00719146846277977\n",
       "\\item 0.0102151618741202\n",
       "\\end{enumerate*}\n"
      ],
      "text/markdown": [
       "1. 0\n",
       "2. 0.00564263322884012\n",
       "3. 0.00502246893999471\n",
       "4. 0.00626860993574675\n",
       "5. 0.00394218134034166\n",
       "6. 0.00247336377473364\n",
       "7. 0.00578651454836459\n",
       "8. 0.0075187969924812\n",
       "9. 0.00585504579482247\n",
       "10. 0.00517088147370122\n",
       "11. 0.00505545914132649\n",
       "12. 0.0072007200720072\n",
       "13. 0.00619208087615838\n",
       "14. 0.00919507709718489\n",
       "15. 0.00344036697247706\n",
       "16. 0.00638266290633813\n",
       "17. 0.0247116968698517\n",
       "18. 0.0134318811740459\n",
       "19. 0.00719146846277977\n",
       "20. 0.0102151618741202\n",
       "\n",
       "\n"
      ],
      "text/plain": [
       " [1] 0.000000000 0.005642633 0.005022469 0.006268610 0.003942181 0.002473364\n",
       " [7] 0.005786515 0.007518797 0.005855046 0.005170881 0.005055459 0.007200720\n",
       "[13] 0.006192081 0.009195077 0.003440367 0.006382663 0.024711697 0.013431881\n",
       "[19] 0.007191468 0.010215162"
      ]
     },
     "metadata": {},
     "output_type": "display_data"
    }
   ],
   "source": [
    "cate$var[1:20]"
   ]
  },
  {
   "cell_type": "code",
   "execution_count": 21,
   "metadata": {},
   "outputs": [
    {
     "data": {
      "image/png": "[encoded data removed]",
      "text/plain": [
       "Plot with title \"Equal Intervals\""
      ]
     },
     "metadata": {},
     "output_type": "display_data"
    }
   ],
   "source": [
    "#Map classification scheme\n",
    "\n",
    "decimalPlaces <- 3\n",
    "\n",
    "plot(polyFeatures, col = cols, lwd = 0.2, main = \"Equal Intervals\",cex.main = 0.8)\n",
    "\n",
    "brks.dec <- round(cate$brks,decimalPlaces)\n",
    "\n",
    "leg.text <- paste(brks.dec[-numcat], brks.dec[-1], sep=\" - \")\n",
    "\n",
    "legend(\"bottomleft\", fill = attr(cols, \"palette\"), legend = leg.text, \n",
    "               bty = \"n\", title = \"Cancer Rate\", cex = 0.7)"
   ]
  },
  {
   "cell_type": "markdown",
   "metadata": {},
   "source": [
    "### Quantiles\n",
    "\n",
    "Quantiles reflect a partioning of the dataset into categories containing roughly similar numbers of observations."
   ]
  },
  {
   "cell_type": "code",
   "execution_count": 22,
   "metadata": {},
   "outputs": [
    {
     "data": {
      "image/png": "[encoded data removed]",
      "text/plain": [
       "Plot with title \"Quantiles\""
      ]
     },
     "metadata": {},
     "output_type": "display_data"
    }
   ],
   "source": [
    "#Configure classification parameters\n",
    "\n",
    "numcat <- 6\n",
    "cate <- classIntervals(VarA, numcat, style = \"quantile\")\n",
    "\n",
    "#assign colors to categories\n",
    "\n",
    "pal <- gray.colors(numcat)\n",
    "cols <- findColours(cate, pal)\n",
    "\n",
    "#Map classification scheme\n",
    "\n",
    "decimalPlaces <- 3\n",
    "\n",
    "plot(polyFeatures, col = cols, lwd = 0.2, main = \"Quantiles\", cex.main = 0.8)\n",
    "\n",
    "brks.dec <- round(cate$brks, decimalPlaces)\n",
    "\n",
    "leg.text <- paste(brks.dec[-numcat], brks.dec[-1], sep=\" - \")\n",
    "\n",
    "legend(\"bottomleft\", fill = attr(cols,\"palette\"), \n",
    "       legend = leg.text, bty = \"n\", title = \"Cancer Rate\", cex = 0.7)"
   ]
  },
  {
   "cell_type": "markdown",
   "metadata": {},
   "source": [
    "### k-means\n",
    "\n",
    "kmeans() involves the use of a clustering algorithm to associate the data with one of k categories. As such, there is a possibility that it can get stuck in a local optimal when trying to reach a globally optimal solution. To address this potential problem, the 'rtimes' parameter can be set to configure the number of times to re-evaluate the variable when assessing potential classification schemes."
   ]
  },
  {
   "cell_type": "code",
   "execution_count": 23,
   "metadata": {},
   "outputs": [
    {
     "data": {
      "image/png": "[encoded data removed]",
      "text/plain": [
       "Plot with title \"k-means Method\""
      ]
     },
     "metadata": {},
     "output_type": "display_data"
    }
   ],
   "source": [
    "#Configure classification parameters\n",
    "numcat <- 6\n",
    "repeattimes <- 25\n",
    "cate <- classIntervals(VarA, numcat, style = \"kmeans\", rtimes = repeattimes)\n",
    "\n",
    "#assign colors to categories\n",
    "pal <- gray.colors(numcat)\n",
    "cols <- findColours(cate, pal)\n",
    "\n",
    "#map classification scheme\n",
    "decimalPlaces <- 3\n",
    "plot(polyFeatures, col = cols, lwd = 0.2, main = \"k-means Method\", cex.main = 0.8)\n",
    "brks.dec <- round(cate$brks,decimalPlaces)\n",
    "leg.text <- paste(brks.dec[-numcat], brks.dec[-1], sep=\" - \")\n",
    "\n",
    "legend(\"bottomleft\", fill = attr(cols,\"palette\"), legend = leg.text,\n",
    "                           bty = \"n\", title = \"Cancer Rate\", cex = 0.7)"
   ]
  },
  {
   "cell_type": "markdown",
   "metadata": {},
   "source": [
    "### Jenks Methods\n",
    "\n",
    "jenks() is an other algorithmic method for identifying 'natural' breaks in the dataset. For the jenks method, a goodness-of-fit metric (jenks.tests()) is offered by classIntervals. This metric allows one to assess how well the number of classes represent the characteristics of the data. This method is more computationally demanding, so you may notice that it takes longer to complete than the other methods."
   ]
  },
  {
   "cell_type": "code",
   "execution_count": 24,
   "metadata": {},
   "outputs": [
    {
     "data": {
      "text/html": [
       "<dl class=dl-horizontal>\n",
       "\t<dt># classes</dt>\n",
       "\t\t<dd>6</dd>\n",
       "\t<dt>Goodness of fit</dt>\n",
       "\t\t<dd>0.907897730384286</dd>\n",
       "\t<dt>Tabular accuracy</dt>\n",
       "\t\t<dd>0.64136094625089</dd>\n",
       "</dl>\n"
      ],
      "text/latex": [
       "\\begin{description*}\n",
       "\\item[\\textbackslash{}\\# classes] 6\n",
       "\\item[Goodness of fit] 0.907897730384286\n",
       "\\item[Tabular accuracy] 0.64136094625089\n",
       "\\end{description*}\n"
      ],
      "text/markdown": [
       "# classes\n",
       ":   6Goodness of fit\n",
       ":   0.907897730384286Tabular accuracy\n",
       ":   0.64136094625089\n",
       "\n"
      ],
      "text/plain": [
       "       # classes  Goodness of fit Tabular accuracy \n",
       "       6.0000000        0.9078977        0.6413609 "
      ]
     },
     "metadata": {},
     "output_type": "display_data"
    },
    {
     "data": {
      "image/png": "[encoded data removed]",
      "text/plain": [
       "Plot with title \"Jenks Method\""
      ]
     },
     "metadata": {},
     "output_type": "display_data"
    }
   ],
   "source": [
    "#Configure classification parameters\n",
    "numcat <- 6\n",
    "cate <- classIntervals(VarA, numcat, style = \"jenks\")\n",
    "\n",
    "#test jenks categories for goodness of fit\n",
    "jenksTestResults <- jenks.tests(cate)\n",
    "jenksTestResults\n",
    "\n",
    "#assign colors to categories\n",
    "pal <- gray.colors(numcat)\n",
    "cols <- findColours(cate,pal)\n",
    "\n",
    "#map classification scheme\n",
    "decimalPlaces <- 3\n",
    "plot(polyFeatures, col = cols, lwd=.2, main=\"Jenks Method\",cex.main=.8)\n",
    "brks.dec <- round(cate$brks,decimalPlaces)\n",
    "leg.text <- paste(brks.dec[-numcat], brks.dec[-1], sep=\" - \")\n",
    "legend(\"bottomleft\",fill=attr(cols,\"palette\"),legend=leg.text,bty=\"n\",title=\"Cancer Rate\",cex=.7)"
   ]
  },
  {
   "cell_type": "markdown",
   "metadata": {},
   "source": [
    "### Bagged Cluster\n",
    "\n",
    "hclust() also involves the use of an algorithm. As such, there is a possibility that it can get stuck when trying to reach a optimal solution. To address this potential problem, the 'rtimes' parameter can be set to configure the number of times to re-evaluate the variable when assessing potential classification schemes."
   ]
  },
  {
   "cell_type": "code",
   "execution_count": 25,
   "metadata": {},
   "outputs": [
    {
     "data": {
      "image/png": "[encoded data removed]",
      "text/plain": [
       "Plot with title \"Bagged Cluster\""
      ]
     },
     "metadata": {},
     "output_type": "display_data"
    }
   ],
   "source": [
    "#Configure classification parameters\n",
    "numcat <- 6\n",
    "repeattimes <- 25\n",
    "cate <- classIntervals(VarA, numcat, style=\"hclust\", rtimes=repeattimes)\n",
    "\n",
    "#assign colors to categories\n",
    "pal <- gray.colors(numcat)\n",
    "cols <- findColours(cate,pal)\n",
    "\n",
    "#Map classification scheme\n",
    "decimalPlaces <- 3\n",
    "plot(polyFeatures,col=cols, lwd=.2, main=\"Bagged Cluster\",cex.main=.8)\n",
    "brks.dec <- round(cate$brks,decimalPlaces)\n",
    "leg.text <- paste(brks.dec[-numcat], brks.dec[-1], sep=\" - \")\n",
    "legend(\"bottomleft\",fill=attr(cols,\"palette\"),legend=leg.text,bty=\"n\",title=\"Cancer Rate\",cex=.7)"
   ]
  }
 ],
 "metadata": {
  "kernelspec": {
   "display_name": "R",
   "language": "R",
   "name": "ir"
  },
  "language_info": {
   "codemirror_mode": "r",
   "file_extension": ".r",
   "mimetype": "text/x-r-source",
   "name": "R",
   "pygments_lexer": "r",
   "version": "3.4.1"
  }
 },
 "nbformat": 4,
 "nbformat_minor": 2
}
