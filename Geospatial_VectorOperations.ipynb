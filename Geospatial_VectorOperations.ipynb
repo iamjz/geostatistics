{
 "cells": [
  {
   "cell_type": "markdown",
   "metadata": {},
   "source": [
    "# Geospatial - Vector Operations\n",
    "\n",
    "Spatial operations involving vector data"
   ]
  },
  {
   "cell_type": "markdown",
   "metadata": {},
   "source": [
    "## Check libraries"
   ]
  },
  {
   "cell_type": "code",
   "execution_count": 2,
   "metadata": {},
   "outputs": [],
   "source": [
    "# Load relevant R packages\n",
    "inLibraries = list('repr','rgdal','rgeos')\n",
    "for (rpack in inLibraries) {\n",
    "  if (is.element(rpack,installed.packages()[,1])){\n",
    "      #Load the library into R\n",
    "      suppressMessages(library(rpack,character.only = TRUE))\n",
    "    }\n",
    "    else {\n",
    "        print(paste(\"Warning:  \",rpack,\" is not an installed package\"))\n",
    "    }\n",
    "}\n",
    "#resize plot area\n",
    "options(repr.plot.width=6, repr.plot.height=6)"
   ]
  },
  {
   "cell_type": "markdown",
   "metadata": {},
   "source": [
    "## Vector Operations  (points, lines, polygons)\n",
    "\n",
    "There are a variety of vector operations supported by functions in R. Let's explore a few of these using the Puerto Rico .shp file (puertorico/PuertoRicoUTM.shp) which contains polygons representing administrative areas of the territory.  First, read the shp file and then display the polygons on the screen."
   ]
  },
  {
   "cell_type": "code",
   "execution_count": 3,
   "metadata": {},
   "outputs": [
    {
     "name": "stdout",
     "output_type": "stream",
     "text": [
      "OGR data source with driver: ESRI Shapefile \n",
      "Source: \"datasets/puertorico\", layer: \"PuertoRicoUTM\"\n",
      "with 73 features\n",
      "It has 10 fields\n",
      "Integer64 fields read as strings:  ID cuerdas_07 cuerdas_02 \n"
     ]
    }
   ],
   "source": [
    "# read in shp file \n",
    "ppolys <- readOGR(\"datasets/puertorico\", \"PuertoRicoUTM\")"
   ]
  },
  {
   "cell_type": "code",
   "execution_count": 4,
   "metadata": {},
   "outputs": [
    {
     "data": {
      "image/png": "[encoded data removed]",
      "text/plain": [
       "Plot with title \"Puerto Rico Admin Areas\""
      ]
     },
     "metadata": {},
     "output_type": "display_data"
    }
   ],
   "source": [
    "# map shp file\n",
    "\n",
    "plot(ppolys, col = \"yellow\", main = \"Puerto Rico Admin Areas\", cex.main = 0.8)"
   ]
  },
  {
   "cell_type": "markdown",
   "metadata": {},
   "source": [
    "## Geometric Union\n",
    "\n",
    "Whether working with points, line or polygons, one common operation involves assessing the geometric union among geometries. For example, a set of connected lines can be transformed into a single line, a set of adjacent polygons can be transformed into a single polygon, etc.\n",
    "\n",
    "To examine how unions of features work, let's select a set of administrative areas in Puerto Rico, that of Coamo, Aibonito, Jayuya, and Barranquitas."
   ]
  },
  {
   "cell_type": "code",
   "execution_count": 15,
   "metadata": {},
   "outputs": [
    {
     "data": {
      "text/html": [
       "<ol class=list-inline>\n",
       "\t<li>'COAMO'</li>\n",
       "\t<li>'AIBONITO'</li>\n",
       "\t<li>'BARRANQUITAS'</li>\n",
       "\t<li>'JAYUYA'</li>\n",
       "</ol>\n"
      ],
      "text/latex": [
       "\\begin{enumerate*}\n",
       "\\item 'COAMO'\n",
       "\\item 'AIBONITO'\n",
       "\\item 'BARRANQUITAS'\n",
       "\\item 'JAYUYA'\n",
       "\\end{enumerate*}\n"
      ],
      "text/markdown": [
       "1. 'COAMO'\n",
       "2. 'AIBONITO'\n",
       "3. 'BARRANQUITAS'\n",
       "4. 'JAYUYA'\n",
       "\n",
       "\n"
      ],
      "text/plain": [
       "[1] \"COAMO\"        \"AIBONITO\"     \"BARRANQUITAS\" \"JAYUYA\"      "
      ]
     },
     "metadata": {},
     "output_type": "display_data"
    }
   ],
   "source": [
    "# select a set of features to examine\n",
    "\n",
    "selAreas <- c(\"COAMO\", \"AIBONITO\", \"BARRANQUITAS\", \"JAYUYA\")\n",
    "selAreas"
   ]
  },
  {
   "cell_type": "code",
   "execution_count": 19,
   "metadata": {},
   "outputs": [
    {
     "data": {
      "text/html": [
       "<ol class=list-inline>\n",
       "\t<li>'MUNICIPALI'</li>\n",
       "\t<li>'NUM'</li>\n",
       "\t<li>'ADM'</li>\n",
       "\t<li>'ID'</li>\n",
       "\t<li>'nofarms_07'</li>\n",
       "\t<li>'nofarms_02'</li>\n",
       "\t<li>'cuerdas_07'</li>\n",
       "\t<li>'cuerdas_02'</li>\n",
       "\t<li>'area'</li>\n",
       "\t<li>'popden'</li>\n",
       "</ol>\n"
      ],
      "text/latex": [
       "\\begin{enumerate*}\n",
       "\\item 'MUNICIPALI'\n",
       "\\item 'NUM'\n",
       "\\item 'ADM'\n",
       "\\item 'ID'\n",
       "\\item 'nofarms\\_07'\n",
       "\\item 'nofarms\\_02'\n",
       "\\item 'cuerdas\\_07'\n",
       "\\item 'cuerdas\\_02'\n",
       "\\item 'area'\n",
       "\\item 'popden'\n",
       "\\end{enumerate*}\n"
      ],
      "text/markdown": [
       "1. 'MUNICIPALI'\n",
       "2. 'NUM'\n",
       "3. 'ADM'\n",
       "4. 'ID'\n",
       "5. 'nofarms_07'\n",
       "6. 'nofarms_02'\n",
       "7. 'cuerdas_07'\n",
       "8. 'cuerdas_02'\n",
       "9. 'area'\n",
       "10. 'popden'\n",
       "\n",
       "\n"
      ],
      "text/plain": [
       " [1] \"MUNICIPALI\" \"NUM\"        \"ADM\"        \"ID\"         \"nofarms_07\"\n",
       " [6] \"nofarms_02\" \"cuerdas_07\" \"cuerdas_02\" \"area\"       \"popden\"    "
      ]
     },
     "metadata": {},
     "output_type": "display_data"
    }
   ],
   "source": [
    "names(ppolys@data)"
   ]
  },
  {
   "cell_type": "code",
   "execution_count": 23,
   "metadata": {},
   "outputs": [
    {
     "data": {
      "text/html": [
       "<ol class=list-inline>\n",
       "\t<li>ISABELA</li>\n",
       "\t<li>AGUADILLA</li>\n",
       "\t<li>HATILLO</li>\n",
       "\t<li>CAMUY</li>\n",
       "\t<li>VEGA-BAJA</li>\n",
       "\t<li>QUEBRADILLAS</li>\n",
       "\t<li>VEGA-ALTA</li>\n",
       "\t<li>DORADO</li>\n",
       "\t<li>MOCA</li>\n",
       "\t<li>CAROLINA</li>\n",
       "\t<li>RIO-GRANDE</li>\n",
       "\t<li>TOA-ALTA</li>\n",
       "\t<li>SAN-SEBASTIAN</li>\n",
       "\t<li>LUQUILLO</li>\n",
       "\t<li>TRUJILLO-ALTO</li>\n",
       "\t<li>MOROVIS</li>\n",
       "\t<li>COROZAL</li>\n",
       "\t<li>LARES</li>\n",
       "\t<li>NARANJITO</li>\n",
       "\t<li>ANASCO</li>\n",
       "</ol>\n"
      ],
      "text/latex": [
       "\\begin{enumerate*}\n",
       "\\item ISABELA\n",
       "\\item AGUADILLA\n",
       "\\item HATILLO\n",
       "\\item CAMUY\n",
       "\\item VEGA-BAJA\n",
       "\\item QUEBRADILLAS\n",
       "\\item VEGA-ALTA\n",
       "\\item DORADO\n",
       "\\item MOCA\n",
       "\\item CAROLINA\n",
       "\\item RIO-GRANDE\n",
       "\\item TOA-ALTA\n",
       "\\item SAN-SEBASTIAN\n",
       "\\item LUQUILLO\n",
       "\\item TRUJILLO-ALTO\n",
       "\\item MOROVIS\n",
       "\\item COROZAL\n",
       "\\item LARES\n",
       "\\item NARANJITO\n",
       "\\item ANASCO\n",
       "\\end{enumerate*}\n"
      ],
      "text/markdown": [
       "1. ISABELA\n",
       "2. AGUADILLA\n",
       "3. HATILLO\n",
       "4. CAMUY\n",
       "5. VEGA-BAJA\n",
       "6. QUEBRADILLAS\n",
       "7. VEGA-ALTA\n",
       "8. DORADO\n",
       "9. MOCA\n",
       "10. CAROLINA\n",
       "11. RIO-GRANDE\n",
       "12. TOA-ALTA\n",
       "13. SAN-SEBASTIAN\n",
       "14. LUQUILLO\n",
       "15. TRUJILLO-ALTO\n",
       "16. MOROVIS\n",
       "17. COROZAL\n",
       "18. LARES\n",
       "19. NARANJITO\n",
       "20. ANASCO\n",
       "\n",
       "\n"
      ],
      "text/plain": [
       " [1] ISABELA       AGUADILLA     HATILLO       CAMUY         VEGA-BAJA    \n",
       " [6] QUEBRADILLAS  VEGA-ALTA     DORADO        MOCA          CAROLINA     \n",
       "[11] RIO-GRANDE    TOA-ALTA      SAN-SEBASTIAN LUQUILLO      TRUJILLO-ALTO\n",
       "[16] MOROVIS       COROZAL       LARES         NARANJITO     ANASCO       \n",
       "73 Levels: ADJUNTAS AGUADA AGUADILLA AGUAS-BUENAS AIBONITO ANASCO ... YAUCO"
      ]
     },
     "metadata": {},
     "output_type": "display_data"
    }
   ],
   "source": [
    "ppolys@data$MUNICIPALI[0:20]"
   ]
  },
  {
   "cell_type": "code",
   "execution_count": 24,
   "metadata": {},
   "outputs": [],
   "source": [
    "FeatA <- ppolys[ppolys@data$MUNICIPALI %in% selAreas, ]"
   ]
  },
  {
   "cell_type": "markdown",
   "metadata": {},
   "source": [
    "### Plot and label features\n",
    "\n",
    "In order to position the labels of the areas, the gCentroid() function (rgdal library) can be used to obtain the centroids of each polygon and the coordinates() function can be used to extract the x and y coordinates repectively."
   ]
  },
  {
   "cell_type": "code",
   "execution_count": 9,
   "metadata": {
    "collapsed": true
   },
   "outputs": [],
   "source": [
    "# get the centroids of the polygons\n",
    "centroids <- gCentroid(ppolys, byid = TRUE)\n",
    "centroidLons <- coordinates(centroids)[, 1]\n",
    "centroidLats <- coordinates(centroids)[, 2]"
   ]
  },
  {
   "cell_type": "code",
   "execution_count": 11,
   "metadata": {},
   "outputs": [
    {
     "data": {
      "text/plain": [
       "SpatialPoints:\n",
       "          x       y\n",
       "0  76740.21 2044797\n",
       "1  64576.34 2046107\n",
       "2  98768.65 2039977\n",
       "3  92014.22 2041032\n",
       "4 141015.92 2041279\n",
       "Coordinate Reference System (CRS) arguments: +proj=utm +zone=20\n",
       "+ellps=clrk66 +units=m +no_defs "
      ]
     },
     "metadata": {},
     "output_type": "display_data"
    }
   ],
   "source": [
    "centroids[0:5]"
   ]
  },
  {
   "cell_type": "code",
   "execution_count": 12,
   "metadata": {},
   "outputs": [
    {
     "data": {
      "text/html": [
       "<dl class=dl-horizontal>\n",
       "\t<dt>0</dt>\n",
       "\t\t<dd>76740.20960267</dd>\n",
       "\t<dt>1</dt>\n",
       "\t\t<dd>64576.33787328</dd>\n",
       "\t<dt>2</dt>\n",
       "\t\t<dd>98768.64785472</dd>\n",
       "\t<dt>3</dt>\n",
       "\t\t<dd>92014.22299746</dd>\n",
       "\t<dt>4</dt>\n",
       "\t\t<dd>141015.91629186</dd>\n",
       "</dl>\n"
      ],
      "text/latex": [
       "\\begin{description*}\n",
       "\\item[0] 76740.20960267\n",
       "\\item[1] 64576.33787328\n",
       "\\item[2] 98768.64785472\n",
       "\\item[3] 92014.22299746\n",
       "\\item[4] 141015.91629186\n",
       "\\end{description*}\n"
      ],
      "text/markdown": [
       "0\n",
       ":   76740.209602671\n",
       ":   64576.337873282\n",
       ":   98768.647854723\n",
       ":   92014.222997464\n",
       ":   141015.91629186\n",
       "\n"
      ],
      "text/plain": [
       "        0         1         2         3         4 \n",
       " 76740.21  64576.34  98768.65  92014.22 141015.92 "
      ]
     },
     "metadata": {},
     "output_type": "display_data"
    }
   ],
   "source": [
    "centroidLons[0:5]"
   ]
  },
  {
   "cell_type": "code",
   "execution_count": 13,
   "metadata": {},
   "outputs": [
    {
     "data": {
      "text/html": [
       "<dl class=dl-horizontal>\n",
       "\t<dt>0</dt>\n",
       "\t\t<dd>2044796.76731357</dd>\n",
       "\t<dt>1</dt>\n",
       "\t\t<dd>2046107.05013489</dd>\n",
       "\t<dt>2</dt>\n",
       "\t\t<dd>2039977.14276341</dd>\n",
       "\t<dt>3</dt>\n",
       "\t\t<dd>2041031.95263562</dd>\n",
       "\t<dt>4</dt>\n",
       "\t\t<dd>2041278.68527771</dd>\n",
       "</dl>\n"
      ],
      "text/latex": [
       "\\begin{description*}\n",
       "\\item[0] 2044796.76731357\n",
       "\\item[1] 2046107.05013489\n",
       "\\item[2] 2039977.14276341\n",
       "\\item[3] 2041031.95263562\n",
       "\\item[4] 2041278.68527771\n",
       "\\end{description*}\n"
      ],
      "text/markdown": [
       "0\n",
       ":   2044796.767313571\n",
       ":   2046107.050134892\n",
       ":   2039977.142763413\n",
       ":   2041031.952635624\n",
       ":   2041278.68527771\n",
       "\n"
      ],
      "text/plain": [
       "      0       1       2       3       4 \n",
       "2044797 2046107 2039977 2041032 2041279 "
      ]
     },
     "metadata": {},
     "output_type": "display_data"
    }
   ],
   "source": [
    "centroidLats[0:5]"
   ]
  },
  {
   "cell_type": "code",
   "execution_count": 14,
   "metadata": {},
   "outputs": [
    {
     "data": {
      "image/png": "[encoded data removed]",
      "text/plain": [
       "Plot with title \"Selected Areas\""
      ]
     },
     "metadata": {},
     "output_type": "display_data"
    }
   ],
   "source": [
    "# display selected features\n",
    "\n",
    "plot(ppolys, col = \"yellow\", main = \"Selected Areas\", cex.main = 0.8)\n",
    "plot(FeatA, col = \"red\", add = TRUE)\n",
    "\n",
    "# add labels to map\n",
    "text(centroidLons, centroidLats, labels = ppolys$MUNICIPALI, cex = 0.4)"
   ]
  },
  {
   "cell_type": "markdown",
   "metadata": {},
   "source": [
    "Identify a geometric union that exists among the three selected features. This can be accomplished using the gUnaryUnion() function (rgeos library). In the example below, the union of the four areas is two single polygons outlined in red. One polygon is created for the three adjacent areas while the second polygon represents the non-adjacent area. See the rgeos library documentation for other ways of assessing a union given different input types."
   ]
  },
  {
   "cell_type": "code",
   "execution_count": 26,
   "metadata": {
    "collapsed": true
   },
   "outputs": [],
   "source": [
    "# geometric union\n",
    "FeatA.union <- gUnaryUnion(FeatA)"
   ]
  },
  {
   "cell_type": "code",
   "execution_count": 30,
   "metadata": {},
   "outputs": [
    {
     "data": {
      "image/png": "[encoded data removed]",
      "text/plain": [
       "Plot with title \"Union of selected features\""
      ]
     },
     "metadata": {},
     "output_type": "display_data"
    }
   ],
   "source": [
    "# display selected features and their union\n",
    "plot(FeatA, col = \"yellow\", main = \"Union of selected features\", cex.main = 0.8)\n",
    "plot(FeatA.union, border = \"red\", add = TRUE)"
   ]
  },
  {
   "cell_type": "markdown",
   "metadata": {},
   "source": [
    "## Containment\n",
    "\n",
    "Geometric comparisons can also be made among features.  One important type of comparison is assessment of containment - i.e. does one feature contain another. To demonstrate this using the gContains() function (rgeos library) let's assess whether or not 'PENUELAS' is one of the areas within the union just created (it's not).\n",
    "\n",
    "Then let's try and test if 'BARRANQUITAS' is within the union."
   ]
  },
  {
   "cell_type": "code",
   "execution_count": 32,
   "metadata": {},
   "outputs": [
    {
     "data": {
      "text/html": [
       "FALSE"
      ],
      "text/latex": [
       "FALSE"
      ],
      "text/markdown": [
       "FALSE"
      ],
      "text/plain": [
       "[1] FALSE"
      ]
     },
     "metadata": {},
     "output_type": "display_data"
    }
   ],
   "source": [
    "# assess containment in the union\n",
    "doesContain <- gContains(FeatA.union, ppolys[ppolys@data$MUNICIPALI == \"PENUELAS\", ])\n",
    "doesContain"
   ]
  },
  {
   "cell_type": "code",
   "execution_count": 33,
   "metadata": {},
   "outputs": [
    {
     "data": {
      "text/html": [
       "TRUE"
      ],
      "text/latex": [
       "TRUE"
      ],
      "text/markdown": [
       "TRUE"
      ],
      "text/plain": [
       "[1] TRUE"
      ]
     },
     "metadata": {},
     "output_type": "display_data"
    }
   ],
   "source": [
    "# assesss containment within the union\n",
    "doesContain <- gContains(FeatA.union, ppolys[ppolys@data$MUNICIPALI == \"BARRANQUITAS\", ])\n",
    "doesContain"
   ]
  },
  {
   "cell_type": "markdown",
   "metadata": {},
   "source": [
    "## Intersection\n",
    "\n",
    "Another important type of vector operation is the geometric intersection among features. In some cases, we may want to compute the actual geometric intersection of a set of features.  In others, we may simply want to test if features may intersect.\n",
    "\n",
    "First, lets compute the geometric intersection of Barranquitas and Aibonito. This can be done using the gIntersection() function (rgeos library). The result of a geometric intersection is a new feature or set of features."
   ]
  },
  {
   "cell_type": "code",
   "execution_count": 35,
   "metadata": {},
   "outputs": [
    {
     "data": {
      "image/png": "[encoded data removed]",
      "text/plain": [
       "Plot with title \"Intersection of selected areas\""
      ]
     },
     "metadata": {},
     "output_type": "display_data"
    }
   ],
   "source": [
    "# compute geometric intersection\n",
    "interPolys <- gIntersection(ppolys[ppolys@data$MUNICIPALI == \"BARRANQUITAS\",], ppolys[ppolys@data$MUNICIPALI == \"AIBONITO\",])\n",
    "\n",
    "plot(ppolys[ppolys@data$MUNICIPALI %in% c(\"BARRANQUITAS\", \"AIBONITO\"),], \n",
    "             border = \"red\", \n",
    "             main = \"Intersection of selected areas\", \n",
    "             cex.main = 0.8)\n",
    "\n",
    "plot(interPolys, col = \"yellow\", add = TRUE)"
   ]
  },
  {
   "cell_type": "markdown",
   "metadata": {},
   "source": [
    "To just test if a set of features intersect, the gIntersect() function (rgeos library) can be applied. \n",
    "\n",
    "The code below tests for intersection of Barranquitas and Aibonito. Then it tests for intersection of Barranquitas and Jayuya."
   ]
  },
  {
   "cell_type": "code",
   "execution_count": 37,
   "metadata": {},
   "outputs": [
    {
     "data": {
      "text/html": [
       "TRUE"
      ],
      "text/latex": [
       "TRUE"
      ],
      "text/markdown": [
       "TRUE"
      ],
      "text/plain": [
       "[1] TRUE"
      ]
     },
     "metadata": {},
     "output_type": "display_data"
    }
   ],
   "source": [
    "# assess if features intersect\n",
    "doesIntersect <- gIntersects(ppolys[ppolys@data$MUNICIPALI == \"BARRANQUITAS\",], \n",
    "                                ppolys[ppolys@data$MUNICIPALI == \"AIBONITO\",])\n",
    "\n",
    "doesIntersect"
   ]
  },
  {
   "cell_type": "code",
   "execution_count": 40,
   "metadata": {},
   "outputs": [
    {
     "data": {
      "text/html": [
       "FALSE"
      ],
      "text/latex": [
       "FALSE"
      ],
      "text/markdown": [
       "FALSE"
      ],
      "text/plain": [
       "[1] FALSE"
      ]
     },
     "metadata": {},
     "output_type": "display_data"
    }
   ],
   "source": [
    "# assess if features intersect\n",
    "doesIntersect <- gIntersects(ppolys[ppolys@data$MUNICIPALI == \"BARRANQUITAS\", ], \n",
    "                               ppolys[ppolys@data$MUNICIPALI == \"JAYUYA\",])\n",
    "\n",
    "doesIntersect"
   ]
  },
  {
   "cell_type": "markdown",
   "metadata": {},
   "source": [
    "## Symmetric Difference\n",
    "\n",
    "Provided two sets of features, another vector operation is to compute their symmetric difference. In this sense, the symmetric difference is the elements of one set that are not shared with the other set. The gSymdifference() function (rgeos library) can be used to do this.  To illustrate this concept, let's compute the symmetric difference between the administrative areas and the union of four areas that was created earlier."
   ]
  },
  {
   "cell_type": "code",
   "execution_count": 42,
   "metadata": {},
   "outputs": [
    {
     "data": {
      "image/png": "[encoded data removed]",
      "text/plain": [
       "Plot with title \"Symmetric difference of selected areas\""
      ]
     },
     "metadata": {},
     "output_type": "display_data"
    }
   ],
   "source": [
    "# symmetric difference\n",
    "sym <- gSymdifference(ppolys, FeatA.union)\n",
    "\n",
    "# plot the symmetric difference\n",
    "plot(ppolys, border = \"red\", main = \"Symmetric difference of selected areas\", cex.main = 0.8)\n",
    "plot(sym, col = \"yellow\", add = TRUE)"
   ]
  },
  {
   "cell_type": "code",
   "execution_count": null,
   "metadata": {
    "collapsed": true
   },
   "outputs": [],
   "source": []
  }
 ],
 "metadata": {
  "kernelspec": {
   "display_name": "R",
   "language": "R",
   "name": "ir"
  },
  "language_info": {
   "codemirror_mode": "r",
   "file_extension": ".r",
   "mimetype": "text/x-r-source",
   "name": "R",
   "pygments_lexer": "r",
   "version": "3.4.1"
  }
 },
 "nbformat": 4,
 "nbformat_minor": 2
}
